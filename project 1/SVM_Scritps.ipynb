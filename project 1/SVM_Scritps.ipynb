{
 "cells": [
  {
   "cell_type": "code",
   "execution_count": 1,
   "id": "initial_id",
   "metadata": {
    "collapsed": true,
    "ExecuteTime": {
     "end_time": "2023-10-07T17:57:54.437666Z",
     "start_time": "2023-10-07T17:57:54.426755Z"
    },
    "pycharm": {
     "name": "#%%\n"
    }
   },
   "outputs": [],
   "source": [
    "import pandas as pd"
   ]
  },
  {
   "cell_type": "code",
   "execution_count": 2,
   "outputs": [
    {
     "data": {
      "text/plain": "     Unnamed: 0  category     1     2    3    4      5    6    7\n0             0         0  58.0   0.0  0.0  1.0    1.0  0.0  0.0\n1             1         0  58.0   0.0  0.0  1.0    1.0  0.0  0.0\n2             2         0  51.0   1.0  0.0  1.0    9.0  0.0  0.0\n3             3         0  51.0   1.0  0.0  1.0    9.0  0.0  0.0\n4             4         0  50.0   0.0  0.0  1.0  110.0  0.0  3.0\n..          ...       ...   ...   ...  ...  ...    ...  ...  ...\n351         351         1  58.0   0.0  0.0  1.0    1.0  0.0  0.0\n352         352         0  58.0   0.0  0.0  1.0    1.0  0.0  0.0\n353         353         0  58.0   0.0  0.0  1.0    1.0  0.0  0.0\n354         354         0  46.0  26.0  1.0  1.0   21.0  0.0  0.0\n355         355         0  46.0  26.0  1.0  1.0   21.0  0.0  0.0\n\n[356 rows x 9 columns]",
      "text/html": "<div>\n<style scoped>\n    .dataframe tbody tr th:only-of-type {\n        vertical-align: middle;\n    }\n\n    .dataframe tbody tr th {\n        vertical-align: top;\n    }\n\n    .dataframe thead th {\n        text-align: right;\n    }\n</style>\n<table border=\"1\" class=\"dataframe\">\n  <thead>\n    <tr style=\"text-align: right;\">\n      <th></th>\n      <th>Unnamed: 0</th>\n      <th>category</th>\n      <th>1</th>\n      <th>2</th>\n      <th>3</th>\n      <th>4</th>\n      <th>5</th>\n      <th>6</th>\n      <th>7</th>\n    </tr>\n  </thead>\n  <tbody>\n    <tr>\n      <th>0</th>\n      <td>0</td>\n      <td>0</td>\n      <td>58.0</td>\n      <td>0.0</td>\n      <td>0.0</td>\n      <td>1.0</td>\n      <td>1.0</td>\n      <td>0.0</td>\n      <td>0.0</td>\n    </tr>\n    <tr>\n      <th>1</th>\n      <td>1</td>\n      <td>0</td>\n      <td>58.0</td>\n      <td>0.0</td>\n      <td>0.0</td>\n      <td>1.0</td>\n      <td>1.0</td>\n      <td>0.0</td>\n      <td>0.0</td>\n    </tr>\n    <tr>\n      <th>2</th>\n      <td>2</td>\n      <td>0</td>\n      <td>51.0</td>\n      <td>1.0</td>\n      <td>0.0</td>\n      <td>1.0</td>\n      <td>9.0</td>\n      <td>0.0</td>\n      <td>0.0</td>\n    </tr>\n    <tr>\n      <th>3</th>\n      <td>3</td>\n      <td>0</td>\n      <td>51.0</td>\n      <td>1.0</td>\n      <td>0.0</td>\n      <td>1.0</td>\n      <td>9.0</td>\n      <td>0.0</td>\n      <td>0.0</td>\n    </tr>\n    <tr>\n      <th>4</th>\n      <td>4</td>\n      <td>0</td>\n      <td>50.0</td>\n      <td>0.0</td>\n      <td>0.0</td>\n      <td>1.0</td>\n      <td>110.0</td>\n      <td>0.0</td>\n      <td>3.0</td>\n    </tr>\n    <tr>\n      <th>...</th>\n      <td>...</td>\n      <td>...</td>\n      <td>...</td>\n      <td>...</td>\n      <td>...</td>\n      <td>...</td>\n      <td>...</td>\n      <td>...</td>\n      <td>...</td>\n    </tr>\n    <tr>\n      <th>351</th>\n      <td>351</td>\n      <td>1</td>\n      <td>58.0</td>\n      <td>0.0</td>\n      <td>0.0</td>\n      <td>1.0</td>\n      <td>1.0</td>\n      <td>0.0</td>\n      <td>0.0</td>\n    </tr>\n    <tr>\n      <th>352</th>\n      <td>352</td>\n      <td>0</td>\n      <td>58.0</td>\n      <td>0.0</td>\n      <td>0.0</td>\n      <td>1.0</td>\n      <td>1.0</td>\n      <td>0.0</td>\n      <td>0.0</td>\n    </tr>\n    <tr>\n      <th>353</th>\n      <td>353</td>\n      <td>0</td>\n      <td>58.0</td>\n      <td>0.0</td>\n      <td>0.0</td>\n      <td>1.0</td>\n      <td>1.0</td>\n      <td>0.0</td>\n      <td>0.0</td>\n    </tr>\n    <tr>\n      <th>354</th>\n      <td>354</td>\n      <td>0</td>\n      <td>46.0</td>\n      <td>26.0</td>\n      <td>1.0</td>\n      <td>1.0</td>\n      <td>21.0</td>\n      <td>0.0</td>\n      <td>0.0</td>\n    </tr>\n    <tr>\n      <th>355</th>\n      <td>355</td>\n      <td>0</td>\n      <td>46.0</td>\n      <td>26.0</td>\n      <td>1.0</td>\n      <td>1.0</td>\n      <td>21.0</td>\n      <td>0.0</td>\n      <td>0.0</td>\n    </tr>\n  </tbody>\n</table>\n<p>356 rows × 9 columns</p>\n</div>"
     },
     "execution_count": 2,
     "metadata": {},
     "output_type": "execute_result"
    }
   ],
   "source": [
    "data = pd.read_csv(\"class_data_scrs.csv\")\n",
    "data"
   ],
   "metadata": {
    "collapsed": false,
    "ExecuteTime": {
     "end_time": "2023-10-07T17:57:54.601496Z",
     "start_time": "2023-10-07T17:57:54.587232Z"
    },
    "pycharm": {
     "name": "#%%\n"
    }
   },
   "id": "93fb4e0b8827305e"
  },
  {
   "cell_type": "code",
   "execution_count": 3,
   "outputs": [],
   "source": [
    "predictors = data.drop([\"Unnamed: 0\", \"category\"], axis=1)"
   ],
   "metadata": {
    "collapsed": false,
    "ExecuteTime": {
     "end_time": "2023-10-07T17:57:54.756698Z",
     "start_time": "2023-10-07T17:57:54.754129Z"
    },
    "pycharm": {
     "name": "#%%\n"
    }
   },
   "id": "40f8c26b2ee80342"
  },
  {
   "cell_type": "code",
   "execution_count": 4,
   "outputs": [],
   "source": [
    "target = data[\"category\"]"
   ],
   "metadata": {
    "collapsed": false,
    "ExecuteTime": {
     "end_time": "2023-10-07T17:57:54.861331Z",
     "start_time": "2023-10-07T17:57:54.858294Z"
    },
    "pycharm": {
     "name": "#%%\n"
    }
   },
   "id": "cfd2d373091eb9ca"
  },
  {
   "cell_type": "code",
   "execution_count": 5,
   "outputs": [
    {
     "data": {
      "text/plain": "array([[<Axes: title={'center': '1'}>, <Axes: title={'center': '2'}>,\n        <Axes: title={'center': '3'}>],\n       [<Axes: title={'center': '4'}>, <Axes: title={'center': '5'}>,\n        <Axes: title={'center': '6'}>],\n       [<Axes: title={'center': '7'}>, <Axes: >, <Axes: >]], dtype=object)"
     },
     "execution_count": 5,
     "metadata": {},
     "output_type": "execute_result"
    },
    {
     "data": {
      "text/plain": "<Figure size 640x480 with 9 Axes>",
      "image/png": "[encoded data removed]"
     },
     "metadata": {},
     "output_type": "display_data"
    }
   ],
   "source": [
    "predictors.hist()"
   ],
   "metadata": {
    "collapsed": false,
    "ExecuteTime": {
     "end_time": "2023-10-07T17:57:55.390218Z",
     "start_time": "2023-10-07T17:57:55.021043Z"
    },
    "pycharm": {
     "name": "#%%\n"
    }
   },
   "id": "5d1a62e28cdbe9d4"
  },
  {
   "cell_type": "code",
   "execution_count": 6,
   "outputs": [
    {
     "data": {
      "text/plain": "                  1           2           3           4           5  \\\ncount  3.560000e+02  356.000000  356.000000  356.000000  356.000000   \nmean   7.329749e+04   17.640449    0.567416    3.460674   38.640449   \nstd    6.131056e+05   56.540101    3.661517   13.714231  112.707548   \nmin    2.100000e+01    0.000000    0.000000    0.000000    0.000000   \n25%    4.800000e+01    0.000000    0.000000    1.000000    0.000000   \n50%    5.750000e+01    1.000000    0.000000    1.000000    2.000000   \n75%    5.800000e+01    6.000000    0.000000    1.000000   12.000000   \nmax    7.742508e+06  472.000000   43.000000  159.000000  977.000000   \n\n                 6           7  \ncount   356.000000  356.000000  \nmean     39.971910    2.528090  \nstd     278.089284   10.399989  \nmin       0.000000    0.000000  \n25%       0.000000    0.000000  \n50%       0.000000    0.000000  \n75%       0.000000    1.000000  \nmax    3431.000000  109.000000  ",
      "text/html": "<div>\n<style scoped>\n    .dataframe tbody tr th:only-of-type {\n        vertical-align: middle;\n    }\n\n    .dataframe tbody tr th {\n        vertical-align: top;\n    }\n\n    .dataframe thead th {\n        text-align: right;\n    }\n</style>\n<table border=\"1\" class=\"dataframe\">\n  <thead>\n    <tr style=\"text-align: right;\">\n      <th></th>\n      <th>1</th>\n      <th>2</th>\n      <th>3</th>\n      <th>4</th>\n      <th>5</th>\n      <th>6</th>\n      <th>7</th>\n    </tr>\n  </thead>\n  <tbody>\n    <tr>\n      <th>count</th>\n      <td>3.560000e+02</td>\n      <td>356.000000</td>\n      <td>356.000000</td>\n      <td>356.000000</td>\n      <td>356.000000</td>\n      <td>356.000000</td>\n      <td>356.000000</td>\n    </tr>\n    <tr>\n      <th>mean</th>\n      <td>7.329749e+04</td>\n      <td>17.640449</td>\n      <td>0.567416</td>\n      <td>3.460674</td>\n      <td>38.640449</td>\n      <td>39.971910</td>\n      <td>2.528090</td>\n    </tr>\n    <tr>\n      <th>std</th>\n      <td>6.131056e+05</td>\n      <td>56.540101</td>\n      <td>3.661517</td>\n      <td>13.714231</td>\n      <td>112.707548</td>\n      <td>278.089284</td>\n      <td>10.399989</td>\n    </tr>\n    <tr>\n      <th>min</th>\n      <td>2.100000e+01</td>\n      <td>0.000000</td>\n      <td>0.000000</td>\n      <td>0.000000</td>\n      <td>0.000000</td>\n      <td>0.000000</td>\n      <td>0.000000</td>\n    </tr>\n    <tr>\n      <th>25%</th>\n      <td>4.800000e+01</td>\n      <td>0.000000</td>\n      <td>0.000000</td>\n      <td>1.000000</td>\n      <td>0.000000</td>\n      <td>0.000000</td>\n      <td>0.000000</td>\n    </tr>\n    <tr>\n      <th>50%</th>\n      <td>5.750000e+01</td>\n      <td>1.000000</td>\n      <td>0.000000</td>\n      <td>1.000000</td>\n      <td>2.000000</td>\n      <td>0.000000</td>\n      <td>0.000000</td>\n    </tr>\n    <tr>\n      <th>75%</th>\n      <td>5.800000e+01</td>\n      <td>6.000000</td>\n      <td>0.000000</td>\n      <td>1.000000</td>\n      <td>12.000000</td>\n      <td>0.000000</td>\n      <td>1.000000</td>\n    </tr>\n    <tr>\n      <th>max</th>\n      <td>7.742508e+06</td>\n      <td>472.000000</td>\n      <td>43.000000</td>\n      <td>159.000000</td>\n      <td>977.000000</td>\n      <td>3431.000000</td>\n      <td>109.000000</td>\n    </tr>\n  </tbody>\n</table>\n</div>"
     },
     "execution_count": 6,
     "metadata": {},
     "output_type": "execute_result"
    }
   ],
   "source": [
    "predictors.describe()"
   ],
   "metadata": {
    "collapsed": false,
    "ExecuteTime": {
     "end_time": "2023-10-07T17:57:55.420724Z",
     "start_time": "2023-10-07T17:57:55.400805Z"
    },
    "pycharm": {
     "name": "#%%\n"
    }
   },
   "id": "185250fe547e075b"
  },
  {
   "cell_type": "code",
   "execution_count": 7,
   "outputs": [
    {
     "data": {
      "text/plain": "array([[<Axes: title={'center': '1'}>, <Axes: title={'center': '2'}>,\n        <Axes: title={'center': '3'}>],\n       [<Axes: title={'center': '4'}>, <Axes: title={'center': '5'}>,\n        <Axes: title={'center': '6'}>],\n       [<Axes: title={'center': '7'}>, <Axes: >, <Axes: >]], dtype=object)"
     },
     "execution_count": 7,
     "metadata": {},
     "output_type": "execute_result"
    },
    {
     "data": {
      "text/plain": "<Figure size 640x480 with 9 Axes>",
      "image/png": "[encoded data removed]"
     },
     "metadata": {},
     "output_type": "display_data"
    }
   ],
   "source": [
    "predictors.hist(bins=20)"
   ],
   "metadata": {
    "collapsed": false,
    "ExecuteTime": {
     "end_time": "2023-10-07T17:57:55.793483Z",
     "start_time": "2023-10-07T17:57:55.410509Z"
    },
    "pycharm": {
     "name": "#%%\n"
    }
   },
   "id": "7d8db83c3cdf081"
  },
  {
   "cell_type": "code",
   "execution_count": 8,
   "outputs": [
    {
     "data": {
      "text/plain": "<Axes: >"
     },
     "execution_count": 8,
     "metadata": {},
     "output_type": "execute_result"
    },
    {
     "data": {
      "text/plain": "<Figure size 640x480 with 1 Axes>",
      "image/png": "[encoded data removed]"
     },
     "metadata": {},
     "output_type": "display_data"
    }
   ],
   "source": [
    "target.hist()"
   ],
   "metadata": {
    "collapsed": false,
    "ExecuteTime": {
     "end_time": "2023-10-07T17:57:55.882141Z",
     "start_time": "2023-10-07T17:57:55.809220Z"
    },
    "pycharm": {
     "name": "#%%\n"
    }
   },
   "id": "fcced04be922e9d"
  },
  {
   "cell_type": "code",
   "execution_count": 9,
   "outputs": [],
   "source": [
    "from sklearn.model_selection import train_test_split\n",
    "\n",
    "X_train, X_test, y_train, y_test = train_test_split(predictors, target,\n",
    "                                                    test_size=0.2, random_state=0)"
   ],
   "metadata": {
    "collapsed": false,
    "ExecuteTime": {
     "end_time": "2023-10-07T17:57:57.240002Z",
     "start_time": "2023-10-07T17:57:57.137342Z"
    },
    "pycharm": {
     "name": "#%%\n"
    }
   },
   "id": "c2ffb62831f92202"
  },
  {
   "cell_type": "code",
   "execution_count": 10,
   "outputs": [
    {
     "name": "stderr",
     "output_type": "stream",
     "text": [
      "/Users/adiaz/anaconda3/lib/python3.11/site-packages/sklearn/linear_model/_logistic.py:460: ConvergenceWarning: lbfgs failed to converge (status=1):\n",
      "STOP: TOTAL NO. of ITERATIONS REACHED LIMIT.\n",
      "\n",
      "Increase the number of iterations (max_iter) or scale the data as shown in:\n",
      "    https://scikit-learn.org/stable/modules/preprocessing.html\n",
      "Please also refer to the documentation for alternative solver options:\n",
      "    https://scikit-learn.org/stable/modules/linear_model.html#logistic-regression\n",
      "  n_iter_i = _check_optimize_result(\n"
     ]
    },
    {
     "data": {
      "text/plain": "LogisticRegression()",
      "text/html": "<style>#sk-container-id-1 {color: black;}#sk-container-id-1 pre{padding: 0;}#sk-container-id-1 div.sk-toggleable {background-color: white;}#sk-container-id-1 label.sk-toggleable__label {cursor: pointer;display: block;width: 100%;margin-bottom: 0;padding: 0.3em;box-sizing: border-box;text-align: center;}#sk-container-id-1 label.sk-toggleable__label-arrow:before {content: \"▸\";float: left;margin-right: 0.25em;color: #696969;}#sk-container-id-1 label.sk-toggleable__label-arrow:hover:before {color: black;}#sk-container-id-1 div.sk-estimator:hover label.sk-toggleable__label-arrow:before {color: black;}#sk-container-id-1 div.sk-toggleable__content {max-height: 0;max-width: 0;overflow: hidden;text-align: left;background-color: #f0f8ff;}#sk-container-id-1 div.sk-toggleable__content pre {margin: 0.2em;color: black;border-radius: 0.25em;background-color: #f0f8ff;}#sk-container-id-1 input.sk-toggleable__control:checked~div.sk-toggleable__content {max-height: 200px;max-width: 100%;overflow: auto;}#sk-container-id-1 input.sk-toggleable__control:checked~label.sk-toggleable__label-arrow:before {content: \"▾\";}#sk-container-id-1 div.sk-estimator input.sk-toggleable__control:checked~label.sk-toggleable__label {background-color: #d4ebff;}#sk-container-id-1 div.sk-label input.sk-toggleable__control:checked~label.sk-toggleable__label {background-color: #d4ebff;}#sk-container-id-1 input.sk-hidden--visually {border: 0;clip: rect(1px 1px 1px 1px);clip: rect(1px, 1px, 1px, 1px);height: 1px;margin: -1px;overflow: hidden;padding: 0;position: absolute;width: 1px;}#sk-container-id-1 div.sk-estimator {font-family: monospace;background-color: #f0f8ff;border: 1px dotted black;border-radius: 0.25em;box-sizing: border-box;margin-bottom: 0.5em;}#sk-container-id-1 div.sk-estimator:hover {background-color: #d4ebff;}#sk-container-id-1 div.sk-parallel-item::after {content: \"\";width: 100%;border-bottom: 1px solid gray;flex-grow: 1;}#sk-container-id-1 div.sk-label:hover label.sk-toggleable__label {background-color: #d4ebff;}#sk-container-id-1 div.sk-serial::before {content: \"\";position: absolute;border-left: 1px solid gray;box-sizing: border-box;top: 0;bottom: 0;left: 50%;z-index: 0;}#sk-container-id-1 div.sk-serial {display: flex;flex-direction: column;align-items: center;background-color: white;padding-right: 0.2em;padding-left: 0.2em;position: relative;}#sk-container-id-1 div.sk-item {position: relative;z-index: 1;}#sk-container-id-1 div.sk-parallel {display: flex;align-items: stretch;justify-content: center;background-color: white;position: relative;}#sk-container-id-1 div.sk-item::before, #sk-container-id-1 div.sk-parallel-item::before {content: \"\";position: absolute;border-left: 1px solid gray;box-sizing: border-box;top: 0;bottom: 0;left: 50%;z-index: -1;}#sk-container-id-1 div.sk-parallel-item {display: flex;flex-direction: column;z-index: 1;position: relative;background-color: white;}#sk-container-id-1 div.sk-parallel-item:first-child::after {align-self: flex-end;width: 50%;}#sk-container-id-1 div.sk-parallel-item:last-child::after {align-self: flex-start;width: 50%;}#sk-container-id-1 div.sk-parallel-item:only-child::after {width: 0;}#sk-container-id-1 div.sk-dashed-wrapped {border: 1px dashed gray;margin: 0 0.4em 0.5em 0.4em;box-sizing: border-box;padding-bottom: 0.4em;background-color: white;}#sk-container-id-1 div.sk-label label {font-family: monospace;font-weight: bold;display: inline-block;line-height: 1.2em;}#sk-container-id-1 div.sk-label-container {text-align: center;}#sk-container-id-1 div.sk-container {/* jupyter's `normalize.less` sets `[hidden] { display: none; }` but bootstrap.min.css set `[hidden] { display: none !important; }` so we also need the `!important` here to be able to override the default hidden behavior on the sphinx rendered scikit-learn.org. See: https://github.com/scikit-learn/scikit-learn/issues/21755 */display: inline-block !important;position: relative;}#sk-container-id-1 div.sk-text-repr-fallback {display: none;}</style><div id=\"sk-container-id-1\" class=\"sk-top-container\"><div class=\"sk-text-repr-fallback\"><pre>LogisticRegression()</pre><b>In a Jupyter environment, please rerun this cell to show the HTML representation or trust the notebook. <br />On GitHub, the HTML representation is unable to render, please try loading this page with nbviewer.org.</b></div><div class=\"sk-container\" hidden><div class=\"sk-item\"><div class=\"sk-estimator sk-toggleable\"><input class=\"sk-toggleable__control sk-hidden--visually\" id=\"sk-estimator-id-1\" type=\"checkbox\" checked><label for=\"sk-estimator-id-1\" class=\"sk-toggleable__label sk-toggleable__label-arrow\">LogisticRegression</label><div class=\"sk-toggleable__content\"><pre>LogisticRegression()</pre></div></div></div></div></div>"
     },
     "execution_count": 10,
     "metadata": {},
     "output_type": "execute_result"
    }
   ],
   "source": [
    "from sklearn.linear_model import LogisticRegression\n",
    "clf = LogisticRegression()\n",
    "clf.fit(X_train, y_train)"
   ],
   "metadata": {
    "collapsed": false,
    "ExecuteTime": {
     "end_time": "2023-10-07T17:57:58.298436Z",
     "start_time": "2023-10-07T17:57:58.260652Z"
    },
    "pycharm": {
     "name": "#%%\n"
    }
   },
   "id": "72512d1db1f59126"
  },
  {
   "cell_type": "code",
   "execution_count": 11,
   "outputs": [
    {
     "data": {
      "text/plain": "array([3, 0, 0, 0, 3, 3, 0, 0, 0, 3, 3, 0, 3, 0, 0, 0, 0, 3, 0, 0, 3, 0,\n       3, 3, 0, 3, 3, 0, 0, 0, 0, 3, 0, 0, 0, 0, 3, 0, 0, 0, 3, 0, 0, 3,\n       0, 3, 0, 0, 0, 0, 0, 0, 0, 0, 3, 0, 3, 0, 3, 3, 0, 0, 0, 0, 3, 0,\n       0, 0, 0, 3, 0, 3])"
     },
     "execution_count": 11,
     "metadata": {},
     "output_type": "execute_result"
    }
   ],
   "source": [
    "predictions = clf.predict(X_test)\n",
    "predictions"
   ],
   "metadata": {
    "collapsed": false,
    "ExecuteTime": {
     "end_time": "2023-10-07T17:57:59.731909Z",
     "start_time": "2023-10-07T17:57:59.721474Z"
    },
    "pycharm": {
     "name": "#%%\n"
    }
   },
   "id": "977882a2fb261352"
  },
  {
   "cell_type": "code",
   "execution_count": 12,
   "outputs": [],
   "source": [
    "from sklearn.metrics import (precision_score, accuracy_score, recall_score)\n",
    "\n",
    "def get_model_metrics(actual, predicted):\n",
    "    print(\"Accuracy: %0.2f\"%(accuracy_score(actual, predicted)))\n",
    "    # print(\"Recall:  %0.2f\"%recall_score(actual, predicted))\n",
    "    # print(\"Precision:  %0.2f\"%precision_score(actual, predicted))"
   ],
   "metadata": {
    "collapsed": false,
    "ExecuteTime": {
     "end_time": "2023-10-07T17:58:00.893819Z",
     "start_time": "2023-10-07T17:58:00.884039Z"
    },
    "pycharm": {
     "name": "#%%\n"
    }
   },
   "id": "23ef4530011fbe68"
  },
  {
   "cell_type": "code",
   "execution_count": 13,
   "outputs": [
    {
     "name": "stdout",
     "output_type": "stream",
     "text": [
      "Accuracy: 0.54\n"
     ]
    }
   ],
   "source": [
    "get_model_metrics(y_test, predictions)"
   ],
   "metadata": {
    "collapsed": false,
    "ExecuteTime": {
     "end_time": "2023-10-07T17:58:02.549609Z",
     "start_time": "2023-10-07T17:58:02.539444Z"
    },
    "pycharm": {
     "name": "#%%\n"
    }
   },
   "id": "cb1dc58eb9d375f3"
  },
  {
   "cell_type": "code",
   "execution_count": 14,
   "outputs": [
    {
     "data": {
      "text/plain": "array([[35,  0,  0, 18],\n       [10,  0,  0,  2],\n       [ 1,  0,  0,  0],\n       [ 2,  0,  0,  4]])"
     },
     "execution_count": 14,
     "metadata": {},
     "output_type": "execute_result"
    }
   ],
   "source": [
    "from sklearn.metrics import confusion_matrix\n",
    "confusion_matrix(y_test, predictions)"
   ],
   "metadata": {
    "collapsed": false,
    "ExecuteTime": {
     "end_time": "2023-10-07T17:58:03.389856Z",
     "start_time": "2023-10-07T17:58:03.387064Z"
    },
    "pycharm": {
     "name": "#%%\n"
    }
   },
   "id": "d67e08a8bd76f241"
  },
  {
   "cell_type": "code",
   "execution_count": 15,
   "outputs": [
    {
     "name": "stdout",
     "output_type": "stream",
     "text": [
      "Accuracy: 0.64\n"
     ]
    },
    {
     "data": {
      "text/plain": "array([[171,   0,   0,  52],\n       [ 30,   0,   0,   8],\n       [  3,   0,   0,   2],\n       [  6,   0,   0,  12]])"
     },
     "execution_count": 15,
     "metadata": {},
     "output_type": "execute_result"
    }
   ],
   "source": [
    "predictions = clf.predict(X_train)\n",
    "get_model_metrics(y_train, predictions)\n",
    "confusion_matrix(y_train, predictions)"
   ],
   "metadata": {
    "collapsed": false,
    "ExecuteTime": {
     "end_time": "2023-10-07T17:58:03.887729Z",
     "start_time": "2023-10-07T17:58:03.876631Z"
    },
    "pycharm": {
     "name": "#%%\n"
    }
   },
   "id": "877dc28576b226c9"
  },
  {
   "cell_type": "code",
   "execution_count": 17,
   "outputs": [],
   "source": [
    "from sklearn.svm import SVC"
   ],
   "metadata": {
    "collapsed": false,
    "ExecuteTime": {
     "end_time": "2023-10-07T17:58:14.978251Z",
     "start_time": "2023-10-07T17:58:14.969445Z"
    },
    "pycharm": {
     "name": "#%%\n"
    }
   },
   "id": "a5eac220e50780cf"
  },
  {
   "cell_type": "code",
   "execution_count": 21,
   "outputs": [
    {
     "name": "stdout",
     "output_type": "stream",
     "text": [
      "Accuracy: 0.79\n",
      "Train: Using rbf None\n",
      "[[223   0   0   0]\n",
      " [ 38   0   0   0]\n",
      " [  5   0   0   0]\n",
      " [ 18   0   0   0]]\n",
      "Accuracy: 0.74\n",
      "Test: Using rbf None\n",
      "[[53  0  0  0]\n",
      " [12  0  0  0]\n",
      " [ 1  0  0  0]\n",
      " [ 6  0  0  0]]\n",
      "Accuracy: 0.79\n",
      "Train: Using poly None\n",
      "[[223   0   0   0]\n",
      " [ 38   0   0   0]\n",
      " [  5   0   0   0]\n",
      " [ 18   0   0   0]]\n",
      "Accuracy: 0.74\n",
      "Test: Using poly None\n",
      "[[53  0  0  0]\n",
      " [12  0  0  0]\n",
      " [ 1  0  0  0]\n",
      " [ 6  0  0  0]]\n",
      "Accuracy: 0.78\n",
      "Train: Using sigmoid None\n",
      "[[222   0   0   1]\n",
      " [ 38   0   0   0]\n",
      " [  5   0   0   0]\n",
      " [ 18   0   0   0]]\n",
      "Accuracy: 0.72\n",
      "Test: Using sigmoid None\n",
      "[[52  0  0  1]\n",
      " [12  0  0  0]\n",
      " [ 1  0  0  0]\n",
      " [ 6  0  0  0]]\n"
     ]
    }
   ],
   "source": [
    "kernels = ['rbf', 'poly', 'sigmoid']\n",
    "results = []\n",
    "for kernel in kernels:\n",
    "    svc = SVC(kernel=kernel)\n",
    "    svc.fit(X_train, y_train)\n",
    "    predictions = svc.predict(X_train)\n",
    "    print(\"Train: Using\", kernel, get_model_metrics(y_train, predictions))\n",
    "    print(confusion_matrix(y_train, predictions))\n",
    "    predictions = svc.predict(X_test)\n",
    "    print(\"Test: Using\", kernel, get_model_metrics(y_test, predictions))\n",
    "    print(confusion_matrix(y_test, predictions))\n"
   ],
   "metadata": {
    "collapsed": false,
    "ExecuteTime": {
     "end_time": "2023-10-07T17:59:04.644435Z",
     "start_time": "2023-10-07T17:59:04.629949Z"
    },
    "pycharm": {
     "name": "#%%\n"
    }
   },
   "id": "f212fa5bb0e0cb82"
  },
  {
   "cell_type": "code",
   "execution_count": 45,
   "outputs": [
    {
     "name": "stdout",
     "output_type": "stream",
     "text": [
      "Accuracy: 0.79\n"
     ]
    },
    {
     "data": {
      "text/plain": "array([[223,   0,   0,   0],\n       [ 38,   0,   0,   0],\n       [  5,   0,   0,   0],\n       [ 18,   0,   0,   0]])"
     },
     "execution_count": 45,
     "metadata": {},
     "output_type": "execute_result"
    }
   ],
   "source": [
    "\n",
    "predictions = svc.predict(X_train)\n",
    "get_model_metrics(y_train, predictions)\n",
    "confusion_matrix(y_train, predictions)"
   ],
   "metadata": {
    "collapsed": false,
    "ExecuteTime": {
     "end_time": "2023-10-07T17:48:13.220405Z",
     "start_time": "2023-10-07T17:48:13.207910Z"
    },
    "pycharm": {
     "name": "#%%\n"
    }
   },
   "id": "f72f93ccbf4fb800"
  },
  {
   "cell_type": "code",
   "execution_count": 47,
   "outputs": [
    {
     "name": "stdout",
     "output_type": "stream",
     "text": [
      "Accuracy: 0.74\n"
     ]
    },
    {
     "data": {
      "text/plain": "array([[53,  0,  0,  0],\n       [12,  0,  0,  0],\n       [ 1,  0,  0,  0],\n       [ 6,  0,  0,  0]])"
     },
     "execution_count": 47,
     "metadata": {},
     "output_type": "execute_result"
    }
   ],
   "source": [
    "predictions = svc.predict(X_test)\n",
    "get_model_metrics(y_test, predictions)\n",
    "confusion_matrix(y_test, predictions)"
   ],
   "metadata": {
    "collapsed": false,
    "ExecuteTime": {
     "end_time": "2023-10-07T17:49:14.736215Z",
     "start_time": "2023-10-07T17:49:14.720632Z"
    },
    "pycharm": {
     "name": "#%%\n"
    }
   },
   "id": "61336842b7a907e9"
  },
  {
   "cell_type": "code",
   "execution_count": 22,
   "outputs": [
    {
     "data": {
      "text/plain": "          1         2         3         4         5         6         7\n1  1.000000  0.092763  0.127366  0.389220  0.036633  0.161625  0.043476\n2  0.092763  1.000000  0.563790  0.617357  0.554320  0.580617  0.204936\n3  0.127366  0.563790  1.000000  0.776210  0.222227  0.817967  0.143163\n4  0.389220  0.617357  0.776210  1.000000  0.270412  0.906866  0.212301\n5  0.036633  0.554320  0.222227  0.270412  1.000000  0.235103  0.462077\n6  0.161625  0.580617  0.817967  0.906866  0.235103  1.000000  0.194273\n7  0.043476  0.204936  0.143163  0.212301  0.462077  0.194273  1.000000",
      "text/html": "<div>\n<style scoped>\n    .dataframe tbody tr th:only-of-type {\n        vertical-align: middle;\n    }\n\n    .dataframe tbody tr th {\n        vertical-align: top;\n    }\n\n    .dataframe thead th {\n        text-align: right;\n    }\n</style>\n<table border=\"1\" class=\"dataframe\">\n  <thead>\n    <tr style=\"text-align: right;\">\n      <th></th>\n      <th>1</th>\n      <th>2</th>\n      <th>3</th>\n      <th>4</th>\n      <th>5</th>\n      <th>6</th>\n      <th>7</th>\n    </tr>\n  </thead>\n  <tbody>\n    <tr>\n      <th>1</th>\n      <td>1.000000</td>\n      <td>0.092763</td>\n      <td>0.127366</td>\n      <td>0.389220</td>\n      <td>0.036633</td>\n      <td>0.161625</td>\n      <td>0.043476</td>\n    </tr>\n    <tr>\n      <th>2</th>\n      <td>0.092763</td>\n      <td>1.000000</td>\n      <td>0.563790</td>\n      <td>0.617357</td>\n      <td>0.554320</td>\n      <td>0.580617</td>\n      <td>0.204936</td>\n    </tr>\n    <tr>\n      <th>3</th>\n      <td>0.127366</td>\n      <td>0.563790</td>\n      <td>1.000000</td>\n      <td>0.776210</td>\n      <td>0.222227</td>\n      <td>0.817967</td>\n      <td>0.143163</td>\n    </tr>\n    <tr>\n      <th>4</th>\n      <td>0.389220</td>\n      <td>0.617357</td>\n      <td>0.776210</td>\n      <td>1.000000</td>\n      <td>0.270412</td>\n      <td>0.906866</td>\n      <td>0.212301</td>\n    </tr>\n    <tr>\n      <th>5</th>\n      <td>0.036633</td>\n      <td>0.554320</td>\n      <td>0.222227</td>\n      <td>0.270412</td>\n      <td>1.000000</td>\n      <td>0.235103</td>\n      <td>0.462077</td>\n    </tr>\n    <tr>\n      <th>6</th>\n      <td>0.161625</td>\n      <td>0.580617</td>\n      <td>0.817967</td>\n      <td>0.906866</td>\n      <td>0.235103</td>\n      <td>1.000000</td>\n      <td>0.194273</td>\n    </tr>\n    <tr>\n      <th>7</th>\n      <td>0.043476</td>\n      <td>0.204936</td>\n      <td>0.143163</td>\n      <td>0.212301</td>\n      <td>0.462077</td>\n      <td>0.194273</td>\n      <td>1.000000</td>\n    </tr>\n  </tbody>\n</table>\n</div>"
     },
     "execution_count": 22,
     "metadata": {},
     "output_type": "execute_result"
    }
   ],
   "source": [
    "predictors.corr()"
   ],
   "metadata": {
    "collapsed": false,
    "ExecuteTime": {
     "end_time": "2023-10-07T18:00:15.733984Z",
     "start_time": "2023-10-07T18:00:15.711440Z"
    },
    "pycharm": {
     "name": "#%%\n"
    }
   },
   "id": "5c99496e6146f01a"
  },
  {
   "cell_type": "code",
   "execution_count": null,
   "outputs": [],
   "source": [],
   "metadata": {
    "collapsed": false,
    "pycharm": {
     "name": "#%%\n"
    }
   },
   "id": "a55b5fde0f2bcaad"
  }
 ],
 "metadata": {
  "kernelspec": {
   "display_name": "Python 3",
   "language": "python",
   "name": "python3"
  },
  "language_info": {
   "codemirror_mode": {
    "name": "ipython",
    "version": 2
   },
   "file_extension": ".py",
   "mimetype": "text/x-python",
   "name": "python",
   "nbconvert_exporter": "python",
   "pygments_lexer": "ipython2",
   "version": "2.7.6"
  }
 },
 "nbformat": 4,
 "nbformat_minor": 5
}