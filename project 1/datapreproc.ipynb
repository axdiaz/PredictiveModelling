{
 "cells": [
  {
   "cell_type": "code",
   "execution_count": 1,
   "outputs": [],
   "source": [
    "import pandas as pd"
   ],
   "metadata": {
    "collapsed": false,
    "ExecuteTime": {
     "end_time": "2023-10-07T15:13:01.545450Z",
     "start_time": "2023-10-07T15:13:01.543922Z"
    }
   },
   "id": "24f0de29b3c5b227"
  },
  {
   "cell_type": "code",
   "execution_count": 2,
   "outputs": [],
   "source": [
    "df1 = pd.read_csv(\"data19 2.csv\", header=None)\n",
    "df1.columns = [\"name\", \"size\", \"grants\", \"revokes\", \"subcalls\",\"gvs\" ,\"mds\", \"loads\"];"
   ],
   "metadata": {
    "collapsed": false,
    "ExecuteTime": {
     "end_time": "2023-10-07T15:13:02.094536Z",
     "start_time": "2023-10-07T15:13:02.086009Z"
    }
   },
   "id": "bc58a309d0fd363f"
  },
  {
   "cell_type": "code",
   "execution_count": 3,
   "outputs": [
    {
     "data": {
      "text/plain": "                   name   size  grants  revokes  subcalls  gvs  mds  loads\n0    bug_29032457_apply   1806       0        0         1    1    0      0\n1           catcdbviews  17261       1        0         1    9    0      0\n2            cdcore_mig  53531       0        0         1  110    0      3\n3     bug29261906_apply   1370       0        0         1    0    0      0\n4       catappcontainer  21709       8        0         1   16    0      0\n..                  ...    ...     ...      ...       ...  ...  ...    ...\n409            prvthesh     22      12        0         1    0    0      0\n410            prvtsqlf     22       0        0         1   12    0      0\n411              prvtcr     20       1        0         1   93    0     44\n412              prvtmb     20       0        0         1    1    0     10\n413    prvtinmemadvisor     30       1        0         1   27    5     15\n\n[414 rows x 8 columns]",
      "text/html": "<div>\n<style scoped>\n    .dataframe tbody tr th:only-of-type {\n        vertical-align: middle;\n    }\n\n    .dataframe tbody tr th {\n        vertical-align: top;\n    }\n\n    .dataframe thead th {\n        text-align: right;\n    }\n</style>\n<table border=\"1\" class=\"dataframe\">\n  <thead>\n    <tr style=\"text-align: right;\">\n      <th></th>\n      <th>name</th>\n      <th>size</th>\n      <th>grants</th>\n      <th>revokes</th>\n      <th>subcalls</th>\n      <th>gvs</th>\n      <th>mds</th>\n      <th>loads</th>\n    </tr>\n  </thead>\n  <tbody>\n    <tr>\n      <th>0</th>\n      <td>bug_29032457_apply</td>\n      <td>1806</td>\n      <td>0</td>\n      <td>0</td>\n      <td>1</td>\n      <td>1</td>\n      <td>0</td>\n      <td>0</td>\n    </tr>\n    <tr>\n      <th>1</th>\n      <td>catcdbviews</td>\n      <td>17261</td>\n      <td>1</td>\n      <td>0</td>\n      <td>1</td>\n      <td>9</td>\n      <td>0</td>\n      <td>0</td>\n    </tr>\n    <tr>\n      <th>2</th>\n      <td>cdcore_mig</td>\n      <td>53531</td>\n      <td>0</td>\n      <td>0</td>\n      <td>1</td>\n      <td>110</td>\n      <td>0</td>\n      <td>3</td>\n    </tr>\n    <tr>\n      <th>3</th>\n      <td>bug29261906_apply</td>\n      <td>1370</td>\n      <td>0</td>\n      <td>0</td>\n      <td>1</td>\n      <td>0</td>\n      <td>0</td>\n      <td>0</td>\n    </tr>\n    <tr>\n      <th>4</th>\n      <td>catappcontainer</td>\n      <td>21709</td>\n      <td>8</td>\n      <td>0</td>\n      <td>1</td>\n      <td>16</td>\n      <td>0</td>\n      <td>0</td>\n    </tr>\n    <tr>\n      <th>...</th>\n      <td>...</td>\n      <td>...</td>\n      <td>...</td>\n      <td>...</td>\n      <td>...</td>\n      <td>...</td>\n      <td>...</td>\n      <td>...</td>\n    </tr>\n    <tr>\n      <th>409</th>\n      <td>prvthesh</td>\n      <td>22</td>\n      <td>12</td>\n      <td>0</td>\n      <td>1</td>\n      <td>0</td>\n      <td>0</td>\n      <td>0</td>\n    </tr>\n    <tr>\n      <th>410</th>\n      <td>prvtsqlf</td>\n      <td>22</td>\n      <td>0</td>\n      <td>0</td>\n      <td>1</td>\n      <td>12</td>\n      <td>0</td>\n      <td>0</td>\n    </tr>\n    <tr>\n      <th>411</th>\n      <td>prvtcr</td>\n      <td>20</td>\n      <td>1</td>\n      <td>0</td>\n      <td>1</td>\n      <td>93</td>\n      <td>0</td>\n      <td>44</td>\n    </tr>\n    <tr>\n      <th>412</th>\n      <td>prvtmb</td>\n      <td>20</td>\n      <td>0</td>\n      <td>0</td>\n      <td>1</td>\n      <td>1</td>\n      <td>0</td>\n      <td>10</td>\n    </tr>\n    <tr>\n      <th>413</th>\n      <td>prvtinmemadvisor</td>\n      <td>30</td>\n      <td>1</td>\n      <td>0</td>\n      <td>1</td>\n      <td>27</td>\n      <td>5</td>\n      <td>15</td>\n    </tr>\n  </tbody>\n</table>\n<p>414 rows × 8 columns</p>\n</div>"
     },
     "execution_count": 3,
     "metadata": {},
     "output_type": "execute_result"
    }
   ],
   "source": [
    "df1"
   ],
   "metadata": {
    "collapsed": false,
    "ExecuteTime": {
     "end_time": "2023-10-07T15:13:02.670680Z",
     "start_time": "2023-10-07T15:13:02.666768Z"
    }
   },
   "id": "3dfc8d65c9c9af50"
  },
  {
   "cell_type": "code",
   "execution_count": 56,
   "outputs": [],
   "source": [
    "df_times = pd.read_csv(\"times19.csv\", header=None)\n",
    "df_times.columns = [\"name\", \"time\"]"
   ],
   "metadata": {
    "collapsed": false,
    "ExecuteTime": {
     "end_time": "2023-10-07T18:19:29.071879Z",
     "start_time": "2023-10-07T18:19:29.062334Z"
    }
   },
   "id": "fd7a84963644a88c"
  },
  {
   "cell_type": "code",
   "execution_count": 57,
   "outputs": [
    {
     "data": {
      "text/plain": "                   name   time\n0    bug_29032457_apply  0.381\n1           catcdbviews  0.360\n2            cdcore_mig  0.379\n3           cdcore_cols  5.003\n4     bug29261906_apply  0.341\n..                  ...    ...\n439  bug_34496630_apply  0.352\n440  bug_35170600_apply  0.345\n441    dbmsinmemadvisor  0.359\n442    prvtinmemadvisor  0.363\n443  bug_32378953_apply  0.417\n\n[444 rows x 2 columns]",
      "text/html": "<div>\n<style scoped>\n    .dataframe tbody tr th:only-of-type {\n        vertical-align: middle;\n    }\n\n    .dataframe tbody tr th {\n        vertical-align: top;\n    }\n\n    .dataframe thead th {\n        text-align: right;\n    }\n</style>\n<table border=\"1\" class=\"dataframe\">\n  <thead>\n    <tr style=\"text-align: right;\">\n      <th></th>\n      <th>name</th>\n      <th>time</th>\n    </tr>\n  </thead>\n  <tbody>\n    <tr>\n      <th>0</th>\n      <td>bug_29032457_apply</td>\n      <td>0.381</td>\n    </tr>\n    <tr>\n      <th>1</th>\n      <td>catcdbviews</td>\n      <td>0.360</td>\n    </tr>\n    <tr>\n      <th>2</th>\n      <td>cdcore_mig</td>\n      <td>0.379</td>\n    </tr>\n    <tr>\n      <th>3</th>\n      <td>cdcore_cols</td>\n      <td>5.003</td>\n    </tr>\n    <tr>\n      <th>4</th>\n      <td>bug29261906_apply</td>\n      <td>0.341</td>\n    </tr>\n    <tr>\n      <th>...</th>\n      <td>...</td>\n      <td>...</td>\n    </tr>\n    <tr>\n      <th>439</th>\n      <td>bug_34496630_apply</td>\n      <td>0.352</td>\n    </tr>\n    <tr>\n      <th>440</th>\n      <td>bug_35170600_apply</td>\n      <td>0.345</td>\n    </tr>\n    <tr>\n      <th>441</th>\n      <td>dbmsinmemadvisor</td>\n      <td>0.359</td>\n    </tr>\n    <tr>\n      <th>442</th>\n      <td>prvtinmemadvisor</td>\n      <td>0.363</td>\n    </tr>\n    <tr>\n      <th>443</th>\n      <td>bug_32378953_apply</td>\n      <td>0.417</td>\n    </tr>\n  </tbody>\n</table>\n<p>444 rows × 2 columns</p>\n</div>"
     },
     "execution_count": 57,
     "metadata": {},
     "output_type": "execute_result"
    }
   ],
   "source": [
    "df_times"
   ],
   "metadata": {
    "collapsed": false,
    "ExecuteTime": {
     "end_time": "2023-10-07T18:19:34.307395Z",
     "start_time": "2023-10-07T18:19:34.296257Z"
    }
   },
   "id": "404b6dff2efc7569"
  },
  {
   "cell_type": "code",
   "execution_count": 7,
   "outputs": [],
   "source": [
    "df = df2.merge(df1, on='name', how='inner')"
   ],
   "metadata": {
    "collapsed": false,
    "ExecuteTime": {
     "end_time": "2023-10-07T15:13:21.963109Z",
     "start_time": "2023-10-07T15:13:21.959369Z"
    }
   },
   "id": "49a9d761c3d047f8"
  },
  {
   "cell_type": "code",
   "execution_count": 8,
   "outputs": [
    {
     "data": {
      "text/plain": "                   name   time   size  grants  revokes  subcalls  gvs  mds  \\\n0    bug_29032457_apply  0.381   1806       0        0         1    1    0   \n1           catcdbviews  0.360  17261       1        0         1    9    0   \n2            cdcore_mig  0.379  53531       0        0         1  110    0   \n3     bug29261906_apply  0.341   1370       0        0         1    0    0   \n4       catappcontainer  0.592  21709       8        0         1   16    0   \n..                  ...    ...    ...     ...      ...       ...  ...  ...   \n409  bug_34496630_apply  0.352   1625       0        0         1    1    0   \n410  bug_35170600_apply  0.345   1128       0        0         1    1    0   \n411    dbmsinmemadvisor  0.359   4568       1        0         1    0    0   \n412    prvtinmemadvisor  0.363     30       1        0         1   27    5   \n413  bug_32378953_apply  0.417   6735       0        0         1    6    0   \n\n     loads  \n0        0  \n1        0  \n2        3  \n3        0  \n4        0  \n..     ...  \n409      0  \n410      0  \n411      3  \n412     15  \n413      2  \n\n[414 rows x 9 columns]",
      "text/html": "<div>\n<style scoped>\n    .dataframe tbody tr th:only-of-type {\n        vertical-align: middle;\n    }\n\n    .dataframe tbody tr th {\n        vertical-align: top;\n    }\n\n    .dataframe thead th {\n        text-align: right;\n    }\n</style>\n<table border=\"1\" class=\"dataframe\">\n  <thead>\n    <tr style=\"text-align: right;\">\n      <th></th>\n      <th>name</th>\n      <th>time</th>\n      <th>size</th>\n      <th>grants</th>\n      <th>revokes</th>\n      <th>subcalls</th>\n      <th>gvs</th>\n      <th>mds</th>\n      <th>loads</th>\n    </tr>\n  </thead>\n  <tbody>\n    <tr>\n      <th>0</th>\n      <td>bug_29032457_apply</td>\n      <td>0.381</td>\n      <td>1806</td>\n      <td>0</td>\n      <td>0</td>\n      <td>1</td>\n      <td>1</td>\n      <td>0</td>\n      <td>0</td>\n    </tr>\n    <tr>\n      <th>1</th>\n      <td>catcdbviews</td>\n      <td>0.360</td>\n      <td>17261</td>\n      <td>1</td>\n      <td>0</td>\n      <td>1</td>\n      <td>9</td>\n      <td>0</td>\n      <td>0</td>\n    </tr>\n    <tr>\n      <th>2</th>\n      <td>cdcore_mig</td>\n      <td>0.379</td>\n      <td>53531</td>\n      <td>0</td>\n      <td>0</td>\n      <td>1</td>\n      <td>110</td>\n      <td>0</td>\n      <td>3</td>\n    </tr>\n    <tr>\n      <th>3</th>\n      <td>bug29261906_apply</td>\n      <td>0.341</td>\n      <td>1370</td>\n      <td>0</td>\n      <td>0</td>\n      <td>1</td>\n      <td>0</td>\n      <td>0</td>\n      <td>0</td>\n    </tr>\n    <tr>\n      <th>4</th>\n      <td>catappcontainer</td>\n      <td>0.592</td>\n      <td>21709</td>\n      <td>8</td>\n      <td>0</td>\n      <td>1</td>\n      <td>16</td>\n      <td>0</td>\n      <td>0</td>\n    </tr>\n    <tr>\n      <th>...</th>\n      <td>...</td>\n      <td>...</td>\n      <td>...</td>\n      <td>...</td>\n      <td>...</td>\n      <td>...</td>\n      <td>...</td>\n      <td>...</td>\n      <td>...</td>\n    </tr>\n    <tr>\n      <th>409</th>\n      <td>bug_34496630_apply</td>\n      <td>0.352</td>\n      <td>1625</td>\n      <td>0</td>\n      <td>0</td>\n      <td>1</td>\n      <td>1</td>\n      <td>0</td>\n      <td>0</td>\n    </tr>\n    <tr>\n      <th>410</th>\n      <td>bug_35170600_apply</td>\n      <td>0.345</td>\n      <td>1128</td>\n      <td>0</td>\n      <td>0</td>\n      <td>1</td>\n      <td>1</td>\n      <td>0</td>\n      <td>0</td>\n    </tr>\n    <tr>\n      <th>411</th>\n      <td>dbmsinmemadvisor</td>\n      <td>0.359</td>\n      <td>4568</td>\n      <td>1</td>\n      <td>0</td>\n      <td>1</td>\n      <td>0</td>\n      <td>0</td>\n      <td>3</td>\n    </tr>\n    <tr>\n      <th>412</th>\n      <td>prvtinmemadvisor</td>\n      <td>0.363</td>\n      <td>30</td>\n      <td>1</td>\n      <td>0</td>\n      <td>1</td>\n      <td>27</td>\n      <td>5</td>\n      <td>15</td>\n    </tr>\n    <tr>\n      <th>413</th>\n      <td>bug_32378953_apply</td>\n      <td>0.417</td>\n      <td>6735</td>\n      <td>0</td>\n      <td>0</td>\n      <td>1</td>\n      <td>6</td>\n      <td>0</td>\n      <td>2</td>\n    </tr>\n  </tbody>\n</table>\n<p>414 rows × 9 columns</p>\n</div>"
     },
     "execution_count": 8,
     "metadata": {},
     "output_type": "execute_result"
    }
   ],
   "source": [
    "df"
   ],
   "metadata": {
    "collapsed": false,
    "ExecuteTime": {
     "end_time": "2023-10-07T15:13:23.315408Z",
     "start_time": "2023-10-07T15:13:23.299558Z"
    }
   },
   "id": "4099b8905e8bd2e0"
  },
  {
   "cell_type": "code",
   "execution_count": 14,
   "outputs": [
    {
     "data": {
      "text/plain": "                      name  category\n0       bug_29032457_apply         0\n1    bug_29032457_rollback         0\n2              catcdbviews         0\n3               cdcore_mig         0\n4              cdcore_cols         0\n..                     ...       ...\n410  bug_31639082_rollback         0\n411               prvtesch         0\n412     bug_32440681_apply         0\n413                 catqos         0\n414                prvtwlm         0\n\n[415 rows x 2 columns]",
      "text/html": "<div>\n<style scoped>\n    .dataframe tbody tr th:only-of-type {\n        vertical-align: middle;\n    }\n\n    .dataframe tbody tr th {\n        vertical-align: top;\n    }\n\n    .dataframe thead th {\n        text-align: right;\n    }\n</style>\n<table border=\"1\" class=\"dataframe\">\n  <thead>\n    <tr style=\"text-align: right;\">\n      <th></th>\n      <th>name</th>\n      <th>category</th>\n    </tr>\n  </thead>\n  <tbody>\n    <tr>\n      <th>0</th>\n      <td>bug_29032457_apply</td>\n      <td>0</td>\n    </tr>\n    <tr>\n      <th>1</th>\n      <td>bug_29032457_rollback</td>\n      <td>0</td>\n    </tr>\n    <tr>\n      <th>2</th>\n      <td>catcdbviews</td>\n      <td>0</td>\n    </tr>\n    <tr>\n      <th>3</th>\n      <td>cdcore_mig</td>\n      <td>0</td>\n    </tr>\n    <tr>\n      <th>4</th>\n      <td>cdcore_cols</td>\n      <td>0</td>\n    </tr>\n    <tr>\n      <th>...</th>\n      <td>...</td>\n      <td>...</td>\n    </tr>\n    <tr>\n      <th>410</th>\n      <td>bug_31639082_rollback</td>\n      <td>0</td>\n    </tr>\n    <tr>\n      <th>411</th>\n      <td>prvtesch</td>\n      <td>0</td>\n    </tr>\n    <tr>\n      <th>412</th>\n      <td>bug_32440681_apply</td>\n      <td>0</td>\n    </tr>\n    <tr>\n      <th>413</th>\n      <td>catqos</td>\n      <td>0</td>\n    </tr>\n    <tr>\n      <th>414</th>\n      <td>prvtwlm</td>\n      <td>0</td>\n    </tr>\n  </tbody>\n</table>\n<p>415 rows × 2 columns</p>\n</div>"
     },
     "execution_count": 14,
     "metadata": {},
     "output_type": "execute_result"
    }
   ],
   "source": [
    "df_cats = pd.read_csv(\"data_with_categories.csv\")[[\"0\",\"category\"]]\n",
    "df_cats.columns = [\"name\", \"category\"]\n",
    "df_cats"
   ],
   "metadata": {
    "collapsed": false,
    "ExecuteTime": {
     "end_time": "2023-10-07T15:16:29.704775Z",
     "start_time": "2023-10-07T15:16:29.695147Z"
    }
   },
   "id": "d5198e948e76bafb"
  },
  {
   "cell_type": "code",
   "execution_count": 17,
   "outputs": [
    {
     "ename": "TypeError",
     "evalue": "merge() missing 1 required positional argument: 'right'",
     "output_type": "error",
     "traceback": [
      "\u001B[0;31m---------------------------------------------------------------------------\u001B[0m",
      "\u001B[0;31mTypeError\u001B[0m                                 Traceback (most recent call last)",
      "Cell \u001B[0;32mIn[17], line 1\u001B[0m\n\u001B[0;32m----> 1\u001B[0m df_actual \u001B[38;5;241m=\u001B[39m pd\u001B[38;5;241m.\u001B[39mmerge(df, on\u001B[38;5;241m=\u001B[39m\u001B[38;5;124m'\u001B[39m\u001B[38;5;124mname\u001B[39m\u001B[38;5;124m'\u001B[39m, how\u001B[38;5;241m=\u001B[39m\u001B[38;5;124m'\u001B[39m\u001B[38;5;124mright\u001B[39m\u001B[38;5;124m'\u001B[39m)\n",
      "\u001B[0;31mTypeError\u001B[0m: merge() missing 1 required positional argument: 'right'"
     ]
    }
   ],
   "source": [
    "df_actual = pd.merge(df, on='name', how='right')"
   ],
   "metadata": {
    "collapsed": false,
    "ExecuteTime": {
     "end_time": "2023-10-07T15:16:51.421536Z",
     "start_time": "2023-10-07T15:16:51.409551Z"
    }
   },
   "id": "8123e44e9fdb84a1"
  },
  {
   "cell_type": "code",
   "execution_count": 19,
   "outputs": [
    {
     "data": {
      "text/plain": "                      0        1     2    3    4      5     6    7\n0    bug_29032457_apply     58.0   0.0  0.0  1.0    1.0   0.0  0.0\n1           catcdbviews     51.0   1.0  0.0  1.0    9.0   0.0  0.0\n2            cdcore_mig     50.0   0.0  0.0  1.0  110.0   0.0  3.0\n3           cdcore_cols     51.0  36.0  0.0  1.0   78.0   0.0  0.0\n4     bug29261906_apply     57.0   0.0  0.0  1.0    0.0   0.0  0.0\n..                  ...      ...   ...  ...  ...    ...   ...  ...\n235         srid1005714  17509.0   1.0  1.0  0.0   27.0  47.0  0.0\n236  bug_34496630_apply     58.0   0.0  0.0  1.0    1.0   0.0  0.0\n237  bug_35170600_apply     58.0   0.0  0.0  1.0    1.0   0.0  0.0\n238    dbmsinmemadvisor     56.0   1.0  0.0  1.0    0.0   0.0  3.0\n239  bug_32378953_apply     58.0   0.0  0.0  1.0    6.0   0.0  2.0\n\n[240 rows x 8 columns]",
      "text/html": "<div>\n<style scoped>\n    .dataframe tbody tr th:only-of-type {\n        vertical-align: middle;\n    }\n\n    .dataframe tbody tr th {\n        vertical-align: top;\n    }\n\n    .dataframe thead th {\n        text-align: right;\n    }\n</style>\n<table border=\"1\" class=\"dataframe\">\n  <thead>\n    <tr style=\"text-align: right;\">\n      <th></th>\n      <th>0</th>\n      <th>1</th>\n      <th>2</th>\n      <th>3</th>\n      <th>4</th>\n      <th>5</th>\n      <th>6</th>\n      <th>7</th>\n    </tr>\n  </thead>\n  <tbody>\n    <tr>\n      <th>0</th>\n      <td>bug_29032457_apply</td>\n      <td>58.0</td>\n      <td>0.0</td>\n      <td>0.0</td>\n      <td>1.0</td>\n      <td>1.0</td>\n      <td>0.0</td>\n      <td>0.0</td>\n    </tr>\n    <tr>\n      <th>1</th>\n      <td>catcdbviews</td>\n      <td>51.0</td>\n      <td>1.0</td>\n      <td>0.0</td>\n      <td>1.0</td>\n      <td>9.0</td>\n      <td>0.0</td>\n      <td>0.0</td>\n    </tr>\n    <tr>\n      <th>2</th>\n      <td>cdcore_mig</td>\n      <td>50.0</td>\n      <td>0.0</td>\n      <td>0.0</td>\n      <td>1.0</td>\n      <td>110.0</td>\n      <td>0.0</td>\n      <td>3.0</td>\n    </tr>\n    <tr>\n      <th>3</th>\n      <td>cdcore_cols</td>\n      <td>51.0</td>\n      <td>36.0</td>\n      <td>0.0</td>\n      <td>1.0</td>\n      <td>78.0</td>\n      <td>0.0</td>\n      <td>0.0</td>\n    </tr>\n    <tr>\n      <th>4</th>\n      <td>bug29261906_apply</td>\n      <td>57.0</td>\n      <td>0.0</td>\n      <td>0.0</td>\n      <td>1.0</td>\n      <td>0.0</td>\n      <td>0.0</td>\n      <td>0.0</td>\n    </tr>\n    <tr>\n      <th>...</th>\n      <td>...</td>\n      <td>...</td>\n      <td>...</td>\n      <td>...</td>\n      <td>...</td>\n      <td>...</td>\n      <td>...</td>\n      <td>...</td>\n    </tr>\n    <tr>\n      <th>235</th>\n      <td>srid1005714</td>\n      <td>17509.0</td>\n      <td>1.0</td>\n      <td>1.0</td>\n      <td>0.0</td>\n      <td>27.0</td>\n      <td>47.0</td>\n      <td>0.0</td>\n    </tr>\n    <tr>\n      <th>236</th>\n      <td>bug_34496630_apply</td>\n      <td>58.0</td>\n      <td>0.0</td>\n      <td>0.0</td>\n      <td>1.0</td>\n      <td>1.0</td>\n      <td>0.0</td>\n      <td>0.0</td>\n    </tr>\n    <tr>\n      <th>237</th>\n      <td>bug_35170600_apply</td>\n      <td>58.0</td>\n      <td>0.0</td>\n      <td>0.0</td>\n      <td>1.0</td>\n      <td>1.0</td>\n      <td>0.0</td>\n      <td>0.0</td>\n    </tr>\n    <tr>\n      <th>238</th>\n      <td>dbmsinmemadvisor</td>\n      <td>56.0</td>\n      <td>1.0</td>\n      <td>0.0</td>\n      <td>1.0</td>\n      <td>0.0</td>\n      <td>0.0</td>\n      <td>3.0</td>\n    </tr>\n    <tr>\n      <th>239</th>\n      <td>bug_32378953_apply</td>\n      <td>58.0</td>\n      <td>0.0</td>\n      <td>0.0</td>\n      <td>1.0</td>\n      <td>6.0</td>\n      <td>0.0</td>\n      <td>2.0</td>\n    </tr>\n  </tbody>\n</table>\n<p>240 rows × 8 columns</p>\n</div>"
     },
     "execution_count": 19,
     "metadata": {},
     "output_type": "execute_result"
    }
   ],
   "source": [
    "df = pd.read_csv(\"data19sqls.csv\", header=None)\n",
    "df"
   ],
   "metadata": {
    "collapsed": false,
    "ExecuteTime": {
     "end_time": "2023-10-07T17:08:22.257698Z",
     "start_time": "2023-10-07T17:08:22.243824Z"
    }
   },
   "id": "165fde910bbc1782"
  },
  {
   "cell_type": "code",
   "execution_count": 20,
   "outputs": [
    {
     "data": {
      "text/plain": "                      0        1     2    3    4      5     6    7\n0    bug_29032457_apply     58.0   0.0  0.0  1.0    1.0   0.0  0.0\n1           catcdbviews     51.0   1.0  0.0  1.0    9.0   0.0  0.0\n2            cdcore_mig     50.0   0.0  0.0  1.0  110.0   0.0  3.0\n3           cdcore_cols     51.0  36.0  0.0  1.0   78.0   0.0  0.0\n4     bug29261906_apply     57.0   0.0  0.0  1.0    0.0   0.0  0.0\n..                  ...      ...   ...  ...  ...    ...   ...  ...\n235         srid1005714  17509.0   1.0  1.0  0.0   27.0  47.0  0.0\n236  bug_34496630_apply     58.0   0.0  0.0  1.0    1.0   0.0  0.0\n237  bug_35170600_apply     58.0   0.0  0.0  1.0    1.0   0.0  0.0\n238    dbmsinmemadvisor     56.0   1.0  0.0  1.0    0.0   0.0  3.0\n239  bug_32378953_apply     58.0   0.0  0.0  1.0    6.0   0.0  2.0\n\n[240 rows x 8 columns]",
      "text/html": "<div>\n<style scoped>\n    .dataframe tbody tr th:only-of-type {\n        vertical-align: middle;\n    }\n\n    .dataframe tbody tr th {\n        vertical-align: top;\n    }\n\n    .dataframe thead th {\n        text-align: right;\n    }\n</style>\n<table border=\"1\" class=\"dataframe\">\n  <thead>\n    <tr style=\"text-align: right;\">\n      <th></th>\n      <th>0</th>\n      <th>1</th>\n      <th>2</th>\n      <th>3</th>\n      <th>4</th>\n      <th>5</th>\n      <th>6</th>\n      <th>7</th>\n    </tr>\n  </thead>\n  <tbody>\n    <tr>\n      <th>0</th>\n      <td>bug_29032457_apply</td>\n      <td>58.0</td>\n      <td>0.0</td>\n      <td>0.0</td>\n      <td>1.0</td>\n      <td>1.0</td>\n      <td>0.0</td>\n      <td>0.0</td>\n    </tr>\n    <tr>\n      <th>1</th>\n      <td>catcdbviews</td>\n      <td>51.0</td>\n      <td>1.0</td>\n      <td>0.0</td>\n      <td>1.0</td>\n      <td>9.0</td>\n      <td>0.0</td>\n      <td>0.0</td>\n    </tr>\n    <tr>\n      <th>2</th>\n      <td>cdcore_mig</td>\n      <td>50.0</td>\n      <td>0.0</td>\n      <td>0.0</td>\n      <td>1.0</td>\n      <td>110.0</td>\n      <td>0.0</td>\n      <td>3.0</td>\n    </tr>\n    <tr>\n      <th>3</th>\n      <td>cdcore_cols</td>\n      <td>51.0</td>\n      <td>36.0</td>\n      <td>0.0</td>\n      <td>1.0</td>\n      <td>78.0</td>\n      <td>0.0</td>\n      <td>0.0</td>\n    </tr>\n    <tr>\n      <th>4</th>\n      <td>bug29261906_apply</td>\n      <td>57.0</td>\n      <td>0.0</td>\n      <td>0.0</td>\n      <td>1.0</td>\n      <td>0.0</td>\n      <td>0.0</td>\n      <td>0.0</td>\n    </tr>\n    <tr>\n      <th>...</th>\n      <td>...</td>\n      <td>...</td>\n      <td>...</td>\n      <td>...</td>\n      <td>...</td>\n      <td>...</td>\n      <td>...</td>\n      <td>...</td>\n    </tr>\n    <tr>\n      <th>235</th>\n      <td>srid1005714</td>\n      <td>17509.0</td>\n      <td>1.0</td>\n      <td>1.0</td>\n      <td>0.0</td>\n      <td>27.0</td>\n      <td>47.0</td>\n      <td>0.0</td>\n    </tr>\n    <tr>\n      <th>236</th>\n      <td>bug_34496630_apply</td>\n      <td>58.0</td>\n      <td>0.0</td>\n      <td>0.0</td>\n      <td>1.0</td>\n      <td>1.0</td>\n      <td>0.0</td>\n      <td>0.0</td>\n    </tr>\n    <tr>\n      <th>237</th>\n      <td>bug_35170600_apply</td>\n      <td>58.0</td>\n      <td>0.0</td>\n      <td>0.0</td>\n      <td>1.0</td>\n      <td>1.0</td>\n      <td>0.0</td>\n      <td>0.0</td>\n    </tr>\n    <tr>\n      <th>238</th>\n      <td>dbmsinmemadvisor</td>\n      <td>56.0</td>\n      <td>1.0</td>\n      <td>0.0</td>\n      <td>1.0</td>\n      <td>0.0</td>\n      <td>0.0</td>\n      <td>3.0</td>\n    </tr>\n    <tr>\n      <th>239</th>\n      <td>bug_32378953_apply</td>\n      <td>58.0</td>\n      <td>0.0</td>\n      <td>0.0</td>\n      <td>1.0</td>\n      <td>6.0</td>\n      <td>0.0</td>\n      <td>2.0</td>\n    </tr>\n  </tbody>\n</table>\n<p>240 rows × 8 columns</p>\n</div>"
     },
     "execution_count": 20,
     "metadata": {},
     "output_type": "execute_result"
    }
   ],
   "source": [
    "dfsql = pd.read_csv(\"data19sqls.csv\", header=None)\n",
    "dfsql"
   ],
   "metadata": {
    "collapsed": false,
    "ExecuteTime": {
     "end_time": "2023-10-07T17:08:45.478507Z",
     "start_time": "2023-10-07T17:08:45.457551Z"
    }
   },
   "id": "d81c27658bcf8e1e"
  },
  {
   "cell_type": "code",
   "execution_count": 21,
   "outputs": [],
   "source": [
    "con_df = pd.concat([df, dfsql], axis=0)"
   ],
   "metadata": {
    "collapsed": false,
    "ExecuteTime": {
     "end_time": "2023-10-07T17:09:44.156837Z",
     "start_time": "2023-10-07T17:09:44.140953Z"
    }
   },
   "id": "8196dc0f26d75c1a"
  },
  {
   "cell_type": "code",
   "execution_count": 22,
   "outputs": [
    {
     "data": {
      "text/plain": "                      0        1     2    3    4      5     6    7\n0    bug_29032457_apply     58.0   0.0  0.0  1.0    1.0   0.0  0.0\n1           catcdbviews     51.0   1.0  0.0  1.0    9.0   0.0  0.0\n2            cdcore_mig     50.0   0.0  0.0  1.0  110.0   0.0  3.0\n3           cdcore_cols     51.0  36.0  0.0  1.0   78.0   0.0  0.0\n4     bug29261906_apply     57.0   0.0  0.0  1.0    0.0   0.0  0.0\n..                  ...      ...   ...  ...  ...    ...   ...  ...\n235         srid1005714  17509.0   1.0  1.0  0.0   27.0  47.0  0.0\n236  bug_34496630_apply     58.0   0.0  0.0  1.0    1.0   0.0  0.0\n237  bug_35170600_apply     58.0   0.0  0.0  1.0    1.0   0.0  0.0\n238    dbmsinmemadvisor     56.0   1.0  0.0  1.0    0.0   0.0  3.0\n239  bug_32378953_apply     58.0   0.0  0.0  1.0    6.0   0.0  2.0\n\n[480 rows x 8 columns]",
      "text/html": "<div>\n<style scoped>\n    .dataframe tbody tr th:only-of-type {\n        vertical-align: middle;\n    }\n\n    .dataframe tbody tr th {\n        vertical-align: top;\n    }\n\n    .dataframe thead th {\n        text-align: right;\n    }\n</style>\n<table border=\"1\" class=\"dataframe\">\n  <thead>\n    <tr style=\"text-align: right;\">\n      <th></th>\n      <th>0</th>\n      <th>1</th>\n      <th>2</th>\n      <th>3</th>\n      <th>4</th>\n      <th>5</th>\n      <th>6</th>\n      <th>7</th>\n    </tr>\n  </thead>\n  <tbody>\n    <tr>\n      <th>0</th>\n      <td>bug_29032457_apply</td>\n      <td>58.0</td>\n      <td>0.0</td>\n      <td>0.0</td>\n      <td>1.0</td>\n      <td>1.0</td>\n      <td>0.0</td>\n      <td>0.0</td>\n    </tr>\n    <tr>\n      <th>1</th>\n      <td>catcdbviews</td>\n      <td>51.0</td>\n      <td>1.0</td>\n      <td>0.0</td>\n      <td>1.0</td>\n      <td>9.0</td>\n      <td>0.0</td>\n      <td>0.0</td>\n    </tr>\n    <tr>\n      <th>2</th>\n      <td>cdcore_mig</td>\n      <td>50.0</td>\n      <td>0.0</td>\n      <td>0.0</td>\n      <td>1.0</td>\n      <td>110.0</td>\n      <td>0.0</td>\n      <td>3.0</td>\n    </tr>\n    <tr>\n      <th>3</th>\n      <td>cdcore_cols</td>\n      <td>51.0</td>\n      <td>36.0</td>\n      <td>0.0</td>\n      <td>1.0</td>\n      <td>78.0</td>\n      <td>0.0</td>\n      <td>0.0</td>\n    </tr>\n    <tr>\n      <th>4</th>\n      <td>bug29261906_apply</td>\n      <td>57.0</td>\n      <td>0.0</td>\n      <td>0.0</td>\n      <td>1.0</td>\n      <td>0.0</td>\n      <td>0.0</td>\n      <td>0.0</td>\n    </tr>\n    <tr>\n      <th>...</th>\n      <td>...</td>\n      <td>...</td>\n      <td>...</td>\n      <td>...</td>\n      <td>...</td>\n      <td>...</td>\n      <td>...</td>\n      <td>...</td>\n    </tr>\n    <tr>\n      <th>235</th>\n      <td>srid1005714</td>\n      <td>17509.0</td>\n      <td>1.0</td>\n      <td>1.0</td>\n      <td>0.0</td>\n      <td>27.0</td>\n      <td>47.0</td>\n      <td>0.0</td>\n    </tr>\n    <tr>\n      <th>236</th>\n      <td>bug_34496630_apply</td>\n      <td>58.0</td>\n      <td>0.0</td>\n      <td>0.0</td>\n      <td>1.0</td>\n      <td>1.0</td>\n      <td>0.0</td>\n      <td>0.0</td>\n    </tr>\n    <tr>\n      <th>237</th>\n      <td>bug_35170600_apply</td>\n      <td>58.0</td>\n      <td>0.0</td>\n      <td>0.0</td>\n      <td>1.0</td>\n      <td>1.0</td>\n      <td>0.0</td>\n      <td>0.0</td>\n    </tr>\n    <tr>\n      <th>238</th>\n      <td>dbmsinmemadvisor</td>\n      <td>56.0</td>\n      <td>1.0</td>\n      <td>0.0</td>\n      <td>1.0</td>\n      <td>0.0</td>\n      <td>0.0</td>\n      <td>3.0</td>\n    </tr>\n    <tr>\n      <th>239</th>\n      <td>bug_32378953_apply</td>\n      <td>58.0</td>\n      <td>0.0</td>\n      <td>0.0</td>\n      <td>1.0</td>\n      <td>6.0</td>\n      <td>0.0</td>\n      <td>2.0</td>\n    </tr>\n  </tbody>\n</table>\n<p>480 rows × 8 columns</p>\n</div>"
     },
     "execution_count": 22,
     "metadata": {},
     "output_type": "execute_result"
    }
   ],
   "source": [
    "con_df"
   ],
   "metadata": {
    "collapsed": false,
    "ExecuteTime": {
     "end_time": "2023-10-07T17:09:46.831919Z",
     "start_time": "2023-10-07T17:09:46.822353Z"
    }
   },
   "id": "fa9f26f0a1a3af24"
  },
  {
   "cell_type": "code",
   "execution_count": 23,
   "outputs": [
    {
     "data": {
      "text/plain": "                      name  category\n0       bug_29032457_apply         0\n1    bug_29032457_rollback         0\n2              catcdbviews         0\n3               cdcore_mig         0\n4              cdcore_cols         0\n..                     ...       ...\n410  bug_31639082_rollback         0\n411               prvtesch         0\n412     bug_32440681_apply         0\n413                 catqos         0\n414                prvtwlm         0\n\n[415 rows x 2 columns]",
      "text/html": "<div>\n<style scoped>\n    .dataframe tbody tr th:only-of-type {\n        vertical-align: middle;\n    }\n\n    .dataframe tbody tr th {\n        vertical-align: top;\n    }\n\n    .dataframe thead th {\n        text-align: right;\n    }\n</style>\n<table border=\"1\" class=\"dataframe\">\n  <thead>\n    <tr style=\"text-align: right;\">\n      <th></th>\n      <th>name</th>\n      <th>category</th>\n    </tr>\n  </thead>\n  <tbody>\n    <tr>\n      <th>0</th>\n      <td>bug_29032457_apply</td>\n      <td>0</td>\n    </tr>\n    <tr>\n      <th>1</th>\n      <td>bug_29032457_rollback</td>\n      <td>0</td>\n    </tr>\n    <tr>\n      <th>2</th>\n      <td>catcdbviews</td>\n      <td>0</td>\n    </tr>\n    <tr>\n      <th>3</th>\n      <td>cdcore_mig</td>\n      <td>0</td>\n    </tr>\n    <tr>\n      <th>4</th>\n      <td>cdcore_cols</td>\n      <td>0</td>\n    </tr>\n    <tr>\n      <th>...</th>\n      <td>...</td>\n      <td>...</td>\n    </tr>\n    <tr>\n      <th>410</th>\n      <td>bug_31639082_rollback</td>\n      <td>0</td>\n    </tr>\n    <tr>\n      <th>411</th>\n      <td>prvtesch</td>\n      <td>0</td>\n    </tr>\n    <tr>\n      <th>412</th>\n      <td>bug_32440681_apply</td>\n      <td>0</td>\n    </tr>\n    <tr>\n      <th>413</th>\n      <td>catqos</td>\n      <td>0</td>\n    </tr>\n    <tr>\n      <th>414</th>\n      <td>prvtwlm</td>\n      <td>0</td>\n    </tr>\n  </tbody>\n</table>\n<p>415 rows × 2 columns</p>\n</div>"
     },
     "execution_count": 23,
     "metadata": {},
     "output_type": "execute_result"
    }
   ],
   "source": [
    "df_cats"
   ],
   "metadata": {
    "collapsed": false,
    "ExecuteTime": {
     "end_time": "2023-10-07T17:09:55.147094Z",
     "start_time": "2023-10-07T17:09:55.139975Z"
    }
   },
   "id": "e8f55b6f2715f6e5"
  },
  {
   "cell_type": "code",
   "execution_count": 58,
   "outputs": [],
   "source": [
    "merged_df = df_cats.merge(con_df, on=\"name\", how=\"inner\")"
   ],
   "metadata": {
    "collapsed": false,
    "ExecuteTime": {
     "end_time": "2023-10-07T18:19:43.313137Z",
     "start_time": "2023-10-07T18:19:43.304084Z"
    }
   },
   "id": "9a458da9dc3e72ac"
  },
  {
   "cell_type": "code",
   "execution_count": 59,
   "outputs": [],
   "source": [
    "con_df.columns = [\"name\", \"1\",\"2\",\"3\",\"4\", \"5\", \"6\", \"7\"]"
   ],
   "metadata": {
    "collapsed": false,
    "ExecuteTime": {
     "end_time": "2023-10-07T18:19:45.715107Z",
     "start_time": "2023-10-07T18:19:45.701878Z"
    }
   },
   "id": "f672d7d48a60eda2"
  },
  {
   "cell_type": "code",
   "execution_count": 60,
   "outputs": [
    {
     "data": {
      "text/plain": "                   name        1     2    3    4      5     6    7\n0    bug_29032457_apply     58.0   0.0  0.0  1.0    1.0   0.0  0.0\n1           catcdbviews     51.0   1.0  0.0  1.0    9.0   0.0  0.0\n2            cdcore_mig     50.0   0.0  0.0  1.0  110.0   0.0  3.0\n3           cdcore_cols     51.0  36.0  0.0  1.0   78.0   0.0  0.0\n4     bug29261906_apply     57.0   0.0  0.0  1.0    0.0   0.0  0.0\n..                  ...      ...   ...  ...  ...    ...   ...  ...\n235         srid1005714  17509.0   1.0  1.0  0.0   27.0  47.0  0.0\n236  bug_34496630_apply     58.0   0.0  0.0  1.0    1.0   0.0  0.0\n237  bug_35170600_apply     58.0   0.0  0.0  1.0    1.0   0.0  0.0\n238    dbmsinmemadvisor     56.0   1.0  0.0  1.0    0.0   0.0  3.0\n239  bug_32378953_apply     58.0   0.0  0.0  1.0    6.0   0.0  2.0\n\n[480 rows x 8 columns]",
      "text/html": "<div>\n<style scoped>\n    .dataframe tbody tr th:only-of-type {\n        vertical-align: middle;\n    }\n\n    .dataframe tbody tr th {\n        vertical-align: top;\n    }\n\n    .dataframe thead th {\n        text-align: right;\n    }\n</style>\n<table border=\"1\" class=\"dataframe\">\n  <thead>\n    <tr style=\"text-align: right;\">\n      <th></th>\n      <th>name</th>\n      <th>1</th>\n      <th>2</th>\n      <th>3</th>\n      <th>4</th>\n      <th>5</th>\n      <th>6</th>\n      <th>7</th>\n    </tr>\n  </thead>\n  <tbody>\n    <tr>\n      <th>0</th>\n      <td>bug_29032457_apply</td>\n      <td>58.0</td>\n      <td>0.0</td>\n      <td>0.0</td>\n      <td>1.0</td>\n      <td>1.0</td>\n      <td>0.0</td>\n      <td>0.0</td>\n    </tr>\n    <tr>\n      <th>1</th>\n      <td>catcdbviews</td>\n      <td>51.0</td>\n      <td>1.0</td>\n      <td>0.0</td>\n      <td>1.0</td>\n      <td>9.0</td>\n      <td>0.0</td>\n      <td>0.0</td>\n    </tr>\n    <tr>\n      <th>2</th>\n      <td>cdcore_mig</td>\n      <td>50.0</td>\n      <td>0.0</td>\n      <td>0.0</td>\n      <td>1.0</td>\n      <td>110.0</td>\n      <td>0.0</td>\n      <td>3.0</td>\n    </tr>\n    <tr>\n      <th>3</th>\n      <td>cdcore_cols</td>\n      <td>51.0</td>\n      <td>36.0</td>\n      <td>0.0</td>\n      <td>1.0</td>\n      <td>78.0</td>\n      <td>0.0</td>\n      <td>0.0</td>\n    </tr>\n    <tr>\n      <th>4</th>\n      <td>bug29261906_apply</td>\n      <td>57.0</td>\n      <td>0.0</td>\n      <td>0.0</td>\n      <td>1.0</td>\n      <td>0.0</td>\n      <td>0.0</td>\n      <td>0.0</td>\n    </tr>\n    <tr>\n      <th>...</th>\n      <td>...</td>\n      <td>...</td>\n      <td>...</td>\n      <td>...</td>\n      <td>...</td>\n      <td>...</td>\n      <td>...</td>\n      <td>...</td>\n    </tr>\n    <tr>\n      <th>235</th>\n      <td>srid1005714</td>\n      <td>17509.0</td>\n      <td>1.0</td>\n      <td>1.0</td>\n      <td>0.0</td>\n      <td>27.0</td>\n      <td>47.0</td>\n      <td>0.0</td>\n    </tr>\n    <tr>\n      <th>236</th>\n      <td>bug_34496630_apply</td>\n      <td>58.0</td>\n      <td>0.0</td>\n      <td>0.0</td>\n      <td>1.0</td>\n      <td>1.0</td>\n      <td>0.0</td>\n      <td>0.0</td>\n    </tr>\n    <tr>\n      <th>237</th>\n      <td>bug_35170600_apply</td>\n      <td>58.0</td>\n      <td>0.0</td>\n      <td>0.0</td>\n      <td>1.0</td>\n      <td>1.0</td>\n      <td>0.0</td>\n      <td>0.0</td>\n    </tr>\n    <tr>\n      <th>238</th>\n      <td>dbmsinmemadvisor</td>\n      <td>56.0</td>\n      <td>1.0</td>\n      <td>0.0</td>\n      <td>1.0</td>\n      <td>0.0</td>\n      <td>0.0</td>\n      <td>3.0</td>\n    </tr>\n    <tr>\n      <th>239</th>\n      <td>bug_32378953_apply</td>\n      <td>58.0</td>\n      <td>0.0</td>\n      <td>0.0</td>\n      <td>1.0</td>\n      <td>6.0</td>\n      <td>0.0</td>\n      <td>2.0</td>\n    </tr>\n  </tbody>\n</table>\n<p>480 rows × 8 columns</p>\n</div>"
     },
     "execution_count": 60,
     "metadata": {},
     "output_type": "execute_result"
    }
   ],
   "source": [
    "con_df"
   ],
   "metadata": {
    "collapsed": false,
    "ExecuteTime": {
     "end_time": "2023-10-07T18:19:49.971022Z",
     "start_time": "2023-10-07T18:19:49.962577Z"
    }
   },
   "id": "ad2135918d0fd9ee"
  },
  {
   "cell_type": "code",
   "execution_count": 53,
   "outputs": [],
   "source": [
    "merged_df.drop(\"name\", axis=1, inplace=True)"
   ],
   "metadata": {
    "collapsed": false,
    "ExecuteTime": {
     "end_time": "2023-10-07T17:17:50.860387Z",
     "start_time": "2023-10-07T17:17:50.848716Z"
    }
   },
   "id": "ba29cac000a00f06"
  },
  {
   "cell_type": "code",
   "execution_count": 62,
   "outputs": [],
   "source": [
    "merged_df = merged_df.merge(df_times, on=\"name\", how=\"inner\")\n"
   ],
   "metadata": {
    "collapsed": false,
    "ExecuteTime": {
     "end_time": "2023-10-07T18:20:40.476622Z",
     "start_time": "2023-10-07T18:20:40.463900Z"
    }
   },
   "id": "9a900a69667efad7"
  },
  {
   "cell_type": "code",
   "execution_count": 63,
   "outputs": [
    {
     "data": {
      "text/plain": "                   name  category     1     2    3    4      5    6    7  \\\n0    bug_29032457_apply         0  58.0   0.0  0.0  1.0    1.0  0.0  0.0   \n1    bug_29032457_apply         0  58.0   0.0  0.0  1.0    1.0  0.0  0.0   \n2           catcdbviews         0  51.0   1.0  0.0  1.0    9.0  0.0  0.0   \n3           catcdbviews         0  51.0   1.0  0.0  1.0    9.0  0.0  0.0   \n4            cdcore_mig         0  50.0   0.0  0.0  1.0  110.0  0.0  3.0   \n..                  ...       ...   ...   ...  ...  ...    ...  ...  ...   \n351  bug_31639082_apply         1  58.0   0.0  0.0  1.0    1.0  0.0  0.0   \n352  bug_32440681_apply         0  58.0   0.0  0.0  1.0    1.0  0.0  0.0   \n353  bug_32440681_apply         0  58.0   0.0  0.0  1.0    1.0  0.0  0.0   \n354              catqos         0  46.0  26.0  1.0  1.0   21.0  0.0  0.0   \n355              catqos         0  46.0  26.0  1.0  1.0   21.0  0.0  0.0   \n\n      time  \n0    0.381  \n1    0.381  \n2    0.360  \n3    0.360  \n4    0.379  \n..     ...  \n351  0.374  \n352  0.352  \n353  0.352  \n354  0.688  \n355  0.688  \n\n[356 rows x 10 columns]",
      "text/html": "<div>\n<style scoped>\n    .dataframe tbody tr th:only-of-type {\n        vertical-align: middle;\n    }\n\n    .dataframe tbody tr th {\n        vertical-align: top;\n    }\n\n    .dataframe thead th {\n        text-align: right;\n    }\n</style>\n<table border=\"1\" class=\"dataframe\">\n  <thead>\n    <tr style=\"text-align: right;\">\n      <th></th>\n      <th>name</th>\n      <th>category</th>\n      <th>1</th>\n      <th>2</th>\n      <th>3</th>\n      <th>4</th>\n      <th>5</th>\n      <th>6</th>\n      <th>7</th>\n      <th>time</th>\n    </tr>\n  </thead>\n  <tbody>\n    <tr>\n      <th>0</th>\n      <td>bug_29032457_apply</td>\n      <td>0</td>\n      <td>58.0</td>\n      <td>0.0</td>\n      <td>0.0</td>\n      <td>1.0</td>\n      <td>1.0</td>\n      <td>0.0</td>\n      <td>0.0</td>\n      <td>0.381</td>\n    </tr>\n    <tr>\n      <th>1</th>\n      <td>bug_29032457_apply</td>\n      <td>0</td>\n      <td>58.0</td>\n      <td>0.0</td>\n      <td>0.0</td>\n      <td>1.0</td>\n      <td>1.0</td>\n      <td>0.0</td>\n      <td>0.0</td>\n      <td>0.381</td>\n    </tr>\n    <tr>\n      <th>2</th>\n      <td>catcdbviews</td>\n      <td>0</td>\n      <td>51.0</td>\n      <td>1.0</td>\n      <td>0.0</td>\n      <td>1.0</td>\n      <td>9.0</td>\n      <td>0.0</td>\n      <td>0.0</td>\n      <td>0.360</td>\n    </tr>\n    <tr>\n      <th>3</th>\n      <td>catcdbviews</td>\n      <td>0</td>\n      <td>51.0</td>\n      <td>1.0</td>\n      <td>0.0</td>\n      <td>1.0</td>\n      <td>9.0</td>\n      <td>0.0</td>\n      <td>0.0</td>\n      <td>0.360</td>\n    </tr>\n    <tr>\n      <th>4</th>\n      <td>cdcore_mig</td>\n      <td>0</td>\n      <td>50.0</td>\n      <td>0.0</td>\n      <td>0.0</td>\n      <td>1.0</td>\n      <td>110.0</td>\n      <td>0.0</td>\n      <td>3.0</td>\n      <td>0.379</td>\n    </tr>\n    <tr>\n      <th>...</th>\n      <td>...</td>\n      <td>...</td>\n      <td>...</td>\n      <td>...</td>\n      <td>...</td>\n      <td>...</td>\n      <td>...</td>\n      <td>...</td>\n      <td>...</td>\n      <td>...</td>\n    </tr>\n    <tr>\n      <th>351</th>\n      <td>bug_31639082_apply</td>\n      <td>1</td>\n      <td>58.0</td>\n      <td>0.0</td>\n      <td>0.0</td>\n      <td>1.0</td>\n      <td>1.0</td>\n      <td>0.0</td>\n      <td>0.0</td>\n      <td>0.374</td>\n    </tr>\n    <tr>\n      <th>352</th>\n      <td>bug_32440681_apply</td>\n      <td>0</td>\n      <td>58.0</td>\n      <td>0.0</td>\n      <td>0.0</td>\n      <td>1.0</td>\n      <td>1.0</td>\n      <td>0.0</td>\n      <td>0.0</td>\n      <td>0.352</td>\n    </tr>\n    <tr>\n      <th>353</th>\n      <td>bug_32440681_apply</td>\n      <td>0</td>\n      <td>58.0</td>\n      <td>0.0</td>\n      <td>0.0</td>\n      <td>1.0</td>\n      <td>1.0</td>\n      <td>0.0</td>\n      <td>0.0</td>\n      <td>0.352</td>\n    </tr>\n    <tr>\n      <th>354</th>\n      <td>catqos</td>\n      <td>0</td>\n      <td>46.0</td>\n      <td>26.0</td>\n      <td>1.0</td>\n      <td>1.0</td>\n      <td>21.0</td>\n      <td>0.0</td>\n      <td>0.0</td>\n      <td>0.688</td>\n    </tr>\n    <tr>\n      <th>355</th>\n      <td>catqos</td>\n      <td>0</td>\n      <td>46.0</td>\n      <td>26.0</td>\n      <td>1.0</td>\n      <td>1.0</td>\n      <td>21.0</td>\n      <td>0.0</td>\n      <td>0.0</td>\n      <td>0.688</td>\n    </tr>\n  </tbody>\n</table>\n<p>356 rows × 10 columns</p>\n</div>"
     },
     "execution_count": 63,
     "metadata": {},
     "output_type": "execute_result"
    }
   ],
   "source": [
    "merged_df"
   ],
   "metadata": {
    "collapsed": false,
    "ExecuteTime": {
     "end_time": "2023-10-07T18:20:47.806205Z",
     "start_time": "2023-10-07T18:20:47.799728Z"
    }
   },
   "id": "7396d5f7dcd6d4ac"
  },
  {
   "cell_type": "code",
   "execution_count": 64,
   "outputs": [],
   "source": [
    "merged_df.to_csv(\"class_data_scrs.csv\", index=True)"
   ],
   "metadata": {
    "collapsed": false,
    "ExecuteTime": {
     "end_time": "2023-10-07T18:20:53.870747Z",
     "start_time": "2023-10-07T18:20:53.856703Z"
    }
   },
   "id": "4fdd36996fdf6db9"
  },
  {
   "cell_type": "code",
   "execution_count": 177,
   "outputs": [],
   "source": [
    "df = pd.read_csv(\"r_data.csv\", header=None)\n",
    "dft = pd.read_csv(\"ax_times.csv\", header=None)\n",
    "dft"
   ],
   "metadata": {
    "collapsed": false,
    "ExecuteTime": {
     "end_time": "2023-10-09T03:23:57.493232Z",
     "start_time": "2023-10-09T03:23:57.468886Z"
    }
   },
   "id": "8622f37f3cb51087"
  },
  {
   "cell_type": "code",
   "execution_count": 178,
   "outputs": [
    {
     "data": {
      "text/plain": "             0   1     2   3  4    5   6\n0     a1102000  14  6039  87  2  955  23\n1     a1201000  11  5811  87  2  902  17\n2     a1202000  11   193   0  0   43   2\n3          a18   0    36   0  0    9   0\n4     addmrpti   0    23   0  0    0   0\n...        ...  ..   ...  .. ..  ...  ..\n1844  a1202000  11   193   0  0   43   2\n1845    xsutil   0    34   1  0    7   0\n1846  a1202000  11   193   0  0   43   2\n1847    xsutil   0    34   1  0    7   0\n1848  a1202000  11   193   0  0   43   2\n\n[1849 rows x 7 columns]",
      "text/html": "<div>\n<style scoped>\n    .dataframe tbody tr th:only-of-type {\n        vertical-align: middle;\n    }\n\n    .dataframe tbody tr th {\n        vertical-align: top;\n    }\n\n    .dataframe thead th {\n        text-align: right;\n    }\n</style>\n<table border=\"1\" class=\"dataframe\">\n  <thead>\n    <tr style=\"text-align: right;\">\n      <th></th>\n      <th>0</th>\n      <th>1</th>\n      <th>2</th>\n      <th>3</th>\n      <th>4</th>\n      <th>5</th>\n      <th>6</th>\n    </tr>\n  </thead>\n  <tbody>\n    <tr>\n      <th>0</th>\n      <td>a1102000</td>\n      <td>14</td>\n      <td>6039</td>\n      <td>87</td>\n      <td>2</td>\n      <td>955</td>\n      <td>23</td>\n    </tr>\n    <tr>\n      <th>1</th>\n      <td>a1201000</td>\n      <td>11</td>\n      <td>5811</td>\n      <td>87</td>\n      <td>2</td>\n      <td>902</td>\n      <td>17</td>\n    </tr>\n    <tr>\n      <th>2</th>\n      <td>a1202000</td>\n      <td>11</td>\n      <td>193</td>\n      <td>0</td>\n      <td>0</td>\n      <td>43</td>\n      <td>2</td>\n    </tr>\n    <tr>\n      <th>3</th>\n      <td>a18</td>\n      <td>0</td>\n      <td>36</td>\n      <td>0</td>\n      <td>0</td>\n      <td>9</td>\n      <td>0</td>\n    </tr>\n    <tr>\n      <th>4</th>\n      <td>addmrpti</td>\n      <td>0</td>\n      <td>23</td>\n      <td>0</td>\n      <td>0</td>\n      <td>0</td>\n      <td>0</td>\n    </tr>\n    <tr>\n      <th>...</th>\n      <td>...</td>\n      <td>...</td>\n      <td>...</td>\n      <td>...</td>\n      <td>...</td>\n      <td>...</td>\n      <td>...</td>\n    </tr>\n    <tr>\n      <th>1844</th>\n      <td>a1202000</td>\n      <td>11</td>\n      <td>193</td>\n      <td>0</td>\n      <td>0</td>\n      <td>43</td>\n      <td>2</td>\n    </tr>\n    <tr>\n      <th>1845</th>\n      <td>xsutil</td>\n      <td>0</td>\n      <td>34</td>\n      <td>1</td>\n      <td>0</td>\n      <td>7</td>\n      <td>0</td>\n    </tr>\n    <tr>\n      <th>1846</th>\n      <td>a1202000</td>\n      <td>11</td>\n      <td>193</td>\n      <td>0</td>\n      <td>0</td>\n      <td>43</td>\n      <td>2</td>\n    </tr>\n    <tr>\n      <th>1847</th>\n      <td>xsutil</td>\n      <td>0</td>\n      <td>34</td>\n      <td>1</td>\n      <td>0</td>\n      <td>7</td>\n      <td>0</td>\n    </tr>\n    <tr>\n      <th>1848</th>\n      <td>a1202000</td>\n      <td>11</td>\n      <td>193</td>\n      <td>0</td>\n      <td>0</td>\n      <td>43</td>\n      <td>2</td>\n    </tr>\n  </tbody>\n</table>\n<p>1849 rows × 7 columns</p>\n</div>"
     },
     "execution_count": 178,
     "metadata": {},
     "output_type": "execute_result"
    }
   ],
   "source": [
    "df"
   ],
   "metadata": {
    "collapsed": false,
    "ExecuteTime": {
     "end_time": "2023-10-09T03:23:57.819146Z",
     "start_time": "2023-10-09T03:23:57.803201Z"
    }
   },
   "id": "4d0e3a434c180bef"
  },
  {
   "cell_type": "code",
   "execution_count": 179,
   "outputs": [
    {
     "data": {
      "text/plain": "             0       1\n0     a1102000  44.344\n1     a1201000   8.766\n2     a1202000   1.982\n3          a18   0.488\n4     addmrpti   0.419\n...        ...     ...\n1837  prvtzexp   0.398\n1838  prvtzhlp   0.380\n1839  response   0.643\n1840   utlcoll   0.385\n1841    utlref   0.361\n\n[1842 rows x 2 columns]",
      "text/html": "<div>\n<style scoped>\n    .dataframe tbody tr th:only-of-type {\n        vertical-align: middle;\n    }\n\n    .dataframe tbody tr th {\n        vertical-align: top;\n    }\n\n    .dataframe thead th {\n        text-align: right;\n    }\n</style>\n<table border=\"1\" class=\"dataframe\">\n  <thead>\n    <tr style=\"text-align: right;\">\n      <th></th>\n      <th>0</th>\n      <th>1</th>\n    </tr>\n  </thead>\n  <tbody>\n    <tr>\n      <th>0</th>\n      <td>a1102000</td>\n      <td>44.344</td>\n    </tr>\n    <tr>\n      <th>1</th>\n      <td>a1201000</td>\n      <td>8.766</td>\n    </tr>\n    <tr>\n      <th>2</th>\n      <td>a1202000</td>\n      <td>1.982</td>\n    </tr>\n    <tr>\n      <th>3</th>\n      <td>a18</td>\n      <td>0.488</td>\n    </tr>\n    <tr>\n      <th>4</th>\n      <td>addmrpti</td>\n      <td>0.419</td>\n    </tr>\n    <tr>\n      <th>...</th>\n      <td>...</td>\n      <td>...</td>\n    </tr>\n    <tr>\n      <th>1837</th>\n      <td>prvtzexp</td>\n      <td>0.398</td>\n    </tr>\n    <tr>\n      <th>1838</th>\n      <td>prvtzhlp</td>\n      <td>0.380</td>\n    </tr>\n    <tr>\n      <th>1839</th>\n      <td>response</td>\n      <td>0.643</td>\n    </tr>\n    <tr>\n      <th>1840</th>\n      <td>utlcoll</td>\n      <td>0.385</td>\n    </tr>\n    <tr>\n      <th>1841</th>\n      <td>utlref</td>\n      <td>0.361</td>\n    </tr>\n  </tbody>\n</table>\n<p>1842 rows × 2 columns</p>\n</div>"
     },
     "execution_count": 179,
     "metadata": {},
     "output_type": "execute_result"
    }
   ],
   "source": [
    "dft = pd.read_csv(\"ax_times.csv\", header=None)\n",
    "dft"
   ],
   "metadata": {
    "collapsed": false,
    "ExecuteTime": {
     "end_time": "2023-10-09T03:23:58.366774Z",
     "start_time": "2023-10-09T03:23:58.351170Z"
    }
   },
   "id": "efbf99ff57a9b1ca"
  },
  {
   "cell_type": "code",
   "execution_count": 180,
   "outputs": [],
   "source": [
    "scripts = df.merge(dft, on=0, how=\"left\")"
   ],
   "metadata": {
    "collapsed": false,
    "ExecuteTime": {
     "end_time": "2023-10-09T03:23:59.508823Z",
     "start_time": "2023-10-09T03:23:59.484415Z"
    }
   },
   "id": "f29dee532ffb958e"
  },
  {
   "cell_type": "code",
   "execution_count": 181,
   "outputs": [
    {
     "data": {
      "text/plain": "             0  1_x     2   3  4    5   6     1_y\n0     a1102000   14  6039  87  2  955  23  44.344\n1     a1201000   11  5811  87  2  902  17   8.766\n2     a1202000   11   193   0  0   43   2   1.982\n3          a18    0    36   0  0    9   0   0.488\n4     addmrpti    0    23   0  0    0   0   0.419\n...        ...  ...   ...  .. ..  ...  ..     ...\n1844  a1202000   11   193   0  0   43   2   1.982\n1845    xsutil    0    34   1  0    7   0   0.720\n1846  a1202000   11   193   0  0   43   2   1.982\n1847    xsutil    0    34   1  0    7   0   0.720\n1848  a1202000   11   193   0  0   43   2   1.982\n\n[1849 rows x 8 columns]",
      "text/html": "<div>\n<style scoped>\n    .dataframe tbody tr th:only-of-type {\n        vertical-align: middle;\n    }\n\n    .dataframe tbody tr th {\n        vertical-align: top;\n    }\n\n    .dataframe thead th {\n        text-align: right;\n    }\n</style>\n<table border=\"1\" class=\"dataframe\">\n  <thead>\n    <tr style=\"text-align: right;\">\n      <th></th>\n      <th>0</th>\n      <th>1_x</th>\n      <th>2</th>\n      <th>3</th>\n      <th>4</th>\n      <th>5</th>\n      <th>6</th>\n      <th>1_y</th>\n    </tr>\n  </thead>\n  <tbody>\n    <tr>\n      <th>0</th>\n      <td>a1102000</td>\n      <td>14</td>\n      <td>6039</td>\n      <td>87</td>\n      <td>2</td>\n      <td>955</td>\n      <td>23</td>\n      <td>44.344</td>\n    </tr>\n    <tr>\n      <th>1</th>\n      <td>a1201000</td>\n      <td>11</td>\n      <td>5811</td>\n      <td>87</td>\n      <td>2</td>\n      <td>902</td>\n      <td>17</td>\n      <td>8.766</td>\n    </tr>\n    <tr>\n      <th>2</th>\n      <td>a1202000</td>\n      <td>11</td>\n      <td>193</td>\n      <td>0</td>\n      <td>0</td>\n      <td>43</td>\n      <td>2</td>\n      <td>1.982</td>\n    </tr>\n    <tr>\n      <th>3</th>\n      <td>a18</td>\n      <td>0</td>\n      <td>36</td>\n      <td>0</td>\n      <td>0</td>\n      <td>9</td>\n      <td>0</td>\n      <td>0.488</td>\n    </tr>\n    <tr>\n      <th>4</th>\n      <td>addmrpti</td>\n      <td>0</td>\n      <td>23</td>\n      <td>0</td>\n      <td>0</td>\n      <td>0</td>\n      <td>0</td>\n      <td>0.419</td>\n    </tr>\n    <tr>\n      <th>...</th>\n      <td>...</td>\n      <td>...</td>\n      <td>...</td>\n      <td>...</td>\n      <td>...</td>\n      <td>...</td>\n      <td>...</td>\n      <td>...</td>\n    </tr>\n    <tr>\n      <th>1844</th>\n      <td>a1202000</td>\n      <td>11</td>\n      <td>193</td>\n      <td>0</td>\n      <td>0</td>\n      <td>43</td>\n      <td>2</td>\n      <td>1.982</td>\n    </tr>\n    <tr>\n      <th>1845</th>\n      <td>xsutil</td>\n      <td>0</td>\n      <td>34</td>\n      <td>1</td>\n      <td>0</td>\n      <td>7</td>\n      <td>0</td>\n      <td>0.720</td>\n    </tr>\n    <tr>\n      <th>1846</th>\n      <td>a1202000</td>\n      <td>11</td>\n      <td>193</td>\n      <td>0</td>\n      <td>0</td>\n      <td>43</td>\n      <td>2</td>\n      <td>1.982</td>\n    </tr>\n    <tr>\n      <th>1847</th>\n      <td>xsutil</td>\n      <td>0</td>\n      <td>34</td>\n      <td>1</td>\n      <td>0</td>\n      <td>7</td>\n      <td>0</td>\n      <td>0.720</td>\n    </tr>\n    <tr>\n      <th>1848</th>\n      <td>a1202000</td>\n      <td>11</td>\n      <td>193</td>\n      <td>0</td>\n      <td>0</td>\n      <td>43</td>\n      <td>2</td>\n      <td>1.982</td>\n    </tr>\n  </tbody>\n</table>\n<p>1849 rows × 8 columns</p>\n</div>"
     },
     "execution_count": 181,
     "metadata": {},
     "output_type": "execute_result"
    }
   ],
   "source": [
    "scripts"
   ],
   "metadata": {
    "collapsed": false,
    "ExecuteTime": {
     "end_time": "2023-10-09T03:23:59.826111Z",
     "start_time": "2023-10-09T03:23:59.810173Z"
    }
   },
   "id": "afc63c6ca03d7d6c"
  },
  {
   "cell_type": "code",
   "execution_count": 182,
   "outputs": [],
   "source": [
    "scripts.drop(0, axis=1, inplace=True)"
   ],
   "metadata": {
    "collapsed": false,
    "ExecuteTime": {
     "end_time": "2023-10-09T03:24:00.883290Z",
     "start_time": "2023-10-09T03:24:00.858739Z"
    }
   },
   "id": "573883355335182f"
  },
  {
   "cell_type": "code",
   "execution_count": 183,
   "outputs": [
    {
     "data": {
      "text/plain": "      1_x     2   3  4    5   6     1_y\n0      14  6039  87  2  955  23  44.344\n1      11  5811  87  2  902  17   8.766\n2      11   193   0  0   43   2   1.982\n3       0    36   0  0    9   0   0.488\n4       0    23   0  0    0   0   0.419\n...   ...   ...  .. ..  ...  ..     ...\n1844   11   193   0  0   43   2   1.982\n1845    0    34   1  0    7   0   0.720\n1846   11   193   0  0   43   2   1.982\n1847    0    34   1  0    7   0   0.720\n1848   11   193   0  0   43   2   1.982\n\n[1849 rows x 7 columns]",
      "text/html": "<div>\n<style scoped>\n    .dataframe tbody tr th:only-of-type {\n        vertical-align: middle;\n    }\n\n    .dataframe tbody tr th {\n        vertical-align: top;\n    }\n\n    .dataframe thead th {\n        text-align: right;\n    }\n</style>\n<table border=\"1\" class=\"dataframe\">\n  <thead>\n    <tr style=\"text-align: right;\">\n      <th></th>\n      <th>1_x</th>\n      <th>2</th>\n      <th>3</th>\n      <th>4</th>\n      <th>5</th>\n      <th>6</th>\n      <th>1_y</th>\n    </tr>\n  </thead>\n  <tbody>\n    <tr>\n      <th>0</th>\n      <td>14</td>\n      <td>6039</td>\n      <td>87</td>\n      <td>2</td>\n      <td>955</td>\n      <td>23</td>\n      <td>44.344</td>\n    </tr>\n    <tr>\n      <th>1</th>\n      <td>11</td>\n      <td>5811</td>\n      <td>87</td>\n      <td>2</td>\n      <td>902</td>\n      <td>17</td>\n      <td>8.766</td>\n    </tr>\n    <tr>\n      <th>2</th>\n      <td>11</td>\n      <td>193</td>\n      <td>0</td>\n      <td>0</td>\n      <td>43</td>\n      <td>2</td>\n      <td>1.982</td>\n    </tr>\n    <tr>\n      <th>3</th>\n      <td>0</td>\n      <td>36</td>\n      <td>0</td>\n      <td>0</td>\n      <td>9</td>\n      <td>0</td>\n      <td>0.488</td>\n    </tr>\n    <tr>\n      <th>4</th>\n      <td>0</td>\n      <td>23</td>\n      <td>0</td>\n      <td>0</td>\n      <td>0</td>\n      <td>0</td>\n      <td>0.419</td>\n    </tr>\n    <tr>\n      <th>...</th>\n      <td>...</td>\n      <td>...</td>\n      <td>...</td>\n      <td>...</td>\n      <td>...</td>\n      <td>...</td>\n      <td>...</td>\n    </tr>\n    <tr>\n      <th>1844</th>\n      <td>11</td>\n      <td>193</td>\n      <td>0</td>\n      <td>0</td>\n      <td>43</td>\n      <td>2</td>\n      <td>1.982</td>\n    </tr>\n    <tr>\n      <th>1845</th>\n      <td>0</td>\n      <td>34</td>\n      <td>1</td>\n      <td>0</td>\n      <td>7</td>\n      <td>0</td>\n      <td>0.720</td>\n    </tr>\n    <tr>\n      <th>1846</th>\n      <td>11</td>\n      <td>193</td>\n      <td>0</td>\n      <td>0</td>\n      <td>43</td>\n      <td>2</td>\n      <td>1.982</td>\n    </tr>\n    <tr>\n      <th>1847</th>\n      <td>0</td>\n      <td>34</td>\n      <td>1</td>\n      <td>0</td>\n      <td>7</td>\n      <td>0</td>\n      <td>0.720</td>\n    </tr>\n    <tr>\n      <th>1848</th>\n      <td>11</td>\n      <td>193</td>\n      <td>0</td>\n      <td>0</td>\n      <td>43</td>\n      <td>2</td>\n      <td>1.982</td>\n    </tr>\n  </tbody>\n</table>\n<p>1849 rows × 7 columns</p>\n</div>"
     },
     "execution_count": 183,
     "metadata": {},
     "output_type": "execute_result"
    }
   ],
   "source": [
    "scripts"
   ],
   "metadata": {
    "collapsed": false,
    "ExecuteTime": {
     "end_time": "2023-10-09T03:24:01.373799Z",
     "start_time": "2023-10-09T03:24:01.357707Z"
    }
   },
   "id": "3e34efba14aa36b1"
  },
  {
   "cell_type": "code",
   "execution_count": 184,
   "outputs": [],
   "source": [
    "scripts.columns = [\"grants\", \"size\", \"packages\", \"alters\", \"commands\", \"commits\", \"time\"]"
   ],
   "metadata": {
    "collapsed": false,
    "ExecuteTime": {
     "end_time": "2023-10-09T03:24:03.583297Z",
     "start_time": "2023-10-09T03:24:03.561856Z"
    }
   },
   "id": "651b609cbb181ed7"
  },
  {
   "cell_type": "code",
   "execution_count": 185,
   "outputs": [],
   "source": [
    "scripts.dropna(inplace=True)"
   ],
   "metadata": {
    "collapsed": false,
    "ExecuteTime": {
     "end_time": "2023-10-09T03:24:04.357268Z",
     "start_time": "2023-10-09T03:24:04.336578Z"
    }
   },
   "id": "bee6dc696298d526"
  },
  {
   "cell_type": "code",
   "execution_count": 186,
   "outputs": [
    {
     "ename": "ValueError",
     "evalue": "could not convert string to float: 'O/S Message: No such file or directory'",
     "output_type": "error",
     "traceback": [
      "\u001B[0;31m---------------------------------------------------------------------------\u001B[0m",
      "\u001B[0;31mValueError\u001B[0m                                Traceback (most recent call last)",
      "Cell \u001B[0;32mIn[186], line 1\u001B[0m\n\u001B[0;32m----> 1\u001B[0m scripts[\u001B[38;5;124m'\u001B[39m\u001B[38;5;124mtime\u001B[39m\u001B[38;5;124m'\u001B[39m]\u001B[38;5;241m.\u001B[39mastype(\u001B[38;5;124m\"\u001B[39m\u001B[38;5;124mfloat\u001B[39m\u001B[38;5;124m\"\u001B[39m)\n",
      "File \u001B[0;32m~/anaconda3/lib/python3.11/site-packages/pandas/core/generic.py:6240\u001B[0m, in \u001B[0;36mNDFrame.astype\u001B[0;34m(self, dtype, copy, errors)\u001B[0m\n\u001B[1;32m   6233\u001B[0m     results \u001B[38;5;241m=\u001B[39m [\n\u001B[1;32m   6234\u001B[0m         \u001B[38;5;28mself\u001B[39m\u001B[38;5;241m.\u001B[39miloc[:, i]\u001B[38;5;241m.\u001B[39mastype(dtype, copy\u001B[38;5;241m=\u001B[39mcopy)\n\u001B[1;32m   6235\u001B[0m         \u001B[38;5;28;01mfor\u001B[39;00m i \u001B[38;5;129;01min\u001B[39;00m \u001B[38;5;28mrange\u001B[39m(\u001B[38;5;28mlen\u001B[39m(\u001B[38;5;28mself\u001B[39m\u001B[38;5;241m.\u001B[39mcolumns))\n\u001B[1;32m   6236\u001B[0m     ]\n\u001B[1;32m   6238\u001B[0m \u001B[38;5;28;01melse\u001B[39;00m:\n\u001B[1;32m   6239\u001B[0m     \u001B[38;5;66;03m# else, only a single dtype is given\u001B[39;00m\n\u001B[0;32m-> 6240\u001B[0m     new_data \u001B[38;5;241m=\u001B[39m \u001B[38;5;28mself\u001B[39m\u001B[38;5;241m.\u001B[39m_mgr\u001B[38;5;241m.\u001B[39mastype(dtype\u001B[38;5;241m=\u001B[39mdtype, copy\u001B[38;5;241m=\u001B[39mcopy, errors\u001B[38;5;241m=\u001B[39merrors)\n\u001B[1;32m   6241\u001B[0m     \u001B[38;5;28;01mreturn\u001B[39;00m \u001B[38;5;28mself\u001B[39m\u001B[38;5;241m.\u001B[39m_constructor(new_data)\u001B[38;5;241m.\u001B[39m__finalize__(\u001B[38;5;28mself\u001B[39m, method\u001B[38;5;241m=\u001B[39m\u001B[38;5;124m\"\u001B[39m\u001B[38;5;124mastype\u001B[39m\u001B[38;5;124m\"\u001B[39m)\n\u001B[1;32m   6243\u001B[0m \u001B[38;5;66;03m# GH 33113: handle empty frame or series\u001B[39;00m\n",
      "File \u001B[0;32m~/anaconda3/lib/python3.11/site-packages/pandas/core/internals/managers.py:448\u001B[0m, in \u001B[0;36mBaseBlockManager.astype\u001B[0;34m(self, dtype, copy, errors)\u001B[0m\n\u001B[1;32m    447\u001B[0m \u001B[38;5;28;01mdef\u001B[39;00m \u001B[38;5;21mastype\u001B[39m(\u001B[38;5;28mself\u001B[39m: T, dtype, copy: \u001B[38;5;28mbool\u001B[39m \u001B[38;5;241m=\u001B[39m \u001B[38;5;28;01mFalse\u001B[39;00m, errors: \u001B[38;5;28mstr\u001B[39m \u001B[38;5;241m=\u001B[39m \u001B[38;5;124m\"\u001B[39m\u001B[38;5;124mraise\u001B[39m\u001B[38;5;124m\"\u001B[39m) \u001B[38;5;241m-\u001B[39m\u001B[38;5;241m>\u001B[39m T:\n\u001B[0;32m--> 448\u001B[0m     \u001B[38;5;28;01mreturn\u001B[39;00m \u001B[38;5;28mself\u001B[39m\u001B[38;5;241m.\u001B[39mapply(\u001B[38;5;124m\"\u001B[39m\u001B[38;5;124mastype\u001B[39m\u001B[38;5;124m\"\u001B[39m, dtype\u001B[38;5;241m=\u001B[39mdtype, copy\u001B[38;5;241m=\u001B[39mcopy, errors\u001B[38;5;241m=\u001B[39merrors)\n",
      "File \u001B[0;32m~/anaconda3/lib/python3.11/site-packages/pandas/core/internals/managers.py:352\u001B[0m, in \u001B[0;36mBaseBlockManager.apply\u001B[0;34m(self, f, align_keys, ignore_failures, **kwargs)\u001B[0m\n\u001B[1;32m    350\u001B[0m         applied \u001B[38;5;241m=\u001B[39m b\u001B[38;5;241m.\u001B[39mapply(f, \u001B[38;5;241m*\u001B[39m\u001B[38;5;241m*\u001B[39mkwargs)\n\u001B[1;32m    351\u001B[0m     \u001B[38;5;28;01melse\u001B[39;00m:\n\u001B[0;32m--> 352\u001B[0m         applied \u001B[38;5;241m=\u001B[39m \u001B[38;5;28mgetattr\u001B[39m(b, f)(\u001B[38;5;241m*\u001B[39m\u001B[38;5;241m*\u001B[39mkwargs)\n\u001B[1;32m    353\u001B[0m \u001B[38;5;28;01mexcept\u001B[39;00m (\u001B[38;5;167;01mTypeError\u001B[39;00m, \u001B[38;5;167;01mNotImplementedError\u001B[39;00m):\n\u001B[1;32m    354\u001B[0m     \u001B[38;5;28;01mif\u001B[39;00m \u001B[38;5;129;01mnot\u001B[39;00m ignore_failures:\n",
      "File \u001B[0;32m~/anaconda3/lib/python3.11/site-packages/pandas/core/internals/blocks.py:526\u001B[0m, in \u001B[0;36mBlock.astype\u001B[0;34m(self, dtype, copy, errors)\u001B[0m\n\u001B[1;32m    508\u001B[0m \u001B[38;5;250m\u001B[39m\u001B[38;5;124;03m\"\"\"\u001B[39;00m\n\u001B[1;32m    509\u001B[0m \u001B[38;5;124;03mCoerce to the new dtype.\u001B[39;00m\n\u001B[1;32m    510\u001B[0m \n\u001B[0;32m   (...)\u001B[0m\n\u001B[1;32m    522\u001B[0m \u001B[38;5;124;03mBlock\u001B[39;00m\n\u001B[1;32m    523\u001B[0m \u001B[38;5;124;03m\"\"\"\u001B[39;00m\n\u001B[1;32m    524\u001B[0m values \u001B[38;5;241m=\u001B[39m \u001B[38;5;28mself\u001B[39m\u001B[38;5;241m.\u001B[39mvalues\n\u001B[0;32m--> 526\u001B[0m new_values \u001B[38;5;241m=\u001B[39m astype_array_safe(values, dtype, copy\u001B[38;5;241m=\u001B[39mcopy, errors\u001B[38;5;241m=\u001B[39merrors)\n\u001B[1;32m    528\u001B[0m new_values \u001B[38;5;241m=\u001B[39m maybe_coerce_values(new_values)\n\u001B[1;32m    529\u001B[0m newb \u001B[38;5;241m=\u001B[39m \u001B[38;5;28mself\u001B[39m\u001B[38;5;241m.\u001B[39mmake_block(new_values)\n",
      "File \u001B[0;32m~/anaconda3/lib/python3.11/site-packages/pandas/core/dtypes/astype.py:299\u001B[0m, in \u001B[0;36mastype_array_safe\u001B[0;34m(values, dtype, copy, errors)\u001B[0m\n\u001B[1;32m    296\u001B[0m     \u001B[38;5;28;01mreturn\u001B[39;00m values\u001B[38;5;241m.\u001B[39mcopy()\n\u001B[1;32m    298\u001B[0m \u001B[38;5;28;01mtry\u001B[39;00m:\n\u001B[0;32m--> 299\u001B[0m     new_values \u001B[38;5;241m=\u001B[39m astype_array(values, dtype, copy\u001B[38;5;241m=\u001B[39mcopy)\n\u001B[1;32m    300\u001B[0m \u001B[38;5;28;01mexcept\u001B[39;00m (\u001B[38;5;167;01mValueError\u001B[39;00m, \u001B[38;5;167;01mTypeError\u001B[39;00m):\n\u001B[1;32m    301\u001B[0m     \u001B[38;5;66;03m# e.g. astype_nansafe can fail on object-dtype of strings\u001B[39;00m\n\u001B[1;32m    302\u001B[0m     \u001B[38;5;66;03m#  trying to convert to float\u001B[39;00m\n\u001B[1;32m    303\u001B[0m     \u001B[38;5;28;01mif\u001B[39;00m errors \u001B[38;5;241m==\u001B[39m \u001B[38;5;124m\"\u001B[39m\u001B[38;5;124mignore\u001B[39m\u001B[38;5;124m\"\u001B[39m:\n",
      "File \u001B[0;32m~/anaconda3/lib/python3.11/site-packages/pandas/core/dtypes/astype.py:230\u001B[0m, in \u001B[0;36mastype_array\u001B[0;34m(values, dtype, copy)\u001B[0m\n\u001B[1;32m    227\u001B[0m     values \u001B[38;5;241m=\u001B[39m values\u001B[38;5;241m.\u001B[39mastype(dtype, copy\u001B[38;5;241m=\u001B[39mcopy)\n\u001B[1;32m    229\u001B[0m \u001B[38;5;28;01melse\u001B[39;00m:\n\u001B[0;32m--> 230\u001B[0m     values \u001B[38;5;241m=\u001B[39m astype_nansafe(values, dtype, copy\u001B[38;5;241m=\u001B[39mcopy)\n\u001B[1;32m    232\u001B[0m \u001B[38;5;66;03m# in pandas we don't store numpy str dtypes, so convert to object\u001B[39;00m\n\u001B[1;32m    233\u001B[0m \u001B[38;5;28;01mif\u001B[39;00m \u001B[38;5;28misinstance\u001B[39m(dtype, np\u001B[38;5;241m.\u001B[39mdtype) \u001B[38;5;129;01mand\u001B[39;00m \u001B[38;5;28missubclass\u001B[39m(values\u001B[38;5;241m.\u001B[39mdtype\u001B[38;5;241m.\u001B[39mtype, \u001B[38;5;28mstr\u001B[39m):\n",
      "File \u001B[0;32m~/anaconda3/lib/python3.11/site-packages/pandas/core/dtypes/astype.py:170\u001B[0m, in \u001B[0;36mastype_nansafe\u001B[0;34m(arr, dtype, copy, skipna)\u001B[0m\n\u001B[1;32m    166\u001B[0m     \u001B[38;5;28;01mraise\u001B[39;00m \u001B[38;5;167;01mValueError\u001B[39;00m(msg)\n\u001B[1;32m    168\u001B[0m \u001B[38;5;28;01mif\u001B[39;00m copy \u001B[38;5;129;01mor\u001B[39;00m is_object_dtype(arr\u001B[38;5;241m.\u001B[39mdtype) \u001B[38;5;129;01mor\u001B[39;00m is_object_dtype(dtype):\n\u001B[1;32m    169\u001B[0m     \u001B[38;5;66;03m# Explicit copy, or required since NumPy can't view from / to object.\u001B[39;00m\n\u001B[0;32m--> 170\u001B[0m     \u001B[38;5;28;01mreturn\u001B[39;00m arr\u001B[38;5;241m.\u001B[39mastype(dtype, copy\u001B[38;5;241m=\u001B[39m\u001B[38;5;28;01mTrue\u001B[39;00m)\n\u001B[1;32m    172\u001B[0m \u001B[38;5;28;01mreturn\u001B[39;00m arr\u001B[38;5;241m.\u001B[39mastype(dtype, copy\u001B[38;5;241m=\u001B[39mcopy)\n",
      "\u001B[0;31mValueError\u001B[0m: could not convert string to float: 'O/S Message: No such file or directory'"
     ]
    }
   ],
   "source": [
    "scripts['time'].astype(\"float\")"
   ],
   "metadata": {
    "collapsed": false,
    "ExecuteTime": {
     "end_time": "2023-10-09T03:24:04.835597Z",
     "start_time": "2023-10-09T03:24:04.802742Z"
    }
   },
   "id": "be47761161f1702b"
  },
  {
   "cell_type": "code",
   "execution_count": 187,
   "outputs": [
    {
     "data": {
      "text/plain": "     grants  size  packages  alters  commands  commits  \\\n855       0     1         0       0         0        0   \n\n                                       time  \n855  O/S Message: No such file or directory  ",
      "text/html": "<div>\n<style scoped>\n    .dataframe tbody tr th:only-of-type {\n        vertical-align: middle;\n    }\n\n    .dataframe tbody tr th {\n        vertical-align: top;\n    }\n\n    .dataframe thead th {\n        text-align: right;\n    }\n</style>\n<table border=\"1\" class=\"dataframe\">\n  <thead>\n    <tr style=\"text-align: right;\">\n      <th></th>\n      <th>grants</th>\n      <th>size</th>\n      <th>packages</th>\n      <th>alters</th>\n      <th>commands</th>\n      <th>commits</th>\n      <th>time</th>\n    </tr>\n  </thead>\n  <tbody>\n    <tr>\n      <th>855</th>\n      <td>0</td>\n      <td>1</td>\n      <td>0</td>\n      <td>0</td>\n      <td>0</td>\n      <td>0</td>\n      <td>O/S Message: No such file or directory</td>\n    </tr>\n  </tbody>\n</table>\n</div>"
     },
     "execution_count": 187,
     "metadata": {},
     "output_type": "execute_result"
    }
   ],
   "source": [
    "scripts[scripts[\"time\"] == 'O/S Message: No such file or directory']"
   ],
   "metadata": {
    "collapsed": false,
    "ExecuteTime": {
     "end_time": "2023-10-09T03:24:09.986083Z",
     "start_time": "2023-10-09T03:24:09.968822Z"
    }
   },
   "id": "675aa6af70888df2"
  },
  {
   "cell_type": "code",
   "execution_count": 188,
   "outputs": [],
   "source": [
    "scripts.drop(855, inplace=True)"
   ],
   "metadata": {
    "collapsed": false,
    "ExecuteTime": {
     "end_time": "2023-10-09T03:24:12.295073Z",
     "start_time": "2023-10-09T03:24:12.270852Z"
    }
   },
   "id": "d46521ebf6ee045e"
  },
  {
   "cell_type": "code",
   "execution_count": 189,
   "outputs": [
    {
     "data": {
      "text/plain": "             grants           size     packages       alters      commands  \\\ncount    217.000000     217.000000   217.000000   217.000000    217.000000   \nmean     221.281106   12551.737327    88.281106    37.847926   1221.921659   \nstd     1142.416607   72128.769953   514.867854   214.108444   5007.489448   \nmin        0.000000       5.000000     0.000000     0.000000      0.000000   \n25%        0.000000     201.000000     0.000000     0.000000     31.000000   \n50%       14.000000    1165.000000     2.000000     1.000000    227.000000   \n75%       72.000000    3940.000000    24.000000     7.000000    638.000000   \nmax    12985.000000  772433.000000  5120.000000  2054.000000  57015.000000   \n\n          commits  \ncount  217.000000  \nmean    15.198157  \nstd     70.206655  \nmin      0.000000  \n25%      0.000000  \n50%      0.000000  \n75%      3.000000  \nmax    674.000000  ",
      "text/html": "<div>\n<style scoped>\n    .dataframe tbody tr th:only-of-type {\n        vertical-align: middle;\n    }\n\n    .dataframe tbody tr th {\n        vertical-align: top;\n    }\n\n    .dataframe thead th {\n        text-align: right;\n    }\n</style>\n<table border=\"1\" class=\"dataframe\">\n  <thead>\n    <tr style=\"text-align: right;\">\n      <th></th>\n      <th>grants</th>\n      <th>size</th>\n      <th>packages</th>\n      <th>alters</th>\n      <th>commands</th>\n      <th>commits</th>\n    </tr>\n  </thead>\n  <tbody>\n    <tr>\n      <th>count</th>\n      <td>217.000000</td>\n      <td>217.000000</td>\n      <td>217.000000</td>\n      <td>217.000000</td>\n      <td>217.000000</td>\n      <td>217.000000</td>\n    </tr>\n    <tr>\n      <th>mean</th>\n      <td>221.281106</td>\n      <td>12551.737327</td>\n      <td>88.281106</td>\n      <td>37.847926</td>\n      <td>1221.921659</td>\n      <td>15.198157</td>\n    </tr>\n    <tr>\n      <th>std</th>\n      <td>1142.416607</td>\n      <td>72128.769953</td>\n      <td>514.867854</td>\n      <td>214.108444</td>\n      <td>5007.489448</td>\n      <td>70.206655</td>\n    </tr>\n    <tr>\n      <th>min</th>\n      <td>0.000000</td>\n      <td>5.000000</td>\n      <td>0.000000</td>\n      <td>0.000000</td>\n      <td>0.000000</td>\n      <td>0.000000</td>\n    </tr>\n    <tr>\n      <th>25%</th>\n      <td>0.000000</td>\n      <td>201.000000</td>\n      <td>0.000000</td>\n      <td>0.000000</td>\n      <td>31.000000</td>\n      <td>0.000000</td>\n    </tr>\n    <tr>\n      <th>50%</th>\n      <td>14.000000</td>\n      <td>1165.000000</td>\n      <td>2.000000</td>\n      <td>1.000000</td>\n      <td>227.000000</td>\n      <td>0.000000</td>\n    </tr>\n    <tr>\n      <th>75%</th>\n      <td>72.000000</td>\n      <td>3940.000000</td>\n      <td>24.000000</td>\n      <td>7.000000</td>\n      <td>638.000000</td>\n      <td>3.000000</td>\n    </tr>\n    <tr>\n      <th>max</th>\n      <td>12985.000000</td>\n      <td>772433.000000</td>\n      <td>5120.000000</td>\n      <td>2054.000000</td>\n      <td>57015.000000</td>\n      <td>674.000000</td>\n    </tr>\n  </tbody>\n</table>\n</div>"
     },
     "execution_count": 189,
     "metadata": {},
     "output_type": "execute_result"
    }
   ],
   "source": [
    "scripts[scripts[\"time\"].astype(\"float\") > 2].describe()"
   ],
   "metadata": {
    "collapsed": false,
    "ExecuteTime": {
     "end_time": "2023-10-09T03:24:16.897351Z",
     "start_time": "2023-10-09T03:24:16.874040Z"
    }
   },
   "id": "1a2829771c7c7ce2"
  },
  {
   "cell_type": "code",
   "execution_count": 190,
   "outputs": [],
   "source": [
    "f3 = scripts[scripts[\"time\"].astype(\"float\") > 2]"
   ],
   "metadata": {
    "collapsed": false,
    "ExecuteTime": {
     "end_time": "2023-10-09T03:24:21.340338Z",
     "start_time": "2023-10-09T03:24:21.319455Z"
    }
   },
   "id": "7209c1248de2aed0"
  },
  {
   "cell_type": "code",
   "execution_count": 191,
   "outputs": [
    {
     "data": {
      "text/plain": "<Axes: >"
     },
     "execution_count": 191,
     "metadata": {},
     "output_type": "execute_result"
    },
    {
     "data": {
      "text/plain": "<Figure size 640x480 with 1 Axes>",
      "image/png": "[encoded data removed]"
     },
     "metadata": {},
     "output_type": "display_data"
    }
   ],
   "source": [
    "f3[f3['grants'] < 200]['grants'].hist()"
   ],
   "metadata": {
    "collapsed": false,
    "ExecuteTime": {
     "end_time": "2023-10-09T03:24:22.629937Z",
     "start_time": "2023-10-09T03:24:22.530374Z"
    }
   },
   "id": "1b80021b2a60effa"
  },
  {
   "cell_type": "code",
   "execution_count": 192,
   "outputs": [
    {
     "name": "stderr",
     "output_type": "stream",
     "text": [
      "/var/folders/51/l057c8xx2md597vhk47n57rm0000gn/T/ipykernel_23167/2352643146.py:1: SettingWithCopyWarning: \n",
      "A value is trying to be set on a copy of a slice from a DataFrame.\n",
      "Try using .loc[row_indexer,col_indexer] = value instead\n",
      "\n",
      "See the caveats in the documentation: https://pandas.pydata.org/pandas-docs/stable/user_guide/indexing.html#returning-a-view-versus-a-copy\n",
      "  f3[\"time\"] = f3[\"time\"].astype(\"float\")\n"
     ]
    }
   ],
   "source": [
    "f3[\"time\"] = f3[\"time\"].astype(\"float\")"
   ],
   "metadata": {
    "collapsed": false,
    "ExecuteTime": {
     "end_time": "2023-10-09T03:24:27.146357Z",
     "start_time": "2023-10-09T03:24:27.124693Z"
    }
   },
   "id": "e84b6bab098ccf73"
  },
  {
   "cell_type": "code",
   "execution_count": 193,
   "outputs": [
    {
     "data": {
      "text/plain": "            grants      size  packages    alters  commands   commits      time\ngrants    1.000000  0.968327  0.917009  0.877005  0.976769  0.885150  0.947216\nsize      0.968327  1.000000  0.977967  0.944382  0.948951  0.944205  0.922122\npackages  0.917009  0.977967  1.000000  0.943457  0.883010  0.953364  0.869768\nalters    0.877005  0.944382  0.943457  1.000000  0.846814  0.856955  0.840180\ncommands  0.976769  0.948951  0.883010  0.846814  1.000000  0.882261  0.946315\ncommits   0.885150  0.944205  0.953364  0.856955  0.882261  1.000000  0.849161\ntime      0.947216  0.922122  0.869768  0.840180  0.946315  0.849161  1.000000",
      "text/html": "<div>\n<style scoped>\n    .dataframe tbody tr th:only-of-type {\n        vertical-align: middle;\n    }\n\n    .dataframe tbody tr th {\n        vertical-align: top;\n    }\n\n    .dataframe thead th {\n        text-align: right;\n    }\n</style>\n<table border=\"1\" class=\"dataframe\">\n  <thead>\n    <tr style=\"text-align: right;\">\n      <th></th>\n      <th>grants</th>\n      <th>size</th>\n      <th>packages</th>\n      <th>alters</th>\n      <th>commands</th>\n      <th>commits</th>\n      <th>time</th>\n    </tr>\n  </thead>\n  <tbody>\n    <tr>\n      <th>grants</th>\n      <td>1.000000</td>\n      <td>0.968327</td>\n      <td>0.917009</td>\n      <td>0.877005</td>\n      <td>0.976769</td>\n      <td>0.885150</td>\n      <td>0.947216</td>\n    </tr>\n    <tr>\n      <th>size</th>\n      <td>0.968327</td>\n      <td>1.000000</td>\n      <td>0.977967</td>\n      <td>0.944382</td>\n      <td>0.948951</td>\n      <td>0.944205</td>\n      <td>0.922122</td>\n    </tr>\n    <tr>\n      <th>packages</th>\n      <td>0.917009</td>\n      <td>0.977967</td>\n      <td>1.000000</td>\n      <td>0.943457</td>\n      <td>0.883010</td>\n      <td>0.953364</td>\n      <td>0.869768</td>\n    </tr>\n    <tr>\n      <th>alters</th>\n      <td>0.877005</td>\n      <td>0.944382</td>\n      <td>0.943457</td>\n      <td>1.000000</td>\n      <td>0.846814</td>\n      <td>0.856955</td>\n      <td>0.840180</td>\n    </tr>\n    <tr>\n      <th>commands</th>\n      <td>0.976769</td>\n      <td>0.948951</td>\n      <td>0.883010</td>\n      <td>0.846814</td>\n      <td>1.000000</td>\n      <td>0.882261</td>\n      <td>0.946315</td>\n    </tr>\n    <tr>\n      <th>commits</th>\n      <td>0.885150</td>\n      <td>0.944205</td>\n      <td>0.953364</td>\n      <td>0.856955</td>\n      <td>0.882261</td>\n      <td>1.000000</td>\n      <td>0.849161</td>\n    </tr>\n    <tr>\n      <th>time</th>\n      <td>0.947216</td>\n      <td>0.922122</td>\n      <td>0.869768</td>\n      <td>0.840180</td>\n      <td>0.946315</td>\n      <td>0.849161</td>\n      <td>1.000000</td>\n    </tr>\n  </tbody>\n</table>\n</div>"
     },
     "execution_count": 193,
     "metadata": {},
     "output_type": "execute_result"
    }
   ],
   "source": [
    "f3.corr()"
   ],
   "metadata": {
    "collapsed": false,
    "ExecuteTime": {
     "end_time": "2023-10-09T03:24:28.697718Z",
     "start_time": "2023-10-09T03:24:28.673171Z"
    }
   },
   "id": "8347ad817f3f47d3"
  },
  {
   "cell_type": "code",
   "execution_count": 194,
   "outputs": [
    {
     "data": {
      "text/plain": "<Axes: >"
     },
     "execution_count": 194,
     "metadata": {},
     "output_type": "execute_result"
    },
    {
     "data": {
      "text/plain": "<Figure size 640x480 with 1 Axes>",
      "image/png": "[encoded data removed]"
     },
     "metadata": {},
     "output_type": "display_data"
    }
   ],
   "source": [
    "(f3[\"grants\"] ** (1/2)).hist() "
   ],
   "metadata": {
    "collapsed": false,
    "ExecuteTime": {
     "end_time": "2023-10-09T03:24:32.404295Z",
     "start_time": "2023-10-09T03:24:32.319086Z"
    }
   },
   "id": "8acd6c8b82004c21"
  },
  {
   "cell_type": "code",
   "execution_count": 135,
   "outputs": [],
   "source": [
    "from sklearn.linear_model import LinearRegression\n",
    "reg = LinearRegression()\n",
    "reg.fit(f3.drop(\"time\", axis=1), f3.time)\n",
    "preds = reg.predict(f3.drop(\"time\", axis=1))"
   ],
   "metadata": {
    "collapsed": false,
    "ExecuteTime": {
     "end_time": "2023-10-09T02:58:46.014324Z",
     "start_time": "2023-10-09T02:58:45.999232Z"
    }
   },
   "id": "ebae452898126c96"
  },
  {
   "cell_type": "code",
   "execution_count": 136,
   "outputs": [],
   "source": [
    "from sklearn.metrics import r2_score\n",
    "from sklearn.metrics import mean_squared_error\n",
    "\n",
    "\n",
    "def get_model_metrics(actual, predicted):\n",
    "    print(\"RMSE: %0.2f\" % (mean_squared_error(actual, predicted)))\n",
    "    print(\"r2_score:  %0.2f\" % r2_score(actual, predicted))\n"
   ],
   "metadata": {
    "collapsed": false,
    "ExecuteTime": {
     "end_time": "2023-10-09T02:58:48.580782Z",
     "start_time": "2023-10-09T02:58:48.569453Z"
    }
   },
   "id": "1139daa7f53264d3"
  },
  {
   "cell_type": "code",
   "execution_count": 137,
   "outputs": [
    {
     "name": "stdout",
     "output_type": "stream",
     "text": [
      "RMSE: 2054.94\n",
      "r2_score:  0.91\n"
     ]
    }
   ],
   "source": [
    "get_model_metrics(f3.time, preds)"
   ],
   "metadata": {
    "collapsed": false,
    "ExecuteTime": {
     "end_time": "2023-10-09T02:58:52.525141Z",
     "start_time": "2023-10-09T02:58:52.496041Z"
    }
   },
   "id": "b68ae22d04809be4"
  },
  {
   "cell_type": "code",
   "execution_count": 139,
   "outputs": [],
   "source": [
    "import numpy as np"
   ],
   "metadata": {
    "collapsed": false,
    "ExecuteTime": {
     "end_time": "2023-10-09T03:00:32.450005Z",
     "start_time": "2023-10-09T03:00:32.436279Z"
    }
   },
   "id": "aba342935a4b8f"
  },
  {
   "cell_type": "code",
   "execution_count": 140,
   "outputs": [
    {
     "data": {
      "text/plain": "<Figure size 1000x800 with 1 Axes>",
      "image/png": "[encoded data removed]"
     },
     "metadata": {},
     "output_type": "display_data"
    }
   ],
   "source": [
    "from matplotlib import pyplot as plt\n",
    "\n",
    "ref = np.linspace(min(f3.time),max(f3.time))\n",
    "\n",
    "fig = plt.figure(figsize=(10,8))\n",
    "plt.scatter(f3.time,preds)\n",
    "plt.plot(ref,ref,'k--')\n",
    "plt.axis('square')\n",
    "plt.xlabel('y real'),plt.ylabel('y predict')\n",
    "plt.grid()"
   ],
   "metadata": {
    "collapsed": false,
    "ExecuteTime": {
     "end_time": "2023-10-09T03:00:33.531137Z",
     "start_time": "2023-10-09T03:00:33.432264Z"
    }
   },
   "id": "3cf9b3cc67ee41ee"
  },
  {
   "cell_type": "code",
   "execution_count": 141,
   "outputs": [
    {
     "data": {
      "text/plain": "6259.876000000001"
     },
     "execution_count": 141,
     "metadata": {},
     "output_type": "execute_result"
    }
   ],
   "source": [
    "preds.sum()"
   ],
   "metadata": {
    "collapsed": false,
    "ExecuteTime": {
     "end_time": "2023-10-09T03:01:14.970514Z",
     "start_time": "2023-10-09T03:01:14.949854Z"
    }
   },
   "id": "a16246b7497602d1"
  },
  {
   "cell_type": "code",
   "execution_count": 142,
   "outputs": [
    {
     "data": {
      "text/plain": "6259.876"
     },
     "execution_count": 142,
     "metadata": {},
     "output_type": "execute_result"
    }
   ],
   "source": [
    "f3.time.sum()"
   ],
   "metadata": {
    "collapsed": false,
    "ExecuteTime": {
     "end_time": "2023-10-09T03:01:23.900049Z",
     "start_time": "2023-10-09T03:01:23.875618Z"
    }
   },
   "id": "102288a38eb1cb5"
  },
  {
   "cell_type": "code",
   "execution_count": 145,
   "outputs": [],
   "source": [
    "f3.to_csv(\"data_sig.csv\", header=True)"
   ],
   "metadata": {
    "collapsed": false,
    "ExecuteTime": {
     "end_time": "2023-10-09T03:03:26.712012Z",
     "start_time": "2023-10-09T03:03:26.684720Z"
    }
   },
   "id": "f5d8fdc9212c8783"
  },
  {
   "cell_type": "code",
   "execution_count": 147,
   "outputs": [
    {
     "data": {
      "text/plain": "Index(['grants', 'size', 'packages', 'alters', 'commands', 'commits', 'time'], dtype='object')"
     },
     "execution_count": 147,
     "metadata": {},
     "output_type": "execute_result"
    }
   ],
   "source": [
    "f3.columns"
   ],
   "metadata": {
    "collapsed": false,
    "ExecuteTime": {
     "end_time": "2023-10-09T03:04:30.189791Z",
     "start_time": "2023-10-09T03:04:30.167450Z"
    }
   },
   "id": "fae73f77d1b85fe3"
  },
  {
   "cell_type": "code",
   "execution_count": null,
   "outputs": [],
   "source": [],
   "metadata": {
    "collapsed": false
   },
   "id": "339720af89478284"
  },
  {
   "cell_type": "markdown",
   "source": [
    "\n"
   ],
   "metadata": {
    "collapsed": false
   },
   "id": "b7de78a043941885"
  },
  {
   "cell_type": "code",
   "execution_count": 211,
   "outputs": [
    {
     "data": {
      "text/plain": "     grants  size  packages  alters  commands  commits   time\n0         0    19         1       1         3        0  0.792\n1         0    12         0       0         3        0  0.369\n2         0    12         0       0         3        0  0.366\n3         0     9         1       1         2        1  0.476\n4         0    28         0       0         5        0  0.413\n..      ...   ...       ...     ...       ...      ...    ...\n207       1    33         2       1         8        1  0.430\n208       2    34         3       5         5        0  0.858\n209       2    42         5       3         9        0  0.993\n210       1    34         4       3         6        0  1.235\n211       1    17         1       1         4        0  0.466\n\n[212 rows x 7 columns]",
      "text/html": "<div>\n<style scoped>\n    .dataframe tbody tr th:only-of-type {\n        vertical-align: middle;\n    }\n\n    .dataframe tbody tr th {\n        vertical-align: top;\n    }\n\n    .dataframe thead th {\n        text-align: right;\n    }\n</style>\n<table border=\"1\" class=\"dataframe\">\n  <thead>\n    <tr style=\"text-align: right;\">\n      <th></th>\n      <th>grants</th>\n      <th>size</th>\n      <th>packages</th>\n      <th>alters</th>\n      <th>commands</th>\n      <th>commits</th>\n      <th>time</th>\n    </tr>\n  </thead>\n  <tbody>\n    <tr>\n      <th>0</th>\n      <td>0</td>\n      <td>19</td>\n      <td>1</td>\n      <td>1</td>\n      <td>3</td>\n      <td>0</td>\n      <td>0.792</td>\n    </tr>\n    <tr>\n      <th>1</th>\n      <td>0</td>\n      <td>12</td>\n      <td>0</td>\n      <td>0</td>\n      <td>3</td>\n      <td>0</td>\n      <td>0.369</td>\n    </tr>\n    <tr>\n      <th>2</th>\n      <td>0</td>\n      <td>12</td>\n      <td>0</td>\n      <td>0</td>\n      <td>3</td>\n      <td>0</td>\n      <td>0.366</td>\n    </tr>\n    <tr>\n      <th>3</th>\n      <td>0</td>\n      <td>9</td>\n      <td>1</td>\n      <td>1</td>\n      <td>2</td>\n      <td>1</td>\n      <td>0.476</td>\n    </tr>\n    <tr>\n      <th>4</th>\n      <td>0</td>\n      <td>28</td>\n      <td>0</td>\n      <td>0</td>\n      <td>5</td>\n      <td>0</td>\n      <td>0.413</td>\n    </tr>\n    <tr>\n      <th>...</th>\n      <td>...</td>\n      <td>...</td>\n      <td>...</td>\n      <td>...</td>\n      <td>...</td>\n      <td>...</td>\n      <td>...</td>\n    </tr>\n    <tr>\n      <th>207</th>\n      <td>1</td>\n      <td>33</td>\n      <td>2</td>\n      <td>1</td>\n      <td>8</td>\n      <td>1</td>\n      <td>0.430</td>\n    </tr>\n    <tr>\n      <th>208</th>\n      <td>2</td>\n      <td>34</td>\n      <td>3</td>\n      <td>5</td>\n      <td>5</td>\n      <td>0</td>\n      <td>0.858</td>\n    </tr>\n    <tr>\n      <th>209</th>\n      <td>2</td>\n      <td>42</td>\n      <td>5</td>\n      <td>3</td>\n      <td>9</td>\n      <td>0</td>\n      <td>0.993</td>\n    </tr>\n    <tr>\n      <th>210</th>\n      <td>1</td>\n      <td>34</td>\n      <td>4</td>\n      <td>3</td>\n      <td>6</td>\n      <td>0</td>\n      <td>1.235</td>\n    </tr>\n    <tr>\n      <th>211</th>\n      <td>1</td>\n      <td>17</td>\n      <td>1</td>\n      <td>1</td>\n      <td>4</td>\n      <td>0</td>\n      <td>0.466</td>\n    </tr>\n  </tbody>\n</table>\n<p>212 rows × 7 columns</p>\n</div>"
     },
     "execution_count": 211,
     "metadata": {},
     "output_type": "execute_result"
    }
   ],
   "source": [
    "merged_df.to_csv(\"class_data_scrs.csv\", index=True)\n",
    "df = pd.read_csv(\"m_data.csv\", header=None)\n",
    "dft = pd.read_csv(\"axmd_times.csv\", header=None)\n",
    "dft\n",
    "scripts = df.merge(dft, on=0, how=\"left\")\n",
    "scripts.drop(0, axis=1, inplace=True)\n",
    "scripts.columns = [\"grants\", \"size\", \"packages\", \"alters\", \"commands\", \"commits\", \"time\"]\n",
    "scripts"
   ],
   "metadata": {
    "collapsed": false,
    "ExecuteTime": {
     "end_time": "2023-10-10T01:32:26.026816Z",
     "start_time": "2023-10-10T01:32:25.970980Z"
    }
   },
   "id": "b6a62087eec268a2"
  },
  {
   "cell_type": "code",
   "execution_count": 212,
   "outputs": [
    {
     "data": {
      "text/plain": "      grants  size  packages  alters  commands  commits    time\n0         14  6039        87       2       955       23  44.344\n1         11  5811        87       2       902       17   8.766\n2         11   193         0       0        43        2   1.982\n3          0    36         0       0         9        0   0.488\n4          0    23         0       0         0        0   0.419\n...      ...   ...       ...     ...       ...      ...     ...\n1844      11   193         0       0        43        2   1.982\n1845       0    34         1       0         7        0   0.720\n1846      11   193         0       0        43        2   1.982\n1847       0    34         1       0         7        0   0.720\n1848      11   193         0       0        43        2   1.982\n\n[1849 rows x 7 columns]",
      "text/html": "<div>\n<style scoped>\n    .dataframe tbody tr th:only-of-type {\n        vertical-align: middle;\n    }\n\n    .dataframe tbody tr th {\n        vertical-align: top;\n    }\n\n    .dataframe thead th {\n        text-align: right;\n    }\n</style>\n<table border=\"1\" class=\"dataframe\">\n  <thead>\n    <tr style=\"text-align: right;\">\n      <th></th>\n      <th>grants</th>\n      <th>size</th>\n      <th>packages</th>\n      <th>alters</th>\n      <th>commands</th>\n      <th>commits</th>\n      <th>time</th>\n    </tr>\n  </thead>\n  <tbody>\n    <tr>\n      <th>0</th>\n      <td>14</td>\n      <td>6039</td>\n      <td>87</td>\n      <td>2</td>\n      <td>955</td>\n      <td>23</td>\n      <td>44.344</td>\n    </tr>\n    <tr>\n      <th>1</th>\n      <td>11</td>\n      <td>5811</td>\n      <td>87</td>\n      <td>2</td>\n      <td>902</td>\n      <td>17</td>\n      <td>8.766</td>\n    </tr>\n    <tr>\n      <th>2</th>\n      <td>11</td>\n      <td>193</td>\n      <td>0</td>\n      <td>0</td>\n      <td>43</td>\n      <td>2</td>\n      <td>1.982</td>\n    </tr>\n    <tr>\n      <th>3</th>\n      <td>0</td>\n      <td>36</td>\n      <td>0</td>\n      <td>0</td>\n      <td>9</td>\n      <td>0</td>\n      <td>0.488</td>\n    </tr>\n    <tr>\n      <th>4</th>\n      <td>0</td>\n      <td>23</td>\n      <td>0</td>\n      <td>0</td>\n      <td>0</td>\n      <td>0</td>\n      <td>0.419</td>\n    </tr>\n    <tr>\n      <th>...</th>\n      <td>...</td>\n      <td>...</td>\n      <td>...</td>\n      <td>...</td>\n      <td>...</td>\n      <td>...</td>\n      <td>...</td>\n    </tr>\n    <tr>\n      <th>1844</th>\n      <td>11</td>\n      <td>193</td>\n      <td>0</td>\n      <td>0</td>\n      <td>43</td>\n      <td>2</td>\n      <td>1.982</td>\n    </tr>\n    <tr>\n      <th>1845</th>\n      <td>0</td>\n      <td>34</td>\n      <td>1</td>\n      <td>0</td>\n      <td>7</td>\n      <td>0</td>\n      <td>0.720</td>\n    </tr>\n    <tr>\n      <th>1846</th>\n      <td>11</td>\n      <td>193</td>\n      <td>0</td>\n      <td>0</td>\n      <td>43</td>\n      <td>2</td>\n      <td>1.982</td>\n    </tr>\n    <tr>\n      <th>1847</th>\n      <td>0</td>\n      <td>34</td>\n      <td>1</td>\n      <td>0</td>\n      <td>7</td>\n      <td>0</td>\n      <td>0.720</td>\n    </tr>\n    <tr>\n      <th>1848</th>\n      <td>11</td>\n      <td>193</td>\n      <td>0</td>\n      <td>0</td>\n      <td>43</td>\n      <td>2</td>\n      <td>1.982</td>\n    </tr>\n  </tbody>\n</table>\n<p>1849 rows × 7 columns</p>\n</div>"
     },
     "execution_count": 212,
     "metadata": {},
     "output_type": "execute_result"
    }
   ],
   "source": [
    "df = pd.read_csv(\"r_data.csv\", header=None)\n",
    "dft = pd.read_csv(\"ax_times.csv\", header=None)\n",
    "dft\n",
    "scripts_r = df.merge(dft, on=0, how=\"left\")\n",
    "scripts_r.drop(0, axis=1, inplace=True)\n",
    "scripts_r.columns = [\"grants\", \"size\", \"packages\", \"alters\", \"commands\", \"commits\", \"time\"]\n",
    "scripts_r"
   ],
   "metadata": {
    "collapsed": false,
    "ExecuteTime": {
     "end_time": "2023-10-10T01:32:28.229958Z",
     "start_time": "2023-10-10T01:32:28.212063Z"
    }
   },
   "id": "fae26ca8f303859f"
  },
  {
   "cell_type": "code",
   "execution_count": null,
   "outputs": [],
   "source": [],
   "metadata": {
    "collapsed": false
   },
   "id": "5634782602413790"
  },
  {
   "cell_type": "code",
   "execution_count": 213,
   "outputs": [
    {
     "data": {
      "text/plain": "     grants  size  packages  alters  commands  commits    time  md\n0        14  6039        87       2       955       23  44.344   0\n1        11  5811        87       2       902       17   8.766   0\n2        11   193         0       0        43        2   1.982   0\n3         0    36         0       0         9        0   0.488   0\n4         0    23         0       0         0        0   0.419   0\n..      ...   ...       ...     ...       ...      ...     ...  ..\n207       1    33         2       1         8        1    0.43   1\n208       2    34         3       5         5        0   0.858   1\n209       2    42         5       3         9        0   0.993   1\n210       1    34         4       3         6        0   1.235   1\n211       1    17         1       1         4        0   0.466   1\n\n[2061 rows x 8 columns]",
      "text/html": "<div>\n<style scoped>\n    .dataframe tbody tr th:only-of-type {\n        vertical-align: middle;\n    }\n\n    .dataframe tbody tr th {\n        vertical-align: top;\n    }\n\n    .dataframe thead th {\n        text-align: right;\n    }\n</style>\n<table border=\"1\" class=\"dataframe\">\n  <thead>\n    <tr style=\"text-align: right;\">\n      <th></th>\n      <th>grants</th>\n      <th>size</th>\n      <th>packages</th>\n      <th>alters</th>\n      <th>commands</th>\n      <th>commits</th>\n      <th>time</th>\n      <th>md</th>\n    </tr>\n  </thead>\n  <tbody>\n    <tr>\n      <th>0</th>\n      <td>14</td>\n      <td>6039</td>\n      <td>87</td>\n      <td>2</td>\n      <td>955</td>\n      <td>23</td>\n      <td>44.344</td>\n      <td>0</td>\n    </tr>\n    <tr>\n      <th>1</th>\n      <td>11</td>\n      <td>5811</td>\n      <td>87</td>\n      <td>2</td>\n      <td>902</td>\n      <td>17</td>\n      <td>8.766</td>\n      <td>0</td>\n    </tr>\n    <tr>\n      <th>2</th>\n      <td>11</td>\n      <td>193</td>\n      <td>0</td>\n      <td>0</td>\n      <td>43</td>\n      <td>2</td>\n      <td>1.982</td>\n      <td>0</td>\n    </tr>\n    <tr>\n      <th>3</th>\n      <td>0</td>\n      <td>36</td>\n      <td>0</td>\n      <td>0</td>\n      <td>9</td>\n      <td>0</td>\n      <td>0.488</td>\n      <td>0</td>\n    </tr>\n    <tr>\n      <th>4</th>\n      <td>0</td>\n      <td>23</td>\n      <td>0</td>\n      <td>0</td>\n      <td>0</td>\n      <td>0</td>\n      <td>0.419</td>\n      <td>0</td>\n    </tr>\n    <tr>\n      <th>...</th>\n      <td>...</td>\n      <td>...</td>\n      <td>...</td>\n      <td>...</td>\n      <td>...</td>\n      <td>...</td>\n      <td>...</td>\n      <td>...</td>\n    </tr>\n    <tr>\n      <th>207</th>\n      <td>1</td>\n      <td>33</td>\n      <td>2</td>\n      <td>1</td>\n      <td>8</td>\n      <td>1</td>\n      <td>0.43</td>\n      <td>1</td>\n    </tr>\n    <tr>\n      <th>208</th>\n      <td>2</td>\n      <td>34</td>\n      <td>3</td>\n      <td>5</td>\n      <td>5</td>\n      <td>0</td>\n      <td>0.858</td>\n      <td>1</td>\n    </tr>\n    <tr>\n      <th>209</th>\n      <td>2</td>\n      <td>42</td>\n      <td>5</td>\n      <td>3</td>\n      <td>9</td>\n      <td>0</td>\n      <td>0.993</td>\n      <td>1</td>\n    </tr>\n    <tr>\n      <th>210</th>\n      <td>1</td>\n      <td>34</td>\n      <td>4</td>\n      <td>3</td>\n      <td>6</td>\n      <td>0</td>\n      <td>1.235</td>\n      <td>1</td>\n    </tr>\n    <tr>\n      <th>211</th>\n      <td>1</td>\n      <td>17</td>\n      <td>1</td>\n      <td>1</td>\n      <td>4</td>\n      <td>0</td>\n      <td>0.466</td>\n      <td>1</td>\n    </tr>\n  </tbody>\n</table>\n<p>2061 rows × 8 columns</p>\n</div>"
     },
     "execution_count": 213,
     "metadata": {},
     "output_type": "execute_result"
    }
   ],
   "source": [
    "scripts_r[\"md\"] = 0\n",
    "scripts[\"md\"] = 1\n",
    "con_data = pd.concat([scripts_r, scripts], axis=0)\n",
    "con_data"
   ],
   "metadata": {
    "collapsed": false,
    "ExecuteTime": {
     "end_time": "2023-10-10T01:33:13.268234Z",
     "start_time": "2023-10-10T01:33:13.239532Z"
    }
   },
   "id": "fd3084cc2c016135"
  },
  {
   "cell_type": "code",
   "execution_count": 214,
   "outputs": [],
   "source": [
    "con_data.to_csv(\"full_data.csv\")"
   ],
   "metadata": {
    "collapsed": false,
    "ExecuteTime": {
     "end_time": "2023-10-10T01:33:43.077375Z",
     "start_time": "2023-10-10T01:33:43.052946Z"
    }
   },
   "id": "2a1e216fc5e84ac2"
  },
  {
   "cell_type": "markdown",
   "source": [
    "con_dat"
   ],
   "metadata": {
    "collapsed": false
   },
   "id": "2218ee57bc40982"
  },
  {
   "cell_type": "code",
   "execution_count": 196,
   "outputs": [],
   "source": [
    "filtered = scripts[scripts['time'] < 500]\n",
    "filtered = filtered[filtered['time'] > 2]"
   ],
   "metadata": {
    "collapsed": false,
    "ExecuteTime": {
     "end_time": "2023-10-09T03:24:45.858824Z",
     "start_time": "2023-10-09T03:24:45.839852Z"
    }
   },
   "id": "8ecee98c219e5f29"
  },
  {
   "cell_type": "code",
   "execution_count": 197,
   "outputs": [
    {
     "data": {
      "text/plain": "     grants   size  packages  alters  commands  commits     time\n8        48    315         3       3        71        0    2.900\n9        62   1268        13       7       242        2    5.014\n11       62   3450         8       8       329       32   21.780\n12      276   5824        49      40      1057       24   15.358\n13      458  10148        78      79       633       59   38.415\n15       25    771         5       3       142        0   18.379\n16       27   1946        47      30       360        3   16.191\n17       62   1658        64      46       282        1   10.072\n18       54   1830        20      18       313        5   11.235\n19       88   7892       191     132       673        3   34.689\n20      256  14413       338     240      1775       12   66.472\n22      763  24871       491     399       710       80  115.785\n24        0    574        63      69        38        1    5.027\n27       64   3185       122     109       599        3   14.154\n28       64   3184       122     109       599        3   14.437\n29       64   3184       122     109       599        3   13.572\n37        0    196         1       4        29        0    9.403\n38        3    752         3       4       142        1   14.920\n39        3    711         3       4       131        0    2.814\n42        2    379         1       2        82        0   11.714\n48      763  24730       491     399       710       80  133.464\n50       48    245         2       2        56        0    2.690\n52        4    463         2       2         6        0    2.802\n74        0     13         1       1         3        0    2.214\n90        1     25         1       1         5        0    2.410\n114       0    220        13      31        21        0    2.561\n133       0    190        20      23        20        0    3.171\n136      19    305        10      24        52        0    2.370\n144      32    285         0       0        44        0    5.687\n148       4     67         0       0        12        0    2.646\n150     772  27339       508     415       949       89  165.697\n154       0    658        20      20       110        0  438.160\n155       0    662        19      19       113        0   84.974\n157       0   2108         0       0        86       42    5.247\n161       0   1224         3       3       214       16    6.013\n162       0   1132         3       3       191        5    3.291\n164       0   1351         3       3       244       30    3.590\n166       0    315         0      46        37        1    2.755\n167       1     25         1       1         5        0    2.057\n173       2     63         2       1        13        1    2.355",
      "text/html": "<div>\n<style scoped>\n    .dataframe tbody tr th:only-of-type {\n        vertical-align: middle;\n    }\n\n    .dataframe tbody tr th {\n        vertical-align: top;\n    }\n\n    .dataframe thead th {\n        text-align: right;\n    }\n</style>\n<table border=\"1\" class=\"dataframe\">\n  <thead>\n    <tr style=\"text-align: right;\">\n      <th></th>\n      <th>grants</th>\n      <th>size</th>\n      <th>packages</th>\n      <th>alters</th>\n      <th>commands</th>\n      <th>commits</th>\n      <th>time</th>\n    </tr>\n  </thead>\n  <tbody>\n    <tr>\n      <th>8</th>\n      <td>48</td>\n      <td>315</td>\n      <td>3</td>\n      <td>3</td>\n      <td>71</td>\n      <td>0</td>\n      <td>2.900</td>\n    </tr>\n    <tr>\n      <th>9</th>\n      <td>62</td>\n      <td>1268</td>\n      <td>13</td>\n      <td>7</td>\n      <td>242</td>\n      <td>2</td>\n      <td>5.014</td>\n    </tr>\n    <tr>\n      <th>11</th>\n      <td>62</td>\n      <td>3450</td>\n      <td>8</td>\n      <td>8</td>\n      <td>329</td>\n      <td>32</td>\n      <td>21.780</td>\n    </tr>\n    <tr>\n      <th>12</th>\n      <td>276</td>\n      <td>5824</td>\n      <td>49</td>\n      <td>40</td>\n      <td>1057</td>\n      <td>24</td>\n      <td>15.358</td>\n    </tr>\n    <tr>\n      <th>13</th>\n      <td>458</td>\n      <td>10148</td>\n      <td>78</td>\n      <td>79</td>\n      <td>633</td>\n      <td>59</td>\n      <td>38.415</td>\n    </tr>\n    <tr>\n      <th>15</th>\n      <td>25</td>\n      <td>771</td>\n      <td>5</td>\n      <td>3</td>\n      <td>142</td>\n      <td>0</td>\n      <td>18.379</td>\n    </tr>\n    <tr>\n      <th>16</th>\n      <td>27</td>\n      <td>1946</td>\n      <td>47</td>\n      <td>30</td>\n      <td>360</td>\n      <td>3</td>\n      <td>16.191</td>\n    </tr>\n    <tr>\n      <th>17</th>\n      <td>62</td>\n      <td>1658</td>\n      <td>64</td>\n      <td>46</td>\n      <td>282</td>\n      <td>1</td>\n      <td>10.072</td>\n    </tr>\n    <tr>\n      <th>18</th>\n      <td>54</td>\n      <td>1830</td>\n      <td>20</td>\n      <td>18</td>\n      <td>313</td>\n      <td>5</td>\n      <td>11.235</td>\n    </tr>\n    <tr>\n      <th>19</th>\n      <td>88</td>\n      <td>7892</td>\n      <td>191</td>\n      <td>132</td>\n      <td>673</td>\n      <td>3</td>\n      <td>34.689</td>\n    </tr>\n    <tr>\n      <th>20</th>\n      <td>256</td>\n      <td>14413</td>\n      <td>338</td>\n      <td>240</td>\n      <td>1775</td>\n      <td>12</td>\n      <td>66.472</td>\n    </tr>\n    <tr>\n      <th>22</th>\n      <td>763</td>\n      <td>24871</td>\n      <td>491</td>\n      <td>399</td>\n      <td>710</td>\n      <td>80</td>\n      <td>115.785</td>\n    </tr>\n    <tr>\n      <th>24</th>\n      <td>0</td>\n      <td>574</td>\n      <td>63</td>\n      <td>69</td>\n      <td>38</td>\n      <td>1</td>\n      <td>5.027</td>\n    </tr>\n    <tr>\n      <th>27</th>\n      <td>64</td>\n      <td>3185</td>\n      <td>122</td>\n      <td>109</td>\n      <td>599</td>\n      <td>3</td>\n      <td>14.154</td>\n    </tr>\n    <tr>\n      <th>28</th>\n      <td>64</td>\n      <td>3184</td>\n      <td>122</td>\n      <td>109</td>\n      <td>599</td>\n      <td>3</td>\n      <td>14.437</td>\n    </tr>\n    <tr>\n      <th>29</th>\n      <td>64</td>\n      <td>3184</td>\n      <td>122</td>\n      <td>109</td>\n      <td>599</td>\n      <td>3</td>\n      <td>13.572</td>\n    </tr>\n    <tr>\n      <th>37</th>\n      <td>0</td>\n      <td>196</td>\n      <td>1</td>\n      <td>4</td>\n      <td>29</td>\n      <td>0</td>\n      <td>9.403</td>\n    </tr>\n    <tr>\n      <th>38</th>\n      <td>3</td>\n      <td>752</td>\n      <td>3</td>\n      <td>4</td>\n      <td>142</td>\n      <td>1</td>\n      <td>14.920</td>\n    </tr>\n    <tr>\n      <th>39</th>\n      <td>3</td>\n      <td>711</td>\n      <td>3</td>\n      <td>4</td>\n      <td>131</td>\n      <td>0</td>\n      <td>2.814</td>\n    </tr>\n    <tr>\n      <th>42</th>\n      <td>2</td>\n      <td>379</td>\n      <td>1</td>\n      <td>2</td>\n      <td>82</td>\n      <td>0</td>\n      <td>11.714</td>\n    </tr>\n    <tr>\n      <th>48</th>\n      <td>763</td>\n      <td>24730</td>\n      <td>491</td>\n      <td>399</td>\n      <td>710</td>\n      <td>80</td>\n      <td>133.464</td>\n    </tr>\n    <tr>\n      <th>50</th>\n      <td>48</td>\n      <td>245</td>\n      <td>2</td>\n      <td>2</td>\n      <td>56</td>\n      <td>0</td>\n      <td>2.690</td>\n    </tr>\n    <tr>\n      <th>52</th>\n      <td>4</td>\n      <td>463</td>\n      <td>2</td>\n      <td>2</td>\n      <td>6</td>\n      <td>0</td>\n      <td>2.802</td>\n    </tr>\n    <tr>\n      <th>74</th>\n      <td>0</td>\n      <td>13</td>\n      <td>1</td>\n      <td>1</td>\n      <td>3</td>\n      <td>0</td>\n      <td>2.214</td>\n    </tr>\n    <tr>\n      <th>90</th>\n      <td>1</td>\n      <td>25</td>\n      <td>1</td>\n      <td>1</td>\n      <td>5</td>\n      <td>0</td>\n      <td>2.410</td>\n    </tr>\n    <tr>\n      <th>114</th>\n      <td>0</td>\n      <td>220</td>\n      <td>13</td>\n      <td>31</td>\n      <td>21</td>\n      <td>0</td>\n      <td>2.561</td>\n    </tr>\n    <tr>\n      <th>133</th>\n      <td>0</td>\n      <td>190</td>\n      <td>20</td>\n      <td>23</td>\n      <td>20</td>\n      <td>0</td>\n      <td>3.171</td>\n    </tr>\n    <tr>\n      <th>136</th>\n      <td>19</td>\n      <td>305</td>\n      <td>10</td>\n      <td>24</td>\n      <td>52</td>\n      <td>0</td>\n      <td>2.370</td>\n    </tr>\n    <tr>\n      <th>144</th>\n      <td>32</td>\n      <td>285</td>\n      <td>0</td>\n      <td>0</td>\n      <td>44</td>\n      <td>0</td>\n      <td>5.687</td>\n    </tr>\n    <tr>\n      <th>148</th>\n      <td>4</td>\n      <td>67</td>\n      <td>0</td>\n      <td>0</td>\n      <td>12</td>\n      <td>0</td>\n      <td>2.646</td>\n    </tr>\n    <tr>\n      <th>150</th>\n      <td>772</td>\n      <td>27339</td>\n      <td>508</td>\n      <td>415</td>\n      <td>949</td>\n      <td>89</td>\n      <td>165.697</td>\n    </tr>\n    <tr>\n      <th>154</th>\n      <td>0</td>\n      <td>658</td>\n      <td>20</td>\n      <td>20</td>\n      <td>110</td>\n      <td>0</td>\n      <td>438.160</td>\n    </tr>\n    <tr>\n      <th>155</th>\n      <td>0</td>\n      <td>662</td>\n      <td>19</td>\n      <td>19</td>\n      <td>113</td>\n      <td>0</td>\n      <td>84.974</td>\n    </tr>\n    <tr>\n      <th>157</th>\n      <td>0</td>\n      <td>2108</td>\n      <td>0</td>\n      <td>0</td>\n      <td>86</td>\n      <td>42</td>\n      <td>5.247</td>\n    </tr>\n    <tr>\n      <th>161</th>\n      <td>0</td>\n      <td>1224</td>\n      <td>3</td>\n      <td>3</td>\n      <td>214</td>\n      <td>16</td>\n      <td>6.013</td>\n    </tr>\n    <tr>\n      <th>162</th>\n      <td>0</td>\n      <td>1132</td>\n      <td>3</td>\n      <td>3</td>\n      <td>191</td>\n      <td>5</td>\n      <td>3.291</td>\n    </tr>\n    <tr>\n      <th>164</th>\n      <td>0</td>\n      <td>1351</td>\n      <td>3</td>\n      <td>3</td>\n      <td>244</td>\n      <td>30</td>\n      <td>3.590</td>\n    </tr>\n    <tr>\n      <th>166</th>\n      <td>0</td>\n      <td>315</td>\n      <td>0</td>\n      <td>46</td>\n      <td>37</td>\n      <td>1</td>\n      <td>2.755</td>\n    </tr>\n    <tr>\n      <th>167</th>\n      <td>1</td>\n      <td>25</td>\n      <td>1</td>\n      <td>1</td>\n      <td>5</td>\n      <td>0</td>\n      <td>2.057</td>\n    </tr>\n    <tr>\n      <th>173</th>\n      <td>2</td>\n      <td>63</td>\n      <td>2</td>\n      <td>1</td>\n      <td>13</td>\n      <td>1</td>\n      <td>2.355</td>\n    </tr>\n  </tbody>\n</table>\n</div>"
     },
     "execution_count": 197,
     "metadata": {},
     "output_type": "execute_result"
    }
   ],
   "source": [
    "filtered"
   ],
   "metadata": {
    "collapsed": false,
    "ExecuteTime": {
     "end_time": "2023-10-09T03:24:46.903542Z",
     "start_time": "2023-10-09T03:24:46.886150Z"
    }
   },
   "id": "6a47544d7bcb58c"
  },
  {
   "cell_type": "code",
   "execution_count": 198,
   "outputs": [
    {
     "data": {
      "text/plain": "array([[<Axes: title={'center': 'grants'}>,\n        <Axes: title={'center': 'size'}>,\n        <Axes: title={'center': 'packages'}>],\n       [<Axes: title={'center': 'alters'}>,\n        <Axes: title={'center': 'commands'}>,\n        <Axes: title={'center': 'commits'}>],\n       [<Axes: title={'center': 'time'}>, <Axes: >, <Axes: >]],\n      dtype=object)"
     },
     "execution_count": 198,
     "metadata": {},
     "output_type": "execute_result"
    },
    {
     "data": {
      "text/plain": "<Figure size 640x480 with 9 Axes>",
      "image/png": "[encoded data removed]"
     },
     "metadata": {},
     "output_type": "display_data"
    }
   ],
   "source": [
    "filtered.hist()"
   ],
   "metadata": {
    "collapsed": false,
    "ExecuteTime": {
     "end_time": "2023-10-09T03:24:47.864167Z",
     "start_time": "2023-10-09T03:24:47.525885Z"
    }
   },
   "id": "20a4d2f1176ac12f"
  },
  {
   "cell_type": "code",
   "execution_count": 199,
   "outputs": [
    {
     "data": {
      "text/plain": "            grants      size  packages    alters  commands   commits      time\ngrants    1.000000  0.969306  0.905062  0.913311  0.630914  0.905879  0.374402\nsize      0.969306  1.000000  0.968878  0.966259  0.707719  0.882371  0.399156\npackages  0.905062  0.968878  1.000000  0.994741  0.720153  0.768470  0.398243\nalters    0.913311  0.966259  0.994741  1.000000  0.689009  0.781390  0.398308\ncommands  0.630914  0.707719  0.720153  0.689009  1.000000  0.494720  0.222704\ncommits   0.905879  0.882371  0.768470  0.781390  0.494720  1.000000  0.325730\ntime      0.374402  0.399156  0.398243  0.398308  0.222704  0.325730  1.000000",
      "text/html": "<div>\n<style scoped>\n    .dataframe tbody tr th:only-of-type {\n        vertical-align: middle;\n    }\n\n    .dataframe tbody tr th {\n        vertical-align: top;\n    }\n\n    .dataframe thead th {\n        text-align: right;\n    }\n</style>\n<table border=\"1\" class=\"dataframe\">\n  <thead>\n    <tr style=\"text-align: right;\">\n      <th></th>\n      <th>grants</th>\n      <th>size</th>\n      <th>packages</th>\n      <th>alters</th>\n      <th>commands</th>\n      <th>commits</th>\n      <th>time</th>\n    </tr>\n  </thead>\n  <tbody>\n    <tr>\n      <th>grants</th>\n      <td>1.000000</td>\n      <td>0.969306</td>\n      <td>0.905062</td>\n      <td>0.913311</td>\n      <td>0.630914</td>\n      <td>0.905879</td>\n      <td>0.374402</td>\n    </tr>\n    <tr>\n      <th>size</th>\n      <td>0.969306</td>\n      <td>1.000000</td>\n      <td>0.968878</td>\n      <td>0.966259</td>\n      <td>0.707719</td>\n      <td>0.882371</td>\n      <td>0.399156</td>\n    </tr>\n    <tr>\n      <th>packages</th>\n      <td>0.905062</td>\n      <td>0.968878</td>\n      <td>1.000000</td>\n      <td>0.994741</td>\n      <td>0.720153</td>\n      <td>0.768470</td>\n      <td>0.398243</td>\n    </tr>\n    <tr>\n      <th>alters</th>\n      <td>0.913311</td>\n      <td>0.966259</td>\n      <td>0.994741</td>\n      <td>1.000000</td>\n      <td>0.689009</td>\n      <td>0.781390</td>\n      <td>0.398308</td>\n    </tr>\n    <tr>\n      <th>commands</th>\n      <td>0.630914</td>\n      <td>0.707719</td>\n      <td>0.720153</td>\n      <td>0.689009</td>\n      <td>1.000000</td>\n      <td>0.494720</td>\n      <td>0.222704</td>\n    </tr>\n    <tr>\n      <th>commits</th>\n      <td>0.905879</td>\n      <td>0.882371</td>\n      <td>0.768470</td>\n      <td>0.781390</td>\n      <td>0.494720</td>\n      <td>1.000000</td>\n      <td>0.325730</td>\n    </tr>\n    <tr>\n      <th>time</th>\n      <td>0.374402</td>\n      <td>0.399156</td>\n      <td>0.398243</td>\n      <td>0.398308</td>\n      <td>0.222704</td>\n      <td>0.325730</td>\n      <td>1.000000</td>\n    </tr>\n  </tbody>\n</table>\n</div>"
     },
     "execution_count": 199,
     "metadata": {},
     "output_type": "execute_result"
    }
   ],
   "source": [
    "filtered.corr()"
   ],
   "metadata": {
    "collapsed": false,
    "ExecuteTime": {
     "end_time": "2023-10-09T03:24:49.668535Z",
     "start_time": "2023-10-09T03:24:49.650514Z"
    }
   },
   "id": "9b779ad5ac70972b"
  },
  {
   "cell_type": "code",
   "execution_count": 200,
   "outputs": [
    {
     "data": {
      "text/plain": "     grants   size  packages  alters  commands  commits     time\n8        48    315         3       3        71        0    2.900\n9        62   1268        13       7       242        2    5.014\n11       62   3450         8       8       329       32   21.780\n12      276   5824        49      40      1057       24   15.358\n13      458  10148        78      79       633       59   38.415\n15       25    771         5       3       142        0   18.379\n16       27   1946        47      30       360        3   16.191\n17       62   1658        64      46       282        1   10.072\n18       54   1830        20      18       313        5   11.235\n19       88   7892       191     132       673        3   34.689\n20      256  14413       338     240      1775       12   66.472\n22      763  24871       491     399       710       80  115.785\n24        0    574        63      69        38        1    5.027\n27       64   3185       122     109       599        3   14.154\n28       64   3184       122     109       599        3   14.437\n29       64   3184       122     109       599        3   13.572\n37        0    196         1       4        29        0    9.403\n38        3    752         3       4       142        1   14.920\n39        3    711         3       4       131        0    2.814\n42        2    379         1       2        82        0   11.714\n48      763  24730       491     399       710       80  133.464\n50       48    245         2       2        56        0    2.690\n52        4    463         2       2         6        0    2.802\n74        0     13         1       1         3        0    2.214\n90        1     25         1       1         5        0    2.410\n114       0    220        13      31        21        0    2.561\n133       0    190        20      23        20        0    3.171\n136      19    305        10      24        52        0    2.370\n144      32    285         0       0        44        0    5.687\n148       4     67         0       0        12        0    2.646\n150     772  27339       508     415       949       89  165.697\n154       0    658        20      20       110        0  438.160\n155       0    662        19      19       113        0   84.974\n157       0   2108         0       0        86       42    5.247\n161       0   1224         3       3       214       16    6.013\n162       0   1132         3       3       191        5    3.291\n164       0   1351         3       3       244       30    3.590\n166       0    315         0      46        37        1    2.755\n167       1     25         1       1         5        0    2.057\n173       2     63         2       1        13        1    2.355",
      "text/html": "<div>\n<style scoped>\n    .dataframe tbody tr th:only-of-type {\n        vertical-align: middle;\n    }\n\n    .dataframe tbody tr th {\n        vertical-align: top;\n    }\n\n    .dataframe thead th {\n        text-align: right;\n    }\n</style>\n<table border=\"1\" class=\"dataframe\">\n  <thead>\n    <tr style=\"text-align: right;\">\n      <th></th>\n      <th>grants</th>\n      <th>size</th>\n      <th>packages</th>\n      <th>alters</th>\n      <th>commands</th>\n      <th>commits</th>\n      <th>time</th>\n    </tr>\n  </thead>\n  <tbody>\n    <tr>\n      <th>8</th>\n      <td>48</td>\n      <td>315</td>\n      <td>3</td>\n      <td>3</td>\n      <td>71</td>\n      <td>0</td>\n      <td>2.900</td>\n    </tr>\n    <tr>\n      <th>9</th>\n      <td>62</td>\n      <td>1268</td>\n      <td>13</td>\n      <td>7</td>\n      <td>242</td>\n      <td>2</td>\n      <td>5.014</td>\n    </tr>\n    <tr>\n      <th>11</th>\n      <td>62</td>\n      <td>3450</td>\n      <td>8</td>\n      <td>8</td>\n      <td>329</td>\n      <td>32</td>\n      <td>21.780</td>\n    </tr>\n    <tr>\n      <th>12</th>\n      <td>276</td>\n      <td>5824</td>\n      <td>49</td>\n      <td>40</td>\n      <td>1057</td>\n      <td>24</td>\n      <td>15.358</td>\n    </tr>\n    <tr>\n      <th>13</th>\n      <td>458</td>\n      <td>10148</td>\n      <td>78</td>\n      <td>79</td>\n      <td>633</td>\n      <td>59</td>\n      <td>38.415</td>\n    </tr>\n    <tr>\n      <th>15</th>\n      <td>25</td>\n      <td>771</td>\n      <td>5</td>\n      <td>3</td>\n      <td>142</td>\n      <td>0</td>\n      <td>18.379</td>\n    </tr>\n    <tr>\n      <th>16</th>\n      <td>27</td>\n      <td>1946</td>\n      <td>47</td>\n      <td>30</td>\n      <td>360</td>\n      <td>3</td>\n      <td>16.191</td>\n    </tr>\n    <tr>\n      <th>17</th>\n      <td>62</td>\n      <td>1658</td>\n      <td>64</td>\n      <td>46</td>\n      <td>282</td>\n      <td>1</td>\n      <td>10.072</td>\n    </tr>\n    <tr>\n      <th>18</th>\n      <td>54</td>\n      <td>1830</td>\n      <td>20</td>\n      <td>18</td>\n      <td>313</td>\n      <td>5</td>\n      <td>11.235</td>\n    </tr>\n    <tr>\n      <th>19</th>\n      <td>88</td>\n      <td>7892</td>\n      <td>191</td>\n      <td>132</td>\n      <td>673</td>\n      <td>3</td>\n      <td>34.689</td>\n    </tr>\n    <tr>\n      <th>20</th>\n      <td>256</td>\n      <td>14413</td>\n      <td>338</td>\n      <td>240</td>\n      <td>1775</td>\n      <td>12</td>\n      <td>66.472</td>\n    </tr>\n    <tr>\n      <th>22</th>\n      <td>763</td>\n      <td>24871</td>\n      <td>491</td>\n      <td>399</td>\n      <td>710</td>\n      <td>80</td>\n      <td>115.785</td>\n    </tr>\n    <tr>\n      <th>24</th>\n      <td>0</td>\n      <td>574</td>\n      <td>63</td>\n      <td>69</td>\n      <td>38</td>\n      <td>1</td>\n      <td>5.027</td>\n    </tr>\n    <tr>\n      <th>27</th>\n      <td>64</td>\n      <td>3185</td>\n      <td>122</td>\n      <td>109</td>\n      <td>599</td>\n      <td>3</td>\n      <td>14.154</td>\n    </tr>\n    <tr>\n      <th>28</th>\n      <td>64</td>\n      <td>3184</td>\n      <td>122</td>\n      <td>109</td>\n      <td>599</td>\n      <td>3</td>\n      <td>14.437</td>\n    </tr>\n    <tr>\n      <th>29</th>\n      <td>64</td>\n      <td>3184</td>\n      <td>122</td>\n      <td>109</td>\n      <td>599</td>\n      <td>3</td>\n      <td>13.572</td>\n    </tr>\n    <tr>\n      <th>37</th>\n      <td>0</td>\n      <td>196</td>\n      <td>1</td>\n      <td>4</td>\n      <td>29</td>\n      <td>0</td>\n      <td>9.403</td>\n    </tr>\n    <tr>\n      <th>38</th>\n      <td>3</td>\n      <td>752</td>\n      <td>3</td>\n      <td>4</td>\n      <td>142</td>\n      <td>1</td>\n      <td>14.920</td>\n    </tr>\n    <tr>\n      <th>39</th>\n      <td>3</td>\n      <td>711</td>\n      <td>3</td>\n      <td>4</td>\n      <td>131</td>\n      <td>0</td>\n      <td>2.814</td>\n    </tr>\n    <tr>\n      <th>42</th>\n      <td>2</td>\n      <td>379</td>\n      <td>1</td>\n      <td>2</td>\n      <td>82</td>\n      <td>0</td>\n      <td>11.714</td>\n    </tr>\n    <tr>\n      <th>48</th>\n      <td>763</td>\n      <td>24730</td>\n      <td>491</td>\n      <td>399</td>\n      <td>710</td>\n      <td>80</td>\n      <td>133.464</td>\n    </tr>\n    <tr>\n      <th>50</th>\n      <td>48</td>\n      <td>245</td>\n      <td>2</td>\n      <td>2</td>\n      <td>56</td>\n      <td>0</td>\n      <td>2.690</td>\n    </tr>\n    <tr>\n      <th>52</th>\n      <td>4</td>\n      <td>463</td>\n      <td>2</td>\n      <td>2</td>\n      <td>6</td>\n      <td>0</td>\n      <td>2.802</td>\n    </tr>\n    <tr>\n      <th>74</th>\n      <td>0</td>\n      <td>13</td>\n      <td>1</td>\n      <td>1</td>\n      <td>3</td>\n      <td>0</td>\n      <td>2.214</td>\n    </tr>\n    <tr>\n      <th>90</th>\n      <td>1</td>\n      <td>25</td>\n      <td>1</td>\n      <td>1</td>\n      <td>5</td>\n      <td>0</td>\n      <td>2.410</td>\n    </tr>\n    <tr>\n      <th>114</th>\n      <td>0</td>\n      <td>220</td>\n      <td>13</td>\n      <td>31</td>\n      <td>21</td>\n      <td>0</td>\n      <td>2.561</td>\n    </tr>\n    <tr>\n      <th>133</th>\n      <td>0</td>\n      <td>190</td>\n      <td>20</td>\n      <td>23</td>\n      <td>20</td>\n      <td>0</td>\n      <td>3.171</td>\n    </tr>\n    <tr>\n      <th>136</th>\n      <td>19</td>\n      <td>305</td>\n      <td>10</td>\n      <td>24</td>\n      <td>52</td>\n      <td>0</td>\n      <td>2.370</td>\n    </tr>\n    <tr>\n      <th>144</th>\n      <td>32</td>\n      <td>285</td>\n      <td>0</td>\n      <td>0</td>\n      <td>44</td>\n      <td>0</td>\n      <td>5.687</td>\n    </tr>\n    <tr>\n      <th>148</th>\n      <td>4</td>\n      <td>67</td>\n      <td>0</td>\n      <td>0</td>\n      <td>12</td>\n      <td>0</td>\n      <td>2.646</td>\n    </tr>\n    <tr>\n      <th>150</th>\n      <td>772</td>\n      <td>27339</td>\n      <td>508</td>\n      <td>415</td>\n      <td>949</td>\n      <td>89</td>\n      <td>165.697</td>\n    </tr>\n    <tr>\n      <th>154</th>\n      <td>0</td>\n      <td>658</td>\n      <td>20</td>\n      <td>20</td>\n      <td>110</td>\n      <td>0</td>\n      <td>438.160</td>\n    </tr>\n    <tr>\n      <th>155</th>\n      <td>0</td>\n      <td>662</td>\n      <td>19</td>\n      <td>19</td>\n      <td>113</td>\n      <td>0</td>\n      <td>84.974</td>\n    </tr>\n    <tr>\n      <th>157</th>\n      <td>0</td>\n      <td>2108</td>\n      <td>0</td>\n      <td>0</td>\n      <td>86</td>\n      <td>42</td>\n      <td>5.247</td>\n    </tr>\n    <tr>\n      <th>161</th>\n      <td>0</td>\n      <td>1224</td>\n      <td>3</td>\n      <td>3</td>\n      <td>214</td>\n      <td>16</td>\n      <td>6.013</td>\n    </tr>\n    <tr>\n      <th>162</th>\n      <td>0</td>\n      <td>1132</td>\n      <td>3</td>\n      <td>3</td>\n      <td>191</td>\n      <td>5</td>\n      <td>3.291</td>\n    </tr>\n    <tr>\n      <th>164</th>\n      <td>0</td>\n      <td>1351</td>\n      <td>3</td>\n      <td>3</td>\n      <td>244</td>\n      <td>30</td>\n      <td>3.590</td>\n    </tr>\n    <tr>\n      <th>166</th>\n      <td>0</td>\n      <td>315</td>\n      <td>0</td>\n      <td>46</td>\n      <td>37</td>\n      <td>1</td>\n      <td>2.755</td>\n    </tr>\n    <tr>\n      <th>167</th>\n      <td>1</td>\n      <td>25</td>\n      <td>1</td>\n      <td>1</td>\n      <td>5</td>\n      <td>0</td>\n      <td>2.057</td>\n    </tr>\n    <tr>\n      <th>173</th>\n      <td>2</td>\n      <td>63</td>\n      <td>2</td>\n      <td>1</td>\n      <td>13</td>\n      <td>1</td>\n      <td>2.355</td>\n    </tr>\n  </tbody>\n</table>\n</div>"
     },
     "execution_count": 200,
     "metadata": {},
     "output_type": "execute_result"
    }
   ],
   "source": [
    "filtered"
   ],
   "metadata": {
    "collapsed": false,
    "ExecuteTime": {
     "end_time": "2023-10-09T03:24:52.017664Z",
     "start_time": "2023-10-09T03:24:51.998568Z"
    }
   },
   "id": "10fd66178154da09"
  },
  {
   "cell_type": "code",
   "execution_count": 201,
   "outputs": [
    {
     "name": "stderr",
     "output_type": "stream",
     "text": [
      "/var/folders/51/l057c8xx2md597vhk47n57rm0000gn/T/ipykernel_23167/2816275525.py:1: SettingWithCopyWarning: \n",
      "A value is trying to be set on a copy of a slice from a DataFrame.\n",
      "Try using .loc[row_indexer,col_indexer] = value instead\n",
      "\n",
      "See the caveats in the documentation: https://pandas.pydata.org/pandas-docs/stable/user_guide/indexing.html#returning-a-view-versus-a-copy\n",
      "  f3[\"md\"] = 0\n"
     ]
    }
   ],
   "source": [
    "f3[\"md\"] = 0"
   ],
   "metadata": {
    "collapsed": false,
    "ExecuteTime": {
     "end_time": "2023-10-09T03:24:56.526927Z",
     "start_time": "2023-10-09T03:24:56.504325Z"
    }
   },
   "id": "bf4904a46990e307"
  },
  {
   "cell_type": "code",
   "execution_count": 202,
   "outputs": [
    {
     "data": {
      "text/plain": "     grants   size  packages  alters  commands  commits     time  md\n8        48    315         3       3        71        0    2.900   1\n9        62   1268        13       7       242        2    5.014   1\n11       62   3450         8       8       329       32   21.780   1\n12      276   5824        49      40      1057       24   15.358   1\n13      458  10148        78      79       633       59   38.415   1\n15       25    771         5       3       142        0   18.379   1\n16       27   1946        47      30       360        3   16.191   1\n17       62   1658        64      46       282        1   10.072   1\n18       54   1830        20      18       313        5   11.235   1\n19       88   7892       191     132       673        3   34.689   1\n20      256  14413       338     240      1775       12   66.472   1\n22      763  24871       491     399       710       80  115.785   1\n24        0    574        63      69        38        1    5.027   1\n27       64   3185       122     109       599        3   14.154   1\n28       64   3184       122     109       599        3   14.437   1\n29       64   3184       122     109       599        3   13.572   1\n37        0    196         1       4        29        0    9.403   1\n38        3    752         3       4       142        1   14.920   1\n39        3    711         3       4       131        0    2.814   1\n42        2    379         1       2        82        0   11.714   1\n48      763  24730       491     399       710       80  133.464   1\n50       48    245         2       2        56        0    2.690   1\n52        4    463         2       2         6        0    2.802   1\n74        0     13         1       1         3        0    2.214   1\n90        1     25         1       1         5        0    2.410   1\n114       0    220        13      31        21        0    2.561   1\n133       0    190        20      23        20        0    3.171   1\n136      19    305        10      24        52        0    2.370   1\n144      32    285         0       0        44        0    5.687   1\n148       4     67         0       0        12        0    2.646   1\n150     772  27339       508     415       949       89  165.697   1\n154       0    658        20      20       110        0  438.160   1\n155       0    662        19      19       113        0   84.974   1\n157       0   2108         0       0        86       42    5.247   1\n161       0   1224         3       3       214       16    6.013   1\n162       0   1132         3       3       191        5    3.291   1\n164       0   1351         3       3       244       30    3.590   1\n166       0    315         0      46        37        1    2.755   1\n167       1     25         1       1         5        0    2.057   1\n173       2     63         2       1        13        1    2.355   1",
      "text/html": "<div>\n<style scoped>\n    .dataframe tbody tr th:only-of-type {\n        vertical-align: middle;\n    }\n\n    .dataframe tbody tr th {\n        vertical-align: top;\n    }\n\n    .dataframe thead th {\n        text-align: right;\n    }\n</style>\n<table border=\"1\" class=\"dataframe\">\n  <thead>\n    <tr style=\"text-align: right;\">\n      <th></th>\n      <th>grants</th>\n      <th>size</th>\n      <th>packages</th>\n      <th>alters</th>\n      <th>commands</th>\n      <th>commits</th>\n      <th>time</th>\n      <th>md</th>\n    </tr>\n  </thead>\n  <tbody>\n    <tr>\n      <th>8</th>\n      <td>48</td>\n      <td>315</td>\n      <td>3</td>\n      <td>3</td>\n      <td>71</td>\n      <td>0</td>\n      <td>2.900</td>\n      <td>1</td>\n    </tr>\n    <tr>\n      <th>9</th>\n      <td>62</td>\n      <td>1268</td>\n      <td>13</td>\n      <td>7</td>\n      <td>242</td>\n      <td>2</td>\n      <td>5.014</td>\n      <td>1</td>\n    </tr>\n    <tr>\n      <th>11</th>\n      <td>62</td>\n      <td>3450</td>\n      <td>8</td>\n      <td>8</td>\n      <td>329</td>\n      <td>32</td>\n      <td>21.780</td>\n      <td>1</td>\n    </tr>\n    <tr>\n      <th>12</th>\n      <td>276</td>\n      <td>5824</td>\n      <td>49</td>\n      <td>40</td>\n      <td>1057</td>\n      <td>24</td>\n      <td>15.358</td>\n      <td>1</td>\n    </tr>\n    <tr>\n      <th>13</th>\n      <td>458</td>\n      <td>10148</td>\n      <td>78</td>\n      <td>79</td>\n      <td>633</td>\n      <td>59</td>\n      <td>38.415</td>\n      <td>1</td>\n    </tr>\n    <tr>\n      <th>15</th>\n      <td>25</td>\n      <td>771</td>\n      <td>5</td>\n      <td>3</td>\n      <td>142</td>\n      <td>0</td>\n      <td>18.379</td>\n      <td>1</td>\n    </tr>\n    <tr>\n      <th>16</th>\n      <td>27</td>\n      <td>1946</td>\n      <td>47</td>\n      <td>30</td>\n      <td>360</td>\n      <td>3</td>\n      <td>16.191</td>\n      <td>1</td>\n    </tr>\n    <tr>\n      <th>17</th>\n      <td>62</td>\n      <td>1658</td>\n      <td>64</td>\n      <td>46</td>\n      <td>282</td>\n      <td>1</td>\n      <td>10.072</td>\n      <td>1</td>\n    </tr>\n    <tr>\n      <th>18</th>\n      <td>54</td>\n      <td>1830</td>\n      <td>20</td>\n      <td>18</td>\n      <td>313</td>\n      <td>5</td>\n      <td>11.235</td>\n      <td>1</td>\n    </tr>\n    <tr>\n      <th>19</th>\n      <td>88</td>\n      <td>7892</td>\n      <td>191</td>\n      <td>132</td>\n      <td>673</td>\n      <td>3</td>\n      <td>34.689</td>\n      <td>1</td>\n    </tr>\n    <tr>\n      <th>20</th>\n      <td>256</td>\n      <td>14413</td>\n      <td>338</td>\n      <td>240</td>\n      <td>1775</td>\n      <td>12</td>\n      <td>66.472</td>\n      <td>1</td>\n    </tr>\n    <tr>\n      <th>22</th>\n      <td>763</td>\n      <td>24871</td>\n      <td>491</td>\n      <td>399</td>\n      <td>710</td>\n      <td>80</td>\n      <td>115.785</td>\n      <td>1</td>\n    </tr>\n    <tr>\n      <th>24</th>\n      <td>0</td>\n      <td>574</td>\n      <td>63</td>\n      <td>69</td>\n      <td>38</td>\n      <td>1</td>\n      <td>5.027</td>\n      <td>1</td>\n    </tr>\n    <tr>\n      <th>27</th>\n      <td>64</td>\n      <td>3185</td>\n      <td>122</td>\n      <td>109</td>\n      <td>599</td>\n      <td>3</td>\n      <td>14.154</td>\n      <td>1</td>\n    </tr>\n    <tr>\n      <th>28</th>\n      <td>64</td>\n      <td>3184</td>\n      <td>122</td>\n      <td>109</td>\n      <td>599</td>\n      <td>3</td>\n      <td>14.437</td>\n      <td>1</td>\n    </tr>\n    <tr>\n      <th>29</th>\n      <td>64</td>\n      <td>3184</td>\n      <td>122</td>\n      <td>109</td>\n      <td>599</td>\n      <td>3</td>\n      <td>13.572</td>\n      <td>1</td>\n    </tr>\n    <tr>\n      <th>37</th>\n      <td>0</td>\n      <td>196</td>\n      <td>1</td>\n      <td>4</td>\n      <td>29</td>\n      <td>0</td>\n      <td>9.403</td>\n      <td>1</td>\n    </tr>\n    <tr>\n      <th>38</th>\n      <td>3</td>\n      <td>752</td>\n      <td>3</td>\n      <td>4</td>\n      <td>142</td>\n      <td>1</td>\n      <td>14.920</td>\n      <td>1</td>\n    </tr>\n    <tr>\n      <th>39</th>\n      <td>3</td>\n      <td>711</td>\n      <td>3</td>\n      <td>4</td>\n      <td>131</td>\n      <td>0</td>\n      <td>2.814</td>\n      <td>1</td>\n    </tr>\n    <tr>\n      <th>42</th>\n      <td>2</td>\n      <td>379</td>\n      <td>1</td>\n      <td>2</td>\n      <td>82</td>\n      <td>0</td>\n      <td>11.714</td>\n      <td>1</td>\n    </tr>\n    <tr>\n      <th>48</th>\n      <td>763</td>\n      <td>24730</td>\n      <td>491</td>\n      <td>399</td>\n      <td>710</td>\n      <td>80</td>\n      <td>133.464</td>\n      <td>1</td>\n    </tr>\n    <tr>\n      <th>50</th>\n      <td>48</td>\n      <td>245</td>\n      <td>2</td>\n      <td>2</td>\n      <td>56</td>\n      <td>0</td>\n      <td>2.690</td>\n      <td>1</td>\n    </tr>\n    <tr>\n      <th>52</th>\n      <td>4</td>\n      <td>463</td>\n      <td>2</td>\n      <td>2</td>\n      <td>6</td>\n      <td>0</td>\n      <td>2.802</td>\n      <td>1</td>\n    </tr>\n    <tr>\n      <th>74</th>\n      <td>0</td>\n      <td>13</td>\n      <td>1</td>\n      <td>1</td>\n      <td>3</td>\n      <td>0</td>\n      <td>2.214</td>\n      <td>1</td>\n    </tr>\n    <tr>\n      <th>90</th>\n      <td>1</td>\n      <td>25</td>\n      <td>1</td>\n      <td>1</td>\n      <td>5</td>\n      <td>0</td>\n      <td>2.410</td>\n      <td>1</td>\n    </tr>\n    <tr>\n      <th>114</th>\n      <td>0</td>\n      <td>220</td>\n      <td>13</td>\n      <td>31</td>\n      <td>21</td>\n      <td>0</td>\n      <td>2.561</td>\n      <td>1</td>\n    </tr>\n    <tr>\n      <th>133</th>\n      <td>0</td>\n      <td>190</td>\n      <td>20</td>\n      <td>23</td>\n      <td>20</td>\n      <td>0</td>\n      <td>3.171</td>\n      <td>1</td>\n    </tr>\n    <tr>\n      <th>136</th>\n      <td>19</td>\n      <td>305</td>\n      <td>10</td>\n      <td>24</td>\n      <td>52</td>\n      <td>0</td>\n      <td>2.370</td>\n      <td>1</td>\n    </tr>\n    <tr>\n      <th>144</th>\n      <td>32</td>\n      <td>285</td>\n      <td>0</td>\n      <td>0</td>\n      <td>44</td>\n      <td>0</td>\n      <td>5.687</td>\n      <td>1</td>\n    </tr>\n    <tr>\n      <th>148</th>\n      <td>4</td>\n      <td>67</td>\n      <td>0</td>\n      <td>0</td>\n      <td>12</td>\n      <td>0</td>\n      <td>2.646</td>\n      <td>1</td>\n    </tr>\n    <tr>\n      <th>150</th>\n      <td>772</td>\n      <td>27339</td>\n      <td>508</td>\n      <td>415</td>\n      <td>949</td>\n      <td>89</td>\n      <td>165.697</td>\n      <td>1</td>\n    </tr>\n    <tr>\n      <th>154</th>\n      <td>0</td>\n      <td>658</td>\n      <td>20</td>\n      <td>20</td>\n      <td>110</td>\n      <td>0</td>\n      <td>438.160</td>\n      <td>1</td>\n    </tr>\n    <tr>\n      <th>155</th>\n      <td>0</td>\n      <td>662</td>\n      <td>19</td>\n      <td>19</td>\n      <td>113</td>\n      <td>0</td>\n      <td>84.974</td>\n      <td>1</td>\n    </tr>\n    <tr>\n      <th>157</th>\n      <td>0</td>\n      <td>2108</td>\n      <td>0</td>\n      <td>0</td>\n      <td>86</td>\n      <td>42</td>\n      <td>5.247</td>\n      <td>1</td>\n    </tr>\n    <tr>\n      <th>161</th>\n      <td>0</td>\n      <td>1224</td>\n      <td>3</td>\n      <td>3</td>\n      <td>214</td>\n      <td>16</td>\n      <td>6.013</td>\n      <td>1</td>\n    </tr>\n    <tr>\n      <th>162</th>\n      <td>0</td>\n      <td>1132</td>\n      <td>3</td>\n      <td>3</td>\n      <td>191</td>\n      <td>5</td>\n      <td>3.291</td>\n      <td>1</td>\n    </tr>\n    <tr>\n      <th>164</th>\n      <td>0</td>\n      <td>1351</td>\n      <td>3</td>\n      <td>3</td>\n      <td>244</td>\n      <td>30</td>\n      <td>3.590</td>\n      <td>1</td>\n    </tr>\n    <tr>\n      <th>166</th>\n      <td>0</td>\n      <td>315</td>\n      <td>0</td>\n      <td>46</td>\n      <td>37</td>\n      <td>1</td>\n      <td>2.755</td>\n      <td>1</td>\n    </tr>\n    <tr>\n      <th>167</th>\n      <td>1</td>\n      <td>25</td>\n      <td>1</td>\n      <td>1</td>\n      <td>5</td>\n      <td>0</td>\n      <td>2.057</td>\n      <td>1</td>\n    </tr>\n    <tr>\n      <th>173</th>\n      <td>2</td>\n      <td>63</td>\n      <td>2</td>\n      <td>1</td>\n      <td>13</td>\n      <td>1</td>\n      <td>2.355</td>\n      <td>1</td>\n    </tr>\n  </tbody>\n</table>\n</div>"
     },
     "execution_count": 202,
     "metadata": {},
     "output_type": "execute_result"
    }
   ],
   "source": [
    "filtered[\"md\"] = 1\n",
    "filtered"
   ],
   "metadata": {
    "collapsed": false,
    "ExecuteTime": {
     "end_time": "2023-10-09T03:24:58.613849Z",
     "start_time": "2023-10-09T03:24:58.595320Z"
    }
   },
   "id": "61ae77c1f4689a4"
  },
  {
   "cell_type": "code",
   "execution_count": 203,
   "outputs": [],
   "source": [
    "con_data = pd.concat([filtered, f3], axis=0)"
   ],
   "metadata": {
    "collapsed": false,
    "ExecuteTime": {
     "end_time": "2023-10-09T03:25:01.441444Z",
     "start_time": "2023-10-09T03:25:01.416974Z"
    }
   },
   "id": "eb710608a7d60439"
  },
  {
   "cell_type": "code",
   "execution_count": 204,
   "outputs": [
    {
     "data": {
      "text/plain": "      grants   size  packages  alters  commands  commits    time  md\n8         48    315         3       3        71        0   2.900   1\n9         62   1268        13       7       242        2   5.014   1\n11        62   3450         8       8       329       32  21.780   1\n12       276   5824        49      40      1057       24  15.358   1\n13       458  10148        78      79       633       59  38.415   1\n...      ...    ...       ...     ...       ...      ...     ...  ..\n1810       0    181         1       0        31        0   2.713   0\n1822      87   1582        46      52       257        0   4.762   0\n1831      14   2233        52      20       172        2   2.294   0\n1840      19   2468        39       9       210        5   2.227   0\n1841       8   2177        39       9       165        5   2.352   0\n\n[257 rows x 8 columns]",
      "text/html": "<div>\n<style scoped>\n    .dataframe tbody tr th:only-of-type {\n        vertical-align: middle;\n    }\n\n    .dataframe tbody tr th {\n        vertical-align: top;\n    }\n\n    .dataframe thead th {\n        text-align: right;\n    }\n</style>\n<table border=\"1\" class=\"dataframe\">\n  <thead>\n    <tr style=\"text-align: right;\">\n      <th></th>\n      <th>grants</th>\n      <th>size</th>\n      <th>packages</th>\n      <th>alters</th>\n      <th>commands</th>\n      <th>commits</th>\n      <th>time</th>\n      <th>md</th>\n    </tr>\n  </thead>\n  <tbody>\n    <tr>\n      <th>8</th>\n      <td>48</td>\n      <td>315</td>\n      <td>3</td>\n      <td>3</td>\n      <td>71</td>\n      <td>0</td>\n      <td>2.900</td>\n      <td>1</td>\n    </tr>\n    <tr>\n      <th>9</th>\n      <td>62</td>\n      <td>1268</td>\n      <td>13</td>\n      <td>7</td>\n      <td>242</td>\n      <td>2</td>\n      <td>5.014</td>\n      <td>1</td>\n    </tr>\n    <tr>\n      <th>11</th>\n      <td>62</td>\n      <td>3450</td>\n      <td>8</td>\n      <td>8</td>\n      <td>329</td>\n      <td>32</td>\n      <td>21.780</td>\n      <td>1</td>\n    </tr>\n    <tr>\n      <th>12</th>\n      <td>276</td>\n      <td>5824</td>\n      <td>49</td>\n      <td>40</td>\n      <td>1057</td>\n      <td>24</td>\n      <td>15.358</td>\n      <td>1</td>\n    </tr>\n    <tr>\n      <th>13</th>\n      <td>458</td>\n      <td>10148</td>\n      <td>78</td>\n      <td>79</td>\n      <td>633</td>\n      <td>59</td>\n      <td>38.415</td>\n      <td>1</td>\n    </tr>\n    <tr>\n      <th>...</th>\n      <td>...</td>\n      <td>...</td>\n      <td>...</td>\n      <td>...</td>\n      <td>...</td>\n      <td>...</td>\n      <td>...</td>\n      <td>...</td>\n    </tr>\n    <tr>\n      <th>1810</th>\n      <td>0</td>\n      <td>181</td>\n      <td>1</td>\n      <td>0</td>\n      <td>31</td>\n      <td>0</td>\n      <td>2.713</td>\n      <td>0</td>\n    </tr>\n    <tr>\n      <th>1822</th>\n      <td>87</td>\n      <td>1582</td>\n      <td>46</td>\n      <td>52</td>\n      <td>257</td>\n      <td>0</td>\n      <td>4.762</td>\n      <td>0</td>\n    </tr>\n    <tr>\n      <th>1831</th>\n      <td>14</td>\n      <td>2233</td>\n      <td>52</td>\n      <td>20</td>\n      <td>172</td>\n      <td>2</td>\n      <td>2.294</td>\n      <td>0</td>\n    </tr>\n    <tr>\n      <th>1840</th>\n      <td>19</td>\n      <td>2468</td>\n      <td>39</td>\n      <td>9</td>\n      <td>210</td>\n      <td>5</td>\n      <td>2.227</td>\n      <td>0</td>\n    </tr>\n    <tr>\n      <th>1841</th>\n      <td>8</td>\n      <td>2177</td>\n      <td>39</td>\n      <td>9</td>\n      <td>165</td>\n      <td>5</td>\n      <td>2.352</td>\n      <td>0</td>\n    </tr>\n  </tbody>\n</table>\n<p>257 rows × 8 columns</p>\n</div>"
     },
     "execution_count": 204,
     "metadata": {},
     "output_type": "execute_result"
    }
   ],
   "source": [
    "con_data"
   ],
   "metadata": {
    "collapsed": false,
    "ExecuteTime": {
     "end_time": "2023-10-09T03:25:02.275980Z",
     "start_time": "2023-10-09T03:25:02.257993Z"
    }
   },
   "id": "8611412140ecb8ef"
  },
  {
   "cell_type": "code",
   "execution_count": 205,
   "outputs": [
    {
     "data": {
      "text/plain": "            grants      size  packages    alters  commands   commits  \\\ngrants    1.000000  0.967693  0.915992  0.866199  0.974422  0.883189   \nsize      0.967693  1.000000  0.974716  0.926351  0.948485  0.938251   \npackages  0.915992  0.974716  1.000000  0.938448  0.877935  0.949857   \nalters    0.866199  0.926351  0.938448  1.000000  0.825517  0.851037   \ncommands  0.974422  0.948485  0.877935  0.825517  1.000000  0.873475   \ncommits   0.883189  0.938251  0.949857  0.851037  0.873475  1.000000   \ntime      0.922550  0.896834  0.849548  0.816895  0.916709  0.826727   \nmd       -0.041581 -0.048433 -0.013127  0.040333 -0.073166 -0.015592   \n\n              time        md  \ngrants    0.922550 -0.041581  \nsize      0.896834 -0.048433  \npackages  0.849548 -0.013127  \nalters    0.816895  0.040333  \ncommands  0.916709 -0.073166  \ncommits   0.826727 -0.015592  \ntime      1.000000  0.010193  \nmd        0.010193  1.000000  ",
      "text/html": "<div>\n<style scoped>\n    .dataframe tbody tr th:only-of-type {\n        vertical-align: middle;\n    }\n\n    .dataframe tbody tr th {\n        vertical-align: top;\n    }\n\n    .dataframe thead th {\n        text-align: right;\n    }\n</style>\n<table border=\"1\" class=\"dataframe\">\n  <thead>\n    <tr style=\"text-align: right;\">\n      <th></th>\n      <th>grants</th>\n      <th>size</th>\n      <th>packages</th>\n      <th>alters</th>\n      <th>commands</th>\n      <th>commits</th>\n      <th>time</th>\n      <th>md</th>\n    </tr>\n  </thead>\n  <tbody>\n    <tr>\n      <th>grants</th>\n      <td>1.000000</td>\n      <td>0.967693</td>\n      <td>0.915992</td>\n      <td>0.866199</td>\n      <td>0.974422</td>\n      <td>0.883189</td>\n      <td>0.922550</td>\n      <td>-0.041581</td>\n    </tr>\n    <tr>\n      <th>size</th>\n      <td>0.967693</td>\n      <td>1.000000</td>\n      <td>0.974716</td>\n      <td>0.926351</td>\n      <td>0.948485</td>\n      <td>0.938251</td>\n      <td>0.896834</td>\n      <td>-0.048433</td>\n    </tr>\n    <tr>\n      <th>packages</th>\n      <td>0.915992</td>\n      <td>0.974716</td>\n      <td>1.000000</td>\n      <td>0.938448</td>\n      <td>0.877935</td>\n      <td>0.949857</td>\n      <td>0.849548</td>\n      <td>-0.013127</td>\n    </tr>\n    <tr>\n      <th>alters</th>\n      <td>0.866199</td>\n      <td>0.926351</td>\n      <td>0.938448</td>\n      <td>1.000000</td>\n      <td>0.825517</td>\n      <td>0.851037</td>\n      <td>0.816895</td>\n      <td>0.040333</td>\n    </tr>\n    <tr>\n      <th>commands</th>\n      <td>0.974422</td>\n      <td>0.948485</td>\n      <td>0.877935</td>\n      <td>0.825517</td>\n      <td>1.000000</td>\n      <td>0.873475</td>\n      <td>0.916709</td>\n      <td>-0.073166</td>\n    </tr>\n    <tr>\n      <th>commits</th>\n      <td>0.883189</td>\n      <td>0.938251</td>\n      <td>0.949857</td>\n      <td>0.851037</td>\n      <td>0.873475</td>\n      <td>1.000000</td>\n      <td>0.826727</td>\n      <td>-0.015592</td>\n    </tr>\n    <tr>\n      <th>time</th>\n      <td>0.922550</td>\n      <td>0.896834</td>\n      <td>0.849548</td>\n      <td>0.816895</td>\n      <td>0.916709</td>\n      <td>0.826727</td>\n      <td>1.000000</td>\n      <td>0.010193</td>\n    </tr>\n    <tr>\n      <th>md</th>\n      <td>-0.041581</td>\n      <td>-0.048433</td>\n      <td>-0.013127</td>\n      <td>0.040333</td>\n      <td>-0.073166</td>\n      <td>-0.015592</td>\n      <td>0.010193</td>\n      <td>1.000000</td>\n    </tr>\n  </tbody>\n</table>\n</div>"
     },
     "execution_count": 205,
     "metadata": {},
     "output_type": "execute_result"
    }
   ],
   "source": [
    "con_data.corr()"
   ],
   "metadata": {
    "collapsed": false,
    "ExecuteTime": {
     "end_time": "2023-10-09T03:25:16.092031Z",
     "start_time": "2023-10-09T03:25:16.059875Z"
    }
   },
   "id": "629d1dc0aeadc964"
  },
  {
   "cell_type": "code",
   "execution_count": 207,
   "outputs": [
    {
     "data": {
      "text/plain": "<Axes: >"
     },
     "execution_count": 207,
     "metadata": {},
     "output_type": "execute_result"
    },
    {
     "data": {
      "text/plain": "<Figure size 640x480 with 1 Axes>",
      "image/png": "[encoded data removed]"
     },
     "metadata": {},
     "output_type": "display_data"
    }
   ],
   "source": [
    "(con_data['size'] ** (1/6)).hist()"
   ],
   "metadata": {
    "collapsed": false,
    "ExecuteTime": {
     "end_time": "2023-10-09T03:25:25.727705Z",
     "start_time": "2023-10-09T03:25:25.659849Z"
    }
   },
   "id": "163c953b6104aba2"
  },
  {
   "cell_type": "code",
   "execution_count": 208,
   "outputs": [
    {
     "data": {
      "text/plain": "      grants   size  packages  alters  commands  commits    time  md\n8         48    315         3       3        71        0   2.900   1\n9         62   1268        13       7       242        2   5.014   1\n11        62   3450         8       8       329       32  21.780   1\n12       276   5824        49      40      1057       24  15.358   1\n13       458  10148        78      79       633       59  38.415   1\n...      ...    ...       ...     ...       ...      ...     ...  ..\n1810       0    181         1       0        31        0   2.713   0\n1822      87   1582        46      52       257        0   4.762   0\n1831      14   2233        52      20       172        2   2.294   0\n1840      19   2468        39       9       210        5   2.227   0\n1841       8   2177        39       9       165        5   2.352   0\n\n[257 rows x 8 columns]",
      "text/html": "<div>\n<style scoped>\n    .dataframe tbody tr th:only-of-type {\n        vertical-align: middle;\n    }\n\n    .dataframe tbody tr th {\n        vertical-align: top;\n    }\n\n    .dataframe thead th {\n        text-align: right;\n    }\n</style>\n<table border=\"1\" class=\"dataframe\">\n  <thead>\n    <tr style=\"text-align: right;\">\n      <th></th>\n      <th>grants</th>\n      <th>size</th>\n      <th>packages</th>\n      <th>alters</th>\n      <th>commands</th>\n      <th>commits</th>\n      <th>time</th>\n      <th>md</th>\n    </tr>\n  </thead>\n  <tbody>\n    <tr>\n      <th>8</th>\n      <td>48</td>\n      <td>315</td>\n      <td>3</td>\n      <td>3</td>\n      <td>71</td>\n      <td>0</td>\n      <td>2.900</td>\n      <td>1</td>\n    </tr>\n    <tr>\n      <th>9</th>\n      <td>62</td>\n      <td>1268</td>\n      <td>13</td>\n      <td>7</td>\n      <td>242</td>\n      <td>2</td>\n      <td>5.014</td>\n      <td>1</td>\n    </tr>\n    <tr>\n      <th>11</th>\n      <td>62</td>\n      <td>3450</td>\n      <td>8</td>\n      <td>8</td>\n      <td>329</td>\n      <td>32</td>\n      <td>21.780</td>\n      <td>1</td>\n    </tr>\n    <tr>\n      <th>12</th>\n      <td>276</td>\n      <td>5824</td>\n      <td>49</td>\n      <td>40</td>\n      <td>1057</td>\n      <td>24</td>\n      <td>15.358</td>\n      <td>1</td>\n    </tr>\n    <tr>\n      <th>13</th>\n      <td>458</td>\n      <td>10148</td>\n      <td>78</td>\n      <td>79</td>\n      <td>633</td>\n      <td>59</td>\n      <td>38.415</td>\n      <td>1</td>\n    </tr>\n    <tr>\n      <th>...</th>\n      <td>...</td>\n      <td>...</td>\n      <td>...</td>\n      <td>...</td>\n      <td>...</td>\n      <td>...</td>\n      <td>...</td>\n      <td>...</td>\n    </tr>\n    <tr>\n      <th>1810</th>\n      <td>0</td>\n      <td>181</td>\n      <td>1</td>\n      <td>0</td>\n      <td>31</td>\n      <td>0</td>\n      <td>2.713</td>\n      <td>0</td>\n    </tr>\n    <tr>\n      <th>1822</th>\n      <td>87</td>\n      <td>1582</td>\n      <td>46</td>\n      <td>52</td>\n      <td>257</td>\n      <td>0</td>\n      <td>4.762</td>\n      <td>0</td>\n    </tr>\n    <tr>\n      <th>1831</th>\n      <td>14</td>\n      <td>2233</td>\n      <td>52</td>\n      <td>20</td>\n      <td>172</td>\n      <td>2</td>\n      <td>2.294</td>\n      <td>0</td>\n    </tr>\n    <tr>\n      <th>1840</th>\n      <td>19</td>\n      <td>2468</td>\n      <td>39</td>\n      <td>9</td>\n      <td>210</td>\n      <td>5</td>\n      <td>2.227</td>\n      <td>0</td>\n    </tr>\n    <tr>\n      <th>1841</th>\n      <td>8</td>\n      <td>2177</td>\n      <td>39</td>\n      <td>9</td>\n      <td>165</td>\n      <td>5</td>\n      <td>2.352</td>\n      <td>0</td>\n    </tr>\n  </tbody>\n</table>\n<p>257 rows × 8 columns</p>\n</div>"
     },
     "execution_count": 208,
     "metadata": {},
     "output_type": "execute_result"
    }
   ],
   "source": [
    "con_data"
   ],
   "metadata": {
    "collapsed": false,
    "ExecuteTime": {
     "end_time": "2023-10-09T03:25:28.725768Z",
     "start_time": "2023-10-09T03:25:28.713111Z"
    }
   },
   "id": "dc4c5e022a757bf1"
  },
  {
   "cell_type": "code",
   "execution_count": 209,
   "outputs": [],
   "source": [
    "con_data.to_csv(\"dataf2.csv\", header=True)"
   ],
   "metadata": {
    "collapsed": false,
    "ExecuteTime": {
     "end_time": "2023-10-09T03:25:33.882638Z",
     "start_time": "2023-10-09T03:25:33.859822Z"
    }
   },
   "id": "b99f5883ba67bfe9"
  },
  {
   "cell_type": "code",
   "execution_count": 249,
   "outputs": [],
   "source": [
    "odf = pd.read_csv(\"data_with_categories.csv\")"
   ],
   "metadata": {
    "collapsed": false,
    "ExecuteTime": {
     "end_time": "2023-10-11T07:14:23.960128Z",
     "start_time": "2023-10-11T07:14:23.939836Z"
    }
   },
   "id": "9fb737a381340109"
  },
  {
   "cell_type": "code",
   "execution_count": 223,
   "outputs": [
    {
     "data": {
      "text/plain": "     Unnamed: 0                      0         1      2        3  category\n0             0     bug_29032457_apply  0.440389   1806  CATALOG         0\n1             1  bug_29032457_rollback  0.391759   1910  CATALOG         0\n2             2            catcdbviews  0.375893  17261  CATALOG         0\n3             3             cdcore_mig  0.514026  53531  CATALOG         0\n4             4            cdcore_cols  5.553594  74664  CATALOG         0\n..          ...                    ...       ...    ...      ...       ...\n410         410  bug_31639082_rollback  0.369549   2445  CATALOG         0\n411         411               prvtesch  0.408460  30537  CATPROC         0\n412         412     bug_32440681_apply  0.364746   1573  CATPROC         0\n413         413                 catqos  0.774490   7682  CATPROC         0\n414         414                prvtwlm  0.367662   7671  CATPROC         0\n\n[415 rows x 6 columns]",
      "text/html": "<div>\n<style scoped>\n    .dataframe tbody tr th:only-of-type {\n        vertical-align: middle;\n    }\n\n    .dataframe tbody tr th {\n        vertical-align: top;\n    }\n\n    .dataframe thead th {\n        text-align: right;\n    }\n</style>\n<table border=\"1\" class=\"dataframe\">\n  <thead>\n    <tr style=\"text-align: right;\">\n      <th></th>\n      <th>Unnamed: 0</th>\n      <th>0</th>\n      <th>1</th>\n      <th>2</th>\n      <th>3</th>\n      <th>category</th>\n    </tr>\n  </thead>\n  <tbody>\n    <tr>\n      <th>0</th>\n      <td>0</td>\n      <td>bug_29032457_apply</td>\n      <td>0.440389</td>\n      <td>1806</td>\n      <td>CATALOG</td>\n      <td>0</td>\n    </tr>\n    <tr>\n      <th>1</th>\n      <td>1</td>\n      <td>bug_29032457_rollback</td>\n      <td>0.391759</td>\n      <td>1910</td>\n      <td>CATALOG</td>\n      <td>0</td>\n    </tr>\n    <tr>\n      <th>2</th>\n      <td>2</td>\n      <td>catcdbviews</td>\n      <td>0.375893</td>\n      <td>17261</td>\n      <td>CATALOG</td>\n      <td>0</td>\n    </tr>\n    <tr>\n      <th>3</th>\n      <td>3</td>\n      <td>cdcore_mig</td>\n      <td>0.514026</td>\n      <td>53531</td>\n      <td>CATALOG</td>\n      <td>0</td>\n    </tr>\n    <tr>\n      <th>4</th>\n      <td>4</td>\n      <td>cdcore_cols</td>\n      <td>5.553594</td>\n      <td>74664</td>\n      <td>CATALOG</td>\n      <td>0</td>\n    </tr>\n    <tr>\n      <th>...</th>\n      <td>...</td>\n      <td>...</td>\n      <td>...</td>\n      <td>...</td>\n      <td>...</td>\n      <td>...</td>\n    </tr>\n    <tr>\n      <th>410</th>\n      <td>410</td>\n      <td>bug_31639082_rollback</td>\n      <td>0.369549</td>\n      <td>2445</td>\n      <td>CATALOG</td>\n      <td>0</td>\n    </tr>\n    <tr>\n      <th>411</th>\n      <td>411</td>\n      <td>prvtesch</td>\n      <td>0.408460</td>\n      <td>30537</td>\n      <td>CATPROC</td>\n      <td>0</td>\n    </tr>\n    <tr>\n      <th>412</th>\n      <td>412</td>\n      <td>bug_32440681_apply</td>\n      <td>0.364746</td>\n      <td>1573</td>\n      <td>CATPROC</td>\n      <td>0</td>\n    </tr>\n    <tr>\n      <th>413</th>\n      <td>413</td>\n      <td>catqos</td>\n      <td>0.774490</td>\n      <td>7682</td>\n      <td>CATPROC</td>\n      <td>0</td>\n    </tr>\n    <tr>\n      <th>414</th>\n      <td>414</td>\n      <td>prvtwlm</td>\n      <td>0.367662</td>\n      <td>7671</td>\n      <td>CATPROC</td>\n      <td>0</td>\n    </tr>\n  </tbody>\n</table>\n<p>415 rows × 6 columns</p>\n</div>"
     },
     "execution_count": 223,
     "metadata": {},
     "output_type": "execute_result"
    }
   ],
   "source": [
    "odf"
   ],
   "metadata": {
    "collapsed": false,
    "ExecuteTime": {
     "end_time": "2023-10-11T07:03:22.358809Z",
     "start_time": "2023-10-11T07:03:22.314487Z"
    }
   },
   "id": "e691e550b6864402"
  },
  {
   "cell_type": "code",
   "execution_count": 217,
   "outputs": [
    {
     "data": {
      "text/plain": "     grants  size  packages  alters  commands  commits    time  md\n0        14  6039        87       2       955       23  44.344   0\n1        11  5811        87       2       902       17   8.766   0\n2        11   193         0       0        43        2   1.982   0\n3         0    36         0       0         9        0   0.488   0\n4         0    23         0       0         0        0   0.419   0\n..      ...   ...       ...     ...       ...      ...     ...  ..\n207       1    33         2       1         8        1    0.43   1\n208       2    34         3       5         5        0   0.858   1\n209       2    42         5       3         9        0   0.993   1\n210       1    34         4       3         6        0   1.235   1\n211       1    17         1       1         4        0   0.466   1\n\n[2061 rows x 8 columns]",
      "text/html": "<div>\n<style scoped>\n    .dataframe tbody tr th:only-of-type {\n        vertical-align: middle;\n    }\n\n    .dataframe tbody tr th {\n        vertical-align: top;\n    }\n\n    .dataframe thead th {\n        text-align: right;\n    }\n</style>\n<table border=\"1\" class=\"dataframe\">\n  <thead>\n    <tr style=\"text-align: right;\">\n      <th></th>\n      <th>grants</th>\n      <th>size</th>\n      <th>packages</th>\n      <th>alters</th>\n      <th>commands</th>\n      <th>commits</th>\n      <th>time</th>\n      <th>md</th>\n    </tr>\n  </thead>\n  <tbody>\n    <tr>\n      <th>0</th>\n      <td>14</td>\n      <td>6039</td>\n      <td>87</td>\n      <td>2</td>\n      <td>955</td>\n      <td>23</td>\n      <td>44.344</td>\n      <td>0</td>\n    </tr>\n    <tr>\n      <th>1</th>\n      <td>11</td>\n      <td>5811</td>\n      <td>87</td>\n      <td>2</td>\n      <td>902</td>\n      <td>17</td>\n      <td>8.766</td>\n      <td>0</td>\n    </tr>\n    <tr>\n      <th>2</th>\n      <td>11</td>\n      <td>193</td>\n      <td>0</td>\n      <td>0</td>\n      <td>43</td>\n      <td>2</td>\n      <td>1.982</td>\n      <td>0</td>\n    </tr>\n    <tr>\n      <th>3</th>\n      <td>0</td>\n      <td>36</td>\n      <td>0</td>\n      <td>0</td>\n      <td>9</td>\n      <td>0</td>\n      <td>0.488</td>\n      <td>0</td>\n    </tr>\n    <tr>\n      <th>4</th>\n      <td>0</td>\n      <td>23</td>\n      <td>0</td>\n      <td>0</td>\n      <td>0</td>\n      <td>0</td>\n      <td>0.419</td>\n      <td>0</td>\n    </tr>\n    <tr>\n      <th>...</th>\n      <td>...</td>\n      <td>...</td>\n      <td>...</td>\n      <td>...</td>\n      <td>...</td>\n      <td>...</td>\n      <td>...</td>\n      <td>...</td>\n    </tr>\n    <tr>\n      <th>207</th>\n      <td>1</td>\n      <td>33</td>\n      <td>2</td>\n      <td>1</td>\n      <td>8</td>\n      <td>1</td>\n      <td>0.43</td>\n      <td>1</td>\n    </tr>\n    <tr>\n      <th>208</th>\n      <td>2</td>\n      <td>34</td>\n      <td>3</td>\n      <td>5</td>\n      <td>5</td>\n      <td>0</td>\n      <td>0.858</td>\n      <td>1</td>\n    </tr>\n    <tr>\n      <th>209</th>\n      <td>2</td>\n      <td>42</td>\n      <td>5</td>\n      <td>3</td>\n      <td>9</td>\n      <td>0</td>\n      <td>0.993</td>\n      <td>1</td>\n    </tr>\n    <tr>\n      <th>210</th>\n      <td>1</td>\n      <td>34</td>\n      <td>4</td>\n      <td>3</td>\n      <td>6</td>\n      <td>0</td>\n      <td>1.235</td>\n      <td>1</td>\n    </tr>\n    <tr>\n      <th>211</th>\n      <td>1</td>\n      <td>17</td>\n      <td>1</td>\n      <td>1</td>\n      <td>4</td>\n      <td>0</td>\n      <td>0.466</td>\n      <td>1</td>\n    </tr>\n  </tbody>\n</table>\n<p>2061 rows × 8 columns</p>\n</div>"
     },
     "execution_count": 217,
     "metadata": {},
     "output_type": "execute_result"
    }
   ],
   "source": [],
   "metadata": {
    "collapsed": false,
    "ExecuteTime": {
     "end_time": "2023-10-11T07:00:52.494394Z",
     "start_time": "2023-10-11T07:00:52.448589Z"
    }
   },
   "id": "8c56151569828a88"
  },
  {
   "cell_type": "code",
   "execution_count": 250,
   "outputs": [],
   "source": [
    "df = pd.read_csv(\"r_data.csv\", header=None)\n",
    "dft = pd.read_csv(\"ax_times.csv\", header=None)\n",
    "dft\n",
    "scripts_r = df.merge(dft, on=0, how=\"left\")"
   ],
   "metadata": {
    "collapsed": false,
    "ExecuteTime": {
     "end_time": "2023-10-11T07:14:27.478245Z",
     "start_time": "2023-10-11T07:14:27.453700Z"
    }
   },
   "id": "c6e82c22dc3a5d3a"
  },
  {
   "cell_type": "code",
   "execution_count": 251,
   "outputs": [
    {
     "data": {
      "text/plain": "             0  1_x     2   3  4    5   6     1_y\n0     a1102000   14  6039  87  2  955  23  44.344\n1     a1201000   11  5811  87  2  902  17   8.766\n2     a1202000   11   193   0  0   43   2   1.982\n3          a18    0    36   0  0    9   0   0.488\n4     addmrpti    0    23   0  0    0   0   0.419\n...        ...  ...   ...  .. ..  ...  ..     ...\n1844  a1202000   11   193   0  0   43   2   1.982\n1845    xsutil    0    34   1  0    7   0   0.720\n1846  a1202000   11   193   0  0   43   2   1.982\n1847    xsutil    0    34   1  0    7   0   0.720\n1848  a1202000   11   193   0  0   43   2   1.982\n\n[1849 rows x 8 columns]",
      "text/html": "<div>\n<style scoped>\n    .dataframe tbody tr th:only-of-type {\n        vertical-align: middle;\n    }\n\n    .dataframe tbody tr th {\n        vertical-align: top;\n    }\n\n    .dataframe thead th {\n        text-align: right;\n    }\n</style>\n<table border=\"1\" class=\"dataframe\">\n  <thead>\n    <tr style=\"text-align: right;\">\n      <th></th>\n      <th>0</th>\n      <th>1_x</th>\n      <th>2</th>\n      <th>3</th>\n      <th>4</th>\n      <th>5</th>\n      <th>6</th>\n      <th>1_y</th>\n    </tr>\n  </thead>\n  <tbody>\n    <tr>\n      <th>0</th>\n      <td>a1102000</td>\n      <td>14</td>\n      <td>6039</td>\n      <td>87</td>\n      <td>2</td>\n      <td>955</td>\n      <td>23</td>\n      <td>44.344</td>\n    </tr>\n    <tr>\n      <th>1</th>\n      <td>a1201000</td>\n      <td>11</td>\n      <td>5811</td>\n      <td>87</td>\n      <td>2</td>\n      <td>902</td>\n      <td>17</td>\n      <td>8.766</td>\n    </tr>\n    <tr>\n      <th>2</th>\n      <td>a1202000</td>\n      <td>11</td>\n      <td>193</td>\n      <td>0</td>\n      <td>0</td>\n      <td>43</td>\n      <td>2</td>\n      <td>1.982</td>\n    </tr>\n    <tr>\n      <th>3</th>\n      <td>a18</td>\n      <td>0</td>\n      <td>36</td>\n      <td>0</td>\n      <td>0</td>\n      <td>9</td>\n      <td>0</td>\n      <td>0.488</td>\n    </tr>\n    <tr>\n      <th>4</th>\n      <td>addmrpti</td>\n      <td>0</td>\n      <td>23</td>\n      <td>0</td>\n      <td>0</td>\n      <td>0</td>\n      <td>0</td>\n      <td>0.419</td>\n    </tr>\n    <tr>\n      <th>...</th>\n      <td>...</td>\n      <td>...</td>\n      <td>...</td>\n      <td>...</td>\n      <td>...</td>\n      <td>...</td>\n      <td>...</td>\n      <td>...</td>\n    </tr>\n    <tr>\n      <th>1844</th>\n      <td>a1202000</td>\n      <td>11</td>\n      <td>193</td>\n      <td>0</td>\n      <td>0</td>\n      <td>43</td>\n      <td>2</td>\n      <td>1.982</td>\n    </tr>\n    <tr>\n      <th>1845</th>\n      <td>xsutil</td>\n      <td>0</td>\n      <td>34</td>\n      <td>1</td>\n      <td>0</td>\n      <td>7</td>\n      <td>0</td>\n      <td>0.720</td>\n    </tr>\n    <tr>\n      <th>1846</th>\n      <td>a1202000</td>\n      <td>11</td>\n      <td>193</td>\n      <td>0</td>\n      <td>0</td>\n      <td>43</td>\n      <td>2</td>\n      <td>1.982</td>\n    </tr>\n    <tr>\n      <th>1847</th>\n      <td>xsutil</td>\n      <td>0</td>\n      <td>34</td>\n      <td>1</td>\n      <td>0</td>\n      <td>7</td>\n      <td>0</td>\n      <td>0.720</td>\n    </tr>\n    <tr>\n      <th>1848</th>\n      <td>a1202000</td>\n      <td>11</td>\n      <td>193</td>\n      <td>0</td>\n      <td>0</td>\n      <td>43</td>\n      <td>2</td>\n      <td>1.982</td>\n    </tr>\n  </tbody>\n</table>\n<p>1849 rows × 8 columns</p>\n</div>"
     },
     "execution_count": 251,
     "metadata": {},
     "output_type": "execute_result"
    }
   ],
   "source": [
    "scripts_r"
   ],
   "metadata": {
    "collapsed": false,
    "ExecuteTime": {
     "end_time": "2023-10-11T07:14:27.983304Z",
     "start_time": "2023-10-11T07:14:27.961702Z"
    }
   },
   "id": "5bec7a30f192f813"
  },
  {
   "cell_type": "code",
   "execution_count": 252,
   "outputs": [
    {
     "data": {
      "text/plain": "                     0  1_x   2  3  4  5  6    1_y\n0    29033052_rollback    0  19  1  1  3  0  0.792\n1       29201539_apply    0  12  0  0  3  0  0.369\n2    29201539_rollback    0  12  0  0  3  0  0.366\n3       30035598_apply    0   9  1  1  2  1  0.476\n4       32131774_apply    0  28  0  0  5  0  0.413\n..                 ...  ...  .. .. .. .. ..    ...\n207             sdoutl    1  33  2  1  8  1  0.430\n208           sdowcspr    2  34  3  5  5  0  0.858\n209           sdowfslk    2  42  5  3  9  0  0.993\n210           sdowfspr    1  34  4  3  6  0  1.235\n211            sdowspr    1  17  1  1  4  0  0.466\n\n[212 rows x 8 columns]",
      "text/html": "<div>\n<style scoped>\n    .dataframe tbody tr th:only-of-type {\n        vertical-align: middle;\n    }\n\n    .dataframe tbody tr th {\n        vertical-align: top;\n    }\n\n    .dataframe thead th {\n        text-align: right;\n    }\n</style>\n<table border=\"1\" class=\"dataframe\">\n  <thead>\n    <tr style=\"text-align: right;\">\n      <th></th>\n      <th>0</th>\n      <th>1_x</th>\n      <th>2</th>\n      <th>3</th>\n      <th>4</th>\n      <th>5</th>\n      <th>6</th>\n      <th>1_y</th>\n    </tr>\n  </thead>\n  <tbody>\n    <tr>\n      <th>0</th>\n      <td>29033052_rollback</td>\n      <td>0</td>\n      <td>19</td>\n      <td>1</td>\n      <td>1</td>\n      <td>3</td>\n      <td>0</td>\n      <td>0.792</td>\n    </tr>\n    <tr>\n      <th>1</th>\n      <td>29201539_apply</td>\n      <td>0</td>\n      <td>12</td>\n      <td>0</td>\n      <td>0</td>\n      <td>3</td>\n      <td>0</td>\n      <td>0.369</td>\n    </tr>\n    <tr>\n      <th>2</th>\n      <td>29201539_rollback</td>\n      <td>0</td>\n      <td>12</td>\n      <td>0</td>\n      <td>0</td>\n      <td>3</td>\n      <td>0</td>\n      <td>0.366</td>\n    </tr>\n    <tr>\n      <th>3</th>\n      <td>30035598_apply</td>\n      <td>0</td>\n      <td>9</td>\n      <td>1</td>\n      <td>1</td>\n      <td>2</td>\n      <td>1</td>\n      <td>0.476</td>\n    </tr>\n    <tr>\n      <th>4</th>\n      <td>32131774_apply</td>\n      <td>0</td>\n      <td>28</td>\n      <td>0</td>\n      <td>0</td>\n      <td>5</td>\n      <td>0</td>\n      <td>0.413</td>\n    </tr>\n    <tr>\n      <th>...</th>\n      <td>...</td>\n      <td>...</td>\n      <td>...</td>\n      <td>...</td>\n      <td>...</td>\n      <td>...</td>\n      <td>...</td>\n      <td>...</td>\n    </tr>\n    <tr>\n      <th>207</th>\n      <td>sdoutl</td>\n      <td>1</td>\n      <td>33</td>\n      <td>2</td>\n      <td>1</td>\n      <td>8</td>\n      <td>1</td>\n      <td>0.430</td>\n    </tr>\n    <tr>\n      <th>208</th>\n      <td>sdowcspr</td>\n      <td>2</td>\n      <td>34</td>\n      <td>3</td>\n      <td>5</td>\n      <td>5</td>\n      <td>0</td>\n      <td>0.858</td>\n    </tr>\n    <tr>\n      <th>209</th>\n      <td>sdowfslk</td>\n      <td>2</td>\n      <td>42</td>\n      <td>5</td>\n      <td>3</td>\n      <td>9</td>\n      <td>0</td>\n      <td>0.993</td>\n    </tr>\n    <tr>\n      <th>210</th>\n      <td>sdowfspr</td>\n      <td>1</td>\n      <td>34</td>\n      <td>4</td>\n      <td>3</td>\n      <td>6</td>\n      <td>0</td>\n      <td>1.235</td>\n    </tr>\n    <tr>\n      <th>211</th>\n      <td>sdowspr</td>\n      <td>1</td>\n      <td>17</td>\n      <td>1</td>\n      <td>1</td>\n      <td>4</td>\n      <td>0</td>\n      <td>0.466</td>\n    </tr>\n  </tbody>\n</table>\n<p>212 rows × 8 columns</p>\n</div>"
     },
     "execution_count": 252,
     "metadata": {},
     "output_type": "execute_result"
    }
   ],
   "source": [
    "merged_df.to_csv(\"class_data_scrs.csv\", index=True)\n",
    "df = pd.read_csv(\"m_data.csv\", header=None)\n",
    "dft = pd.read_csv(\"axmd_times.csv\", header=None)\n",
    "dft\n",
    "scripts = df.merge(dft, on=0, how=\"left\")\n",
    "scripts"
   ],
   "metadata": {
    "collapsed": false,
    "ExecuteTime": {
     "end_time": "2023-10-11T07:14:28.749224Z",
     "start_time": "2023-10-11T07:14:28.720706Z"
    }
   },
   "id": "fff79148dc135094"
  },
  {
   "cell_type": "code",
   "execution_count": 253,
   "outputs": [
    {
     "name": "stderr",
     "output_type": "stream",
     "text": [
      "/var/folders/51/l057c8xx2md597vhk47n57rm0000gn/T/ipykernel_23167/1088268658.py:1: FutureWarning: The frame.append method is deprecated and will be removed from pandas in a future version. Use pandas.concat instead.\n",
      "  con_data = scripts.append(scripts_r)\n"
     ]
    },
    {
     "data": {
      "text/plain": "                      0  1_x    2  3  4   5  6    1_y\n0     29033052_rollback    0   19  1  1   3  0  0.792\n1        29201539_apply    0   12  0  0   3  0  0.369\n2     29201539_rollback    0   12  0  0   3  0  0.366\n3        30035598_apply    0    9  1  1   2  1  0.476\n4        32131774_apply    0   28  0  0   5  0  0.413\n...                 ...  ...  ... .. ..  .. ..    ...\n1844           a1202000   11  193  0  0  43  2  1.982\n1845             xsutil    0   34  1  0   7  0  0.720\n1846           a1202000   11  193  0  0  43  2  1.982\n1847             xsutil    0   34  1  0   7  0  0.720\n1848           a1202000   11  193  0  0  43  2  1.982\n\n[2061 rows x 8 columns]",
      "text/html": "<div>\n<style scoped>\n    .dataframe tbody tr th:only-of-type {\n        vertical-align: middle;\n    }\n\n    .dataframe tbody tr th {\n        vertical-align: top;\n    }\n\n    .dataframe thead th {\n        text-align: right;\n    }\n</style>\n<table border=\"1\" class=\"dataframe\">\n  <thead>\n    <tr style=\"text-align: right;\">\n      <th></th>\n      <th>0</th>\n      <th>1_x</th>\n      <th>2</th>\n      <th>3</th>\n      <th>4</th>\n      <th>5</th>\n      <th>6</th>\n      <th>1_y</th>\n    </tr>\n  </thead>\n  <tbody>\n    <tr>\n      <th>0</th>\n      <td>29033052_rollback</td>\n      <td>0</td>\n      <td>19</td>\n      <td>1</td>\n      <td>1</td>\n      <td>3</td>\n      <td>0</td>\n      <td>0.792</td>\n    </tr>\n    <tr>\n      <th>1</th>\n      <td>29201539_apply</td>\n      <td>0</td>\n      <td>12</td>\n      <td>0</td>\n      <td>0</td>\n      <td>3</td>\n      <td>0</td>\n      <td>0.369</td>\n    </tr>\n    <tr>\n      <th>2</th>\n      <td>29201539_rollback</td>\n      <td>0</td>\n      <td>12</td>\n      <td>0</td>\n      <td>0</td>\n      <td>3</td>\n      <td>0</td>\n      <td>0.366</td>\n    </tr>\n    <tr>\n      <th>3</th>\n      <td>30035598_apply</td>\n      <td>0</td>\n      <td>9</td>\n      <td>1</td>\n      <td>1</td>\n      <td>2</td>\n      <td>1</td>\n      <td>0.476</td>\n    </tr>\n    <tr>\n      <th>4</th>\n      <td>32131774_apply</td>\n      <td>0</td>\n      <td>28</td>\n      <td>0</td>\n      <td>0</td>\n      <td>5</td>\n      <td>0</td>\n      <td>0.413</td>\n    </tr>\n    <tr>\n      <th>...</th>\n      <td>...</td>\n      <td>...</td>\n      <td>...</td>\n      <td>...</td>\n      <td>...</td>\n      <td>...</td>\n      <td>...</td>\n      <td>...</td>\n    </tr>\n    <tr>\n      <th>1844</th>\n      <td>a1202000</td>\n      <td>11</td>\n      <td>193</td>\n      <td>0</td>\n      <td>0</td>\n      <td>43</td>\n      <td>2</td>\n      <td>1.982</td>\n    </tr>\n    <tr>\n      <th>1845</th>\n      <td>xsutil</td>\n      <td>0</td>\n      <td>34</td>\n      <td>1</td>\n      <td>0</td>\n      <td>7</td>\n      <td>0</td>\n      <td>0.720</td>\n    </tr>\n    <tr>\n      <th>1846</th>\n      <td>a1202000</td>\n      <td>11</td>\n      <td>193</td>\n      <td>0</td>\n      <td>0</td>\n      <td>43</td>\n      <td>2</td>\n      <td>1.982</td>\n    </tr>\n    <tr>\n      <th>1847</th>\n      <td>xsutil</td>\n      <td>0</td>\n      <td>34</td>\n      <td>1</td>\n      <td>0</td>\n      <td>7</td>\n      <td>0</td>\n      <td>0.720</td>\n    </tr>\n    <tr>\n      <th>1848</th>\n      <td>a1202000</td>\n      <td>11</td>\n      <td>193</td>\n      <td>0</td>\n      <td>0</td>\n      <td>43</td>\n      <td>2</td>\n      <td>1.982</td>\n    </tr>\n  </tbody>\n</table>\n<p>2061 rows × 8 columns</p>\n</div>"
     },
     "execution_count": 253,
     "metadata": {},
     "output_type": "execute_result"
    }
   ],
   "source": [
    "con_data = scripts.append(scripts_r)\n",
    "con_data"
   ],
   "metadata": {
    "collapsed": false,
    "ExecuteTime": {
     "end_time": "2023-10-11T07:14:29.500196Z",
     "start_time": "2023-10-11T07:14:29.466790Z"
    }
   },
   "id": "78c85a4c9bf67fc6"
  },
  {
   "cell_type": "code",
   "execution_count": 229,
   "outputs": [
    {
     "data": {
      "text/plain": "0         bug_29032457_apply\n1      bug_29032457_rollback\n2                catcdbviews\n3                 cdcore_mig\n4                cdcore_cols\n               ...          \n410    bug_31639082_rollback\n411                 prvtesch\n412       bug_32440681_apply\n413                   catqos\n414                  prvtwlm\nName: 0, Length: 415, dtype: object"
     },
     "execution_count": 229,
     "metadata": {},
     "output_type": "execute_result"
    }
   ],
   "source": [
    "odf[\"0\"]"
   ],
   "metadata": {
    "collapsed": false,
    "ExecuteTime": {
     "end_time": "2023-10-11T07:05:06.115136Z",
     "start_time": "2023-10-11T07:05:06.098450Z"
    }
   },
   "id": "f61591b9fbac497d"
  },
  {
   "cell_type": "code",
   "execution_count": 236,
   "outputs": [],
   "source": [
    "cv = con_data[con_data[0].isin(odf[\"0\"])]\n",
    "cv = con_data[con_data[0].isin(odf[\"0\"])]"
   ],
   "metadata": {
    "collapsed": false,
    "ExecuteTime": {
     "end_time": "2023-10-11T07:07:51.221328Z",
     "start_time": "2023-10-11T07:07:51.188620Z"
    }
   },
   "id": "6c990131cab8f739"
  },
  {
   "cell_type": "code",
   "execution_count": 237,
   "outputs": [
    {
     "data": {
      "text/plain": "     Unnamed: 0                      0         1      2        3  category\n0             0     bug_29032457_apply  0.440389   1806  CATALOG         0\n1             1  bug_29032457_rollback  0.391759   1910  CATALOG         0\n2             2            catcdbviews  0.375893  17261  CATALOG         0\n3             3             cdcore_mig  0.514026  53531  CATALOG         0\n4             4            cdcore_cols  5.553594  74664  CATALOG         0\n..          ...                    ...       ...    ...      ...       ...\n410         410  bug_31639082_rollback  0.369549   2445  CATALOG         0\n411         411               prvtesch  0.408460  30537  CATPROC         0\n412         412     bug_32440681_apply  0.364746   1573  CATPROC         0\n413         413                 catqos  0.774490   7682  CATPROC         0\n414         414                prvtwlm  0.367662   7671  CATPROC         0\n\n[415 rows x 6 columns]",
      "text/html": "<div>\n<style scoped>\n    .dataframe tbody tr th:only-of-type {\n        vertical-align: middle;\n    }\n\n    .dataframe tbody tr th {\n        vertical-align: top;\n    }\n\n    .dataframe thead th {\n        text-align: right;\n    }\n</style>\n<table border=\"1\" class=\"dataframe\">\n  <thead>\n    <tr style=\"text-align: right;\">\n      <th></th>\n      <th>Unnamed: 0</th>\n      <th>0</th>\n      <th>1</th>\n      <th>2</th>\n      <th>3</th>\n      <th>category</th>\n    </tr>\n  </thead>\n  <tbody>\n    <tr>\n      <th>0</th>\n      <td>0</td>\n      <td>bug_29032457_apply</td>\n      <td>0.440389</td>\n      <td>1806</td>\n      <td>CATALOG</td>\n      <td>0</td>\n    </tr>\n    <tr>\n      <th>1</th>\n      <td>1</td>\n      <td>bug_29032457_rollback</td>\n      <td>0.391759</td>\n      <td>1910</td>\n      <td>CATALOG</td>\n      <td>0</td>\n    </tr>\n    <tr>\n      <th>2</th>\n      <td>2</td>\n      <td>catcdbviews</td>\n      <td>0.375893</td>\n      <td>17261</td>\n      <td>CATALOG</td>\n      <td>0</td>\n    </tr>\n    <tr>\n      <th>3</th>\n      <td>3</td>\n      <td>cdcore_mig</td>\n      <td>0.514026</td>\n      <td>53531</td>\n      <td>CATALOG</td>\n      <td>0</td>\n    </tr>\n    <tr>\n      <th>4</th>\n      <td>4</td>\n      <td>cdcore_cols</td>\n      <td>5.553594</td>\n      <td>74664</td>\n      <td>CATALOG</td>\n      <td>0</td>\n    </tr>\n    <tr>\n      <th>...</th>\n      <td>...</td>\n      <td>...</td>\n      <td>...</td>\n      <td>...</td>\n      <td>...</td>\n      <td>...</td>\n    </tr>\n    <tr>\n      <th>410</th>\n      <td>410</td>\n      <td>bug_31639082_rollback</td>\n      <td>0.369549</td>\n      <td>2445</td>\n      <td>CATALOG</td>\n      <td>0</td>\n    </tr>\n    <tr>\n      <th>411</th>\n      <td>411</td>\n      <td>prvtesch</td>\n      <td>0.408460</td>\n      <td>30537</td>\n      <td>CATPROC</td>\n      <td>0</td>\n    </tr>\n    <tr>\n      <th>412</th>\n      <td>412</td>\n      <td>bug_32440681_apply</td>\n      <td>0.364746</td>\n      <td>1573</td>\n      <td>CATPROC</td>\n      <td>0</td>\n    </tr>\n    <tr>\n      <th>413</th>\n      <td>413</td>\n      <td>catqos</td>\n      <td>0.774490</td>\n      <td>7682</td>\n      <td>CATPROC</td>\n      <td>0</td>\n    </tr>\n    <tr>\n      <th>414</th>\n      <td>414</td>\n      <td>prvtwlm</td>\n      <td>0.367662</td>\n      <td>7671</td>\n      <td>CATPROC</td>\n      <td>0</td>\n    </tr>\n  </tbody>\n</table>\n<p>415 rows × 6 columns</p>\n</div>"
     },
     "execution_count": 237,
     "metadata": {},
     "output_type": "execute_result"
    }
   ],
   "source": [
    "odf"
   ],
   "metadata": {
    "collapsed": false,
    "ExecuteTime": {
     "end_time": "2023-10-11T07:07:52.821028Z",
     "start_time": "2023-10-11T07:07:52.803200Z"
    }
   },
   "id": "f92c14ca54dcda22"
  },
  {
   "cell_type": "code",
   "execution_count": 238,
   "outputs": [
    {
     "data": {
      "text/plain": "                      0  1_x   2  3  4  5  6    1_y\n0     29033052_rollback    0  19  1  1  3  0  0.792\n1        29201539_apply    0  12  0  0  3  0  0.369\n2     29201539_rollback    0  12  0  0  3  0  0.366\n3        30035598_apply    0   9  1  1  2  1  0.476\n4        32131774_apply    0  28  0  0  5  0  0.413\n...                 ...  ...  .. .. .. .. ..    ...\n1646           standard    1  44  0  0  9  0  0.456\n1647            stdbody    0  16  0  0  3  0  0.347\n1648            stdspec    0  16  0  0  3  0  0.356\n1662            utlcoll    1  36  1  0  6  0  0.385\n1704           utlrcmp2    0  13  1  0  3  0  0.430\n\n[314 rows x 8 columns]",
      "text/html": "<div>\n<style scoped>\n    .dataframe tbody tr th:only-of-type {\n        vertical-align: middle;\n    }\n\n    .dataframe tbody tr th {\n        vertical-align: top;\n    }\n\n    .dataframe thead th {\n        text-align: right;\n    }\n</style>\n<table border=\"1\" class=\"dataframe\">\n  <thead>\n    <tr style=\"text-align: right;\">\n      <th></th>\n      <th>0</th>\n      <th>1_x</th>\n      <th>2</th>\n      <th>3</th>\n      <th>4</th>\n      <th>5</th>\n      <th>6</th>\n      <th>1_y</th>\n    </tr>\n  </thead>\n  <tbody>\n    <tr>\n      <th>0</th>\n      <td>29033052_rollback</td>\n      <td>0</td>\n      <td>19</td>\n      <td>1</td>\n      <td>1</td>\n      <td>3</td>\n      <td>0</td>\n      <td>0.792</td>\n    </tr>\n    <tr>\n      <th>1</th>\n      <td>29201539_apply</td>\n      <td>0</td>\n      <td>12</td>\n      <td>0</td>\n      <td>0</td>\n      <td>3</td>\n      <td>0</td>\n      <td>0.369</td>\n    </tr>\n    <tr>\n      <th>2</th>\n      <td>29201539_rollback</td>\n      <td>0</td>\n      <td>12</td>\n      <td>0</td>\n      <td>0</td>\n      <td>3</td>\n      <td>0</td>\n      <td>0.366</td>\n    </tr>\n    <tr>\n      <th>3</th>\n      <td>30035598_apply</td>\n      <td>0</td>\n      <td>9</td>\n      <td>1</td>\n      <td>1</td>\n      <td>2</td>\n      <td>1</td>\n      <td>0.476</td>\n    </tr>\n    <tr>\n      <th>4</th>\n      <td>32131774_apply</td>\n      <td>0</td>\n      <td>28</td>\n      <td>0</td>\n      <td>0</td>\n      <td>5</td>\n      <td>0</td>\n      <td>0.413</td>\n    </tr>\n    <tr>\n      <th>...</th>\n      <td>...</td>\n      <td>...</td>\n      <td>...</td>\n      <td>...</td>\n      <td>...</td>\n      <td>...</td>\n      <td>...</td>\n      <td>...</td>\n    </tr>\n    <tr>\n      <th>1646</th>\n      <td>standard</td>\n      <td>1</td>\n      <td>44</td>\n      <td>0</td>\n      <td>0</td>\n      <td>9</td>\n      <td>0</td>\n      <td>0.456</td>\n    </tr>\n    <tr>\n      <th>1647</th>\n      <td>stdbody</td>\n      <td>0</td>\n      <td>16</td>\n      <td>0</td>\n      <td>0</td>\n      <td>3</td>\n      <td>0</td>\n      <td>0.347</td>\n    </tr>\n    <tr>\n      <th>1648</th>\n      <td>stdspec</td>\n      <td>0</td>\n      <td>16</td>\n      <td>0</td>\n      <td>0</td>\n      <td>3</td>\n      <td>0</td>\n      <td>0.356</td>\n    </tr>\n    <tr>\n      <th>1662</th>\n      <td>utlcoll</td>\n      <td>1</td>\n      <td>36</td>\n      <td>1</td>\n      <td>0</td>\n      <td>6</td>\n      <td>0</td>\n      <td>0.385</td>\n    </tr>\n    <tr>\n      <th>1704</th>\n      <td>utlrcmp2</td>\n      <td>0</td>\n      <td>13</td>\n      <td>1</td>\n      <td>0</td>\n      <td>3</td>\n      <td>0</td>\n      <td>0.430</td>\n    </tr>\n  </tbody>\n</table>\n<p>314 rows × 8 columns</p>\n</div>"
     },
     "execution_count": 238,
     "metadata": {},
     "output_type": "execute_result"
    }
   ],
   "source": [
    "cv"
   ],
   "metadata": {
    "collapsed": false,
    "ExecuteTime": {
     "end_time": "2023-10-11T07:07:56.445177Z",
     "start_time": "2023-10-11T07:07:56.383495Z"
    }
   },
   "id": "a8dcb9049c183b49"
  },
  {
   "cell_type": "code",
   "execution_count": 244,
   "outputs": [
    {
     "name": "stderr",
     "output_type": "stream",
     "text": [
      "/var/folders/51/l057c8xx2md597vhk47n57rm0000gn/T/ipykernel_23167/3062887039.py:1: UserWarning: Pandas doesn't allow columns to be created via a new attribute name - see https://pandas.pydata.org/pandas-docs/stable/indexing.html#attribute-access\n",
      "  odf.cols = [\"00\", \"0\", \"1\", \"2\", \"3\", \"cat\"]\n"
     ]
    }
   ],
   "source": [
    "odf.cols = [\"00\", \"0\", \"1\", \"2\", \"3\", \"cat\"]"
   ],
   "metadata": {
    "collapsed": false,
    "ExecuteTime": {
     "end_time": "2023-10-11T07:12:36.078201Z",
     "start_time": "2023-10-11T07:12:36.056014Z"
    }
   },
   "id": "3e8b70b3926eb7e8"
  },
  {
   "cell_type": "code",
   "execution_count": 242,
   "outputs": [
    {
     "name": "stderr",
     "output_type": "stream",
     "text": [
      "/var/folders/51/l057c8xx2md597vhk47n57rm0000gn/T/ipykernel_23167/2861821560.py:2: SettingWithCopyWarning: \n",
      "A value is trying to be set on a copy of a slice from a DataFrame.\n",
      "Try using .loc[row_indexer,col_indexer] = value instead\n",
      "\n",
      "See the caveats in the documentation: https://pandas.pydata.org/pandas-docs/stable/user_guide/indexing.html#returning-a-view-versus-a-copy\n",
      "  cv[cv[0] == row][\"time\"] = odf[odf[\"0\"] == row][\"1\"]\n",
      "/var/folders/51/l057c8xx2md597vhk47n57rm0000gn/T/ipykernel_23167/2861821560.py:2: SettingWithCopyWarning: \n",
      "A value is trying to be set on a copy of a slice from a DataFrame.\n",
      "Try using .loc[row_indexer,col_indexer] = value instead\n",
      "\n",
      "See the caveats in the documentation: https://pandas.pydata.org/pandas-docs/stable/user_guide/indexing.html#returning-a-view-versus-a-copy\n",
      "  cv[cv[0] == row][\"time\"] = odf[odf[\"0\"] == row][\"1\"]\n",
      "/var/folders/51/l057c8xx2md597vhk47n57rm0000gn/T/ipykernel_23167/2861821560.py:2: SettingWithCopyWarning: \n",
      "A value is trying to be set on a copy of a slice from a DataFrame.\n",
      "Try using .loc[row_indexer,col_indexer] = value instead\n",
      "\n",
      "See the caveats in the documentation: https://pandas.pydata.org/pandas-docs/stable/user_guide/indexing.html#returning-a-view-versus-a-copy\n",
      "  cv[cv[0] == row][\"time\"] = odf[odf[\"0\"] == row][\"1\"]\n",
      "/var/folders/51/l057c8xx2md597vhk47n57rm0000gn/T/ipykernel_23167/2861821560.py:2: SettingWithCopyWarning: \n",
      "A value is trying to be set on a copy of a slice from a DataFrame.\n",
      "Try using .loc[row_indexer,col_indexer] = value instead\n",
      "\n",
      "See the caveats in the documentation: https://pandas.pydata.org/pandas-docs/stable/user_guide/indexing.html#returning-a-view-versus-a-copy\n",
      "  cv[cv[0] == row][\"time\"] = odf[odf[\"0\"] == row][\"1\"]\n",
      "/var/folders/51/l057c8xx2md597vhk47n57rm0000gn/T/ipykernel_23167/2861821560.py:2: SettingWithCopyWarning: \n",
      "A value is trying to be set on a copy of a slice from a DataFrame.\n",
      "Try using .loc[row_indexer,col_indexer] = value instead\n",
      "\n",
      "See the caveats in the documentation: https://pandas.pydata.org/pandas-docs/stable/user_guide/indexing.html#returning-a-view-versus-a-copy\n",
      "  cv[cv[0] == row][\"time\"] = odf[odf[\"0\"] == row][\"1\"]\n",
      "/var/folders/51/l057c8xx2md597vhk47n57rm0000gn/T/ipykernel_23167/2861821560.py:2: SettingWithCopyWarning: \n",
      "A value is trying to be set on a copy of a slice from a DataFrame.\n",
      "Try using .loc[row_indexer,col_indexer] = value instead\n",
      "\n",
      "See the caveats in the documentation: https://pandas.pydata.org/pandas-docs/stable/user_guide/indexing.html#returning-a-view-versus-a-copy\n",
      "  cv[cv[0] == row][\"time\"] = odf[odf[\"0\"] == row][\"1\"]\n",
      "/var/folders/51/l057c8xx2md597vhk47n57rm0000gn/T/ipykernel_23167/2861821560.py:2: SettingWithCopyWarning: \n",
      "A value is trying to be set on a copy of a slice from a DataFrame.\n",
      "Try using .loc[row_indexer,col_indexer] = value instead\n",
      "\n",
      "See the caveats in the documentation: https://pandas.pydata.org/pandas-docs/stable/user_guide/indexing.html#returning-a-view-versus-a-copy\n",
      "  cv[cv[0] == row][\"time\"] = odf[odf[\"0\"] == row][\"1\"]\n",
      "/var/folders/51/l057c8xx2md597vhk47n57rm0000gn/T/ipykernel_23167/2861821560.py:2: SettingWithCopyWarning: \n",
      "A value is trying to be set on a copy of a slice from a DataFrame.\n",
      "Try using .loc[row_indexer,col_indexer] = value instead\n",
      "\n",
      "See the caveats in the documentation: https://pandas.pydata.org/pandas-docs/stable/user_guide/indexing.html#returning-a-view-versus-a-copy\n",
      "  cv[cv[0] == row][\"time\"] = odf[odf[\"0\"] == row][\"1\"]\n",
      "/var/folders/51/l057c8xx2md597vhk47n57rm0000gn/T/ipykernel_23167/2861821560.py:2: SettingWithCopyWarning: \n",
      "A value is trying to be set on a copy of a slice from a DataFrame.\n",
      "Try using .loc[row_indexer,col_indexer] = value instead\n",
      "\n",
      "See the caveats in the documentation: https://pandas.pydata.org/pandas-docs/stable/user_guide/indexing.html#returning-a-view-versus-a-copy\n",
      "  cv[cv[0] == row][\"time\"] = odf[odf[\"0\"] == row][\"1\"]\n",
      "/var/folders/51/l057c8xx2md597vhk47n57rm0000gn/T/ipykernel_23167/2861821560.py:2: SettingWithCopyWarning: \n",
      "A value is trying to be set on a copy of a slice from a DataFrame.\n",
      "Try using .loc[row_indexer,col_indexer] = value instead\n",
      "\n",
      "See the caveats in the documentation: https://pandas.pydata.org/pandas-docs/stable/user_guide/indexing.html#returning-a-view-versus-a-copy\n",
      "  cv[cv[0] == row][\"time\"] = odf[odf[\"0\"] == row][\"1\"]\n",
      "/var/folders/51/l057c8xx2md597vhk47n57rm0000gn/T/ipykernel_23167/2861821560.py:2: SettingWithCopyWarning: \n",
      "A value is trying to be set on a copy of a slice from a DataFrame.\n",
      "Try using .loc[row_indexer,col_indexer] = value instead\n",
      "\n",
      "See the caveats in the documentation: https://pandas.pydata.org/pandas-docs/stable/user_guide/indexing.html#returning-a-view-versus-a-copy\n",
      "  cv[cv[0] == row][\"time\"] = odf[odf[\"0\"] == row][\"1\"]\n",
      "/var/folders/51/l057c8xx2md597vhk47n57rm0000gn/T/ipykernel_23167/2861821560.py:2: SettingWithCopyWarning: \n",
      "A value is trying to be set on a copy of a slice from a DataFrame.\n",
      "Try using .loc[row_indexer,col_indexer] = value instead\n",
      "\n",
      "See the caveats in the documentation: https://pandas.pydata.org/pandas-docs/stable/user_guide/indexing.html#returning-a-view-versus-a-copy\n",
      "  cv[cv[0] == row][\"time\"] = odf[odf[\"0\"] == row][\"1\"]\n",
      "/var/folders/51/l057c8xx2md597vhk47n57rm0000gn/T/ipykernel_23167/2861821560.py:2: SettingWithCopyWarning: \n",
      "A value is trying to be set on a copy of a slice from a DataFrame.\n",
      "Try using .loc[row_indexer,col_indexer] = value instead\n",
      "\n",
      "See the caveats in the documentation: https://pandas.pydata.org/pandas-docs/stable/user_guide/indexing.html#returning-a-view-versus-a-copy\n",
      "  cv[cv[0] == row][\"time\"] = odf[odf[\"0\"] == row][\"1\"]\n",
      "/var/folders/51/l057c8xx2md597vhk47n57rm0000gn/T/ipykernel_23167/2861821560.py:2: SettingWithCopyWarning: \n",
      "A value is trying to be set on a copy of a slice from a DataFrame.\n",
      "Try using .loc[row_indexer,col_indexer] = value instead\n",
      "\n",
      "See the caveats in the documentation: https://pandas.pydata.org/pandas-docs/stable/user_guide/indexing.html#returning-a-view-versus-a-copy\n",
      "  cv[cv[0] == row][\"time\"] = odf[odf[\"0\"] == row][\"1\"]\n",
      "/var/folders/51/l057c8xx2md597vhk47n57rm0000gn/T/ipykernel_23167/2861821560.py:2: SettingWithCopyWarning: \n",
      "A value is trying to be set on a copy of a slice from a DataFrame.\n",
      "Try using .loc[row_indexer,col_indexer] = value instead\n",
      "\n",
      "See the caveats in the documentation: https://pandas.pydata.org/pandas-docs/stable/user_guide/indexing.html#returning-a-view-versus-a-copy\n",
      "  cv[cv[0] == row][\"time\"] = odf[odf[\"0\"] == row][\"1\"]\n",
      "/var/folders/51/l057c8xx2md597vhk47n57rm0000gn/T/ipykernel_23167/2861821560.py:2: SettingWithCopyWarning: \n",
      "A value is trying to be set on a copy of a slice from a DataFrame.\n",
      "Try using .loc[row_indexer,col_indexer] = value instead\n",
      "\n",
      "See the caveats in the documentation: https://pandas.pydata.org/pandas-docs/stable/user_guide/indexing.html#returning-a-view-versus-a-copy\n",
      "  cv[cv[0] == row][\"time\"] = odf[odf[\"0\"] == row][\"1\"]\n",
      "/var/folders/51/l057c8xx2md597vhk47n57rm0000gn/T/ipykernel_23167/2861821560.py:2: SettingWithCopyWarning: \n",
      "A value is trying to be set on a copy of a slice from a DataFrame.\n",
      "Try using .loc[row_indexer,col_indexer] = value instead\n",
      "\n",
      "See the caveats in the documentation: https://pandas.pydata.org/pandas-docs/stable/user_guide/indexing.html#returning-a-view-versus-a-copy\n",
      "  cv[cv[0] == row][\"time\"] = odf[odf[\"0\"] == row][\"1\"]\n",
      "/var/folders/51/l057c8xx2md597vhk47n57rm0000gn/T/ipykernel_23167/2861821560.py:2: SettingWithCopyWarning: \n",
      "A value is trying to be set on a copy of a slice from a DataFrame.\n",
      "Try using .loc[row_indexer,col_indexer] = value instead\n",
      "\n",
      "See the caveats in the documentation: https://pandas.pydata.org/pandas-docs/stable/user_guide/indexing.html#returning-a-view-versus-a-copy\n",
      "  cv[cv[0] == row][\"time\"] = odf[odf[\"0\"] == row][\"1\"]\n",
      "/var/folders/51/l057c8xx2md597vhk47n57rm0000gn/T/ipykernel_23167/2861821560.py:2: SettingWithCopyWarning: \n",
      "A value is trying to be set on a copy of a slice from a DataFrame.\n",
      "Try using .loc[row_indexer,col_indexer] = value instead\n",
      "\n",
      "See the caveats in the documentation: https://pandas.pydata.org/pandas-docs/stable/user_guide/indexing.html#returning-a-view-versus-a-copy\n",
      "  cv[cv[0] == row][\"time\"] = odf[odf[\"0\"] == row][\"1\"]\n",
      "/var/folders/51/l057c8xx2md597vhk47n57rm0000gn/T/ipykernel_23167/2861821560.py:2: SettingWithCopyWarning: \n",
      "A value is trying to be set on a copy of a slice from a DataFrame.\n",
      "Try using .loc[row_indexer,col_indexer] = value instead\n",
      "\n",
      "See the caveats in the documentation: https://pandas.pydata.org/pandas-docs/stable/user_guide/indexing.html#returning-a-view-versus-a-copy\n",
      "  cv[cv[0] == row][\"time\"] = odf[odf[\"0\"] == row][\"1\"]\n",
      "/var/folders/51/l057c8xx2md597vhk47n57rm0000gn/T/ipykernel_23167/2861821560.py:2: SettingWithCopyWarning: \n",
      "A value is trying to be set on a copy of a slice from a DataFrame.\n",
      "Try using .loc[row_indexer,col_indexer] = value instead\n",
      "\n",
      "See the caveats in the documentation: https://pandas.pydata.org/pandas-docs/stable/user_guide/indexing.html#returning-a-view-versus-a-copy\n",
      "  cv[cv[0] == row][\"time\"] = odf[odf[\"0\"] == row][\"1\"]\n",
      "/var/folders/51/l057c8xx2md597vhk47n57rm0000gn/T/ipykernel_23167/2861821560.py:2: SettingWithCopyWarning: \n",
      "A value is trying to be set on a copy of a slice from a DataFrame.\n",
      "Try using .loc[row_indexer,col_indexer] = value instead\n",
      "\n",
      "See the caveats in the documentation: https://pandas.pydata.org/pandas-docs/stable/user_guide/indexing.html#returning-a-view-versus-a-copy\n",
      "  cv[cv[0] == row][\"time\"] = odf[odf[\"0\"] == row][\"1\"]\n",
      "/var/folders/51/l057c8xx2md597vhk47n57rm0000gn/T/ipykernel_23167/2861821560.py:2: SettingWithCopyWarning: \n",
      "A value is trying to be set on a copy of a slice from a DataFrame.\n",
      "Try using .loc[row_indexer,col_indexer] = value instead\n",
      "\n",
      "See the caveats in the documentation: https://pandas.pydata.org/pandas-docs/stable/user_guide/indexing.html#returning-a-view-versus-a-copy\n",
      "  cv[cv[0] == row][\"time\"] = odf[odf[\"0\"] == row][\"1\"]\n",
      "/var/folders/51/l057c8xx2md597vhk47n57rm0000gn/T/ipykernel_23167/2861821560.py:2: SettingWithCopyWarning: \n",
      "A value is trying to be set on a copy of a slice from a DataFrame.\n",
      "Try using .loc[row_indexer,col_indexer] = value instead\n",
      "\n",
      "See the caveats in the documentation: https://pandas.pydata.org/pandas-docs/stable/user_guide/indexing.html#returning-a-view-versus-a-copy\n",
      "  cv[cv[0] == row][\"time\"] = odf[odf[\"0\"] == row][\"1\"]\n",
      "/var/folders/51/l057c8xx2md597vhk47n57rm0000gn/T/ipykernel_23167/2861821560.py:2: SettingWithCopyWarning: \n",
      "A value is trying to be set on a copy of a slice from a DataFrame.\n",
      "Try using .loc[row_indexer,col_indexer] = value instead\n",
      "\n",
      "See the caveats in the documentation: https://pandas.pydata.org/pandas-docs/stable/user_guide/indexing.html#returning-a-view-versus-a-copy\n",
      "  cv[cv[0] == row][\"time\"] = odf[odf[\"0\"] == row][\"1\"]\n",
      "/var/folders/51/l057c8xx2md597vhk47n57rm0000gn/T/ipykernel_23167/2861821560.py:2: SettingWithCopyWarning: \n",
      "A value is trying to be set on a copy of a slice from a DataFrame.\n",
      "Try using .loc[row_indexer,col_indexer] = value instead\n",
      "\n",
      "See the caveats in the documentation: https://pandas.pydata.org/pandas-docs/stable/user_guide/indexing.html#returning-a-view-versus-a-copy\n",
      "  cv[cv[0] == row][\"time\"] = odf[odf[\"0\"] == row][\"1\"]\n",
      "/var/folders/51/l057c8xx2md597vhk47n57rm0000gn/T/ipykernel_23167/2861821560.py:2: SettingWithCopyWarning: \n",
      "A value is trying to be set on a copy of a slice from a DataFrame.\n",
      "Try using .loc[row_indexer,col_indexer] = value instead\n",
      "\n",
      "See the caveats in the documentation: https://pandas.pydata.org/pandas-docs/stable/user_guide/indexing.html#returning-a-view-versus-a-copy\n",
      "  cv[cv[0] == row][\"time\"] = odf[odf[\"0\"] == row][\"1\"]\n",
      "/var/folders/51/l057c8xx2md597vhk47n57rm0000gn/T/ipykernel_23167/2861821560.py:2: SettingWithCopyWarning: \n",
      "A value is trying to be set on a copy of a slice from a DataFrame.\n",
      "Try using .loc[row_indexer,col_indexer] = value instead\n",
      "\n",
      "See the caveats in the documentation: https://pandas.pydata.org/pandas-docs/stable/user_guide/indexing.html#returning-a-view-versus-a-copy\n",
      "  cv[cv[0] == row][\"time\"] = odf[odf[\"0\"] == row][\"1\"]\n",
      "/var/folders/51/l057c8xx2md597vhk47n57rm0000gn/T/ipykernel_23167/2861821560.py:2: SettingWithCopyWarning: \n",
      "A value is trying to be set on a copy of a slice from a DataFrame.\n",
      "Try using .loc[row_indexer,col_indexer] = value instead\n",
      "\n",
      "See the caveats in the documentation: https://pandas.pydata.org/pandas-docs/stable/user_guide/indexing.html#returning-a-view-versus-a-copy\n",
      "  cv[cv[0] == row][\"time\"] = odf[odf[\"0\"] == row][\"1\"]\n",
      "/var/folders/51/l057c8xx2md597vhk47n57rm0000gn/T/ipykernel_23167/2861821560.py:2: SettingWithCopyWarning: \n",
      "A value is trying to be set on a copy of a slice from a DataFrame.\n",
      "Try using .loc[row_indexer,col_indexer] = value instead\n",
      "\n",
      "See the caveats in the documentation: https://pandas.pydata.org/pandas-docs/stable/user_guide/indexing.html#returning-a-view-versus-a-copy\n",
      "  cv[cv[0] == row][\"time\"] = odf[odf[\"0\"] == row][\"1\"]\n",
      "/var/folders/51/l057c8xx2md597vhk47n57rm0000gn/T/ipykernel_23167/2861821560.py:2: SettingWithCopyWarning: \n",
      "A value is trying to be set on a copy of a slice from a DataFrame.\n",
      "Try using .loc[row_indexer,col_indexer] = value instead\n",
      "\n",
      "See the caveats in the documentation: https://pandas.pydata.org/pandas-docs/stable/user_guide/indexing.html#returning-a-view-versus-a-copy\n",
      "  cv[cv[0] == row][\"time\"] = odf[odf[\"0\"] == row][\"1\"]\n",
      "/var/folders/51/l057c8xx2md597vhk47n57rm0000gn/T/ipykernel_23167/2861821560.py:2: SettingWithCopyWarning: \n",
      "A value is trying to be set on a copy of a slice from a DataFrame.\n",
      "Try using .loc[row_indexer,col_indexer] = value instead\n",
      "\n",
      "See the caveats in the documentation: https://pandas.pydata.org/pandas-docs/stable/user_guide/indexing.html#returning-a-view-versus-a-copy\n",
      "  cv[cv[0] == row][\"time\"] = odf[odf[\"0\"] == row][\"1\"]\n",
      "/var/folders/51/l057c8xx2md597vhk47n57rm0000gn/T/ipykernel_23167/2861821560.py:2: SettingWithCopyWarning: \n",
      "A value is trying to be set on a copy of a slice from a DataFrame.\n",
      "Try using .loc[row_indexer,col_indexer] = value instead\n",
      "\n",
      "See the caveats in the documentation: https://pandas.pydata.org/pandas-docs/stable/user_guide/indexing.html#returning-a-view-versus-a-copy\n",
      "  cv[cv[0] == row][\"time\"] = odf[odf[\"0\"] == row][\"1\"]\n",
      "/var/folders/51/l057c8xx2md597vhk47n57rm0000gn/T/ipykernel_23167/2861821560.py:2: SettingWithCopyWarning: \n",
      "A value is trying to be set on a copy of a slice from a DataFrame.\n",
      "Try using .loc[row_indexer,col_indexer] = value instead\n",
      "\n",
      "See the caveats in the documentation: https://pandas.pydata.org/pandas-docs/stable/user_guide/indexing.html#returning-a-view-versus-a-copy\n",
      "  cv[cv[0] == row][\"time\"] = odf[odf[\"0\"] == row][\"1\"]\n",
      "/var/folders/51/l057c8xx2md597vhk47n57rm0000gn/T/ipykernel_23167/2861821560.py:2: SettingWithCopyWarning: \n",
      "A value is trying to be set on a copy of a slice from a DataFrame.\n",
      "Try using .loc[row_indexer,col_indexer] = value instead\n",
      "\n",
      "See the caveats in the documentation: https://pandas.pydata.org/pandas-docs/stable/user_guide/indexing.html#returning-a-view-versus-a-copy\n",
      "  cv[cv[0] == row][\"time\"] = odf[odf[\"0\"] == row][\"1\"]\n",
      "/var/folders/51/l057c8xx2md597vhk47n57rm0000gn/T/ipykernel_23167/2861821560.py:2: SettingWithCopyWarning: \n",
      "A value is trying to be set on a copy of a slice from a DataFrame.\n",
      "Try using .loc[row_indexer,col_indexer] = value instead\n",
      "\n",
      "See the caveats in the documentation: https://pandas.pydata.org/pandas-docs/stable/user_guide/indexing.html#returning-a-view-versus-a-copy\n",
      "  cv[cv[0] == row][\"time\"] = odf[odf[\"0\"] == row][\"1\"]\n",
      "/var/folders/51/l057c8xx2md597vhk47n57rm0000gn/T/ipykernel_23167/2861821560.py:2: SettingWithCopyWarning: \n",
      "A value is trying to be set on a copy of a slice from a DataFrame.\n",
      "Try using .loc[row_indexer,col_indexer] = value instead\n",
      "\n",
      "See the caveats in the documentation: https://pandas.pydata.org/pandas-docs/stable/user_guide/indexing.html#returning-a-view-versus-a-copy\n",
      "  cv[cv[0] == row][\"time\"] = odf[odf[\"0\"] == row][\"1\"]\n",
      "/var/folders/51/l057c8xx2md597vhk47n57rm0000gn/T/ipykernel_23167/2861821560.py:2: SettingWithCopyWarning: \n",
      "A value is trying to be set on a copy of a slice from a DataFrame.\n",
      "Try using .loc[row_indexer,col_indexer] = value instead\n",
      "\n",
      "See the caveats in the documentation: https://pandas.pydata.org/pandas-docs/stable/user_guide/indexing.html#returning-a-view-versus-a-copy\n",
      "  cv[cv[0] == row][\"time\"] = odf[odf[\"0\"] == row][\"1\"]\n",
      "/var/folders/51/l057c8xx2md597vhk47n57rm0000gn/T/ipykernel_23167/2861821560.py:2: SettingWithCopyWarning: \n",
      "A value is trying to be set on a copy of a slice from a DataFrame.\n",
      "Try using .loc[row_indexer,col_indexer] = value instead\n",
      "\n",
      "See the caveats in the documentation: https://pandas.pydata.org/pandas-docs/stable/user_guide/indexing.html#returning-a-view-versus-a-copy\n",
      "  cv[cv[0] == row][\"time\"] = odf[odf[\"0\"] == row][\"1\"]\n",
      "/var/folders/51/l057c8xx2md597vhk47n57rm0000gn/T/ipykernel_23167/2861821560.py:2: SettingWithCopyWarning: \n",
      "A value is trying to be set on a copy of a slice from a DataFrame.\n",
      "Try using .loc[row_indexer,col_indexer] = value instead\n",
      "\n",
      "See the caveats in the documentation: https://pandas.pydata.org/pandas-docs/stable/user_guide/indexing.html#returning-a-view-versus-a-copy\n",
      "  cv[cv[0] == row][\"time\"] = odf[odf[\"0\"] == row][\"1\"]\n",
      "/var/folders/51/l057c8xx2md597vhk47n57rm0000gn/T/ipykernel_23167/2861821560.py:2: SettingWithCopyWarning: \n",
      "A value is trying to be set on a copy of a slice from a DataFrame.\n",
      "Try using .loc[row_indexer,col_indexer] = value instead\n",
      "\n",
      "See the caveats in the documentation: https://pandas.pydata.org/pandas-docs/stable/user_guide/indexing.html#returning-a-view-versus-a-copy\n",
      "  cv[cv[0] == row][\"time\"] = odf[odf[\"0\"] == row][\"1\"]\n",
      "/var/folders/51/l057c8xx2md597vhk47n57rm0000gn/T/ipykernel_23167/2861821560.py:2: SettingWithCopyWarning: \n",
      "A value is trying to be set on a copy of a slice from a DataFrame.\n",
      "Try using .loc[row_indexer,col_indexer] = value instead\n",
      "\n",
      "See the caveats in the documentation: https://pandas.pydata.org/pandas-docs/stable/user_guide/indexing.html#returning-a-view-versus-a-copy\n",
      "  cv[cv[0] == row][\"time\"] = odf[odf[\"0\"] == row][\"1\"]\n",
      "/var/folders/51/l057c8xx2md597vhk47n57rm0000gn/T/ipykernel_23167/2861821560.py:2: SettingWithCopyWarning: \n",
      "A value is trying to be set on a copy of a slice from a DataFrame.\n",
      "Try using .loc[row_indexer,col_indexer] = value instead\n",
      "\n",
      "See the caveats in the documentation: https://pandas.pydata.org/pandas-docs/stable/user_guide/indexing.html#returning-a-view-versus-a-copy\n",
      "  cv[cv[0] == row][\"time\"] = odf[odf[\"0\"] == row][\"1\"]\n",
      "/var/folders/51/l057c8xx2md597vhk47n57rm0000gn/T/ipykernel_23167/2861821560.py:2: SettingWithCopyWarning: \n",
      "A value is trying to be set on a copy of a slice from a DataFrame.\n",
      "Try using .loc[row_indexer,col_indexer] = value instead\n",
      "\n",
      "See the caveats in the documentation: https://pandas.pydata.org/pandas-docs/stable/user_guide/indexing.html#returning-a-view-versus-a-copy\n",
      "  cv[cv[0] == row][\"time\"] = odf[odf[\"0\"] == row][\"1\"]\n",
      "/var/folders/51/l057c8xx2md597vhk47n57rm0000gn/T/ipykernel_23167/2861821560.py:2: SettingWithCopyWarning: \n",
      "A value is trying to be set on a copy of a slice from a DataFrame.\n",
      "Try using .loc[row_indexer,col_indexer] = value instead\n",
      "\n",
      "See the caveats in the documentation: https://pandas.pydata.org/pandas-docs/stable/user_guide/indexing.html#returning-a-view-versus-a-copy\n",
      "  cv[cv[0] == row][\"time\"] = odf[odf[\"0\"] == row][\"1\"]\n",
      "/var/folders/51/l057c8xx2md597vhk47n57rm0000gn/T/ipykernel_23167/2861821560.py:2: SettingWithCopyWarning: \n",
      "A value is trying to be set on a copy of a slice from a DataFrame.\n",
      "Try using .loc[row_indexer,col_indexer] = value instead\n",
      "\n",
      "See the caveats in the documentation: https://pandas.pydata.org/pandas-docs/stable/user_guide/indexing.html#returning-a-view-versus-a-copy\n",
      "  cv[cv[0] == row][\"time\"] = odf[odf[\"0\"] == row][\"1\"]\n",
      "/var/folders/51/l057c8xx2md597vhk47n57rm0000gn/T/ipykernel_23167/2861821560.py:2: SettingWithCopyWarning: \n",
      "A value is trying to be set on a copy of a slice from a DataFrame.\n",
      "Try using .loc[row_indexer,col_indexer] = value instead\n",
      "\n",
      "See the caveats in the documentation: https://pandas.pydata.org/pandas-docs/stable/user_guide/indexing.html#returning-a-view-versus-a-copy\n",
      "  cv[cv[0] == row][\"time\"] = odf[odf[\"0\"] == row][\"1\"]\n",
      "/var/folders/51/l057c8xx2md597vhk47n57rm0000gn/T/ipykernel_23167/2861821560.py:2: SettingWithCopyWarning: \n",
      "A value is trying to be set on a copy of a slice from a DataFrame.\n",
      "Try using .loc[row_indexer,col_indexer] = value instead\n",
      "\n",
      "See the caveats in the documentation: https://pandas.pydata.org/pandas-docs/stable/user_guide/indexing.html#returning-a-view-versus-a-copy\n",
      "  cv[cv[0] == row][\"time\"] = odf[odf[\"0\"] == row][\"1\"]\n",
      "/var/folders/51/l057c8xx2md597vhk47n57rm0000gn/T/ipykernel_23167/2861821560.py:2: SettingWithCopyWarning: \n",
      "A value is trying to be set on a copy of a slice from a DataFrame.\n",
      "Try using .loc[row_indexer,col_indexer] = value instead\n",
      "\n",
      "See the caveats in the documentation: https://pandas.pydata.org/pandas-docs/stable/user_guide/indexing.html#returning-a-view-versus-a-copy\n",
      "  cv[cv[0] == row][\"time\"] = odf[odf[\"0\"] == row][\"1\"]\n",
      "/var/folders/51/l057c8xx2md597vhk47n57rm0000gn/T/ipykernel_23167/2861821560.py:2: SettingWithCopyWarning: \n",
      "A value is trying to be set on a copy of a slice from a DataFrame.\n",
      "Try using .loc[row_indexer,col_indexer] = value instead\n",
      "\n",
      "See the caveats in the documentation: https://pandas.pydata.org/pandas-docs/stable/user_guide/indexing.html#returning-a-view-versus-a-copy\n",
      "  cv[cv[0] == row][\"time\"] = odf[odf[\"0\"] == row][\"1\"]\n",
      "/var/folders/51/l057c8xx2md597vhk47n57rm0000gn/T/ipykernel_23167/2861821560.py:2: SettingWithCopyWarning: \n",
      "A value is trying to be set on a copy of a slice from a DataFrame.\n",
      "Try using .loc[row_indexer,col_indexer] = value instead\n",
      "\n",
      "See the caveats in the documentation: https://pandas.pydata.org/pandas-docs/stable/user_guide/indexing.html#returning-a-view-versus-a-copy\n",
      "  cv[cv[0] == row][\"time\"] = odf[odf[\"0\"] == row][\"1\"]\n",
      "/var/folders/51/l057c8xx2md597vhk47n57rm0000gn/T/ipykernel_23167/2861821560.py:2: SettingWithCopyWarning: \n",
      "A value is trying to be set on a copy of a slice from a DataFrame.\n",
      "Try using .loc[row_indexer,col_indexer] = value instead\n",
      "\n",
      "See the caveats in the documentation: https://pandas.pydata.org/pandas-docs/stable/user_guide/indexing.html#returning-a-view-versus-a-copy\n",
      "  cv[cv[0] == row][\"time\"] = odf[odf[\"0\"] == row][\"1\"]\n",
      "/var/folders/51/l057c8xx2md597vhk47n57rm0000gn/T/ipykernel_23167/2861821560.py:2: SettingWithCopyWarning: \n",
      "A value is trying to be set on a copy of a slice from a DataFrame.\n",
      "Try using .loc[row_indexer,col_indexer] = value instead\n",
      "\n",
      "See the caveats in the documentation: https://pandas.pydata.org/pandas-docs/stable/user_guide/indexing.html#returning-a-view-versus-a-copy\n",
      "  cv[cv[0] == row][\"time\"] = odf[odf[\"0\"] == row][\"1\"]\n",
      "/var/folders/51/l057c8xx2md597vhk47n57rm0000gn/T/ipykernel_23167/2861821560.py:2: SettingWithCopyWarning: \n",
      "A value is trying to be set on a copy of a slice from a DataFrame.\n",
      "Try using .loc[row_indexer,col_indexer] = value instead\n",
      "\n",
      "See the caveats in the documentation: https://pandas.pydata.org/pandas-docs/stable/user_guide/indexing.html#returning-a-view-versus-a-copy\n",
      "  cv[cv[0] == row][\"time\"] = odf[odf[\"0\"] == row][\"1\"]\n",
      "/var/folders/51/l057c8xx2md597vhk47n57rm0000gn/T/ipykernel_23167/2861821560.py:2: SettingWithCopyWarning: \n",
      "A value is trying to be set on a copy of a slice from a DataFrame.\n",
      "Try using .loc[row_indexer,col_indexer] = value instead\n",
      "\n",
      "See the caveats in the documentation: https://pandas.pydata.org/pandas-docs/stable/user_guide/indexing.html#returning-a-view-versus-a-copy\n",
      "  cv[cv[0] == row][\"time\"] = odf[odf[\"0\"] == row][\"1\"]\n",
      "/var/folders/51/l057c8xx2md597vhk47n57rm0000gn/T/ipykernel_23167/2861821560.py:2: SettingWithCopyWarning: \n",
      "A value is trying to be set on a copy of a slice from a DataFrame.\n",
      "Try using .loc[row_indexer,col_indexer] = value instead\n",
      "\n",
      "See the caveats in the documentation: https://pandas.pydata.org/pandas-docs/stable/user_guide/indexing.html#returning-a-view-versus-a-copy\n",
      "  cv[cv[0] == row][\"time\"] = odf[odf[\"0\"] == row][\"1\"]\n",
      "/var/folders/51/l057c8xx2md597vhk47n57rm0000gn/T/ipykernel_23167/2861821560.py:2: SettingWithCopyWarning: \n",
      "A value is trying to be set on a copy of a slice from a DataFrame.\n",
      "Try using .loc[row_indexer,col_indexer] = value instead\n",
      "\n",
      "See the caveats in the documentation: https://pandas.pydata.org/pandas-docs/stable/user_guide/indexing.html#returning-a-view-versus-a-copy\n",
      "  cv[cv[0] == row][\"time\"] = odf[odf[\"0\"] == row][\"1\"]\n",
      "/var/folders/51/l057c8xx2md597vhk47n57rm0000gn/T/ipykernel_23167/2861821560.py:2: SettingWithCopyWarning: \n",
      "A value is trying to be set on a copy of a slice from a DataFrame.\n",
      "Try using .loc[row_indexer,col_indexer] = value instead\n",
      "\n",
      "See the caveats in the documentation: https://pandas.pydata.org/pandas-docs/stable/user_guide/indexing.html#returning-a-view-versus-a-copy\n",
      "  cv[cv[0] == row][\"time\"] = odf[odf[\"0\"] == row][\"1\"]\n",
      "/var/folders/51/l057c8xx2md597vhk47n57rm0000gn/T/ipykernel_23167/2861821560.py:2: SettingWithCopyWarning: \n",
      "A value is trying to be set on a copy of a slice from a DataFrame.\n",
      "Try using .loc[row_indexer,col_indexer] = value instead\n",
      "\n",
      "See the caveats in the documentation: https://pandas.pydata.org/pandas-docs/stable/user_guide/indexing.html#returning-a-view-versus-a-copy\n",
      "  cv[cv[0] == row][\"time\"] = odf[odf[\"0\"] == row][\"1\"]\n",
      "/var/folders/51/l057c8xx2md597vhk47n57rm0000gn/T/ipykernel_23167/2861821560.py:2: SettingWithCopyWarning: \n",
      "A value is trying to be set on a copy of a slice from a DataFrame.\n",
      "Try using .loc[row_indexer,col_indexer] = value instead\n",
      "\n",
      "See the caveats in the documentation: https://pandas.pydata.org/pandas-docs/stable/user_guide/indexing.html#returning-a-view-versus-a-copy\n",
      "  cv[cv[0] == row][\"time\"] = odf[odf[\"0\"] == row][\"1\"]\n",
      "/var/folders/51/l057c8xx2md597vhk47n57rm0000gn/T/ipykernel_23167/2861821560.py:2: SettingWithCopyWarning: \n",
      "A value is trying to be set on a copy of a slice from a DataFrame.\n",
      "Try using .loc[row_indexer,col_indexer] = value instead\n",
      "\n",
      "See the caveats in the documentation: https://pandas.pydata.org/pandas-docs/stable/user_guide/indexing.html#returning-a-view-versus-a-copy\n",
      "  cv[cv[0] == row][\"time\"] = odf[odf[\"0\"] == row][\"1\"]\n",
      "/var/folders/51/l057c8xx2md597vhk47n57rm0000gn/T/ipykernel_23167/2861821560.py:2: SettingWithCopyWarning: \n",
      "A value is trying to be set on a copy of a slice from a DataFrame.\n",
      "Try using .loc[row_indexer,col_indexer] = value instead\n",
      "\n",
      "See the caveats in the documentation: https://pandas.pydata.org/pandas-docs/stable/user_guide/indexing.html#returning-a-view-versus-a-copy\n",
      "  cv[cv[0] == row][\"time\"] = odf[odf[\"0\"] == row][\"1\"]\n",
      "/var/folders/51/l057c8xx2md597vhk47n57rm0000gn/T/ipykernel_23167/2861821560.py:2: SettingWithCopyWarning: \n",
      "A value is trying to be set on a copy of a slice from a DataFrame.\n",
      "Try using .loc[row_indexer,col_indexer] = value instead\n",
      "\n",
      "See the caveats in the documentation: https://pandas.pydata.org/pandas-docs/stable/user_guide/indexing.html#returning-a-view-versus-a-copy\n",
      "  cv[cv[0] == row][\"time\"] = odf[odf[\"0\"] == row][\"1\"]\n",
      "/var/folders/51/l057c8xx2md597vhk47n57rm0000gn/T/ipykernel_23167/2861821560.py:2: SettingWithCopyWarning: \n",
      "A value is trying to be set on a copy of a slice from a DataFrame.\n",
      "Try using .loc[row_indexer,col_indexer] = value instead\n",
      "\n",
      "See the caveats in the documentation: https://pandas.pydata.org/pandas-docs/stable/user_guide/indexing.html#returning-a-view-versus-a-copy\n",
      "  cv[cv[0] == row][\"time\"] = odf[odf[\"0\"] == row][\"1\"]\n",
      "/var/folders/51/l057c8xx2md597vhk47n57rm0000gn/T/ipykernel_23167/2861821560.py:2: SettingWithCopyWarning: \n",
      "A value is trying to be set on a copy of a slice from a DataFrame.\n",
      "Try using .loc[row_indexer,col_indexer] = value instead\n",
      "\n",
      "See the caveats in the documentation: https://pandas.pydata.org/pandas-docs/stable/user_guide/indexing.html#returning-a-view-versus-a-copy\n",
      "  cv[cv[0] == row][\"time\"] = odf[odf[\"0\"] == row][\"1\"]\n",
      "/var/folders/51/l057c8xx2md597vhk47n57rm0000gn/T/ipykernel_23167/2861821560.py:2: SettingWithCopyWarning: \n",
      "A value is trying to be set on a copy of a slice from a DataFrame.\n",
      "Try using .loc[row_indexer,col_indexer] = value instead\n",
      "\n",
      "See the caveats in the documentation: https://pandas.pydata.org/pandas-docs/stable/user_guide/indexing.html#returning-a-view-versus-a-copy\n",
      "  cv[cv[0] == row][\"time\"] = odf[odf[\"0\"] == row][\"1\"]\n",
      "/var/folders/51/l057c8xx2md597vhk47n57rm0000gn/T/ipykernel_23167/2861821560.py:2: SettingWithCopyWarning: \n",
      "A value is trying to be set on a copy of a slice from a DataFrame.\n",
      "Try using .loc[row_indexer,col_indexer] = value instead\n",
      "\n",
      "See the caveats in the documentation: https://pandas.pydata.org/pandas-docs/stable/user_guide/indexing.html#returning-a-view-versus-a-copy\n",
      "  cv[cv[0] == row][\"time\"] = odf[odf[\"0\"] == row][\"1\"]\n",
      "/var/folders/51/l057c8xx2md597vhk47n57rm0000gn/T/ipykernel_23167/2861821560.py:2: SettingWithCopyWarning: \n",
      "A value is trying to be set on a copy of a slice from a DataFrame.\n",
      "Try using .loc[row_indexer,col_indexer] = value instead\n",
      "\n",
      "See the caveats in the documentation: https://pandas.pydata.org/pandas-docs/stable/user_guide/indexing.html#returning-a-view-versus-a-copy\n",
      "  cv[cv[0] == row][\"time\"] = odf[odf[\"0\"] == row][\"1\"]\n",
      "/var/folders/51/l057c8xx2md597vhk47n57rm0000gn/T/ipykernel_23167/2861821560.py:2: SettingWithCopyWarning: \n",
      "A value is trying to be set on a copy of a slice from a DataFrame.\n",
      "Try using .loc[row_indexer,col_indexer] = value instead\n",
      "\n",
      "See the caveats in the documentation: https://pandas.pydata.org/pandas-docs/stable/user_guide/indexing.html#returning-a-view-versus-a-copy\n",
      "  cv[cv[0] == row][\"time\"] = odf[odf[\"0\"] == row][\"1\"]\n",
      "/var/folders/51/l057c8xx2md597vhk47n57rm0000gn/T/ipykernel_23167/2861821560.py:2: SettingWithCopyWarning: \n",
      "A value is trying to be set on a copy of a slice from a DataFrame.\n",
      "Try using .loc[row_indexer,col_indexer] = value instead\n",
      "\n",
      "See the caveats in the documentation: https://pandas.pydata.org/pandas-docs/stable/user_guide/indexing.html#returning-a-view-versus-a-copy\n",
      "  cv[cv[0] == row][\"time\"] = odf[odf[\"0\"] == row][\"1\"]\n",
      "/var/folders/51/l057c8xx2md597vhk47n57rm0000gn/T/ipykernel_23167/2861821560.py:2: SettingWithCopyWarning: \n",
      "A value is trying to be set on a copy of a slice from a DataFrame.\n",
      "Try using .loc[row_indexer,col_indexer] = value instead\n",
      "\n",
      "See the caveats in the documentation: https://pandas.pydata.org/pandas-docs/stable/user_guide/indexing.html#returning-a-view-versus-a-copy\n",
      "  cv[cv[0] == row][\"time\"] = odf[odf[\"0\"] == row][\"1\"]\n",
      "/var/folders/51/l057c8xx2md597vhk47n57rm0000gn/T/ipykernel_23167/2861821560.py:2: SettingWithCopyWarning: \n",
      "A value is trying to be set on a copy of a slice from a DataFrame.\n",
      "Try using .loc[row_indexer,col_indexer] = value instead\n",
      "\n",
      "See the caveats in the documentation: https://pandas.pydata.org/pandas-docs/stable/user_guide/indexing.html#returning-a-view-versus-a-copy\n",
      "  cv[cv[0] == row][\"time\"] = odf[odf[\"0\"] == row][\"1\"]\n",
      "/var/folders/51/l057c8xx2md597vhk47n57rm0000gn/T/ipykernel_23167/2861821560.py:2: SettingWithCopyWarning: \n",
      "A value is trying to be set on a copy of a slice from a DataFrame.\n",
      "Try using .loc[row_indexer,col_indexer] = value instead\n",
      "\n",
      "See the caveats in the documentation: https://pandas.pydata.org/pandas-docs/stable/user_guide/indexing.html#returning-a-view-versus-a-copy\n",
      "  cv[cv[0] == row][\"time\"] = odf[odf[\"0\"] == row][\"1\"]\n",
      "/var/folders/51/l057c8xx2md597vhk47n57rm0000gn/T/ipykernel_23167/2861821560.py:2: SettingWithCopyWarning: \n",
      "A value is trying to be set on a copy of a slice from a DataFrame.\n",
      "Try using .loc[row_indexer,col_indexer] = value instead\n",
      "\n",
      "See the caveats in the documentation: https://pandas.pydata.org/pandas-docs/stable/user_guide/indexing.html#returning-a-view-versus-a-copy\n",
      "  cv[cv[0] == row][\"time\"] = odf[odf[\"0\"] == row][\"1\"]\n",
      "/var/folders/51/l057c8xx2md597vhk47n57rm0000gn/T/ipykernel_23167/2861821560.py:2: SettingWithCopyWarning: \n",
      "A value is trying to be set on a copy of a slice from a DataFrame.\n",
      "Try using .loc[row_indexer,col_indexer] = value instead\n",
      "\n",
      "See the caveats in the documentation: https://pandas.pydata.org/pandas-docs/stable/user_guide/indexing.html#returning-a-view-versus-a-copy\n",
      "  cv[cv[0] == row][\"time\"] = odf[odf[\"0\"] == row][\"1\"]\n",
      "/var/folders/51/l057c8xx2md597vhk47n57rm0000gn/T/ipykernel_23167/2861821560.py:2: SettingWithCopyWarning: \n",
      "A value is trying to be set on a copy of a slice from a DataFrame.\n",
      "Try using .loc[row_indexer,col_indexer] = value instead\n",
      "\n",
      "See the caveats in the documentation: https://pandas.pydata.org/pandas-docs/stable/user_guide/indexing.html#returning-a-view-versus-a-copy\n",
      "  cv[cv[0] == row][\"time\"] = odf[odf[\"0\"] == row][\"1\"]\n",
      "/var/folders/51/l057c8xx2md597vhk47n57rm0000gn/T/ipykernel_23167/2861821560.py:2: SettingWithCopyWarning: \n",
      "A value is trying to be set on a copy of a slice from a DataFrame.\n",
      "Try using .loc[row_indexer,col_indexer] = value instead\n",
      "\n",
      "See the caveats in the documentation: https://pandas.pydata.org/pandas-docs/stable/user_guide/indexing.html#returning-a-view-versus-a-copy\n",
      "  cv[cv[0] == row][\"time\"] = odf[odf[\"0\"] == row][\"1\"]\n",
      "/var/folders/51/l057c8xx2md597vhk47n57rm0000gn/T/ipykernel_23167/2861821560.py:2: SettingWithCopyWarning: \n",
      "A value is trying to be set on a copy of a slice from a DataFrame.\n",
      "Try using .loc[row_indexer,col_indexer] = value instead\n",
      "\n",
      "See the caveats in the documentation: https://pandas.pydata.org/pandas-docs/stable/user_guide/indexing.html#returning-a-view-versus-a-copy\n",
      "  cv[cv[0] == row][\"time\"] = odf[odf[\"0\"] == row][\"1\"]\n",
      "/var/folders/51/l057c8xx2md597vhk47n57rm0000gn/T/ipykernel_23167/2861821560.py:2: SettingWithCopyWarning: \n",
      "A value is trying to be set on a copy of a slice from a DataFrame.\n",
      "Try using .loc[row_indexer,col_indexer] = value instead\n",
      "\n",
      "See the caveats in the documentation: https://pandas.pydata.org/pandas-docs/stable/user_guide/indexing.html#returning-a-view-versus-a-copy\n",
      "  cv[cv[0] == row][\"time\"] = odf[odf[\"0\"] == row][\"1\"]\n",
      "/var/folders/51/l057c8xx2md597vhk47n57rm0000gn/T/ipykernel_23167/2861821560.py:2: SettingWithCopyWarning: \n",
      "A value is trying to be set on a copy of a slice from a DataFrame.\n",
      "Try using .loc[row_indexer,col_indexer] = value instead\n",
      "\n",
      "See the caveats in the documentation: https://pandas.pydata.org/pandas-docs/stable/user_guide/indexing.html#returning-a-view-versus-a-copy\n",
      "  cv[cv[0] == row][\"time\"] = odf[odf[\"0\"] == row][\"1\"]\n",
      "/var/folders/51/l057c8xx2md597vhk47n57rm0000gn/T/ipykernel_23167/2861821560.py:2: SettingWithCopyWarning: \n",
      "A value is trying to be set on a copy of a slice from a DataFrame.\n",
      "Try using .loc[row_indexer,col_indexer] = value instead\n",
      "\n",
      "See the caveats in the documentation: https://pandas.pydata.org/pandas-docs/stable/user_guide/indexing.html#returning-a-view-versus-a-copy\n",
      "  cv[cv[0] == row][\"time\"] = odf[odf[\"0\"] == row][\"1\"]\n",
      "/var/folders/51/l057c8xx2md597vhk47n57rm0000gn/T/ipykernel_23167/2861821560.py:2: SettingWithCopyWarning: \n",
      "A value is trying to be set on a copy of a slice from a DataFrame.\n",
      "Try using .loc[row_indexer,col_indexer] = value instead\n",
      "\n",
      "See the caveats in the documentation: https://pandas.pydata.org/pandas-docs/stable/user_guide/indexing.html#returning-a-view-versus-a-copy\n",
      "  cv[cv[0] == row][\"time\"] = odf[odf[\"0\"] == row][\"1\"]\n",
      "/var/folders/51/l057c8xx2md597vhk47n57rm0000gn/T/ipykernel_23167/2861821560.py:2: SettingWithCopyWarning: \n",
      "A value is trying to be set on a copy of a slice from a DataFrame.\n",
      "Try using .loc[row_indexer,col_indexer] = value instead\n",
      "\n",
      "See the caveats in the documentation: https://pandas.pydata.org/pandas-docs/stable/user_guide/indexing.html#returning-a-view-versus-a-copy\n",
      "  cv[cv[0] == row][\"time\"] = odf[odf[\"0\"] == row][\"1\"]\n",
      "/var/folders/51/l057c8xx2md597vhk47n57rm0000gn/T/ipykernel_23167/2861821560.py:2: SettingWithCopyWarning: \n",
      "A value is trying to be set on a copy of a slice from a DataFrame.\n",
      "Try using .loc[row_indexer,col_indexer] = value instead\n",
      "\n",
      "See the caveats in the documentation: https://pandas.pydata.org/pandas-docs/stable/user_guide/indexing.html#returning-a-view-versus-a-copy\n",
      "  cv[cv[0] == row][\"time\"] = odf[odf[\"0\"] == row][\"1\"]\n",
      "/var/folders/51/l057c8xx2md597vhk47n57rm0000gn/T/ipykernel_23167/2861821560.py:2: SettingWithCopyWarning: \n",
      "A value is trying to be set on a copy of a slice from a DataFrame.\n",
      "Try using .loc[row_indexer,col_indexer] = value instead\n",
      "\n",
      "See the caveats in the documentation: https://pandas.pydata.org/pandas-docs/stable/user_guide/indexing.html#returning-a-view-versus-a-copy\n",
      "  cv[cv[0] == row][\"time\"] = odf[odf[\"0\"] == row][\"1\"]\n",
      "/var/folders/51/l057c8xx2md597vhk47n57rm0000gn/T/ipykernel_23167/2861821560.py:2: SettingWithCopyWarning: \n",
      "A value is trying to be set on a copy of a slice from a DataFrame.\n",
      "Try using .loc[row_indexer,col_indexer] = value instead\n",
      "\n",
      "See the caveats in the documentation: https://pandas.pydata.org/pandas-docs/stable/user_guide/indexing.html#returning-a-view-versus-a-copy\n",
      "  cv[cv[0] == row][\"time\"] = odf[odf[\"0\"] == row][\"1\"]\n",
      "/var/folders/51/l057c8xx2md597vhk47n57rm0000gn/T/ipykernel_23167/2861821560.py:2: SettingWithCopyWarning: \n",
      "A value is trying to be set on a copy of a slice from a DataFrame.\n",
      "Try using .loc[row_indexer,col_indexer] = value instead\n",
      "\n",
      "See the caveats in the documentation: https://pandas.pydata.org/pandas-docs/stable/user_guide/indexing.html#returning-a-view-versus-a-copy\n",
      "  cv[cv[0] == row][\"time\"] = odf[odf[\"0\"] == row][\"1\"]\n",
      "/var/folders/51/l057c8xx2md597vhk47n57rm0000gn/T/ipykernel_23167/2861821560.py:2: SettingWithCopyWarning: \n",
      "A value is trying to be set on a copy of a slice from a DataFrame.\n",
      "Try using .loc[row_indexer,col_indexer] = value instead\n",
      "\n",
      "See the caveats in the documentation: https://pandas.pydata.org/pandas-docs/stable/user_guide/indexing.html#returning-a-view-versus-a-copy\n",
      "  cv[cv[0] == row][\"time\"] = odf[odf[\"0\"] == row][\"1\"]\n",
      "/var/folders/51/l057c8xx2md597vhk47n57rm0000gn/T/ipykernel_23167/2861821560.py:2: SettingWithCopyWarning: \n",
      "A value is trying to be set on a copy of a slice from a DataFrame.\n",
      "Try using .loc[row_indexer,col_indexer] = value instead\n",
      "\n",
      "See the caveats in the documentation: https://pandas.pydata.org/pandas-docs/stable/user_guide/indexing.html#returning-a-view-versus-a-copy\n",
      "  cv[cv[0] == row][\"time\"] = odf[odf[\"0\"] == row][\"1\"]\n",
      "/var/folders/51/l057c8xx2md597vhk47n57rm0000gn/T/ipykernel_23167/2861821560.py:2: SettingWithCopyWarning: \n",
      "A value is trying to be set on a copy of a slice from a DataFrame.\n",
      "Try using .loc[row_indexer,col_indexer] = value instead\n",
      "\n",
      "See the caveats in the documentation: https://pandas.pydata.org/pandas-docs/stable/user_guide/indexing.html#returning-a-view-versus-a-copy\n",
      "  cv[cv[0] == row][\"time\"] = odf[odf[\"0\"] == row][\"1\"]\n",
      "/var/folders/51/l057c8xx2md597vhk47n57rm0000gn/T/ipykernel_23167/2861821560.py:2: SettingWithCopyWarning: \n",
      "A value is trying to be set on a copy of a slice from a DataFrame.\n",
      "Try using .loc[row_indexer,col_indexer] = value instead\n",
      "\n",
      "See the caveats in the documentation: https://pandas.pydata.org/pandas-docs/stable/user_guide/indexing.html#returning-a-view-versus-a-copy\n",
      "  cv[cv[0] == row][\"time\"] = odf[odf[\"0\"] == row][\"1\"]\n",
      "/var/folders/51/l057c8xx2md597vhk47n57rm0000gn/T/ipykernel_23167/2861821560.py:2: SettingWithCopyWarning: \n",
      "A value is trying to be set on a copy of a slice from a DataFrame.\n",
      "Try using .loc[row_indexer,col_indexer] = value instead\n",
      "\n",
      "See the caveats in the documentation: https://pandas.pydata.org/pandas-docs/stable/user_guide/indexing.html#returning-a-view-versus-a-copy\n",
      "  cv[cv[0] == row][\"time\"] = odf[odf[\"0\"] == row][\"1\"]\n",
      "/var/folders/51/l057c8xx2md597vhk47n57rm0000gn/T/ipykernel_23167/2861821560.py:2: SettingWithCopyWarning: \n",
      "A value is trying to be set on a copy of a slice from a DataFrame.\n",
      "Try using .loc[row_indexer,col_indexer] = value instead\n",
      "\n",
      "See the caveats in the documentation: https://pandas.pydata.org/pandas-docs/stable/user_guide/indexing.html#returning-a-view-versus-a-copy\n",
      "  cv[cv[0] == row][\"time\"] = odf[odf[\"0\"] == row][\"1\"]\n",
      "/var/folders/51/l057c8xx2md597vhk47n57rm0000gn/T/ipykernel_23167/2861821560.py:2: SettingWithCopyWarning: \n",
      "A value is trying to be set on a copy of a slice from a DataFrame.\n",
      "Try using .loc[row_indexer,col_indexer] = value instead\n",
      "\n",
      "See the caveats in the documentation: https://pandas.pydata.org/pandas-docs/stable/user_guide/indexing.html#returning-a-view-versus-a-copy\n",
      "  cv[cv[0] == row][\"time\"] = odf[odf[\"0\"] == row][\"1\"]\n",
      "/var/folders/51/l057c8xx2md597vhk47n57rm0000gn/T/ipykernel_23167/2861821560.py:2: SettingWithCopyWarning: \n",
      "A value is trying to be set on a copy of a slice from a DataFrame.\n",
      "Try using .loc[row_indexer,col_indexer] = value instead\n",
      "\n",
      "See the caveats in the documentation: https://pandas.pydata.org/pandas-docs/stable/user_guide/indexing.html#returning-a-view-versus-a-copy\n",
      "  cv[cv[0] == row][\"time\"] = odf[odf[\"0\"] == row][\"1\"]\n",
      "/var/folders/51/l057c8xx2md597vhk47n57rm0000gn/T/ipykernel_23167/2861821560.py:2: SettingWithCopyWarning: \n",
      "A value is trying to be set on a copy of a slice from a DataFrame.\n",
      "Try using .loc[row_indexer,col_indexer] = value instead\n",
      "\n",
      "See the caveats in the documentation: https://pandas.pydata.org/pandas-docs/stable/user_guide/indexing.html#returning-a-view-versus-a-copy\n",
      "  cv[cv[0] == row][\"time\"] = odf[odf[\"0\"] == row][\"1\"]\n",
      "/var/folders/51/l057c8xx2md597vhk47n57rm0000gn/T/ipykernel_23167/2861821560.py:2: SettingWithCopyWarning: \n",
      "A value is trying to be set on a copy of a slice from a DataFrame.\n",
      "Try using .loc[row_indexer,col_indexer] = value instead\n",
      "\n",
      "See the caveats in the documentation: https://pandas.pydata.org/pandas-docs/stable/user_guide/indexing.html#returning-a-view-versus-a-copy\n",
      "  cv[cv[0] == row][\"time\"] = odf[odf[\"0\"] == row][\"1\"]\n",
      "/var/folders/51/l057c8xx2md597vhk47n57rm0000gn/T/ipykernel_23167/2861821560.py:2: SettingWithCopyWarning: \n",
      "A value is trying to be set on a copy of a slice from a DataFrame.\n",
      "Try using .loc[row_indexer,col_indexer] = value instead\n",
      "\n",
      "See the caveats in the documentation: https://pandas.pydata.org/pandas-docs/stable/user_guide/indexing.html#returning-a-view-versus-a-copy\n",
      "  cv[cv[0] == row][\"time\"] = odf[odf[\"0\"] == row][\"1\"]\n",
      "/var/folders/51/l057c8xx2md597vhk47n57rm0000gn/T/ipykernel_23167/2861821560.py:2: SettingWithCopyWarning: \n",
      "A value is trying to be set on a copy of a slice from a DataFrame.\n",
      "Try using .loc[row_indexer,col_indexer] = value instead\n",
      "\n",
      "See the caveats in the documentation: https://pandas.pydata.org/pandas-docs/stable/user_guide/indexing.html#returning-a-view-versus-a-copy\n",
      "  cv[cv[0] == row][\"time\"] = odf[odf[\"0\"] == row][\"1\"]\n",
      "/var/folders/51/l057c8xx2md597vhk47n57rm0000gn/T/ipykernel_23167/2861821560.py:2: SettingWithCopyWarning: \n",
      "A value is trying to be set on a copy of a slice from a DataFrame.\n",
      "Try using .loc[row_indexer,col_indexer] = value instead\n",
      "\n",
      "See the caveats in the documentation: https://pandas.pydata.org/pandas-docs/stable/user_guide/indexing.html#returning-a-view-versus-a-copy\n",
      "  cv[cv[0] == row][\"time\"] = odf[odf[\"0\"] == row][\"1\"]\n",
      "/var/folders/51/l057c8xx2md597vhk47n57rm0000gn/T/ipykernel_23167/2861821560.py:2: SettingWithCopyWarning: \n",
      "A value is trying to be set on a copy of a slice from a DataFrame.\n",
      "Try using .loc[row_indexer,col_indexer] = value instead\n",
      "\n",
      "See the caveats in the documentation: https://pandas.pydata.org/pandas-docs/stable/user_guide/indexing.html#returning-a-view-versus-a-copy\n",
      "  cv[cv[0] == row][\"time\"] = odf[odf[\"0\"] == row][\"1\"]\n",
      "/var/folders/51/l057c8xx2md597vhk47n57rm0000gn/T/ipykernel_23167/2861821560.py:2: SettingWithCopyWarning: \n",
      "A value is trying to be set on a copy of a slice from a DataFrame.\n",
      "Try using .loc[row_indexer,col_indexer] = value instead\n",
      "\n",
      "See the caveats in the documentation: https://pandas.pydata.org/pandas-docs/stable/user_guide/indexing.html#returning-a-view-versus-a-copy\n",
      "  cv[cv[0] == row][\"time\"] = odf[odf[\"0\"] == row][\"1\"]\n",
      "/var/folders/51/l057c8xx2md597vhk47n57rm0000gn/T/ipykernel_23167/2861821560.py:2: SettingWithCopyWarning: \n",
      "A value is trying to be set on a copy of a slice from a DataFrame.\n",
      "Try using .loc[row_indexer,col_indexer] = value instead\n",
      "\n",
      "See the caveats in the documentation: https://pandas.pydata.org/pandas-docs/stable/user_guide/indexing.html#returning-a-view-versus-a-copy\n",
      "  cv[cv[0] == row][\"time\"] = odf[odf[\"0\"] == row][\"1\"]\n",
      "/var/folders/51/l057c8xx2md597vhk47n57rm0000gn/T/ipykernel_23167/2861821560.py:2: SettingWithCopyWarning: \n",
      "A value is trying to be set on a copy of a slice from a DataFrame.\n",
      "Try using .loc[row_indexer,col_indexer] = value instead\n",
      "\n",
      "See the caveats in the documentation: https://pandas.pydata.org/pandas-docs/stable/user_guide/indexing.html#returning-a-view-versus-a-copy\n",
      "  cv[cv[0] == row][\"time\"] = odf[odf[\"0\"] == row][\"1\"]\n",
      "/var/folders/51/l057c8xx2md597vhk47n57rm0000gn/T/ipykernel_23167/2861821560.py:2: SettingWithCopyWarning: \n",
      "A value is trying to be set on a copy of a slice from a DataFrame.\n",
      "Try using .loc[row_indexer,col_indexer] = value instead\n",
      "\n",
      "See the caveats in the documentation: https://pandas.pydata.org/pandas-docs/stable/user_guide/indexing.html#returning-a-view-versus-a-copy\n",
      "  cv[cv[0] == row][\"time\"] = odf[odf[\"0\"] == row][\"1\"]\n",
      "/var/folders/51/l057c8xx2md597vhk47n57rm0000gn/T/ipykernel_23167/2861821560.py:2: SettingWithCopyWarning: \n",
      "A value is trying to be set on a copy of a slice from a DataFrame.\n",
      "Try using .loc[row_indexer,col_indexer] = value instead\n",
      "\n",
      "See the caveats in the documentation: https://pandas.pydata.org/pandas-docs/stable/user_guide/indexing.html#returning-a-view-versus-a-copy\n",
      "  cv[cv[0] == row][\"time\"] = odf[odf[\"0\"] == row][\"1\"]\n",
      "/var/folders/51/l057c8xx2md597vhk47n57rm0000gn/T/ipykernel_23167/2861821560.py:2: SettingWithCopyWarning: \n",
      "A value is trying to be set on a copy of a slice from a DataFrame.\n",
      "Try using .loc[row_indexer,col_indexer] = value instead\n",
      "\n",
      "See the caveats in the documentation: https://pandas.pydata.org/pandas-docs/stable/user_guide/indexing.html#returning-a-view-versus-a-copy\n",
      "  cv[cv[0] == row][\"time\"] = odf[odf[\"0\"] == row][\"1\"]\n",
      "/var/folders/51/l057c8xx2md597vhk47n57rm0000gn/T/ipykernel_23167/2861821560.py:2: SettingWithCopyWarning: \n",
      "A value is trying to be set on a copy of a slice from a DataFrame.\n",
      "Try using .loc[row_indexer,col_indexer] = value instead\n",
      "\n",
      "See the caveats in the documentation: https://pandas.pydata.org/pandas-docs/stable/user_guide/indexing.html#returning-a-view-versus-a-copy\n",
      "  cv[cv[0] == row][\"time\"] = odf[odf[\"0\"] == row][\"1\"]\n",
      "/var/folders/51/l057c8xx2md597vhk47n57rm0000gn/T/ipykernel_23167/2861821560.py:2: SettingWithCopyWarning: \n",
      "A value is trying to be set on a copy of a slice from a DataFrame.\n",
      "Try using .loc[row_indexer,col_indexer] = value instead\n",
      "\n",
      "See the caveats in the documentation: https://pandas.pydata.org/pandas-docs/stable/user_guide/indexing.html#returning-a-view-versus-a-copy\n",
      "  cv[cv[0] == row][\"time\"] = odf[odf[\"0\"] == row][\"1\"]\n",
      "/var/folders/51/l057c8xx2md597vhk47n57rm0000gn/T/ipykernel_23167/2861821560.py:2: SettingWithCopyWarning: \n",
      "A value is trying to be set on a copy of a slice from a DataFrame.\n",
      "Try using .loc[row_indexer,col_indexer] = value instead\n",
      "\n",
      "See the caveats in the documentation: https://pandas.pydata.org/pandas-docs/stable/user_guide/indexing.html#returning-a-view-versus-a-copy\n",
      "  cv[cv[0] == row][\"time\"] = odf[odf[\"0\"] == row][\"1\"]\n",
      "/var/folders/51/l057c8xx2md597vhk47n57rm0000gn/T/ipykernel_23167/2861821560.py:2: SettingWithCopyWarning: \n",
      "A value is trying to be set on a copy of a slice from a DataFrame.\n",
      "Try using .loc[row_indexer,col_indexer] = value instead\n",
      "\n",
      "See the caveats in the documentation: https://pandas.pydata.org/pandas-docs/stable/user_guide/indexing.html#returning-a-view-versus-a-copy\n",
      "  cv[cv[0] == row][\"time\"] = odf[odf[\"0\"] == row][\"1\"]\n",
      "/var/folders/51/l057c8xx2md597vhk47n57rm0000gn/T/ipykernel_23167/2861821560.py:2: SettingWithCopyWarning: \n",
      "A value is trying to be set on a copy of a slice from a DataFrame.\n",
      "Try using .loc[row_indexer,col_indexer] = value instead\n",
      "\n",
      "See the caveats in the documentation: https://pandas.pydata.org/pandas-docs/stable/user_guide/indexing.html#returning-a-view-versus-a-copy\n",
      "  cv[cv[0] == row][\"time\"] = odf[odf[\"0\"] == row][\"1\"]\n",
      "/var/folders/51/l057c8xx2md597vhk47n57rm0000gn/T/ipykernel_23167/2861821560.py:2: SettingWithCopyWarning: \n",
      "A value is trying to be set on a copy of a slice from a DataFrame.\n",
      "Try using .loc[row_indexer,col_indexer] = value instead\n",
      "\n",
      "See the caveats in the documentation: https://pandas.pydata.org/pandas-docs/stable/user_guide/indexing.html#returning-a-view-versus-a-copy\n",
      "  cv[cv[0] == row][\"time\"] = odf[odf[\"0\"] == row][\"1\"]\n",
      "/var/folders/51/l057c8xx2md597vhk47n57rm0000gn/T/ipykernel_23167/2861821560.py:2: SettingWithCopyWarning: \n",
      "A value is trying to be set on a copy of a slice from a DataFrame.\n",
      "Try using .loc[row_indexer,col_indexer] = value instead\n",
      "\n",
      "See the caveats in the documentation: https://pandas.pydata.org/pandas-docs/stable/user_guide/indexing.html#returning-a-view-versus-a-copy\n",
      "  cv[cv[0] == row][\"time\"] = odf[odf[\"0\"] == row][\"1\"]\n",
      "/var/folders/51/l057c8xx2md597vhk47n57rm0000gn/T/ipykernel_23167/2861821560.py:2: SettingWithCopyWarning: \n",
      "A value is trying to be set on a copy of a slice from a DataFrame.\n",
      "Try using .loc[row_indexer,col_indexer] = value instead\n",
      "\n",
      "See the caveats in the documentation: https://pandas.pydata.org/pandas-docs/stable/user_guide/indexing.html#returning-a-view-versus-a-copy\n",
      "  cv[cv[0] == row][\"time\"] = odf[odf[\"0\"] == row][\"1\"]\n",
      "/var/folders/51/l057c8xx2md597vhk47n57rm0000gn/T/ipykernel_23167/2861821560.py:2: SettingWithCopyWarning: \n",
      "A value is trying to be set on a copy of a slice from a DataFrame.\n",
      "Try using .loc[row_indexer,col_indexer] = value instead\n",
      "\n",
      "See the caveats in the documentation: https://pandas.pydata.org/pandas-docs/stable/user_guide/indexing.html#returning-a-view-versus-a-copy\n",
      "  cv[cv[0] == row][\"time\"] = odf[odf[\"0\"] == row][\"1\"]\n",
      "/var/folders/51/l057c8xx2md597vhk47n57rm0000gn/T/ipykernel_23167/2861821560.py:2: SettingWithCopyWarning: \n",
      "A value is trying to be set on a copy of a slice from a DataFrame.\n",
      "Try using .loc[row_indexer,col_indexer] = value instead\n",
      "\n",
      "See the caveats in the documentation: https://pandas.pydata.org/pandas-docs/stable/user_guide/indexing.html#returning-a-view-versus-a-copy\n",
      "  cv[cv[0] == row][\"time\"] = odf[odf[\"0\"] == row][\"1\"]\n",
      "/var/folders/51/l057c8xx2md597vhk47n57rm0000gn/T/ipykernel_23167/2861821560.py:2: SettingWithCopyWarning: \n",
      "A value is trying to be set on a copy of a slice from a DataFrame.\n",
      "Try using .loc[row_indexer,col_indexer] = value instead\n",
      "\n",
      "See the caveats in the documentation: https://pandas.pydata.org/pandas-docs/stable/user_guide/indexing.html#returning-a-view-versus-a-copy\n",
      "  cv[cv[0] == row][\"time\"] = odf[odf[\"0\"] == row][\"1\"]\n",
      "/var/folders/51/l057c8xx2md597vhk47n57rm0000gn/T/ipykernel_23167/2861821560.py:2: SettingWithCopyWarning: \n",
      "A value is trying to be set on a copy of a slice from a DataFrame.\n",
      "Try using .loc[row_indexer,col_indexer] = value instead\n",
      "\n",
      "See the caveats in the documentation: https://pandas.pydata.org/pandas-docs/stable/user_guide/indexing.html#returning-a-view-versus-a-copy\n",
      "  cv[cv[0] == row][\"time\"] = odf[odf[\"0\"] == row][\"1\"]\n",
      "/var/folders/51/l057c8xx2md597vhk47n57rm0000gn/T/ipykernel_23167/2861821560.py:2: SettingWithCopyWarning: \n",
      "A value is trying to be set on a copy of a slice from a DataFrame.\n",
      "Try using .loc[row_indexer,col_indexer] = value instead\n",
      "\n",
      "See the caveats in the documentation: https://pandas.pydata.org/pandas-docs/stable/user_guide/indexing.html#returning-a-view-versus-a-copy\n",
      "  cv[cv[0] == row][\"time\"] = odf[odf[\"0\"] == row][\"1\"]\n",
      "/var/folders/51/l057c8xx2md597vhk47n57rm0000gn/T/ipykernel_23167/2861821560.py:2: SettingWithCopyWarning: \n",
      "A value is trying to be set on a copy of a slice from a DataFrame.\n",
      "Try using .loc[row_indexer,col_indexer] = value instead\n",
      "\n",
      "See the caveats in the documentation: https://pandas.pydata.org/pandas-docs/stable/user_guide/indexing.html#returning-a-view-versus-a-copy\n",
      "  cv[cv[0] == row][\"time\"] = odf[odf[\"0\"] == row][\"1\"]\n",
      "/var/folders/51/l057c8xx2md597vhk47n57rm0000gn/T/ipykernel_23167/2861821560.py:2: SettingWithCopyWarning: \n",
      "A value is trying to be set on a copy of a slice from a DataFrame.\n",
      "Try using .loc[row_indexer,col_indexer] = value instead\n",
      "\n",
      "See the caveats in the documentation: https://pandas.pydata.org/pandas-docs/stable/user_guide/indexing.html#returning-a-view-versus-a-copy\n",
      "  cv[cv[0] == row][\"time\"] = odf[odf[\"0\"] == row][\"1\"]\n",
      "/var/folders/51/l057c8xx2md597vhk47n57rm0000gn/T/ipykernel_23167/2861821560.py:2: SettingWithCopyWarning: \n",
      "A value is trying to be set on a copy of a slice from a DataFrame.\n",
      "Try using .loc[row_indexer,col_indexer] = value instead\n",
      "\n",
      "See the caveats in the documentation: https://pandas.pydata.org/pandas-docs/stable/user_guide/indexing.html#returning-a-view-versus-a-copy\n",
      "  cv[cv[0] == row][\"time\"] = odf[odf[\"0\"] == row][\"1\"]\n",
      "/var/folders/51/l057c8xx2md597vhk47n57rm0000gn/T/ipykernel_23167/2861821560.py:2: SettingWithCopyWarning: \n",
      "A value is trying to be set on a copy of a slice from a DataFrame.\n",
      "Try using .loc[row_indexer,col_indexer] = value instead\n",
      "\n",
      "See the caveats in the documentation: https://pandas.pydata.org/pandas-docs/stable/user_guide/indexing.html#returning-a-view-versus-a-copy\n",
      "  cv[cv[0] == row][\"time\"] = odf[odf[\"0\"] == row][\"1\"]\n",
      "/var/folders/51/l057c8xx2md597vhk47n57rm0000gn/T/ipykernel_23167/2861821560.py:2: SettingWithCopyWarning: \n",
      "A value is trying to be set on a copy of a slice from a DataFrame.\n",
      "Try using .loc[row_indexer,col_indexer] = value instead\n",
      "\n",
      "See the caveats in the documentation: https://pandas.pydata.org/pandas-docs/stable/user_guide/indexing.html#returning-a-view-versus-a-copy\n",
      "  cv[cv[0] == row][\"time\"] = odf[odf[\"0\"] == row][\"1\"]\n",
      "/var/folders/51/l057c8xx2md597vhk47n57rm0000gn/T/ipykernel_23167/2861821560.py:2: SettingWithCopyWarning: \n",
      "A value is trying to be set on a copy of a slice from a DataFrame.\n",
      "Try using .loc[row_indexer,col_indexer] = value instead\n",
      "\n",
      "See the caveats in the documentation: https://pandas.pydata.org/pandas-docs/stable/user_guide/indexing.html#returning-a-view-versus-a-copy\n",
      "  cv[cv[0] == row][\"time\"] = odf[odf[\"0\"] == row][\"1\"]\n",
      "/var/folders/51/l057c8xx2md597vhk47n57rm0000gn/T/ipykernel_23167/2861821560.py:2: SettingWithCopyWarning: \n",
      "A value is trying to be set on a copy of a slice from a DataFrame.\n",
      "Try using .loc[row_indexer,col_indexer] = value instead\n",
      "\n",
      "See the caveats in the documentation: https://pandas.pydata.org/pandas-docs/stable/user_guide/indexing.html#returning-a-view-versus-a-copy\n",
      "  cv[cv[0] == row][\"time\"] = odf[odf[\"0\"] == row][\"1\"]\n",
      "/var/folders/51/l057c8xx2md597vhk47n57rm0000gn/T/ipykernel_23167/2861821560.py:2: SettingWithCopyWarning: \n",
      "A value is trying to be set on a copy of a slice from a DataFrame.\n",
      "Try using .loc[row_indexer,col_indexer] = value instead\n",
      "\n",
      "See the caveats in the documentation: https://pandas.pydata.org/pandas-docs/stable/user_guide/indexing.html#returning-a-view-versus-a-copy\n",
      "  cv[cv[0] == row][\"time\"] = odf[odf[\"0\"] == row][\"1\"]\n",
      "/var/folders/51/l057c8xx2md597vhk47n57rm0000gn/T/ipykernel_23167/2861821560.py:2: SettingWithCopyWarning: \n",
      "A value is trying to be set on a copy of a slice from a DataFrame.\n",
      "Try using .loc[row_indexer,col_indexer] = value instead\n",
      "\n",
      "See the caveats in the documentation: https://pandas.pydata.org/pandas-docs/stable/user_guide/indexing.html#returning-a-view-versus-a-copy\n",
      "  cv[cv[0] == row][\"time\"] = odf[odf[\"0\"] == row][\"1\"]\n",
      "/var/folders/51/l057c8xx2md597vhk47n57rm0000gn/T/ipykernel_23167/2861821560.py:2: SettingWithCopyWarning: \n",
      "A value is trying to be set on a copy of a slice from a DataFrame.\n",
      "Try using .loc[row_indexer,col_indexer] = value instead\n",
      "\n",
      "See the caveats in the documentation: https://pandas.pydata.org/pandas-docs/stable/user_guide/indexing.html#returning-a-view-versus-a-copy\n",
      "  cv[cv[0] == row][\"time\"] = odf[odf[\"0\"] == row][\"1\"]\n",
      "/var/folders/51/l057c8xx2md597vhk47n57rm0000gn/T/ipykernel_23167/2861821560.py:2: SettingWithCopyWarning: \n",
      "A value is trying to be set on a copy of a slice from a DataFrame.\n",
      "Try using .loc[row_indexer,col_indexer] = value instead\n",
      "\n",
      "See the caveats in the documentation: https://pandas.pydata.org/pandas-docs/stable/user_guide/indexing.html#returning-a-view-versus-a-copy\n",
      "  cv[cv[0] == row][\"time\"] = odf[odf[\"0\"] == row][\"1\"]\n",
      "/var/folders/51/l057c8xx2md597vhk47n57rm0000gn/T/ipykernel_23167/2861821560.py:2: SettingWithCopyWarning: \n",
      "A value is trying to be set on a copy of a slice from a DataFrame.\n",
      "Try using .loc[row_indexer,col_indexer] = value instead\n",
      "\n",
      "See the caveats in the documentation: https://pandas.pydata.org/pandas-docs/stable/user_guide/indexing.html#returning-a-view-versus-a-copy\n",
      "  cv[cv[0] == row][\"time\"] = odf[odf[\"0\"] == row][\"1\"]\n",
      "/var/folders/51/l057c8xx2md597vhk47n57rm0000gn/T/ipykernel_23167/2861821560.py:2: SettingWithCopyWarning: \n",
      "A value is trying to be set on a copy of a slice from a DataFrame.\n",
      "Try using .loc[row_indexer,col_indexer] = value instead\n",
      "\n",
      "See the caveats in the documentation: https://pandas.pydata.org/pandas-docs/stable/user_guide/indexing.html#returning-a-view-versus-a-copy\n",
      "  cv[cv[0] == row][\"time\"] = odf[odf[\"0\"] == row][\"1\"]\n",
      "/var/folders/51/l057c8xx2md597vhk47n57rm0000gn/T/ipykernel_23167/2861821560.py:2: SettingWithCopyWarning: \n",
      "A value is trying to be set on a copy of a slice from a DataFrame.\n",
      "Try using .loc[row_indexer,col_indexer] = value instead\n",
      "\n",
      "See the caveats in the documentation: https://pandas.pydata.org/pandas-docs/stable/user_guide/indexing.html#returning-a-view-versus-a-copy\n",
      "  cv[cv[0] == row][\"time\"] = odf[odf[\"0\"] == row][\"1\"]\n",
      "/var/folders/51/l057c8xx2md597vhk47n57rm0000gn/T/ipykernel_23167/2861821560.py:2: SettingWithCopyWarning: \n",
      "A value is trying to be set on a copy of a slice from a DataFrame.\n",
      "Try using .loc[row_indexer,col_indexer] = value instead\n",
      "\n",
      "See the caveats in the documentation: https://pandas.pydata.org/pandas-docs/stable/user_guide/indexing.html#returning-a-view-versus-a-copy\n",
      "  cv[cv[0] == row][\"time\"] = odf[odf[\"0\"] == row][\"1\"]\n",
      "/var/folders/51/l057c8xx2md597vhk47n57rm0000gn/T/ipykernel_23167/2861821560.py:2: SettingWithCopyWarning: \n",
      "A value is trying to be set on a copy of a slice from a DataFrame.\n",
      "Try using .loc[row_indexer,col_indexer] = value instead\n",
      "\n",
      "See the caveats in the documentation: https://pandas.pydata.org/pandas-docs/stable/user_guide/indexing.html#returning-a-view-versus-a-copy\n",
      "  cv[cv[0] == row][\"time\"] = odf[odf[\"0\"] == row][\"1\"]\n",
      "/var/folders/51/l057c8xx2md597vhk47n57rm0000gn/T/ipykernel_23167/2861821560.py:2: SettingWithCopyWarning: \n",
      "A value is trying to be set on a copy of a slice from a DataFrame.\n",
      "Try using .loc[row_indexer,col_indexer] = value instead\n",
      "\n",
      "See the caveats in the documentation: https://pandas.pydata.org/pandas-docs/stable/user_guide/indexing.html#returning-a-view-versus-a-copy\n",
      "  cv[cv[0] == row][\"time\"] = odf[odf[\"0\"] == row][\"1\"]\n",
      "/var/folders/51/l057c8xx2md597vhk47n57rm0000gn/T/ipykernel_23167/2861821560.py:2: SettingWithCopyWarning: \n",
      "A value is trying to be set on a copy of a slice from a DataFrame.\n",
      "Try using .loc[row_indexer,col_indexer] = value instead\n",
      "\n",
      "See the caveats in the documentation: https://pandas.pydata.org/pandas-docs/stable/user_guide/indexing.html#returning-a-view-versus-a-copy\n",
      "  cv[cv[0] == row][\"time\"] = odf[odf[\"0\"] == row][\"1\"]\n",
      "/var/folders/51/l057c8xx2md597vhk47n57rm0000gn/T/ipykernel_23167/2861821560.py:2: SettingWithCopyWarning: \n",
      "A value is trying to be set on a copy of a slice from a DataFrame.\n",
      "Try using .loc[row_indexer,col_indexer] = value instead\n",
      "\n",
      "See the caveats in the documentation: https://pandas.pydata.org/pandas-docs/stable/user_guide/indexing.html#returning-a-view-versus-a-copy\n",
      "  cv[cv[0] == row][\"time\"] = odf[odf[\"0\"] == row][\"1\"]\n",
      "/var/folders/51/l057c8xx2md597vhk47n57rm0000gn/T/ipykernel_23167/2861821560.py:2: SettingWithCopyWarning: \n",
      "A value is trying to be set on a copy of a slice from a DataFrame.\n",
      "Try using .loc[row_indexer,col_indexer] = value instead\n",
      "\n",
      "See the caveats in the documentation: https://pandas.pydata.org/pandas-docs/stable/user_guide/indexing.html#returning-a-view-versus-a-copy\n",
      "  cv[cv[0] == row][\"time\"] = odf[odf[\"0\"] == row][\"1\"]\n",
      "/var/folders/51/l057c8xx2md597vhk47n57rm0000gn/T/ipykernel_23167/2861821560.py:2: SettingWithCopyWarning: \n",
      "A value is trying to be set on a copy of a slice from a DataFrame.\n",
      "Try using .loc[row_indexer,col_indexer] = value instead\n",
      "\n",
      "See the caveats in the documentation: https://pandas.pydata.org/pandas-docs/stable/user_guide/indexing.html#returning-a-view-versus-a-copy\n",
      "  cv[cv[0] == row][\"time\"] = odf[odf[\"0\"] == row][\"1\"]\n",
      "/var/folders/51/l057c8xx2md597vhk47n57rm0000gn/T/ipykernel_23167/2861821560.py:2: SettingWithCopyWarning: \n",
      "A value is trying to be set on a copy of a slice from a DataFrame.\n",
      "Try using .loc[row_indexer,col_indexer] = value instead\n",
      "\n",
      "See the caveats in the documentation: https://pandas.pydata.org/pandas-docs/stable/user_guide/indexing.html#returning-a-view-versus-a-copy\n",
      "  cv[cv[0] == row][\"time\"] = odf[odf[\"0\"] == row][\"1\"]\n",
      "/var/folders/51/l057c8xx2md597vhk47n57rm0000gn/T/ipykernel_23167/2861821560.py:2: SettingWithCopyWarning: \n",
      "A value is trying to be set on a copy of a slice from a DataFrame.\n",
      "Try using .loc[row_indexer,col_indexer] = value instead\n",
      "\n",
      "See the caveats in the documentation: https://pandas.pydata.org/pandas-docs/stable/user_guide/indexing.html#returning-a-view-versus-a-copy\n",
      "  cv[cv[0] == row][\"time\"] = odf[odf[\"0\"] == row][\"1\"]\n",
      "/var/folders/51/l057c8xx2md597vhk47n57rm0000gn/T/ipykernel_23167/2861821560.py:2: SettingWithCopyWarning: \n",
      "A value is trying to be set on a copy of a slice from a DataFrame.\n",
      "Try using .loc[row_indexer,col_indexer] = value instead\n",
      "\n",
      "See the caveats in the documentation: https://pandas.pydata.org/pandas-docs/stable/user_guide/indexing.html#returning-a-view-versus-a-copy\n",
      "  cv[cv[0] == row][\"time\"] = odf[odf[\"0\"] == row][\"1\"]\n",
      "/var/folders/51/l057c8xx2md597vhk47n57rm0000gn/T/ipykernel_23167/2861821560.py:2: SettingWithCopyWarning: \n",
      "A value is trying to be set on a copy of a slice from a DataFrame.\n",
      "Try using .loc[row_indexer,col_indexer] = value instead\n",
      "\n",
      "See the caveats in the documentation: https://pandas.pydata.org/pandas-docs/stable/user_guide/indexing.html#returning-a-view-versus-a-copy\n",
      "  cv[cv[0] == row][\"time\"] = odf[odf[\"0\"] == row][\"1\"]\n",
      "/var/folders/51/l057c8xx2md597vhk47n57rm0000gn/T/ipykernel_23167/2861821560.py:2: SettingWithCopyWarning: \n",
      "A value is trying to be set on a copy of a slice from a DataFrame.\n",
      "Try using .loc[row_indexer,col_indexer] = value instead\n",
      "\n",
      "See the caveats in the documentation: https://pandas.pydata.org/pandas-docs/stable/user_guide/indexing.html#returning-a-view-versus-a-copy\n",
      "  cv[cv[0] == row][\"time\"] = odf[odf[\"0\"] == row][\"1\"]\n",
      "/var/folders/51/l057c8xx2md597vhk47n57rm0000gn/T/ipykernel_23167/2861821560.py:2: SettingWithCopyWarning: \n",
      "A value is trying to be set on a copy of a slice from a DataFrame.\n",
      "Try using .loc[row_indexer,col_indexer] = value instead\n",
      "\n",
      "See the caveats in the documentation: https://pandas.pydata.org/pandas-docs/stable/user_guide/indexing.html#returning-a-view-versus-a-copy\n",
      "  cv[cv[0] == row][\"time\"] = odf[odf[\"0\"] == row][\"1\"]\n",
      "/var/folders/51/l057c8xx2md597vhk47n57rm0000gn/T/ipykernel_23167/2861821560.py:2: SettingWithCopyWarning: \n",
      "A value is trying to be set on a copy of a slice from a DataFrame.\n",
      "Try using .loc[row_indexer,col_indexer] = value instead\n",
      "\n",
      "See the caveats in the documentation: https://pandas.pydata.org/pandas-docs/stable/user_guide/indexing.html#returning-a-view-versus-a-copy\n",
      "  cv[cv[0] == row][\"time\"] = odf[odf[\"0\"] == row][\"1\"]\n",
      "/var/folders/51/l057c8xx2md597vhk47n57rm0000gn/T/ipykernel_23167/2861821560.py:2: SettingWithCopyWarning: \n",
      "A value is trying to be set on a copy of a slice from a DataFrame.\n",
      "Try using .loc[row_indexer,col_indexer] = value instead\n",
      "\n",
      "See the caveats in the documentation: https://pandas.pydata.org/pandas-docs/stable/user_guide/indexing.html#returning-a-view-versus-a-copy\n",
      "  cv[cv[0] == row][\"time\"] = odf[odf[\"0\"] == row][\"1\"]\n",
      "/var/folders/51/l057c8xx2md597vhk47n57rm0000gn/T/ipykernel_23167/2861821560.py:2: SettingWithCopyWarning: \n",
      "A value is trying to be set on a copy of a slice from a DataFrame.\n",
      "Try using .loc[row_indexer,col_indexer] = value instead\n",
      "\n",
      "See the caveats in the documentation: https://pandas.pydata.org/pandas-docs/stable/user_guide/indexing.html#returning-a-view-versus-a-copy\n",
      "  cv[cv[0] == row][\"time\"] = odf[odf[\"0\"] == row][\"1\"]\n",
      "/var/folders/51/l057c8xx2md597vhk47n57rm0000gn/T/ipykernel_23167/2861821560.py:2: SettingWithCopyWarning: \n",
      "A value is trying to be set on a copy of a slice from a DataFrame.\n",
      "Try using .loc[row_indexer,col_indexer] = value instead\n",
      "\n",
      "See the caveats in the documentation: https://pandas.pydata.org/pandas-docs/stable/user_guide/indexing.html#returning-a-view-versus-a-copy\n",
      "  cv[cv[0] == row][\"time\"] = odf[odf[\"0\"] == row][\"1\"]\n",
      "/var/folders/51/l057c8xx2md597vhk47n57rm0000gn/T/ipykernel_23167/2861821560.py:2: SettingWithCopyWarning: \n",
      "A value is trying to be set on a copy of a slice from a DataFrame.\n",
      "Try using .loc[row_indexer,col_indexer] = value instead\n",
      "\n",
      "See the caveats in the documentation: https://pandas.pydata.org/pandas-docs/stable/user_guide/indexing.html#returning-a-view-versus-a-copy\n",
      "  cv[cv[0] == row][\"time\"] = odf[odf[\"0\"] == row][\"1\"]\n",
      "/var/folders/51/l057c8xx2md597vhk47n57rm0000gn/T/ipykernel_23167/2861821560.py:2: SettingWithCopyWarning: \n",
      "A value is trying to be set on a copy of a slice from a DataFrame.\n",
      "Try using .loc[row_indexer,col_indexer] = value instead\n",
      "\n",
      "See the caveats in the documentation: https://pandas.pydata.org/pandas-docs/stable/user_guide/indexing.html#returning-a-view-versus-a-copy\n",
      "  cv[cv[0] == row][\"time\"] = odf[odf[\"0\"] == row][\"1\"]\n",
      "/var/folders/51/l057c8xx2md597vhk47n57rm0000gn/T/ipykernel_23167/2861821560.py:2: SettingWithCopyWarning: \n",
      "A value is trying to be set on a copy of a slice from a DataFrame.\n",
      "Try using .loc[row_indexer,col_indexer] = value instead\n",
      "\n",
      "See the caveats in the documentation: https://pandas.pydata.org/pandas-docs/stable/user_guide/indexing.html#returning-a-view-versus-a-copy\n",
      "  cv[cv[0] == row][\"time\"] = odf[odf[\"0\"] == row][\"1\"]\n",
      "/var/folders/51/l057c8xx2md597vhk47n57rm0000gn/T/ipykernel_23167/2861821560.py:2: SettingWithCopyWarning: \n",
      "A value is trying to be set on a copy of a slice from a DataFrame.\n",
      "Try using .loc[row_indexer,col_indexer] = value instead\n",
      "\n",
      "See the caveats in the documentation: https://pandas.pydata.org/pandas-docs/stable/user_guide/indexing.html#returning-a-view-versus-a-copy\n",
      "  cv[cv[0] == row][\"time\"] = odf[odf[\"0\"] == row][\"1\"]\n",
      "/var/folders/51/l057c8xx2md597vhk47n57rm0000gn/T/ipykernel_23167/2861821560.py:2: SettingWithCopyWarning: \n",
      "A value is trying to be set on a copy of a slice from a DataFrame.\n",
      "Try using .loc[row_indexer,col_indexer] = value instead\n",
      "\n",
      "See the caveats in the documentation: https://pandas.pydata.org/pandas-docs/stable/user_guide/indexing.html#returning-a-view-versus-a-copy\n",
      "  cv[cv[0] == row][\"time\"] = odf[odf[\"0\"] == row][\"1\"]\n",
      "/var/folders/51/l057c8xx2md597vhk47n57rm0000gn/T/ipykernel_23167/2861821560.py:2: SettingWithCopyWarning: \n",
      "A value is trying to be set on a copy of a slice from a DataFrame.\n",
      "Try using .loc[row_indexer,col_indexer] = value instead\n",
      "\n",
      "See the caveats in the documentation: https://pandas.pydata.org/pandas-docs/stable/user_guide/indexing.html#returning-a-view-versus-a-copy\n",
      "  cv[cv[0] == row][\"time\"] = odf[odf[\"0\"] == row][\"1\"]\n",
      "/var/folders/51/l057c8xx2md597vhk47n57rm0000gn/T/ipykernel_23167/2861821560.py:2: SettingWithCopyWarning: \n",
      "A value is trying to be set on a copy of a slice from a DataFrame.\n",
      "Try using .loc[row_indexer,col_indexer] = value instead\n",
      "\n",
      "See the caveats in the documentation: https://pandas.pydata.org/pandas-docs/stable/user_guide/indexing.html#returning-a-view-versus-a-copy\n",
      "  cv[cv[0] == row][\"time\"] = odf[odf[\"0\"] == row][\"1\"]\n",
      "/var/folders/51/l057c8xx2md597vhk47n57rm0000gn/T/ipykernel_23167/2861821560.py:2: SettingWithCopyWarning: \n",
      "A value is trying to be set on a copy of a slice from a DataFrame.\n",
      "Try using .loc[row_indexer,col_indexer] = value instead\n",
      "\n",
      "See the caveats in the documentation: https://pandas.pydata.org/pandas-docs/stable/user_guide/indexing.html#returning-a-view-versus-a-copy\n",
      "  cv[cv[0] == row][\"time\"] = odf[odf[\"0\"] == row][\"1\"]\n",
      "/var/folders/51/l057c8xx2md597vhk47n57rm0000gn/T/ipykernel_23167/2861821560.py:2: SettingWithCopyWarning: \n",
      "A value is trying to be set on a copy of a slice from a DataFrame.\n",
      "Try using .loc[row_indexer,col_indexer] = value instead\n",
      "\n",
      "See the caveats in the documentation: https://pandas.pydata.org/pandas-docs/stable/user_guide/indexing.html#returning-a-view-versus-a-copy\n",
      "  cv[cv[0] == row][\"time\"] = odf[odf[\"0\"] == row][\"1\"]\n",
      "/var/folders/51/l057c8xx2md597vhk47n57rm0000gn/T/ipykernel_23167/2861821560.py:2: SettingWithCopyWarning: \n",
      "A value is trying to be set on a copy of a slice from a DataFrame.\n",
      "Try using .loc[row_indexer,col_indexer] = value instead\n",
      "\n",
      "See the caveats in the documentation: https://pandas.pydata.org/pandas-docs/stable/user_guide/indexing.html#returning-a-view-versus-a-copy\n",
      "  cv[cv[0] == row][\"time\"] = odf[odf[\"0\"] == row][\"1\"]\n",
      "/var/folders/51/l057c8xx2md597vhk47n57rm0000gn/T/ipykernel_23167/2861821560.py:2: SettingWithCopyWarning: \n",
      "A value is trying to be set on a copy of a slice from a DataFrame.\n",
      "Try using .loc[row_indexer,col_indexer] = value instead\n",
      "\n",
      "See the caveats in the documentation: https://pandas.pydata.org/pandas-docs/stable/user_guide/indexing.html#returning-a-view-versus-a-copy\n",
      "  cv[cv[0] == row][\"time\"] = odf[odf[\"0\"] == row][\"1\"]\n",
      "/var/folders/51/l057c8xx2md597vhk47n57rm0000gn/T/ipykernel_23167/2861821560.py:2: SettingWithCopyWarning: \n",
      "A value is trying to be set on a copy of a slice from a DataFrame.\n",
      "Try using .loc[row_indexer,col_indexer] = value instead\n",
      "\n",
      "See the caveats in the documentation: https://pandas.pydata.org/pandas-docs/stable/user_guide/indexing.html#returning-a-view-versus-a-copy\n",
      "  cv[cv[0] == row][\"time\"] = odf[odf[\"0\"] == row][\"1\"]\n",
      "/var/folders/51/l057c8xx2md597vhk47n57rm0000gn/T/ipykernel_23167/2861821560.py:2: SettingWithCopyWarning: \n",
      "A value is trying to be set on a copy of a slice from a DataFrame.\n",
      "Try using .loc[row_indexer,col_indexer] = value instead\n",
      "\n",
      "See the caveats in the documentation: https://pandas.pydata.org/pandas-docs/stable/user_guide/indexing.html#returning-a-view-versus-a-copy\n",
      "  cv[cv[0] == row][\"time\"] = odf[odf[\"0\"] == row][\"1\"]\n",
      "/var/folders/51/l057c8xx2md597vhk47n57rm0000gn/T/ipykernel_23167/2861821560.py:2: SettingWithCopyWarning: \n",
      "A value is trying to be set on a copy of a slice from a DataFrame.\n",
      "Try using .loc[row_indexer,col_indexer] = value instead\n",
      "\n",
      "See the caveats in the documentation: https://pandas.pydata.org/pandas-docs/stable/user_guide/indexing.html#returning-a-view-versus-a-copy\n",
      "  cv[cv[0] == row][\"time\"] = odf[odf[\"0\"] == row][\"1\"]\n",
      "/var/folders/51/l057c8xx2md597vhk47n57rm0000gn/T/ipykernel_23167/2861821560.py:2: SettingWithCopyWarning: \n",
      "A value is trying to be set on a copy of a slice from a DataFrame.\n",
      "Try using .loc[row_indexer,col_indexer] = value instead\n",
      "\n",
      "See the caveats in the documentation: https://pandas.pydata.org/pandas-docs/stable/user_guide/indexing.html#returning-a-view-versus-a-copy\n",
      "  cv[cv[0] == row][\"time\"] = odf[odf[\"0\"] == row][\"1\"]\n",
      "/var/folders/51/l057c8xx2md597vhk47n57rm0000gn/T/ipykernel_23167/2861821560.py:2: SettingWithCopyWarning: \n",
      "A value is trying to be set on a copy of a slice from a DataFrame.\n",
      "Try using .loc[row_indexer,col_indexer] = value instead\n",
      "\n",
      "See the caveats in the documentation: https://pandas.pydata.org/pandas-docs/stable/user_guide/indexing.html#returning-a-view-versus-a-copy\n",
      "  cv[cv[0] == row][\"time\"] = odf[odf[\"0\"] == row][\"1\"]\n",
      "/var/folders/51/l057c8xx2md597vhk47n57rm0000gn/T/ipykernel_23167/2861821560.py:2: SettingWithCopyWarning: \n",
      "A value is trying to be set on a copy of a slice from a DataFrame.\n",
      "Try using .loc[row_indexer,col_indexer] = value instead\n",
      "\n",
      "See the caveats in the documentation: https://pandas.pydata.org/pandas-docs/stable/user_guide/indexing.html#returning-a-view-versus-a-copy\n",
      "  cv[cv[0] == row][\"time\"] = odf[odf[\"0\"] == row][\"1\"]\n",
      "/var/folders/51/l057c8xx2md597vhk47n57rm0000gn/T/ipykernel_23167/2861821560.py:2: SettingWithCopyWarning: \n",
      "A value is trying to be set on a copy of a slice from a DataFrame.\n",
      "Try using .loc[row_indexer,col_indexer] = value instead\n",
      "\n",
      "See the caveats in the documentation: https://pandas.pydata.org/pandas-docs/stable/user_guide/indexing.html#returning-a-view-versus-a-copy\n",
      "  cv[cv[0] == row][\"time\"] = odf[odf[\"0\"] == row][\"1\"]\n",
      "/var/folders/51/l057c8xx2md597vhk47n57rm0000gn/T/ipykernel_23167/2861821560.py:2: SettingWithCopyWarning: \n",
      "A value is trying to be set on a copy of a slice from a DataFrame.\n",
      "Try using .loc[row_indexer,col_indexer] = value instead\n",
      "\n",
      "See the caveats in the documentation: https://pandas.pydata.org/pandas-docs/stable/user_guide/indexing.html#returning-a-view-versus-a-copy\n",
      "  cv[cv[0] == row][\"time\"] = odf[odf[\"0\"] == row][\"1\"]\n",
      "/var/folders/51/l057c8xx2md597vhk47n57rm0000gn/T/ipykernel_23167/2861821560.py:2: SettingWithCopyWarning: \n",
      "A value is trying to be set on a copy of a slice from a DataFrame.\n",
      "Try using .loc[row_indexer,col_indexer] = value instead\n",
      "\n",
      "See the caveats in the documentation: https://pandas.pydata.org/pandas-docs/stable/user_guide/indexing.html#returning-a-view-versus-a-copy\n",
      "  cv[cv[0] == row][\"time\"] = odf[odf[\"0\"] == row][\"1\"]\n",
      "/var/folders/51/l057c8xx2md597vhk47n57rm0000gn/T/ipykernel_23167/2861821560.py:2: SettingWithCopyWarning: \n",
      "A value is trying to be set on a copy of a slice from a DataFrame.\n",
      "Try using .loc[row_indexer,col_indexer] = value instead\n",
      "\n",
      "See the caveats in the documentation: https://pandas.pydata.org/pandas-docs/stable/user_guide/indexing.html#returning-a-view-versus-a-copy\n",
      "  cv[cv[0] == row][\"time\"] = odf[odf[\"0\"] == row][\"1\"]\n",
      "/var/folders/51/l057c8xx2md597vhk47n57rm0000gn/T/ipykernel_23167/2861821560.py:2: SettingWithCopyWarning: \n",
      "A value is trying to be set on a copy of a slice from a DataFrame.\n",
      "Try using .loc[row_indexer,col_indexer] = value instead\n",
      "\n",
      "See the caveats in the documentation: https://pandas.pydata.org/pandas-docs/stable/user_guide/indexing.html#returning-a-view-versus-a-copy\n",
      "  cv[cv[0] == row][\"time\"] = odf[odf[\"0\"] == row][\"1\"]\n",
      "/var/folders/51/l057c8xx2md597vhk47n57rm0000gn/T/ipykernel_23167/2861821560.py:2: SettingWithCopyWarning: \n",
      "A value is trying to be set on a copy of a slice from a DataFrame.\n",
      "Try using .loc[row_indexer,col_indexer] = value instead\n",
      "\n",
      "See the caveats in the documentation: https://pandas.pydata.org/pandas-docs/stable/user_guide/indexing.html#returning-a-view-versus-a-copy\n",
      "  cv[cv[0] == row][\"time\"] = odf[odf[\"0\"] == row][\"1\"]\n",
      "/var/folders/51/l057c8xx2md597vhk47n57rm0000gn/T/ipykernel_23167/2861821560.py:2: SettingWithCopyWarning: \n",
      "A value is trying to be set on a copy of a slice from a DataFrame.\n",
      "Try using .loc[row_indexer,col_indexer] = value instead\n",
      "\n",
      "See the caveats in the documentation: https://pandas.pydata.org/pandas-docs/stable/user_guide/indexing.html#returning-a-view-versus-a-copy\n",
      "  cv[cv[0] == row][\"time\"] = odf[odf[\"0\"] == row][\"1\"]\n",
      "/var/folders/51/l057c8xx2md597vhk47n57rm0000gn/T/ipykernel_23167/2861821560.py:2: SettingWithCopyWarning: \n",
      "A value is trying to be set on a copy of a slice from a DataFrame.\n",
      "Try using .loc[row_indexer,col_indexer] = value instead\n",
      "\n",
      "See the caveats in the documentation: https://pandas.pydata.org/pandas-docs/stable/user_guide/indexing.html#returning-a-view-versus-a-copy\n",
      "  cv[cv[0] == row][\"time\"] = odf[odf[\"0\"] == row][\"1\"]\n",
      "/var/folders/51/l057c8xx2md597vhk47n57rm0000gn/T/ipykernel_23167/2861821560.py:2: SettingWithCopyWarning: \n",
      "A value is trying to be set on a copy of a slice from a DataFrame.\n",
      "Try using .loc[row_indexer,col_indexer] = value instead\n",
      "\n",
      "See the caveats in the documentation: https://pandas.pydata.org/pandas-docs/stable/user_guide/indexing.html#returning-a-view-versus-a-copy\n",
      "  cv[cv[0] == row][\"time\"] = odf[odf[\"0\"] == row][\"1\"]\n",
      "/var/folders/51/l057c8xx2md597vhk47n57rm0000gn/T/ipykernel_23167/2861821560.py:2: SettingWithCopyWarning: \n",
      "A value is trying to be set on a copy of a slice from a DataFrame.\n",
      "Try using .loc[row_indexer,col_indexer] = value instead\n",
      "\n",
      "See the caveats in the documentation: https://pandas.pydata.org/pandas-docs/stable/user_guide/indexing.html#returning-a-view-versus-a-copy\n",
      "  cv[cv[0] == row][\"time\"] = odf[odf[\"0\"] == row][\"1\"]\n",
      "/var/folders/51/l057c8xx2md597vhk47n57rm0000gn/T/ipykernel_23167/2861821560.py:2: SettingWithCopyWarning: \n",
      "A value is trying to be set on a copy of a slice from a DataFrame.\n",
      "Try using .loc[row_indexer,col_indexer] = value instead\n",
      "\n",
      "See the caveats in the documentation: https://pandas.pydata.org/pandas-docs/stable/user_guide/indexing.html#returning-a-view-versus-a-copy\n",
      "  cv[cv[0] == row][\"time\"] = odf[odf[\"0\"] == row][\"1\"]\n",
      "/var/folders/51/l057c8xx2md597vhk47n57rm0000gn/T/ipykernel_23167/2861821560.py:2: SettingWithCopyWarning: \n",
      "A value is trying to be set on a copy of a slice from a DataFrame.\n",
      "Try using .loc[row_indexer,col_indexer] = value instead\n",
      "\n",
      "See the caveats in the documentation: https://pandas.pydata.org/pandas-docs/stable/user_guide/indexing.html#returning-a-view-versus-a-copy\n",
      "  cv[cv[0] == row][\"time\"] = odf[odf[\"0\"] == row][\"1\"]\n",
      "/var/folders/51/l057c8xx2md597vhk47n57rm0000gn/T/ipykernel_23167/2861821560.py:2: SettingWithCopyWarning: \n",
      "A value is trying to be set on a copy of a slice from a DataFrame.\n",
      "Try using .loc[row_indexer,col_indexer] = value instead\n",
      "\n",
      "See the caveats in the documentation: https://pandas.pydata.org/pandas-docs/stable/user_guide/indexing.html#returning-a-view-versus-a-copy\n",
      "  cv[cv[0] == row][\"time\"] = odf[odf[\"0\"] == row][\"1\"]\n",
      "/var/folders/51/l057c8xx2md597vhk47n57rm0000gn/T/ipykernel_23167/2861821560.py:2: SettingWithCopyWarning: \n",
      "A value is trying to be set on a copy of a slice from a DataFrame.\n",
      "Try using .loc[row_indexer,col_indexer] = value instead\n",
      "\n",
      "See the caveats in the documentation: https://pandas.pydata.org/pandas-docs/stable/user_guide/indexing.html#returning-a-view-versus-a-copy\n",
      "  cv[cv[0] == row][\"time\"] = odf[odf[\"0\"] == row][\"1\"]\n",
      "/var/folders/51/l057c8xx2md597vhk47n57rm0000gn/T/ipykernel_23167/2861821560.py:2: SettingWithCopyWarning: \n",
      "A value is trying to be set on a copy of a slice from a DataFrame.\n",
      "Try using .loc[row_indexer,col_indexer] = value instead\n",
      "\n",
      "See the caveats in the documentation: https://pandas.pydata.org/pandas-docs/stable/user_guide/indexing.html#returning-a-view-versus-a-copy\n",
      "  cv[cv[0] == row][\"time\"] = odf[odf[\"0\"] == row][\"1\"]\n",
      "/var/folders/51/l057c8xx2md597vhk47n57rm0000gn/T/ipykernel_23167/2861821560.py:2: SettingWithCopyWarning: \n",
      "A value is trying to be set on a copy of a slice from a DataFrame.\n",
      "Try using .loc[row_indexer,col_indexer] = value instead\n",
      "\n",
      "See the caveats in the documentation: https://pandas.pydata.org/pandas-docs/stable/user_guide/indexing.html#returning-a-view-versus-a-copy\n",
      "  cv[cv[0] == row][\"time\"] = odf[odf[\"0\"] == row][\"1\"]\n",
      "/var/folders/51/l057c8xx2md597vhk47n57rm0000gn/T/ipykernel_23167/2861821560.py:2: SettingWithCopyWarning: \n",
      "A value is trying to be set on a copy of a slice from a DataFrame.\n",
      "Try using .loc[row_indexer,col_indexer] = value instead\n",
      "\n",
      "See the caveats in the documentation: https://pandas.pydata.org/pandas-docs/stable/user_guide/indexing.html#returning-a-view-versus-a-copy\n",
      "  cv[cv[0] == row][\"time\"] = odf[odf[\"0\"] == row][\"1\"]\n",
      "/var/folders/51/l057c8xx2md597vhk47n57rm0000gn/T/ipykernel_23167/2861821560.py:2: SettingWithCopyWarning: \n",
      "A value is trying to be set on a copy of a slice from a DataFrame.\n",
      "Try using .loc[row_indexer,col_indexer] = value instead\n",
      "\n",
      "See the caveats in the documentation: https://pandas.pydata.org/pandas-docs/stable/user_guide/indexing.html#returning-a-view-versus-a-copy\n",
      "  cv[cv[0] == row][\"time\"] = odf[odf[\"0\"] == row][\"1\"]\n",
      "/var/folders/51/l057c8xx2md597vhk47n57rm0000gn/T/ipykernel_23167/2861821560.py:2: SettingWithCopyWarning: \n",
      "A value is trying to be set on a copy of a slice from a DataFrame.\n",
      "Try using .loc[row_indexer,col_indexer] = value instead\n",
      "\n",
      "See the caveats in the documentation: https://pandas.pydata.org/pandas-docs/stable/user_guide/indexing.html#returning-a-view-versus-a-copy\n",
      "  cv[cv[0] == row][\"time\"] = odf[odf[\"0\"] == row][\"1\"]\n",
      "/var/folders/51/l057c8xx2md597vhk47n57rm0000gn/T/ipykernel_23167/2861821560.py:2: SettingWithCopyWarning: \n",
      "A value is trying to be set on a copy of a slice from a DataFrame.\n",
      "Try using .loc[row_indexer,col_indexer] = value instead\n",
      "\n",
      "See the caveats in the documentation: https://pandas.pydata.org/pandas-docs/stable/user_guide/indexing.html#returning-a-view-versus-a-copy\n",
      "  cv[cv[0] == row][\"time\"] = odf[odf[\"0\"] == row][\"1\"]\n",
      "/var/folders/51/l057c8xx2md597vhk47n57rm0000gn/T/ipykernel_23167/2861821560.py:2: SettingWithCopyWarning: \n",
      "A value is trying to be set on a copy of a slice from a DataFrame.\n",
      "Try using .loc[row_indexer,col_indexer] = value instead\n",
      "\n",
      "See the caveats in the documentation: https://pandas.pydata.org/pandas-docs/stable/user_guide/indexing.html#returning-a-view-versus-a-copy\n",
      "  cv[cv[0] == row][\"time\"] = odf[odf[\"0\"] == row][\"1\"]\n",
      "/var/folders/51/l057c8xx2md597vhk47n57rm0000gn/T/ipykernel_23167/2861821560.py:2: SettingWithCopyWarning: \n",
      "A value is trying to be set on a copy of a slice from a DataFrame.\n",
      "Try using .loc[row_indexer,col_indexer] = value instead\n",
      "\n",
      "See the caveats in the documentation: https://pandas.pydata.org/pandas-docs/stable/user_guide/indexing.html#returning-a-view-versus-a-copy\n",
      "  cv[cv[0] == row][\"time\"] = odf[odf[\"0\"] == row][\"1\"]\n",
      "/var/folders/51/l057c8xx2md597vhk47n57rm0000gn/T/ipykernel_23167/2861821560.py:2: SettingWithCopyWarning: \n",
      "A value is trying to be set on a copy of a slice from a DataFrame.\n",
      "Try using .loc[row_indexer,col_indexer] = value instead\n",
      "\n",
      "See the caveats in the documentation: https://pandas.pydata.org/pandas-docs/stable/user_guide/indexing.html#returning-a-view-versus-a-copy\n",
      "  cv[cv[0] == row][\"time\"] = odf[odf[\"0\"] == row][\"1\"]\n",
      "/var/folders/51/l057c8xx2md597vhk47n57rm0000gn/T/ipykernel_23167/2861821560.py:2: SettingWithCopyWarning: \n",
      "A value is trying to be set on a copy of a slice from a DataFrame.\n",
      "Try using .loc[row_indexer,col_indexer] = value instead\n",
      "\n",
      "See the caveats in the documentation: https://pandas.pydata.org/pandas-docs/stable/user_guide/indexing.html#returning-a-view-versus-a-copy\n",
      "  cv[cv[0] == row][\"time\"] = odf[odf[\"0\"] == row][\"1\"]\n",
      "/var/folders/51/l057c8xx2md597vhk47n57rm0000gn/T/ipykernel_23167/2861821560.py:2: SettingWithCopyWarning: \n",
      "A value is trying to be set on a copy of a slice from a DataFrame.\n",
      "Try using .loc[row_indexer,col_indexer] = value instead\n",
      "\n",
      "See the caveats in the documentation: https://pandas.pydata.org/pandas-docs/stable/user_guide/indexing.html#returning-a-view-versus-a-copy\n",
      "  cv[cv[0] == row][\"time\"] = odf[odf[\"0\"] == row][\"1\"]\n",
      "/var/folders/51/l057c8xx2md597vhk47n57rm0000gn/T/ipykernel_23167/2861821560.py:2: SettingWithCopyWarning: \n",
      "A value is trying to be set on a copy of a slice from a DataFrame.\n",
      "Try using .loc[row_indexer,col_indexer] = value instead\n",
      "\n",
      "See the caveats in the documentation: https://pandas.pydata.org/pandas-docs/stable/user_guide/indexing.html#returning-a-view-versus-a-copy\n",
      "  cv[cv[0] == row][\"time\"] = odf[odf[\"0\"] == row][\"1\"]\n",
      "/var/folders/51/l057c8xx2md597vhk47n57rm0000gn/T/ipykernel_23167/2861821560.py:2: SettingWithCopyWarning: \n",
      "A value is trying to be set on a copy of a slice from a DataFrame.\n",
      "Try using .loc[row_indexer,col_indexer] = value instead\n",
      "\n",
      "See the caveats in the documentation: https://pandas.pydata.org/pandas-docs/stable/user_guide/indexing.html#returning-a-view-versus-a-copy\n",
      "  cv[cv[0] == row][\"time\"] = odf[odf[\"0\"] == row][\"1\"]\n",
      "/var/folders/51/l057c8xx2md597vhk47n57rm0000gn/T/ipykernel_23167/2861821560.py:2: SettingWithCopyWarning: \n",
      "A value is trying to be set on a copy of a slice from a DataFrame.\n",
      "Try using .loc[row_indexer,col_indexer] = value instead\n",
      "\n",
      "See the caveats in the documentation: https://pandas.pydata.org/pandas-docs/stable/user_guide/indexing.html#returning-a-view-versus-a-copy\n",
      "  cv[cv[0] == row][\"time\"] = odf[odf[\"0\"] == row][\"1\"]\n",
      "/var/folders/51/l057c8xx2md597vhk47n57rm0000gn/T/ipykernel_23167/2861821560.py:2: SettingWithCopyWarning: \n",
      "A value is trying to be set on a copy of a slice from a DataFrame.\n",
      "Try using .loc[row_indexer,col_indexer] = value instead\n",
      "\n",
      "See the caveats in the documentation: https://pandas.pydata.org/pandas-docs/stable/user_guide/indexing.html#returning-a-view-versus-a-copy\n",
      "  cv[cv[0] == row][\"time\"] = odf[odf[\"0\"] == row][\"1\"]\n",
      "/var/folders/51/l057c8xx2md597vhk47n57rm0000gn/T/ipykernel_23167/2861821560.py:2: SettingWithCopyWarning: \n",
      "A value is trying to be set on a copy of a slice from a DataFrame.\n",
      "Try using .loc[row_indexer,col_indexer] = value instead\n",
      "\n",
      "See the caveats in the documentation: https://pandas.pydata.org/pandas-docs/stable/user_guide/indexing.html#returning-a-view-versus-a-copy\n",
      "  cv[cv[0] == row][\"time\"] = odf[odf[\"0\"] == row][\"1\"]\n",
      "/var/folders/51/l057c8xx2md597vhk47n57rm0000gn/T/ipykernel_23167/2861821560.py:2: SettingWithCopyWarning: \n",
      "A value is trying to be set on a copy of a slice from a DataFrame.\n",
      "Try using .loc[row_indexer,col_indexer] = value instead\n",
      "\n",
      "See the caveats in the documentation: https://pandas.pydata.org/pandas-docs/stable/user_guide/indexing.html#returning-a-view-versus-a-copy\n",
      "  cv[cv[0] == row][\"time\"] = odf[odf[\"0\"] == row][\"1\"]\n",
      "/var/folders/51/l057c8xx2md597vhk47n57rm0000gn/T/ipykernel_23167/2861821560.py:2: SettingWithCopyWarning: \n",
      "A value is trying to be set on a copy of a slice from a DataFrame.\n",
      "Try using .loc[row_indexer,col_indexer] = value instead\n",
      "\n",
      "See the caveats in the documentation: https://pandas.pydata.org/pandas-docs/stable/user_guide/indexing.html#returning-a-view-versus-a-copy\n",
      "  cv[cv[0] == row][\"time\"] = odf[odf[\"0\"] == row][\"1\"]\n",
      "/var/folders/51/l057c8xx2md597vhk47n57rm0000gn/T/ipykernel_23167/2861821560.py:2: SettingWithCopyWarning: \n",
      "A value is trying to be set on a copy of a slice from a DataFrame.\n",
      "Try using .loc[row_indexer,col_indexer] = value instead\n",
      "\n",
      "See the caveats in the documentation: https://pandas.pydata.org/pandas-docs/stable/user_guide/indexing.html#returning-a-view-versus-a-copy\n",
      "  cv[cv[0] == row][\"time\"] = odf[odf[\"0\"] == row][\"1\"]\n",
      "/var/folders/51/l057c8xx2md597vhk47n57rm0000gn/T/ipykernel_23167/2861821560.py:2: SettingWithCopyWarning: \n",
      "A value is trying to be set on a copy of a slice from a DataFrame.\n",
      "Try using .loc[row_indexer,col_indexer] = value instead\n",
      "\n",
      "See the caveats in the documentation: https://pandas.pydata.org/pandas-docs/stable/user_guide/indexing.html#returning-a-view-versus-a-copy\n",
      "  cv[cv[0] == row][\"time\"] = odf[odf[\"0\"] == row][\"1\"]\n",
      "/var/folders/51/l057c8xx2md597vhk47n57rm0000gn/T/ipykernel_23167/2861821560.py:2: SettingWithCopyWarning: \n",
      "A value is trying to be set on a copy of a slice from a DataFrame.\n",
      "Try using .loc[row_indexer,col_indexer] = value instead\n",
      "\n",
      "See the caveats in the documentation: https://pandas.pydata.org/pandas-docs/stable/user_guide/indexing.html#returning-a-view-versus-a-copy\n",
      "  cv[cv[0] == row][\"time\"] = odf[odf[\"0\"] == row][\"1\"]\n",
      "/var/folders/51/l057c8xx2md597vhk47n57rm0000gn/T/ipykernel_23167/2861821560.py:2: SettingWithCopyWarning: \n",
      "A value is trying to be set on a copy of a slice from a DataFrame.\n",
      "Try using .loc[row_indexer,col_indexer] = value instead\n",
      "\n",
      "See the caveats in the documentation: https://pandas.pydata.org/pandas-docs/stable/user_guide/indexing.html#returning-a-view-versus-a-copy\n",
      "  cv[cv[0] == row][\"time\"] = odf[odf[\"0\"] == row][\"1\"]\n",
      "/var/folders/51/l057c8xx2md597vhk47n57rm0000gn/T/ipykernel_23167/2861821560.py:2: SettingWithCopyWarning: \n",
      "A value is trying to be set on a copy of a slice from a DataFrame.\n",
      "Try using .loc[row_indexer,col_indexer] = value instead\n",
      "\n",
      "See the caveats in the documentation: https://pandas.pydata.org/pandas-docs/stable/user_guide/indexing.html#returning-a-view-versus-a-copy\n",
      "  cv[cv[0] == row][\"time\"] = odf[odf[\"0\"] == row][\"1\"]\n",
      "/var/folders/51/l057c8xx2md597vhk47n57rm0000gn/T/ipykernel_23167/2861821560.py:2: SettingWithCopyWarning: \n",
      "A value is trying to be set on a copy of a slice from a DataFrame.\n",
      "Try using .loc[row_indexer,col_indexer] = value instead\n",
      "\n",
      "See the caveats in the documentation: https://pandas.pydata.org/pandas-docs/stable/user_guide/indexing.html#returning-a-view-versus-a-copy\n",
      "  cv[cv[0] == row][\"time\"] = odf[odf[\"0\"] == row][\"1\"]\n",
      "/var/folders/51/l057c8xx2md597vhk47n57rm0000gn/T/ipykernel_23167/2861821560.py:2: SettingWithCopyWarning: \n",
      "A value is trying to be set on a copy of a slice from a DataFrame.\n",
      "Try using .loc[row_indexer,col_indexer] = value instead\n",
      "\n",
      "See the caveats in the documentation: https://pandas.pydata.org/pandas-docs/stable/user_guide/indexing.html#returning-a-view-versus-a-copy\n",
      "  cv[cv[0] == row][\"time\"] = odf[odf[\"0\"] == row][\"1\"]\n",
      "/var/folders/51/l057c8xx2md597vhk47n57rm0000gn/T/ipykernel_23167/2861821560.py:2: SettingWithCopyWarning: \n",
      "A value is trying to be set on a copy of a slice from a DataFrame.\n",
      "Try using .loc[row_indexer,col_indexer] = value instead\n",
      "\n",
      "See the caveats in the documentation: https://pandas.pydata.org/pandas-docs/stable/user_guide/indexing.html#returning-a-view-versus-a-copy\n",
      "  cv[cv[0] == row][\"time\"] = odf[odf[\"0\"] == row][\"1\"]\n",
      "/var/folders/51/l057c8xx2md597vhk47n57rm0000gn/T/ipykernel_23167/2861821560.py:2: SettingWithCopyWarning: \n",
      "A value is trying to be set on a copy of a slice from a DataFrame.\n",
      "Try using .loc[row_indexer,col_indexer] = value instead\n",
      "\n",
      "See the caveats in the documentation: https://pandas.pydata.org/pandas-docs/stable/user_guide/indexing.html#returning-a-view-versus-a-copy\n",
      "  cv[cv[0] == row][\"time\"] = odf[odf[\"0\"] == row][\"1\"]\n",
      "/var/folders/51/l057c8xx2md597vhk47n57rm0000gn/T/ipykernel_23167/2861821560.py:2: SettingWithCopyWarning: \n",
      "A value is trying to be set on a copy of a slice from a DataFrame.\n",
      "Try using .loc[row_indexer,col_indexer] = value instead\n",
      "\n",
      "See the caveats in the documentation: https://pandas.pydata.org/pandas-docs/stable/user_guide/indexing.html#returning-a-view-versus-a-copy\n",
      "  cv[cv[0] == row][\"time\"] = odf[odf[\"0\"] == row][\"1\"]\n",
      "/var/folders/51/l057c8xx2md597vhk47n57rm0000gn/T/ipykernel_23167/2861821560.py:2: SettingWithCopyWarning: \n",
      "A value is trying to be set on a copy of a slice from a DataFrame.\n",
      "Try using .loc[row_indexer,col_indexer] = value instead\n",
      "\n",
      "See the caveats in the documentation: https://pandas.pydata.org/pandas-docs/stable/user_guide/indexing.html#returning-a-view-versus-a-copy\n",
      "  cv[cv[0] == row][\"time\"] = odf[odf[\"0\"] == row][\"1\"]\n",
      "/var/folders/51/l057c8xx2md597vhk47n57rm0000gn/T/ipykernel_23167/2861821560.py:2: SettingWithCopyWarning: \n",
      "A value is trying to be set on a copy of a slice from a DataFrame.\n",
      "Try using .loc[row_indexer,col_indexer] = value instead\n",
      "\n",
      "See the caveats in the documentation: https://pandas.pydata.org/pandas-docs/stable/user_guide/indexing.html#returning-a-view-versus-a-copy\n",
      "  cv[cv[0] == row][\"time\"] = odf[odf[\"0\"] == row][\"1\"]\n",
      "/var/folders/51/l057c8xx2md597vhk47n57rm0000gn/T/ipykernel_23167/2861821560.py:2: SettingWithCopyWarning: \n",
      "A value is trying to be set on a copy of a slice from a DataFrame.\n",
      "Try using .loc[row_indexer,col_indexer] = value instead\n",
      "\n",
      "See the caveats in the documentation: https://pandas.pydata.org/pandas-docs/stable/user_guide/indexing.html#returning-a-view-versus-a-copy\n",
      "  cv[cv[0] == row][\"time\"] = odf[odf[\"0\"] == row][\"1\"]\n",
      "/var/folders/51/l057c8xx2md597vhk47n57rm0000gn/T/ipykernel_23167/2861821560.py:2: SettingWithCopyWarning: \n",
      "A value is trying to be set on a copy of a slice from a DataFrame.\n",
      "Try using .loc[row_indexer,col_indexer] = value instead\n",
      "\n",
      "See the caveats in the documentation: https://pandas.pydata.org/pandas-docs/stable/user_guide/indexing.html#returning-a-view-versus-a-copy\n",
      "  cv[cv[0] == row][\"time\"] = odf[odf[\"0\"] == row][\"1\"]\n",
      "/var/folders/51/l057c8xx2md597vhk47n57rm0000gn/T/ipykernel_23167/2861821560.py:2: SettingWithCopyWarning: \n",
      "A value is trying to be set on a copy of a slice from a DataFrame.\n",
      "Try using .loc[row_indexer,col_indexer] = value instead\n",
      "\n",
      "See the caveats in the documentation: https://pandas.pydata.org/pandas-docs/stable/user_guide/indexing.html#returning-a-view-versus-a-copy\n",
      "  cv[cv[0] == row][\"time\"] = odf[odf[\"0\"] == row][\"1\"]\n",
      "/var/folders/51/l057c8xx2md597vhk47n57rm0000gn/T/ipykernel_23167/2861821560.py:2: SettingWithCopyWarning: \n",
      "A value is trying to be set on a copy of a slice from a DataFrame.\n",
      "Try using .loc[row_indexer,col_indexer] = value instead\n",
      "\n",
      "See the caveats in the documentation: https://pandas.pydata.org/pandas-docs/stable/user_guide/indexing.html#returning-a-view-versus-a-copy\n",
      "  cv[cv[0] == row][\"time\"] = odf[odf[\"0\"] == row][\"1\"]\n",
      "/var/folders/51/l057c8xx2md597vhk47n57rm0000gn/T/ipykernel_23167/2861821560.py:2: SettingWithCopyWarning: \n",
      "A value is trying to be set on a copy of a slice from a DataFrame.\n",
      "Try using .loc[row_indexer,col_indexer] = value instead\n",
      "\n",
      "See the caveats in the documentation: https://pandas.pydata.org/pandas-docs/stable/user_guide/indexing.html#returning-a-view-versus-a-copy\n",
      "  cv[cv[0] == row][\"time\"] = odf[odf[\"0\"] == row][\"1\"]\n",
      "/var/folders/51/l057c8xx2md597vhk47n57rm0000gn/T/ipykernel_23167/2861821560.py:2: SettingWithCopyWarning: \n",
      "A value is trying to be set on a copy of a slice from a DataFrame.\n",
      "Try using .loc[row_indexer,col_indexer] = value instead\n",
      "\n",
      "See the caveats in the documentation: https://pandas.pydata.org/pandas-docs/stable/user_guide/indexing.html#returning-a-view-versus-a-copy\n",
      "  cv[cv[0] == row][\"time\"] = odf[odf[\"0\"] == row][\"1\"]\n",
      "/var/folders/51/l057c8xx2md597vhk47n57rm0000gn/T/ipykernel_23167/2861821560.py:2: SettingWithCopyWarning: \n",
      "A value is trying to be set on a copy of a slice from a DataFrame.\n",
      "Try using .loc[row_indexer,col_indexer] = value instead\n",
      "\n",
      "See the caveats in the documentation: https://pandas.pydata.org/pandas-docs/stable/user_guide/indexing.html#returning-a-view-versus-a-copy\n",
      "  cv[cv[0] == row][\"time\"] = odf[odf[\"0\"] == row][\"1\"]\n",
      "/var/folders/51/l057c8xx2md597vhk47n57rm0000gn/T/ipykernel_23167/2861821560.py:2: SettingWithCopyWarning: \n",
      "A value is trying to be set on a copy of a slice from a DataFrame.\n",
      "Try using .loc[row_indexer,col_indexer] = value instead\n",
      "\n",
      "See the caveats in the documentation: https://pandas.pydata.org/pandas-docs/stable/user_guide/indexing.html#returning-a-view-versus-a-copy\n",
      "  cv[cv[0] == row][\"time\"] = odf[odf[\"0\"] == row][\"1\"]\n",
      "/var/folders/51/l057c8xx2md597vhk47n57rm0000gn/T/ipykernel_23167/2861821560.py:2: SettingWithCopyWarning: \n",
      "A value is trying to be set on a copy of a slice from a DataFrame.\n",
      "Try using .loc[row_indexer,col_indexer] = value instead\n",
      "\n",
      "See the caveats in the documentation: https://pandas.pydata.org/pandas-docs/stable/user_guide/indexing.html#returning-a-view-versus-a-copy\n",
      "  cv[cv[0] == row][\"time\"] = odf[odf[\"0\"] == row][\"1\"]\n",
      "/var/folders/51/l057c8xx2md597vhk47n57rm0000gn/T/ipykernel_23167/2861821560.py:2: SettingWithCopyWarning: \n",
      "A value is trying to be set on a copy of a slice from a DataFrame.\n",
      "Try using .loc[row_indexer,col_indexer] = value instead\n",
      "\n",
      "See the caveats in the documentation: https://pandas.pydata.org/pandas-docs/stable/user_guide/indexing.html#returning-a-view-versus-a-copy\n",
      "  cv[cv[0] == row][\"time\"] = odf[odf[\"0\"] == row][\"1\"]\n",
      "/var/folders/51/l057c8xx2md597vhk47n57rm0000gn/T/ipykernel_23167/2861821560.py:2: SettingWithCopyWarning: \n",
      "A value is trying to be set on a copy of a slice from a DataFrame.\n",
      "Try using .loc[row_indexer,col_indexer] = value instead\n",
      "\n",
      "See the caveats in the documentation: https://pandas.pydata.org/pandas-docs/stable/user_guide/indexing.html#returning-a-view-versus-a-copy\n",
      "  cv[cv[0] == row][\"time\"] = odf[odf[\"0\"] == row][\"1\"]\n",
      "/var/folders/51/l057c8xx2md597vhk47n57rm0000gn/T/ipykernel_23167/2861821560.py:2: SettingWithCopyWarning: \n",
      "A value is trying to be set on a copy of a slice from a DataFrame.\n",
      "Try using .loc[row_indexer,col_indexer] = value instead\n",
      "\n",
      "See the caveats in the documentation: https://pandas.pydata.org/pandas-docs/stable/user_guide/indexing.html#returning-a-view-versus-a-copy\n",
      "  cv[cv[0] == row][\"time\"] = odf[odf[\"0\"] == row][\"1\"]\n",
      "/var/folders/51/l057c8xx2md597vhk47n57rm0000gn/T/ipykernel_23167/2861821560.py:2: SettingWithCopyWarning: \n",
      "A value is trying to be set on a copy of a slice from a DataFrame.\n",
      "Try using .loc[row_indexer,col_indexer] = value instead\n",
      "\n",
      "See the caveats in the documentation: https://pandas.pydata.org/pandas-docs/stable/user_guide/indexing.html#returning-a-view-versus-a-copy\n",
      "  cv[cv[0] == row][\"time\"] = odf[odf[\"0\"] == row][\"1\"]\n",
      "/var/folders/51/l057c8xx2md597vhk47n57rm0000gn/T/ipykernel_23167/2861821560.py:2: SettingWithCopyWarning: \n",
      "A value is trying to be set on a copy of a slice from a DataFrame.\n",
      "Try using .loc[row_indexer,col_indexer] = value instead\n",
      "\n",
      "See the caveats in the documentation: https://pandas.pydata.org/pandas-docs/stable/user_guide/indexing.html#returning-a-view-versus-a-copy\n",
      "  cv[cv[0] == row][\"time\"] = odf[odf[\"0\"] == row][\"1\"]\n",
      "/var/folders/51/l057c8xx2md597vhk47n57rm0000gn/T/ipykernel_23167/2861821560.py:2: SettingWithCopyWarning: \n",
      "A value is trying to be set on a copy of a slice from a DataFrame.\n",
      "Try using .loc[row_indexer,col_indexer] = value instead\n",
      "\n",
      "See the caveats in the documentation: https://pandas.pydata.org/pandas-docs/stable/user_guide/indexing.html#returning-a-view-versus-a-copy\n",
      "  cv[cv[0] == row][\"time\"] = odf[odf[\"0\"] == row][\"1\"]\n",
      "/var/folders/51/l057c8xx2md597vhk47n57rm0000gn/T/ipykernel_23167/2861821560.py:2: SettingWithCopyWarning: \n",
      "A value is trying to be set on a copy of a slice from a DataFrame.\n",
      "Try using .loc[row_indexer,col_indexer] = value instead\n",
      "\n",
      "See the caveats in the documentation: https://pandas.pydata.org/pandas-docs/stable/user_guide/indexing.html#returning-a-view-versus-a-copy\n",
      "  cv[cv[0] == row][\"time\"] = odf[odf[\"0\"] == row][\"1\"]\n",
      "/var/folders/51/l057c8xx2md597vhk47n57rm0000gn/T/ipykernel_23167/2861821560.py:2: SettingWithCopyWarning: \n",
      "A value is trying to be set on a copy of a slice from a DataFrame.\n",
      "Try using .loc[row_indexer,col_indexer] = value instead\n",
      "\n",
      "See the caveats in the documentation: https://pandas.pydata.org/pandas-docs/stable/user_guide/indexing.html#returning-a-view-versus-a-copy\n",
      "  cv[cv[0] == row][\"time\"] = odf[odf[\"0\"] == row][\"1\"]\n",
      "/var/folders/51/l057c8xx2md597vhk47n57rm0000gn/T/ipykernel_23167/2861821560.py:2: SettingWithCopyWarning: \n",
      "A value is trying to be set on a copy of a slice from a DataFrame.\n",
      "Try using .loc[row_indexer,col_indexer] = value instead\n",
      "\n",
      "See the caveats in the documentation: https://pandas.pydata.org/pandas-docs/stable/user_guide/indexing.html#returning-a-view-versus-a-copy\n",
      "  cv[cv[0] == row][\"time\"] = odf[odf[\"0\"] == row][\"1\"]\n",
      "/var/folders/51/l057c8xx2md597vhk47n57rm0000gn/T/ipykernel_23167/2861821560.py:2: SettingWithCopyWarning: \n",
      "A value is trying to be set on a copy of a slice from a DataFrame.\n",
      "Try using .loc[row_indexer,col_indexer] = value instead\n",
      "\n",
      "See the caveats in the documentation: https://pandas.pydata.org/pandas-docs/stable/user_guide/indexing.html#returning-a-view-versus-a-copy\n",
      "  cv[cv[0] == row][\"time\"] = odf[odf[\"0\"] == row][\"1\"]\n",
      "/var/folders/51/l057c8xx2md597vhk47n57rm0000gn/T/ipykernel_23167/2861821560.py:2: SettingWithCopyWarning: \n",
      "A value is trying to be set on a copy of a slice from a DataFrame.\n",
      "Try using .loc[row_indexer,col_indexer] = value instead\n",
      "\n",
      "See the caveats in the documentation: https://pandas.pydata.org/pandas-docs/stable/user_guide/indexing.html#returning-a-view-versus-a-copy\n",
      "  cv[cv[0] == row][\"time\"] = odf[odf[\"0\"] == row][\"1\"]\n",
      "/var/folders/51/l057c8xx2md597vhk47n57rm0000gn/T/ipykernel_23167/2861821560.py:2: SettingWithCopyWarning: \n",
      "A value is trying to be set on a copy of a slice from a DataFrame.\n",
      "Try using .loc[row_indexer,col_indexer] = value instead\n",
      "\n",
      "See the caveats in the documentation: https://pandas.pydata.org/pandas-docs/stable/user_guide/indexing.html#returning-a-view-versus-a-copy\n",
      "  cv[cv[0] == row][\"time\"] = odf[odf[\"0\"] == row][\"1\"]\n",
      "/var/folders/51/l057c8xx2md597vhk47n57rm0000gn/T/ipykernel_23167/2861821560.py:2: SettingWithCopyWarning: \n",
      "A value is trying to be set on a copy of a slice from a DataFrame.\n",
      "Try using .loc[row_indexer,col_indexer] = value instead\n",
      "\n",
      "See the caveats in the documentation: https://pandas.pydata.org/pandas-docs/stable/user_guide/indexing.html#returning-a-view-versus-a-copy\n",
      "  cv[cv[0] == row][\"time\"] = odf[odf[\"0\"] == row][\"1\"]\n",
      "/var/folders/51/l057c8xx2md597vhk47n57rm0000gn/T/ipykernel_23167/2861821560.py:2: SettingWithCopyWarning: \n",
      "A value is trying to be set on a copy of a slice from a DataFrame.\n",
      "Try using .loc[row_indexer,col_indexer] = value instead\n",
      "\n",
      "See the caveats in the documentation: https://pandas.pydata.org/pandas-docs/stable/user_guide/indexing.html#returning-a-view-versus-a-copy\n",
      "  cv[cv[0] == row][\"time\"] = odf[odf[\"0\"] == row][\"1\"]\n",
      "/var/folders/51/l057c8xx2md597vhk47n57rm0000gn/T/ipykernel_23167/2861821560.py:2: SettingWithCopyWarning: \n",
      "A value is trying to be set on a copy of a slice from a DataFrame.\n",
      "Try using .loc[row_indexer,col_indexer] = value instead\n",
      "\n",
      "See the caveats in the documentation: https://pandas.pydata.org/pandas-docs/stable/user_guide/indexing.html#returning-a-view-versus-a-copy\n",
      "  cv[cv[0] == row][\"time\"] = odf[odf[\"0\"] == row][\"1\"]\n",
      "/var/folders/51/l057c8xx2md597vhk47n57rm0000gn/T/ipykernel_23167/2861821560.py:2: SettingWithCopyWarning: \n",
      "A value is trying to be set on a copy of a slice from a DataFrame.\n",
      "Try using .loc[row_indexer,col_indexer] = value instead\n",
      "\n",
      "See the caveats in the documentation: https://pandas.pydata.org/pandas-docs/stable/user_guide/indexing.html#returning-a-view-versus-a-copy\n",
      "  cv[cv[0] == row][\"time\"] = odf[odf[\"0\"] == row][\"1\"]\n",
      "/var/folders/51/l057c8xx2md597vhk47n57rm0000gn/T/ipykernel_23167/2861821560.py:2: SettingWithCopyWarning: \n",
      "A value is trying to be set on a copy of a slice from a DataFrame.\n",
      "Try using .loc[row_indexer,col_indexer] = value instead\n",
      "\n",
      "See the caveats in the documentation: https://pandas.pydata.org/pandas-docs/stable/user_guide/indexing.html#returning-a-view-versus-a-copy\n",
      "  cv[cv[0] == row][\"time\"] = odf[odf[\"0\"] == row][\"1\"]\n",
      "/var/folders/51/l057c8xx2md597vhk47n57rm0000gn/T/ipykernel_23167/2861821560.py:2: SettingWithCopyWarning: \n",
      "A value is trying to be set on a copy of a slice from a DataFrame.\n",
      "Try using .loc[row_indexer,col_indexer] = value instead\n",
      "\n",
      "See the caveats in the documentation: https://pandas.pydata.org/pandas-docs/stable/user_guide/indexing.html#returning-a-view-versus-a-copy\n",
      "  cv[cv[0] == row][\"time\"] = odf[odf[\"0\"] == row][\"1\"]\n",
      "/var/folders/51/l057c8xx2md597vhk47n57rm0000gn/T/ipykernel_23167/2861821560.py:2: SettingWithCopyWarning: \n",
      "A value is trying to be set on a copy of a slice from a DataFrame.\n",
      "Try using .loc[row_indexer,col_indexer] = value instead\n",
      "\n",
      "See the caveats in the documentation: https://pandas.pydata.org/pandas-docs/stable/user_guide/indexing.html#returning-a-view-versus-a-copy\n",
      "  cv[cv[0] == row][\"time\"] = odf[odf[\"0\"] == row][\"1\"]\n",
      "/var/folders/51/l057c8xx2md597vhk47n57rm0000gn/T/ipykernel_23167/2861821560.py:2: SettingWithCopyWarning: \n",
      "A value is trying to be set on a copy of a slice from a DataFrame.\n",
      "Try using .loc[row_indexer,col_indexer] = value instead\n",
      "\n",
      "See the caveats in the documentation: https://pandas.pydata.org/pandas-docs/stable/user_guide/indexing.html#returning-a-view-versus-a-copy\n",
      "  cv[cv[0] == row][\"time\"] = odf[odf[\"0\"] == row][\"1\"]\n",
      "/var/folders/51/l057c8xx2md597vhk47n57rm0000gn/T/ipykernel_23167/2861821560.py:2: SettingWithCopyWarning: \n",
      "A value is trying to be set on a copy of a slice from a DataFrame.\n",
      "Try using .loc[row_indexer,col_indexer] = value instead\n",
      "\n",
      "See the caveats in the documentation: https://pandas.pydata.org/pandas-docs/stable/user_guide/indexing.html#returning-a-view-versus-a-copy\n",
      "  cv[cv[0] == row][\"time\"] = odf[odf[\"0\"] == row][\"1\"]\n",
      "/var/folders/51/l057c8xx2md597vhk47n57rm0000gn/T/ipykernel_23167/2861821560.py:2: SettingWithCopyWarning: \n",
      "A value is trying to be set on a copy of a slice from a DataFrame.\n",
      "Try using .loc[row_indexer,col_indexer] = value instead\n",
      "\n",
      "See the caveats in the documentation: https://pandas.pydata.org/pandas-docs/stable/user_guide/indexing.html#returning-a-view-versus-a-copy\n",
      "  cv[cv[0] == row][\"time\"] = odf[odf[\"0\"] == row][\"1\"]\n",
      "/var/folders/51/l057c8xx2md597vhk47n57rm0000gn/T/ipykernel_23167/2861821560.py:2: SettingWithCopyWarning: \n",
      "A value is trying to be set on a copy of a slice from a DataFrame.\n",
      "Try using .loc[row_indexer,col_indexer] = value instead\n",
      "\n",
      "See the caveats in the documentation: https://pandas.pydata.org/pandas-docs/stable/user_guide/indexing.html#returning-a-view-versus-a-copy\n",
      "  cv[cv[0] == row][\"time\"] = odf[odf[\"0\"] == row][\"1\"]\n",
      "/var/folders/51/l057c8xx2md597vhk47n57rm0000gn/T/ipykernel_23167/2861821560.py:2: SettingWithCopyWarning: \n",
      "A value is trying to be set on a copy of a slice from a DataFrame.\n",
      "Try using .loc[row_indexer,col_indexer] = value instead\n",
      "\n",
      "See the caveats in the documentation: https://pandas.pydata.org/pandas-docs/stable/user_guide/indexing.html#returning-a-view-versus-a-copy\n",
      "  cv[cv[0] == row][\"time\"] = odf[odf[\"0\"] == row][\"1\"]\n",
      "/var/folders/51/l057c8xx2md597vhk47n57rm0000gn/T/ipykernel_23167/2861821560.py:2: SettingWithCopyWarning: \n",
      "A value is trying to be set on a copy of a slice from a DataFrame.\n",
      "Try using .loc[row_indexer,col_indexer] = value instead\n",
      "\n",
      "See the caveats in the documentation: https://pandas.pydata.org/pandas-docs/stable/user_guide/indexing.html#returning-a-view-versus-a-copy\n",
      "  cv[cv[0] == row][\"time\"] = odf[odf[\"0\"] == row][\"1\"]\n",
      "/var/folders/51/l057c8xx2md597vhk47n57rm0000gn/T/ipykernel_23167/2861821560.py:2: SettingWithCopyWarning: \n",
      "A value is trying to be set on a copy of a slice from a DataFrame.\n",
      "Try using .loc[row_indexer,col_indexer] = value instead\n",
      "\n",
      "See the caveats in the documentation: https://pandas.pydata.org/pandas-docs/stable/user_guide/indexing.html#returning-a-view-versus-a-copy\n",
      "  cv[cv[0] == row][\"time\"] = odf[odf[\"0\"] == row][\"1\"]\n",
      "/var/folders/51/l057c8xx2md597vhk47n57rm0000gn/T/ipykernel_23167/2861821560.py:2: SettingWithCopyWarning: \n",
      "A value is trying to be set on a copy of a slice from a DataFrame.\n",
      "Try using .loc[row_indexer,col_indexer] = value instead\n",
      "\n",
      "See the caveats in the documentation: https://pandas.pydata.org/pandas-docs/stable/user_guide/indexing.html#returning-a-view-versus-a-copy\n",
      "  cv[cv[0] == row][\"time\"] = odf[odf[\"0\"] == row][\"1\"]\n",
      "/var/folders/51/l057c8xx2md597vhk47n57rm0000gn/T/ipykernel_23167/2861821560.py:2: SettingWithCopyWarning: \n",
      "A value is trying to be set on a copy of a slice from a DataFrame.\n",
      "Try using .loc[row_indexer,col_indexer] = value instead\n",
      "\n",
      "See the caveats in the documentation: https://pandas.pydata.org/pandas-docs/stable/user_guide/indexing.html#returning-a-view-versus-a-copy\n",
      "  cv[cv[0] == row][\"time\"] = odf[odf[\"0\"] == row][\"1\"]\n",
      "/var/folders/51/l057c8xx2md597vhk47n57rm0000gn/T/ipykernel_23167/2861821560.py:2: SettingWithCopyWarning: \n",
      "A value is trying to be set on a copy of a slice from a DataFrame.\n",
      "Try using .loc[row_indexer,col_indexer] = value instead\n",
      "\n",
      "See the caveats in the documentation: https://pandas.pydata.org/pandas-docs/stable/user_guide/indexing.html#returning-a-view-versus-a-copy\n",
      "  cv[cv[0] == row][\"time\"] = odf[odf[\"0\"] == row][\"1\"]\n",
      "/var/folders/51/l057c8xx2md597vhk47n57rm0000gn/T/ipykernel_23167/2861821560.py:2: SettingWithCopyWarning: \n",
      "A value is trying to be set on a copy of a slice from a DataFrame.\n",
      "Try using .loc[row_indexer,col_indexer] = value instead\n",
      "\n",
      "See the caveats in the documentation: https://pandas.pydata.org/pandas-docs/stable/user_guide/indexing.html#returning-a-view-versus-a-copy\n",
      "  cv[cv[0] == row][\"time\"] = odf[odf[\"0\"] == row][\"1\"]\n",
      "/var/folders/51/l057c8xx2md597vhk47n57rm0000gn/T/ipykernel_23167/2861821560.py:2: SettingWithCopyWarning: \n",
      "A value is trying to be set on a copy of a slice from a DataFrame.\n",
      "Try using .loc[row_indexer,col_indexer] = value instead\n",
      "\n",
      "See the caveats in the documentation: https://pandas.pydata.org/pandas-docs/stable/user_guide/indexing.html#returning-a-view-versus-a-copy\n",
      "  cv[cv[0] == row][\"time\"] = odf[odf[\"0\"] == row][\"1\"]\n",
      "/var/folders/51/l057c8xx2md597vhk47n57rm0000gn/T/ipykernel_23167/2861821560.py:2: SettingWithCopyWarning: \n",
      "A value is trying to be set on a copy of a slice from a DataFrame.\n",
      "Try using .loc[row_indexer,col_indexer] = value instead\n",
      "\n",
      "See the caveats in the documentation: https://pandas.pydata.org/pandas-docs/stable/user_guide/indexing.html#returning-a-view-versus-a-copy\n",
      "  cv[cv[0] == row][\"time\"] = odf[odf[\"0\"] == row][\"1\"]\n",
      "/var/folders/51/l057c8xx2md597vhk47n57rm0000gn/T/ipykernel_23167/2861821560.py:2: SettingWithCopyWarning: \n",
      "A value is trying to be set on a copy of a slice from a DataFrame.\n",
      "Try using .loc[row_indexer,col_indexer] = value instead\n",
      "\n",
      "See the caveats in the documentation: https://pandas.pydata.org/pandas-docs/stable/user_guide/indexing.html#returning-a-view-versus-a-copy\n",
      "  cv[cv[0] == row][\"time\"] = odf[odf[\"0\"] == row][\"1\"]\n",
      "/var/folders/51/l057c8xx2md597vhk47n57rm0000gn/T/ipykernel_23167/2861821560.py:2: SettingWithCopyWarning: \n",
      "A value is trying to be set on a copy of a slice from a DataFrame.\n",
      "Try using .loc[row_indexer,col_indexer] = value instead\n",
      "\n",
      "See the caveats in the documentation: https://pandas.pydata.org/pandas-docs/stable/user_guide/indexing.html#returning-a-view-versus-a-copy\n",
      "  cv[cv[0] == row][\"time\"] = odf[odf[\"0\"] == row][\"1\"]\n",
      "/var/folders/51/l057c8xx2md597vhk47n57rm0000gn/T/ipykernel_23167/2861821560.py:2: SettingWithCopyWarning: \n",
      "A value is trying to be set on a copy of a slice from a DataFrame.\n",
      "Try using .loc[row_indexer,col_indexer] = value instead\n",
      "\n",
      "See the caveats in the documentation: https://pandas.pydata.org/pandas-docs/stable/user_guide/indexing.html#returning-a-view-versus-a-copy\n",
      "  cv[cv[0] == row][\"time\"] = odf[odf[\"0\"] == row][\"1\"]\n",
      "/var/folders/51/l057c8xx2md597vhk47n57rm0000gn/T/ipykernel_23167/2861821560.py:2: SettingWithCopyWarning: \n",
      "A value is trying to be set on a copy of a slice from a DataFrame.\n",
      "Try using .loc[row_indexer,col_indexer] = value instead\n",
      "\n",
      "See the caveats in the documentation: https://pandas.pydata.org/pandas-docs/stable/user_guide/indexing.html#returning-a-view-versus-a-copy\n",
      "  cv[cv[0] == row][\"time\"] = odf[odf[\"0\"] == row][\"1\"]\n",
      "/var/folders/51/l057c8xx2md597vhk47n57rm0000gn/T/ipykernel_23167/2861821560.py:2: SettingWithCopyWarning: \n",
      "A value is trying to be set on a copy of a slice from a DataFrame.\n",
      "Try using .loc[row_indexer,col_indexer] = value instead\n",
      "\n",
      "See the caveats in the documentation: https://pandas.pydata.org/pandas-docs/stable/user_guide/indexing.html#returning-a-view-versus-a-copy\n",
      "  cv[cv[0] == row][\"time\"] = odf[odf[\"0\"] == row][\"1\"]\n",
      "/var/folders/51/l057c8xx2md597vhk47n57rm0000gn/T/ipykernel_23167/2861821560.py:2: SettingWithCopyWarning: \n",
      "A value is trying to be set on a copy of a slice from a DataFrame.\n",
      "Try using .loc[row_indexer,col_indexer] = value instead\n",
      "\n",
      "See the caveats in the documentation: https://pandas.pydata.org/pandas-docs/stable/user_guide/indexing.html#returning-a-view-versus-a-copy\n",
      "  cv[cv[0] == row][\"time\"] = odf[odf[\"0\"] == row][\"1\"]\n",
      "/var/folders/51/l057c8xx2md597vhk47n57rm0000gn/T/ipykernel_23167/2861821560.py:2: SettingWithCopyWarning: \n",
      "A value is trying to be set on a copy of a slice from a DataFrame.\n",
      "Try using .loc[row_indexer,col_indexer] = value instead\n",
      "\n",
      "See the caveats in the documentation: https://pandas.pydata.org/pandas-docs/stable/user_guide/indexing.html#returning-a-view-versus-a-copy\n",
      "  cv[cv[0] == row][\"time\"] = odf[odf[\"0\"] == row][\"1\"]\n",
      "/var/folders/51/l057c8xx2md597vhk47n57rm0000gn/T/ipykernel_23167/2861821560.py:2: SettingWithCopyWarning: \n",
      "A value is trying to be set on a copy of a slice from a DataFrame.\n",
      "Try using .loc[row_indexer,col_indexer] = value instead\n",
      "\n",
      "See the caveats in the documentation: https://pandas.pydata.org/pandas-docs/stable/user_guide/indexing.html#returning-a-view-versus-a-copy\n",
      "  cv[cv[0] == row][\"time\"] = odf[odf[\"0\"] == row][\"1\"]\n",
      "/var/folders/51/l057c8xx2md597vhk47n57rm0000gn/T/ipykernel_23167/2861821560.py:2: SettingWithCopyWarning: \n",
      "A value is trying to be set on a copy of a slice from a DataFrame.\n",
      "Try using .loc[row_indexer,col_indexer] = value instead\n",
      "\n",
      "See the caveats in the documentation: https://pandas.pydata.org/pandas-docs/stable/user_guide/indexing.html#returning-a-view-versus-a-copy\n",
      "  cv[cv[0] == row][\"time\"] = odf[odf[\"0\"] == row][\"1\"]\n",
      "/var/folders/51/l057c8xx2md597vhk47n57rm0000gn/T/ipykernel_23167/2861821560.py:2: SettingWithCopyWarning: \n",
      "A value is trying to be set on a copy of a slice from a DataFrame.\n",
      "Try using .loc[row_indexer,col_indexer] = value instead\n",
      "\n",
      "See the caveats in the documentation: https://pandas.pydata.org/pandas-docs/stable/user_guide/indexing.html#returning-a-view-versus-a-copy\n",
      "  cv[cv[0] == row][\"time\"] = odf[odf[\"0\"] == row][\"1\"]\n",
      "/var/folders/51/l057c8xx2md597vhk47n57rm0000gn/T/ipykernel_23167/2861821560.py:2: SettingWithCopyWarning: \n",
      "A value is trying to be set on a copy of a slice from a DataFrame.\n",
      "Try using .loc[row_indexer,col_indexer] = value instead\n",
      "\n",
      "See the caveats in the documentation: https://pandas.pydata.org/pandas-docs/stable/user_guide/indexing.html#returning-a-view-versus-a-copy\n",
      "  cv[cv[0] == row][\"time\"] = odf[odf[\"0\"] == row][\"1\"]\n",
      "/var/folders/51/l057c8xx2md597vhk47n57rm0000gn/T/ipykernel_23167/2861821560.py:2: SettingWithCopyWarning: \n",
      "A value is trying to be set on a copy of a slice from a DataFrame.\n",
      "Try using .loc[row_indexer,col_indexer] = value instead\n",
      "\n",
      "See the caveats in the documentation: https://pandas.pydata.org/pandas-docs/stable/user_guide/indexing.html#returning-a-view-versus-a-copy\n",
      "  cv[cv[0] == row][\"time\"] = odf[odf[\"0\"] == row][\"1\"]\n",
      "/var/folders/51/l057c8xx2md597vhk47n57rm0000gn/T/ipykernel_23167/2861821560.py:2: SettingWithCopyWarning: \n",
      "A value is trying to be set on a copy of a slice from a DataFrame.\n",
      "Try using .loc[row_indexer,col_indexer] = value instead\n",
      "\n",
      "See the caveats in the documentation: https://pandas.pydata.org/pandas-docs/stable/user_guide/indexing.html#returning-a-view-versus-a-copy\n",
      "  cv[cv[0] == row][\"time\"] = odf[odf[\"0\"] == row][\"1\"]\n",
      "/var/folders/51/l057c8xx2md597vhk47n57rm0000gn/T/ipykernel_23167/2861821560.py:2: SettingWithCopyWarning: \n",
      "A value is trying to be set on a copy of a slice from a DataFrame.\n",
      "Try using .loc[row_indexer,col_indexer] = value instead\n",
      "\n",
      "See the caveats in the documentation: https://pandas.pydata.org/pandas-docs/stable/user_guide/indexing.html#returning-a-view-versus-a-copy\n",
      "  cv[cv[0] == row][\"time\"] = odf[odf[\"0\"] == row][\"1\"]\n",
      "/var/folders/51/l057c8xx2md597vhk47n57rm0000gn/T/ipykernel_23167/2861821560.py:2: SettingWithCopyWarning: \n",
      "A value is trying to be set on a copy of a slice from a DataFrame.\n",
      "Try using .loc[row_indexer,col_indexer] = value instead\n",
      "\n",
      "See the caveats in the documentation: https://pandas.pydata.org/pandas-docs/stable/user_guide/indexing.html#returning-a-view-versus-a-copy\n",
      "  cv[cv[0] == row][\"time\"] = odf[odf[\"0\"] == row][\"1\"]\n",
      "/var/folders/51/l057c8xx2md597vhk47n57rm0000gn/T/ipykernel_23167/2861821560.py:2: SettingWithCopyWarning: \n",
      "A value is trying to be set on a copy of a slice from a DataFrame.\n",
      "Try using .loc[row_indexer,col_indexer] = value instead\n",
      "\n",
      "See the caveats in the documentation: https://pandas.pydata.org/pandas-docs/stable/user_guide/indexing.html#returning-a-view-versus-a-copy\n",
      "  cv[cv[0] == row][\"time\"] = odf[odf[\"0\"] == row][\"1\"]\n",
      "/var/folders/51/l057c8xx2md597vhk47n57rm0000gn/T/ipykernel_23167/2861821560.py:2: SettingWithCopyWarning: \n",
      "A value is trying to be set on a copy of a slice from a DataFrame.\n",
      "Try using .loc[row_indexer,col_indexer] = value instead\n",
      "\n",
      "See the caveats in the documentation: https://pandas.pydata.org/pandas-docs/stable/user_guide/indexing.html#returning-a-view-versus-a-copy\n",
      "  cv[cv[0] == row][\"time\"] = odf[odf[\"0\"] == row][\"1\"]\n",
      "/var/folders/51/l057c8xx2md597vhk47n57rm0000gn/T/ipykernel_23167/2861821560.py:2: SettingWithCopyWarning: \n",
      "A value is trying to be set on a copy of a slice from a DataFrame.\n",
      "Try using .loc[row_indexer,col_indexer] = value instead\n",
      "\n",
      "See the caveats in the documentation: https://pandas.pydata.org/pandas-docs/stable/user_guide/indexing.html#returning-a-view-versus-a-copy\n",
      "  cv[cv[0] == row][\"time\"] = odf[odf[\"0\"] == row][\"1\"]\n",
      "/var/folders/51/l057c8xx2md597vhk47n57rm0000gn/T/ipykernel_23167/2861821560.py:2: SettingWithCopyWarning: \n",
      "A value is trying to be set on a copy of a slice from a DataFrame.\n",
      "Try using .loc[row_indexer,col_indexer] = value instead\n",
      "\n",
      "See the caveats in the documentation: https://pandas.pydata.org/pandas-docs/stable/user_guide/indexing.html#returning-a-view-versus-a-copy\n",
      "  cv[cv[0] == row][\"time\"] = odf[odf[\"0\"] == row][\"1\"]\n",
      "/var/folders/51/l057c8xx2md597vhk47n57rm0000gn/T/ipykernel_23167/2861821560.py:2: SettingWithCopyWarning: \n",
      "A value is trying to be set on a copy of a slice from a DataFrame.\n",
      "Try using .loc[row_indexer,col_indexer] = value instead\n",
      "\n",
      "See the caveats in the documentation: https://pandas.pydata.org/pandas-docs/stable/user_guide/indexing.html#returning-a-view-versus-a-copy\n",
      "  cv[cv[0] == row][\"time\"] = odf[odf[\"0\"] == row][\"1\"]\n",
      "/var/folders/51/l057c8xx2md597vhk47n57rm0000gn/T/ipykernel_23167/2861821560.py:2: SettingWithCopyWarning: \n",
      "A value is trying to be set on a copy of a slice from a DataFrame.\n",
      "Try using .loc[row_indexer,col_indexer] = value instead\n",
      "\n",
      "See the caveats in the documentation: https://pandas.pydata.org/pandas-docs/stable/user_guide/indexing.html#returning-a-view-versus-a-copy\n",
      "  cv[cv[0] == row][\"time\"] = odf[odf[\"0\"] == row][\"1\"]\n",
      "/var/folders/51/l057c8xx2md597vhk47n57rm0000gn/T/ipykernel_23167/2861821560.py:2: SettingWithCopyWarning: \n",
      "A value is trying to be set on a copy of a slice from a DataFrame.\n",
      "Try using .loc[row_indexer,col_indexer] = value instead\n",
      "\n",
      "See the caveats in the documentation: https://pandas.pydata.org/pandas-docs/stable/user_guide/indexing.html#returning-a-view-versus-a-copy\n",
      "  cv[cv[0] == row][\"time\"] = odf[odf[\"0\"] == row][\"1\"]\n",
      "/var/folders/51/l057c8xx2md597vhk47n57rm0000gn/T/ipykernel_23167/2861821560.py:2: SettingWithCopyWarning: \n",
      "A value is trying to be set on a copy of a slice from a DataFrame.\n",
      "Try using .loc[row_indexer,col_indexer] = value instead\n",
      "\n",
      "See the caveats in the documentation: https://pandas.pydata.org/pandas-docs/stable/user_guide/indexing.html#returning-a-view-versus-a-copy\n",
      "  cv[cv[0] == row][\"time\"] = odf[odf[\"0\"] == row][\"1\"]\n",
      "/var/folders/51/l057c8xx2md597vhk47n57rm0000gn/T/ipykernel_23167/2861821560.py:2: SettingWithCopyWarning: \n",
      "A value is trying to be set on a copy of a slice from a DataFrame.\n",
      "Try using .loc[row_indexer,col_indexer] = value instead\n",
      "\n",
      "See the caveats in the documentation: https://pandas.pydata.org/pandas-docs/stable/user_guide/indexing.html#returning-a-view-versus-a-copy\n",
      "  cv[cv[0] == row][\"time\"] = odf[odf[\"0\"] == row][\"1\"]\n",
      "/var/folders/51/l057c8xx2md597vhk47n57rm0000gn/T/ipykernel_23167/2861821560.py:2: SettingWithCopyWarning: \n",
      "A value is trying to be set on a copy of a slice from a DataFrame.\n",
      "Try using .loc[row_indexer,col_indexer] = value instead\n",
      "\n",
      "See the caveats in the documentation: https://pandas.pydata.org/pandas-docs/stable/user_guide/indexing.html#returning-a-view-versus-a-copy\n",
      "  cv[cv[0] == row][\"time\"] = odf[odf[\"0\"] == row][\"1\"]\n",
      "/var/folders/51/l057c8xx2md597vhk47n57rm0000gn/T/ipykernel_23167/2861821560.py:2: SettingWithCopyWarning: \n",
      "A value is trying to be set on a copy of a slice from a DataFrame.\n",
      "Try using .loc[row_indexer,col_indexer] = value instead\n",
      "\n",
      "See the caveats in the documentation: https://pandas.pydata.org/pandas-docs/stable/user_guide/indexing.html#returning-a-view-versus-a-copy\n",
      "  cv[cv[0] == row][\"time\"] = odf[odf[\"0\"] == row][\"1\"]\n",
      "/var/folders/51/l057c8xx2md597vhk47n57rm0000gn/T/ipykernel_23167/2861821560.py:2: SettingWithCopyWarning: \n",
      "A value is trying to be set on a copy of a slice from a DataFrame.\n",
      "Try using .loc[row_indexer,col_indexer] = value instead\n",
      "\n",
      "See the caveats in the documentation: https://pandas.pydata.org/pandas-docs/stable/user_guide/indexing.html#returning-a-view-versus-a-copy\n",
      "  cv[cv[0] == row][\"time\"] = odf[odf[\"0\"] == row][\"1\"]\n",
      "/var/folders/51/l057c8xx2md597vhk47n57rm0000gn/T/ipykernel_23167/2861821560.py:2: SettingWithCopyWarning: \n",
      "A value is trying to be set on a copy of a slice from a DataFrame.\n",
      "Try using .loc[row_indexer,col_indexer] = value instead\n",
      "\n",
      "See the caveats in the documentation: https://pandas.pydata.org/pandas-docs/stable/user_guide/indexing.html#returning-a-view-versus-a-copy\n",
      "  cv[cv[0] == row][\"time\"] = odf[odf[\"0\"] == row][\"1\"]\n",
      "/var/folders/51/l057c8xx2md597vhk47n57rm0000gn/T/ipykernel_23167/2861821560.py:2: SettingWithCopyWarning: \n",
      "A value is trying to be set on a copy of a slice from a DataFrame.\n",
      "Try using .loc[row_indexer,col_indexer] = value instead\n",
      "\n",
      "See the caveats in the documentation: https://pandas.pydata.org/pandas-docs/stable/user_guide/indexing.html#returning-a-view-versus-a-copy\n",
      "  cv[cv[0] == row][\"time\"] = odf[odf[\"0\"] == row][\"1\"]\n",
      "/var/folders/51/l057c8xx2md597vhk47n57rm0000gn/T/ipykernel_23167/2861821560.py:2: SettingWithCopyWarning: \n",
      "A value is trying to be set on a copy of a slice from a DataFrame.\n",
      "Try using .loc[row_indexer,col_indexer] = value instead\n",
      "\n",
      "See the caveats in the documentation: https://pandas.pydata.org/pandas-docs/stable/user_guide/indexing.html#returning-a-view-versus-a-copy\n",
      "  cv[cv[0] == row][\"time\"] = odf[odf[\"0\"] == row][\"1\"]\n",
      "/var/folders/51/l057c8xx2md597vhk47n57rm0000gn/T/ipykernel_23167/2861821560.py:2: SettingWithCopyWarning: \n",
      "A value is trying to be set on a copy of a slice from a DataFrame.\n",
      "Try using .loc[row_indexer,col_indexer] = value instead\n",
      "\n",
      "See the caveats in the documentation: https://pandas.pydata.org/pandas-docs/stable/user_guide/indexing.html#returning-a-view-versus-a-copy\n",
      "  cv[cv[0] == row][\"time\"] = odf[odf[\"0\"] == row][\"1\"]\n",
      "/var/folders/51/l057c8xx2md597vhk47n57rm0000gn/T/ipykernel_23167/2861821560.py:2: SettingWithCopyWarning: \n",
      "A value is trying to be set on a copy of a slice from a DataFrame.\n",
      "Try using .loc[row_indexer,col_indexer] = value instead\n",
      "\n",
      "See the caveats in the documentation: https://pandas.pydata.org/pandas-docs/stable/user_guide/indexing.html#returning-a-view-versus-a-copy\n",
      "  cv[cv[0] == row][\"time\"] = odf[odf[\"0\"] == row][\"1\"]\n",
      "/var/folders/51/l057c8xx2md597vhk47n57rm0000gn/T/ipykernel_23167/2861821560.py:2: SettingWithCopyWarning: \n",
      "A value is trying to be set on a copy of a slice from a DataFrame.\n",
      "Try using .loc[row_indexer,col_indexer] = value instead\n",
      "\n",
      "See the caveats in the documentation: https://pandas.pydata.org/pandas-docs/stable/user_guide/indexing.html#returning-a-view-versus-a-copy\n",
      "  cv[cv[0] == row][\"time\"] = odf[odf[\"0\"] == row][\"1\"]\n",
      "/var/folders/51/l057c8xx2md597vhk47n57rm0000gn/T/ipykernel_23167/2861821560.py:2: SettingWithCopyWarning: \n",
      "A value is trying to be set on a copy of a slice from a DataFrame.\n",
      "Try using .loc[row_indexer,col_indexer] = value instead\n",
      "\n",
      "See the caveats in the documentation: https://pandas.pydata.org/pandas-docs/stable/user_guide/indexing.html#returning-a-view-versus-a-copy\n",
      "  cv[cv[0] == row][\"time\"] = odf[odf[\"0\"] == row][\"1\"]\n",
      "/var/folders/51/l057c8xx2md597vhk47n57rm0000gn/T/ipykernel_23167/2861821560.py:2: SettingWithCopyWarning: \n",
      "A value is trying to be set on a copy of a slice from a DataFrame.\n",
      "Try using .loc[row_indexer,col_indexer] = value instead\n",
      "\n",
      "See the caveats in the documentation: https://pandas.pydata.org/pandas-docs/stable/user_guide/indexing.html#returning-a-view-versus-a-copy\n",
      "  cv[cv[0] == row][\"time\"] = odf[odf[\"0\"] == row][\"1\"]\n",
      "/var/folders/51/l057c8xx2md597vhk47n57rm0000gn/T/ipykernel_23167/2861821560.py:2: SettingWithCopyWarning: \n",
      "A value is trying to be set on a copy of a slice from a DataFrame.\n",
      "Try using .loc[row_indexer,col_indexer] = value instead\n",
      "\n",
      "See the caveats in the documentation: https://pandas.pydata.org/pandas-docs/stable/user_guide/indexing.html#returning-a-view-versus-a-copy\n",
      "  cv[cv[0] == row][\"time\"] = odf[odf[\"0\"] == row][\"1\"]\n",
      "/var/folders/51/l057c8xx2md597vhk47n57rm0000gn/T/ipykernel_23167/2861821560.py:2: SettingWithCopyWarning: \n",
      "A value is trying to be set on a copy of a slice from a DataFrame.\n",
      "Try using .loc[row_indexer,col_indexer] = value instead\n",
      "\n",
      "See the caveats in the documentation: https://pandas.pydata.org/pandas-docs/stable/user_guide/indexing.html#returning-a-view-versus-a-copy\n",
      "  cv[cv[0] == row][\"time\"] = odf[odf[\"0\"] == row][\"1\"]\n",
      "/var/folders/51/l057c8xx2md597vhk47n57rm0000gn/T/ipykernel_23167/2861821560.py:2: SettingWithCopyWarning: \n",
      "A value is trying to be set on a copy of a slice from a DataFrame.\n",
      "Try using .loc[row_indexer,col_indexer] = value instead\n",
      "\n",
      "See the caveats in the documentation: https://pandas.pydata.org/pandas-docs/stable/user_guide/indexing.html#returning-a-view-versus-a-copy\n",
      "  cv[cv[0] == row][\"time\"] = odf[odf[\"0\"] == row][\"1\"]\n",
      "/var/folders/51/l057c8xx2md597vhk47n57rm0000gn/T/ipykernel_23167/2861821560.py:2: SettingWithCopyWarning: \n",
      "A value is trying to be set on a copy of a slice from a DataFrame.\n",
      "Try using .loc[row_indexer,col_indexer] = value instead\n",
      "\n",
      "See the caveats in the documentation: https://pandas.pydata.org/pandas-docs/stable/user_guide/indexing.html#returning-a-view-versus-a-copy\n",
      "  cv[cv[0] == row][\"time\"] = odf[odf[\"0\"] == row][\"1\"]\n",
      "/var/folders/51/l057c8xx2md597vhk47n57rm0000gn/T/ipykernel_23167/2861821560.py:2: SettingWithCopyWarning: \n",
      "A value is trying to be set on a copy of a slice from a DataFrame.\n",
      "Try using .loc[row_indexer,col_indexer] = value instead\n",
      "\n",
      "See the caveats in the documentation: https://pandas.pydata.org/pandas-docs/stable/user_guide/indexing.html#returning-a-view-versus-a-copy\n",
      "  cv[cv[0] == row][\"time\"] = odf[odf[\"0\"] == row][\"1\"]\n",
      "/var/folders/51/l057c8xx2md597vhk47n57rm0000gn/T/ipykernel_23167/2861821560.py:2: SettingWithCopyWarning: \n",
      "A value is trying to be set on a copy of a slice from a DataFrame.\n",
      "Try using .loc[row_indexer,col_indexer] = value instead\n",
      "\n",
      "See the caveats in the documentation: https://pandas.pydata.org/pandas-docs/stable/user_guide/indexing.html#returning-a-view-versus-a-copy\n",
      "  cv[cv[0] == row][\"time\"] = odf[odf[\"0\"] == row][\"1\"]\n",
      "/var/folders/51/l057c8xx2md597vhk47n57rm0000gn/T/ipykernel_23167/2861821560.py:2: SettingWithCopyWarning: \n",
      "A value is trying to be set on a copy of a slice from a DataFrame.\n",
      "Try using .loc[row_indexer,col_indexer] = value instead\n",
      "\n",
      "See the caveats in the documentation: https://pandas.pydata.org/pandas-docs/stable/user_guide/indexing.html#returning-a-view-versus-a-copy\n",
      "  cv[cv[0] == row][\"time\"] = odf[odf[\"0\"] == row][\"1\"]\n",
      "/var/folders/51/l057c8xx2md597vhk47n57rm0000gn/T/ipykernel_23167/2861821560.py:2: SettingWithCopyWarning: \n",
      "A value is trying to be set on a copy of a slice from a DataFrame.\n",
      "Try using .loc[row_indexer,col_indexer] = value instead\n",
      "\n",
      "See the caveats in the documentation: https://pandas.pydata.org/pandas-docs/stable/user_guide/indexing.html#returning-a-view-versus-a-copy\n",
      "  cv[cv[0] == row][\"time\"] = odf[odf[\"0\"] == row][\"1\"]\n",
      "/var/folders/51/l057c8xx2md597vhk47n57rm0000gn/T/ipykernel_23167/2861821560.py:2: SettingWithCopyWarning: \n",
      "A value is trying to be set on a copy of a slice from a DataFrame.\n",
      "Try using .loc[row_indexer,col_indexer] = value instead\n",
      "\n",
      "See the caveats in the documentation: https://pandas.pydata.org/pandas-docs/stable/user_guide/indexing.html#returning-a-view-versus-a-copy\n",
      "  cv[cv[0] == row][\"time\"] = odf[odf[\"0\"] == row][\"1\"]\n",
      "/var/folders/51/l057c8xx2md597vhk47n57rm0000gn/T/ipykernel_23167/2861821560.py:2: SettingWithCopyWarning: \n",
      "A value is trying to be set on a copy of a slice from a DataFrame.\n",
      "Try using .loc[row_indexer,col_indexer] = value instead\n",
      "\n",
      "See the caveats in the documentation: https://pandas.pydata.org/pandas-docs/stable/user_guide/indexing.html#returning-a-view-versus-a-copy\n",
      "  cv[cv[0] == row][\"time\"] = odf[odf[\"0\"] == row][\"1\"]\n",
      "/var/folders/51/l057c8xx2md597vhk47n57rm0000gn/T/ipykernel_23167/2861821560.py:2: SettingWithCopyWarning: \n",
      "A value is trying to be set on a copy of a slice from a DataFrame.\n",
      "Try using .loc[row_indexer,col_indexer] = value instead\n",
      "\n",
      "See the caveats in the documentation: https://pandas.pydata.org/pandas-docs/stable/user_guide/indexing.html#returning-a-view-versus-a-copy\n",
      "  cv[cv[0] == row][\"time\"] = odf[odf[\"0\"] == row][\"1\"]\n",
      "/var/folders/51/l057c8xx2md597vhk47n57rm0000gn/T/ipykernel_23167/2861821560.py:2: SettingWithCopyWarning: \n",
      "A value is trying to be set on a copy of a slice from a DataFrame.\n",
      "Try using .loc[row_indexer,col_indexer] = value instead\n",
      "\n",
      "See the caveats in the documentation: https://pandas.pydata.org/pandas-docs/stable/user_guide/indexing.html#returning-a-view-versus-a-copy\n",
      "  cv[cv[0] == row][\"time\"] = odf[odf[\"0\"] == row][\"1\"]\n",
      "/var/folders/51/l057c8xx2md597vhk47n57rm0000gn/T/ipykernel_23167/2861821560.py:2: SettingWithCopyWarning: \n",
      "A value is trying to be set on a copy of a slice from a DataFrame.\n",
      "Try using .loc[row_indexer,col_indexer] = value instead\n",
      "\n",
      "See the caveats in the documentation: https://pandas.pydata.org/pandas-docs/stable/user_guide/indexing.html#returning-a-view-versus-a-copy\n",
      "  cv[cv[0] == row][\"time\"] = odf[odf[\"0\"] == row][\"1\"]\n",
      "/var/folders/51/l057c8xx2md597vhk47n57rm0000gn/T/ipykernel_23167/2861821560.py:2: SettingWithCopyWarning: \n",
      "A value is trying to be set on a copy of a slice from a DataFrame.\n",
      "Try using .loc[row_indexer,col_indexer] = value instead\n",
      "\n",
      "See the caveats in the documentation: https://pandas.pydata.org/pandas-docs/stable/user_guide/indexing.html#returning-a-view-versus-a-copy\n",
      "  cv[cv[0] == row][\"time\"] = odf[odf[\"0\"] == row][\"1\"]\n",
      "/var/folders/51/l057c8xx2md597vhk47n57rm0000gn/T/ipykernel_23167/2861821560.py:2: SettingWithCopyWarning: \n",
      "A value is trying to be set on a copy of a slice from a DataFrame.\n",
      "Try using .loc[row_indexer,col_indexer] = value instead\n",
      "\n",
      "See the caveats in the documentation: https://pandas.pydata.org/pandas-docs/stable/user_guide/indexing.html#returning-a-view-versus-a-copy\n",
      "  cv[cv[0] == row][\"time\"] = odf[odf[\"0\"] == row][\"1\"]\n",
      "/var/folders/51/l057c8xx2md597vhk47n57rm0000gn/T/ipykernel_23167/2861821560.py:2: SettingWithCopyWarning: \n",
      "A value is trying to be set on a copy of a slice from a DataFrame.\n",
      "Try using .loc[row_indexer,col_indexer] = value instead\n",
      "\n",
      "See the caveats in the documentation: https://pandas.pydata.org/pandas-docs/stable/user_guide/indexing.html#returning-a-view-versus-a-copy\n",
      "  cv[cv[0] == row][\"time\"] = odf[odf[\"0\"] == row][\"1\"]\n",
      "/var/folders/51/l057c8xx2md597vhk47n57rm0000gn/T/ipykernel_23167/2861821560.py:2: SettingWithCopyWarning: \n",
      "A value is trying to be set on a copy of a slice from a DataFrame.\n",
      "Try using .loc[row_indexer,col_indexer] = value instead\n",
      "\n",
      "See the caveats in the documentation: https://pandas.pydata.org/pandas-docs/stable/user_guide/indexing.html#returning-a-view-versus-a-copy\n",
      "  cv[cv[0] == row][\"time\"] = odf[odf[\"0\"] == row][\"1\"]\n",
      "/var/folders/51/l057c8xx2md597vhk47n57rm0000gn/T/ipykernel_23167/2861821560.py:2: SettingWithCopyWarning: \n",
      "A value is trying to be set on a copy of a slice from a DataFrame.\n",
      "Try using .loc[row_indexer,col_indexer] = value instead\n",
      "\n",
      "See the caveats in the documentation: https://pandas.pydata.org/pandas-docs/stable/user_guide/indexing.html#returning-a-view-versus-a-copy\n",
      "  cv[cv[0] == row][\"time\"] = odf[odf[\"0\"] == row][\"1\"]\n",
      "/var/folders/51/l057c8xx2md597vhk47n57rm0000gn/T/ipykernel_23167/2861821560.py:2: SettingWithCopyWarning: \n",
      "A value is trying to be set on a copy of a slice from a DataFrame.\n",
      "Try using .loc[row_indexer,col_indexer] = value instead\n",
      "\n",
      "See the caveats in the documentation: https://pandas.pydata.org/pandas-docs/stable/user_guide/indexing.html#returning-a-view-versus-a-copy\n",
      "  cv[cv[0] == row][\"time\"] = odf[odf[\"0\"] == row][\"1\"]\n",
      "/var/folders/51/l057c8xx2md597vhk47n57rm0000gn/T/ipykernel_23167/2861821560.py:2: SettingWithCopyWarning: \n",
      "A value is trying to be set on a copy of a slice from a DataFrame.\n",
      "Try using .loc[row_indexer,col_indexer] = value instead\n",
      "\n",
      "See the caveats in the documentation: https://pandas.pydata.org/pandas-docs/stable/user_guide/indexing.html#returning-a-view-versus-a-copy\n",
      "  cv[cv[0] == row][\"time\"] = odf[odf[\"0\"] == row][\"1\"]\n",
      "/var/folders/51/l057c8xx2md597vhk47n57rm0000gn/T/ipykernel_23167/2861821560.py:2: SettingWithCopyWarning: \n",
      "A value is trying to be set on a copy of a slice from a DataFrame.\n",
      "Try using .loc[row_indexer,col_indexer] = value instead\n",
      "\n",
      "See the caveats in the documentation: https://pandas.pydata.org/pandas-docs/stable/user_guide/indexing.html#returning-a-view-versus-a-copy\n",
      "  cv[cv[0] == row][\"time\"] = odf[odf[\"0\"] == row][\"1\"]\n",
      "/var/folders/51/l057c8xx2md597vhk47n57rm0000gn/T/ipykernel_23167/2861821560.py:2: SettingWithCopyWarning: \n",
      "A value is trying to be set on a copy of a slice from a DataFrame.\n",
      "Try using .loc[row_indexer,col_indexer] = value instead\n",
      "\n",
      "See the caveats in the documentation: https://pandas.pydata.org/pandas-docs/stable/user_guide/indexing.html#returning-a-view-versus-a-copy\n",
      "  cv[cv[0] == row][\"time\"] = odf[odf[\"0\"] == row][\"1\"]\n",
      "/var/folders/51/l057c8xx2md597vhk47n57rm0000gn/T/ipykernel_23167/2861821560.py:2: SettingWithCopyWarning: \n",
      "A value is trying to be set on a copy of a slice from a DataFrame.\n",
      "Try using .loc[row_indexer,col_indexer] = value instead\n",
      "\n",
      "See the caveats in the documentation: https://pandas.pydata.org/pandas-docs/stable/user_guide/indexing.html#returning-a-view-versus-a-copy\n",
      "  cv[cv[0] == row][\"time\"] = odf[odf[\"0\"] == row][\"1\"]\n",
      "/var/folders/51/l057c8xx2md597vhk47n57rm0000gn/T/ipykernel_23167/2861821560.py:2: SettingWithCopyWarning: \n",
      "A value is trying to be set on a copy of a slice from a DataFrame.\n",
      "Try using .loc[row_indexer,col_indexer] = value instead\n",
      "\n",
      "See the caveats in the documentation: https://pandas.pydata.org/pandas-docs/stable/user_guide/indexing.html#returning-a-view-versus-a-copy\n",
      "  cv[cv[0] == row][\"time\"] = odf[odf[\"0\"] == row][\"1\"]\n",
      "/var/folders/51/l057c8xx2md597vhk47n57rm0000gn/T/ipykernel_23167/2861821560.py:2: SettingWithCopyWarning: \n",
      "A value is trying to be set on a copy of a slice from a DataFrame.\n",
      "Try using .loc[row_indexer,col_indexer] = value instead\n",
      "\n",
      "See the caveats in the documentation: https://pandas.pydata.org/pandas-docs/stable/user_guide/indexing.html#returning-a-view-versus-a-copy\n",
      "  cv[cv[0] == row][\"time\"] = odf[odf[\"0\"] == row][\"1\"]\n",
      "/var/folders/51/l057c8xx2md597vhk47n57rm0000gn/T/ipykernel_23167/2861821560.py:2: SettingWithCopyWarning: \n",
      "A value is trying to be set on a copy of a slice from a DataFrame.\n",
      "Try using .loc[row_indexer,col_indexer] = value instead\n",
      "\n",
      "See the caveats in the documentation: https://pandas.pydata.org/pandas-docs/stable/user_guide/indexing.html#returning-a-view-versus-a-copy\n",
      "  cv[cv[0] == row][\"time\"] = odf[odf[\"0\"] == row][\"1\"]\n"
     ]
    }
   ],
   "source": [
    "for row in cv[0]:\n",
    "    cv[cv[0] == row][\"time\"] = odf[odf[\"0\"] == row][\"1\"]"
   ],
   "metadata": {
    "collapsed": false,
    "ExecuteTime": {
     "end_time": "2023-10-11T07:11:32.131704Z",
     "start_time": "2023-10-11T07:11:32.032183Z"
    }
   },
   "id": "82c841a39cf03725"
  },
  {
   "cell_type": "code",
   "execution_count": 246,
   "outputs": [
    {
     "name": "stderr",
     "output_type": "stream",
     "text": [
      "/var/folders/51/l057c8xx2md597vhk47n57rm0000gn/T/ipykernel_23167/1845735673.py:1: UserWarning: Pandas doesn't allow columns to be created via a new attribute name - see https://pandas.pydata.org/pandas-docs/stable/indexing.html#attribute-access\n",
      "  cv.cols = [\"0\", \"1\", \"2\", \"3\", \"4\", \"5\", \"6\", \"y\"]\n"
     ]
    }
   ],
   "source": [
    "cv.cols = [\"0\", \"1\", \"2\", \"3\", \"4\", \"5\", \"6\", \"y\"]"
   ],
   "metadata": {
    "collapsed": false,
    "ExecuteTime": {
     "end_time": "2023-10-11T07:13:30.906995Z",
     "start_time": "2023-10-11T07:13:30.882036Z"
    }
   },
   "id": "71d5f6323cd001d1"
  },
  {
   "cell_type": "code",
   "execution_count": 254,
   "outputs": [
    {
     "ename": "KeyError",
     "evalue": "0",
     "output_type": "error",
     "traceback": [
      "\u001B[0;31m---------------------------------------------------------------------------\u001B[0m",
      "\u001B[0;31mKeyError\u001B[0m                                  Traceback (most recent call last)",
      "Cell \u001B[0;32mIn[254], line 1\u001B[0m\n\u001B[0;32m----> 1\u001B[0m cv\u001B[38;5;241m.\u001B[39mmerge(odf, on\u001B[38;5;241m=\u001B[39m\u001B[38;5;241m0\u001B[39m, how\u001B[38;5;241m=\u001B[39m\u001B[38;5;124m\"\u001B[39m\u001B[38;5;124mright\u001B[39m\u001B[38;5;124m\"\u001B[39m)\n",
      "File \u001B[0;32m~/anaconda3/lib/python3.11/site-packages/pandas/core/frame.py:10093\u001B[0m, in \u001B[0;36mDataFrame.merge\u001B[0;34m(self, right, how, on, left_on, right_on, left_index, right_index, sort, suffixes, copy, indicator, validate)\u001B[0m\n\u001B[1;32m  10074\u001B[0m \u001B[38;5;129m@Substitution\u001B[39m(\u001B[38;5;124m\"\u001B[39m\u001B[38;5;124m\"\u001B[39m)\n\u001B[1;32m  10075\u001B[0m \u001B[38;5;129m@Appender\u001B[39m(_merge_doc, indents\u001B[38;5;241m=\u001B[39m\u001B[38;5;241m2\u001B[39m)\n\u001B[1;32m  10076\u001B[0m \u001B[38;5;28;01mdef\u001B[39;00m \u001B[38;5;21mmerge\u001B[39m(\n\u001B[0;32m   (...)\u001B[0m\n\u001B[1;32m  10089\u001B[0m     validate: \u001B[38;5;28mstr\u001B[39m \u001B[38;5;241m|\u001B[39m \u001B[38;5;28;01mNone\u001B[39;00m \u001B[38;5;241m=\u001B[39m \u001B[38;5;28;01mNone\u001B[39;00m,\n\u001B[1;32m  10090\u001B[0m ) \u001B[38;5;241m-\u001B[39m\u001B[38;5;241m>\u001B[39m DataFrame:\n\u001B[1;32m  10091\u001B[0m     \u001B[38;5;28;01mfrom\u001B[39;00m \u001B[38;5;21;01mpandas\u001B[39;00m\u001B[38;5;21;01m.\u001B[39;00m\u001B[38;5;21;01mcore\u001B[39;00m\u001B[38;5;21;01m.\u001B[39;00m\u001B[38;5;21;01mreshape\u001B[39;00m\u001B[38;5;21;01m.\u001B[39;00m\u001B[38;5;21;01mmerge\u001B[39;00m \u001B[38;5;28;01mimport\u001B[39;00m merge\n\u001B[0;32m> 10093\u001B[0m     \u001B[38;5;28;01mreturn\u001B[39;00m merge(\n\u001B[1;32m  10094\u001B[0m         \u001B[38;5;28mself\u001B[39m,\n\u001B[1;32m  10095\u001B[0m         right,\n\u001B[1;32m  10096\u001B[0m         how\u001B[38;5;241m=\u001B[39mhow,\n\u001B[1;32m  10097\u001B[0m         on\u001B[38;5;241m=\u001B[39mon,\n\u001B[1;32m  10098\u001B[0m         left_on\u001B[38;5;241m=\u001B[39mleft_on,\n\u001B[1;32m  10099\u001B[0m         right_on\u001B[38;5;241m=\u001B[39mright_on,\n\u001B[1;32m  10100\u001B[0m         left_index\u001B[38;5;241m=\u001B[39mleft_index,\n\u001B[1;32m  10101\u001B[0m         right_index\u001B[38;5;241m=\u001B[39mright_index,\n\u001B[1;32m  10102\u001B[0m         sort\u001B[38;5;241m=\u001B[39msort,\n\u001B[1;32m  10103\u001B[0m         suffixes\u001B[38;5;241m=\u001B[39msuffixes,\n\u001B[1;32m  10104\u001B[0m         copy\u001B[38;5;241m=\u001B[39mcopy,\n\u001B[1;32m  10105\u001B[0m         indicator\u001B[38;5;241m=\u001B[39mindicator,\n\u001B[1;32m  10106\u001B[0m         validate\u001B[38;5;241m=\u001B[39mvalidate,\n\u001B[1;32m  10107\u001B[0m     )\n",
      "File \u001B[0;32m~/anaconda3/lib/python3.11/site-packages/pandas/core/reshape/merge.py:110\u001B[0m, in \u001B[0;36mmerge\u001B[0;34m(left, right, how, on, left_on, right_on, left_index, right_index, sort, suffixes, copy, indicator, validate)\u001B[0m\n\u001B[1;32m     93\u001B[0m \u001B[38;5;129m@Substitution\u001B[39m(\u001B[38;5;124m\"\u001B[39m\u001B[38;5;130;01m\\n\u001B[39;00m\u001B[38;5;124mleft : DataFrame or named Series\u001B[39m\u001B[38;5;124m\"\u001B[39m)\n\u001B[1;32m     94\u001B[0m \u001B[38;5;129m@Appender\u001B[39m(_merge_doc, indents\u001B[38;5;241m=\u001B[39m\u001B[38;5;241m0\u001B[39m)\n\u001B[1;32m     95\u001B[0m \u001B[38;5;28;01mdef\u001B[39;00m \u001B[38;5;21mmerge\u001B[39m(\n\u001B[0;32m   (...)\u001B[0m\n\u001B[1;32m    108\u001B[0m     validate: \u001B[38;5;28mstr\u001B[39m \u001B[38;5;241m|\u001B[39m \u001B[38;5;28;01mNone\u001B[39;00m \u001B[38;5;241m=\u001B[39m \u001B[38;5;28;01mNone\u001B[39;00m,\n\u001B[1;32m    109\u001B[0m ) \u001B[38;5;241m-\u001B[39m\u001B[38;5;241m>\u001B[39m DataFrame:\n\u001B[0;32m--> 110\u001B[0m     op \u001B[38;5;241m=\u001B[39m _MergeOperation(\n\u001B[1;32m    111\u001B[0m         left,\n\u001B[1;32m    112\u001B[0m         right,\n\u001B[1;32m    113\u001B[0m         how\u001B[38;5;241m=\u001B[39mhow,\n\u001B[1;32m    114\u001B[0m         on\u001B[38;5;241m=\u001B[39mon,\n\u001B[1;32m    115\u001B[0m         left_on\u001B[38;5;241m=\u001B[39mleft_on,\n\u001B[1;32m    116\u001B[0m         right_on\u001B[38;5;241m=\u001B[39mright_on,\n\u001B[1;32m    117\u001B[0m         left_index\u001B[38;5;241m=\u001B[39mleft_index,\n\u001B[1;32m    118\u001B[0m         right_index\u001B[38;5;241m=\u001B[39mright_index,\n\u001B[1;32m    119\u001B[0m         sort\u001B[38;5;241m=\u001B[39msort,\n\u001B[1;32m    120\u001B[0m         suffixes\u001B[38;5;241m=\u001B[39msuffixes,\n\u001B[1;32m    121\u001B[0m         indicator\u001B[38;5;241m=\u001B[39mindicator,\n\u001B[1;32m    122\u001B[0m         validate\u001B[38;5;241m=\u001B[39mvalidate,\n\u001B[1;32m    123\u001B[0m     )\n\u001B[1;32m    124\u001B[0m     \u001B[38;5;28;01mreturn\u001B[39;00m op\u001B[38;5;241m.\u001B[39mget_result(copy\u001B[38;5;241m=\u001B[39mcopy)\n",
      "File \u001B[0;32m~/anaconda3/lib/python3.11/site-packages/pandas/core/reshape/merge.py:703\u001B[0m, in \u001B[0;36m_MergeOperation.__init__\u001B[0;34m(self, left, right, how, on, left_on, right_on, axis, left_index, right_index, sort, suffixes, indicator, validate)\u001B[0m\n\u001B[1;32m    696\u001B[0m \u001B[38;5;28mself\u001B[39m\u001B[38;5;241m.\u001B[39m_cross \u001B[38;5;241m=\u001B[39m cross_col\n\u001B[1;32m    698\u001B[0m \u001B[38;5;66;03m# note this function has side effects\u001B[39;00m\n\u001B[1;32m    699\u001B[0m (\n\u001B[1;32m    700\u001B[0m     \u001B[38;5;28mself\u001B[39m\u001B[38;5;241m.\u001B[39mleft_join_keys,\n\u001B[1;32m    701\u001B[0m     \u001B[38;5;28mself\u001B[39m\u001B[38;5;241m.\u001B[39mright_join_keys,\n\u001B[1;32m    702\u001B[0m     \u001B[38;5;28mself\u001B[39m\u001B[38;5;241m.\u001B[39mjoin_names,\n\u001B[0;32m--> 703\u001B[0m ) \u001B[38;5;241m=\u001B[39m \u001B[38;5;28mself\u001B[39m\u001B[38;5;241m.\u001B[39m_get_merge_keys()\n\u001B[1;32m    705\u001B[0m \u001B[38;5;66;03m# validate the merge keys dtypes. We may need to coerce\u001B[39;00m\n\u001B[1;32m    706\u001B[0m \u001B[38;5;66;03m# to avoid incompatible dtypes\u001B[39;00m\n\u001B[1;32m    707\u001B[0m \u001B[38;5;28mself\u001B[39m\u001B[38;5;241m.\u001B[39m_maybe_coerce_merge_keys()\n",
      "File \u001B[0;32m~/anaconda3/lib/python3.11/site-packages/pandas/core/reshape/merge.py:1162\u001B[0m, in \u001B[0;36m_MergeOperation._get_merge_keys\u001B[0;34m(self)\u001B[0m\n\u001B[1;32m   1160\u001B[0m rk \u001B[38;5;241m=\u001B[39m cast(Hashable, rk)\n\u001B[1;32m   1161\u001B[0m \u001B[38;5;28;01mif\u001B[39;00m rk \u001B[38;5;129;01mis\u001B[39;00m \u001B[38;5;129;01mnot\u001B[39;00m \u001B[38;5;28;01mNone\u001B[39;00m:\n\u001B[0;32m-> 1162\u001B[0m     right_keys\u001B[38;5;241m.\u001B[39mappend(right\u001B[38;5;241m.\u001B[39m_get_label_or_level_values(rk))\n\u001B[1;32m   1163\u001B[0m \u001B[38;5;28;01melse\u001B[39;00m:\n\u001B[1;32m   1164\u001B[0m     \u001B[38;5;66;03m# work-around for merge_asof(right_index=True)\u001B[39;00m\n\u001B[1;32m   1165\u001B[0m     right_keys\u001B[38;5;241m.\u001B[39mappend(right\u001B[38;5;241m.\u001B[39mindex)\n",
      "File \u001B[0;32m~/anaconda3/lib/python3.11/site-packages/pandas/core/generic.py:1850\u001B[0m, in \u001B[0;36mNDFrame._get_label_or_level_values\u001B[0;34m(self, key, axis)\u001B[0m\n\u001B[1;32m   1844\u001B[0m     values \u001B[38;5;241m=\u001B[39m (\n\u001B[1;32m   1845\u001B[0m         \u001B[38;5;28mself\u001B[39m\u001B[38;5;241m.\u001B[39maxes[axis]\n\u001B[1;32m   1846\u001B[0m         \u001B[38;5;241m.\u001B[39mget_level_values(key)  \u001B[38;5;66;03m# type: ignore[assignment]\u001B[39;00m\n\u001B[1;32m   1847\u001B[0m         \u001B[38;5;241m.\u001B[39m_values\n\u001B[1;32m   1848\u001B[0m     )\n\u001B[1;32m   1849\u001B[0m \u001B[38;5;28;01melse\u001B[39;00m:\n\u001B[0;32m-> 1850\u001B[0m     \u001B[38;5;28;01mraise\u001B[39;00m \u001B[38;5;167;01mKeyError\u001B[39;00m(key)\n\u001B[1;32m   1852\u001B[0m \u001B[38;5;66;03m# Check for duplicates\u001B[39;00m\n\u001B[1;32m   1853\u001B[0m \u001B[38;5;28;01mif\u001B[39;00m values\u001B[38;5;241m.\u001B[39mndim \u001B[38;5;241m>\u001B[39m \u001B[38;5;241m1\u001B[39m:\n",
      "\u001B[0;31mKeyError\u001B[0m: 0"
     ]
    }
   ],
   "source": [
    "cv.merge(odf, on=0, how=\"right\")"
   ],
   "metadata": {
    "collapsed": false,
    "ExecuteTime": {
     "end_time": "2023-10-11T07:14:34.334770Z",
     "start_time": "2023-10-11T07:14:34.288739Z"
    }
   },
   "id": "bdd30bfc7f53ef83"
  },
  {
   "cell_type": "code",
   "execution_count": 261,
   "outputs": [
    {
     "name": "stderr",
     "output_type": "stream",
     "text": [
      "/var/folders/51/l057c8xx2md597vhk47n57rm0000gn/T/ipykernel_23167/2798248270.py:1: SettingWithCopyWarning: \n",
      "A value is trying to be set on a copy of a slice from a DataFrame.\n",
      "Try using .loc[row_indexer,col_indexer] = value instead\n",
      "\n",
      "See the caveats in the documentation: https://pandas.pydata.org/pandas-docs/stable/user_guide/indexing.html#returning-a-view-versus-a-copy\n",
      "  cv[\"1_y\"] = cv[\"1_y\"].astype(\"float\")\n"
     ]
    }
   ],
   "source": [
    "cv[\"1_y\"] = cv[\"1_y\"].astype(\"float\")"
   ],
   "metadata": {
    "collapsed": false,
    "ExecuteTime": {
     "end_time": "2023-10-11T07:16:06.260378Z",
     "start_time": "2023-10-11T07:16:06.219311Z"
    }
   },
   "id": "4d323113aead005"
  },
  {
   "cell_type": "code",
   "execution_count": 263,
   "outputs": [
    {
     "data": {
      "text/plain": "               0  1_x      2    3    4    5   6     1_y\n8         catmdh   48    315    3    3   71   0   2.900\n11    catmdlocp1   62   3450    8    8  329  32  21.780\n13      catmdloc  458  10148   78   79  633  59  38.415\n17    catmdsdop2   62   1658   64   46  282   1  10.072\n28        catsem   64   3184  122  109  599   3  14.437\n...          ...  ...    ...  ...  ...  ...  ..     ...\n1379    prvtpspi    2   1003   18   12   12   0   1.152\n1436    prvtsnap    4    357   31   32   51   2   1.817\n1446    prvtspcu    2     88    9   11   12   0   1.244\n1465    prvtsqlt    0     56    4   12    6   0   1.002\n1513     prvtwrr    1    148   19   14   15   0   9.789\n\n[81 rows x 8 columns]",
      "text/html": "<div>\n<style scoped>\n    .dataframe tbody tr th:only-of-type {\n        vertical-align: middle;\n    }\n\n    .dataframe tbody tr th {\n        vertical-align: top;\n    }\n\n    .dataframe thead th {\n        text-align: right;\n    }\n</style>\n<table border=\"1\" class=\"dataframe\">\n  <thead>\n    <tr style=\"text-align: right;\">\n      <th></th>\n      <th>0</th>\n      <th>1_x</th>\n      <th>2</th>\n      <th>3</th>\n      <th>4</th>\n      <th>5</th>\n      <th>6</th>\n      <th>1_y</th>\n    </tr>\n  </thead>\n  <tbody>\n    <tr>\n      <th>8</th>\n      <td>catmdh</td>\n      <td>48</td>\n      <td>315</td>\n      <td>3</td>\n      <td>3</td>\n      <td>71</td>\n      <td>0</td>\n      <td>2.900</td>\n    </tr>\n    <tr>\n      <th>11</th>\n      <td>catmdlocp1</td>\n      <td>62</td>\n      <td>3450</td>\n      <td>8</td>\n      <td>8</td>\n      <td>329</td>\n      <td>32</td>\n      <td>21.780</td>\n    </tr>\n    <tr>\n      <th>13</th>\n      <td>catmdloc</td>\n      <td>458</td>\n      <td>10148</td>\n      <td>78</td>\n      <td>79</td>\n      <td>633</td>\n      <td>59</td>\n      <td>38.415</td>\n    </tr>\n    <tr>\n      <th>17</th>\n      <td>catmdsdop2</td>\n      <td>62</td>\n      <td>1658</td>\n      <td>64</td>\n      <td>46</td>\n      <td>282</td>\n      <td>1</td>\n      <td>10.072</td>\n    </tr>\n    <tr>\n      <th>28</th>\n      <td>catsem</td>\n      <td>64</td>\n      <td>3184</td>\n      <td>122</td>\n      <td>109</td>\n      <td>599</td>\n      <td>3</td>\n      <td>14.437</td>\n    </tr>\n    <tr>\n      <th>...</th>\n      <td>...</td>\n      <td>...</td>\n      <td>...</td>\n      <td>...</td>\n      <td>...</td>\n      <td>...</td>\n      <td>...</td>\n      <td>...</td>\n    </tr>\n    <tr>\n      <th>1379</th>\n      <td>prvtpspi</td>\n      <td>2</td>\n      <td>1003</td>\n      <td>18</td>\n      <td>12</td>\n      <td>12</td>\n      <td>0</td>\n      <td>1.152</td>\n    </tr>\n    <tr>\n      <th>1436</th>\n      <td>prvtsnap</td>\n      <td>4</td>\n      <td>357</td>\n      <td>31</td>\n      <td>32</td>\n      <td>51</td>\n      <td>2</td>\n      <td>1.817</td>\n    </tr>\n    <tr>\n      <th>1446</th>\n      <td>prvtspcu</td>\n      <td>2</td>\n      <td>88</td>\n      <td>9</td>\n      <td>11</td>\n      <td>12</td>\n      <td>0</td>\n      <td>1.244</td>\n    </tr>\n    <tr>\n      <th>1465</th>\n      <td>prvtsqlt</td>\n      <td>0</td>\n      <td>56</td>\n      <td>4</td>\n      <td>12</td>\n      <td>6</td>\n      <td>0</td>\n      <td>1.002</td>\n    </tr>\n    <tr>\n      <th>1513</th>\n      <td>prvtwrr</td>\n      <td>1</td>\n      <td>148</td>\n      <td>19</td>\n      <td>14</td>\n      <td>15</td>\n      <td>0</td>\n      <td>9.789</td>\n    </tr>\n  </tbody>\n</table>\n<p>81 rows × 8 columns</p>\n</div>"
     },
     "execution_count": 263,
     "metadata": {},
     "output_type": "execute_result"
    }
   ],
   "source": [
    "cv[cv[\"1_y\"] > 1]"
   ],
   "metadata": {
    "collapsed": false,
    "ExecuteTime": {
     "end_time": "2023-10-11T07:16:17.623655Z",
     "start_time": "2023-10-11T07:16:17.584401Z"
    }
   },
   "id": "44819e5dcba583ed"
  },
  {
   "cell_type": "code",
   "execution_count": 265,
   "outputs": [
    {
     "ename": "ValueError",
     "evalue": "could not convert string to float: 'O/S Message: No such file or directory'",
     "output_type": "error",
     "traceback": [
      "\u001B[0;31m---------------------------------------------------------------------------\u001B[0m",
      "\u001B[0;31mValueError\u001B[0m                                Traceback (most recent call last)",
      "Cell \u001B[0;32mIn[265], line 1\u001B[0m\n\u001B[0;32m----> 1\u001B[0m scripts_r[scripts_r[\u001B[38;5;124m\"\u001B[39m\u001B[38;5;124m1_y\u001B[39m\u001B[38;5;124m\"\u001B[39m]\u001B[38;5;241m.\u001B[39mastype(\u001B[38;5;124m\"\u001B[39m\u001B[38;5;124mfloat\u001B[39m\u001B[38;5;124m\"\u001B[39m) \u001B[38;5;241m>\u001B[39m \u001B[38;5;241m200\u001B[39m]\n",
      "File \u001B[0;32m~/anaconda3/lib/python3.11/site-packages/pandas/core/generic.py:6240\u001B[0m, in \u001B[0;36mNDFrame.astype\u001B[0;34m(self, dtype, copy, errors)\u001B[0m\n\u001B[1;32m   6233\u001B[0m     results \u001B[38;5;241m=\u001B[39m [\n\u001B[1;32m   6234\u001B[0m         \u001B[38;5;28mself\u001B[39m\u001B[38;5;241m.\u001B[39miloc[:, i]\u001B[38;5;241m.\u001B[39mastype(dtype, copy\u001B[38;5;241m=\u001B[39mcopy)\n\u001B[1;32m   6235\u001B[0m         \u001B[38;5;28;01mfor\u001B[39;00m i \u001B[38;5;129;01min\u001B[39;00m \u001B[38;5;28mrange\u001B[39m(\u001B[38;5;28mlen\u001B[39m(\u001B[38;5;28mself\u001B[39m\u001B[38;5;241m.\u001B[39mcolumns))\n\u001B[1;32m   6236\u001B[0m     ]\n\u001B[1;32m   6238\u001B[0m \u001B[38;5;28;01melse\u001B[39;00m:\n\u001B[1;32m   6239\u001B[0m     \u001B[38;5;66;03m# else, only a single dtype is given\u001B[39;00m\n\u001B[0;32m-> 6240\u001B[0m     new_data \u001B[38;5;241m=\u001B[39m \u001B[38;5;28mself\u001B[39m\u001B[38;5;241m.\u001B[39m_mgr\u001B[38;5;241m.\u001B[39mastype(dtype\u001B[38;5;241m=\u001B[39mdtype, copy\u001B[38;5;241m=\u001B[39mcopy, errors\u001B[38;5;241m=\u001B[39merrors)\n\u001B[1;32m   6241\u001B[0m     \u001B[38;5;28;01mreturn\u001B[39;00m \u001B[38;5;28mself\u001B[39m\u001B[38;5;241m.\u001B[39m_constructor(new_data)\u001B[38;5;241m.\u001B[39m__finalize__(\u001B[38;5;28mself\u001B[39m, method\u001B[38;5;241m=\u001B[39m\u001B[38;5;124m\"\u001B[39m\u001B[38;5;124mastype\u001B[39m\u001B[38;5;124m\"\u001B[39m)\n\u001B[1;32m   6243\u001B[0m \u001B[38;5;66;03m# GH 33113: handle empty frame or series\u001B[39;00m\n",
      "File \u001B[0;32m~/anaconda3/lib/python3.11/site-packages/pandas/core/internals/managers.py:448\u001B[0m, in \u001B[0;36mBaseBlockManager.astype\u001B[0;34m(self, dtype, copy, errors)\u001B[0m\n\u001B[1;32m    447\u001B[0m \u001B[38;5;28;01mdef\u001B[39;00m \u001B[38;5;21mastype\u001B[39m(\u001B[38;5;28mself\u001B[39m: T, dtype, copy: \u001B[38;5;28mbool\u001B[39m \u001B[38;5;241m=\u001B[39m \u001B[38;5;28;01mFalse\u001B[39;00m, errors: \u001B[38;5;28mstr\u001B[39m \u001B[38;5;241m=\u001B[39m \u001B[38;5;124m\"\u001B[39m\u001B[38;5;124mraise\u001B[39m\u001B[38;5;124m\"\u001B[39m) \u001B[38;5;241m-\u001B[39m\u001B[38;5;241m>\u001B[39m T:\n\u001B[0;32m--> 448\u001B[0m     \u001B[38;5;28;01mreturn\u001B[39;00m \u001B[38;5;28mself\u001B[39m\u001B[38;5;241m.\u001B[39mapply(\u001B[38;5;124m\"\u001B[39m\u001B[38;5;124mastype\u001B[39m\u001B[38;5;124m\"\u001B[39m, dtype\u001B[38;5;241m=\u001B[39mdtype, copy\u001B[38;5;241m=\u001B[39mcopy, errors\u001B[38;5;241m=\u001B[39merrors)\n",
      "File \u001B[0;32m~/anaconda3/lib/python3.11/site-packages/pandas/core/internals/managers.py:352\u001B[0m, in \u001B[0;36mBaseBlockManager.apply\u001B[0;34m(self, f, align_keys, ignore_failures, **kwargs)\u001B[0m\n\u001B[1;32m    350\u001B[0m         applied \u001B[38;5;241m=\u001B[39m b\u001B[38;5;241m.\u001B[39mapply(f, \u001B[38;5;241m*\u001B[39m\u001B[38;5;241m*\u001B[39mkwargs)\n\u001B[1;32m    351\u001B[0m     \u001B[38;5;28;01melse\u001B[39;00m:\n\u001B[0;32m--> 352\u001B[0m         applied \u001B[38;5;241m=\u001B[39m \u001B[38;5;28mgetattr\u001B[39m(b, f)(\u001B[38;5;241m*\u001B[39m\u001B[38;5;241m*\u001B[39mkwargs)\n\u001B[1;32m    353\u001B[0m \u001B[38;5;28;01mexcept\u001B[39;00m (\u001B[38;5;167;01mTypeError\u001B[39;00m, \u001B[38;5;167;01mNotImplementedError\u001B[39;00m):\n\u001B[1;32m    354\u001B[0m     \u001B[38;5;28;01mif\u001B[39;00m \u001B[38;5;129;01mnot\u001B[39;00m ignore_failures:\n",
      "File \u001B[0;32m~/anaconda3/lib/python3.11/site-packages/pandas/core/internals/blocks.py:526\u001B[0m, in \u001B[0;36mBlock.astype\u001B[0;34m(self, dtype, copy, errors)\u001B[0m\n\u001B[1;32m    508\u001B[0m \u001B[38;5;250m\u001B[39m\u001B[38;5;124;03m\"\"\"\u001B[39;00m\n\u001B[1;32m    509\u001B[0m \u001B[38;5;124;03mCoerce to the new dtype.\u001B[39;00m\n\u001B[1;32m    510\u001B[0m \n\u001B[0;32m   (...)\u001B[0m\n\u001B[1;32m    522\u001B[0m \u001B[38;5;124;03mBlock\u001B[39;00m\n\u001B[1;32m    523\u001B[0m \u001B[38;5;124;03m\"\"\"\u001B[39;00m\n\u001B[1;32m    524\u001B[0m values \u001B[38;5;241m=\u001B[39m \u001B[38;5;28mself\u001B[39m\u001B[38;5;241m.\u001B[39mvalues\n\u001B[0;32m--> 526\u001B[0m new_values \u001B[38;5;241m=\u001B[39m astype_array_safe(values, dtype, copy\u001B[38;5;241m=\u001B[39mcopy, errors\u001B[38;5;241m=\u001B[39merrors)\n\u001B[1;32m    528\u001B[0m new_values \u001B[38;5;241m=\u001B[39m maybe_coerce_values(new_values)\n\u001B[1;32m    529\u001B[0m newb \u001B[38;5;241m=\u001B[39m \u001B[38;5;28mself\u001B[39m\u001B[38;5;241m.\u001B[39mmake_block(new_values)\n",
      "File \u001B[0;32m~/anaconda3/lib/python3.11/site-packages/pandas/core/dtypes/astype.py:299\u001B[0m, in \u001B[0;36mastype_array_safe\u001B[0;34m(values, dtype, copy, errors)\u001B[0m\n\u001B[1;32m    296\u001B[0m     \u001B[38;5;28;01mreturn\u001B[39;00m values\u001B[38;5;241m.\u001B[39mcopy()\n\u001B[1;32m    298\u001B[0m \u001B[38;5;28;01mtry\u001B[39;00m:\n\u001B[0;32m--> 299\u001B[0m     new_values \u001B[38;5;241m=\u001B[39m astype_array(values, dtype, copy\u001B[38;5;241m=\u001B[39mcopy)\n\u001B[1;32m    300\u001B[0m \u001B[38;5;28;01mexcept\u001B[39;00m (\u001B[38;5;167;01mValueError\u001B[39;00m, \u001B[38;5;167;01mTypeError\u001B[39;00m):\n\u001B[1;32m    301\u001B[0m     \u001B[38;5;66;03m# e.g. astype_nansafe can fail on object-dtype of strings\u001B[39;00m\n\u001B[1;32m    302\u001B[0m     \u001B[38;5;66;03m#  trying to convert to float\u001B[39;00m\n\u001B[1;32m    303\u001B[0m     \u001B[38;5;28;01mif\u001B[39;00m errors \u001B[38;5;241m==\u001B[39m \u001B[38;5;124m\"\u001B[39m\u001B[38;5;124mignore\u001B[39m\u001B[38;5;124m\"\u001B[39m:\n",
      "File \u001B[0;32m~/anaconda3/lib/python3.11/site-packages/pandas/core/dtypes/astype.py:230\u001B[0m, in \u001B[0;36mastype_array\u001B[0;34m(values, dtype, copy)\u001B[0m\n\u001B[1;32m    227\u001B[0m     values \u001B[38;5;241m=\u001B[39m values\u001B[38;5;241m.\u001B[39mastype(dtype, copy\u001B[38;5;241m=\u001B[39mcopy)\n\u001B[1;32m    229\u001B[0m \u001B[38;5;28;01melse\u001B[39;00m:\n\u001B[0;32m--> 230\u001B[0m     values \u001B[38;5;241m=\u001B[39m astype_nansafe(values, dtype, copy\u001B[38;5;241m=\u001B[39mcopy)\n\u001B[1;32m    232\u001B[0m \u001B[38;5;66;03m# in pandas we don't store numpy str dtypes, so convert to object\u001B[39;00m\n\u001B[1;32m    233\u001B[0m \u001B[38;5;28;01mif\u001B[39;00m \u001B[38;5;28misinstance\u001B[39m(dtype, np\u001B[38;5;241m.\u001B[39mdtype) \u001B[38;5;129;01mand\u001B[39;00m \u001B[38;5;28missubclass\u001B[39m(values\u001B[38;5;241m.\u001B[39mdtype\u001B[38;5;241m.\u001B[39mtype, \u001B[38;5;28mstr\u001B[39m):\n",
      "File \u001B[0;32m~/anaconda3/lib/python3.11/site-packages/pandas/core/dtypes/astype.py:170\u001B[0m, in \u001B[0;36mastype_nansafe\u001B[0;34m(arr, dtype, copy, skipna)\u001B[0m\n\u001B[1;32m    166\u001B[0m     \u001B[38;5;28;01mraise\u001B[39;00m \u001B[38;5;167;01mValueError\u001B[39;00m(msg)\n\u001B[1;32m    168\u001B[0m \u001B[38;5;28;01mif\u001B[39;00m copy \u001B[38;5;129;01mor\u001B[39;00m is_object_dtype(arr\u001B[38;5;241m.\u001B[39mdtype) \u001B[38;5;129;01mor\u001B[39;00m is_object_dtype(dtype):\n\u001B[1;32m    169\u001B[0m     \u001B[38;5;66;03m# Explicit copy, or required since NumPy can't view from / to object.\u001B[39;00m\n\u001B[0;32m--> 170\u001B[0m     \u001B[38;5;28;01mreturn\u001B[39;00m arr\u001B[38;5;241m.\u001B[39mastype(dtype, copy\u001B[38;5;241m=\u001B[39m\u001B[38;5;28;01mTrue\u001B[39;00m)\n\u001B[1;32m    172\u001B[0m \u001B[38;5;28;01mreturn\u001B[39;00m arr\u001B[38;5;241m.\u001B[39mastype(dtype, copy\u001B[38;5;241m=\u001B[39mcopy)\n",
      "\u001B[0;31mValueError\u001B[0m: could not convert string to float: 'O/S Message: No such file or directory'"
     ]
    }
   ],
   "source": [
    "scripts_r[scripts_r[\"1_y\"].astype(\"float\") > 200]"
   ],
   "metadata": {
    "collapsed": false,
    "ExecuteTime": {
     "end_time": "2023-10-11T07:17:14.778763Z",
     "start_time": "2023-10-11T07:17:14.725376Z"
    }
   },
   "id": "b45d3add3bd14e42"
  },
  {
   "cell_type": "code",
   "execution_count": 267,
   "outputs": [
    {
     "data": {
      "text/plain": "                  name  grants  size  packages  alters  commands  commits  \\\n0    29033052_rollback       0    19         1       1         3        0   \n1       29201539_apply       0    12         0       0         3        0   \n2    29201539_rollback       0    12         0       0         3        0   \n3       30035598_apply       0     9         1       1         2        1   \n4       32131774_apply       0    28         0       0         5        0   \n..                 ...     ...   ...       ...     ...       ...      ...   \n207             sdoutl       1    33         2       1         8        1   \n208           sdowcspr       2    34         3       5         5        0   \n209           sdowfslk       2    42         5       3         9        0   \n210           sdowfspr       1    34         4       3         6        0   \n211            sdowspr       1    17         1       1         4        0   \n\n      time  \n0    0.792  \n1    0.369  \n2    0.366  \n3    0.476  \n4    0.413  \n..     ...  \n207  0.430  \n208  0.858  \n209  0.993  \n210  1.235  \n211  0.466  \n\n[212 rows x 8 columns]",
      "text/html": "<div>\n<style scoped>\n    .dataframe tbody tr th:only-of-type {\n        vertical-align: middle;\n    }\n\n    .dataframe tbody tr th {\n        vertical-align: top;\n    }\n\n    .dataframe thead th {\n        text-align: right;\n    }\n</style>\n<table border=\"1\" class=\"dataframe\">\n  <thead>\n    <tr style=\"text-align: right;\">\n      <th></th>\n      <th>name</th>\n      <th>grants</th>\n      <th>size</th>\n      <th>packages</th>\n      <th>alters</th>\n      <th>commands</th>\n      <th>commits</th>\n      <th>time</th>\n    </tr>\n  </thead>\n  <tbody>\n    <tr>\n      <th>0</th>\n      <td>29033052_rollback</td>\n      <td>0</td>\n      <td>19</td>\n      <td>1</td>\n      <td>1</td>\n      <td>3</td>\n      <td>0</td>\n      <td>0.792</td>\n    </tr>\n    <tr>\n      <th>1</th>\n      <td>29201539_apply</td>\n      <td>0</td>\n      <td>12</td>\n      <td>0</td>\n      <td>0</td>\n      <td>3</td>\n      <td>0</td>\n      <td>0.369</td>\n    </tr>\n    <tr>\n      <th>2</th>\n      <td>29201539_rollback</td>\n      <td>0</td>\n      <td>12</td>\n      <td>0</td>\n      <td>0</td>\n      <td>3</td>\n      <td>0</td>\n      <td>0.366</td>\n    </tr>\n    <tr>\n      <th>3</th>\n      <td>30035598_apply</td>\n      <td>0</td>\n      <td>9</td>\n      <td>1</td>\n      <td>1</td>\n      <td>2</td>\n      <td>1</td>\n      <td>0.476</td>\n    </tr>\n    <tr>\n      <th>4</th>\n      <td>32131774_apply</td>\n      <td>0</td>\n      <td>28</td>\n      <td>0</td>\n      <td>0</td>\n      <td>5</td>\n      <td>0</td>\n      <td>0.413</td>\n    </tr>\n    <tr>\n      <th>...</th>\n      <td>...</td>\n      <td>...</td>\n      <td>...</td>\n      <td>...</td>\n      <td>...</td>\n      <td>...</td>\n      <td>...</td>\n      <td>...</td>\n    </tr>\n    <tr>\n      <th>207</th>\n      <td>sdoutl</td>\n      <td>1</td>\n      <td>33</td>\n      <td>2</td>\n      <td>1</td>\n      <td>8</td>\n      <td>1</td>\n      <td>0.430</td>\n    </tr>\n    <tr>\n      <th>208</th>\n      <td>sdowcspr</td>\n      <td>2</td>\n      <td>34</td>\n      <td>3</td>\n      <td>5</td>\n      <td>5</td>\n      <td>0</td>\n      <td>0.858</td>\n    </tr>\n    <tr>\n      <th>209</th>\n      <td>sdowfslk</td>\n      <td>2</td>\n      <td>42</td>\n      <td>5</td>\n      <td>3</td>\n      <td>9</td>\n      <td>0</td>\n      <td>0.993</td>\n    </tr>\n    <tr>\n      <th>210</th>\n      <td>sdowfspr</td>\n      <td>1</td>\n      <td>34</td>\n      <td>4</td>\n      <td>3</td>\n      <td>6</td>\n      <td>0</td>\n      <td>1.235</td>\n    </tr>\n    <tr>\n      <th>211</th>\n      <td>sdowspr</td>\n      <td>1</td>\n      <td>17</td>\n      <td>1</td>\n      <td>1</td>\n      <td>4</td>\n      <td>0</td>\n      <td>0.466</td>\n    </tr>\n  </tbody>\n</table>\n<p>212 rows × 8 columns</p>\n</div>"
     },
     "execution_count": 267,
     "metadata": {},
     "output_type": "execute_result"
    }
   ],
   "source": [
    "df = pd.read_csv(\"m_data.csv\", header=None)\n",
    "dft = pd.read_csv(\"axmd_times.csv\", header=None)\n",
    "dft\n",
    "scripts = df.merge(dft, on=0, how=\"left\")\n",
    "scripts.columns = [\"name\", \"grants\", \"size\", \"packages\", \"alters\", \"commands\", \"commits\", \"time\"]\n",
    "scripts"
   ],
   "metadata": {
    "collapsed": false,
    "ExecuteTime": {
     "end_time": "2023-10-11T07:19:01.327404Z",
     "start_time": "2023-10-11T07:19:01.297866Z"
    }
   },
   "id": "6f326deafc348097"
  },
  {
   "cell_type": "code",
   "execution_count": 270,
   "outputs": [],
   "source": [
    "df = pd.read_csv(\"r_data.csv\", header=None)\n",
    "dft = pd.read_csv(\"ax_times.csv\", header=None)\n",
    "dft\n",
    "scripts_r = df.merge(dft, on=0, how=\"left\")\n",
    "scripts_r.columns = [\"name\", \"grants\", \"size\", \"packages\", \"alters\", \"commands\", \"commits\", \"time\"]\n",
    "scripts_r.drop(855, inplace=True)\n",
    "scripts_r"
   ],
   "metadata": {
    "collapsed": false,
    "ExecuteTime": {
     "end_time": "2023-10-11T07:20:25.518923Z",
     "start_time": "2023-10-11T07:20:25.477978Z"
    }
   },
   "id": "d75047178a8a1ed"
  },
  {
   "cell_type": "code",
   "execution_count": 271,
   "outputs": [
    {
     "name": "stderr",
     "output_type": "stream",
     "text": [
      "/var/folders/51/l057c8xx2md597vhk47n57rm0000gn/T/ipykernel_23167/3460282070.py:1: FutureWarning: The frame.append method is deprecated and will be removed from pandas in a future version. Use pandas.concat instead.\n",
      "  merged = scripts.append(scripts_r)\n"
     ]
    }
   ],
   "source": [
    "merged = scripts.append(scripts_r)"
   ],
   "metadata": {
    "collapsed": false,
    "ExecuteTime": {
     "end_time": "2023-10-11T07:20:46.023799Z",
     "start_time": "2023-10-11T07:20:45.952568Z"
    }
   },
   "id": "ae026dbeeae423aa"
  },
  {
   "cell_type": "code",
   "execution_count": 272,
   "outputs": [
    {
     "data": {
      "text/plain": "                   name  grants  size  packages  alters  commands  commits  \\\n0     29033052_rollback       0    19         1       1         3        0   \n1        29201539_apply       0    12         0       0         3        0   \n2     29201539_rollback       0    12         0       0         3        0   \n3        30035598_apply       0     9         1       1         2        1   \n4        32131774_apply       0    28         0       0         5        0   \n...                 ...     ...   ...       ...     ...       ...      ...   \n1844           a1202000      11   193         0       0        43        2   \n1845             xsutil       0    34         1       0         7        0   \n1846           a1202000      11   193         0       0        43        2   \n1847             xsutil       0    34         1       0         7        0   \n1848           a1202000      11   193         0       0        43        2   \n\n       time  \n0     0.792  \n1     0.369  \n2     0.366  \n3     0.476  \n4     0.413  \n...     ...  \n1844  1.982  \n1845  0.720  \n1846  1.982  \n1847  0.720  \n1848  1.982  \n\n[2060 rows x 8 columns]",
      "text/html": "<div>\n<style scoped>\n    .dataframe tbody tr th:only-of-type {\n        vertical-align: middle;\n    }\n\n    .dataframe tbody tr th {\n        vertical-align: top;\n    }\n\n    .dataframe thead th {\n        text-align: right;\n    }\n</style>\n<table border=\"1\" class=\"dataframe\">\n  <thead>\n    <tr style=\"text-align: right;\">\n      <th></th>\n      <th>name</th>\n      <th>grants</th>\n      <th>size</th>\n      <th>packages</th>\n      <th>alters</th>\n      <th>commands</th>\n      <th>commits</th>\n      <th>time</th>\n    </tr>\n  </thead>\n  <tbody>\n    <tr>\n      <th>0</th>\n      <td>29033052_rollback</td>\n      <td>0</td>\n      <td>19</td>\n      <td>1</td>\n      <td>1</td>\n      <td>3</td>\n      <td>0</td>\n      <td>0.792</td>\n    </tr>\n    <tr>\n      <th>1</th>\n      <td>29201539_apply</td>\n      <td>0</td>\n      <td>12</td>\n      <td>0</td>\n      <td>0</td>\n      <td>3</td>\n      <td>0</td>\n      <td>0.369</td>\n    </tr>\n    <tr>\n      <th>2</th>\n      <td>29201539_rollback</td>\n      <td>0</td>\n      <td>12</td>\n      <td>0</td>\n      <td>0</td>\n      <td>3</td>\n      <td>0</td>\n      <td>0.366</td>\n    </tr>\n    <tr>\n      <th>3</th>\n      <td>30035598_apply</td>\n      <td>0</td>\n      <td>9</td>\n      <td>1</td>\n      <td>1</td>\n      <td>2</td>\n      <td>1</td>\n      <td>0.476</td>\n    </tr>\n    <tr>\n      <th>4</th>\n      <td>32131774_apply</td>\n      <td>0</td>\n      <td>28</td>\n      <td>0</td>\n      <td>0</td>\n      <td>5</td>\n      <td>0</td>\n      <td>0.413</td>\n    </tr>\n    <tr>\n      <th>...</th>\n      <td>...</td>\n      <td>...</td>\n      <td>...</td>\n      <td>...</td>\n      <td>...</td>\n      <td>...</td>\n      <td>...</td>\n      <td>...</td>\n    </tr>\n    <tr>\n      <th>1844</th>\n      <td>a1202000</td>\n      <td>11</td>\n      <td>193</td>\n      <td>0</td>\n      <td>0</td>\n      <td>43</td>\n      <td>2</td>\n      <td>1.982</td>\n    </tr>\n    <tr>\n      <th>1845</th>\n      <td>xsutil</td>\n      <td>0</td>\n      <td>34</td>\n      <td>1</td>\n      <td>0</td>\n      <td>7</td>\n      <td>0</td>\n      <td>0.720</td>\n    </tr>\n    <tr>\n      <th>1846</th>\n      <td>a1202000</td>\n      <td>11</td>\n      <td>193</td>\n      <td>0</td>\n      <td>0</td>\n      <td>43</td>\n      <td>2</td>\n      <td>1.982</td>\n    </tr>\n    <tr>\n      <th>1847</th>\n      <td>xsutil</td>\n      <td>0</td>\n      <td>34</td>\n      <td>1</td>\n      <td>0</td>\n      <td>7</td>\n      <td>0</td>\n      <td>0.720</td>\n    </tr>\n    <tr>\n      <th>1848</th>\n      <td>a1202000</td>\n      <td>11</td>\n      <td>193</td>\n      <td>0</td>\n      <td>0</td>\n      <td>43</td>\n      <td>2</td>\n      <td>1.982</td>\n    </tr>\n  </tbody>\n</table>\n<p>2060 rows × 8 columns</p>\n</div>"
     },
     "execution_count": 272,
     "metadata": {},
     "output_type": "execute_result"
    }
   ],
   "source": [
    "merged"
   ],
   "metadata": {
    "collapsed": false,
    "ExecuteTime": {
     "end_time": "2023-10-11T07:20:54.700959Z",
     "start_time": "2023-10-11T07:20:54.644069Z"
    }
   },
   "id": "1602ba7c547b60a7"
  },
  {
   "cell_type": "code",
   "execution_count": 279,
   "outputs": [],
   "source": [
    "odf.columns = [\"index\", \"name\", \"m_time\",\"size\", \"comp\", \"cat\"]"
   ],
   "metadata": {
    "collapsed": false,
    "ExecuteTime": {
     "end_time": "2023-10-11T07:22:54.300149Z",
     "start_time": "2023-10-11T07:22:54.275822Z"
    }
   },
   "id": "e642a2888a095299"
  },
  {
   "cell_type": "code",
   "execution_count": 280,
   "outputs": [
    {
     "data": {
      "text/plain": "     index                   name    m_time   size     comp  cat\n0        0     bug_29032457_apply  0.440389   1806  CATALOG    0\n1        1  bug_29032457_rollback  0.391759   1910  CATALOG    0\n2        2            catcdbviews  0.375893  17261  CATALOG    0\n3        3             cdcore_mig  0.514026  53531  CATALOG    0\n4        4            cdcore_cols  5.553594  74664  CATALOG    0\n..     ...                    ...       ...    ...      ...  ...\n410    410  bug_31639082_rollback  0.369549   2445  CATALOG    0\n411    411               prvtesch  0.408460  30537  CATPROC    0\n412    412     bug_32440681_apply  0.364746   1573  CATPROC    0\n413    413                 catqos  0.774490   7682  CATPROC    0\n414    414                prvtwlm  0.367662   7671  CATPROC    0\n\n[415 rows x 6 columns]",
      "text/html": "<div>\n<style scoped>\n    .dataframe tbody tr th:only-of-type {\n        vertical-align: middle;\n    }\n\n    .dataframe tbody tr th {\n        vertical-align: top;\n    }\n\n    .dataframe thead th {\n        text-align: right;\n    }\n</style>\n<table border=\"1\" class=\"dataframe\">\n  <thead>\n    <tr style=\"text-align: right;\">\n      <th></th>\n      <th>index</th>\n      <th>name</th>\n      <th>m_time</th>\n      <th>size</th>\n      <th>comp</th>\n      <th>cat</th>\n    </tr>\n  </thead>\n  <tbody>\n    <tr>\n      <th>0</th>\n      <td>0</td>\n      <td>bug_29032457_apply</td>\n      <td>0.440389</td>\n      <td>1806</td>\n      <td>CATALOG</td>\n      <td>0</td>\n    </tr>\n    <tr>\n      <th>1</th>\n      <td>1</td>\n      <td>bug_29032457_rollback</td>\n      <td>0.391759</td>\n      <td>1910</td>\n      <td>CATALOG</td>\n      <td>0</td>\n    </tr>\n    <tr>\n      <th>2</th>\n      <td>2</td>\n      <td>catcdbviews</td>\n      <td>0.375893</td>\n      <td>17261</td>\n      <td>CATALOG</td>\n      <td>0</td>\n    </tr>\n    <tr>\n      <th>3</th>\n      <td>3</td>\n      <td>cdcore_mig</td>\n      <td>0.514026</td>\n      <td>53531</td>\n      <td>CATALOG</td>\n      <td>0</td>\n    </tr>\n    <tr>\n      <th>4</th>\n      <td>4</td>\n      <td>cdcore_cols</td>\n      <td>5.553594</td>\n      <td>74664</td>\n      <td>CATALOG</td>\n      <td>0</td>\n    </tr>\n    <tr>\n      <th>...</th>\n      <td>...</td>\n      <td>...</td>\n      <td>...</td>\n      <td>...</td>\n      <td>...</td>\n      <td>...</td>\n    </tr>\n    <tr>\n      <th>410</th>\n      <td>410</td>\n      <td>bug_31639082_rollback</td>\n      <td>0.369549</td>\n      <td>2445</td>\n      <td>CATALOG</td>\n      <td>0</td>\n    </tr>\n    <tr>\n      <th>411</th>\n      <td>411</td>\n      <td>prvtesch</td>\n      <td>0.408460</td>\n      <td>30537</td>\n      <td>CATPROC</td>\n      <td>0</td>\n    </tr>\n    <tr>\n      <th>412</th>\n      <td>412</td>\n      <td>bug_32440681_apply</td>\n      <td>0.364746</td>\n      <td>1573</td>\n      <td>CATPROC</td>\n      <td>0</td>\n    </tr>\n    <tr>\n      <th>413</th>\n      <td>413</td>\n      <td>catqos</td>\n      <td>0.774490</td>\n      <td>7682</td>\n      <td>CATPROC</td>\n      <td>0</td>\n    </tr>\n    <tr>\n      <th>414</th>\n      <td>414</td>\n      <td>prvtwlm</td>\n      <td>0.367662</td>\n      <td>7671</td>\n      <td>CATPROC</td>\n      <td>0</td>\n    </tr>\n  </tbody>\n</table>\n<p>415 rows × 6 columns</p>\n</div>"
     },
     "execution_count": 280,
     "metadata": {},
     "output_type": "execute_result"
    }
   ],
   "source": [
    "odf"
   ],
   "metadata": {
    "collapsed": false,
    "ExecuteTime": {
     "end_time": "2023-10-11T07:22:54.858583Z",
     "start_time": "2023-10-11T07:22:54.832333Z"
    }
   },
   "id": "7b738c4550bd04e0"
  },
  {
   "cell_type": "code",
   "execution_count": 282,
   "outputs": [],
   "source": [
    "newdf = merged[merged[\"name\"].isin(odf[\"name\"])]"
   ],
   "metadata": {
    "collapsed": false,
    "ExecuteTime": {
     "end_time": "2023-10-11T07:23:47.250406Z",
     "start_time": "2023-10-11T07:23:47.219075Z"
    }
   },
   "id": "a86f8b69cb919237"
  },
  {
   "cell_type": "code",
   "execution_count": 284,
   "outputs": [
    {
     "data": {
      "text/plain": "                  name  grants  size_x  packages  alters  commands  commits  \\\n0    29033052_rollback       0      19         1       1         3        0   \n1       29201539_apply       0      12         0       0         3        0   \n2    29201539_rollback       0      12         0       0         3        0   \n3       30035598_apply       0       9         1       1         2        1   \n4       32131774_apply       0      28         0       0         5        0   \n..                 ...     ...     ...       ...     ...       ...      ...   \n309           standard       1      44         0       0         9        0   \n310            stdbody       0      16         0       0         3        0   \n311            stdspec       0      16         0       0         3        0   \n312            utlcoll       1      36         1       0         6        0   \n313           utlrcmp2       0      13         1       0         3        0   \n\n      time  index     m_time  size_y     comp  cat  \n0    0.792     75  10.342433    1618      SDO    1  \n1    0.369    406   0.396562    1654      SDO    1  \n2    0.366     52   0.367374    2060  CATALOG    0  \n3    0.476    120   0.499337   26727      SDO    0  \n4    0.413    407   0.830864    1908      SDO    1  \n..     ...    ...        ...     ...      ...  ...  \n309  0.456    211   0.416808     128  CATALOG    0  \n310  0.347    212   0.358807   19686  CATALOG    0  \n311  0.356    213   0.422126  148971  CATALOG    3  \n312  0.385    130   0.367739     769  CATPROC    0  \n313  0.430    345   0.386483    8424  CATPROC    0  \n\n[314 rows x 13 columns]",
      "text/html": "<div>\n<style scoped>\n    .dataframe tbody tr th:only-of-type {\n        vertical-align: middle;\n    }\n\n    .dataframe tbody tr th {\n        vertical-align: top;\n    }\n\n    .dataframe thead th {\n        text-align: right;\n    }\n</style>\n<table border=\"1\" class=\"dataframe\">\n  <thead>\n    <tr style=\"text-align: right;\">\n      <th></th>\n      <th>name</th>\n      <th>grants</th>\n      <th>size_x</th>\n      <th>packages</th>\n      <th>alters</th>\n      <th>commands</th>\n      <th>commits</th>\n      <th>time</th>\n      <th>index</th>\n      <th>m_time</th>\n      <th>size_y</th>\n      <th>comp</th>\n      <th>cat</th>\n    </tr>\n  </thead>\n  <tbody>\n    <tr>\n      <th>0</th>\n      <td>29033052_rollback</td>\n      <td>0</td>\n      <td>19</td>\n      <td>1</td>\n      <td>1</td>\n      <td>3</td>\n      <td>0</td>\n      <td>0.792</td>\n      <td>75</td>\n      <td>10.342433</td>\n      <td>1618</td>\n      <td>SDO</td>\n      <td>1</td>\n    </tr>\n    <tr>\n      <th>1</th>\n      <td>29201539_apply</td>\n      <td>0</td>\n      <td>12</td>\n      <td>0</td>\n      <td>0</td>\n      <td>3</td>\n      <td>0</td>\n      <td>0.369</td>\n      <td>406</td>\n      <td>0.396562</td>\n      <td>1654</td>\n      <td>SDO</td>\n      <td>1</td>\n    </tr>\n    <tr>\n      <th>2</th>\n      <td>29201539_rollback</td>\n      <td>0</td>\n      <td>12</td>\n      <td>0</td>\n      <td>0</td>\n      <td>3</td>\n      <td>0</td>\n      <td>0.366</td>\n      <td>52</td>\n      <td>0.367374</td>\n      <td>2060</td>\n      <td>CATALOG</td>\n      <td>0</td>\n    </tr>\n    <tr>\n      <th>3</th>\n      <td>30035598_apply</td>\n      <td>0</td>\n      <td>9</td>\n      <td>1</td>\n      <td>1</td>\n      <td>2</td>\n      <td>1</td>\n      <td>0.476</td>\n      <td>120</td>\n      <td>0.499337</td>\n      <td>26727</td>\n      <td>SDO</td>\n      <td>0</td>\n    </tr>\n    <tr>\n      <th>4</th>\n      <td>32131774_apply</td>\n      <td>0</td>\n      <td>28</td>\n      <td>0</td>\n      <td>0</td>\n      <td>5</td>\n      <td>0</td>\n      <td>0.413</td>\n      <td>407</td>\n      <td>0.830864</td>\n      <td>1908</td>\n      <td>SDO</td>\n      <td>1</td>\n    </tr>\n    <tr>\n      <th>...</th>\n      <td>...</td>\n      <td>...</td>\n      <td>...</td>\n      <td>...</td>\n      <td>...</td>\n      <td>...</td>\n      <td>...</td>\n      <td>...</td>\n      <td>...</td>\n      <td>...</td>\n      <td>...</td>\n      <td>...</td>\n      <td>...</td>\n    </tr>\n    <tr>\n      <th>309</th>\n      <td>standard</td>\n      <td>1</td>\n      <td>44</td>\n      <td>0</td>\n      <td>0</td>\n      <td>9</td>\n      <td>0</td>\n      <td>0.456</td>\n      <td>211</td>\n      <td>0.416808</td>\n      <td>128</td>\n      <td>CATALOG</td>\n      <td>0</td>\n    </tr>\n    <tr>\n      <th>310</th>\n      <td>stdbody</td>\n      <td>0</td>\n      <td>16</td>\n      <td>0</td>\n      <td>0</td>\n      <td>3</td>\n      <td>0</td>\n      <td>0.347</td>\n      <td>212</td>\n      <td>0.358807</td>\n      <td>19686</td>\n      <td>CATALOG</td>\n      <td>0</td>\n    </tr>\n    <tr>\n      <th>311</th>\n      <td>stdspec</td>\n      <td>0</td>\n      <td>16</td>\n      <td>0</td>\n      <td>0</td>\n      <td>3</td>\n      <td>0</td>\n      <td>0.356</td>\n      <td>213</td>\n      <td>0.422126</td>\n      <td>148971</td>\n      <td>CATALOG</td>\n      <td>3</td>\n    </tr>\n    <tr>\n      <th>312</th>\n      <td>utlcoll</td>\n      <td>1</td>\n      <td>36</td>\n      <td>1</td>\n      <td>0</td>\n      <td>6</td>\n      <td>0</td>\n      <td>0.385</td>\n      <td>130</td>\n      <td>0.367739</td>\n      <td>769</td>\n      <td>CATPROC</td>\n      <td>0</td>\n    </tr>\n    <tr>\n      <th>313</th>\n      <td>utlrcmp2</td>\n      <td>0</td>\n      <td>13</td>\n      <td>1</td>\n      <td>0</td>\n      <td>3</td>\n      <td>0</td>\n      <td>0.430</td>\n      <td>345</td>\n      <td>0.386483</td>\n      <td>8424</td>\n      <td>CATPROC</td>\n      <td>0</td>\n    </tr>\n  </tbody>\n</table>\n<p>314 rows × 13 columns</p>\n</div>"
     },
     "execution_count": 284,
     "metadata": {},
     "output_type": "execute_result"
    }
   ],
   "source": [
    "newdf.merge(odf, on=\"name\", how=\"left\")"
   ],
   "metadata": {
    "collapsed": false,
    "ExecuteTime": {
     "end_time": "2023-10-11T07:24:17.494939Z",
     "start_time": "2023-10-11T07:24:17.453217Z"
    }
   },
   "id": "5df82e6863304111"
  },
  {
   "cell_type": "code",
   "execution_count": 288,
   "outputs": [
    {
     "ename": "KeyError",
     "evalue": "\"['name'] not found in axis\"",
     "output_type": "error",
     "traceback": [
      "\u001B[0;31m---------------------------------------------------------------------------\u001B[0m",
      "\u001B[0;31mKeyError\u001B[0m                                  Traceback (most recent call last)",
      "Cell \u001B[0;32mIn[288], line 1\u001B[0m\n\u001B[0;32m----> 1\u001B[0m newdf\u001B[38;5;241m.\u001B[39mdrop(\u001B[38;5;124m\"\u001B[39m\u001B[38;5;124mname\u001B[39m\u001B[38;5;124m\"\u001B[39m, axis\u001B[38;5;241m=\u001B[39m\u001B[38;5;241m1\u001B[39m, inplace\u001B[38;5;241m=\u001B[39m\u001B[38;5;28;01mTrue\u001B[39;00m)\n\u001B[1;32m      2\u001B[0m newdf\n",
      "File \u001B[0;32m~/anaconda3/lib/python3.11/site-packages/pandas/util/_decorators.py:331\u001B[0m, in \u001B[0;36mdeprecate_nonkeyword_arguments.<locals>.decorate.<locals>.wrapper\u001B[0;34m(*args, **kwargs)\u001B[0m\n\u001B[1;32m    325\u001B[0m \u001B[38;5;28;01mif\u001B[39;00m \u001B[38;5;28mlen\u001B[39m(args) \u001B[38;5;241m>\u001B[39m num_allow_args:\n\u001B[1;32m    326\u001B[0m     warnings\u001B[38;5;241m.\u001B[39mwarn(\n\u001B[1;32m    327\u001B[0m         msg\u001B[38;5;241m.\u001B[39mformat(arguments\u001B[38;5;241m=\u001B[39m_format_argument_list(allow_args)),\n\u001B[1;32m    328\u001B[0m         \u001B[38;5;167;01mFutureWarning\u001B[39;00m,\n\u001B[1;32m    329\u001B[0m         stacklevel\u001B[38;5;241m=\u001B[39mfind_stack_level(),\n\u001B[1;32m    330\u001B[0m     )\n\u001B[0;32m--> 331\u001B[0m \u001B[38;5;28;01mreturn\u001B[39;00m func(\u001B[38;5;241m*\u001B[39margs, \u001B[38;5;241m*\u001B[39m\u001B[38;5;241m*\u001B[39mkwargs)\n",
      "File \u001B[0;32m~/anaconda3/lib/python3.11/site-packages/pandas/core/frame.py:5399\u001B[0m, in \u001B[0;36mDataFrame.drop\u001B[0;34m(self, labels, axis, index, columns, level, inplace, errors)\u001B[0m\n\u001B[1;32m   5251\u001B[0m \u001B[38;5;129m@deprecate_nonkeyword_arguments\u001B[39m(version\u001B[38;5;241m=\u001B[39m\u001B[38;5;28;01mNone\u001B[39;00m, allowed_args\u001B[38;5;241m=\u001B[39m[\u001B[38;5;124m\"\u001B[39m\u001B[38;5;124mself\u001B[39m\u001B[38;5;124m\"\u001B[39m, \u001B[38;5;124m\"\u001B[39m\u001B[38;5;124mlabels\u001B[39m\u001B[38;5;124m\"\u001B[39m])\n\u001B[1;32m   5252\u001B[0m \u001B[38;5;28;01mdef\u001B[39;00m \u001B[38;5;21mdrop\u001B[39m(  \u001B[38;5;66;03m# type: ignore[override]\u001B[39;00m\n\u001B[1;32m   5253\u001B[0m     \u001B[38;5;28mself\u001B[39m,\n\u001B[0;32m   (...)\u001B[0m\n\u001B[1;32m   5260\u001B[0m     errors: IgnoreRaise \u001B[38;5;241m=\u001B[39m \u001B[38;5;124m\"\u001B[39m\u001B[38;5;124mraise\u001B[39m\u001B[38;5;124m\"\u001B[39m,\n\u001B[1;32m   5261\u001B[0m ) \u001B[38;5;241m-\u001B[39m\u001B[38;5;241m>\u001B[39m DataFrame \u001B[38;5;241m|\u001B[39m \u001B[38;5;28;01mNone\u001B[39;00m:\n\u001B[1;32m   5262\u001B[0m \u001B[38;5;250m    \u001B[39m\u001B[38;5;124;03m\"\"\"\u001B[39;00m\n\u001B[1;32m   5263\u001B[0m \u001B[38;5;124;03m    Drop specified labels from rows or columns.\u001B[39;00m\n\u001B[1;32m   5264\u001B[0m \n\u001B[0;32m   (...)\u001B[0m\n\u001B[1;32m   5397\u001B[0m \u001B[38;5;124;03m            weight  1.0     0.8\u001B[39;00m\n\u001B[1;32m   5398\u001B[0m \u001B[38;5;124;03m    \"\"\"\u001B[39;00m\n\u001B[0;32m-> 5399\u001B[0m     \u001B[38;5;28;01mreturn\u001B[39;00m \u001B[38;5;28msuper\u001B[39m()\u001B[38;5;241m.\u001B[39mdrop(\n\u001B[1;32m   5400\u001B[0m         labels\u001B[38;5;241m=\u001B[39mlabels,\n\u001B[1;32m   5401\u001B[0m         axis\u001B[38;5;241m=\u001B[39maxis,\n\u001B[1;32m   5402\u001B[0m         index\u001B[38;5;241m=\u001B[39mindex,\n\u001B[1;32m   5403\u001B[0m         columns\u001B[38;5;241m=\u001B[39mcolumns,\n\u001B[1;32m   5404\u001B[0m         level\u001B[38;5;241m=\u001B[39mlevel,\n\u001B[1;32m   5405\u001B[0m         inplace\u001B[38;5;241m=\u001B[39minplace,\n\u001B[1;32m   5406\u001B[0m         errors\u001B[38;5;241m=\u001B[39merrors,\n\u001B[1;32m   5407\u001B[0m     )\n",
      "File \u001B[0;32m~/anaconda3/lib/python3.11/site-packages/pandas/util/_decorators.py:331\u001B[0m, in \u001B[0;36mdeprecate_nonkeyword_arguments.<locals>.decorate.<locals>.wrapper\u001B[0;34m(*args, **kwargs)\u001B[0m\n\u001B[1;32m    325\u001B[0m \u001B[38;5;28;01mif\u001B[39;00m \u001B[38;5;28mlen\u001B[39m(args) \u001B[38;5;241m>\u001B[39m num_allow_args:\n\u001B[1;32m    326\u001B[0m     warnings\u001B[38;5;241m.\u001B[39mwarn(\n\u001B[1;32m    327\u001B[0m         msg\u001B[38;5;241m.\u001B[39mformat(arguments\u001B[38;5;241m=\u001B[39m_format_argument_list(allow_args)),\n\u001B[1;32m    328\u001B[0m         \u001B[38;5;167;01mFutureWarning\u001B[39;00m,\n\u001B[1;32m    329\u001B[0m         stacklevel\u001B[38;5;241m=\u001B[39mfind_stack_level(),\n\u001B[1;32m    330\u001B[0m     )\n\u001B[0;32m--> 331\u001B[0m \u001B[38;5;28;01mreturn\u001B[39;00m func(\u001B[38;5;241m*\u001B[39margs, \u001B[38;5;241m*\u001B[39m\u001B[38;5;241m*\u001B[39mkwargs)\n",
      "File \u001B[0;32m~/anaconda3/lib/python3.11/site-packages/pandas/core/generic.py:4505\u001B[0m, in \u001B[0;36mNDFrame.drop\u001B[0;34m(self, labels, axis, index, columns, level, inplace, errors)\u001B[0m\n\u001B[1;32m   4503\u001B[0m \u001B[38;5;28;01mfor\u001B[39;00m axis, labels \u001B[38;5;129;01min\u001B[39;00m axes\u001B[38;5;241m.\u001B[39mitems():\n\u001B[1;32m   4504\u001B[0m     \u001B[38;5;28;01mif\u001B[39;00m labels \u001B[38;5;129;01mis\u001B[39;00m \u001B[38;5;129;01mnot\u001B[39;00m \u001B[38;5;28;01mNone\u001B[39;00m:\n\u001B[0;32m-> 4505\u001B[0m         obj \u001B[38;5;241m=\u001B[39m obj\u001B[38;5;241m.\u001B[39m_drop_axis(labels, axis, level\u001B[38;5;241m=\u001B[39mlevel, errors\u001B[38;5;241m=\u001B[39merrors)\n\u001B[1;32m   4507\u001B[0m \u001B[38;5;28;01mif\u001B[39;00m inplace:\n\u001B[1;32m   4508\u001B[0m     \u001B[38;5;28mself\u001B[39m\u001B[38;5;241m.\u001B[39m_update_inplace(obj)\n",
      "File \u001B[0;32m~/anaconda3/lib/python3.11/site-packages/pandas/core/generic.py:4546\u001B[0m, in \u001B[0;36mNDFrame._drop_axis\u001B[0;34m(self, labels, axis, level, errors, only_slice)\u001B[0m\n\u001B[1;32m   4544\u001B[0m         new_axis \u001B[38;5;241m=\u001B[39m axis\u001B[38;5;241m.\u001B[39mdrop(labels, level\u001B[38;5;241m=\u001B[39mlevel, errors\u001B[38;5;241m=\u001B[39merrors)\n\u001B[1;32m   4545\u001B[0m     \u001B[38;5;28;01melse\u001B[39;00m:\n\u001B[0;32m-> 4546\u001B[0m         new_axis \u001B[38;5;241m=\u001B[39m axis\u001B[38;5;241m.\u001B[39mdrop(labels, errors\u001B[38;5;241m=\u001B[39merrors)\n\u001B[1;32m   4547\u001B[0m     indexer \u001B[38;5;241m=\u001B[39m axis\u001B[38;5;241m.\u001B[39mget_indexer(new_axis)\n\u001B[1;32m   4549\u001B[0m \u001B[38;5;66;03m# Case for non-unique axis\u001B[39;00m\n\u001B[1;32m   4550\u001B[0m \u001B[38;5;28;01melse\u001B[39;00m:\n",
      "File \u001B[0;32m~/anaconda3/lib/python3.11/site-packages/pandas/core/indexes/base.py:6934\u001B[0m, in \u001B[0;36mIndex.drop\u001B[0;34m(self, labels, errors)\u001B[0m\n\u001B[1;32m   6932\u001B[0m \u001B[38;5;28;01mif\u001B[39;00m mask\u001B[38;5;241m.\u001B[39many():\n\u001B[1;32m   6933\u001B[0m     \u001B[38;5;28;01mif\u001B[39;00m errors \u001B[38;5;241m!=\u001B[39m \u001B[38;5;124m\"\u001B[39m\u001B[38;5;124mignore\u001B[39m\u001B[38;5;124m\"\u001B[39m:\n\u001B[0;32m-> 6934\u001B[0m         \u001B[38;5;28;01mraise\u001B[39;00m \u001B[38;5;167;01mKeyError\u001B[39;00m(\u001B[38;5;124mf\u001B[39m\u001B[38;5;124m\"\u001B[39m\u001B[38;5;132;01m{\u001B[39;00m\u001B[38;5;28mlist\u001B[39m(labels[mask])\u001B[38;5;132;01m}\u001B[39;00m\u001B[38;5;124m not found in axis\u001B[39m\u001B[38;5;124m\"\u001B[39m)\n\u001B[1;32m   6935\u001B[0m     indexer \u001B[38;5;241m=\u001B[39m indexer[\u001B[38;5;241m~\u001B[39mmask]\n\u001B[1;32m   6936\u001B[0m \u001B[38;5;28;01mreturn\u001B[39;00m \u001B[38;5;28mself\u001B[39m\u001B[38;5;241m.\u001B[39mdelete(indexer)\n",
      "\u001B[0;31mKeyError\u001B[0m: \"['name'] not found in axis\""
     ]
    }
   ],
   "source": [
    "newdf.drop(\"name\", axis=1, inplace=True)\n"
   ],
   "metadata": {
    "collapsed": false,
    "ExecuteTime": {
     "end_time": "2023-10-11T07:25:59.204222Z",
     "start_time": "2023-10-11T07:25:59.142993Z"
    }
   },
   "id": "efc4d15bf95625bf"
  },
  {
   "cell_type": "code",
   "execution_count": 289,
   "outputs": [
    {
     "data": {
      "text/plain": "      grants  size  packages  alters  commands  commits   time\n0          0    19         1       1         3        0  0.792\n1          0    12         0       0         3        0  0.369\n2          0    12         0       0         3        0  0.366\n3          0     9         1       1         2        1  0.476\n4          0    28         0       0         5        0  0.413\n...      ...   ...       ...     ...       ...      ...    ...\n1646       1    44         0       0         9        0  0.456\n1647       0    16         0       0         3        0  0.347\n1648       0    16         0       0         3        0  0.356\n1662       1    36         1       0         6        0  0.385\n1704       0    13         1       0         3        0  0.430\n\n[314 rows x 7 columns]",
      "text/html": "<div>\n<style scoped>\n    .dataframe tbody tr th:only-of-type {\n        vertical-align: middle;\n    }\n\n    .dataframe tbody tr th {\n        vertical-align: top;\n    }\n\n    .dataframe thead th {\n        text-align: right;\n    }\n</style>\n<table border=\"1\" class=\"dataframe\">\n  <thead>\n    <tr style=\"text-align: right;\">\n      <th></th>\n      <th>grants</th>\n      <th>size</th>\n      <th>packages</th>\n      <th>alters</th>\n      <th>commands</th>\n      <th>commits</th>\n      <th>time</th>\n    </tr>\n  </thead>\n  <tbody>\n    <tr>\n      <th>0</th>\n      <td>0</td>\n      <td>19</td>\n      <td>1</td>\n      <td>1</td>\n      <td>3</td>\n      <td>0</td>\n      <td>0.792</td>\n    </tr>\n    <tr>\n      <th>1</th>\n      <td>0</td>\n      <td>12</td>\n      <td>0</td>\n      <td>0</td>\n      <td>3</td>\n      <td>0</td>\n      <td>0.369</td>\n    </tr>\n    <tr>\n      <th>2</th>\n      <td>0</td>\n      <td>12</td>\n      <td>0</td>\n      <td>0</td>\n      <td>3</td>\n      <td>0</td>\n      <td>0.366</td>\n    </tr>\n    <tr>\n      <th>3</th>\n      <td>0</td>\n      <td>9</td>\n      <td>1</td>\n      <td>1</td>\n      <td>2</td>\n      <td>1</td>\n      <td>0.476</td>\n    </tr>\n    <tr>\n      <th>4</th>\n      <td>0</td>\n      <td>28</td>\n      <td>0</td>\n      <td>0</td>\n      <td>5</td>\n      <td>0</td>\n      <td>0.413</td>\n    </tr>\n    <tr>\n      <th>...</th>\n      <td>...</td>\n      <td>...</td>\n      <td>...</td>\n      <td>...</td>\n      <td>...</td>\n      <td>...</td>\n      <td>...</td>\n    </tr>\n    <tr>\n      <th>1646</th>\n      <td>1</td>\n      <td>44</td>\n      <td>0</td>\n      <td>0</td>\n      <td>9</td>\n      <td>0</td>\n      <td>0.456</td>\n    </tr>\n    <tr>\n      <th>1647</th>\n      <td>0</td>\n      <td>16</td>\n      <td>0</td>\n      <td>0</td>\n      <td>3</td>\n      <td>0</td>\n      <td>0.347</td>\n    </tr>\n    <tr>\n      <th>1648</th>\n      <td>0</td>\n      <td>16</td>\n      <td>0</td>\n      <td>0</td>\n      <td>3</td>\n      <td>0</td>\n      <td>0.356</td>\n    </tr>\n    <tr>\n      <th>1662</th>\n      <td>1</td>\n      <td>36</td>\n      <td>1</td>\n      <td>0</td>\n      <td>6</td>\n      <td>0</td>\n      <td>0.385</td>\n    </tr>\n    <tr>\n      <th>1704</th>\n      <td>0</td>\n      <td>13</td>\n      <td>1</td>\n      <td>0</td>\n      <td>3</td>\n      <td>0</td>\n      <td>0.430</td>\n    </tr>\n  </tbody>\n</table>\n<p>314 rows × 7 columns</p>\n</div>"
     },
     "execution_count": 289,
     "metadata": {},
     "output_type": "execute_result"
    }
   ],
   "source": [
    "newdf"
   ],
   "metadata": {
    "collapsed": false,
    "ExecuteTime": {
     "end_time": "2023-10-11T07:26:07.944733Z",
     "start_time": "2023-10-11T07:26:07.920920Z"
    }
   },
   "id": "ebdc4db270b98dc8"
  },
  {
   "cell_type": "code",
   "execution_count": 290,
   "outputs": [],
   "source": [
    "newdf.to_csv(\"cross_validation_data.csv\", index=False)"
   ],
   "metadata": {
    "collapsed": false,
    "ExecuteTime": {
     "end_time": "2023-10-11T07:26:12.783278Z",
     "start_time": "2023-10-11T07:26:12.758003Z"
    }
   },
   "id": "a70ad2e6996b7fd3"
  },
  {
   "cell_type": "code",
   "execution_count": 291,
   "outputs": [
    {
     "data": {
      "text/plain": "     index                   name    m_time   size     comp  cat\n0        0     bug_29032457_apply  0.440389   1806  CATALOG    0\n1        1  bug_29032457_rollback  0.391759   1910  CATALOG    0\n2        2            catcdbviews  0.375893  17261  CATALOG    0\n3        3             cdcore_mig  0.514026  53531  CATALOG    0\n4        4            cdcore_cols  5.553594  74664  CATALOG    0\n..     ...                    ...       ...    ...      ...  ...\n410    410  bug_31639082_rollback  0.369549   2445  CATALOG    0\n411    411               prvtesch  0.408460  30537  CATPROC    0\n412    412     bug_32440681_apply  0.364746   1573  CATPROC    0\n413    413                 catqos  0.774490   7682  CATPROC    0\n414    414                prvtwlm  0.367662   7671  CATPROC    0\n\n[415 rows x 6 columns]",
      "text/html": "<div>\n<style scoped>\n    .dataframe tbody tr th:only-of-type {\n        vertical-align: middle;\n    }\n\n    .dataframe tbody tr th {\n        vertical-align: top;\n    }\n\n    .dataframe thead th {\n        text-align: right;\n    }\n</style>\n<table border=\"1\" class=\"dataframe\">\n  <thead>\n    <tr style=\"text-align: right;\">\n      <th></th>\n      <th>index</th>\n      <th>name</th>\n      <th>m_time</th>\n      <th>size</th>\n      <th>comp</th>\n      <th>cat</th>\n    </tr>\n  </thead>\n  <tbody>\n    <tr>\n      <th>0</th>\n      <td>0</td>\n      <td>bug_29032457_apply</td>\n      <td>0.440389</td>\n      <td>1806</td>\n      <td>CATALOG</td>\n      <td>0</td>\n    </tr>\n    <tr>\n      <th>1</th>\n      <td>1</td>\n      <td>bug_29032457_rollback</td>\n      <td>0.391759</td>\n      <td>1910</td>\n      <td>CATALOG</td>\n      <td>0</td>\n    </tr>\n    <tr>\n      <th>2</th>\n      <td>2</td>\n      <td>catcdbviews</td>\n      <td>0.375893</td>\n      <td>17261</td>\n      <td>CATALOG</td>\n      <td>0</td>\n    </tr>\n    <tr>\n      <th>3</th>\n      <td>3</td>\n      <td>cdcore_mig</td>\n      <td>0.514026</td>\n      <td>53531</td>\n      <td>CATALOG</td>\n      <td>0</td>\n    </tr>\n    <tr>\n      <th>4</th>\n      <td>4</td>\n      <td>cdcore_cols</td>\n      <td>5.553594</td>\n      <td>74664</td>\n      <td>CATALOG</td>\n      <td>0</td>\n    </tr>\n    <tr>\n      <th>...</th>\n      <td>...</td>\n      <td>...</td>\n      <td>...</td>\n      <td>...</td>\n      <td>...</td>\n      <td>...</td>\n    </tr>\n    <tr>\n      <th>410</th>\n      <td>410</td>\n      <td>bug_31639082_rollback</td>\n      <td>0.369549</td>\n      <td>2445</td>\n      <td>CATALOG</td>\n      <td>0</td>\n    </tr>\n    <tr>\n      <th>411</th>\n      <td>411</td>\n      <td>prvtesch</td>\n      <td>0.408460</td>\n      <td>30537</td>\n      <td>CATPROC</td>\n      <td>0</td>\n    </tr>\n    <tr>\n      <th>412</th>\n      <td>412</td>\n      <td>bug_32440681_apply</td>\n      <td>0.364746</td>\n      <td>1573</td>\n      <td>CATPROC</td>\n      <td>0</td>\n    </tr>\n    <tr>\n      <th>413</th>\n      <td>413</td>\n      <td>catqos</td>\n      <td>0.774490</td>\n      <td>7682</td>\n      <td>CATPROC</td>\n      <td>0</td>\n    </tr>\n    <tr>\n      <th>414</th>\n      <td>414</td>\n      <td>prvtwlm</td>\n      <td>0.367662</td>\n      <td>7671</td>\n      <td>CATPROC</td>\n      <td>0</td>\n    </tr>\n  </tbody>\n</table>\n<p>415 rows × 6 columns</p>\n</div>"
     },
     "execution_count": 291,
     "metadata": {},
     "output_type": "execute_result"
    }
   ],
   "source": [
    "odf"
   ],
   "metadata": {
    "collapsed": false,
    "ExecuteTime": {
     "end_time": "2023-10-11T08:12:43.670596Z",
     "start_time": "2023-10-11T08:12:43.614172Z"
    }
   },
   "id": "3b5f8bbceab0a368"
  },
  {
   "cell_type": "code",
   "execution_count": 292,
   "outputs": [
    {
     "data": {
      "text/plain": "        name  grants   size  packages  alters  commands  commits    time\n13  catmdloc     458  10148        78      79       633       59  38.415",
      "text/html": "<div>\n<style scoped>\n    .dataframe tbody tr th:only-of-type {\n        vertical-align: middle;\n    }\n\n    .dataframe tbody tr th {\n        vertical-align: top;\n    }\n\n    .dataframe thead th {\n        text-align: right;\n    }\n</style>\n<table border=\"1\" class=\"dataframe\">\n  <thead>\n    <tr style=\"text-align: right;\">\n      <th></th>\n      <th>name</th>\n      <th>grants</th>\n      <th>size</th>\n      <th>packages</th>\n      <th>alters</th>\n      <th>commands</th>\n      <th>commits</th>\n      <th>time</th>\n    </tr>\n  </thead>\n  <tbody>\n    <tr>\n      <th>13</th>\n      <td>catmdloc</td>\n      <td>458</td>\n      <td>10148</td>\n      <td>78</td>\n      <td>79</td>\n      <td>633</td>\n      <td>59</td>\n      <td>38.415</td>\n    </tr>\n  </tbody>\n</table>\n</div>"
     },
     "execution_count": 292,
     "metadata": {},
     "output_type": "execute_result"
    }
   ],
   "source": [
    "merged[merged[\"name\"] == \"catmdloc\"]"
   ],
   "metadata": {
    "collapsed": false,
    "ExecuteTime": {
     "end_time": "2023-10-11T08:13:53.399235Z",
     "start_time": "2023-10-11T08:13:53.335175Z"
    }
   },
   "id": "b7bdfad005036b1b"
  },
  {
   "cell_type": "code",
   "execution_count": 293,
   "outputs": [],
   "source": [
    "newdf = merged[merged[\"name\"].isin(odf[\"name\"])]"
   ],
   "metadata": {
    "collapsed": false,
    "ExecuteTime": {
     "end_time": "2023-10-11T08:14:22.311393Z",
     "start_time": "2023-10-11T08:14:22.228936Z"
    }
   },
   "id": "da06d2ca03586b40"
  },
  {
   "cell_type": "code",
   "execution_count": 295,
   "outputs": [
    {
     "data": {
      "text/plain": "        name  grants   size  packages  alters  commands  commits    time\n13  catmdloc     458  10148        78      79       633       59  38.415",
      "text/html": "<div>\n<style scoped>\n    .dataframe tbody tr th:only-of-type {\n        vertical-align: middle;\n    }\n\n    .dataframe tbody tr th {\n        vertical-align: top;\n    }\n\n    .dataframe thead th {\n        text-align: right;\n    }\n</style>\n<table border=\"1\" class=\"dataframe\">\n  <thead>\n    <tr style=\"text-align: right;\">\n      <th></th>\n      <th>name</th>\n      <th>grants</th>\n      <th>size</th>\n      <th>packages</th>\n      <th>alters</th>\n      <th>commands</th>\n      <th>commits</th>\n      <th>time</th>\n    </tr>\n  </thead>\n  <tbody>\n    <tr>\n      <th>13</th>\n      <td>catmdloc</td>\n      <td>458</td>\n      <td>10148</td>\n      <td>78</td>\n      <td>79</td>\n      <td>633</td>\n      <td>59</td>\n      <td>38.415</td>\n    </tr>\n  </tbody>\n</table>\n</div>"
     },
     "execution_count": 295,
     "metadata": {},
     "output_type": "execute_result"
    }
   ],
   "source": [
    "newdf[newdf[\"name\"] == \"catmdloc\"]"
   ],
   "metadata": {
    "collapsed": false,
    "ExecuteTime": {
     "end_time": "2023-10-11T08:14:51.521018Z",
     "start_time": "2023-10-11T08:14:51.498486Z"
    }
   },
   "id": "13ebf4c67b3527b7"
  },
  {
   "cell_type": "code",
   "execution_count": 321,
   "outputs": [],
   "source": [
    "merged = merged[merged[\"time\"].astype(\"float\")  > 2]\n",
    "merged[\"time\"] = merged[\"time\"].astype(\"float\")"
   ],
   "metadata": {
    "collapsed": false,
    "ExecuteTime": {
     "end_time": "2023-10-11T08:23:36.894294Z",
     "start_time": "2023-10-11T08:23:36.867910Z"
    }
   },
   "id": "98a5f2e77e8cba7c"
  },
  {
   "cell_type": "code",
   "execution_count": 351,
   "outputs": [],
   "source": [
    "from sklearn.model_selection import train_test_split\n",
    "\n",
    "X_train, X_test, y_train, y_test = train_test_split(\n",
    "    merged.drop([\"time\", \"name\"], axis=1), merged[\"time\"], test_size=0.2, random_state=10\n",
    ")\n"
   ],
   "metadata": {
    "collapsed": false,
    "ExecuteTime": {
     "end_time": "2023-10-11T08:41:34.603028Z",
     "start_time": "2023-10-11T08:41:34.577095Z"
    }
   },
   "id": "d14c819dd3b5a125"
  },
  {
   "cell_type": "code",
   "execution_count": 352,
   "outputs": [
    {
     "data": {
      "text/plain": "      grants   size  packages  alters  commands  commits\n774        0     68         3       2         9        0\n362      328  12600         0       0      3150        0\n818        0    168         3       2        24        0\n361     1387  16668         0       0      4167        0\n721       53  41382       301      45      9530      165\n...      ...    ...       ...     ...       ...      ...\n1012       0     70         1       7         9        0\n350       21    964         0       0       241        0\n259        0   1172         0       0       188       11\n29        64   3184       122     109       599        3\n270       47   2286        55      31       498        3\n\n[207 rows x 6 columns]",
      "text/html": "<div>\n<style scoped>\n    .dataframe tbody tr th:only-of-type {\n        vertical-align: middle;\n    }\n\n    .dataframe tbody tr th {\n        vertical-align: top;\n    }\n\n    .dataframe thead th {\n        text-align: right;\n    }\n</style>\n<table border=\"1\" class=\"dataframe\">\n  <thead>\n    <tr style=\"text-align: right;\">\n      <th></th>\n      <th>grants</th>\n      <th>size</th>\n      <th>packages</th>\n      <th>alters</th>\n      <th>commands</th>\n      <th>commits</th>\n    </tr>\n  </thead>\n  <tbody>\n    <tr>\n      <th>774</th>\n      <td>0</td>\n      <td>68</td>\n      <td>3</td>\n      <td>2</td>\n      <td>9</td>\n      <td>0</td>\n    </tr>\n    <tr>\n      <th>362</th>\n      <td>328</td>\n      <td>12600</td>\n      <td>0</td>\n      <td>0</td>\n      <td>3150</td>\n      <td>0</td>\n    </tr>\n    <tr>\n      <th>818</th>\n      <td>0</td>\n      <td>168</td>\n      <td>3</td>\n      <td>2</td>\n      <td>24</td>\n      <td>0</td>\n    </tr>\n    <tr>\n      <th>361</th>\n      <td>1387</td>\n      <td>16668</td>\n      <td>0</td>\n      <td>0</td>\n      <td>4167</td>\n      <td>0</td>\n    </tr>\n    <tr>\n      <th>721</th>\n      <td>53</td>\n      <td>41382</td>\n      <td>301</td>\n      <td>45</td>\n      <td>9530</td>\n      <td>165</td>\n    </tr>\n    <tr>\n      <th>...</th>\n      <td>...</td>\n      <td>...</td>\n      <td>...</td>\n      <td>...</td>\n      <td>...</td>\n      <td>...</td>\n    </tr>\n    <tr>\n      <th>1012</th>\n      <td>0</td>\n      <td>70</td>\n      <td>1</td>\n      <td>7</td>\n      <td>9</td>\n      <td>0</td>\n    </tr>\n    <tr>\n      <th>350</th>\n      <td>21</td>\n      <td>964</td>\n      <td>0</td>\n      <td>0</td>\n      <td>241</td>\n      <td>0</td>\n    </tr>\n    <tr>\n      <th>259</th>\n      <td>0</td>\n      <td>1172</td>\n      <td>0</td>\n      <td>0</td>\n      <td>188</td>\n      <td>11</td>\n    </tr>\n    <tr>\n      <th>29</th>\n      <td>64</td>\n      <td>3184</td>\n      <td>122</td>\n      <td>109</td>\n      <td>599</td>\n      <td>3</td>\n    </tr>\n    <tr>\n      <th>270</th>\n      <td>47</td>\n      <td>2286</td>\n      <td>55</td>\n      <td>31</td>\n      <td>498</td>\n      <td>3</td>\n    </tr>\n  </tbody>\n</table>\n<p>207 rows × 6 columns</p>\n</div>"
     },
     "execution_count": 352,
     "metadata": {},
     "output_type": "execute_result"
    }
   ],
   "source": [
    "X_train"
   ],
   "metadata": {
    "collapsed": false,
    "ExecuteTime": {
     "end_time": "2023-10-11T08:41:34.998297Z",
     "start_time": "2023-10-11T08:41:34.945428Z"
    }
   },
   "id": "215322fac742eaca"
  },
  {
   "cell_type": "code",
   "execution_count": 360,
   "outputs": [
    {
     "data": {
      "text/plain": "        name  grants    size  packages  alters  commands  commits      time\n153  sdoe101      21   21705       536     459       907        8  2604.772\n154  sdoe102       0     658        20      20       110        0   438.160\n156  sdoe112       0     236         6       6        41        0  1973.435\n208  catmeta    1052   28087         0       0      7020        0   426.948\n278  catpcat   12985  772433      5120    2054     57015      674  1583.030\n295  catproc    9882  706581      5083    2035     39998      669   905.790",
      "text/html": "<div>\n<style scoped>\n    .dataframe tbody tr th:only-of-type {\n        vertical-align: middle;\n    }\n\n    .dataframe tbody tr th {\n        vertical-align: top;\n    }\n\n    .dataframe thead th {\n        text-align: right;\n    }\n</style>\n<table border=\"1\" class=\"dataframe\">\n  <thead>\n    <tr style=\"text-align: right;\">\n      <th></th>\n      <th>name</th>\n      <th>grants</th>\n      <th>size</th>\n      <th>packages</th>\n      <th>alters</th>\n      <th>commands</th>\n      <th>commits</th>\n      <th>time</th>\n    </tr>\n  </thead>\n  <tbody>\n    <tr>\n      <th>153</th>\n      <td>sdoe101</td>\n      <td>21</td>\n      <td>21705</td>\n      <td>536</td>\n      <td>459</td>\n      <td>907</td>\n      <td>8</td>\n      <td>2604.772</td>\n    </tr>\n    <tr>\n      <th>154</th>\n      <td>sdoe102</td>\n      <td>0</td>\n      <td>658</td>\n      <td>20</td>\n      <td>20</td>\n      <td>110</td>\n      <td>0</td>\n      <td>438.160</td>\n    </tr>\n    <tr>\n      <th>156</th>\n      <td>sdoe112</td>\n      <td>0</td>\n      <td>236</td>\n      <td>6</td>\n      <td>6</td>\n      <td>41</td>\n      <td>0</td>\n      <td>1973.435</td>\n    </tr>\n    <tr>\n      <th>208</th>\n      <td>catmeta</td>\n      <td>1052</td>\n      <td>28087</td>\n      <td>0</td>\n      <td>0</td>\n      <td>7020</td>\n      <td>0</td>\n      <td>426.948</td>\n    </tr>\n    <tr>\n      <th>278</th>\n      <td>catpcat</td>\n      <td>12985</td>\n      <td>772433</td>\n      <td>5120</td>\n      <td>2054</td>\n      <td>57015</td>\n      <td>674</td>\n      <td>1583.030</td>\n    </tr>\n    <tr>\n      <th>295</th>\n      <td>catproc</td>\n      <td>9882</td>\n      <td>706581</td>\n      <td>5083</td>\n      <td>2035</td>\n      <td>39998</td>\n      <td>669</td>\n      <td>905.790</td>\n    </tr>\n  </tbody>\n</table>\n</div>"
     },
     "execution_count": 360,
     "metadata": {},
     "output_type": "execute_result"
    }
   ],
   "source": [
    "merged[merged[\"time\"] > 300]"
   ],
   "metadata": {
    "collapsed": false,
    "ExecuteTime": {
     "end_time": "2023-10-11T08:43:00.526241Z",
     "start_time": "2023-10-11T08:43:00.498980Z"
    }
   },
   "id": "98eefb5fa61014c8"
  },
  {
   "cell_type": "code",
   "execution_count": 353,
   "outputs": [],
   "source": [
    "lala = pd.DataFrame(X_test)"
   ],
   "metadata": {
    "collapsed": false,
    "ExecuteTime": {
     "end_time": "2023-10-11T08:41:35.508152Z",
     "start_time": "2023-10-11T08:41:35.461779Z"
    }
   },
   "id": "cb30397257f99ce5"
  },
  {
   "cell_type": "code",
   "execution_count": 354,
   "outputs": [],
   "source": [
    "lala[\"time\"] = y_test"
   ],
   "metadata": {
    "collapsed": false,
    "ExecuteTime": {
     "end_time": "2023-10-11T08:41:36.334211Z",
     "start_time": "2023-10-11T08:41:36.284731Z"
    }
   },
   "id": "6e5230b42362900d"
  },
  {
   "cell_type": "code",
   "execution_count": 362,
   "outputs": [
    {
     "name": "stderr",
     "output_type": "stream",
     "text": [
      "/var/folders/51/l057c8xx2md597vhk47n57rm0000gn/T/ipykernel_23167/4281821357.py:1: FutureWarning: The frame.append method is deprecated and will be removed from pandas in a future version. Use pandas.concat instead.\n",
      "  lala.append(merged.loc[208])\n"
     ]
    },
    {
     "data": {
      "text/plain": "      grants   size  packages  alters  commands  commits     time     name\n835        1     48         4       2         7        0    2.576      NaN\n832        2    646        16       8       132        4    3.518      NaN\n791        0    121         1       0        10        0    2.519      NaN\n87      3104  68249        14       5     17004        8  177.030      NaN\n213       37   2278         0       0       568        0    9.412      NaN\n1748      58   7769       122      22       386       95    5.556      NaN\n1513       1    148        19      14        15        0    9.789      NaN\n14         0    235         0       0         9        0   27.398      NaN\n163      176   1532         2       2       293        0    6.583      NaN\n1810       0    181         1       0        31        0    2.713      NaN\n545       21    201         2       0        49        0    2.760      NaN\n908       72   1593         4       0       260       13    2.175      NaN\n61         0     20         1       1         3        0    3.546      NaN\n20       256  14413       338     240      1775       12   66.472      NaN\n157        0   2108         0       0        86       42    5.247      NaN\n244        0  15751         1       7      1125        0    2.635      NaN\n318       49   1828         0       6       367        2    4.435      NaN\n71       112  12579        54       6      2155       61   22.692      NaN\n354       24   1357         0       0       331        0    5.019      NaN\n790        0    157         1       0        32        7   12.470      NaN\n27         0     18         0       0         0        0    4.776      NaN\n240        0    168         3       3        19        0    2.001      NaN\n70        80  27222        65       6      5200       85   58.481      NaN\n211        0  19496         0       0      4874        0    8.171      NaN\n73        14   3369        35       1       552       20    4.863      NaN\n48       763  24730       491     399       710       80  133.464      NaN\n365      114   4680         0       0      1170        0   15.035      NaN\n133        0    190        20      23        20        0    3.171      NaN\n82        83   1020         0       0       255        0    3.753      NaN\n80        96   1164         0       0       291        0    2.078      NaN\n348       55   2142         0       0       531        0    5.213      NaN\n1791       0    484         0       0        43        0    7.764      NaN\n164        0   1351         3       3       244       30    3.590      NaN\n700        0    768         0       0       192        0    4.381      NaN\n901        0     12         1       1         3        0    2.659      NaN\n865        0     12         1       0         3        0    2.887      NaN\n230        0    527        22      10        95        1    2.514      NaN\n1771     478  32642       388     184      1300       38   45.020      NaN\n1636       0     31         0       0         0        0    2.332      NaN\n16        27   1946        47      30       360        3   16.191      NaN\n1581       0    104         3       3        21        0   66.216      NaN\n1831      14   2233        52      20       172        2    2.294      NaN\n90         1     25         1       1         5        0    2.410      NaN\n170       48    842        12       6       185        2    3.835      NaN\n1639       0     27         0       0         0        0    2.023      NaN\n42         2    379         1       2        82        0   11.714      NaN\n894        4   7431       341     317       438        0   13.734      NaN\n1577       0     12         0       0         3        0    2.330      NaN\n112      148   2912         0       0       638        0    5.691      NaN\n217        5    125        14       0        30        0  218.844      NaN\n9         62   1268        13       7       242        2    5.014      NaN\n722       79  33998       158      26      5311      117   40.380      NaN\n208     1052  28087         0       0      7020        0  426.948  catmeta",
      "text/html": "<div>\n<style scoped>\n    .dataframe tbody tr th:only-of-type {\n        vertical-align: middle;\n    }\n\n    .dataframe tbody tr th {\n        vertical-align: top;\n    }\n\n    .dataframe thead th {\n        text-align: right;\n    }\n</style>\n<table border=\"1\" class=\"dataframe\">\n  <thead>\n    <tr style=\"text-align: right;\">\n      <th></th>\n      <th>grants</th>\n      <th>size</th>\n      <th>packages</th>\n      <th>alters</th>\n      <th>commands</th>\n      <th>commits</th>\n      <th>time</th>\n      <th>name</th>\n    </tr>\n  </thead>\n  <tbody>\n    <tr>\n      <th>835</th>\n      <td>1</td>\n      <td>48</td>\n      <td>4</td>\n      <td>2</td>\n      <td>7</td>\n      <td>0</td>\n      <td>2.576</td>\n      <td>NaN</td>\n    </tr>\n    <tr>\n      <th>832</th>\n      <td>2</td>\n      <td>646</td>\n      <td>16</td>\n      <td>8</td>\n      <td>132</td>\n      <td>4</td>\n      <td>3.518</td>\n      <td>NaN</td>\n    </tr>\n    <tr>\n      <th>791</th>\n      <td>0</td>\n      <td>121</td>\n      <td>1</td>\n      <td>0</td>\n      <td>10</td>\n      <td>0</td>\n      <td>2.519</td>\n      <td>NaN</td>\n    </tr>\n    <tr>\n      <th>87</th>\n      <td>3104</td>\n      <td>68249</td>\n      <td>14</td>\n      <td>5</td>\n      <td>17004</td>\n      <td>8</td>\n      <td>177.030</td>\n      <td>NaN</td>\n    </tr>\n    <tr>\n      <th>213</th>\n      <td>37</td>\n      <td>2278</td>\n      <td>0</td>\n      <td>0</td>\n      <td>568</td>\n      <td>0</td>\n      <td>9.412</td>\n      <td>NaN</td>\n    </tr>\n    <tr>\n      <th>1748</th>\n      <td>58</td>\n      <td>7769</td>\n      <td>122</td>\n      <td>22</td>\n      <td>386</td>\n      <td>95</td>\n      <td>5.556</td>\n      <td>NaN</td>\n    </tr>\n    <tr>\n      <th>1513</th>\n      <td>1</td>\n      <td>148</td>\n      <td>19</td>\n      <td>14</td>\n      <td>15</td>\n      <td>0</td>\n      <td>9.789</td>\n      <td>NaN</td>\n    </tr>\n    <tr>\n      <th>14</th>\n      <td>0</td>\n      <td>235</td>\n      <td>0</td>\n      <td>0</td>\n      <td>9</td>\n      <td>0</td>\n      <td>27.398</td>\n      <td>NaN</td>\n    </tr>\n    <tr>\n      <th>163</th>\n      <td>176</td>\n      <td>1532</td>\n      <td>2</td>\n      <td>2</td>\n      <td>293</td>\n      <td>0</td>\n      <td>6.583</td>\n      <td>NaN</td>\n    </tr>\n    <tr>\n      <th>1810</th>\n      <td>0</td>\n      <td>181</td>\n      <td>1</td>\n      <td>0</td>\n      <td>31</td>\n      <td>0</td>\n      <td>2.713</td>\n      <td>NaN</td>\n    </tr>\n    <tr>\n      <th>545</th>\n      <td>21</td>\n      <td>201</td>\n      <td>2</td>\n      <td>0</td>\n      <td>49</td>\n      <td>0</td>\n      <td>2.760</td>\n      <td>NaN</td>\n    </tr>\n    <tr>\n      <th>908</th>\n      <td>72</td>\n      <td>1593</td>\n      <td>4</td>\n      <td>0</td>\n      <td>260</td>\n      <td>13</td>\n      <td>2.175</td>\n      <td>NaN</td>\n    </tr>\n    <tr>\n      <th>61</th>\n      <td>0</td>\n      <td>20</td>\n      <td>1</td>\n      <td>1</td>\n      <td>3</td>\n      <td>0</td>\n      <td>3.546</td>\n      <td>NaN</td>\n    </tr>\n    <tr>\n      <th>20</th>\n      <td>256</td>\n      <td>14413</td>\n      <td>338</td>\n      <td>240</td>\n      <td>1775</td>\n      <td>12</td>\n      <td>66.472</td>\n      <td>NaN</td>\n    </tr>\n    <tr>\n      <th>157</th>\n      <td>0</td>\n      <td>2108</td>\n      <td>0</td>\n      <td>0</td>\n      <td>86</td>\n      <td>42</td>\n      <td>5.247</td>\n      <td>NaN</td>\n    </tr>\n    <tr>\n      <th>244</th>\n      <td>0</td>\n      <td>15751</td>\n      <td>1</td>\n      <td>7</td>\n      <td>1125</td>\n      <td>0</td>\n      <td>2.635</td>\n      <td>NaN</td>\n    </tr>\n    <tr>\n      <th>318</th>\n      <td>49</td>\n      <td>1828</td>\n      <td>0</td>\n      <td>6</td>\n      <td>367</td>\n      <td>2</td>\n      <td>4.435</td>\n      <td>NaN</td>\n    </tr>\n    <tr>\n      <th>71</th>\n      <td>112</td>\n      <td>12579</td>\n      <td>54</td>\n      <td>6</td>\n      <td>2155</td>\n      <td>61</td>\n      <td>22.692</td>\n      <td>NaN</td>\n    </tr>\n    <tr>\n      <th>354</th>\n      <td>24</td>\n      <td>1357</td>\n      <td>0</td>\n      <td>0</td>\n      <td>331</td>\n      <td>0</td>\n      <td>5.019</td>\n      <td>NaN</td>\n    </tr>\n    <tr>\n      <th>790</th>\n      <td>0</td>\n      <td>157</td>\n      <td>1</td>\n      <td>0</td>\n      <td>32</td>\n      <td>7</td>\n      <td>12.470</td>\n      <td>NaN</td>\n    </tr>\n    <tr>\n      <th>27</th>\n      <td>0</td>\n      <td>18</td>\n      <td>0</td>\n      <td>0</td>\n      <td>0</td>\n      <td>0</td>\n      <td>4.776</td>\n      <td>NaN</td>\n    </tr>\n    <tr>\n      <th>240</th>\n      <td>0</td>\n      <td>168</td>\n      <td>3</td>\n      <td>3</td>\n      <td>19</td>\n      <td>0</td>\n      <td>2.001</td>\n      <td>NaN</td>\n    </tr>\n    <tr>\n      <th>70</th>\n      <td>80</td>\n      <td>27222</td>\n      <td>65</td>\n      <td>6</td>\n      <td>5200</td>\n      <td>85</td>\n      <td>58.481</td>\n      <td>NaN</td>\n    </tr>\n    <tr>\n      <th>211</th>\n      <td>0</td>\n      <td>19496</td>\n      <td>0</td>\n      <td>0</td>\n      <td>4874</td>\n      <td>0</td>\n      <td>8.171</td>\n      <td>NaN</td>\n    </tr>\n    <tr>\n      <th>73</th>\n      <td>14</td>\n      <td>3369</td>\n      <td>35</td>\n      <td>1</td>\n      <td>552</td>\n      <td>20</td>\n      <td>4.863</td>\n      <td>NaN</td>\n    </tr>\n    <tr>\n      <th>48</th>\n      <td>763</td>\n      <td>24730</td>\n      <td>491</td>\n      <td>399</td>\n      <td>710</td>\n      <td>80</td>\n      <td>133.464</td>\n      <td>NaN</td>\n    </tr>\n    <tr>\n      <th>365</th>\n      <td>114</td>\n      <td>4680</td>\n      <td>0</td>\n      <td>0</td>\n      <td>1170</td>\n      <td>0</td>\n      <td>15.035</td>\n      <td>NaN</td>\n    </tr>\n    <tr>\n      <th>133</th>\n      <td>0</td>\n      <td>190</td>\n      <td>20</td>\n      <td>23</td>\n      <td>20</td>\n      <td>0</td>\n      <td>3.171</td>\n      <td>NaN</td>\n    </tr>\n    <tr>\n      <th>82</th>\n      <td>83</td>\n      <td>1020</td>\n      <td>0</td>\n      <td>0</td>\n      <td>255</td>\n      <td>0</td>\n      <td>3.753</td>\n      <td>NaN</td>\n    </tr>\n    <tr>\n      <th>80</th>\n      <td>96</td>\n      <td>1164</td>\n      <td>0</td>\n      <td>0</td>\n      <td>291</td>\n      <td>0</td>\n      <td>2.078</td>\n      <td>NaN</td>\n    </tr>\n    <tr>\n      <th>348</th>\n      <td>55</td>\n      <td>2142</td>\n      <td>0</td>\n      <td>0</td>\n      <td>531</td>\n      <td>0</td>\n      <td>5.213</td>\n      <td>NaN</td>\n    </tr>\n    <tr>\n      <th>1791</th>\n      <td>0</td>\n      <td>484</td>\n      <td>0</td>\n      <td>0</td>\n      <td>43</td>\n      <td>0</td>\n      <td>7.764</td>\n      <td>NaN</td>\n    </tr>\n    <tr>\n      <th>164</th>\n      <td>0</td>\n      <td>1351</td>\n      <td>3</td>\n      <td>3</td>\n      <td>244</td>\n      <td>30</td>\n      <td>3.590</td>\n      <td>NaN</td>\n    </tr>\n    <tr>\n      <th>700</th>\n      <td>0</td>\n      <td>768</td>\n      <td>0</td>\n      <td>0</td>\n      <td>192</td>\n      <td>0</td>\n      <td>4.381</td>\n      <td>NaN</td>\n    </tr>\n    <tr>\n      <th>901</th>\n      <td>0</td>\n      <td>12</td>\n      <td>1</td>\n      <td>1</td>\n      <td>3</td>\n      <td>0</td>\n      <td>2.659</td>\n      <td>NaN</td>\n    </tr>\n    <tr>\n      <th>865</th>\n      <td>0</td>\n      <td>12</td>\n      <td>1</td>\n      <td>0</td>\n      <td>3</td>\n      <td>0</td>\n      <td>2.887</td>\n      <td>NaN</td>\n    </tr>\n    <tr>\n      <th>230</th>\n      <td>0</td>\n      <td>527</td>\n      <td>22</td>\n      <td>10</td>\n      <td>95</td>\n      <td>1</td>\n      <td>2.514</td>\n      <td>NaN</td>\n    </tr>\n    <tr>\n      <th>1771</th>\n      <td>478</td>\n      <td>32642</td>\n      <td>388</td>\n      <td>184</td>\n      <td>1300</td>\n      <td>38</td>\n      <td>45.020</td>\n      <td>NaN</td>\n    </tr>\n    <tr>\n      <th>1636</th>\n      <td>0</td>\n      <td>31</td>\n      <td>0</td>\n      <td>0</td>\n      <td>0</td>\n      <td>0</td>\n      <td>2.332</td>\n      <td>NaN</td>\n    </tr>\n    <tr>\n      <th>16</th>\n      <td>27</td>\n      <td>1946</td>\n      <td>47</td>\n      <td>30</td>\n      <td>360</td>\n      <td>3</td>\n      <td>16.191</td>\n      <td>NaN</td>\n    </tr>\n    <tr>\n      <th>1581</th>\n      <td>0</td>\n      <td>104</td>\n      <td>3</td>\n      <td>3</td>\n      <td>21</td>\n      <td>0</td>\n      <td>66.216</td>\n      <td>NaN</td>\n    </tr>\n    <tr>\n      <th>1831</th>\n      <td>14</td>\n      <td>2233</td>\n      <td>52</td>\n      <td>20</td>\n      <td>172</td>\n      <td>2</td>\n      <td>2.294</td>\n      <td>NaN</td>\n    </tr>\n    <tr>\n      <th>90</th>\n      <td>1</td>\n      <td>25</td>\n      <td>1</td>\n      <td>1</td>\n      <td>5</td>\n      <td>0</td>\n      <td>2.410</td>\n      <td>NaN</td>\n    </tr>\n    <tr>\n      <th>170</th>\n      <td>48</td>\n      <td>842</td>\n      <td>12</td>\n      <td>6</td>\n      <td>185</td>\n      <td>2</td>\n      <td>3.835</td>\n      <td>NaN</td>\n    </tr>\n    <tr>\n      <th>1639</th>\n      <td>0</td>\n      <td>27</td>\n      <td>0</td>\n      <td>0</td>\n      <td>0</td>\n      <td>0</td>\n      <td>2.023</td>\n      <td>NaN</td>\n    </tr>\n    <tr>\n      <th>42</th>\n      <td>2</td>\n      <td>379</td>\n      <td>1</td>\n      <td>2</td>\n      <td>82</td>\n      <td>0</td>\n      <td>11.714</td>\n      <td>NaN</td>\n    </tr>\n    <tr>\n      <th>894</th>\n      <td>4</td>\n      <td>7431</td>\n      <td>341</td>\n      <td>317</td>\n      <td>438</td>\n      <td>0</td>\n      <td>13.734</td>\n      <td>NaN</td>\n    </tr>\n    <tr>\n      <th>1577</th>\n      <td>0</td>\n      <td>12</td>\n      <td>0</td>\n      <td>0</td>\n      <td>3</td>\n      <td>0</td>\n      <td>2.330</td>\n      <td>NaN</td>\n    </tr>\n    <tr>\n      <th>112</th>\n      <td>148</td>\n      <td>2912</td>\n      <td>0</td>\n      <td>0</td>\n      <td>638</td>\n      <td>0</td>\n      <td>5.691</td>\n      <td>NaN</td>\n    </tr>\n    <tr>\n      <th>217</th>\n      <td>5</td>\n      <td>125</td>\n      <td>14</td>\n      <td>0</td>\n      <td>30</td>\n      <td>0</td>\n      <td>218.844</td>\n      <td>NaN</td>\n    </tr>\n    <tr>\n      <th>9</th>\n      <td>62</td>\n      <td>1268</td>\n      <td>13</td>\n      <td>7</td>\n      <td>242</td>\n      <td>2</td>\n      <td>5.014</td>\n      <td>NaN</td>\n    </tr>\n    <tr>\n      <th>722</th>\n      <td>79</td>\n      <td>33998</td>\n      <td>158</td>\n      <td>26</td>\n      <td>5311</td>\n      <td>117</td>\n      <td>40.380</td>\n      <td>NaN</td>\n    </tr>\n    <tr>\n      <th>208</th>\n      <td>1052</td>\n      <td>28087</td>\n      <td>0</td>\n      <td>0</td>\n      <td>7020</td>\n      <td>0</td>\n      <td>426.948</td>\n      <td>catmeta</td>\n    </tr>\n  </tbody>\n</table>\n</div>"
     },
     "execution_count": 362,
     "metadata": {},
     "output_type": "execute_result"
    }
   ],
   "source": [
    "lala.append(merged.loc[208])"
   ],
   "metadata": {
    "collapsed": false,
    "ExecuteTime": {
     "end_time": "2023-10-11T08:43:45.326148Z",
     "start_time": "2023-10-11T08:43:45.275115Z"
    }
   },
   "id": "8d1bc5a7b7e2e933"
  },
  {
   "cell_type": "code",
   "execution_count": 356,
   "outputs": [],
   "source": [
    "lala[\"time\"] = lala[\"time\"].astype(\"float\")"
   ],
   "metadata": {
    "collapsed": false,
    "ExecuteTime": {
     "end_time": "2023-10-11T08:41:41.196892Z",
     "start_time": "2023-10-11T08:41:41.144310Z"
    }
   },
   "id": "eda717986fddbcc0"
  },
  {
   "cell_type": "code",
   "execution_count": 357,
   "outputs": [
    {
     "data": {
      "text/plain": "            grants          size    packages      alters      commands  \\\ncount    52.000000     52.000000   52.000000   52.000000     52.000000   \nmean    115.115385   5818.115385   43.288462   26.057692    915.903846   \nstd     441.760544  12259.200256  106.652880   79.149502   2581.011006   \nmin       0.000000     12.000000    0.000000    0.000000      0.000000   \n25%       0.000000    154.750000    0.000000    0.000000     19.750000   \n50%       3.000000   1092.000000    1.500000    1.000000    188.500000   \n75%      64.500000   3026.250000   19.250000    7.000000    536.250000   \nmax    3104.000000  68249.000000  491.000000  399.000000  17004.000000   \n\n          commits        time  \ncount   52.000000   52.000000  \nmean    12.000000   20.718731  \nstd     27.133656   42.844798  \nmin      0.000000    2.001000  \n25%      0.000000    2.699500  \n50%      0.000000    4.938500  \n75%      4.750000   12.786000  \nmax    117.000000  218.844000  ",
      "text/html": "<div>\n<style scoped>\n    .dataframe tbody tr th:only-of-type {\n        vertical-align: middle;\n    }\n\n    .dataframe tbody tr th {\n        vertical-align: top;\n    }\n\n    .dataframe thead th {\n        text-align: right;\n    }\n</style>\n<table border=\"1\" class=\"dataframe\">\n  <thead>\n    <tr style=\"text-align: right;\">\n      <th></th>\n      <th>grants</th>\n      <th>size</th>\n      <th>packages</th>\n      <th>alters</th>\n      <th>commands</th>\n      <th>commits</th>\n      <th>time</th>\n    </tr>\n  </thead>\n  <tbody>\n    <tr>\n      <th>count</th>\n      <td>52.000000</td>\n      <td>52.000000</td>\n      <td>52.000000</td>\n      <td>52.000000</td>\n      <td>52.000000</td>\n      <td>52.000000</td>\n      <td>52.000000</td>\n    </tr>\n    <tr>\n      <th>mean</th>\n      <td>115.115385</td>\n      <td>5818.115385</td>\n      <td>43.288462</td>\n      <td>26.057692</td>\n      <td>915.903846</td>\n      <td>12.000000</td>\n      <td>20.718731</td>\n    </tr>\n    <tr>\n      <th>std</th>\n      <td>441.760544</td>\n      <td>12259.200256</td>\n      <td>106.652880</td>\n      <td>79.149502</td>\n      <td>2581.011006</td>\n      <td>27.133656</td>\n      <td>42.844798</td>\n    </tr>\n    <tr>\n      <th>min</th>\n      <td>0.000000</td>\n      <td>12.000000</td>\n      <td>0.000000</td>\n      <td>0.000000</td>\n      <td>0.000000</td>\n      <td>0.000000</td>\n      <td>2.001000</td>\n    </tr>\n    <tr>\n      <th>25%</th>\n      <td>0.000000</td>\n      <td>154.750000</td>\n      <td>0.000000</td>\n      <td>0.000000</td>\n      <td>19.750000</td>\n      <td>0.000000</td>\n      <td>2.699500</td>\n    </tr>\n    <tr>\n      <th>50%</th>\n      <td>3.000000</td>\n      <td>1092.000000</td>\n      <td>1.500000</td>\n      <td>1.000000</td>\n      <td>188.500000</td>\n      <td>0.000000</td>\n      <td>4.938500</td>\n    </tr>\n    <tr>\n      <th>75%</th>\n      <td>64.500000</td>\n      <td>3026.250000</td>\n      <td>19.250000</td>\n      <td>7.000000</td>\n      <td>536.250000</td>\n      <td>4.750000</td>\n      <td>12.786000</td>\n    </tr>\n    <tr>\n      <th>max</th>\n      <td>3104.000000</td>\n      <td>68249.000000</td>\n      <td>491.000000</td>\n      <td>399.000000</td>\n      <td>17004.000000</td>\n      <td>117.000000</td>\n      <td>218.844000</td>\n    </tr>\n  </tbody>\n</table>\n</div>"
     },
     "execution_count": 357,
     "metadata": {},
     "output_type": "execute_result"
    }
   ],
   "source": [
    "lala.describe()"
   ],
   "metadata": {
    "collapsed": false,
    "ExecuteTime": {
     "end_time": "2023-10-11T08:41:42.029797Z",
     "start_time": "2023-10-11T08:41:42.001545Z"
    }
   },
   "id": "4114f363b0a8c31c"
  },
  {
   "cell_type": "code",
   "execution_count": 329,
   "outputs": [
    {
     "data": {
      "text/plain": "     grants  size  packages  alters  commands  commits      time\n156       0   236         6       6        41        0  1973.435",
      "text/html": "<div>\n<style scoped>\n    .dataframe tbody tr th:only-of-type {\n        vertical-align: middle;\n    }\n\n    .dataframe tbody tr th {\n        vertical-align: top;\n    }\n\n    .dataframe thead th {\n        text-align: right;\n    }\n</style>\n<table border=\"1\" class=\"dataframe\">\n  <thead>\n    <tr style=\"text-align: right;\">\n      <th></th>\n      <th>grants</th>\n      <th>size</th>\n      <th>packages</th>\n      <th>alters</th>\n      <th>commands</th>\n      <th>commits</th>\n      <th>time</th>\n    </tr>\n  </thead>\n  <tbody>\n    <tr>\n      <th>156</th>\n      <td>0</td>\n      <td>236</td>\n      <td>6</td>\n      <td>6</td>\n      <td>41</td>\n      <td>0</td>\n      <td>1973.435</td>\n    </tr>\n  </tbody>\n</table>\n</div>"
     },
     "execution_count": 329,
     "metadata": {},
     "output_type": "execute_result"
    }
   ],
   "source": [
    "lala[lala[\"time\"]>1000]"
   ],
   "metadata": {
    "collapsed": false,
    "ExecuteTime": {
     "end_time": "2023-10-11T08:24:38.715189Z",
     "start_time": "2023-10-11T08:24:38.645390Z"
    }
   },
   "id": "960fe4217b77bcda"
  },
  {
   "cell_type": "code",
   "execution_count": 343,
   "outputs": [
    {
     "name": "stderr",
     "output_type": "stream",
     "text": [
      "/var/folders/51/l057c8xx2md597vhk47n57rm0000gn/T/ipykernel_23167/542307983.py:1: SettingWithCopyWarning: \n",
      "A value is trying to be set on a copy of a slice from a DataFrame\n",
      "\n",
      "See the caveats in the documentation: https://pandas.pydata.org/pandas-docs/stable/user_guide/indexing.html#returning-a-view-versus-a-copy\n",
      "  lala.loc[156][\"time\"] = 1679\n"
     ]
    }
   ],
   "source": [
    "lala.loc[156][\"time\"] = 1679"
   ],
   "metadata": {
    "collapsed": false,
    "ExecuteTime": {
     "end_time": "2023-10-11T08:40:57.895503Z",
     "start_time": "2023-10-11T08:40:57.864826Z"
    }
   },
   "id": "6a7d45a75ce69cca"
  },
  {
   "cell_type": "code",
   "execution_count": 332,
   "outputs": [
    {
     "data": {
      "text/plain": "            grants          size    packages      alters     commands  \\\ncount    51.000000     51.000000   51.000000   51.000000    51.000000   \nmean    123.549020   4819.235294   38.509804   24.941176   777.588235   \nstd     270.779564   8294.601547   99.472081   76.066395  1531.002550   \nmin       0.000000      8.000000    0.000000    0.000000     0.000000   \n25%       0.000000    260.000000    0.000000    0.000000    48.500000   \n50%      15.000000   1165.000000    0.000000    0.000000   255.000000   \n75%      62.500000   4537.000000   23.000000    8.000000   610.500000   \nmax    1145.000000  32642.000000  491.000000  399.000000  7020.000000   \n\n         commits        time  \ncount  51.000000   51.000000  \nmean    6.000000   23.915549  \nstd    19.436049   64.341606  \nmin     0.000000    2.023000  \n25%     0.000000    3.957500  \n50%     0.000000    5.687000  \n75%     1.000000   12.940500  \nmax    95.000000  426.948000  ",
      "text/html": "<div>\n<style scoped>\n    .dataframe tbody tr th:only-of-type {\n        vertical-align: middle;\n    }\n\n    .dataframe tbody tr th {\n        vertical-align: top;\n    }\n\n    .dataframe thead th {\n        text-align: right;\n    }\n</style>\n<table border=\"1\" class=\"dataframe\">\n  <thead>\n    <tr style=\"text-align: right;\">\n      <th></th>\n      <th>grants</th>\n      <th>size</th>\n      <th>packages</th>\n      <th>alters</th>\n      <th>commands</th>\n      <th>commits</th>\n      <th>time</th>\n    </tr>\n  </thead>\n  <tbody>\n    <tr>\n      <th>count</th>\n      <td>51.000000</td>\n      <td>51.000000</td>\n      <td>51.000000</td>\n      <td>51.000000</td>\n      <td>51.000000</td>\n      <td>51.000000</td>\n      <td>51.000000</td>\n    </tr>\n    <tr>\n      <th>mean</th>\n      <td>123.549020</td>\n      <td>4819.235294</td>\n      <td>38.509804</td>\n      <td>24.941176</td>\n      <td>777.588235</td>\n      <td>6.000000</td>\n      <td>23.915549</td>\n    </tr>\n    <tr>\n      <th>std</th>\n      <td>270.779564</td>\n      <td>8294.601547</td>\n      <td>99.472081</td>\n      <td>76.066395</td>\n      <td>1531.002550</td>\n      <td>19.436049</td>\n      <td>64.341606</td>\n    </tr>\n    <tr>\n      <th>min</th>\n      <td>0.000000</td>\n      <td>8.000000</td>\n      <td>0.000000</td>\n      <td>0.000000</td>\n      <td>0.000000</td>\n      <td>0.000000</td>\n      <td>2.023000</td>\n    </tr>\n    <tr>\n      <th>25%</th>\n      <td>0.000000</td>\n      <td>260.000000</td>\n      <td>0.000000</td>\n      <td>0.000000</td>\n      <td>48.500000</td>\n      <td>0.000000</td>\n      <td>3.957500</td>\n    </tr>\n    <tr>\n      <th>50%</th>\n      <td>15.000000</td>\n      <td>1165.000000</td>\n      <td>0.000000</td>\n      <td>0.000000</td>\n      <td>255.000000</td>\n      <td>0.000000</td>\n      <td>5.687000</td>\n    </tr>\n    <tr>\n      <th>75%</th>\n      <td>62.500000</td>\n      <td>4537.000000</td>\n      <td>23.000000</td>\n      <td>8.000000</td>\n      <td>610.500000</td>\n      <td>1.000000</td>\n      <td>12.940500</td>\n    </tr>\n    <tr>\n      <th>max</th>\n      <td>1145.000000</td>\n      <td>32642.000000</td>\n      <td>491.000000</td>\n      <td>399.000000</td>\n      <td>7020.000000</td>\n      <td>95.000000</td>\n      <td>426.948000</td>\n    </tr>\n  </tbody>\n</table>\n</div>"
     },
     "execution_count": 332,
     "metadata": {},
     "output_type": "execute_result"
    }
   ],
   "source": [
    "lala.describe()"
   ],
   "metadata": {
    "collapsed": false,
    "ExecuteTime": {
     "end_time": "2023-10-11T08:25:03.128305Z",
     "start_time": "2023-10-11T08:25:03.060136Z"
    }
   },
   "id": "4e56bdb6da76db01"
  },
  {
   "cell_type": "code",
   "execution_count": 363,
   "outputs": [],
   "source": [
    "lala.to_csv(\"cross_validation_data.csv\", index=False)"
   ],
   "metadata": {
    "collapsed": false,
    "ExecuteTime": {
     "end_time": "2023-10-11T08:44:00.375728Z",
     "start_time": "2023-10-11T08:44:00.333979Z"
    }
   },
   "id": "82288eb7a84e7b2c"
  },
  {
   "cell_type": "code",
   "execution_count": null,
   "outputs": [],
   "source": [
    "pr"
   ],
   "metadata": {
    "collapsed": false
   },
   "id": "b53333292443e930"
  }
 ],
 "metadata": {
  "kernelspec": {
   "display_name": "Python 3",
   "language": "python",
   "name": "python3"
  },
  "language_info": {
   "codemirror_mode": {
    "name": "ipython",
    "version": 2
   },
   "file_extension": ".py",
   "mimetype": "text/x-python",
   "name": "python",
   "nbconvert_exporter": "python",
   "pygments_lexer": "ipython2",
   "version": "2.7.6"
  }
 },
 "nbformat": 4,
 "nbformat_minor": 5
}
