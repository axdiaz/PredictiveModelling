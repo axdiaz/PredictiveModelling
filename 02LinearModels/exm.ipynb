{
 "cells": [
  {
   "cell_type": "code",
   "execution_count": 1,
   "outputs": [],
   "source": [
    "import pandas as pd\n",
    "import numpy as np"
   ],
   "metadata": {
    "collapsed": false,
    "ExecuteTime": {
     "end_time": "2023-09-18T16:23:11.780537Z",
     "start_time": "2023-09-18T16:23:11.778409Z"
    }
   },
   "id": "f6df3a74a243a9e0"
  },
  {
   "cell_type": "code",
   "execution_count": 43,
   "outputs": [],
   "source": [
    "train = pd.read_csv(\"Data/train.csv\", index_col=0)\n",
    "test = pd.read_csv(\"Data/test.csv\", index_col=0)\n",
    "unknown = pd.read_csv(\"Data/unknown.csv\", index_col=0)"
   ],
   "metadata": {
    "collapsed": false,
    "ExecuteTime": {
     "end_time": "2023-09-18T16:29:05.800295Z",
     "start_time": "2023-09-18T16:29:05.787260Z"
    }
   },
   "id": "initial_id"
  },
  {
   "cell_type": "code",
   "execution_count": 155,
   "outputs": [
    {
     "data": {
      "text/plain": "((201, 22), (201,))"
     },
     "execution_count": 155,
     "metadata": {},
     "output_type": "execute_result"
    }
   ],
   "source": [
    "X_train = train.drop(columns=[\"Audit_Risk\", \"Detection_Risk\", \"PROB\"])\n",
    "y_train = train[\"Audit_Risk\"]\n",
    "X_train.shape,y_train.shape"
   ],
   "metadata": {
    "collapsed": false,
    "ExecuteTime": {
     "end_time": "2023-09-18T17:44:19.203768Z",
     "start_time": "2023-09-18T17:44:19.191852Z"
    }
   },
   "id": "8a5f6d5ddf8bc61b"
  },
  {
   "cell_type": "code",
   "execution_count": 156,
   "outputs": [],
   "source": [
    "X_test = test.drop(columns=[\"Audit_Risk\", \"Detection_Risk\", \"PROB\"])\n",
    "y_test = test[\"Audit_Risk\"]"
   ],
   "metadata": {
    "collapsed": false,
    "ExecuteTime": {
     "end_time": "2023-09-18T17:44:19.884565Z",
     "start_time": "2023-09-18T17:44:19.873809Z"
    }
   },
   "id": "d99a2eec4880e3a7"
  },
  {
   "cell_type": "code",
   "execution_count": 73,
   "outputs": [],
   "source": [
    "from sklearn.metrics import r2_score\n",
    "from sklearn.metrics import mean_squared_error\n",
    "\n",
    "\n",
    "def get_model_metrics(actual, predicted):\n",
    "    print(\"RMSE: %0.2f\"%(mean_squared_error(actual, predicted)))\n",
    "    print(\"r2_score:  %0.2f\"%r2_score(actual, predicted))\n"
   ],
   "metadata": {
    "collapsed": false,
    "ExecuteTime": {
     "end_time": "2023-09-18T16:38:49.270017Z",
     "start_time": "2023-09-18T16:38:49.257425Z"
    }
   },
   "id": "7235273ceafaa5e"
  },
  {
   "cell_type": "code",
   "execution_count": 74,
   "outputs": [
    {
     "name": "stdout",
     "output_type": "stream",
     "text": [
      "Training:\n",
      "RMSE: 71.52\n",
      "r2_score:  0.98\n",
      "Testing:\n",
      "RMSE: 229.21\n",
      "r2_score:  0.70\n"
     ]
    }
   ],
   "source": [
    "from sklearn.linear_model import LinearRegression\n",
    "\n",
    "# BASE MODEL\n",
    "base_model = LinearRegression()\n",
    "base_model.fit(X_train, y_train)\n",
    "print(\"Training:\")\n",
    "predicted = base_model.predict(X_train)\n",
    "get_model_metrics(y_train, predicted)\n",
    "print(\"Testing:\")\n",
    "predicted = base_model.predict(X_test)\n",
    "get_model_metrics(y_test, predicted)"
   ],
   "metadata": {
    "collapsed": false,
    "ExecuteTime": {
     "end_time": "2023-09-18T16:38:49.615257Z",
     "start_time": "2023-09-18T16:38:49.608013Z"
    }
   },
   "id": "fd10b8f962cee771"
  },
  {
   "cell_type": "code",
   "execution_count": 75,
   "outputs": [
    {
     "data": {
      "text/plain": "     Sector_score  PARA_A  Score_A   Risk_A  PARA_B  Score_B  Risk_B    TOTAL  \\\n0            3.89  1.9900      0.4  0.79600   10.24      0.6   6.144  12.2300   \n1            2.37  1.8600      0.4  0.74400    4.51      0.6   2.706   6.3700   \n2           55.57  0.7000      0.2  0.14000    0.79      0.2   0.158   1.4900   \n3           55.57  0.0000      0.2  0.00000    0.00      0.2   0.000   0.0000   \n4           21.61  0.2900      0.2  0.05800    0.33      0.2   0.066   0.6200   \n..            ...     ...      ...      ...     ...      ...     ...      ...   \n196         55.57  0.6000      0.2  0.12000    0.00      0.2   0.000   0.6000   \n197         59.85  0.4200      0.2  0.08400    0.00      0.2   0.000   0.4200   \n198         55.57  0.0006      0.2  0.00012    1.11      0.4   0.444   1.1106   \n199          3.89  0.0000      0.2  0.00000    0.06      0.2   0.012   0.0600   \n200          3.89  0.0000      0.2  0.00000    0.23      0.2   0.046   0.2300   \n\n     numbers  Score_B.1  ...  Risk_D  District_Loss  PROB  RiSk_E  History  \\\n0        5.0        0.2  ...  12.468              2   0.2     0.4        0   \n1        5.0        0.2  ...   2.908              2   0.2     0.4        0   \n2        5.5        0.4  ...   0.382              2   0.2     0.4        0   \n3        5.0        0.2  ...   0.004              2   0.2     0.4        0   \n4        5.0        0.2  ...   0.000              2   0.2     0.4        0   \n..       ...        ...  ...     ...            ...   ...     ...      ...   \n196      5.0        0.2  ...   0.000              2   0.2     0.4        0   \n197      5.0        0.2  ...   0.000              4   0.2     0.8        0   \n198      5.0        0.2  ...   0.000              6   0.2     1.2        0   \n199      5.0        0.2  ...   0.000              2   0.2     0.4        0   \n200      5.0        0.2  ...   0.000              2   0.2     0.4        0   \n\n     Prob  Risk_F  Score  Inherent_Risk  CONTROL_RISK  \n0     0.2     0.0    3.8       20.80800           0.4  \n1     0.2     0.0    3.6        7.75800           0.4  \n2     0.2     0.0    2.4        3.28000           0.4  \n3     0.2     0.0    2.0        1.40400           0.4  \n4     0.2     0.0    2.0        1.52400           0.4  \n..    ...     ...    ...            ...           ...  \n196   0.2     0.0    2.0        1.52000           0.4  \n197   0.2     0.0    2.2        1.88400           0.8  \n198   0.2     0.0    3.0        2.64412           1.2  \n199   0.2     0.0    2.0        1.41200           0.4  \n200   0.2     0.0    2.0        1.44600           0.4  \n\n[201 rows x 23 columns]",
      "text/html": "<div>\n<style scoped>\n    .dataframe tbody tr th:only-of-type {\n        vertical-align: middle;\n    }\n\n    .dataframe tbody tr th {\n        vertical-align: top;\n    }\n\n    .dataframe thead th {\n        text-align: right;\n    }\n</style>\n<table border=\"1\" class=\"dataframe\">\n  <thead>\n    <tr style=\"text-align: right;\">\n      <th></th>\n      <th>Sector_score</th>\n      <th>PARA_A</th>\n      <th>Score_A</th>\n      <th>Risk_A</th>\n      <th>PARA_B</th>\n      <th>Score_B</th>\n      <th>Risk_B</th>\n      <th>TOTAL</th>\n      <th>numbers</th>\n      <th>Score_B.1</th>\n      <th>...</th>\n      <th>Risk_D</th>\n      <th>District_Loss</th>\n      <th>PROB</th>\n      <th>RiSk_E</th>\n      <th>History</th>\n      <th>Prob</th>\n      <th>Risk_F</th>\n      <th>Score</th>\n      <th>Inherent_Risk</th>\n      <th>CONTROL_RISK</th>\n    </tr>\n  </thead>\n  <tbody>\n    <tr>\n      <th>0</th>\n      <td>3.89</td>\n      <td>1.9900</td>\n      <td>0.4</td>\n      <td>0.79600</td>\n      <td>10.24</td>\n      <td>0.6</td>\n      <td>6.144</td>\n      <td>12.2300</td>\n      <td>5.0</td>\n      <td>0.2</td>\n      <td>...</td>\n      <td>12.468</td>\n      <td>2</td>\n      <td>0.2</td>\n      <td>0.4</td>\n      <td>0</td>\n      <td>0.2</td>\n      <td>0.0</td>\n      <td>3.8</td>\n      <td>20.80800</td>\n      <td>0.4</td>\n    </tr>\n    <tr>\n      <th>1</th>\n      <td>2.37</td>\n      <td>1.8600</td>\n      <td>0.4</td>\n      <td>0.74400</td>\n      <td>4.51</td>\n      <td>0.6</td>\n      <td>2.706</td>\n      <td>6.3700</td>\n      <td>5.0</td>\n      <td>0.2</td>\n      <td>...</td>\n      <td>2.908</td>\n      <td>2</td>\n      <td>0.2</td>\n      <td>0.4</td>\n      <td>0</td>\n      <td>0.2</td>\n      <td>0.0</td>\n      <td>3.6</td>\n      <td>7.75800</td>\n      <td>0.4</td>\n    </tr>\n    <tr>\n      <th>2</th>\n      <td>55.57</td>\n      <td>0.7000</td>\n      <td>0.2</td>\n      <td>0.14000</td>\n      <td>0.79</td>\n      <td>0.2</td>\n      <td>0.158</td>\n      <td>1.4900</td>\n      <td>5.5</td>\n      <td>0.4</td>\n      <td>...</td>\n      <td>0.382</td>\n      <td>2</td>\n      <td>0.2</td>\n      <td>0.4</td>\n      <td>0</td>\n      <td>0.2</td>\n      <td>0.0</td>\n      <td>2.4</td>\n      <td>3.28000</td>\n      <td>0.4</td>\n    </tr>\n    <tr>\n      <th>3</th>\n      <td>55.57</td>\n      <td>0.0000</td>\n      <td>0.2</td>\n      <td>0.00000</td>\n      <td>0.00</td>\n      <td>0.2</td>\n      <td>0.000</td>\n      <td>0.0000</td>\n      <td>5.0</td>\n      <td>0.2</td>\n      <td>...</td>\n      <td>0.004</td>\n      <td>2</td>\n      <td>0.2</td>\n      <td>0.4</td>\n      <td>0</td>\n      <td>0.2</td>\n      <td>0.0</td>\n      <td>2.0</td>\n      <td>1.40400</td>\n      <td>0.4</td>\n    </tr>\n    <tr>\n      <th>4</th>\n      <td>21.61</td>\n      <td>0.2900</td>\n      <td>0.2</td>\n      <td>0.05800</td>\n      <td>0.33</td>\n      <td>0.2</td>\n      <td>0.066</td>\n      <td>0.6200</td>\n      <td>5.0</td>\n      <td>0.2</td>\n      <td>...</td>\n      <td>0.000</td>\n      <td>2</td>\n      <td>0.2</td>\n      <td>0.4</td>\n      <td>0</td>\n      <td>0.2</td>\n      <td>0.0</td>\n      <td>2.0</td>\n      <td>1.52400</td>\n      <td>0.4</td>\n    </tr>\n    <tr>\n      <th>...</th>\n      <td>...</td>\n      <td>...</td>\n      <td>...</td>\n      <td>...</td>\n      <td>...</td>\n      <td>...</td>\n      <td>...</td>\n      <td>...</td>\n      <td>...</td>\n      <td>...</td>\n      <td>...</td>\n      <td>...</td>\n      <td>...</td>\n      <td>...</td>\n      <td>...</td>\n      <td>...</td>\n      <td>...</td>\n      <td>...</td>\n      <td>...</td>\n      <td>...</td>\n      <td>...</td>\n    </tr>\n    <tr>\n      <th>196</th>\n      <td>55.57</td>\n      <td>0.6000</td>\n      <td>0.2</td>\n      <td>0.12000</td>\n      <td>0.00</td>\n      <td>0.2</td>\n      <td>0.000</td>\n      <td>0.6000</td>\n      <td>5.0</td>\n      <td>0.2</td>\n      <td>...</td>\n      <td>0.000</td>\n      <td>2</td>\n      <td>0.2</td>\n      <td>0.4</td>\n      <td>0</td>\n      <td>0.2</td>\n      <td>0.0</td>\n      <td>2.0</td>\n      <td>1.52000</td>\n      <td>0.4</td>\n    </tr>\n    <tr>\n      <th>197</th>\n      <td>59.85</td>\n      <td>0.4200</td>\n      <td>0.2</td>\n      <td>0.08400</td>\n      <td>0.00</td>\n      <td>0.2</td>\n      <td>0.000</td>\n      <td>0.4200</td>\n      <td>5.0</td>\n      <td>0.2</td>\n      <td>...</td>\n      <td>0.000</td>\n      <td>4</td>\n      <td>0.2</td>\n      <td>0.8</td>\n      <td>0</td>\n      <td>0.2</td>\n      <td>0.0</td>\n      <td>2.2</td>\n      <td>1.88400</td>\n      <td>0.8</td>\n    </tr>\n    <tr>\n      <th>198</th>\n      <td>55.57</td>\n      <td>0.0006</td>\n      <td>0.2</td>\n      <td>0.00012</td>\n      <td>1.11</td>\n      <td>0.4</td>\n      <td>0.444</td>\n      <td>1.1106</td>\n      <td>5.0</td>\n      <td>0.2</td>\n      <td>...</td>\n      <td>0.000</td>\n      <td>6</td>\n      <td>0.2</td>\n      <td>1.2</td>\n      <td>0</td>\n      <td>0.2</td>\n      <td>0.0</td>\n      <td>3.0</td>\n      <td>2.64412</td>\n      <td>1.2</td>\n    </tr>\n    <tr>\n      <th>199</th>\n      <td>3.89</td>\n      <td>0.0000</td>\n      <td>0.2</td>\n      <td>0.00000</td>\n      <td>0.06</td>\n      <td>0.2</td>\n      <td>0.012</td>\n      <td>0.0600</td>\n      <td>5.0</td>\n      <td>0.2</td>\n      <td>...</td>\n      <td>0.000</td>\n      <td>2</td>\n      <td>0.2</td>\n      <td>0.4</td>\n      <td>0</td>\n      <td>0.2</td>\n      <td>0.0</td>\n      <td>2.0</td>\n      <td>1.41200</td>\n      <td>0.4</td>\n    </tr>\n    <tr>\n      <th>200</th>\n      <td>3.89</td>\n      <td>0.0000</td>\n      <td>0.2</td>\n      <td>0.00000</td>\n      <td>0.23</td>\n      <td>0.2</td>\n      <td>0.046</td>\n      <td>0.2300</td>\n      <td>5.0</td>\n      <td>0.2</td>\n      <td>...</td>\n      <td>0.000</td>\n      <td>2</td>\n      <td>0.2</td>\n      <td>0.4</td>\n      <td>0</td>\n      <td>0.2</td>\n      <td>0.0</td>\n      <td>2.0</td>\n      <td>1.44600</td>\n      <td>0.4</td>\n    </tr>\n  </tbody>\n</table>\n<p>201 rows × 23 columns</p>\n</div>"
     },
     "execution_count": 75,
     "metadata": {},
     "output_type": "execute_result"
    }
   ],
   "source": [
    "X_train"
   ],
   "metadata": {
    "collapsed": false,
    "ExecuteTime": {
     "end_time": "2023-09-18T16:38:52.053414Z",
     "start_time": "2023-09-18T16:38:52.048173Z"
    }
   },
   "id": "4b3c2e2ed31c244a"
  },
  {
   "cell_type": "code",
   "execution_count": 78,
   "outputs": [
    {
     "data": {
      "text/plain": "(Sector_score     22.800746\n PARA_A            2.459257\n Score_A           0.344279\n Risk_A            1.354836\n PARA_B           15.636261\n Score_B           0.321393\n Risk_B            9.250396\n TOTAL            18.075866\n numbers           5.054726\n Score_B.1         0.220896\n Risk_C            1.128856\n Money_Value      17.826403\n Score_MV          0.293532\n Risk_D           10.515002\n District_Loss     2.417910\n PROB              0.206965\n RiSk_E            0.497512\n History           0.099502\n Prob              0.216915\n Risk_F            0.048756\n Score             2.709453\n Inherent_Risk    22.795359\n CONTROL_RISK      0.546269\n dtype: float64,\n Sector_score     25.441598\n PARA_A            5.736470\n Score_A           0.173435\n Risk_A            3.475666\n PARA_B           91.161579\n Score_B           0.174327\n Risk_B           54.715229\n TOTAL            92.190871\n numbers           0.185715\n Score_B.1         0.067537\n Risk_C            0.426102\n Money_Value      90.496031\n Score_MV          0.163731\n Risk_D           54.325712\n District_Loss     1.159516\n PROB              0.046382\n RiSk_E            0.245038\n History           0.458312\n Prob              0.065669\n Risk_F            0.256536\n Score             0.860209\n Inherent_Risk    83.600051\n CONTROL_RISK      0.376694\n dtype: float64)"
     },
     "execution_count": 78,
     "metadata": {},
     "output_type": "execute_result"
    }
   ],
   "source": [
    "train_mean = X_train.mean()\n",
    "train_std = X_train.std()\n",
    "X_train_scaled = (X_train - train_mean) / train_std\n",
    "X_test_scaled = (X_test - train_mean) / train_std\n",
    "train_mean, train_std"
   ],
   "metadata": {
    "collapsed": false,
    "ExecuteTime": {
     "end_time": "2023-09-18T16:39:57.657263Z",
     "start_time": "2023-09-18T16:39:57.646755Z"
    }
   },
   "id": "41f9a2e85cfe4f"
  },
  {
   "cell_type": "code",
   "execution_count": 94,
   "outputs": [
    {
     "name": "stdout",
     "output_type": "stream",
     "text": [
      "Training:\n",
      "RMSE: 71.52\n",
      "r2_score:  0.98\n",
      "Testing:\n",
      "RMSE: 229.21\n",
      "r2_score:  0.70\n"
     ]
    }
   ],
   "source": [
    "# Scaled MODEL\n",
    "scaled_model = LinearRegression()\n",
    "scaled_model.fit(X_train_scaled, y_train)\n",
    "print(\"Training:\")\n",
    "predicted = scaled_model.predict(X_train_scaled)\n",
    "get_model_metrics(y_train, predicted)\n",
    "\n",
    "print(\"Testing:\")\n",
    "predicted = scaled_model.predict(X_test_scaled)\n",
    "get_model_metrics(y_test, predicted)"
   ],
   "metadata": {
    "collapsed": false,
    "ExecuteTime": {
     "end_time": "2023-09-18T16:46:25.464532Z",
     "start_time": "2023-09-18T16:46:25.452329Z"
    }
   },
   "id": "171deaa8f9251778"
  },
  {
   "cell_type": "markdown",
   "source": [
    "## No outliers model"
   ],
   "metadata": {
    "collapsed": false
   },
   "id": "4e0e534d173b9c0e"
  },
  {
   "cell_type": "code",
   "execution_count": 157,
   "outputs": [],
   "source": [
    "def get_outliers(df_var, distance=1.5):\n",
    "    lower = 0\n",
    "    std = df_var.std()\n",
    "    outliers = np.where(\n",
    "        df_var > df_var.mean() + std * distance,\n",
    "        True,\n",
    "        np.where(df_var < lower, True, False),\n",
    "    )\n",
    "    return df_var.loc[outliers]\n",
    "\n",
    "\n",
    "def get_all_outliers_indexes(df, print_percentages=False, distance=1.5):\n",
    "    outliers_set = set()\n",
    "    for col in df.columns:\n",
    "        outliers = get_outliers(df[col], distance=distance)\n",
    "        outliers_amount = outliers.shape[0]\n",
    "        if print_percentages:\n",
    "            print(col, \"-> \", outliers_amount, \" outliers represent: \", round(outliers_amount / df[col].shape[0] * 100, 2), \"%\")\n",
    "        outliers_set.update(outliers.index)\n",
    "    if print_percentages:\n",
    "        print(\"TOTAL outliers represent: \", round(len(outliers_set) / df[col].shape[0] * 100, 2), \"%\")\n",
    "    return outliers_set"
   ],
   "metadata": {
    "collapsed": false,
    "ExecuteTime": {
     "end_time": "2023-09-18T17:44:23.757823Z",
     "start_time": "2023-09-18T17:44:23.744831Z"
    }
   },
   "id": "4a3ba212f1a39d9"
  },
  {
   "cell_type": "code",
   "execution_count": 158,
   "outputs": [
    {
     "data": {
      "text/plain": "8"
     },
     "execution_count": 158,
     "metadata": {},
     "output_type": "execute_result"
    }
   ],
   "source": [
    "outliers = get_all_outliers_indexes(X_train, distance=4)\n",
    "len(outliers)"
   ],
   "metadata": {
    "collapsed": false,
    "ExecuteTime": {
     "end_time": "2023-09-18T17:44:24.276505Z",
     "start_time": "2023-09-18T17:44:24.265699Z"
    }
   },
   "id": "850923270770dcb0"
  },
  {
   "cell_type": "code",
   "execution_count": 159,
   "outputs": [
    {
     "data": {
      "text/plain": "(Sector_score     23.627513\n PARA_A            1.832231\n Score_A           0.333679\n Risk_A            0.973617\n PARA_B            7.745328\n Score_B           0.309845\n Risk_B            4.510392\n TOTAL             9.557093\n numbers           5.038860\n Score_B.1         0.215544\n Risk_C            1.093264\n Money_Value       8.496409\n Score_MV          0.284974\n Risk_D            4.912411\n District_Loss     2.393782\n RiSk_E            0.491192\n History           0.056995\n Prob              0.211399\n Risk_F            0.022798\n Score             2.636269\n Inherent_Risk    12.003675\n CONTROL_RISK      0.513990\n dtype: float64,\n Sector_score     25.631190\n PARA_A            2.826497\n Score_A           0.168805\n Risk_A            1.738905\n PARA_B           18.901934\n Score_B           0.168190\n Risk_B           11.375526\n TOTAL            20.244255\n numbers           0.134214\n Score_B.1         0.053685\n Risk_C            0.322113\n Money_Value      21.744026\n Score_MV          0.157560\n Risk_D           13.085922\n District_Loss     1.122851\n RiSk_E            0.237993\n History           0.232436\n Prob              0.046487\n Risk_F            0.092974\n Score             0.791972\n Inherent_Risk    22.178800\n CONTROL_RISK      0.269763\n dtype: float64)"
     },
     "execution_count": 159,
     "metadata": {},
     "output_type": "execute_result"
    }
   ],
   "source": [
    "X_train_outliers = X_train.drop(outliers)\n",
    "y_train_outliers = y_train.drop(outliers)\n",
    "train_mean = X_train_outliers.mean()\n",
    "train_std = X_train_outliers.std()\n",
    "X_train_outliers = (X_train_outliers - train_mean) / train_std\n",
    "X_test_outliers = (X_test - train_mean) / train_std\n",
    "train_mean, train_std"
   ],
   "metadata": {
    "collapsed": false,
    "ExecuteTime": {
     "end_time": "2023-09-18T17:44:24.697457Z",
     "start_time": "2023-09-18T17:44:24.681186Z"
    }
   },
   "id": "86c0d8964a890413"
  },
  {
   "cell_type": "code",
   "execution_count": 160,
   "outputs": [
    {
     "name": "stdout",
     "output_type": "stream",
     "text": [
      "Training:\n",
      "RMSE: 5.32\n",
      "r2_score:  0.91\n",
      "Testing:\n",
      "RMSE: 78.26\n",
      "r2_score:  0.90\n"
     ]
    }
   ],
   "source": [
    "# Outliers MODEL\n",
    "outliers_model = LinearRegression()\n",
    "outliers_model.fit(X_train_outliers, y_train_outliers)\n",
    "print(\"Training:\")\n",
    "predicted = outliers_model.predict(X_train_outliers)\n",
    "get_model_metrics(y_train_outliers, predicted)\n",
    "\n",
    "print(\"Testing:\")\n",
    "predicted = outliers_model.predict(X_test_outliers)\n",
    "get_model_metrics(y_test, predicted)"
   ],
   "metadata": {
    "collapsed": false,
    "ExecuteTime": {
     "end_time": "2023-09-18T17:44:25.598490Z",
     "start_time": "2023-09-18T17:44:25.584324Z"
    }
   },
   "id": "f5eb5e7b6383f373"
  },
  {
   "cell_type": "markdown",
   "source": [
    "## Skewness correction"
   ],
   "metadata": {
    "collapsed": false
   },
   "id": "787453a535c9a84b"
  },
  {
   "cell_type": "code",
   "execution_count": 102,
   "outputs": [
    {
     "data": {
      "text/plain": "Sector_score     0.439308\nPARA_A           2.567854\nScore_A          0.735217\nRisk_A           2.568901\nPARA_B           3.161304\nScore_B          1.054245\nRisk_B           3.167023\nTOTAL            2.962354\nnumbers          3.278771\nScore_B.1        3.278771\nRisk_C           3.278771\nMoney_Value      4.132283\nScore_MV         1.541030\nRisk_D           4.138292\nDistrict_Loss    2.661289\nPROB             0.000000\nRiSk_E           2.661289\nHistory          4.026507\nProb             4.026507\nRisk_F           4.026507\nScore            1.088673\nInherent_Risk    2.880925\nCONTROL_RISK     2.617121\ndtype: float64"
     },
     "execution_count": 102,
     "metadata": {},
     "output_type": "execute_result"
    }
   ],
   "source": [
    "X_train_outliers.skew()"
   ],
   "metadata": {
    "collapsed": false,
    "ExecuteTime": {
     "end_time": "2023-09-18T16:51:34.392378Z",
     "start_time": "2023-09-18T16:51:34.385320Z"
    }
   },
   "id": "9b73a10b594751e4"
  },
  {
   "cell_type": "code",
   "execution_count": 137,
   "outputs": [],
   "source": [
    "from scipy import stats\n",
    "\n",
    "\n",
    "def get_boxcox_lambdas(data):\n",
    "    lambdas = {}\n",
    "    transformed_data = pd.DataFrame.copy(data)\n",
    "    for col in transformed_data.columns:\n",
    "        if np.abs(transformed_data[col].skew()) > 1.5:\n",
    "            transformed_var, lmd = stats.boxcox(transformed_data[col] + 1)\n",
    "            if np.abs(lmd) > 1.5:\n",
    "                lmd = 1.5 if lmd > 0 else -1.5\n",
    "                transformed_var = stats.boxcox(transformed_data[col] + 1, lmbda=lmd)\n",
    "                print(col, \": from \", data[col].skew().round(3),\" to \", pd.DataFrame(transformed_var).skew()[0].round(3))\n",
    "            transformed_data[col] = transformed_var\n",
    "            lambdas[col] = lmd\n",
    "    return transformed_data, lambdas\n",
    "\n",
    "def transform_with_lambdas(data, lmbds):\n",
    "    transformed_data = pd.DataFrame.copy(data)\n",
    "    for col in transformed_data.columns:\n",
    "        if col in lmbds.keys():\n",
    "            print(\"Transforming with \", lmbds[col], col)\n",
    "            transformed_data[col] = stats.boxcox(transformed_data[col] + 1, lmbda=lmbds[col])\n",
    "    return transformed_data\n",
    "    "
   ],
   "metadata": {
    "collapsed": false,
    "ExecuteTime": {
     "end_time": "2023-09-18T17:22:31.875791Z",
     "start_time": "2023-09-18T17:22:31.862456Z"
    }
   },
   "id": "3db8409d53948e71"
  },
  {
   "cell_type": "code",
   "execution_count": 137,
   "outputs": [],
   "source": [],
   "metadata": {
    "collapsed": false,
    "ExecuteTime": {
     "end_time": "2023-09-18T17:22:32.983497Z",
     "start_time": "2023-09-18T17:22:32.970011Z"
    }
   },
   "id": "6c79ca27868ae93e"
  },
  {
   "cell_type": "code",
   "execution_count": 142,
   "outputs": [
    {
     "name": "stdout",
     "output_type": "stream",
     "text": [
      "numbers : from  4.206  to  3.673\n",
      "Score_B.1 : from  3.361  to  3.077\n",
      "Risk_C : from  3.713  to  2.904\n",
      "District_Loss : from  2.592  to  2.373\n",
      "PROB : from  7.235  to  6.822\n",
      "RiSk_E : from  2.311  to  2.156\n",
      "History : from  7.306  to  3.521\n",
      "Prob : from  4.195  to  3.844\n",
      "Risk_F : from  8.738  to  4.156\n",
      "CONTROL_RISK : from  3.818  to  2.008\n"
     ]
    }
   ],
   "source": [
    "X_train_box, lambdas = get_boxcox_lambdas(X_train)"
   ],
   "metadata": {
    "collapsed": false,
    "ExecuteTime": {
     "end_time": "2023-09-18T17:23:08.871248Z",
     "start_time": "2023-09-18T17:23:08.842709Z"
    }
   },
   "id": "bf248105f3a29a94"
  },
  {
   "cell_type": "code",
   "execution_count": 143,
   "outputs": [
    {
     "name": "stdout",
     "output_type": "stream",
     "text": [
      "Transforming with  -0.7089474586051495 PARA_A\n",
      "Transforming with  -1.4023756224547255 Risk_A\n",
      "Transforming with  -0.6916113993624213 PARA_B\n",
      "Transforming with  -1.0210038815398903 Risk_B\n",
      "Transforming with  -0.4913919611349291 TOTAL\n",
      "Transforming with  -1.5 numbers\n",
      "Transforming with  -1.5 Score_B.1\n",
      "Transforming with  -1.5 Risk_C\n",
      "Transforming with  -0.7296626492326049 Money_Value\n",
      "Transforming with  -1.0670945421473519 Risk_D\n",
      "Transforming with  -1.5 District_Loss\n",
      "Transforming with  -1.5 PROB\n",
      "Transforming with  -1.5 RiSk_E\n",
      "Transforming with  -1.5 History\n",
      "Transforming with  -1.5 Prob\n",
      "Transforming with  -1.5 Risk_F\n",
      "Transforming with  -0.7551342685212777 Inherent_Risk\n",
      "Transforming with  -1.5 CONTROL_RISK\n"
     ]
    }
   ],
   "source": [
    "X_test_box = transform_with_lambdas(X_test, lambdas)"
   ],
   "metadata": {
    "collapsed": false,
    "ExecuteTime": {
     "end_time": "2023-09-18T17:23:16.905021Z",
     "start_time": "2023-09-18T17:23:16.888751Z"
    }
   },
   "id": "74f696bc5fedb455"
  },
  {
   "cell_type": "code",
   "execution_count": 145,
   "outputs": [
    {
     "name": "stdout",
     "output_type": "stream",
     "text": [
      "Training:\n",
      "RMSE: 1279.61\n",
      "r2_score:  0.73\n",
      "Testing:\n",
      "RMSE: 3036.64\n",
      "r2_score:  -2.97\n"
     ]
    }
   ],
   "source": [
    "# BoxCox MODEL\n",
    "bc_model = LinearRegression()\n",
    "bc_model.fit(X_train_box, y_train)\n",
    "print(\"Training:\")\n",
    "predicted = bc_model.predict(X_train_box)\n",
    "get_model_metrics(y_train, predicted)\n",
    "\n",
    "print(\"Testing:\")\n",
    "predicted = bc_model.predict(X_test_box)\n",
    "get_model_metrics(y_test, predicted)"
   ],
   "metadata": {
    "collapsed": false,
    "ExecuteTime": {
     "end_time": "2023-09-18T17:23:32.830877Z",
     "start_time": "2023-09-18T17:23:32.821066Z"
    }
   },
   "id": "57eac78c34f9d9f5"
  },
  {
   "cell_type": "code",
   "execution_count": 141,
   "outputs": [
    {
     "data": {
      "text/plain": "Sector_score     0.439308\nPARA_A           0.215249\nScore_A          0.735217\nRisk_A           0.537911\nPARA_B           1.504122\nScore_B          1.054245\nRisk_B           1.622459\nTOTAL            1.097869\nnumbers          3.278771\nScore_B.1        3.278771\nRisk_C           3.278771\nMoney_Value      1.457467\nScore_MV         1.353026\nRisk_D           1.654959\nDistrict_Loss    2.341350\nPROB             0.000000\nRiSk_E           2.341350\nHistory          4.026507\nProb             4.026507\nRisk_F           4.026507\nScore            1.088673\nInherent_Risk    1.098257\nCONTROL_RISK     1.894965\ndtype: float64"
     },
     "execution_count": 141,
     "metadata": {},
     "output_type": "execute_result"
    }
   ],
   "source": [
    "X_train_box.skew()"
   ],
   "metadata": {
    "collapsed": false,
    "ExecuteTime": {
     "end_time": "2023-09-18T17:22:42.060555Z",
     "start_time": "2023-09-18T17:22:42.050459Z"
    }
   },
   "id": "777507fad93360fa"
  },
  {
   "cell_type": "code",
   "execution_count": 132,
   "outputs": [
    {
     "data": {
      "text/plain": "Sector_score      0.850694\nPARA_A            0.042865\nScore_A           0.445792\nRisk_A            0.297242\nPARA_B            1.096947\nScore_B           1.050085\nRisk_B            1.274091\nTOTAL             0.704118\nnumbers           2.725774\nScore_B.1         2.725774\nRisk_C            2.725774\nMoney_Value       1.214051\nScore_MV          1.461450\nRisk_D            1.408468\nDistrict_Loss     1.538504\nPROB             10.049876\nRiSk_E            1.461247\nHistory           3.442959\nProb              3.442959\nRisk_F            3.442959\nScore             1.155053\nInherent_Risk     0.975289\nCONTROL_RISK      1.126476\ndtype: float64"
     },
     "execution_count": 132,
     "metadata": {},
     "output_type": "execute_result"
    }
   ],
   "source": [
    "X_test_box.skew()"
   ],
   "metadata": {
    "collapsed": false,
    "ExecuteTime": {
     "end_time": "2023-09-18T17:20:54.249521Z",
     "start_time": "2023-09-18T17:20:54.238219Z"
    }
   },
   "id": "63529b039fe05ecf"
  },
  {
   "cell_type": "code",
   "execution_count": 146,
   "outputs": [
    {
     "data": {
      "text/plain": "array([ 1.63852069e-01,  7.68797239e+00, -1.46348652e-01,  3.41157007e+00,\n        7.58594302e+01, -3.52033835e-01,  1.99177078e+00, -8.08719477e+01,\n        7.36479939e-02,  7.36479939e-02,  7.36479939e-02,  2.51483711e+00,\n        3.68631152e-01, -1.88289571e-01,  4.88886801e-01, -3.33320401e-27,\n        4.88886801e-01,  7.06746342e-01,  7.06746342e-01,  7.06746342e-01,\n       -6.44649911e-02,  1.17904888e+00,  6.77163291e-01])"
     },
     "execution_count": 146,
     "metadata": {},
     "output_type": "execute_result"
    }
   ],
   "source": [
    "outliers_model.coef_"
   ],
   "metadata": {
    "collapsed": false,
    "ExecuteTime": {
     "end_time": "2023-09-18T17:31:08.020464Z",
     "start_time": "2023-09-18T17:31:07.992099Z"
    }
   },
   "id": "7a5009ca390956e3"
  },
  {
   "cell_type": "code",
   "execution_count": null,
   "outputs": [],
   "source": [],
   "metadata": {
    "collapsed": false
   },
   "id": "cabefd13f42e7685"
  }
 ],
 "metadata": {
  "kernelspec": {
   "display_name": "Python 3",
   "language": "python",
   "name": "python3"
  },
  "language_info": {
   "codemirror_mode": {
    "name": "ipython",
    "version": 2
   },
   "file_extension": ".py",
   "mimetype": "text/x-python",
   "name": "python",
   "nbconvert_exporter": "python",
   "pygments_lexer": "ipython2",
   "version": "2.7.6"
  }
 },
 "nbformat": 4,
 "nbformat_minor": 5
}
