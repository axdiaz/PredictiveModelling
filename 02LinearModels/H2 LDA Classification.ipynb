{
 "cells": [
  {
   "cell_type": "markdown",
   "source": [
    "\n",
    "# Homework 2. LDA for classification\n",
    "Jorge Alejandro Díaz Sánchez\n"
   ],
   "metadata": {
    "collapsed": false
   },
   "id": "451af8adb9ac8cc7"
  },
  {
   "cell_type": "markdown",
   "source": [
    "The description of this task in PDF can be downloaded at the following link: Homework description file\n",
    "\n",
    "Links to an external site.\n",
    "\n",
    "In this exercise, the dataset that will be used is “Heart_Disease”. This database contains 76 attributes, but all published experiments refer to using a subset of 14 of them.  In particular, the Cleveland database is the only one that has been used by ML researchers to date.  The \"goal\" field refers to the presence of heart disease in the patient. It is integer valued from 0 (no presence) to 4. Experiments with the Cleveland database have concentrated on simply attempting to distinguish presence (values 1,2,3,4) from absence (value 0). The dataset can be obtained in the repository “UC Irvine Machine Learning Repository” (https://archive.ics.uci.edu/dataset/45/heart+disease\n",
    "Links to an external site. ). For this exercise, you can use any of the files namely “processed.xxxxx.data”. You should consider that there are some differences between the classes in some of those files."
   ],
   "metadata": {
    "collapsed": false
   },
   "id": "186f1c05a285279e"
  },
  {
   "cell_type": "code",
   "execution_count": 1,
   "outputs": [],
   "source": [
    "random_seed = 0"
   ],
   "metadata": {
    "collapsed": false,
    "ExecuteTime": {
     "end_time": "2023-09-12T23:38:48.686392Z",
     "start_time": "2023-09-12T23:38:48.679476Z"
    }
   },
   "id": "481a997293c52b4f"
  },
  {
   "cell_type": "code",
   "execution_count": 2,
   "id": "initial_id",
   "metadata": {
    "collapsed": true,
    "ExecuteTime": {
     "end_time": "2023-09-12T23:38:48.687078Z",
     "start_time": "2023-09-12T23:38:48.681923Z"
    }
   },
   "outputs": [],
   "source": [
    "import sys\n",
    "sys.path.append(r\"~/Documents/GitHub/PredictiveModelling/\")\n",
    "import ax_utilities as utl\n",
    "import pandas as pd\n",
    "import numpy as np\n",
    "from matplotlib import pyplot as plt"
   ]
  },
  {
   "cell_type": "code",
   "execution_count": 3,
   "outputs": [
    {
     "data": {
      "text/plain": "      age  sex   cp  trestbps   chol  fbs  restecg  thalach  exang  oldpeak  \\\n0    63.0  1.0  1.0     145.0  233.0  1.0      2.0    150.0    0.0      2.3   \n1    67.0  1.0  4.0     160.0  286.0  0.0      2.0    108.0    1.0      1.5   \n2    67.0  1.0  4.0     120.0  229.0  0.0      2.0    129.0    1.0      2.6   \n3    37.0  1.0  3.0     130.0  250.0  0.0      0.0    187.0    0.0      3.5   \n4    41.0  0.0  2.0     130.0  204.0  0.0      2.0    172.0    0.0      1.4   \n..    ...  ...  ...       ...    ...  ...      ...      ...    ...      ...   \n298  45.0  1.0  1.0     110.0  264.0  0.0      0.0    132.0    0.0      1.2   \n299  68.0  1.0  4.0     144.0  193.0  1.0      0.0    141.0    0.0      3.4   \n300  57.0  1.0  4.0     130.0  131.0  0.0      0.0    115.0    1.0      1.2   \n301  57.0  0.0  2.0     130.0  236.0  0.0      2.0    174.0    0.0      0.0   \n302  38.0  1.0  3.0     138.0  175.0  0.0      0.0    173.0    0.0      0.0   \n\n     slope   ca  thal  num  \n0      3.0  0.0   6.0    0  \n1      2.0  3.0   3.0    2  \n2      2.0  2.0   7.0    1  \n3      3.0  0.0   3.0    0  \n4      1.0  0.0   3.0    0  \n..     ...  ...   ...  ...  \n298    2.0  0.0   7.0    1  \n299    2.0  2.0   7.0    2  \n300    2.0  1.0   7.0    3  \n301    2.0  1.0   3.0    1  \n302    1.0  NaN   3.0    0  \n\n[303 rows x 14 columns]",
      "text/html": "<div>\n<style scoped>\n    .dataframe tbody tr th:only-of-type {\n        vertical-align: middle;\n    }\n\n    .dataframe tbody tr th {\n        vertical-align: top;\n    }\n\n    .dataframe thead th {\n        text-align: right;\n    }\n</style>\n<table border=\"1\" class=\"dataframe\">\n  <thead>\n    <tr style=\"text-align: right;\">\n      <th></th>\n      <th>age</th>\n      <th>sex</th>\n      <th>cp</th>\n      <th>trestbps</th>\n      <th>chol</th>\n      <th>fbs</th>\n      <th>restecg</th>\n      <th>thalach</th>\n      <th>exang</th>\n      <th>oldpeak</th>\n      <th>slope</th>\n      <th>ca</th>\n      <th>thal</th>\n      <th>num</th>\n    </tr>\n  </thead>\n  <tbody>\n    <tr>\n      <th>0</th>\n      <td>63.0</td>\n      <td>1.0</td>\n      <td>1.0</td>\n      <td>145.0</td>\n      <td>233.0</td>\n      <td>1.0</td>\n      <td>2.0</td>\n      <td>150.0</td>\n      <td>0.0</td>\n      <td>2.3</td>\n      <td>3.0</td>\n      <td>0.0</td>\n      <td>6.0</td>\n      <td>0</td>\n    </tr>\n    <tr>\n      <th>1</th>\n      <td>67.0</td>\n      <td>1.0</td>\n      <td>4.0</td>\n      <td>160.0</td>\n      <td>286.0</td>\n      <td>0.0</td>\n      <td>2.0</td>\n      <td>108.0</td>\n      <td>1.0</td>\n      <td>1.5</td>\n      <td>2.0</td>\n      <td>3.0</td>\n      <td>3.0</td>\n      <td>2</td>\n    </tr>\n    <tr>\n      <th>2</th>\n      <td>67.0</td>\n      <td>1.0</td>\n      <td>4.0</td>\n      <td>120.0</td>\n      <td>229.0</td>\n      <td>0.0</td>\n      <td>2.0</td>\n      <td>129.0</td>\n      <td>1.0</td>\n      <td>2.6</td>\n      <td>2.0</td>\n      <td>2.0</td>\n      <td>7.0</td>\n      <td>1</td>\n    </tr>\n    <tr>\n      <th>3</th>\n      <td>37.0</td>\n      <td>1.0</td>\n      <td>3.0</td>\n      <td>130.0</td>\n      <td>250.0</td>\n      <td>0.0</td>\n      <td>0.0</td>\n      <td>187.0</td>\n      <td>0.0</td>\n      <td>3.5</td>\n      <td>3.0</td>\n      <td>0.0</td>\n      <td>3.0</td>\n      <td>0</td>\n    </tr>\n    <tr>\n      <th>4</th>\n      <td>41.0</td>\n      <td>0.0</td>\n      <td>2.0</td>\n      <td>130.0</td>\n      <td>204.0</td>\n      <td>0.0</td>\n      <td>2.0</td>\n      <td>172.0</td>\n      <td>0.0</td>\n      <td>1.4</td>\n      <td>1.0</td>\n      <td>0.0</td>\n      <td>3.0</td>\n      <td>0</td>\n    </tr>\n    <tr>\n      <th>...</th>\n      <td>...</td>\n      <td>...</td>\n      <td>...</td>\n      <td>...</td>\n      <td>...</td>\n      <td>...</td>\n      <td>...</td>\n      <td>...</td>\n      <td>...</td>\n      <td>...</td>\n      <td>...</td>\n      <td>...</td>\n      <td>...</td>\n      <td>...</td>\n    </tr>\n    <tr>\n      <th>298</th>\n      <td>45.0</td>\n      <td>1.0</td>\n      <td>1.0</td>\n      <td>110.0</td>\n      <td>264.0</td>\n      <td>0.0</td>\n      <td>0.0</td>\n      <td>132.0</td>\n      <td>0.0</td>\n      <td>1.2</td>\n      <td>2.0</td>\n      <td>0.0</td>\n      <td>7.0</td>\n      <td>1</td>\n    </tr>\n    <tr>\n      <th>299</th>\n      <td>68.0</td>\n      <td>1.0</td>\n      <td>4.0</td>\n      <td>144.0</td>\n      <td>193.0</td>\n      <td>1.0</td>\n      <td>0.0</td>\n      <td>141.0</td>\n      <td>0.0</td>\n      <td>3.4</td>\n      <td>2.0</td>\n      <td>2.0</td>\n      <td>7.0</td>\n      <td>2</td>\n    </tr>\n    <tr>\n      <th>300</th>\n      <td>57.0</td>\n      <td>1.0</td>\n      <td>4.0</td>\n      <td>130.0</td>\n      <td>131.0</td>\n      <td>0.0</td>\n      <td>0.0</td>\n      <td>115.0</td>\n      <td>1.0</td>\n      <td>1.2</td>\n      <td>2.0</td>\n      <td>1.0</td>\n      <td>7.0</td>\n      <td>3</td>\n    </tr>\n    <tr>\n      <th>301</th>\n      <td>57.0</td>\n      <td>0.0</td>\n      <td>2.0</td>\n      <td>130.0</td>\n      <td>236.0</td>\n      <td>0.0</td>\n      <td>2.0</td>\n      <td>174.0</td>\n      <td>0.0</td>\n      <td>0.0</td>\n      <td>2.0</td>\n      <td>1.0</td>\n      <td>3.0</td>\n      <td>1</td>\n    </tr>\n    <tr>\n      <th>302</th>\n      <td>38.0</td>\n      <td>1.0</td>\n      <td>3.0</td>\n      <td>138.0</td>\n      <td>175.0</td>\n      <td>0.0</td>\n      <td>0.0</td>\n      <td>173.0</td>\n      <td>0.0</td>\n      <td>0.0</td>\n      <td>1.0</td>\n      <td>NaN</td>\n      <td>3.0</td>\n      <td>0</td>\n    </tr>\n  </tbody>\n</table>\n<p>303 rows × 14 columns</p>\n</div>"
     },
     "execution_count": 3,
     "metadata": {},
     "output_type": "execute_result"
    }
   ],
   "source": [
    "df = pd.read_csv(\"Data/heart_disease/processed.cleveland.data\", header=None, names=['age','sex','cp','trestbps','chol','fbs','restecg','thalach','exang','oldpeak','slope','ca','thal','num'], na_values=[\"?\"])\n",
    "df"
   ],
   "metadata": {
    "collapsed": false,
    "ExecuteTime": {
     "end_time": "2023-09-12T23:38:48.731083Z",
     "start_time": "2023-09-12T23:38:48.685596Z"
    }
   },
   "id": "da747423b7d02510"
  },
  {
   "cell_type": "markdown",
   "source": [
    "Attribute Information:\n",
    "   -- Only 14 used\n",
    "      -- 1. #3  (age)\n",
    "      -- 2. #4  (sex)      \n",
    "      -- 3. #9  (cp)        \n",
    "      -- 4. #10 (trestbps)  \n",
    "      -- 5. #12 (chol)      \n",
    "      -- 6. #16 (fbs)       \n",
    "      -- 7. #19 (restecg)   \n",
    "      -- 8. #32 (thalach)   \n",
    "      -- 9. #38 (exang)     \n",
    "      -- 10. #40 (oldpeak)   \n",
    "      -- 11. #41 (slope)     \n",
    "      -- 12. #44 (ca)        \n",
    "      -- 13. #51 (thal)      \n",
    "      -- 14. #58 (num)       (the predicted attribute)"
   ],
   "metadata": {
    "collapsed": false
   },
   "id": "8f6a7a379f3a6a28"
  },
  {
   "cell_type": "code",
   "execution_count": 3,
   "outputs": [],
   "source": [],
   "metadata": {
    "collapsed": false,
    "ExecuteTime": {
     "end_time": "2023-09-12T23:38:48.731364Z",
     "start_time": "2023-09-12T23:38:48.700259Z"
    }
   },
   "id": "7e477edae5925a5f"
  },
  {
   "cell_type": "code",
   "execution_count": 4,
   "outputs": [
    {
     "data": {
      "text/plain": "                 0     Type  Missing_values  Present_values  Unique_values  \\\nage            age  float64               0             303             41   \nsex            sex  float64               0             303              2   \ncp              cp  float64               0             303              4   \ntrestbps  trestbps  float64               0             303             50   \nchol          chol  float64               0             303            152   \nfbs            fbs  float64               0             303              2   \nrestecg    restecg  float64               0             303              3   \nthalach    thalach  float64               0             303             91   \nexang        exang  float64               0             303              2   \noldpeak    oldpeak  float64               0             303             40   \nslope        slope  float64               0             303              3   \nca              ca  float64               4             299              4   \nthal          thal  float64               2             301              3   \nnum            num    int64               0             303              5   \n\n          Min_value  Max_value  \nage            29.0       77.0  \nsex             0.0        1.0  \ncp              1.0        4.0  \ntrestbps       94.0      200.0  \nchol          126.0      564.0  \nfbs             0.0        1.0  \nrestecg         0.0        2.0  \nthalach        71.0      202.0  \nexang           0.0        1.0  \noldpeak         0.0        6.2  \nslope           1.0        3.0  \nca              0.0        3.0  \nthal            3.0        7.0  \nnum             0.0        4.0  ",
      "text/html": "<div>\n<style scoped>\n    .dataframe tbody tr th:only-of-type {\n        vertical-align: middle;\n    }\n\n    .dataframe tbody tr th {\n        vertical-align: top;\n    }\n\n    .dataframe thead th {\n        text-align: right;\n    }\n</style>\n<table border=\"1\" class=\"dataframe\">\n  <thead>\n    <tr style=\"text-align: right;\">\n      <th></th>\n      <th>0</th>\n      <th>Type</th>\n      <th>Missing_values</th>\n      <th>Present_values</th>\n      <th>Unique_values</th>\n      <th>Min_value</th>\n      <th>Max_value</th>\n    </tr>\n  </thead>\n  <tbody>\n    <tr>\n      <th>age</th>\n      <td>age</td>\n      <td>float64</td>\n      <td>0</td>\n      <td>303</td>\n      <td>41</td>\n      <td>29.0</td>\n      <td>77.0</td>\n    </tr>\n    <tr>\n      <th>sex</th>\n      <td>sex</td>\n      <td>float64</td>\n      <td>0</td>\n      <td>303</td>\n      <td>2</td>\n      <td>0.0</td>\n      <td>1.0</td>\n    </tr>\n    <tr>\n      <th>cp</th>\n      <td>cp</td>\n      <td>float64</td>\n      <td>0</td>\n      <td>303</td>\n      <td>4</td>\n      <td>1.0</td>\n      <td>4.0</td>\n    </tr>\n    <tr>\n      <th>trestbps</th>\n      <td>trestbps</td>\n      <td>float64</td>\n      <td>0</td>\n      <td>303</td>\n      <td>50</td>\n      <td>94.0</td>\n      <td>200.0</td>\n    </tr>\n    <tr>\n      <th>chol</th>\n      <td>chol</td>\n      <td>float64</td>\n      <td>0</td>\n      <td>303</td>\n      <td>152</td>\n      <td>126.0</td>\n      <td>564.0</td>\n    </tr>\n    <tr>\n      <th>fbs</th>\n      <td>fbs</td>\n      <td>float64</td>\n      <td>0</td>\n      <td>303</td>\n      <td>2</td>\n      <td>0.0</td>\n      <td>1.0</td>\n    </tr>\n    <tr>\n      <th>restecg</th>\n      <td>restecg</td>\n      <td>float64</td>\n      <td>0</td>\n      <td>303</td>\n      <td>3</td>\n      <td>0.0</td>\n      <td>2.0</td>\n    </tr>\n    <tr>\n      <th>thalach</th>\n      <td>thalach</td>\n      <td>float64</td>\n      <td>0</td>\n      <td>303</td>\n      <td>91</td>\n      <td>71.0</td>\n      <td>202.0</td>\n    </tr>\n    <tr>\n      <th>exang</th>\n      <td>exang</td>\n      <td>float64</td>\n      <td>0</td>\n      <td>303</td>\n      <td>2</td>\n      <td>0.0</td>\n      <td>1.0</td>\n    </tr>\n    <tr>\n      <th>oldpeak</th>\n      <td>oldpeak</td>\n      <td>float64</td>\n      <td>0</td>\n      <td>303</td>\n      <td>40</td>\n      <td>0.0</td>\n      <td>6.2</td>\n    </tr>\n    <tr>\n      <th>slope</th>\n      <td>slope</td>\n      <td>float64</td>\n      <td>0</td>\n      <td>303</td>\n      <td>3</td>\n      <td>1.0</td>\n      <td>3.0</td>\n    </tr>\n    <tr>\n      <th>ca</th>\n      <td>ca</td>\n      <td>float64</td>\n      <td>4</td>\n      <td>299</td>\n      <td>4</td>\n      <td>0.0</td>\n      <td>3.0</td>\n    </tr>\n    <tr>\n      <th>thal</th>\n      <td>thal</td>\n      <td>float64</td>\n      <td>2</td>\n      <td>301</td>\n      <td>3</td>\n      <td>3.0</td>\n      <td>7.0</td>\n    </tr>\n    <tr>\n      <th>num</th>\n      <td>num</td>\n      <td>int64</td>\n      <td>0</td>\n      <td>303</td>\n      <td>5</td>\n      <td>0.0</td>\n      <td>4.0</td>\n    </tr>\n  </tbody>\n</table>\n</div>"
     },
     "execution_count": 4,
     "metadata": {},
     "output_type": "execute_result"
    }
   ],
   "source": [
    "utl.data_quality_report(df)"
   ],
   "metadata": {
    "collapsed": false,
    "ExecuteTime": {
     "end_time": "2023-09-12T23:38:48.770699Z",
     "start_time": "2023-09-12T23:38:48.703499Z"
    }
   },
   "id": "a04e2c45f12ade24"
  },
  {
   "cell_type": "markdown",
   "source": [
    "There are some non numeric  characters \"?\" in variables \"ca\" and \"thal\", we are replacing them with np.nan, to drop them."
   ],
   "metadata": {
    "collapsed": false
   },
   "id": "9393a7e875786ff4"
  },
  {
   "cell_type": "code",
   "execution_count": 5,
   "outputs": [
    {
     "data": {
      "text/plain": "                 0     Type  Missing_values  Present_values  Unique_values  \\\nage            age  float64               0             303             41   \nsex            sex  float64               0             303              2   \ncp              cp  float64               0             303              4   \ntrestbps  trestbps  float64               0             303             50   \nchol          chol  float64               0             303            152   \nfbs            fbs  float64               0             303              2   \nrestecg    restecg  float64               0             303              3   \nthalach    thalach  float64               0             303             91   \nexang        exang  float64               0             303              2   \noldpeak    oldpeak  float64               0             303             40   \nslope        slope  float64               0             303              3   \nca              ca  float64               4             299              4   \nthal          thal  float64               2             301              3   \nnum            num    int64               0             303              5   \n\n          Min_value  Max_value  \nage            29.0       77.0  \nsex             0.0        1.0  \ncp              1.0        4.0  \ntrestbps       94.0      200.0  \nchol          126.0      564.0  \nfbs             0.0        1.0  \nrestecg         0.0        2.0  \nthalach        71.0      202.0  \nexang           0.0        1.0  \noldpeak         0.0        6.2  \nslope           1.0        3.0  \nca              0.0        3.0  \nthal            3.0        7.0  \nnum             0.0        4.0  ",
      "text/html": "<div>\n<style scoped>\n    .dataframe tbody tr th:only-of-type {\n        vertical-align: middle;\n    }\n\n    .dataframe tbody tr th {\n        vertical-align: top;\n    }\n\n    .dataframe thead th {\n        text-align: right;\n    }\n</style>\n<table border=\"1\" class=\"dataframe\">\n  <thead>\n    <tr style=\"text-align: right;\">\n      <th></th>\n      <th>0</th>\n      <th>Type</th>\n      <th>Missing_values</th>\n      <th>Present_values</th>\n      <th>Unique_values</th>\n      <th>Min_value</th>\n      <th>Max_value</th>\n    </tr>\n  </thead>\n  <tbody>\n    <tr>\n      <th>age</th>\n      <td>age</td>\n      <td>float64</td>\n      <td>0</td>\n      <td>303</td>\n      <td>41</td>\n      <td>29.0</td>\n      <td>77.0</td>\n    </tr>\n    <tr>\n      <th>sex</th>\n      <td>sex</td>\n      <td>float64</td>\n      <td>0</td>\n      <td>303</td>\n      <td>2</td>\n      <td>0.0</td>\n      <td>1.0</td>\n    </tr>\n    <tr>\n      <th>cp</th>\n      <td>cp</td>\n      <td>float64</td>\n      <td>0</td>\n      <td>303</td>\n      <td>4</td>\n      <td>1.0</td>\n      <td>4.0</td>\n    </tr>\n    <tr>\n      <th>trestbps</th>\n      <td>trestbps</td>\n      <td>float64</td>\n      <td>0</td>\n      <td>303</td>\n      <td>50</td>\n      <td>94.0</td>\n      <td>200.0</td>\n    </tr>\n    <tr>\n      <th>chol</th>\n      <td>chol</td>\n      <td>float64</td>\n      <td>0</td>\n      <td>303</td>\n      <td>152</td>\n      <td>126.0</td>\n      <td>564.0</td>\n    </tr>\n    <tr>\n      <th>fbs</th>\n      <td>fbs</td>\n      <td>float64</td>\n      <td>0</td>\n      <td>303</td>\n      <td>2</td>\n      <td>0.0</td>\n      <td>1.0</td>\n    </tr>\n    <tr>\n      <th>restecg</th>\n      <td>restecg</td>\n      <td>float64</td>\n      <td>0</td>\n      <td>303</td>\n      <td>3</td>\n      <td>0.0</td>\n      <td>2.0</td>\n    </tr>\n    <tr>\n      <th>thalach</th>\n      <td>thalach</td>\n      <td>float64</td>\n      <td>0</td>\n      <td>303</td>\n      <td>91</td>\n      <td>71.0</td>\n      <td>202.0</td>\n    </tr>\n    <tr>\n      <th>exang</th>\n      <td>exang</td>\n      <td>float64</td>\n      <td>0</td>\n      <td>303</td>\n      <td>2</td>\n      <td>0.0</td>\n      <td>1.0</td>\n    </tr>\n    <tr>\n      <th>oldpeak</th>\n      <td>oldpeak</td>\n      <td>float64</td>\n      <td>0</td>\n      <td>303</td>\n      <td>40</td>\n      <td>0.0</td>\n      <td>6.2</td>\n    </tr>\n    <tr>\n      <th>slope</th>\n      <td>slope</td>\n      <td>float64</td>\n      <td>0</td>\n      <td>303</td>\n      <td>3</td>\n      <td>1.0</td>\n      <td>3.0</td>\n    </tr>\n    <tr>\n      <th>ca</th>\n      <td>ca</td>\n      <td>float64</td>\n      <td>4</td>\n      <td>299</td>\n      <td>4</td>\n      <td>0.0</td>\n      <td>3.0</td>\n    </tr>\n    <tr>\n      <th>thal</th>\n      <td>thal</td>\n      <td>float64</td>\n      <td>2</td>\n      <td>301</td>\n      <td>3</td>\n      <td>3.0</td>\n      <td>7.0</td>\n    </tr>\n    <tr>\n      <th>num</th>\n      <td>num</td>\n      <td>int64</td>\n      <td>0</td>\n      <td>303</td>\n      <td>5</td>\n      <td>0.0</td>\n      <td>4.0</td>\n    </tr>\n  </tbody>\n</table>\n</div>"
     },
     "execution_count": 5,
     "metadata": {},
     "output_type": "execute_result"
    }
   ],
   "source": [
    "utl.data_quality_report(df)"
   ],
   "metadata": {
    "collapsed": false,
    "ExecuteTime": {
     "end_time": "2023-09-12T23:38:48.786623Z",
     "start_time": "2023-09-12T23:38:48.727477Z"
    }
   },
   "id": "5e3e765e0b4c2d02"
  },
  {
   "cell_type": "code",
   "execution_count": 6,
   "outputs": [
    {
     "data": {
      "text/plain": "0.019801980198019802"
     },
     "execution_count": 6,
     "metadata": {},
     "output_type": "execute_result"
    }
   ],
   "source": [
    "df.isna().sum().sum() / df.shape[0]"
   ],
   "metadata": {
    "collapsed": false,
    "ExecuteTime": {
     "end_time": "2023-09-12T23:38:48.804243Z",
     "start_time": "2023-09-12T23:38:48.751735Z"
    }
   },
   "id": "3decfddcb397732a"
  },
  {
   "cell_type": "code",
   "execution_count": 7,
   "outputs": [],
   "source": [
    "df.dropna(inplace=True)"
   ],
   "metadata": {
    "collapsed": false,
    "ExecuteTime": {
     "end_time": "2023-09-12T23:38:48.822373Z",
     "start_time": "2023-09-12T23:38:48.754408Z"
    }
   },
   "id": "24e7e50d02d9b004"
  },
  {
   "cell_type": "code",
   "execution_count": 8,
   "outputs": [
    {
     "data": {
      "text/plain": "Index(['age', 'sex', 'cp', 'trestbps', 'chol', 'fbs', 'restecg', 'thalach',\n       'exang', 'oldpeak', 'slope', 'ca', 'thal'],\n      dtype='object')"
     },
     "execution_count": 8,
     "metadata": {},
     "output_type": "execute_result"
    }
   ],
   "source": [
    "inputs = df.drop(columns=\"num\")\n",
    "inputs.columns"
   ],
   "metadata": {
    "collapsed": false,
    "ExecuteTime": {
     "end_time": "2023-09-12T23:38:48.822840Z",
     "start_time": "2023-09-12T23:38:48.759262Z"
    }
   },
   "id": "6fbf8f01297e9b7f"
  },
  {
   "cell_type": "code",
   "execution_count": 9,
   "outputs": [
    {
     "data": {
      "text/plain": "0    160\n1     54\n2     35\n3     35\n4     13\nName: num, dtype: int64"
     },
     "execution_count": 9,
     "metadata": {},
     "output_type": "execute_result"
    }
   ],
   "source": [
    "target = df[\"num\"]\n",
    "target.value_counts()"
   ],
   "metadata": {
    "collapsed": false,
    "ExecuteTime": {
     "end_time": "2023-09-12T23:38:48.854401Z",
     "start_time": "2023-09-12T23:38:48.764151Z"
    }
   },
   "id": "c13d4d1414f52b28"
  },
  {
   "cell_type": "code",
   "execution_count": 10,
   "outputs": [
    {
     "name": "stderr",
     "output_type": "stream",
     "text": [
      "/var/folders/51/l057c8xx2md597vhk47n57rm0000gn/T/ipykernel_71887/2469113571.py:2: SettingWithCopyWarning: \n",
      "A value is trying to be set on a copy of a slice from a DataFrame\n",
      "\n",
      "See the caveats in the documentation: https://pandas.pydata.org/pandas-docs/stable/user_guide/indexing.html#returning-a-view-versus-a-copy\n",
      "  target.iloc[target != 0] = 1\n"
     ]
    }
   ],
   "source": [
    "# we are only interested if there's a hearth disease (1-4) or not (0), so we are grouping 1-4 into just 1\n",
    "target.iloc[target != 0] = 1"
   ],
   "metadata": {
    "collapsed": false,
    "ExecuteTime": {
     "end_time": "2023-09-12T23:38:48.854576Z",
     "start_time": "2023-09-12T23:38:48.768617Z"
    }
   },
   "id": "ae2111b29f7a5efd"
  },
  {
   "cell_type": "code",
   "execution_count": 11,
   "outputs": [
    {
     "data": {
      "text/plain": "0    160\n1    137\nName: num, dtype: int64"
     },
     "execution_count": 11,
     "metadata": {},
     "output_type": "execute_result"
    }
   ],
   "source": [
    "target.value_counts()"
   ],
   "metadata": {
    "collapsed": false,
    "ExecuteTime": {
     "end_time": "2023-09-12T23:38:48.857684Z",
     "start_time": "2023-09-12T23:38:48.771097Z"
    }
   },
   "id": "8107c20ab644b94c"
  },
  {
   "cell_type": "markdown",
   "source": [
    "## Test and Train subsets"
   ],
   "metadata": {
    "collapsed": false
   },
   "id": "d2ff3adb8dab4182"
  },
  {
   "cell_type": "code",
   "execution_count": 12,
   "outputs": [],
   "source": [
    "from sklearn.model_selection import train_test_split"
   ],
   "metadata": {
    "collapsed": false,
    "ExecuteTime": {
     "end_time": "2023-09-12T23:38:49.040585Z",
     "start_time": "2023-09-12T23:38:48.773653Z"
    }
   },
   "id": "f4abbe4dd6f3a0ad"
  },
  {
   "cell_type": "code",
   "execution_count": 13,
   "outputs": [],
   "source": [
    "X_train, X_test, y_train, y_test = train_test_split(inputs, target, random_state=random_seed)"
   ],
   "metadata": {
    "collapsed": false,
    "ExecuteTime": {
     "end_time": "2023-09-12T23:38:49.040870Z",
     "start_time": "2023-09-12T23:38:48.935531Z"
    }
   },
   "id": "12cb01d6816b8a25"
  },
  {
   "cell_type": "markdown",
   "source": [
    "## Useful Utility"
   ],
   "metadata": {
    "collapsed": false
   },
   "id": "abcf15e2bc3bb0d"
  },
  {
   "cell_type": "code",
   "execution_count": 14,
   "outputs": [],
   "source": [
    "from sklearn.metrics import (precision_score, accuracy_score, recall_score)\n",
    "\n",
    "def get_model_metrics(actual, predicted):\n",
    "    print(\"Accuracy: \", accuracy_score(actual, predicted))\n",
    "    print(\"Recall: \", recall_score(actual, predicted))\n",
    "    print(\"Precision: \", precision_score(actual, predicted))"
   ],
   "metadata": {
    "collapsed": false,
    "ExecuteTime": {
     "end_time": "2023-09-12T23:38:49.040967Z",
     "start_time": "2023-09-12T23:38:48.938907Z"
    }
   },
   "id": "67edf663baa1e2cc"
  },
  {
   "cell_type": "markdown",
   "source": [
    "## Base Logistic Regression Model\n",
    "Train a logistic regression model to estimate the feature “target” using all the pixels in the\n",
    "image as input variables. Get the accuracy values or another metric (precision, recall, …) to\n",
    "evaluate the model's performance in training and testing."
   ],
   "metadata": {
    "collapsed": false
   },
   "id": "a899172234298ef2"
  },
  {
   "cell_type": "code",
   "execution_count": 15,
   "outputs": [],
   "source": [
    "from sklearn.linear_model import LogisticRegression"
   ],
   "metadata": {
    "collapsed": false,
    "ExecuteTime": {
     "end_time": "2023-09-12T23:38:49.074367Z",
     "start_time": "2023-09-12T23:38:48.941164Z"
    }
   },
   "id": "4364a38c08b75c67"
  },
  {
   "cell_type": "code",
   "execution_count": 16,
   "outputs": [
    {
     "name": "stderr",
     "output_type": "stream",
     "text": [
      "/Users/adiaz/anaconda3/lib/python3.11/site-packages/sklearn/linear_model/_logistic.py:460: ConvergenceWarning: lbfgs failed to converge (status=1):\n",
      "STOP: TOTAL NO. of ITERATIONS REACHED LIMIT.\n",
      "\n",
      "Increase the number of iterations (max_iter) or scale the data as shown in:\n",
      "    https://scikit-learn.org/stable/modules/preprocessing.html\n",
      "Please also refer to the documentation for alternative solver options:\n",
      "    https://scikit-learn.org/stable/modules/linear_model.html#logistic-regression\n",
      "  n_iter_i = _check_optimize_result(\n"
     ]
    }
   ],
   "source": [
    "base_logistic_model = LogisticRegression()\n",
    "base_logistic_model.fit(X_train, y_train)\n",
    "y_predicted_train = base_logistic_model.predict(X_train)\n",
    "y_predicted_test = base_logistic_model.predict(X_test)"
   ],
   "metadata": {
    "collapsed": false,
    "ExecuteTime": {
     "end_time": "2023-09-12T23:38:49.074707Z",
     "start_time": "2023-09-12T23:38:48.993794Z"
    }
   },
   "id": "266d7575a7214847"
  },
  {
   "cell_type": "code",
   "execution_count": 17,
   "outputs": [
    {
     "name": "stdout",
     "output_type": "stream",
     "text": [
      "Accuracy:  0.8603603603603603\n",
      "Recall:  0.7722772277227723\n",
      "Precision:  0.9069767441860465\n"
     ]
    }
   ],
   "source": [
    "get_model_metrics(y_train, y_predicted_train)"
   ],
   "metadata": {
    "collapsed": false,
    "ExecuteTime": {
     "end_time": "2023-09-12T23:38:49.074794Z",
     "start_time": "2023-09-12T23:38:49.007552Z"
    }
   },
   "id": "de2809a3840d3071"
  },
  {
   "cell_type": "code",
   "execution_count": 18,
   "outputs": [
    {
     "name": "stdout",
     "output_type": "stream",
     "text": [
      "Accuracy:  0.84\n",
      "Recall:  0.75\n",
      "Precision:  0.9\n"
     ]
    }
   ],
   "source": [
    "get_model_metrics(y_test, y_predicted_test)"
   ],
   "metadata": {
    "collapsed": false,
    "ExecuteTime": {
     "end_time": "2023-09-12T23:38:49.074880Z",
     "start_time": "2023-09-12T23:38:49.013675Z"
    }
   },
   "id": "e3544277f8dfbe41"
  },
  {
   "cell_type": "code",
   "execution_count": 19,
   "outputs": [
    {
     "data": {
      "text/plain": "array([[-0.0400846 ],\n       [ 0.55619431],\n       [ 0.45733375],\n       [ 0.02277421],\n       [ 0.00258287],\n       [-0.27483743],\n       [ 0.2088982 ],\n       [-0.0436271 ],\n       [ 0.85102295],\n       [ 0.27910511],\n       [ 0.1489019 ],\n       [ 0.96456194],\n       [ 0.35538362]])"
     },
     "execution_count": 19,
     "metadata": {},
     "output_type": "execute_result"
    }
   ],
   "source": [
    "base_logistic_model.coef_.T"
   ],
   "metadata": {
    "collapsed": false,
    "ExecuteTime": {
     "end_time": "2023-09-12T23:38:49.075033Z",
     "start_time": "2023-09-12T23:38:49.019080Z"
    }
   },
   "id": "1d6ada0d66912c22"
  },
  {
   "cell_type": "code",
   "execution_count": 20,
   "outputs": [
    {
     "data": {
      "text/plain": "array([-0.19576745])"
     },
     "execution_count": 20,
     "metadata": {},
     "output_type": "execute_result"
    }
   ],
   "source": [
    "base_logistic_model.intercept_"
   ],
   "metadata": {
    "collapsed": false,
    "ExecuteTime": {
     "end_time": "2023-09-12T23:38:49.075135Z",
     "start_time": "2023-09-12T23:38:49.021855Z"
    }
   },
   "id": "775b098ea60aafb3"
  },
  {
   "cell_type": "markdown",
   "source": [
    "## PCA + Logistic Regression\n",
    "Considering the data set obtained in point 1, perform the dimension reduction using the\n",
    "PCA method. With the variables resulting from the reduction process, train a new logistic\n",
    "regression model and calculate the same metrics used in point 2."
   ],
   "metadata": {
    "collapsed": false
   },
   "id": "50b6d47cc833609d"
  },
  {
   "cell_type": "code",
   "execution_count": 21,
   "outputs": [],
   "source": [
    "# For this case, let's first transform the data using Principal Component Analysis\n",
    "from sklearn.decomposition import PCA"
   ],
   "metadata": {
    "collapsed": false,
    "ExecuteTime": {
     "end_time": "2023-09-12T23:38:49.075356Z",
     "start_time": "2023-09-12T23:38:49.025171Z"
    }
   },
   "id": "84b22a3ff5d5bca9"
  },
  {
   "cell_type": "code",
   "execution_count": 22,
   "outputs": [
    {
     "data": {
      "text/plain": "array([7.41054037e-01, 1.49414651e-01, 9.08156749e-02, 1.64738904e-02,\n       1.05399797e-03, 3.54037728e-04, 2.47375626e-04, 2.22757762e-04,\n       1.78577690e-04, 6.25303642e-05, 4.91249405e-05, 3.89292783e-05,\n       3.44156868e-05])"
     },
     "execution_count": 22,
     "metadata": {},
     "output_type": "execute_result"
    }
   ],
   "source": [
    "pca_transformer = PCA()\n",
    "X_train_pca = pca_transformer.fit_transform(X_train)\n",
    "pca_transformer.explained_variance_ratio_"
   ],
   "metadata": {
    "collapsed": false,
    "ExecuteTime": {
     "end_time": "2023-09-12T23:38:49.096339Z",
     "start_time": "2023-09-12T23:38:49.040028Z"
    }
   },
   "id": "ec07d4982b9861b3"
  },
  {
   "cell_type": "code",
   "execution_count": 23,
   "outputs": [
    {
     "data": {
      "text/plain": "array([0.74105404, 0.89046869, 0.98128436, 0.99775825, 0.99881225,\n       0.99916629, 0.99941366, 0.99963642, 0.999815  , 0.99987753,\n       0.99992666, 0.99996558, 1.        ])"
     },
     "execution_count": 23,
     "metadata": {},
     "output_type": "execute_result"
    }
   ],
   "source": [
    "from numpy import cumsum\n",
    "\n",
    "cumsum(pca_transformer.explained_variance_ratio_)"
   ],
   "metadata": {
    "collapsed": false,
    "ExecuteTime": {
     "end_time": "2023-09-12T23:38:49.096648Z",
     "start_time": "2023-09-12T23:38:49.045693Z"
    }
   },
   "id": "75d062d585dd1a82"
  },
  {
   "cell_type": "code",
   "execution_count": 24,
   "outputs": [
    {
     "data": {
      "text/plain": "array([[ 3.75847743e-02, -1.43387682e-03,  1.24359574e-04,\n         6.10652659e-02,  9.97413189e-01,  1.35850514e-04,\n         3.16749703e-03, -1.89617264e-03,  4.01062860e-04,\n         1.84440301e-03, -2.69053556e-04,  2.31927005e-03,\n         7.84523861e-04],\n       [ 2.01361719e-01,  3.77910789e-04,  1.40814641e-02,\n         1.13768101e-01, -1.64884919e-02,  5.21531336e-04,\n         3.53390005e-03, -9.72083801e-01,  8.37345287e-03,\n         1.57971214e-02,  9.83034305e-03,  1.15521956e-02,\n         2.30336033e-02],\n       [ 9.46891734e-02, -1.28967005e-03, -6.68379930e-03,\n         9.83956931e-01, -6.36029980e-02,  2.80608811e-03,\n         7.60307572e-03,  1.36170471e-01, -8.98027424e-04,\n         8.95654952e-03,  2.59808317e-03,  2.00420439e-03,\n         8.43622478e-03],\n       [-9.73586690e-01,  7.13843167e-03,  5.04386359e-03,\n         1.21625461e-01,  2.89515946e-02, -5.58807700e-03,\n         1.17815333e-03, -1.87962633e-01,  8.21188758e-03,\n         2.53679309e-03,  4.84114559e-03, -3.07546533e-02,\n         3.98613176e-03],\n       [ 3.76745033e-03, -1.06291456e-01, -1.32542587e-01,\n         1.29579793e-02,  2.95396957e-04, -7.59405710e-03,\n        -1.01399251e-02, -2.81676315e-02, -6.95634918e-02,\n        -2.00920591e-01, -6.95552659e-02, -1.10589141e-01,\n        -9.52744687e-01],\n       [-9.25403987e-03, -6.73936761e-03,  1.60066586e-01,\n        -9.34758128e-03, -2.19482661e-03,  1.02332958e-02,\n         3.84363497e-01,  1.39385191e-02,  4.39302722e-02,\n         7.89684737e-01,  2.37496925e-01,  2.88541476e-01,\n        -2.46836609e-01],\n       [-4.15173254e-04, -6.93357747e-02,  1.54821401e-01,\n         5.02493533e-03,  1.86304315e-03, -4.37937323e-02,\n        -9.11271549e-01,  4.15597075e-03,  1.75961137e-02,\n         3.54720260e-01,  6.64424994e-02,  2.47736531e-02,\n        -8.76274318e-02],\n       [ 1.08588848e-02,  1.57435406e-02, -8.12149590e-01,\n        -8.61777105e-03,  7.66593569e-04,  1.30444074e-02,\n        -2.77548890e-02, -7.52413522e-03, -1.16516595e-01,\n         3.08172691e-01,  2.01150962e-01, -4.26479203e-01,\n         8.99031029e-02],\n       [-2.94093217e-02,  5.55794041e-02, -4.87919178e-01,\n         7.27049315e-04, -2.04391094e-04,  7.73759275e-02,\n        -1.18735277e-01, -7.48117398e-03, -1.12984736e-01,\n        -9.41503962e-02, -1.53302414e-01,  8.32274877e-01,\n         5.12929239e-03],\n       [-1.84910973e-03,  6.60868647e-03,  2.56236856e-02,\n         1.09508790e-04,  7.42219264e-04,  1.50387180e-01,\n        -5.32290910e-02,  5.62148892e-03,  7.37034955e-02,\n        -3.20097318e-01,  9.20125694e-01,  1.36429813e-01,\n        -2.59931459e-02],\n       [-9.44563666e-03, -8.54470644e-01,  3.77797024e-02,\n        -1.19349591e-03, -9.50876885e-04, -1.92740082e-01,\n         5.95972727e-02, -1.90310738e-03, -4.54433127e-01,\n        -1.86225883e-02,  6.54298275e-02,  5.28130629e-02,\n         1.17176436e-01],\n       [ 1.98837096e-03, -3.90813481e-01, -1.81175050e-01,\n        -1.08196241e-03, -9.92440253e-04, -2.90707160e-01,\n         1.71784749e-02,  4.93135432e-03,  8.51295058e-01,\n        -2.73011846e-02, -2.94442223e-02,  5.64712908e-02,\n         9.98218929e-03],\n       [-4.93356696e-03, -3.12343682e-01,  3.56492114e-03,\n        -2.43306643e-03, -2.80189657e-04,  9.20569085e-01,\n        -1.07546033e-02, -2.18754503e-04,  1.72616034e-01,\n         4.97364147e-02, -1.35915849e-01, -6.04493549e-02,\n         2.09279395e-02]])"
     },
     "execution_count": 24,
     "metadata": {},
     "output_type": "execute_result"
    }
   ],
   "source": [
    "pca_transformer.components_"
   ],
   "metadata": {
    "collapsed": false,
    "ExecuteTime": {
     "end_time": "2023-09-12T23:38:49.096882Z",
     "start_time": "2023-09-12T23:38:49.049459Z"
    }
   },
   "id": "6cd00d7b2b89f516"
  },
  {
   "cell_type": "code",
   "execution_count": 25,
   "outputs": [],
   "source": [
    "import pickle\n",
    "\n",
    "# open a file to save PCA Matrix\n",
    "file = open('pca_matrix.pickle', 'wb')\n",
    "\n",
    "# dump information to that file\n",
    "pickle.dump(pca_transformer.components_, file)\n",
    "\n",
    "# close the file\n",
    "file.close()"
   ],
   "metadata": {
    "collapsed": false,
    "ExecuteTime": {
     "end_time": "2023-09-12T23:38:49.105869Z",
     "start_time": "2023-09-12T23:38:49.062074Z"
    }
   },
   "id": "78fcc82210d8ad74"
  },
  {
   "cell_type": "code",
   "execution_count": 26,
   "outputs": [],
   "source": [
    "X_train_pca = X_train_pca[:,:3]"
   ],
   "metadata": {
    "collapsed": false,
    "ExecuteTime": {
     "end_time": "2023-09-12T23:38:49.259136Z",
     "start_time": "2023-09-12T23:38:49.108385Z"
    }
   },
   "id": "5537dfba8820b19c"
  },
  {
   "cell_type": "code",
   "execution_count": 27,
   "outputs": [
    {
     "data": {
      "text/plain": "array([[-5.45967104e+01, -1.02300487e+01, -2.87674875e+01],\n       [-8.32605439e+01,  1.11276895e+01,  3.14690835e+01],\n       [-1.00801334e+02,  2.69517236e+01, -1.67767730e+01],\n       [ 4.40491722e+01, -1.80794967e+01,  6.74936683e+00],\n       [ 7.85754618e+01,  2.15928539e+00,  4.22064635e+01],\n       [ 1.90858217e+01, -1.43833176e+01, -3.62352046e+00],\n       [ 3.34374592e+01,  4.52738148e+01, -1.19522704e+01],\n       [ 8.27975342e+00,  9.00360591e+00, -9.72139760e+00],\n       [-4.11120579e+01, -4.60036747e+01, -9.13018351e+00],\n       [-9.08348433e+01,  8.84441778e+00, -1.81690712e+01],\n       [-4.46729488e+01,  3.88887147e+01, -2.62939795e+01],\n       [-4.83696667e+01, -7.34611869e+00,  4.26177367e+00],\n       [ 8.03740015e+01, -1.87982100e+01, -5.53480428e+00],\n       [ 5.54449217e+01, -1.70875209e+01, -1.06568049e+01],\n       [ 2.34392210e+01,  1.07155327e+01,  4.21491589e+01],\n       [ 2.18131446e+01,  4.29885939e+01,  2.10077834e+01],\n       [-6.51855182e+01,  4.51756094e+01, -3.42267668e+00],\n       [ 3.58367718e+00,  6.69962336e+00, -4.10542995e+00],\n       [-7.38847548e+01,  3.02190102e+01,  1.40521535e+01],\n       [ 2.50784687e+01,  8.63547894e+00, -7.35944381e+00],\n       [-5.37503798e+01, -1.31057676e+01,  1.35624771e-01],\n       [-3.79605958e+01, -1.81372341e+01, -3.90759416e+00],\n       [-6.67628224e+01, -3.33217028e+01,  1.09921225e+01],\n       [ 5.11482255e+00,  2.48148493e+01, -1.05945900e+00],\n       [ 4.50240190e+00, -1.09511918e+01, -5.84119590e+00],\n       [-5.27999933e+01,  1.50453772e+01, -1.47180651e+01],\n       [-1.50868725e+01,  6.59484186e+00,  1.27226905e+00],\n       [-4.02054607e+01, -1.48738375e+01, -2.04217059e+01],\n       [-3.57129967e+01,  5.42899174e+00,  2.16472004e+01],\n       [-1.82319486e+01, -6.61767768e+00,  4.81474080e+01],\n       [-8.21830545e+00, -1.72195078e+01,  2.00591621e+01],\n       [ 5.00360756e+01, -2.13050318e+01, -8.52176193e+00],\n       [-1.51363161e+01, -9.16935384e+00,  4.23645151e+00],\n       [ 2.78760457e+01,  7.81510648e+00,  4.53583711e+01],\n       [ 7.73027015e+00,  1.32217208e+00, -1.44082126e+01],\n       [ 5.51131691e+01,  5.96887473e+00, -8.53723711e+00],\n       [ 4.11376492e+01,  7.54760817e+00,  2.27987250e+01],\n       [-6.15087366e+01,  9.58932251e+00,  1.02565021e+01],\n       [-8.58946184e-01,  5.31341578e+00, -9.16448519e+00],\n       [ 3.46190130e+01, -9.57331311e+00,  1.59282285e+01],\n       [-8.41051194e+01,  3.09923755e+01, -2.42724344e+01],\n       [-3.58495580e+01, -2.38656287e+01, -1.02049209e+01],\n       [-2.20763150e+01, -2.09611135e+01, -2.01124004e+01],\n       [-1.61680790e+01, -1.23413975e+01,  8.64956120e+00],\n       [ 1.12314177e+02,  2.42168984e+00,  2.00173510e+01],\n       [-1.59898092e+01, -2.62784594e+01, -1.05580808e-01],\n       [ 4.15627069e+01,  2.89513438e+01,  2.50578119e+01],\n       [ 2.70749523e+01, -2.83784284e-01, -1.57246792e+01],\n       [-4.16520709e+01, -2.56663102e+01, -8.93874751e+00],\n       [ 5.83982036e+01,  5.77160962e+00,  7.59989932e+00],\n       [ 2.58655834e+01,  6.26955419e+01,  8.29715246e+00],\n       [-4.60551109e+01, -2.36701927e+01,  1.01980818e+00],\n       [ 9.77902951e+00, -3.70589097e+00,  1.70586538e+01],\n       [ 2.97076446e+01,  1.41901552e+00,  1.16856965e+01],\n       [-7.20418186e+01, -9.14585642e+00,  1.33815869e+01],\n       [-1.64021636e+01, -1.23244663e+01,  1.92233916e+01],\n       [ 6.77997810e-01, -1.03380066e+01,  2.84422626e+00],\n       [-1.34629367e+01, -3.01314658e+00,  4.48909957e+00],\n       [ 3.13034587e+01, -1.09592643e+01, -1.06182655e+01],\n       [ 8.40420772e+01,  3.47530938e+00, -2.94033238e+01],\n       [-2.28667782e+01,  3.96309181e+01,  1.37633421e+01],\n       [ 5.71260838e+01, -7.62518214e+00,  2.24220118e+01],\n       [ 1.22852598e+01, -2.60853649e+01, -1.21473901e+01],\n       [ 1.00038749e+01,  9.58080384e+00, -1.48179105e+01],\n       [-2.85191275e+01, -1.21109207e+01,  1.53276642e-01],\n       [-3.57195263e-01, -3.97551410e+01, -2.41304059e-01],\n       [ 7.28564108e+01,  4.15537594e+01, -1.23151892e+01],\n       [ 4.26527076e+01,  2.40532650e+01,  6.07186077e+01],\n       [-4.32617590e+01,  1.91838356e+01, -2.72136970e+00],\n       [-9.44388637e+00,  2.95055300e+00,  8.42405821e+00],\n       [ 5.87218744e+01,  6.95602972e+00,  1.10265937e+00],\n       [-1.60471462e+01, -1.04131640e+01,  2.32677290e+01],\n       [-8.73601588e+00, -2.68894068e+00, -1.60795821e+01],\n       [ 1.60778368e+01, -2.21288293e+01, -2.32589584e+00],\n       [ 1.36574860e+01,  4.50147912e+01, -1.16494152e+01],\n       [-3.81603765e+01,  1.80953988e+01, -2.03050247e+01],\n       [-3.15886362e+01,  1.63186255e+01, -7.25983161e+00],\n       [-4.34554099e+01, -2.48663920e+00, -2.77054453e+01],\n       [-7.26394340e+01,  1.16744888e+01, -9.19247015e+00],\n       [-2.06627575e+01,  2.19958621e+01, -1.37677039e+01],\n       [ 1.95036031e+01,  3.03425540e+01, -1.67835490e+01],\n       [ 5.78415660e+01, -9.67001089e+00, -2.82486175e+01],\n       [ 6.47474813e+01, -1.53500115e+01, -7.22914810e+00],\n       [ 7.54826597e+00, -6.88008345e+00,  3.88939961e+00],\n       [-5.67738320e+01,  4.30175599e+00,  9.85863573e+00],\n       [ 4.87909100e+01,  2.67460771e+01, -9.44263638e-01],\n       [ 2.29864100e+01, -3.28590596e+00, -9.78986749e+00],\n       [-5.04848401e+01, -2.84041973e+01,  1.19227610e+01],\n       [-4.80510720e+01, -6.78784298e+00,  4.23492009e+01],\n       [ 4.96801342e+01, -2.29322447e+01,  5.90492965e+00],\n       [-5.35652349e+01, -2.25447607e+01, -2.37679201e+01],\n       [-4.11982092e+00, -2.88966935e-01,  1.76653574e+01],\n       [ 8.03113530e+01,  3.63482280e+01,  3.62294010e+01],\n       [ 3.31305100e+01, -2.11494361e+01,  6.48811339e+00],\n       [ 5.36474431e+01,  2.79964643e+01, -9.92415450e+00],\n       [-3.34810806e+01,  1.93691676e+01, -5.65064947e+00],\n       [-1.07690351e+01, -4.64757114e+01, -8.00583592e+00],\n       [ 1.82652861e+01, -1.98299115e+01, -2.31060714e+01],\n       [-2.49073465e+01, -8.53661842e+00, -3.73705547e+01],\n       [-5.25168040e+01,  1.52047757e+01, -7.29710041e+00],\n       [-3.60738663e+01, -1.99129745e+01, -1.60905136e-01],\n       [-3.61566713e+01, -3.30989815e+00,  1.98333887e+01],\n       [-4.66796174e+01,  1.58486136e+01,  5.55248774e-01],\n       [-5.07887002e+00, -1.70283330e+01, -6.37144323e+00],\n       [-7.10695131e+01,  6.41197622e+01,  2.68101357e+01],\n       [-4.74027358e+01, -2.55367704e+01, -2.31334145e+01],\n       [ 4.94419630e+01, -2.62561811e+01,  1.85743283e+01],\n       [ 9.08626640e+01,  9.86045843e+00, -1.03994334e+01],\n       [-8.14120995e+01,  3.73237902e+00, -1.01100793e+01],\n       [-2.83574159e+01, -3.70703467e+01, -5.45468686e+00],\n       [-5.70523423e+01, -1.17890768e+01, -8.01527987e+00],\n       [ 2.95045573e+00, -1.94708765e+01,  4.95058778e+00],\n       [ 6.42066941e+01,  1.82930220e+01,  7.94960427e-01],\n       [-3.26789686e+00,  2.42502843e+01, -3.65105914e+01],\n       [-7.34180354e+01,  2.67446525e+01, -1.39633264e+01],\n       [ 2.36719151e+01, -1.81486727e+01, -9.47671705e+00],\n       [ 1.37223693e+01,  5.26092386e+01, -1.09424154e+01],\n       [-1.53435156e+01,  3.46376085e+00,  1.30688526e+01],\n       [ 5.12087774e+00, -1.17193242e+01, -4.65570436e+00],\n       [-1.16295082e+01,  6.41164482e+00, -2.32451438e+01],\n       [ 1.27891681e+01,  1.28319686e+01, -2.75188328e+01],\n       [ 6.96928543e+01, -2.01742549e+00, -1.51021314e+00],\n       [ 2.13262875e+01, -1.30074709e+01,  6.48964818e-02],\n       [-1.76721772e+01,  3.52085923e+00,  1.60499728e+01],\n       [-5.25501431e+01, -1.66527447e+00, -1.23872688e-01],\n       [ 1.67936501e+02, -6.61394530e+00, -2.46532542e+00],\n       [-1.44309561e+01, -3.02238968e+01,  1.02406032e+01],\n       [-5.50943599e+01,  1.38539563e+01,  1.38613684e+01],\n       [-4.47993650e+01, -3.33925285e+01,  1.63768898e+00],\n       [-2.53378846e+01, -2.11632279e+01,  3.50745013e+00],\n       [-7.17489436e+01,  5.33104878e+01, -1.57475677e+01],\n       [ 6.66705565e+01, -1.32480595e+01, -3.36491039e+01],\n       [-1.10013104e+01, -6.07516344e+00, -2.66898693e+01],\n       [-4.91716233e+00, -3.07221076e+01,  1.54833798e-01],\n       [-5.03122715e+00, -2.79131251e+01,  1.71026536e+01],\n       [-6.90020104e+01, -2.80621823e+01, -9.78603734e+00],\n       [-4.87632003e+01,  2.46476055e+01,  9.65428753e+00],\n       [-4.65670294e+01, -5.52707854e+01,  3.95482338e+00],\n       [-2.58224390e+01, -3.03392003e+01,  2.25805911e+01],\n       [-1.18159135e+02,  3.63042354e+01, -5.78068587e-01],\n       [ 2.53598628e+01,  2.78817744e+01,  2.14471572e+01],\n       [ 1.92104270e+01, -7.58849181e+00,  7.15875400e+00],\n       [ 7.88146170e+01,  1.37804315e+01,  3.00067686e+01],\n       [ 9.40873891e+00,  1.96333317e+01, -8.51658782e+00],\n       [ 7.44246827e+01, -2.46136488e+01, -1.55013867e+01],\n       [ 2.23833282e+00,  1.24257457e+01,  3.91678268e+01],\n       [-2.95106761e+01,  2.84645475e+00, -3.26690765e+01],\n       [ 4.08704813e+01, -4.17359698e+00,  3.50006118e+01],\n       [-7.85093085e+00,  2.78237846e+01,  3.34486362e+00],\n       [-1.97754769e+01,  1.73366367e+00,  3.88127413e+01],\n       [ 5.93065039e+01,  1.86404791e+01, -1.39675816e+01],\n       [-2.75392140e+01,  7.71083290e+00, -2.54612283e+01],\n       [-1.82834539e+01,  5.53772468e+00, -2.22667377e+00],\n       [ 7.11548619e+01, -3.45928833e+01,  4.56964044e+00],\n       [-4.51854409e+01, -6.78267854e+00,  1.91838907e+01],\n       [ 4.49220742e+01, -2.51820735e+00,  3.96990876e+00],\n       [ 6.11973038e+00, -1.60165999e+00, -4.60800892e+00],\n       [ 1.47729681e+01,  1.99210577e+01, -2.54320106e+01],\n       [-2.34852627e+01, -2.85270426e+01,  1.03294209e+01],\n       [-7.91677211e+01, -1.17101905e+01, -1.85238726e+01],\n       [-2.28127819e+01,  3.91526629e+01,  4.26354720e+00],\n       [-4.67161984e+01, -8.84477777e+00,  3.07023252e+01],\n       [ 3.34393984e+01,  9.92271253e+00,  8.56944374e+00],\n       [ 3.86693769e+01,  4.59225429e+01,  1.90640297e+01],\n       [ 1.58516939e+02, -2.60867153e+00,  7.47190657e+00],\n       [ 6.51465528e+01,  2.11865901e+01, -6.44097803e+00],\n       [ 3.69730089e+01, -3.75774378e+01,  6.13853014e+01],\n       [ 5.46663037e+01, -6.11109285e+00,  2.57642385e+01],\n       [-7.16833706e+01, -8.63055635e+00,  1.29118073e+01],\n       [ 1.17540286e+01, -3.50531135e+01,  1.00591905e+01],\n       [ 2.17513200e+01,  4.03567604e+01,  9.81728184e+00],\n       [-1.00315295e+01, -8.80858736e+00,  8.19853144e+00],\n       [-2.46144572e+01, -2.16650084e+01, -1.03791898e+01],\n       [ 3.58459415e+01,  3.12202852e+01, -1.84547072e+01],\n       [ 1.03281319e+02,  1.59431783e+01, -1.06045006e+01],\n       [-3.74871645e+01, -1.75235365e+01, -8.21812892e+00],\n       [-3.10155136e+01, -3.88885138e+01,  2.51472943e+00],\n       [-4.23383629e+01, -1.62821344e+01,  3.75770223e+00],\n       [-5.10085633e+01,  3.90828995e+01,  6.97879743e+00],\n       [-4.06367592e+01, -1.14589143e+01, -4.48012291e+00],\n       [-1.70397352e+01, -3.03488925e+01,  3.79547858e-01],\n       [-1.87530844e+00, -2.07059759e+01,  1.79882580e+01],\n       [-5.36118637e+01, -2.47648235e+01,  1.44444227e+01],\n       [ 4.69852276e+00, -2.66915323e+01, -7.08525497e+00],\n       [ 3.13100979e+02, -1.42929554e+01, -3.57773017e+01],\n       [ 2.38683505e+01,  2.66364359e+01, -2.99747493e+01],\n       [ 5.96102612e+01,  1.22269441e+00,  3.13773262e+00],\n       [-2.01785583e+01, -9.94139374e+00, -1.32504633e+01],\n       [ 8.60974391e+01, -6.46673580e+00,  2.76313036e+00],\n       [-3.06009569e+01, -2.25522427e+01, -9.85471750e+00],\n       [-1.29448629e+00,  3.47258896e+01,  2.31575414e+01],\n       [-5.23281498e+01,  1.97420996e+01, -2.54138509e+00],\n       [ 6.15664041e+01,  2.74196204e+01, -2.54038934e+00],\n       [ 5.77038456e+01, -2.28846557e+01, -7.47023056e+00],\n       [-2.96542857e+01, -3.99018316e+00,  4.92919686e+00],\n       [-3.71143386e+00, -2.28909310e+01, -3.90771119e-01],\n       [ 9.00597023e+00, -3.81252875e+01, -1.51795373e+01],\n       [ 2.95482300e+00, -1.23145875e+01, -2.27834007e+01],\n       [-1.72998538e+01, -8.49677710e+00, -3.09817591e+01],\n       [-3.78141074e+01, -1.24273304e+01,  1.10529726e+01],\n       [-6.99239536e+01, -1.70198797e+00, -3.90499836e-01],\n       [ 1.71000945e+01,  4.95052993e+01, -2.07655492e+01],\n       [-3.13458672e+01, -9.61376900e+00, -1.08454907e+01],\n       [ 3.83632538e+01, -9.57456687e+00, -2.90281356e+00],\n       [-1.02003178e+01, -1.94739274e+01, -1.01214817e+01],\n       [-1.80124136e+01, -5.93397411e-03, -2.48333554e+01],\n       [ 9.22408997e+01, -1.70767288e+01, -5.29786354e+00],\n       [-5.12474410e+00,  1.60320836e+01,  1.53239908e+01],\n       [-1.31724104e+01,  2.47294238e+01,  2.56998927e+01],\n       [ 6.22829904e+00, -1.56185637e-01, -4.48732150e+00],\n       [ 2.12436035e+01,  6.26248570e+00,  2.04617216e+01],\n       [-1.51727552e+01, -9.16730948e+00,  6.45969135e+00],\n       [-1.25909377e+01,  7.80888592e+01, -2.22408070e+01],\n       [ 3.02014412e+00, -3.00892695e+01, -6.11129174e-01],\n       [-2.07931392e+01, -1.22558256e+01, -1.89779576e+01],\n       [-4.59535320e+01, -3.39817195e+00,  9.78577056e+00],\n       [-6.41889962e+00, -1.39461269e+01, -1.18912763e+01],\n       [ 5.18227617e+01, -3.53269618e+01, -1.86503866e+01],\n       [ 4.79361715e+01,  2.23356513e+01, -3.84927052e+01],\n       [ 8.05318483e+01,  1.77361128e+01, -1.03272357e+01],\n       [-5.50909948e+00,  2.26955230e+01,  1.31115653e+01],\n       [-3.62128852e+01,  2.15591471e+01,  1.20240021e+01]])"
     },
     "execution_count": 27,
     "metadata": {},
     "output_type": "execute_result"
    }
   ],
   "source": [
    "X_train_pca"
   ],
   "metadata": {
    "collapsed": false,
    "ExecuteTime": {
     "end_time": "2023-09-12T23:38:49.276605Z",
     "start_time": "2023-09-12T23:38:49.261328Z"
    }
   },
   "id": "8f6efb3a38df469d"
  },
  {
   "cell_type": "code",
   "execution_count": 28,
   "outputs": [
    {
     "name": "stderr",
     "output_type": "stream",
     "text": [
      "/Users/adiaz/anaconda3/lib/python3.11/site-packages/sklearn/linear_model/_logistic.py:460: ConvergenceWarning: lbfgs failed to converge (status=1):\n",
      "STOP: TOTAL NO. of ITERATIONS REACHED LIMIT.\n",
      "\n",
      "Increase the number of iterations (max_iter) or scale the data as shown in:\n",
      "    https://scikit-learn.org/stable/modules/preprocessing.html\n",
      "Please also refer to the documentation for alternative solver options:\n",
      "    https://scikit-learn.org/stable/modules/linear_model.html#logistic-regression\n",
      "  n_iter_i = _check_optimize_result(\n"
     ]
    }
   ],
   "source": [
    "pca_logistic_model = LogisticRegression()\n",
    "pca_logistic_model.fit(X_train, y_train)\n",
    "y_predicted_train = pca_logistic_model.predict(X_train)\n",
    "y_predicted_test = pca_logistic_model.predict(X_test)"
   ],
   "metadata": {
    "collapsed": false,
    "ExecuteTime": {
     "end_time": "2023-09-12T23:38:49.277603Z",
     "start_time": "2023-09-12T23:38:49.268082Z"
    }
   },
   "id": "270ae51382c93742"
  },
  {
   "cell_type": "code",
   "execution_count": 29,
   "outputs": [
    {
     "name": "stdout",
     "output_type": "stream",
     "text": [
      "Accuracy:  0.8603603603603603\n",
      "Recall:  0.7722772277227723\n",
      "Precision:  0.9069767441860465\n"
     ]
    }
   ],
   "source": [
    "get_model_metrics(y_train, y_predicted_train)"
   ],
   "metadata": {
    "collapsed": false,
    "ExecuteTime": {
     "end_time": "2023-09-12T23:38:49.306913Z",
     "start_time": "2023-09-12T23:38:49.278223Z"
    }
   },
   "id": "3fabd246f4a043c0"
  },
  {
   "cell_type": "code",
   "execution_count": 30,
   "outputs": [
    {
     "name": "stdout",
     "output_type": "stream",
     "text": [
      "Accuracy:  0.84\n",
      "Recall:  0.75\n",
      "Precision:  0.9\n"
     ]
    }
   ],
   "source": [
    "get_model_metrics(y_test, y_predicted_test)"
   ],
   "metadata": {
    "collapsed": false,
    "ExecuteTime": {
     "end_time": "2023-09-12T23:38:49.311155Z",
     "start_time": "2023-09-12T23:38:49.283306Z"
    }
   },
   "id": "8e041e40f6d6122b"
  },
  {
   "cell_type": "markdown",
   "source": [
    "## LDA Transform + Logistic Regression\n",
    "Considering the data set used in point 1 again, perform a variable reduction by LDA\n",
    "transformation. With the variables resulting from the transformation process, train a new\n",
    "logistic regression wich must be evaluated with the same metrics as the previous models."
   ],
   "metadata": {
    "collapsed": false
   },
   "id": "4b09050a5743c7a8"
  },
  {
   "cell_type": "code",
   "execution_count": 31,
   "outputs": [],
   "source": [
    "from sklearn.discriminant_analysis import LinearDiscriminantAnalysis"
   ],
   "metadata": {
    "collapsed": false,
    "ExecuteTime": {
     "end_time": "2023-09-12T23:38:49.333324Z",
     "start_time": "2023-09-12T23:38:49.313737Z"
    }
   },
   "id": "5d06db3f43458cf0"
  },
  {
   "cell_type": "code",
   "execution_count": 32,
   "outputs": [],
   "source": [
    "lda_transformer = LinearDiscriminantAnalysis()\n",
    "X_train_lda = lda_transformer.fit_transform(X_train, y_train)"
   ],
   "metadata": {
    "collapsed": false,
    "ExecuteTime": {
     "end_time": "2023-09-12T23:38:49.365594Z",
     "start_time": "2023-09-12T23:38:49.332308Z"
    }
   },
   "id": "2646cf90379a196e"
  },
  {
   "cell_type": "code",
   "execution_count": 33,
   "outputs": [
    {
     "data": {
      "text/plain": "array([[-1.63338027],\n       [ 2.56791727],\n       [-1.01683219],\n       [ 1.53537198],\n       [ 0.23703633],\n       [-1.39540269],\n       [ 1.89837885],\n       [ 2.03420849],\n       [-2.75728741],\n       [-2.17723169],\n       [ 0.87997755],\n       [-1.245     ],\n       [-1.11357106],\n       [-2.21889363],\n       [ 0.71925636],\n       [ 2.24938042],\n       [ 2.07045138],\n       [ 1.47088487],\n       [ 1.90301143],\n       [-1.51927273],\n       [-1.48834167],\n       [ 0.72388963],\n       [-1.52822716],\n       [ 1.59919094],\n       [ 0.71068113],\n       [ 1.15294237],\n       [-0.58111627],\n       [-0.40083531],\n       [ 0.44837476],\n       [ 1.70010565],\n       [-2.38350667],\n       [ 0.97121028],\n       [ 0.29603848],\n       [ 1.4368981 ],\n       [ 0.06509877],\n       [ 0.87995643],\n       [ 2.30391068],\n       [ 2.41051496],\n       [ 0.59135777],\n       [-2.30835706],\n       [ 1.39164386],\n       [-2.14182911],\n       [-0.68845023],\n       [ 0.35848889],\n       [-0.77538621],\n       [-1.91640198],\n       [ 2.45125089],\n       [ 0.11470164],\n       [-1.9451402 ],\n       [ 1.25167603],\n       [ 2.61456876],\n       [-2.09370934],\n       [ 1.42629066],\n       [-0.54754016],\n       [-0.24640335],\n       [ 0.1283184 ],\n       [-1.56478353],\n       [-0.05287321],\n       [ 0.92195048],\n       [ 1.75925376],\n       [ 2.0996633 ],\n       [-0.6954285 ],\n       [-1.11788688],\n       [ 1.85785609],\n       [-0.72178632],\n       [-0.8197361 ],\n       [ 1.79199291],\n       [ 3.19732941],\n       [ 2.49398994],\n       [-1.32392932],\n       [-0.56429283],\n       [-0.84519256],\n       [-1.18199632],\n       [-1.77899075],\n       [ 1.99122613],\n       [ 0.46258315],\n       [ 0.09427367],\n       [ 0.2406442 ],\n       [-0.02071252],\n       [ 2.46728107],\n       [-0.4701754 ],\n       [-0.99432026],\n       [-0.61557221],\n       [-0.97192177],\n       [ 0.1860226 ],\n       [ 3.3110226 ],\n       [-0.11246574],\n       [-0.56682598],\n       [-0.25141435],\n       [ 0.95184737],\n       [-2.32572528],\n       [ 0.05299476],\n       [ 1.31902961],\n       [-1.41254269],\n       [ 0.45026778],\n       [ 2.90678022],\n       [-0.74961804],\n       [ 0.28269701],\n       [ 0.24739552],\n       [-0.34335681],\n       [-0.85724666],\n       [-1.2402644 ],\n       [-0.58548125],\n       [-1.10372104],\n       [ 1.93391957],\n       [-2.78368952],\n       [-1.02772602],\n       [ 1.10705878],\n       [ 1.09919137],\n       [-1.16334697],\n       [-0.87845001],\n       [-1.63249742],\n       [-0.32102578],\n       [-0.83987792],\n       [ 1.54088875],\n       [ 0.3575337 ],\n       [ 0.60429617],\n       [-0.59120592],\n       [ 1.1015016 ],\n       [ 1.61147938],\n       [-0.86383817],\n       [-1.14766452],\n       [-1.91941261],\n       [-0.35821549],\n       [-0.86875624],\n       [-0.8883512 ],\n       [-1.24884829],\n       [ 1.43315175],\n       [-2.43746411],\n       [ 0.83100437],\n       [-1.69473557],\n       [-1.60883029],\n       [ 0.50349661],\n       [-1.51856428],\n       [-0.97315095],\n       [-2.42566034],\n       [ 1.68883543],\n       [-2.11840371],\n       [-0.02655699],\n       [ 1.75703058],\n       [-1.11208099],\n       [ 0.72062077],\n       [ 2.64277625],\n       [ 2.64797524],\n       [-1.85214975],\n       [ 0.35251792],\n       [-0.53632318],\n       [-0.16281171],\n       [ 1.00410887],\n       [-0.18277943],\n       [ 1.08086644],\n       [-0.64764876],\n       [ 1.42141884],\n       [-1.11790227],\n       [ 0.56961246],\n       [-1.33713119],\n       [ 1.5676048 ],\n       [-1.36683513],\n       [-1.04572906],\n       [-0.23578501],\n       [ 1.54992918],\n       [-1.08218115],\n       [ 2.77622992],\n       [ 2.76504249],\n       [ 2.32822177],\n       [ 1.45378468],\n       [ 0.32719971],\n       [-0.78476959],\n       [ 1.12038902],\n       [-0.11677419],\n       [ 1.83572332],\n       [-0.67868101],\n       [-1.62977973],\n       [ 1.88386546],\n       [ 2.01520592],\n       [-1.80150244],\n       [-1.91277791],\n       [ 0.56440411],\n       [-0.80027282],\n       [-1.56606629],\n       [-0.82231249],\n       [-0.63360471],\n       [-1.49739734],\n       [-1.02591919],\n       [ 0.11578938],\n       [ 0.99602207],\n       [ 2.84252275],\n       [ 1.19572873],\n       [-0.99846196],\n       [-2.06374867],\n       [ 2.03897893],\n       [-0.87616476],\n       [ 2.65683449],\n       [-1.57801617],\n       [-1.45974169],\n       [-0.2853897 ],\n       [-1.18200742],\n       [-1.44132371],\n       [ 0.03327542],\n       [-1.4264383 ],\n       [-1.37994097],\n       [ 2.55632047],\n       [-1.58060105],\n       [-1.05526219],\n       [-1.53156766],\n       [ 0.77788452],\n       [-1.94854004],\n       [-0.07392278],\n       [-0.87321522],\n       [-1.41502779],\n       [-1.19192507],\n       [-1.10301893],\n       [ 0.23315729],\n       [-1.54473345],\n       [-0.77265086],\n       [ 1.48084418],\n       [-2.27277354],\n       [-0.91299856],\n       [ 1.29114233],\n       [ 2.55398994],\n       [ 1.28792225],\n       [ 1.72695169]])"
     },
     "execution_count": 33,
     "metadata": {},
     "output_type": "execute_result"
    }
   ],
   "source": [
    "X_train_lda"
   ],
   "metadata": {
    "collapsed": false,
    "ExecuteTime": {
     "end_time": "2023-09-12T23:38:49.378006Z",
     "start_time": "2023-09-12T23:38:49.361092Z"
    }
   },
   "id": "b255e0611a04665"
  },
  {
   "cell_type": "code",
   "execution_count": 34,
   "outputs": [
    {
     "data": {
      "text/plain": "array([[ 0.00392773,  1.00891307,  0.8882975 ,  0.02934885,  0.00404914,\n        -0.68755987,  0.22614151, -0.02312235,  1.55861919,  0.22953944,\n         0.49811978,  0.93889697,  0.4836753 ]])"
     },
     "execution_count": 34,
     "metadata": {},
     "output_type": "execute_result"
    }
   ],
   "source": [
    "lda_transformer.coef_"
   ],
   "metadata": {
    "collapsed": false,
    "ExecuteTime": {
     "end_time": "2023-09-12T23:38:49.415852Z",
     "start_time": "2023-09-12T23:38:49.379863Z"
    }
   },
   "id": "19931bb1952fc127"
  },
  {
   "cell_type": "code",
   "execution_count": 35,
   "outputs": [],
   "source": [
    "# open a file to save LDA coefficients\n",
    "file = open('lda_coef.pickle', 'wb')\n",
    "\n",
    "# dump information to that file\n",
    "pickle.dump(lda_transformer.coef_, file)\n",
    "\n",
    "# close the file\n",
    "file.close()"
   ],
   "metadata": {
    "collapsed": false,
    "ExecuteTime": {
     "end_time": "2023-09-12T23:38:49.420633Z",
     "start_time": "2023-09-12T23:38:49.400155Z"
    }
   },
   "id": "473a6122dec16c3a"
  },
  {
   "cell_type": "code",
   "execution_count": 36,
   "outputs": [
    {
     "name": "stderr",
     "output_type": "stream",
     "text": [
      "/Users/adiaz/anaconda3/lib/python3.11/site-packages/sklearn/linear_model/_logistic.py:460: ConvergenceWarning: lbfgs failed to converge (status=1):\n",
      "STOP: TOTAL NO. of ITERATIONS REACHED LIMIT.\n",
      "\n",
      "Increase the number of iterations (max_iter) or scale the data as shown in:\n",
      "    https://scikit-learn.org/stable/modules/preprocessing.html\n",
      "Please also refer to the documentation for alternative solver options:\n",
      "    https://scikit-learn.org/stable/modules/linear_model.html#logistic-regression\n",
      "  n_iter_i = _check_optimize_result(\n"
     ]
    }
   ],
   "source": [
    "lda_logistic_model = LogisticRegression()\n",
    "lda_logistic_model.fit(X_train, y_train)\n",
    "y_predicted_train = lda_logistic_model.predict(X_train)\n",
    "y_predicted_test = lda_logistic_model.predict(X_test)"
   ],
   "metadata": {
    "collapsed": false,
    "ExecuteTime": {
     "end_time": "2023-09-12T23:38:49.443033Z",
     "start_time": "2023-09-12T23:38:49.424911Z"
    }
   },
   "id": "dabb0226937a42f1"
  },
  {
   "cell_type": "code",
   "execution_count": 37,
   "outputs": [
    {
     "name": "stdout",
     "output_type": "stream",
     "text": [
      "Accuracy:  0.8603603603603603\n",
      "Recall:  0.7722772277227723\n",
      "Precision:  0.9069767441860465\n"
     ]
    }
   ],
   "source": [
    "get_model_metrics(y_train, y_predicted_train)"
   ],
   "metadata": {
    "collapsed": false,
    "ExecuteTime": {
     "end_time": "2023-09-12T23:38:49.493484Z",
     "start_time": "2023-09-12T23:38:49.442977Z"
    }
   },
   "id": "cac1539d68f7a009"
  },
  {
   "cell_type": "code",
   "execution_count": 38,
   "outputs": [
    {
     "name": "stdout",
     "output_type": "stream",
     "text": [
      "Accuracy:  0.84\n",
      "Recall:  0.75\n",
      "Precision:  0.9\n"
     ]
    }
   ],
   "source": [
    "get_model_metrics(y_test, y_predicted_test)"
   ],
   "metadata": {
    "collapsed": false,
    "ExecuteTime": {
     "end_time": "2023-09-12T23:38:49.506391Z",
     "start_time": "2023-09-12T23:38:49.472161Z"
    }
   },
   "id": "d0ecb461a5ddf038"
  },
  {
   "cell_type": "markdown",
   "source": [
    "## LDA MODEL\n",
    "Considering the data set used in point 1 again; train a LDA model and evaluate the model\n",
    "with the same metrics"
   ],
   "metadata": {
    "collapsed": false
   },
   "id": "2ffc3da7aec25468"
  },
  {
   "cell_type": "code",
   "execution_count": 39,
   "outputs": [],
   "source": [
    "lda_model = LinearDiscriminantAnalysis()\n",
    "lda_model.fit(X_train, y_train)\n",
    "y_predicted_train = lda_model.predict(X_train)\n",
    "y_predicted_test = lda_model.predict(X_test)"
   ],
   "metadata": {
    "collapsed": false,
    "ExecuteTime": {
     "end_time": "2023-09-12T23:38:49.554366Z",
     "start_time": "2023-09-12T23:38:49.510251Z"
    }
   },
   "id": "846afb48270cab8c"
  },
  {
   "cell_type": "code",
   "execution_count": 40,
   "outputs": [
    {
     "name": "stdout",
     "output_type": "stream",
     "text": [
      "Accuracy:  0.8558558558558559\n",
      "Recall:  0.8118811881188119\n",
      "Precision:  0.8631578947368421\n"
     ]
    }
   ],
   "source": [
    "get_model_metrics(y_train, y_predicted_train)"
   ],
   "metadata": {
    "collapsed": false,
    "ExecuteTime": {
     "end_time": "2023-09-12T23:38:49.587015Z",
     "start_time": "2023-09-12T23:38:49.552264Z"
    }
   },
   "id": "a4e3e49890e5234d"
  },
  {
   "cell_type": "code",
   "execution_count": 41,
   "outputs": [
    {
     "name": "stdout",
     "output_type": "stream",
     "text": [
      "Accuracy:  0.8533333333333334\n",
      "Recall:  0.75\n",
      "Precision:  0.9310344827586207\n"
     ]
    }
   ],
   "source": [
    "get_model_metrics(y_test, y_predicted_test)"
   ],
   "metadata": {
    "collapsed": false,
    "ExecuteTime": {
     "end_time": "2023-09-12T23:38:49.605856Z",
     "start_time": "2023-09-12T23:38:49.580405Z"
    }
   },
   "id": "2186887b1694cc8b"
  },
  {
   "cell_type": "code",
   "execution_count": 44,
   "outputs": [
    {
     "data": {
      "text/plain": "array([[ 0.00392773],\n       [ 1.00891307],\n       [ 0.8882975 ],\n       [ 0.02934885],\n       [ 0.00404914],\n       [-0.68755987],\n       [ 0.22614151],\n       [-0.02312235],\n       [ 1.55861919],\n       [ 0.22953944],\n       [ 0.49811978],\n       [ 0.93889697],\n       [ 0.4836753 ]])"
     },
     "execution_count": 44,
     "metadata": {},
     "output_type": "execute_result"
    }
   ],
   "source": [
    "lda_model.coef_.T"
   ],
   "metadata": {
    "collapsed": false,
    "ExecuteTime": {
     "end_time": "2023-09-12T23:39:01.238646Z",
     "start_time": "2023-09-12T23:39:01.224535Z"
    }
   },
   "id": "ea79b359d7b28a73"
  },
  {
   "cell_type": "code",
   "execution_count": 43,
   "outputs": [
    {
     "data": {
      "text/plain": "array([-10.22924791])"
     },
     "execution_count": 43,
     "metadata": {},
     "output_type": "execute_result"
    }
   ],
   "source": [
    "lda_model.intercept_"
   ],
   "metadata": {
    "collapsed": false,
    "ExecuteTime": {
     "end_time": "2023-09-12T23:38:49.652763Z",
     "start_time": "2023-09-12T23:38:49.624960Z"
    }
   },
   "id": "b3b6b4fa0c7787f1"
  },
  {
   "cell_type": "code",
   "execution_count": 43,
   "outputs": [],
   "source": [],
   "metadata": {
    "collapsed": false,
    "ExecuteTime": {
     "end_time": "2023-09-12T23:38:49.663653Z",
     "start_time": "2023-09-12T23:38:49.643035Z"
    }
   },
   "id": "492b662571e80f46"
  }
 ],
 "metadata": {
  "kernelspec": {
   "display_name": "Python 3",
   "language": "python",
   "name": "python3"
  },
  "language_info": {
   "codemirror_mode": {
    "name": "ipython",
    "version": 2
   },
   "file_extension": ".py",
   "mimetype": "text/x-python",
   "name": "python",
   "nbconvert_exporter": "python",
   "pygments_lexer": "ipython2",
   "version": "2.7.6"
  }
 },
 "nbformat": 4,
 "nbformat_minor": 5
}
