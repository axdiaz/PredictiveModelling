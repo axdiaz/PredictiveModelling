{
 "cells": [
  {
   "cell_type": "markdown",
   "source": [
    "\n",
    "# Homework 2. LDA for classification\n",
    "Jorge Alejandro Díaz Sánchez\n"
   ],
   "metadata": {
    "collapsed": false
   },
   "id": "451af8adb9ac8cc7"
  },
  {
   "cell_type": "markdown",
   "source": [
    "The description of this task in PDF can be downloaded at the following link: Homework description file\n",
    "\n",
    "Links to an external site.\n",
    "\n",
    "In this exercise, the dataset that will be used is “Heart_Disease”. This database contains 76 attributes, but all published experiments refer to using a subset of 14 of them.  In particular, the Cleveland database is the only one that has been used by ML researchers to date.  The \"goal\" field refers to the presence of heart disease in the patient. It is integer valued from 0 (no presence) to 4. Experiments with the Cleveland database have concentrated on simply attempting to distinguish presence (values 1,2,3,4) from absence (value 0). The dataset can be obtained in the repository “UC Irvine Machine Learning Repository” (https://archive.ics.uci.edu/dataset/45/heart+disease\n",
    "Links to an external site. ). For this exercise, you can use any of the files namely “processed.xxxxx.data”. You should consider that there are some differences between the classes in some of those files."
   ],
   "metadata": {
    "collapsed": false
   },
   "id": "186f1c05a285279e"
  },
  {
   "cell_type": "code",
   "execution_count": 1,
   "outputs": [],
   "source": [
    "random_seed = 0"
   ],
   "metadata": {
    "collapsed": false,
    "ExecuteTime": {
     "end_time": "2023-09-13T01:37:27.764147Z",
     "start_time": "2023-09-13T01:37:27.762392Z"
    }
   },
   "id": "481a997293c52b4f"
  },
  {
   "cell_type": "code",
   "execution_count": 2,
   "id": "initial_id",
   "metadata": {
    "collapsed": true,
    "ExecuteTime": {
     "end_time": "2023-09-13T01:37:27.770945Z",
     "start_time": "2023-09-13T01:37:27.764426Z"
    }
   },
   "outputs": [],
   "source": [
    "import sys\n",
    "sys.path.append(r\"~/Documents/GitHub/PredictiveModelling/\")\n",
    "import ax_utilities as utl\n",
    "import pandas as pd\n",
    "import numpy as np\n",
    "from matplotlib import pyplot as plt"
   ]
  },
  {
   "cell_type": "code",
   "execution_count": 3,
   "outputs": [
    {
     "data": {
      "text/plain": "      age  sex   cp  trestbps   chol  fbs  restecg  thalach  exang  oldpeak  \\\n0    63.0  1.0  1.0     145.0  233.0  1.0      2.0    150.0    0.0      2.3   \n1    67.0  1.0  4.0     160.0  286.0  0.0      2.0    108.0    1.0      1.5   \n2    67.0  1.0  4.0     120.0  229.0  0.0      2.0    129.0    1.0      2.6   \n3    37.0  1.0  3.0     130.0  250.0  0.0      0.0    187.0    0.0      3.5   \n4    41.0  0.0  2.0     130.0  204.0  0.0      2.0    172.0    0.0      1.4   \n..    ...  ...  ...       ...    ...  ...      ...      ...    ...      ...   \n298  45.0  1.0  1.0     110.0  264.0  0.0      0.0    132.0    0.0      1.2   \n299  68.0  1.0  4.0     144.0  193.0  1.0      0.0    141.0    0.0      3.4   \n300  57.0  1.0  4.0     130.0  131.0  0.0      0.0    115.0    1.0      1.2   \n301  57.0  0.0  2.0     130.0  236.0  0.0      2.0    174.0    0.0      0.0   \n302  38.0  1.0  3.0     138.0  175.0  0.0      0.0    173.0    0.0      0.0   \n\n     slope   ca  thal  num  \n0      3.0  0.0   6.0    0  \n1      2.0  3.0   3.0    2  \n2      2.0  2.0   7.0    1  \n3      3.0  0.0   3.0    0  \n4      1.0  0.0   3.0    0  \n..     ...  ...   ...  ...  \n298    2.0  0.0   7.0    1  \n299    2.0  2.0   7.0    2  \n300    2.0  1.0   7.0    3  \n301    2.0  1.0   3.0    1  \n302    1.0  NaN   3.0    0  \n\n[303 rows x 14 columns]",
      "text/html": "<div>\n<style scoped>\n    .dataframe tbody tr th:only-of-type {\n        vertical-align: middle;\n    }\n\n    .dataframe tbody tr th {\n        vertical-align: top;\n    }\n\n    .dataframe thead th {\n        text-align: right;\n    }\n</style>\n<table border=\"1\" class=\"dataframe\">\n  <thead>\n    <tr style=\"text-align: right;\">\n      <th></th>\n      <th>age</th>\n      <th>sex</th>\n      <th>cp</th>\n      <th>trestbps</th>\n      <th>chol</th>\n      <th>fbs</th>\n      <th>restecg</th>\n      <th>thalach</th>\n      <th>exang</th>\n      <th>oldpeak</th>\n      <th>slope</th>\n      <th>ca</th>\n      <th>thal</th>\n      <th>num</th>\n    </tr>\n  </thead>\n  <tbody>\n    <tr>\n      <th>0</th>\n      <td>63.0</td>\n      <td>1.0</td>\n      <td>1.0</td>\n      <td>145.0</td>\n      <td>233.0</td>\n      <td>1.0</td>\n      <td>2.0</td>\n      <td>150.0</td>\n      <td>0.0</td>\n      <td>2.3</td>\n      <td>3.0</td>\n      <td>0.0</td>\n      <td>6.0</td>\n      <td>0</td>\n    </tr>\n    <tr>\n      <th>1</th>\n      <td>67.0</td>\n      <td>1.0</td>\n      <td>4.0</td>\n      <td>160.0</td>\n      <td>286.0</td>\n      <td>0.0</td>\n      <td>2.0</td>\n      <td>108.0</td>\n      <td>1.0</td>\n      <td>1.5</td>\n      <td>2.0</td>\n      <td>3.0</td>\n      <td>3.0</td>\n      <td>2</td>\n    </tr>\n    <tr>\n      <th>2</th>\n      <td>67.0</td>\n      <td>1.0</td>\n      <td>4.0</td>\n      <td>120.0</td>\n      <td>229.0</td>\n      <td>0.0</td>\n      <td>2.0</td>\n      <td>129.0</td>\n      <td>1.0</td>\n      <td>2.6</td>\n      <td>2.0</td>\n      <td>2.0</td>\n      <td>7.0</td>\n      <td>1</td>\n    </tr>\n    <tr>\n      <th>3</th>\n      <td>37.0</td>\n      <td>1.0</td>\n      <td>3.0</td>\n      <td>130.0</td>\n      <td>250.0</td>\n      <td>0.0</td>\n      <td>0.0</td>\n      <td>187.0</td>\n      <td>0.0</td>\n      <td>3.5</td>\n      <td>3.0</td>\n      <td>0.0</td>\n      <td>3.0</td>\n      <td>0</td>\n    </tr>\n    <tr>\n      <th>4</th>\n      <td>41.0</td>\n      <td>0.0</td>\n      <td>2.0</td>\n      <td>130.0</td>\n      <td>204.0</td>\n      <td>0.0</td>\n      <td>2.0</td>\n      <td>172.0</td>\n      <td>0.0</td>\n      <td>1.4</td>\n      <td>1.0</td>\n      <td>0.0</td>\n      <td>3.0</td>\n      <td>0</td>\n    </tr>\n    <tr>\n      <th>...</th>\n      <td>...</td>\n      <td>...</td>\n      <td>...</td>\n      <td>...</td>\n      <td>...</td>\n      <td>...</td>\n      <td>...</td>\n      <td>...</td>\n      <td>...</td>\n      <td>...</td>\n      <td>...</td>\n      <td>...</td>\n      <td>...</td>\n      <td>...</td>\n    </tr>\n    <tr>\n      <th>298</th>\n      <td>45.0</td>\n      <td>1.0</td>\n      <td>1.0</td>\n      <td>110.0</td>\n      <td>264.0</td>\n      <td>0.0</td>\n      <td>0.0</td>\n      <td>132.0</td>\n      <td>0.0</td>\n      <td>1.2</td>\n      <td>2.0</td>\n      <td>0.0</td>\n      <td>7.0</td>\n      <td>1</td>\n    </tr>\n    <tr>\n      <th>299</th>\n      <td>68.0</td>\n      <td>1.0</td>\n      <td>4.0</td>\n      <td>144.0</td>\n      <td>193.0</td>\n      <td>1.0</td>\n      <td>0.0</td>\n      <td>141.0</td>\n      <td>0.0</td>\n      <td>3.4</td>\n      <td>2.0</td>\n      <td>2.0</td>\n      <td>7.0</td>\n      <td>2</td>\n    </tr>\n    <tr>\n      <th>300</th>\n      <td>57.0</td>\n      <td>1.0</td>\n      <td>4.0</td>\n      <td>130.0</td>\n      <td>131.0</td>\n      <td>0.0</td>\n      <td>0.0</td>\n      <td>115.0</td>\n      <td>1.0</td>\n      <td>1.2</td>\n      <td>2.0</td>\n      <td>1.0</td>\n      <td>7.0</td>\n      <td>3</td>\n    </tr>\n    <tr>\n      <th>301</th>\n      <td>57.0</td>\n      <td>0.0</td>\n      <td>2.0</td>\n      <td>130.0</td>\n      <td>236.0</td>\n      <td>0.0</td>\n      <td>2.0</td>\n      <td>174.0</td>\n      <td>0.0</td>\n      <td>0.0</td>\n      <td>2.0</td>\n      <td>1.0</td>\n      <td>3.0</td>\n      <td>1</td>\n    </tr>\n    <tr>\n      <th>302</th>\n      <td>38.0</td>\n      <td>1.0</td>\n      <td>3.0</td>\n      <td>138.0</td>\n      <td>175.0</td>\n      <td>0.0</td>\n      <td>0.0</td>\n      <td>173.0</td>\n      <td>0.0</td>\n      <td>0.0</td>\n      <td>1.0</td>\n      <td>NaN</td>\n      <td>3.0</td>\n      <td>0</td>\n    </tr>\n  </tbody>\n</table>\n<p>303 rows × 14 columns</p>\n</div>"
     },
     "execution_count": 3,
     "metadata": {},
     "output_type": "execute_result"
    }
   ],
   "source": [
    "df = pd.read_csv(\"Data/heart_disease/processed.cleveland.data\", header=None, names=['age','sex','cp','trestbps','chol','fbs','restecg','thalach','exang','oldpeak','slope','ca','thal','num'], na_values=[\"?\"])\n",
    "df"
   ],
   "metadata": {
    "collapsed": false,
    "ExecuteTime": {
     "end_time": "2023-09-13T01:37:27.784029Z",
     "start_time": "2023-09-13T01:37:27.768150Z"
    }
   },
   "id": "da747423b7d02510"
  },
  {
   "cell_type": "markdown",
   "source": [
    "Attribute Information:\n",
    "   -- Only 14 used\n",
    "      -- 1. #3  (age)\n",
    "      -- 2. #4  (sex)      \n",
    "      -- 3. #9  (cp)        \n",
    "      -- 4. #10 (trestbps)  \n",
    "      -- 5. #12 (chol)      \n",
    "      -- 6. #16 (fbs)       \n",
    "      -- 7. #19 (restecg)   \n",
    "      -- 8. #32 (thalach)   \n",
    "      -- 9. #38 (exang)     \n",
    "      -- 10. #40 (oldpeak)   \n",
    "      -- 11. #41 (slope)     \n",
    "      -- 12. #44 (ca)        \n",
    "      -- 13. #51 (thal)      \n",
    "      -- 14. #58 (num)       (the predicted attribute)"
   ],
   "metadata": {
    "collapsed": false
   },
   "id": "8f6a7a379f3a6a28"
  },
  {
   "cell_type": "code",
   "execution_count": 3,
   "outputs": [],
   "source": [],
   "metadata": {
    "collapsed": false,
    "ExecuteTime": {
     "end_time": "2023-09-13T01:37:27.785796Z",
     "start_time": "2023-09-13T01:37:27.783189Z"
    }
   },
   "id": "7e477edae5925a5f"
  },
  {
   "cell_type": "code",
   "execution_count": 4,
   "outputs": [
    {
     "data": {
      "text/plain": "                 0     Type  Missing_values  Present_values  Unique_values  \\\nage            age  float64               0             303             41   \nsex            sex  float64               0             303              2   \ncp              cp  float64               0             303              4   \ntrestbps  trestbps  float64               0             303             50   \nchol          chol  float64               0             303            152   \nfbs            fbs  float64               0             303              2   \nrestecg    restecg  float64               0             303              3   \nthalach    thalach  float64               0             303             91   \nexang        exang  float64               0             303              2   \noldpeak    oldpeak  float64               0             303             40   \nslope        slope  float64               0             303              3   \nca              ca  float64               4             299              4   \nthal          thal  float64               2             301              3   \nnum            num    int64               0             303              5   \n\n          Min_value  Max_value  \nage            29.0       77.0  \nsex             0.0        1.0  \ncp              1.0        4.0  \ntrestbps       94.0      200.0  \nchol          126.0      564.0  \nfbs             0.0        1.0  \nrestecg         0.0        2.0  \nthalach        71.0      202.0  \nexang           0.0        1.0  \noldpeak         0.0        6.2  \nslope           1.0        3.0  \nca              0.0        3.0  \nthal            3.0        7.0  \nnum             0.0        4.0  ",
      "text/html": "<div>\n<style scoped>\n    .dataframe tbody tr th:only-of-type {\n        vertical-align: middle;\n    }\n\n    .dataframe tbody tr th {\n        vertical-align: top;\n    }\n\n    .dataframe thead th {\n        text-align: right;\n    }\n</style>\n<table border=\"1\" class=\"dataframe\">\n  <thead>\n    <tr style=\"text-align: right;\">\n      <th></th>\n      <th>0</th>\n      <th>Type</th>\n      <th>Missing_values</th>\n      <th>Present_values</th>\n      <th>Unique_values</th>\n      <th>Min_value</th>\n      <th>Max_value</th>\n    </tr>\n  </thead>\n  <tbody>\n    <tr>\n      <th>age</th>\n      <td>age</td>\n      <td>float64</td>\n      <td>0</td>\n      <td>303</td>\n      <td>41</td>\n      <td>29.0</td>\n      <td>77.0</td>\n    </tr>\n    <tr>\n      <th>sex</th>\n      <td>sex</td>\n      <td>float64</td>\n      <td>0</td>\n      <td>303</td>\n      <td>2</td>\n      <td>0.0</td>\n      <td>1.0</td>\n    </tr>\n    <tr>\n      <th>cp</th>\n      <td>cp</td>\n      <td>float64</td>\n      <td>0</td>\n      <td>303</td>\n      <td>4</td>\n      <td>1.0</td>\n      <td>4.0</td>\n    </tr>\n    <tr>\n      <th>trestbps</th>\n      <td>trestbps</td>\n      <td>float64</td>\n      <td>0</td>\n      <td>303</td>\n      <td>50</td>\n      <td>94.0</td>\n      <td>200.0</td>\n    </tr>\n    <tr>\n      <th>chol</th>\n      <td>chol</td>\n      <td>float64</td>\n      <td>0</td>\n      <td>303</td>\n      <td>152</td>\n      <td>126.0</td>\n      <td>564.0</td>\n    </tr>\n    <tr>\n      <th>fbs</th>\n      <td>fbs</td>\n      <td>float64</td>\n      <td>0</td>\n      <td>303</td>\n      <td>2</td>\n      <td>0.0</td>\n      <td>1.0</td>\n    </tr>\n    <tr>\n      <th>restecg</th>\n      <td>restecg</td>\n      <td>float64</td>\n      <td>0</td>\n      <td>303</td>\n      <td>3</td>\n      <td>0.0</td>\n      <td>2.0</td>\n    </tr>\n    <tr>\n      <th>thalach</th>\n      <td>thalach</td>\n      <td>float64</td>\n      <td>0</td>\n      <td>303</td>\n      <td>91</td>\n      <td>71.0</td>\n      <td>202.0</td>\n    </tr>\n    <tr>\n      <th>exang</th>\n      <td>exang</td>\n      <td>float64</td>\n      <td>0</td>\n      <td>303</td>\n      <td>2</td>\n      <td>0.0</td>\n      <td>1.0</td>\n    </tr>\n    <tr>\n      <th>oldpeak</th>\n      <td>oldpeak</td>\n      <td>float64</td>\n      <td>0</td>\n      <td>303</td>\n      <td>40</td>\n      <td>0.0</td>\n      <td>6.2</td>\n    </tr>\n    <tr>\n      <th>slope</th>\n      <td>slope</td>\n      <td>float64</td>\n      <td>0</td>\n      <td>303</td>\n      <td>3</td>\n      <td>1.0</td>\n      <td>3.0</td>\n    </tr>\n    <tr>\n      <th>ca</th>\n      <td>ca</td>\n      <td>float64</td>\n      <td>4</td>\n      <td>299</td>\n      <td>4</td>\n      <td>0.0</td>\n      <td>3.0</td>\n    </tr>\n    <tr>\n      <th>thal</th>\n      <td>thal</td>\n      <td>float64</td>\n      <td>2</td>\n      <td>301</td>\n      <td>3</td>\n      <td>3.0</td>\n      <td>7.0</td>\n    </tr>\n    <tr>\n      <th>num</th>\n      <td>num</td>\n      <td>int64</td>\n      <td>0</td>\n      <td>303</td>\n      <td>5</td>\n      <td>0.0</td>\n      <td>4.0</td>\n    </tr>\n  </tbody>\n</table>\n</div>"
     },
     "execution_count": 4,
     "metadata": {},
     "output_type": "execute_result"
    }
   ],
   "source": [
    "utl.data_quality_report(df)"
   ],
   "metadata": {
    "collapsed": false,
    "ExecuteTime": {
     "end_time": "2023-09-13T01:37:27.831682Z",
     "start_time": "2023-09-13T01:37:27.786034Z"
    }
   },
   "id": "a04e2c45f12ade24"
  },
  {
   "cell_type": "markdown",
   "source": [
    "There are some non numeric  characters \"?\" in variables \"ca\" and \"thal\", we are replacing them with np.nan, to drop them."
   ],
   "metadata": {
    "collapsed": false
   },
   "id": "9393a7e875786ff4"
  },
  {
   "cell_type": "code",
   "execution_count": 5,
   "outputs": [
    {
     "data": {
      "text/plain": "                 0     Type  Missing_values  Present_values  Unique_values  \\\nage            age  float64               0             303             41   \nsex            sex  float64               0             303              2   \ncp              cp  float64               0             303              4   \ntrestbps  trestbps  float64               0             303             50   \nchol          chol  float64               0             303            152   \nfbs            fbs  float64               0             303              2   \nrestecg    restecg  float64               0             303              3   \nthalach    thalach  float64               0             303             91   \nexang        exang  float64               0             303              2   \noldpeak    oldpeak  float64               0             303             40   \nslope        slope  float64               0             303              3   \nca              ca  float64               4             299              4   \nthal          thal  float64               2             301              3   \nnum            num    int64               0             303              5   \n\n          Min_value  Max_value  \nage            29.0       77.0  \nsex             0.0        1.0  \ncp              1.0        4.0  \ntrestbps       94.0      200.0  \nchol          126.0      564.0  \nfbs             0.0        1.0  \nrestecg         0.0        2.0  \nthalach        71.0      202.0  \nexang           0.0        1.0  \noldpeak         0.0        6.2  \nslope           1.0        3.0  \nca              0.0        3.0  \nthal            3.0        7.0  \nnum             0.0        4.0  ",
      "text/html": "<div>\n<style scoped>\n    .dataframe tbody tr th:only-of-type {\n        vertical-align: middle;\n    }\n\n    .dataframe tbody tr th {\n        vertical-align: top;\n    }\n\n    .dataframe thead th {\n        text-align: right;\n    }\n</style>\n<table border=\"1\" class=\"dataframe\">\n  <thead>\n    <tr style=\"text-align: right;\">\n      <th></th>\n      <th>0</th>\n      <th>Type</th>\n      <th>Missing_values</th>\n      <th>Present_values</th>\n      <th>Unique_values</th>\n      <th>Min_value</th>\n      <th>Max_value</th>\n    </tr>\n  </thead>\n  <tbody>\n    <tr>\n      <th>age</th>\n      <td>age</td>\n      <td>float64</td>\n      <td>0</td>\n      <td>303</td>\n      <td>41</td>\n      <td>29.0</td>\n      <td>77.0</td>\n    </tr>\n    <tr>\n      <th>sex</th>\n      <td>sex</td>\n      <td>float64</td>\n      <td>0</td>\n      <td>303</td>\n      <td>2</td>\n      <td>0.0</td>\n      <td>1.0</td>\n    </tr>\n    <tr>\n      <th>cp</th>\n      <td>cp</td>\n      <td>float64</td>\n      <td>0</td>\n      <td>303</td>\n      <td>4</td>\n      <td>1.0</td>\n      <td>4.0</td>\n    </tr>\n    <tr>\n      <th>trestbps</th>\n      <td>trestbps</td>\n      <td>float64</td>\n      <td>0</td>\n      <td>303</td>\n      <td>50</td>\n      <td>94.0</td>\n      <td>200.0</td>\n    </tr>\n    <tr>\n      <th>chol</th>\n      <td>chol</td>\n      <td>float64</td>\n      <td>0</td>\n      <td>303</td>\n      <td>152</td>\n      <td>126.0</td>\n      <td>564.0</td>\n    </tr>\n    <tr>\n      <th>fbs</th>\n      <td>fbs</td>\n      <td>float64</td>\n      <td>0</td>\n      <td>303</td>\n      <td>2</td>\n      <td>0.0</td>\n      <td>1.0</td>\n    </tr>\n    <tr>\n      <th>restecg</th>\n      <td>restecg</td>\n      <td>float64</td>\n      <td>0</td>\n      <td>303</td>\n      <td>3</td>\n      <td>0.0</td>\n      <td>2.0</td>\n    </tr>\n    <tr>\n      <th>thalach</th>\n      <td>thalach</td>\n      <td>float64</td>\n      <td>0</td>\n      <td>303</td>\n      <td>91</td>\n      <td>71.0</td>\n      <td>202.0</td>\n    </tr>\n    <tr>\n      <th>exang</th>\n      <td>exang</td>\n      <td>float64</td>\n      <td>0</td>\n      <td>303</td>\n      <td>2</td>\n      <td>0.0</td>\n      <td>1.0</td>\n    </tr>\n    <tr>\n      <th>oldpeak</th>\n      <td>oldpeak</td>\n      <td>float64</td>\n      <td>0</td>\n      <td>303</td>\n      <td>40</td>\n      <td>0.0</td>\n      <td>6.2</td>\n    </tr>\n    <tr>\n      <th>slope</th>\n      <td>slope</td>\n      <td>float64</td>\n      <td>0</td>\n      <td>303</td>\n      <td>3</td>\n      <td>1.0</td>\n      <td>3.0</td>\n    </tr>\n    <tr>\n      <th>ca</th>\n      <td>ca</td>\n      <td>float64</td>\n      <td>4</td>\n      <td>299</td>\n      <td>4</td>\n      <td>0.0</td>\n      <td>3.0</td>\n    </tr>\n    <tr>\n      <th>thal</th>\n      <td>thal</td>\n      <td>float64</td>\n      <td>2</td>\n      <td>301</td>\n      <td>3</td>\n      <td>3.0</td>\n      <td>7.0</td>\n    </tr>\n    <tr>\n      <th>num</th>\n      <td>num</td>\n      <td>int64</td>\n      <td>0</td>\n      <td>303</td>\n      <td>5</td>\n      <td>0.0</td>\n      <td>4.0</td>\n    </tr>\n  </tbody>\n</table>\n</div>"
     },
     "execution_count": 5,
     "metadata": {},
     "output_type": "execute_result"
    }
   ],
   "source": [
    "utl.data_quality_report(df)"
   ],
   "metadata": {
    "collapsed": false,
    "ExecuteTime": {
     "end_time": "2023-09-13T01:37:27.832186Z",
     "start_time": "2023-09-13T01:37:27.810115Z"
    }
   },
   "id": "5e3e765e0b4c2d02"
  },
  {
   "cell_type": "code",
   "execution_count": 6,
   "outputs": [
    {
     "data": {
      "text/plain": "0.019801980198019802"
     },
     "execution_count": 6,
     "metadata": {},
     "output_type": "execute_result"
    }
   ],
   "source": [
    "df.isna().sum().sum() / df.shape[0]"
   ],
   "metadata": {
    "collapsed": false,
    "ExecuteTime": {
     "end_time": "2023-09-13T01:37:27.839977Z",
     "start_time": "2023-09-13T01:37:27.831150Z"
    }
   },
   "id": "3decfddcb397732a"
  },
  {
   "cell_type": "code",
   "execution_count": 7,
   "outputs": [],
   "source": [
    "df.dropna(inplace=True)"
   ],
   "metadata": {
    "collapsed": false,
    "ExecuteTime": {
     "end_time": "2023-09-13T01:37:27.840071Z",
     "start_time": "2023-09-13T01:37:27.833572Z"
    }
   },
   "id": "24e7e50d02d9b004"
  },
  {
   "cell_type": "code",
   "execution_count": 8,
   "outputs": [
    {
     "data": {
      "text/plain": "Index(['age', 'sex', 'cp', 'trestbps', 'chol', 'fbs', 'restecg', 'thalach',\n       'exang', 'oldpeak', 'slope', 'ca', 'thal'],\n      dtype='object')"
     },
     "execution_count": 8,
     "metadata": {},
     "output_type": "execute_result"
    }
   ],
   "source": [
    "inputs = df.drop(columns=\"num\")\n",
    "inputs.columns"
   ],
   "metadata": {
    "collapsed": false,
    "ExecuteTime": {
     "end_time": "2023-09-13T01:37:27.862389Z",
     "start_time": "2023-09-13T01:37:27.838363Z"
    }
   },
   "id": "6fbf8f01297e9b7f"
  },
  {
   "cell_type": "code",
   "execution_count": 9,
   "outputs": [
    {
     "data": {
      "text/plain": "0    160\n1     54\n2     35\n3     35\n4     13\nName: num, dtype: int64"
     },
     "execution_count": 9,
     "metadata": {},
     "output_type": "execute_result"
    }
   ],
   "source": [
    "target = df[\"num\"]\n",
    "target.value_counts()"
   ],
   "metadata": {
    "collapsed": false,
    "ExecuteTime": {
     "end_time": "2023-09-13T01:37:27.862834Z",
     "start_time": "2023-09-13T01:37:27.841429Z"
    }
   },
   "id": "c13d4d1414f52b28"
  },
  {
   "cell_type": "code",
   "execution_count": 10,
   "outputs": [
    {
     "name": "stderr",
     "output_type": "stream",
     "text": [
      "/var/folders/51/l057c8xx2md597vhk47n57rm0000gn/T/ipykernel_74840/2469113571.py:2: SettingWithCopyWarning: \n",
      "A value is trying to be set on a copy of a slice from a DataFrame\n",
      "\n",
      "See the caveats in the documentation: https://pandas.pydata.org/pandas-docs/stable/user_guide/indexing.html#returning-a-view-versus-a-copy\n",
      "  target.iloc[target != 0] = 1\n"
     ]
    }
   ],
   "source": [
    "# we are only interested if there's a hearth disease (1-4) or not (0), so we are grouping 1-4 into just 1\n",
    "target.iloc[target != 0] = 1"
   ],
   "metadata": {
    "collapsed": false,
    "ExecuteTime": {
     "end_time": "2023-09-13T01:37:27.862940Z",
     "start_time": "2023-09-13T01:37:27.844769Z"
    }
   },
   "id": "ae2111b29f7a5efd"
  },
  {
   "cell_type": "code",
   "execution_count": 11,
   "outputs": [
    {
     "data": {
      "text/plain": "0    160\n1    137\nName: num, dtype: int64"
     },
     "execution_count": 11,
     "metadata": {},
     "output_type": "execute_result"
    }
   ],
   "source": [
    "target.value_counts()"
   ],
   "metadata": {
    "collapsed": false,
    "ExecuteTime": {
     "end_time": "2023-09-13T01:37:27.863029Z",
     "start_time": "2023-09-13T01:37:27.847820Z"
    }
   },
   "id": "8107c20ab644b94c"
  },
  {
   "cell_type": "markdown",
   "source": [
    "## Test and Train subsets"
   ],
   "metadata": {
    "collapsed": false
   },
   "id": "d2ff3adb8dab4182"
  },
  {
   "cell_type": "code",
   "execution_count": 12,
   "outputs": [],
   "source": [
    "from sklearn.model_selection import train_test_split"
   ],
   "metadata": {
    "collapsed": false,
    "ExecuteTime": {
     "end_time": "2023-09-13T01:37:28.010204Z",
     "start_time": "2023-09-13T01:37:27.857612Z"
    }
   },
   "id": "f4abbe4dd6f3a0ad"
  },
  {
   "cell_type": "code",
   "execution_count": 13,
   "outputs": [],
   "source": [
    "X_train, X_test, y_train, y_test = train_test_split(inputs, target, test_size=.30,random_state=random_seed)"
   ],
   "metadata": {
    "collapsed": false,
    "ExecuteTime": {
     "end_time": "2023-09-13T01:37:28.010431Z",
     "start_time": "2023-09-13T01:37:28.000116Z"
    }
   },
   "id": "12cb01d6816b8a25"
  },
  {
   "cell_type": "markdown",
   "source": [
    "## Useful Utility"
   ],
   "metadata": {
    "collapsed": false
   },
   "id": "abcf15e2bc3bb0d"
  },
  {
   "cell_type": "code",
   "execution_count": 14,
   "outputs": [],
   "source": [
    "from sklearn.metrics import (precision_score, accuracy_score, recall_score)\n",
    "\n",
    "def get_model_metrics(actual, predicted):\n",
    "    print(\"Accuracy: %0.2f\"%(accuracy_score(actual, predicted)))\n",
    "    print(\"Recall:  %0.2f\"%recall_score(actual, predicted))\n",
    "    print(\"Precision:  %0.2f\"%precision_score(actual, predicted))"
   ],
   "metadata": {
    "collapsed": false,
    "ExecuteTime": {
     "end_time": "2023-09-13T01:37:28.010484Z",
     "start_time": "2023-09-13T01:37:28.003639Z"
    }
   },
   "id": "67edf663baa1e2cc"
  },
  {
   "cell_type": "markdown",
   "source": [
    "## Base Logistic Regression Model\n",
    "Train a logistic regression model to estimate the feature “target” using all the pixels in the\n",
    "image as input variables. Get the accuracy values or another metric (precision, recall, …) to\n",
    "evaluate the model's performance in training and testing."
   ],
   "metadata": {
    "collapsed": false
   },
   "id": "a899172234298ef2"
  },
  {
   "cell_type": "code",
   "execution_count": 15,
   "outputs": [],
   "source": [
    "from sklearn.linear_model import LogisticRegression"
   ],
   "metadata": {
    "collapsed": false,
    "ExecuteTime": {
     "end_time": "2023-09-13T01:37:28.070593Z",
     "start_time": "2023-09-13T01:37:28.006925Z"
    }
   },
   "id": "4364a38c08b75c67"
  },
  {
   "cell_type": "code",
   "execution_count": 16,
   "outputs": [
    {
     "name": "stderr",
     "output_type": "stream",
     "text": [
      "/Users/adiaz/anaconda3/lib/python3.11/site-packages/sklearn/linear_model/_logistic.py:460: ConvergenceWarning: lbfgs failed to converge (status=1):\n",
      "STOP: TOTAL NO. of ITERATIONS REACHED LIMIT.\n",
      "\n",
      "Increase the number of iterations (max_iter) or scale the data as shown in:\n",
      "    https://scikit-learn.org/stable/modules/preprocessing.html\n",
      "Please also refer to the documentation for alternative solver options:\n",
      "    https://scikit-learn.org/stable/modules/linear_model.html#logistic-regression\n",
      "  n_iter_i = _check_optimize_result(\n"
     ]
    }
   ],
   "source": [
    "base_logistic_model = LogisticRegression()\n",
    "base_logistic_model.fit(X_train, y_train)\n",
    "y_predicted_train = base_logistic_model.predict(X_train)\n",
    "y_predicted_test = base_logistic_model.predict(X_test)"
   ],
   "metadata": {
    "collapsed": false,
    "ExecuteTime": {
     "end_time": "2023-09-13T01:37:28.071285Z",
     "start_time": "2023-09-13T01:37:28.050776Z"
    }
   },
   "id": "266d7575a7214847"
  },
  {
   "cell_type": "code",
   "execution_count": 17,
   "outputs": [
    {
     "name": "stdout",
     "output_type": "stream",
     "text": [
      "Accuracy: 0.87\n",
      "Recall:  0.80\n",
      "Precision:  0.90\n"
     ]
    }
   ],
   "source": [
    "get_model_metrics(y_train, y_predicted_train)"
   ],
   "metadata": {
    "collapsed": false,
    "ExecuteTime": {
     "end_time": "2023-09-13T01:37:28.071366Z",
     "start_time": "2023-09-13T01:37:28.061614Z"
    }
   },
   "id": "de2809a3840d3071"
  },
  {
   "cell_type": "code",
   "execution_count": 18,
   "outputs": [
    {
     "name": "stdout",
     "output_type": "stream",
     "text": [
      "Accuracy: 0.84\n",
      "Recall:  0.76\n",
      "Precision:  0.89\n"
     ]
    }
   ],
   "source": [
    "get_model_metrics(y_test, y_predicted_test)"
   ],
   "metadata": {
    "collapsed": false,
    "ExecuteTime": {
     "end_time": "2023-09-13T01:37:28.071441Z",
     "start_time": "2023-09-13T01:37:28.065537Z"
    }
   },
   "id": "e3544277f8dfbe41"
  },
  {
   "cell_type": "code",
   "execution_count": 19,
   "outputs": [
    {
     "data": {
      "text/plain": "array([[-0.04244454],\n       [ 0.60012529],\n       [ 0.40485957],\n       [ 0.02793079],\n       [ 0.00226584],\n       [-0.35816886],\n       [ 0.09602762],\n       [-0.04581619],\n       [ 0.97076849],\n       [ 0.34360938],\n       [ 0.18096636],\n       [ 0.9353186 ],\n       [ 0.36108888]])"
     },
     "execution_count": 19,
     "metadata": {},
     "output_type": "execute_result"
    }
   ],
   "source": [
    "base_logistic_model.coef_.T"
   ],
   "metadata": {
    "collapsed": false,
    "ExecuteTime": {
     "end_time": "2023-09-13T01:37:28.080374Z",
     "start_time": "2023-09-13T01:37:28.070382Z"
    }
   },
   "id": "1d6ada0d66912c22"
  },
  {
   "cell_type": "code",
   "execution_count": 20,
   "outputs": [
    {
     "data": {
      "text/plain": "array([-0.21725961])"
     },
     "execution_count": 20,
     "metadata": {},
     "output_type": "execute_result"
    }
   ],
   "source": [
    "base_logistic_model.intercept_"
   ],
   "metadata": {
    "collapsed": false,
    "ExecuteTime": {
     "end_time": "2023-09-13T01:37:28.082032Z",
     "start_time": "2023-09-13T01:37:28.072520Z"
    }
   },
   "id": "775b098ea60aafb3"
  },
  {
   "cell_type": "markdown",
   "source": [
    "## PCA + Logistic Regression\n",
    "Considering the data set obtained in point 1, perform the dimension reduction using the\n",
    "PCA method. With the variables resulting from the reduction process, train a new logistic\n",
    "regression model and calculate the same metrics used in point 2."
   ],
   "metadata": {
    "collapsed": false
   },
   "id": "50b6d47cc833609d"
  },
  {
   "cell_type": "code",
   "execution_count": 21,
   "outputs": [],
   "source": [
    "# For this case, let's first transform the data using Principal Component Analysis\n",
    "from sklearn.decomposition import PCA"
   ],
   "metadata": {
    "collapsed": false,
    "ExecuteTime": {
     "end_time": "2023-09-13T01:37:28.096070Z",
     "start_time": "2023-09-13T01:37:28.080163Z"
    }
   },
   "id": "84b22a3ff5d5bca9"
  },
  {
   "cell_type": "code",
   "execution_count": 22,
   "outputs": [
    {
     "data": {
      "text/plain": "array([7.38612447e-01, 1.52629730e-01, 8.95568493e-02, 1.69537319e-02,\n       1.06536070e-03, 3.35519911e-04, 2.57636474e-04, 2.17144156e-04,\n       1.81549743e-04, 6.56415909e-05, 4.83608792e-05, 4.09784687e-05,\n       3.50492726e-05])"
     },
     "execution_count": 22,
     "metadata": {},
     "output_type": "execute_result"
    }
   ],
   "source": [
    "pca_transformer = PCA()\n",
    "X_train_pca = pca_transformer.fit_transform(X_train)\n",
    "pca_transformer.explained_variance_ratio_"
   ],
   "metadata": {
    "collapsed": false,
    "ExecuteTime": {
     "end_time": "2023-09-13T01:37:28.122186Z",
     "start_time": "2023-09-13T01:37:28.091847Z"
    }
   },
   "id": "ec07d4982b9861b3"
  },
  {
   "cell_type": "code",
   "execution_count": 23,
   "outputs": [
    {
     "data": {
      "text/plain": "array([0.73861245, 0.89124218, 0.98079903, 0.99775276, 0.99881812,\n       0.99915364, 0.99941128, 0.99962842, 0.99980997, 0.99987561,\n       0.99992397, 0.99996495, 1.        ])"
     },
     "execution_count": 23,
     "metadata": {},
     "output_type": "execute_result"
    }
   ],
   "source": [
    "from numpy import cumsum\n",
    "\n",
    "cumsum(pca_transformer.explained_variance_ratio_)"
   ],
   "metadata": {
    "collapsed": false,
    "ExecuteTime": {
     "end_time": "2023-09-13T01:37:28.124136Z",
     "start_time": "2023-09-13T01:37:28.096290Z"
    }
   },
   "id": "75d062d585dd1a82"
  },
  {
   "cell_type": "code",
   "execution_count": 24,
   "outputs": [
    {
     "data": {
      "text/plain": "array([[ 4.00814935e-02, -1.65916732e-03, -1.70475069e-04,\n         4.82842284e-02,  9.97906419e-01,  1.45373320e-04,\n         3.03170238e-03, -1.47056889e-02,  2.43064909e-04,\n         2.78813738e-03,  2.65094973e-05,  2.88293574e-03,\n         6.99576796e-04],\n       [ 1.98494252e-01,  6.43654740e-06,  1.39238912e-02,\n         1.25350665e-01, -2.84479198e-02,  2.91389291e-04,\n         2.45440935e-03, -9.70982539e-01,  8.18167950e-03,\n         1.52854661e-02,  8.88276449e-03,  1.20334373e-02,\n         2.33793051e-02],\n       [ 8.53162831e-02, -1.40321859e-03, -7.53510160e-03,\n         9.84260114e-01, -4.89466411e-02,  3.71275519e-03,\n         7.73566715e-03,  1.46112312e-01, -1.11459085e-03,\n         5.08162646e-03,  1.67901019e-03,  9.51920161e-04,\n         6.73909441e-03],\n       [-9.74909179e-01,  7.28838236e-03,  1.03709943e-02,\n         1.13621400e-01,  3.09968058e-02, -6.87043967e-03,\n         2.91016189e-03, -1.85405675e-01,  8.16176368e-03,\n         6.77057807e-03,  5.57035591e-03, -3.03108467e-02,\n         5.25570526e-03],\n       [ 2.67396131e-04, -1.03105057e-01, -1.41923449e-01,\n         1.03823510e-02,  2.36467533e-04, -3.51554784e-03,\n         1.87146952e-02, -2.86204976e-02, -7.49042225e-02,\n        -1.59881071e-01, -5.58935386e-02, -9.79644079e-02,\n        -9.61271927e-01],\n       [-4.09829180e-03,  1.22974806e-02,  2.23150405e-01,\n        -6.94597385e-03, -3.35702580e-03,  2.86927848e-02,\n         4.03837185e-01,  1.63095636e-02,  7.59713046e-02,\n         7.67141238e-01,  2.27606972e-01,  3.12149119e-01,\n        -2.05628993e-01],\n       [ 6.13446509e-04, -5.20015259e-02,  1.87071036e-01,\n         6.53802780e-03,  1.43024002e-03, -3.50476815e-02,\n        -9.02648095e-01,  5.63855776e-03,  2.78940413e-02,\n         3.54765819e-01,  8.38908365e-02,  2.78957110e-02,\n        -1.08483536e-01],\n       [ 1.33386324e-02,  1.24136896e-02, -7.00356489e-01,\n        -8.19796442e-03,  1.30313567e-04, -4.63764362e-03,\n        -2.19577639e-03, -5.40822010e-03, -7.82662572e-02,\n         3.81926855e-01,  2.44988222e-01, -5.38289319e-01,\n         8.53089599e-02],\n       [-3.07773640e-02,  6.17070162e-02, -6.09905365e-01,\n        -8.20511917e-04, -5.71866801e-04,  8.24368242e-02,\n        -1.32359280e-01, -7.74718215e-03, -1.21494830e-01,\n        -1.72060414e-02, -1.00980058e-01,  7.57069967e-01,\n         2.18098072e-02],\n       [-2.71070519e-03, -4.90986133e-02,  2.84782906e-02,\n        -2.87959199e-04,  7.15604946e-04,  1.24332953e-01,\n        -3.31899728e-02,  4.68782669e-03,  5.93083863e-02,\n        -3.32418394e-01,  9.21004633e-01,  1.32828582e-01,\n        -1.66041412e-02],\n       [-9.04775932e-03, -8.69047083e-01,  2.89771593e-02,\n        -1.32620923e-03, -1.37858290e-03, -1.91640368e-01,\n         5.21885567e-02, -1.12762875e-03, -4.33064397e-01,\n         3.21808261e-02,  1.42999452e-02,  5.36803620e-02,\n         1.12758927e-01],\n       [ 1.32703053e-03, -3.79528810e-01, -1.74804060e-01,\n        -6.77928745e-04, -8.79093643e-04, -2.57155353e-01,\n         7.82121324e-03,  4.71821849e-03,  8.67737874e-01,\n        -2.79669850e-02, -5.31408569e-02,  5.10422489e-02,\n         2.38505511e-03],\n       [-5.77498212e-03, -2.84251013e-01,  4.11163268e-03,\n        -3.01362913e-03, -1.35186704e-04,  9.34207688e-01,\n        -1.72623527e-02, -9.35824943e-04,  1.50953336e-01,\n         3.57292288e-02, -1.28165442e-01, -7.12342141e-02,\n         2.31291010e-02]])"
     },
     "execution_count": 24,
     "metadata": {},
     "output_type": "execute_result"
    }
   ],
   "source": [
    "pca_transformer.components_"
   ],
   "metadata": {
    "collapsed": false,
    "ExecuteTime": {
     "end_time": "2023-09-13T01:37:28.124518Z",
     "start_time": "2023-09-13T01:37:28.100686Z"
    }
   },
   "id": "6cd00d7b2b89f516"
  },
  {
   "cell_type": "code",
   "execution_count": 25,
   "outputs": [],
   "source": [
    "import pickle\n",
    "\n",
    "# open a file to save PCA Matrix\n",
    "file = open('pca_matrix.pickle', 'wb')\n",
    "\n",
    "# dump information to that file\n",
    "pickle.dump(pca_transformer.components_, file)\n",
    "\n",
    "# close the file\n",
    "file.close()"
   ],
   "metadata": {
    "collapsed": false,
    "ExecuteTime": {
     "end_time": "2023-09-13T01:37:28.124739Z",
     "start_time": "2023-09-13T01:37:28.104018Z"
    }
   },
   "id": "78fcc82210d8ad74"
  },
  {
   "cell_type": "code",
   "execution_count": 50,
   "outputs": [],
   "source": [
    "X_train_pca = X_train_pca[:,:3]\n",
    "X_test_pca = pca_transformer.transform(X_test)[:,:3]"
   ],
   "metadata": {
    "collapsed": false,
    "ExecuteTime": {
     "end_time": "2023-09-13T01:56:41.362166Z",
     "start_time": "2023-09-13T01:56:41.340391Z"
    }
   },
   "id": "5537dfba8820b19c"
  },
  {
   "cell_type": "code",
   "execution_count": 51,
   "outputs": [
    {
     "data": {
      "text/plain": "(207, 3)"
     },
     "execution_count": 51,
     "metadata": {},
     "output_type": "execute_result"
    }
   ],
   "source": [
    "X_train_pca.shape"
   ],
   "metadata": {
    "collapsed": false,
    "ExecuteTime": {
     "end_time": "2023-09-13T01:56:42.068143Z",
     "start_time": "2023-09-13T01:56:42.063256Z"
    }
   },
   "id": "8f6efb3a38df469d"
  },
  {
   "cell_type": "code",
   "execution_count": 52,
   "outputs": [
    {
     "data": {
      "text/plain": "(90, 3)"
     },
     "execution_count": 52,
     "metadata": {},
     "output_type": "execute_result"
    }
   ],
   "source": [
    "X_test_pca.shape"
   ],
   "metadata": {
    "collapsed": false,
    "ExecuteTime": {
     "end_time": "2023-09-13T01:56:42.668634Z",
     "start_time": "2023-09-13T01:56:42.662649Z"
    }
   },
   "id": "736f54764ea91f00"
  },
  {
   "cell_type": "code",
   "execution_count": 53,
   "outputs": [],
   "source": [
    "pca_logistic_model = LogisticRegression()\n",
    "pca_logistic_model.fit(X_train_pca, y_train)\n",
    "y_predicted_train = pca_logistic_model.predict(X_train_pca)\n",
    "y_predicted_test = pca_logistic_model.predict(X_test_pca)"
   ],
   "metadata": {
    "collapsed": false,
    "ExecuteTime": {
     "end_time": "2023-09-13T01:56:43.484115Z",
     "start_time": "2023-09-13T01:56:43.471429Z"
    }
   },
   "id": "270ae51382c93742"
  },
  {
   "cell_type": "code",
   "execution_count": 54,
   "outputs": [
    {
     "name": "stdout",
     "output_type": "stream",
     "text": [
      "Accuracy: 0.74\n",
      "Recall:  0.68\n",
      "Precision:  0.73\n"
     ]
    }
   ],
   "source": [
    "get_model_metrics(y_train, y_predicted_train)"
   ],
   "metadata": {
    "collapsed": false,
    "ExecuteTime": {
     "end_time": "2023-09-13T01:56:45.344374Z",
     "start_time": "2023-09-13T01:56:45.339596Z"
    }
   },
   "id": "3fabd246f4a043c0"
  },
  {
   "cell_type": "code",
   "execution_count": 55,
   "outputs": [
    {
     "name": "stdout",
     "output_type": "stream",
     "text": [
      "Accuracy: 0.66\n",
      "Recall:  0.60\n",
      "Precision:  0.64\n"
     ]
    }
   ],
   "source": [
    "get_model_metrics(y_test, y_predicted_test)"
   ],
   "metadata": {
    "collapsed": false,
    "ExecuteTime": {
     "end_time": "2023-09-13T01:56:46.310705Z",
     "start_time": "2023-09-13T01:56:46.281480Z"
    }
   },
   "id": "8e041e40f6d6122b"
  },
  {
   "cell_type": "code",
   "execution_count": 65,
   "outputs": [
    {
     "data": {
      "text/plain": "array([[0.00473673],\n       [0.05054616],\n       [0.01743115]])"
     },
     "execution_count": 65,
     "metadata": {},
     "output_type": "execute_result"
    }
   ],
   "source": [
    "pca_logistic_model.coef_.T"
   ],
   "metadata": {
    "collapsed": false,
    "ExecuteTime": {
     "end_time": "2023-09-13T02:12:48.832929Z",
     "start_time": "2023-09-13T02:12:48.820589Z"
    }
   },
   "id": "3c49f01fe7205f31"
  },
  {
   "cell_type": "code",
   "execution_count": 68,
   "outputs": [
    {
     "data": {
      "text/plain": "array([[ 4.00814935e-02, -1.65916732e-03, -1.70475069e-04,\n         4.82842284e-02,  9.97906419e-01,  1.45373320e-04,\n         3.03170238e-03, -1.47056889e-02,  2.43064909e-04,\n         2.78813738e-03,  2.65094973e-05,  2.88293574e-03,\n         6.99576796e-04],\n       [ 1.98494252e-01,  6.43654740e-06,  1.39238912e-02,\n         1.25350665e-01, -2.84479198e-02,  2.91389291e-04,\n         2.45440935e-03, -9.70982539e-01,  8.18167950e-03,\n         1.52854661e-02,  8.88276449e-03,  1.20334373e-02,\n         2.33793051e-02],\n       [ 8.53162831e-02, -1.40321859e-03, -7.53510160e-03,\n         9.84260114e-01, -4.89466411e-02,  3.71275519e-03,\n         7.73566715e-03,  1.46112312e-01, -1.11459085e-03,\n         5.08162646e-03,  1.67901019e-03,  9.51920161e-04,\n         6.73909441e-03],\n       [-9.74909179e-01,  7.28838236e-03,  1.03709943e-02,\n         1.13621400e-01,  3.09968058e-02, -6.87043967e-03,\n         2.91016189e-03, -1.85405675e-01,  8.16176368e-03,\n         6.77057807e-03,  5.57035591e-03, -3.03108467e-02,\n         5.25570526e-03],\n       [ 2.67396131e-04, -1.03105057e-01, -1.41923449e-01,\n         1.03823510e-02,  2.36467533e-04, -3.51554784e-03,\n         1.87146952e-02, -2.86204976e-02, -7.49042225e-02,\n        -1.59881071e-01, -5.58935386e-02, -9.79644079e-02,\n        -9.61271927e-01],\n       [-4.09829180e-03,  1.22974806e-02,  2.23150405e-01,\n        -6.94597385e-03, -3.35702580e-03,  2.86927848e-02,\n         4.03837185e-01,  1.63095636e-02,  7.59713046e-02,\n         7.67141238e-01,  2.27606972e-01,  3.12149119e-01,\n        -2.05628993e-01],\n       [ 6.13446509e-04, -5.20015259e-02,  1.87071036e-01,\n         6.53802780e-03,  1.43024002e-03, -3.50476815e-02,\n        -9.02648095e-01,  5.63855776e-03,  2.78940413e-02,\n         3.54765819e-01,  8.38908365e-02,  2.78957110e-02,\n        -1.08483536e-01],\n       [ 1.33386324e-02,  1.24136896e-02, -7.00356489e-01,\n        -8.19796442e-03,  1.30313567e-04, -4.63764362e-03,\n        -2.19577639e-03, -5.40822010e-03, -7.82662572e-02,\n         3.81926855e-01,  2.44988222e-01, -5.38289319e-01,\n         8.53089599e-02],\n       [-3.07773640e-02,  6.17070162e-02, -6.09905365e-01,\n        -8.20511917e-04, -5.71866801e-04,  8.24368242e-02,\n        -1.32359280e-01, -7.74718215e-03, -1.21494830e-01,\n        -1.72060414e-02, -1.00980058e-01,  7.57069967e-01,\n         2.18098072e-02],\n       [-2.71070519e-03, -4.90986133e-02,  2.84782906e-02,\n        -2.87959199e-04,  7.15604946e-04,  1.24332953e-01,\n        -3.31899728e-02,  4.68782669e-03,  5.93083863e-02,\n        -3.32418394e-01,  9.21004633e-01,  1.32828582e-01,\n        -1.66041412e-02],\n       [-9.04775932e-03, -8.69047083e-01,  2.89771593e-02,\n        -1.32620923e-03, -1.37858290e-03, -1.91640368e-01,\n         5.21885567e-02, -1.12762875e-03, -4.33064397e-01,\n         3.21808261e-02,  1.42999452e-02,  5.36803620e-02,\n         1.12758927e-01],\n       [ 1.32703053e-03, -3.79528810e-01, -1.74804060e-01,\n        -6.77928745e-04, -8.79093643e-04, -2.57155353e-01,\n         7.82121324e-03,  4.71821849e-03,  8.67737874e-01,\n        -2.79669850e-02, -5.31408569e-02,  5.10422489e-02,\n         2.38505511e-03],\n       [-5.77498212e-03, -2.84251013e-01,  4.11163268e-03,\n        -3.01362913e-03, -1.35186704e-04,  9.34207688e-01,\n        -1.72623527e-02, -9.35824943e-04,  1.50953336e-01,\n         3.57292288e-02, -1.28165442e-01, -7.12342141e-02,\n         2.31291010e-02]])"
     },
     "execution_count": 68,
     "metadata": {},
     "output_type": "execute_result"
    }
   ],
   "source": [
    "pca_transformer.components_"
   ],
   "metadata": {
    "collapsed": false,
    "ExecuteTime": {
     "end_time": "2023-09-13T02:18:39.251788Z",
     "start_time": "2023-09-13T02:18:39.233375Z"
    }
   },
   "id": "d36412129a6e6181"
  },
  {
   "cell_type": "code",
   "execution_count": 57,
   "outputs": [
    {
     "data": {
      "text/plain": "array([-0.17380058])"
     },
     "execution_count": 57,
     "metadata": {},
     "output_type": "execute_result"
    }
   ],
   "source": [
    "pca_logistic_model.intercept_"
   ],
   "metadata": {
    "collapsed": false,
    "ExecuteTime": {
     "end_time": "2023-09-13T02:10:55.983210Z",
     "start_time": "2023-09-13T02:10:55.967869Z"
    }
   },
   "id": "d1c56ba304f65c8b"
  },
  {
   "cell_type": "markdown",
   "source": [
    "## LDA Transform + Logistic Regression\n",
    "Considering the data set used in point 1 again, perform a variable reduction by LDA\n",
    "transformation. With the variables resulting from the transformation process, train a new\n",
    "logistic regression wich must be evaluated with the same metrics as the previous models."
   ],
   "metadata": {
    "collapsed": false
   },
   "id": "4b09050a5743c7a8"
  },
  {
   "cell_type": "code",
   "execution_count": 31,
   "outputs": [],
   "source": [
    "from sklearn.discriminant_analysis import LinearDiscriminantAnalysis"
   ],
   "metadata": {
    "collapsed": false,
    "ExecuteTime": {
     "end_time": "2023-09-13T01:37:28.189924Z",
     "start_time": "2023-09-13T01:37:28.140950Z"
    }
   },
   "id": "5d06db3f43458cf0"
  },
  {
   "cell_type": "code",
   "execution_count": 72,
   "outputs": [],
   "source": [
    "lda_transformer = LinearDiscriminantAnalysis()\n",
    "X_train_lda = lda_transformer.fit_transform(X_train, y_train)\n"
   ],
   "metadata": {
    "collapsed": false,
    "ExecuteTime": {
     "end_time": "2023-09-13T02:28:02.546584Z",
     "start_time": "2023-09-13T02:28:02.536408Z"
    }
   },
   "id": "2646cf90379a196e"
  },
  {
   "cell_type": "code",
   "execution_count": 33,
   "outputs": [
    {
     "data": {
      "text/plain": "array([[ 2.52265242],\n       [ 2.07995297],\n       [ 1.48892118],\n       [ 2.10799989],\n       [-1.5773806 ],\n       [-1.49885784],\n       [ 0.68265666],\n       [-1.52192452],\n       [ 1.64673239],\n       [ 0.5887162 ],\n       [ 1.13967296],\n       [-0.36266394],\n       [-0.53516217],\n       [ 0.52276138],\n       [ 1.80027948],\n       [-2.20227122],\n       [ 0.76543376],\n       [ 0.29567724],\n       [ 1.59944529],\n       [-0.04451519],\n       [ 0.83091644],\n       [ 2.28902616],\n       [ 2.5578495 ],\n       [ 0.4428376 ],\n       [-2.25588691],\n       [ 1.31255251],\n       [-2.24673738],\n       [-0.68286823],\n       [ 0.39523628],\n       [-0.7735628 ],\n       [-1.98082715],\n       [ 2.40183388],\n       [ 0.114578  ],\n       [-2.04504752],\n       [ 1.18488461],\n       [ 2.68999539],\n       [-2.09844424],\n       [ 1.45530649],\n       [-0.63121264],\n       [-0.24355045],\n       [ 0.21467643],\n       [-1.55062299],\n       [-0.20226969],\n       [ 0.72435867],\n       [ 1.75151035],\n       [ 2.04596336],\n       [-0.78116225],\n       [-1.14522627],\n       [ 1.96249895],\n       [-0.74870138],\n       [-0.68164928],\n       [ 1.73271407],\n       [ 3.43377024],\n       [ 2.49219571],\n       [-1.14260822],\n       [-0.61338893],\n       [-0.81584367],\n       [-1.29649197],\n       [-1.7373217 ],\n       [ 1.9336566 ],\n       [ 0.27916271],\n       [ 0.1616209 ],\n       [ 0.17327638],\n       [-0.03771689],\n       [ 2.44332001],\n       [-0.56330349],\n       [-1.06555905],\n       [-0.59176022],\n       [-1.05735471],\n       [ 0.21206257],\n       [ 3.45772638],\n       [-0.23998554],\n       [-0.37203355],\n       [-0.09693127],\n       [ 0.996091  ],\n       [-2.4425895 ],\n       [ 0.12238181],\n       [ 1.53577193],\n       [-1.36452526],\n       [ 0.42925096],\n       [ 2.86023032],\n       [-0.8212589 ],\n       [ 0.17395725],\n       [ 0.09028487],\n       [-0.42760912],\n       [-0.85364738],\n       [-1.10543537],\n       [-0.53932009],\n       [-1.12686063],\n       [ 1.95364664],\n       [-2.87709302],\n       [-0.86412985],\n       [ 1.0291162 ],\n       [ 1.17445574],\n       [-1.34174484],\n       [-0.77714141],\n       [-1.72994672],\n       [-0.31845881],\n       [-1.05895029],\n       [ 1.52824123],\n       [ 0.20172536],\n       [ 0.62900375],\n       [-0.42256432],\n       [ 1.01179022],\n       [ 1.46528365],\n       [-0.80904341],\n       [-1.30206464],\n       [-1.93421148],\n       [-0.10430049],\n       [-0.92390314],\n       [-1.04018977],\n       [-1.32633756],\n       [ 1.60198842],\n       [-2.44534735],\n       [ 0.91928919],\n       [-1.76812654],\n       [-1.80042176],\n       [ 0.3636048 ],\n       [-1.57792311],\n       [-0.9239022 ],\n       [-2.48515639],\n       [ 1.67146147],\n       [-2.20275069],\n       [-0.0197343 ],\n       [ 1.80934197],\n       [-1.00468877],\n       [ 0.75354152],\n       [ 2.82210063],\n       [ 2.64806272],\n       [-1.89142519],\n       [ 0.42174812],\n       [-0.59580413],\n       [-0.01330105],\n       [ 0.97405817],\n       [ 0.02629908],\n       [ 1.14714611],\n       [-0.81465602],\n       [ 1.48126542],\n       [-1.24185146],\n       [ 0.59269687],\n       [-1.3265687 ],\n       [ 1.34773885],\n       [-1.59579568],\n       [-1.09156342],\n       [-0.43363131],\n       [ 1.47426204],\n       [-1.02040307],\n       [ 2.81883215],\n       [ 2.77288058],\n       [ 2.36327266],\n       [ 1.47085319],\n       [ 0.47549936],\n       [-0.68443336],\n       [ 1.12094511],\n       [-0.24114448],\n       [ 1.82656735],\n       [-0.63525015],\n       [-1.69798611],\n       [ 1.84589075],\n       [ 1.97241248],\n       [-1.88096238],\n       [-1.9749922 ],\n       [ 0.53586324],\n       [-0.72615623],\n       [-1.65478965],\n       [-0.83525298],\n       [-0.56018645],\n       [-1.46468674],\n       [-1.15800326],\n       [-0.08205776],\n       [ 0.7937055 ],\n       [ 2.65169175],\n       [ 1.11907631],\n       [-1.00327863],\n       [-2.08311187],\n       [ 2.15039314],\n       [-0.91025204],\n       [ 2.66530573],\n       [-1.68170046],\n       [-1.50020397],\n       [-0.4775382 ],\n       [-1.40782895],\n       [-1.69910533],\n       [-0.13253398],\n       [-1.50297598],\n       [-1.39197558],\n       [ 2.54169094],\n       [-1.573816  ],\n       [-1.20189444],\n       [-1.55021156],\n       [ 0.560578  ],\n       [-1.91459826],\n       [ 0.01193669],\n       [-0.78654824],\n       [-1.52075069],\n       [-1.09120198],\n       [-1.24383009],\n       [ 0.22255814],\n       [-1.58404881],\n       [-0.92078755],\n       [ 1.53590947],\n       [-2.25464303],\n       [-1.01805734],\n       [ 1.05208202],\n       [ 2.41985176],\n       [ 1.37485636],\n       [ 1.75909475]])"
     },
     "execution_count": 33,
     "metadata": {},
     "output_type": "execute_result"
    }
   ],
   "source": [
    "X_train_lda"
   ],
   "metadata": {
    "collapsed": false,
    "ExecuteTime": {
     "end_time": "2023-09-13T01:37:28.203438Z",
     "start_time": "2023-09-13T01:37:28.155658Z"
    }
   },
   "id": "b255e0611a04665"
  },
  {
   "cell_type": "code",
   "execution_count": 75,
   "outputs": [
    {
     "data": {
      "text/plain": "(90, 1)"
     },
     "execution_count": 75,
     "metadata": {},
     "output_type": "execute_result"
    }
   ],
   "source": [
    "X_test_lda = lda_transformer.transform(X_test)\n",
    "X_test_lda.shape"
   ],
   "metadata": {
    "collapsed": false,
    "ExecuteTime": {
     "end_time": "2023-09-13T02:28:32.586168Z",
     "start_time": "2023-09-13T02:28:32.565631Z"
    }
   },
   "id": "933b75bff1750406"
  },
  {
   "cell_type": "code",
   "execution_count": 69,
   "outputs": [
    {
     "data": {
      "text/plain": "array([[ 0.00775993],\n       [ 1.07450737],\n       [ 0.79059315],\n       [ 0.03740164],\n       [ 0.00312264],\n       [-0.76850344],\n       [ 0.14315173],\n       [-0.02352133],\n       [ 1.56180146],\n       [ 0.35808239],\n       [ 0.48666282],\n       [ 0.9030819 ],\n       [ 0.49112669]])"
     },
     "execution_count": 69,
     "metadata": {},
     "output_type": "execute_result"
    }
   ],
   "source": [
    "lda_transformer.coef_.T"
   ],
   "metadata": {
    "collapsed": false,
    "ExecuteTime": {
     "end_time": "2023-09-13T02:23:30.343326Z",
     "start_time": "2023-09-13T02:23:30.322556Z"
    }
   },
   "id": "19931bb1952fc127"
  },
  {
   "cell_type": "code",
   "execution_count": 70,
   "outputs": [
    {
     "data": {
      "text/plain": "array([1.])"
     },
     "execution_count": 70,
     "metadata": {},
     "output_type": "execute_result"
    }
   ],
   "source": [
    "lda_transformer.explained_variance_ratio_"
   ],
   "metadata": {
    "collapsed": false,
    "ExecuteTime": {
     "end_time": "2023-09-13T02:24:58.096347Z",
     "start_time": "2023-09-13T02:24:58.069317Z"
    }
   },
   "id": "931bad9f251e8e3"
  },
  {
   "cell_type": "code",
   "execution_count": 35,
   "outputs": [],
   "source": [
    "# open a file to save LDA coefficients\n",
    "file = open('lda_coef.pickle', 'wb')\n",
    "\n",
    "# dump information to that file\n",
    "pickle.dump(lda_transformer.coef_, file)\n",
    "\n",
    "# close the file\n",
    "file.close()"
   ],
   "metadata": {
    "collapsed": false,
    "ExecuteTime": {
     "end_time": "2023-09-13T01:37:28.206417Z",
     "start_time": "2023-09-13T01:37:28.162897Z"
    }
   },
   "id": "473a6122dec16c3a"
  },
  {
   "cell_type": "code",
   "execution_count": 76,
   "outputs": [],
   "source": [
    "lda_logistic_model = LogisticRegression()\n",
    "lda_logistic_model.fit(X_train_lda, y_train)\n",
    "y_predicted_train = lda_logistic_model.predict(X_train_lda)\n",
    "y_predicted_test = lda_logistic_model.predict(X_test_lda)"
   ],
   "metadata": {
    "collapsed": false,
    "ExecuteTime": {
     "end_time": "2023-09-13T02:29:22.794659Z",
     "start_time": "2023-09-13T02:29:22.776237Z"
    }
   },
   "id": "dabb0226937a42f1"
  },
  {
   "cell_type": "code",
   "execution_count": 77,
   "outputs": [
    {
     "name": "stdout",
     "output_type": "stream",
     "text": [
      "Accuracy: 0.86\n",
      "Recall:  0.83\n",
      "Precision:  0.86\n"
     ]
    }
   ],
   "source": [
    "get_model_metrics(y_train, y_predicted_train)"
   ],
   "metadata": {
    "collapsed": false,
    "ExecuteTime": {
     "end_time": "2023-09-13T02:29:26.245972Z",
     "start_time": "2023-09-13T02:29:26.231592Z"
    }
   },
   "id": "cac1539d68f7a009"
  },
  {
   "cell_type": "code",
   "execution_count": 78,
   "outputs": [
    {
     "name": "stdout",
     "output_type": "stream",
     "text": [
      "Accuracy: 0.84\n",
      "Recall:  0.76\n",
      "Precision:  0.89\n"
     ]
    }
   ],
   "source": [
    "get_model_metrics(y_test, y_predicted_test)"
   ],
   "metadata": {
    "collapsed": false,
    "ExecuteTime": {
     "end_time": "2023-09-13T02:29:27.277305Z",
     "start_time": "2023-09-13T02:29:27.252003Z"
    }
   },
   "id": "d0ecb461a5ddf038"
  },
  {
   "cell_type": "code",
   "execution_count": 79,
   "outputs": [
    {
     "data": {
      "text/plain": "array([[1.77827883]])"
     },
     "execution_count": 79,
     "metadata": {},
     "output_type": "execute_result"
    }
   ],
   "source": [
    "lda_logistic_model.coef_"
   ],
   "metadata": {
    "collapsed": false,
    "ExecuteTime": {
     "end_time": "2023-09-13T02:33:31.825985Z",
     "start_time": "2023-09-13T02:33:31.812210Z"
    }
   },
   "id": "ea54e42b3f31ac59"
  },
  {
   "cell_type": "code",
   "execution_count": 80,
   "outputs": [
    {
     "data": {
      "text/plain": "array([-0.14278611])"
     },
     "execution_count": 80,
     "metadata": {},
     "output_type": "execute_result"
    }
   ],
   "source": [
    "lda_logistic_model.intercept_"
   ],
   "metadata": {
    "collapsed": false,
    "ExecuteTime": {
     "end_time": "2023-09-13T02:33:44.271260Z",
     "start_time": "2023-09-13T02:33:44.258520Z"
    }
   },
   "id": "f2336e13e320718f"
  },
  {
   "cell_type": "markdown",
   "source": [
    "## LDA MODEL\n",
    "Considering the data set used in point 1 again; train a LDA model and evaluate the model\n",
    "with the same metrics"
   ],
   "metadata": {
    "collapsed": false
   },
   "id": "2ffc3da7aec25468"
  },
  {
   "cell_type": "code",
   "execution_count": 39,
   "outputs": [],
   "source": [
    "lda_model = LinearDiscriminantAnalysis()\n",
    "lda_model.fit(X_train, y_train)\n",
    "y_predicted_train = lda_model.predict(X_train)\n",
    "y_predicted_test = lda_model.predict(X_test)"
   ],
   "metadata": {
    "collapsed": false,
    "ExecuteTime": {
     "end_time": "2023-09-13T01:37:28.224638Z",
     "start_time": "2023-09-13T01:37:28.186355Z"
    }
   },
   "id": "846afb48270cab8c"
  },
  {
   "cell_type": "code",
   "execution_count": 40,
   "outputs": [
    {
     "name": "stdout",
     "output_type": "stream",
     "text": [
      "Accuracy: 0.86\n",
      "Recall:  0.81\n",
      "Precision:  0.88\n"
     ]
    }
   ],
   "source": [
    "get_model_metrics(y_train, y_predicted_train)"
   ],
   "metadata": {
    "collapsed": false,
    "ExecuteTime": {
     "end_time": "2023-09-13T01:37:28.228574Z",
     "start_time": "2023-09-13T01:37:28.190927Z"
    }
   },
   "id": "a4e3e49890e5234d"
  },
  {
   "cell_type": "code",
   "execution_count": 41,
   "outputs": [
    {
     "name": "stdout",
     "output_type": "stream",
     "text": [
      "Accuracy: 0.82\n",
      "Recall:  0.71\n",
      "Precision:  0.88\n"
     ]
    }
   ],
   "source": [
    "get_model_metrics(y_test, y_predicted_test)"
   ],
   "metadata": {
    "collapsed": false,
    "ExecuteTime": {
     "end_time": "2023-09-13T01:37:28.228683Z",
     "start_time": "2023-09-13T01:37:28.195385Z"
    }
   },
   "id": "2186887b1694cc8b"
  },
  {
   "cell_type": "code",
   "execution_count": 42,
   "outputs": [
    {
     "data": {
      "text/plain": "array([[ 0.00775993],\n       [ 1.07450737],\n       [ 0.79059315],\n       [ 0.03740164],\n       [ 0.00312264],\n       [-0.76850344],\n       [ 0.14315173],\n       [-0.02352133],\n       [ 1.56180146],\n       [ 0.35808239],\n       [ 0.48666282],\n       [ 0.9030819 ],\n       [ 0.49112669]])"
     },
     "execution_count": 42,
     "metadata": {},
     "output_type": "execute_result"
    }
   ],
   "source": [
    "lda_model.coef_.T"
   ],
   "metadata": {
    "collapsed": false,
    "ExecuteTime": {
     "end_time": "2023-09-13T01:37:28.228869Z",
     "start_time": "2023-09-13T01:37:28.200047Z"
    }
   },
   "id": "ea79b359d7b28a73"
  },
  {
   "cell_type": "code",
   "execution_count": 43,
   "outputs": [
    {
     "data": {
      "text/plain": "array([-10.99519506])"
     },
     "execution_count": 43,
     "metadata": {},
     "output_type": "execute_result"
    }
   ],
   "source": [
    "lda_model.intercept_"
   ],
   "metadata": {
    "collapsed": false,
    "ExecuteTime": {
     "end_time": "2023-09-13T01:37:28.231338Z",
     "start_time": "2023-09-13T01:37:28.203390Z"
    }
   },
   "id": "b3b6b4fa0c7787f1"
  },
  {
   "cell_type": "code",
   "execution_count": 43,
   "outputs": [],
   "source": [],
   "metadata": {
    "collapsed": false,
    "ExecuteTime": {
     "end_time": "2023-09-13T01:37:28.233934Z",
     "start_time": "2023-09-13T01:37:28.205610Z"
    }
   },
   "id": "492b662571e80f46"
  }
 ],
 "metadata": {
  "kernelspec": {
   "display_name": "Python 3",
   "language": "python",
   "name": "python3"
  },
  "language_info": {
   "codemirror_mode": {
    "name": "ipython",
    "version": 2
   },
   "file_extension": ".py",
   "mimetype": "text/x-python",
   "name": "python",
   "nbconvert_exporter": "python",
   "pygments_lexer": "ipython2",
   "version": "2.7.6"
  }
 },
 "nbformat": 4,
 "nbformat_minor": 5
}
