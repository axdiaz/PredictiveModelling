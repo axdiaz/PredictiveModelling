{
 "cells": [
  {
   "cell_type": "code",
   "execution_count": 1,
   "id": "initial_id",
   "metadata": {
    "collapsed": true,
    "ExecuteTime": {
     "end_time": "2023-09-18T06:09:32.396284Z",
     "start_time": "2023-09-18T06:09:32.394413Z"
    }
   },
   "outputs": [],
   "source": [
    "import pandas as pd\n",
    "import numpy as np"
   ]
  },
  {
   "cell_type": "code",
   "execution_count": 2,
   "outputs": [],
   "source": [
    "import sys\n",
    "sys.path.append(r\"~/Documents/GitHub/PredictiveModelling/\")\n",
    "import ax_utilities as utl"
   ],
   "metadata": {
    "collapsed": false,
    "ExecuteTime": {
     "end_time": "2023-09-18T06:09:32.398846Z",
     "start_time": "2023-09-18T06:09:32.396623Z"
    }
   },
   "id": "5d17926b6f95e1bc"
  },
  {
   "cell_type": "code",
   "execution_count": 3,
   "outputs": [],
   "source": [
    "train = pd.read_csv(\"Data/train.csv\", index_col=0)\n",
    "test = pd.read_csv(\"Data/test.csv\", index_col=0)\n",
    "unknown = pd.read_csv(\"Data/unknown.csv\", index_col=0)"
   ],
   "metadata": {
    "collapsed": false,
    "ExecuteTime": {
     "end_time": "2023-09-18T06:09:32.414161Z",
     "start_time": "2023-09-18T06:09:32.404689Z"
    }
   },
   "id": "a36258c04b926083"
  },
  {
   "cell_type": "code",
   "execution_count": 4,
   "outputs": [
    {
     "data": {
      "text/plain": "((201, 24), (201,))"
     },
     "execution_count": 4,
     "metadata": {},
     "output_type": "execute_result"
    }
   ],
   "source": [
    "X_train = train.drop(columns=\"Audit_Risk\") \n",
    "y_train = train[\"Audit_Risk\"]\n",
    "X_train.shape, y_train.shape"
   ],
   "metadata": {
    "collapsed": false,
    "ExecuteTime": {
     "end_time": "2023-09-18T06:09:32.414305Z",
     "start_time": "2023-09-18T06:09:32.412302Z"
    }
   },
   "id": "2bd6d700fed21f53"
  },
  {
   "cell_type": "code",
   "execution_count": 5,
   "outputs": [
    {
     "data": {
      "text/plain": "((101, 24), (101,))"
     },
     "execution_count": 5,
     "metadata": {},
     "output_type": "execute_result"
    }
   ],
   "source": [
    "X_test = test.drop(columns=\"Audit_Risk\")\n",
    "y_test = test[\"Audit_Risk\"]\n",
    "X_test.shape, y_test.shape\n"
   ],
   "metadata": {
    "collapsed": false,
    "ExecuteTime": {
     "end_time": "2023-09-18T06:09:32.420486Z",
     "start_time": "2023-09-18T06:09:32.413892Z"
    }
   },
   "id": "8330b23a98948012"
  },
  {
   "cell_type": "code",
   "execution_count": 6,
   "outputs": [
    {
     "data": {
      "text/plain": "(51, 24)"
     },
     "execution_count": 6,
     "metadata": {},
     "output_type": "execute_result"
    }
   ],
   "source": [
    "unknown.shape\n"
   ],
   "metadata": {
    "collapsed": false,
    "ExecuteTime": {
     "end_time": "2023-09-18T06:09:32.460334Z",
     "start_time": "2023-09-18T06:09:32.417317Z"
    }
   },
   "id": "ed20b3cf56740100"
  },
  {
   "cell_type": "code",
   "execution_count": 7,
   "outputs": [
    {
     "data": {
      "text/plain": "                             0     Type  Missing_values  Present_values  \\\nSector_score      Sector_score  float64               0             201   \nPARA_A                  PARA_A  float64               0             201   \nScore_A                Score_A  float64               0             201   \nRisk_A                  Risk_A  float64               0             201   \nPARA_B                  PARA_B  float64               0             201   \nScore_B                Score_B  float64               0             201   \nRisk_B                  Risk_B  float64               0             201   \nTOTAL                    TOTAL  float64               0             201   \nnumbers                numbers  float64               0             201   \nScore_B.1            Score_B.1  float64               0             201   \nRisk_C                  Risk_C  float64               0             201   \nMoney_Value        Money_Value  float64               0             201   \nScore_MV              Score_MV  float64               0             201   \nRisk_D                  Risk_D  float64               0             201   \nDistrict_Loss    District_Loss    int64               0             201   \nPROB                      PROB  float64               0             201   \nRiSk_E                  RiSk_E  float64               0             201   \nHistory                History    int64               0             201   \nProb                      Prob  float64               0             201   \nRisk_F                  Risk_F  float64               0             201   \nScore                    Score  float64               0             201   \nInherent_Risk    Inherent_Risk  float64               0             201   \nCONTROL_RISK      CONTROL_RISK  float64               0             201   \nDetection_Risk  Detection_Risk  float64               0             201   \n\n                Unique_values  Min_value  Max_value  \nSector_score               10       1.85     59.850  \nPARA_A                    131       0.00     57.030  \nScore_A                     3       0.20      0.600  \nRisk_A                    131       0.00     34.218  \nPARA_B                    119       0.00   1264.630  \nScore_B                     3       0.20      0.600  \nRisk_B                    120       0.00    758.778  \nTOTAL                     158       0.00   1268.910  \nnumbers                     4       5.00      6.500  \nScore_B.1                   3       0.20      0.600  \nRisk_C                      4       1.00      3.900  \nMoney_Value               102       0.00    935.030  \nScore_MV                    3       0.20      0.600  \nRisk_D                    102       0.00    561.018  \nDistrict_Loss               3       2.00      6.000  \nPROB                        3       0.20      0.600  \nRiSk_E                      3       0.40      1.200  \nHistory                     4       0.00      5.000  \nProb                        3       0.20      0.600  \nRisk_F                      4       0.00      3.000  \nScore                      16       2.00      5.200  \nInherent_Risk             175       1.40    801.262  \nCONTROL_RISK                7       0.40      3.400  \nDetection_Risk              1       0.50      0.500  ",
      "text/html": "<div>\n<style scoped>\n    .dataframe tbody tr th:only-of-type {\n        vertical-align: middle;\n    }\n\n    .dataframe tbody tr th {\n        vertical-align: top;\n    }\n\n    .dataframe thead th {\n        text-align: right;\n    }\n</style>\n<table border=\"1\" class=\"dataframe\">\n  <thead>\n    <tr style=\"text-align: right;\">\n      <th></th>\n      <th>0</th>\n      <th>Type</th>\n      <th>Missing_values</th>\n      <th>Present_values</th>\n      <th>Unique_values</th>\n      <th>Min_value</th>\n      <th>Max_value</th>\n    </tr>\n  </thead>\n  <tbody>\n    <tr>\n      <th>Sector_score</th>\n      <td>Sector_score</td>\n      <td>float64</td>\n      <td>0</td>\n      <td>201</td>\n      <td>10</td>\n      <td>1.85</td>\n      <td>59.850</td>\n    </tr>\n    <tr>\n      <th>PARA_A</th>\n      <td>PARA_A</td>\n      <td>float64</td>\n      <td>0</td>\n      <td>201</td>\n      <td>131</td>\n      <td>0.00</td>\n      <td>57.030</td>\n    </tr>\n    <tr>\n      <th>Score_A</th>\n      <td>Score_A</td>\n      <td>float64</td>\n      <td>0</td>\n      <td>201</td>\n      <td>3</td>\n      <td>0.20</td>\n      <td>0.600</td>\n    </tr>\n    <tr>\n      <th>Risk_A</th>\n      <td>Risk_A</td>\n      <td>float64</td>\n      <td>0</td>\n      <td>201</td>\n      <td>131</td>\n      <td>0.00</td>\n      <td>34.218</td>\n    </tr>\n    <tr>\n      <th>PARA_B</th>\n      <td>PARA_B</td>\n      <td>float64</td>\n      <td>0</td>\n      <td>201</td>\n      <td>119</td>\n      <td>0.00</td>\n      <td>1264.630</td>\n    </tr>\n    <tr>\n      <th>Score_B</th>\n      <td>Score_B</td>\n      <td>float64</td>\n      <td>0</td>\n      <td>201</td>\n      <td>3</td>\n      <td>0.20</td>\n      <td>0.600</td>\n    </tr>\n    <tr>\n      <th>Risk_B</th>\n      <td>Risk_B</td>\n      <td>float64</td>\n      <td>0</td>\n      <td>201</td>\n      <td>120</td>\n      <td>0.00</td>\n      <td>758.778</td>\n    </tr>\n    <tr>\n      <th>TOTAL</th>\n      <td>TOTAL</td>\n      <td>float64</td>\n      <td>0</td>\n      <td>201</td>\n      <td>158</td>\n      <td>0.00</td>\n      <td>1268.910</td>\n    </tr>\n    <tr>\n      <th>numbers</th>\n      <td>numbers</td>\n      <td>float64</td>\n      <td>0</td>\n      <td>201</td>\n      <td>4</td>\n      <td>5.00</td>\n      <td>6.500</td>\n    </tr>\n    <tr>\n      <th>Score_B.1</th>\n      <td>Score_B.1</td>\n      <td>float64</td>\n      <td>0</td>\n      <td>201</td>\n      <td>3</td>\n      <td>0.20</td>\n      <td>0.600</td>\n    </tr>\n    <tr>\n      <th>Risk_C</th>\n      <td>Risk_C</td>\n      <td>float64</td>\n      <td>0</td>\n      <td>201</td>\n      <td>4</td>\n      <td>1.00</td>\n      <td>3.900</td>\n    </tr>\n    <tr>\n      <th>Money_Value</th>\n      <td>Money_Value</td>\n      <td>float64</td>\n      <td>0</td>\n      <td>201</td>\n      <td>102</td>\n      <td>0.00</td>\n      <td>935.030</td>\n    </tr>\n    <tr>\n      <th>Score_MV</th>\n      <td>Score_MV</td>\n      <td>float64</td>\n      <td>0</td>\n      <td>201</td>\n      <td>3</td>\n      <td>0.20</td>\n      <td>0.600</td>\n    </tr>\n    <tr>\n      <th>Risk_D</th>\n      <td>Risk_D</td>\n      <td>float64</td>\n      <td>0</td>\n      <td>201</td>\n      <td>102</td>\n      <td>0.00</td>\n      <td>561.018</td>\n    </tr>\n    <tr>\n      <th>District_Loss</th>\n      <td>District_Loss</td>\n      <td>int64</td>\n      <td>0</td>\n      <td>201</td>\n      <td>3</td>\n      <td>2.00</td>\n      <td>6.000</td>\n    </tr>\n    <tr>\n      <th>PROB</th>\n      <td>PROB</td>\n      <td>float64</td>\n      <td>0</td>\n      <td>201</td>\n      <td>3</td>\n      <td>0.20</td>\n      <td>0.600</td>\n    </tr>\n    <tr>\n      <th>RiSk_E</th>\n      <td>RiSk_E</td>\n      <td>float64</td>\n      <td>0</td>\n      <td>201</td>\n      <td>3</td>\n      <td>0.40</td>\n      <td>1.200</td>\n    </tr>\n    <tr>\n      <th>History</th>\n      <td>History</td>\n      <td>int64</td>\n      <td>0</td>\n      <td>201</td>\n      <td>4</td>\n      <td>0.00</td>\n      <td>5.000</td>\n    </tr>\n    <tr>\n      <th>Prob</th>\n      <td>Prob</td>\n      <td>float64</td>\n      <td>0</td>\n      <td>201</td>\n      <td>3</td>\n      <td>0.20</td>\n      <td>0.600</td>\n    </tr>\n    <tr>\n      <th>Risk_F</th>\n      <td>Risk_F</td>\n      <td>float64</td>\n      <td>0</td>\n      <td>201</td>\n      <td>4</td>\n      <td>0.00</td>\n      <td>3.000</td>\n    </tr>\n    <tr>\n      <th>Score</th>\n      <td>Score</td>\n      <td>float64</td>\n      <td>0</td>\n      <td>201</td>\n      <td>16</td>\n      <td>2.00</td>\n      <td>5.200</td>\n    </tr>\n    <tr>\n      <th>Inherent_Risk</th>\n      <td>Inherent_Risk</td>\n      <td>float64</td>\n      <td>0</td>\n      <td>201</td>\n      <td>175</td>\n      <td>1.40</td>\n      <td>801.262</td>\n    </tr>\n    <tr>\n      <th>CONTROL_RISK</th>\n      <td>CONTROL_RISK</td>\n      <td>float64</td>\n      <td>0</td>\n      <td>201</td>\n      <td>7</td>\n      <td>0.40</td>\n      <td>3.400</td>\n    </tr>\n    <tr>\n      <th>Detection_Risk</th>\n      <td>Detection_Risk</td>\n      <td>float64</td>\n      <td>0</td>\n      <td>201</td>\n      <td>1</td>\n      <td>0.50</td>\n      <td>0.500</td>\n    </tr>\n  </tbody>\n</table>\n</div>"
     },
     "execution_count": 7,
     "metadata": {},
     "output_type": "execute_result"
    }
   ],
   "source": [
    "utl.data_quality_report(X_train)"
   ],
   "metadata": {
    "collapsed": false,
    "ExecuteTime": {
     "end_time": "2023-09-18T06:09:32.464233Z",
     "start_time": "2023-09-18T06:09:32.420570Z"
    }
   },
   "id": "6fc515cd5ce8fca7"
  },
  {
   "cell_type": "code",
   "execution_count": 8,
   "outputs": [
    {
     "data": {
      "text/plain": "array([[<Axes: title={'center': 'Sector_score'}>,\n        <Axes: title={'center': 'PARA_A'}>,\n        <Axes: title={'center': 'Score_A'}>,\n        <Axes: title={'center': 'Risk_A'}>,\n        <Axes: title={'center': 'PARA_B'}>],\n       [<Axes: title={'center': 'Score_B'}>,\n        <Axes: title={'center': 'Risk_B'}>,\n        <Axes: title={'center': 'TOTAL'}>,\n        <Axes: title={'center': 'numbers'}>,\n        <Axes: title={'center': 'Score_B.1'}>],\n       [<Axes: title={'center': 'Risk_C'}>,\n        <Axes: title={'center': 'Money_Value'}>,\n        <Axes: title={'center': 'Score_MV'}>,\n        <Axes: title={'center': 'Risk_D'}>,\n        <Axes: title={'center': 'District_Loss'}>],\n       [<Axes: title={'center': 'PROB'}>,\n        <Axes: title={'center': 'RiSk_E'}>,\n        <Axes: title={'center': 'History'}>,\n        <Axes: title={'center': 'Prob'}>,\n        <Axes: title={'center': 'Risk_F'}>],\n       [<Axes: title={'center': 'Score'}>,\n        <Axes: title={'center': 'Inherent_Risk'}>,\n        <Axes: title={'center': 'CONTROL_RISK'}>,\n        <Axes: title={'center': 'Detection_Risk'}>, <Axes: >]],\n      dtype=object)"
     },
     "execution_count": 8,
     "metadata": {},
     "output_type": "execute_result"
    },
    {
     "data": {
      "text/plain": "<Figure size 640x480 with 25 Axes>",
      "image/png": "[encoded data removed]"
     },
     "metadata": {},
     "output_type": "display_data"
    }
   ],
   "source": [
    "X_train.hist()"
   ],
   "metadata": {
    "collapsed": false,
    "ExecuteTime": {
     "end_time": "2023-09-18T06:09:33.745159Z",
     "start_time": "2023-09-18T06:09:32.452266Z"
    }
   },
   "id": "b8c0ddc81927eceb"
  },
  {
   "cell_type": "code",
   "execution_count": 9,
   "outputs": [
    {
     "data": {
      "text/plain": "Sector_score       0.542164\nPARA_A             6.686549\nScore_A            0.573502\nRisk_A             6.588864\nPARA_B            13.017140\nScore_B            0.856943\nRisk_B            13.011216\nTOTAL             12.667689\nnumbers            4.206004\nScore_B.1          3.360539\nRisk_C             3.712639\nMoney_Value        9.143069\nScore_MV           1.264587\nRisk_D             9.138722\nDistrict_Loss      2.592297\nPROB               7.234988\nRiSk_E             2.310974\nHistory            7.305693\nProb               4.195418\nRisk_F             8.738150\nScore              0.973600\nInherent_Risk      7.445683\nCONTROL_RISK       3.818354\nDetection_Risk     0.000000\ndtype: float64"
     },
     "execution_count": 9,
     "metadata": {},
     "output_type": "execute_result"
    }
   ],
   "source": [
    "X_train.skew() "
   ],
   "metadata": {
    "collapsed": false,
    "ExecuteTime": {
     "end_time": "2023-09-18T06:09:33.749521Z",
     "start_time": "2023-09-18T06:09:33.746849Z"
    }
   },
   "id": "be6de15135a8fc72"
  },
  {
   "cell_type": "code",
   "execution_count": 10,
   "outputs": [
    {
     "data": {
      "text/plain": "<Axes: >"
     },
     "execution_count": 10,
     "metadata": {},
     "output_type": "execute_result"
    },
    {
     "data": {
      "text/plain": "<Figure size 640x480 with 1 Axes>",
      "image/png": "[encoded data removed]"
     },
     "metadata": {},
     "output_type": "display_data"
    }
   ],
   "source": [
    "import seaborn as sns\n",
    "\n",
    "sns.boxplot(X_train)"
   ],
   "metadata": {
    "collapsed": false,
    "ExecuteTime": {
     "end_time": "2023-09-18T06:09:33.977964Z",
     "start_time": "2023-09-18T06:09:33.756179Z"
    }
   },
   "id": "9a8bf74e26952c95"
  },
  {
   "cell_type": "code",
   "execution_count": 10,
   "outputs": [],
   "source": [],
   "metadata": {
    "collapsed": false,
    "ExecuteTime": {
     "end_time": "2023-09-18T06:09:33.978304Z",
     "start_time": "2023-09-18T06:09:33.975209Z"
    }
   },
   "id": "8919f4e692d802a9"
  },
  {
   "cell_type": "code",
   "execution_count": 11,
   "outputs": [
    {
     "data": {
      "text/plain": "0.39303482587064675"
     },
     "execution_count": 11,
     "metadata": {},
     "output_type": "execute_result"
    }
   ],
   "source": [
    "len(utl.get_all_outliers_indexes(X_train, distance=1.5)) / X_train.shape[0]"
   ],
   "metadata": {
    "collapsed": false,
    "ExecuteTime": {
     "end_time": "2023-09-18T06:09:34.018200Z",
     "start_time": "2023-09-18T06:09:33.984135Z"
    }
   },
   "id": "3effe5a38361f786"
  },
  {
   "cell_type": "code",
   "execution_count": 12,
   "outputs": [
    {
     "data": {
      "text/plain": "(201, 24)"
     },
     "execution_count": 12,
     "metadata": {},
     "output_type": "execute_result"
    }
   ],
   "source": [
    "X_train.shape"
   ],
   "metadata": {
    "collapsed": false,
    "ExecuteTime": {
     "end_time": "2023-09-18T06:09:34.018378Z",
     "start_time": "2023-09-18T06:09:34.006271Z"
    }
   },
   "id": "36813d01a315cce9"
  },
  {
   "cell_type": "code",
   "execution_count": 45,
   "outputs": [],
   "source": [
    "def get_outliers(df_var, distance=1.5):\n",
    "    lower = 0\n",
    "    std = df_var.std()\n",
    "    outliers = np.where(\n",
    "        df_var > df_var.mean() + std * distance,\n",
    "        True,\n",
    "        np.where(df_var < lower, True, False),\n",
    "    )\n",
    "    return df_var.loc[outliers]\n",
    "\n",
    "\n",
    "def get_all_outliers_indexes(df, print_percentages=False, distance=1.5):\n",
    "    outliers_set = set()\n",
    "    for col in df.columns:\n",
    "        outliers = get_outliers(df[col], distance=distance)\n",
    "        outliers_amount = outliers.shape[0]\n",
    "        if print_percentages:\n",
    "            print(col, \"-> \", outliers_amount, \" outliers represent: \", round(outliers_amount / df[col].shape[0] * 100, 2), \"%\")\n",
    "        outliers_set.update(outliers.index)\n",
    "    if print_percentages:\n",
    "        print(\"TOTAL outliers represent: \", round(len(outliers_set) / df[col].shape[0] * 100, 2), \"%\")\n",
    "    return outliers_set\n"
   ],
   "metadata": {
    "collapsed": false,
    "ExecuteTime": {
     "end_time": "2023-09-18T06:13:33.932819Z",
     "start_time": "2023-09-18T06:13:33.917335Z"
    }
   },
   "id": "93a061d860e8c6fb"
  },
  {
   "cell_type": "code",
   "execution_count": 46,
   "outputs": [
    {
     "name": "stdout",
     "output_type": "stream",
     "text": [
      "Sector_score ->  0  outliers represent:  0.0 %\n",
      "PARA_A ->  2  outliers represent:  1.0 %\n",
      "Score_A ->  0  outliers represent:  0.0 %\n",
      "Risk_A ->  2  outliers represent:  1.0 %\n",
      "PARA_B ->  1  outliers represent:  0.5 %\n",
      "Score_B ->  0  outliers represent:  0.0 %\n",
      "Risk_B ->  1  outliers represent:  0.5 %\n",
      "TOTAL ->  1  outliers represent:  0.5 %\n",
      "numbers ->  2  outliers represent:  1.0 %\n",
      "Score_B.1 ->  2  outliers represent:  1.0 %\n",
      "Risk_C ->  2  outliers represent:  1.0 %\n",
      "Money_Value ->  2  outliers represent:  1.0 %\n",
      "Score_MV ->  0  outliers represent:  0.0 %\n",
      "Risk_D ->  2  outliers represent:  1.0 %\n",
      "District_Loss ->  17  outliers represent:  8.46 %\n",
      "PROB ->  5  outliers represent:  2.49 %\n",
      "RiSk_E ->  0  outliers represent:  0.0 %\n",
      "History ->  3  outliers represent:  1.49 %\n",
      "Prob ->  3  outliers represent:  1.49 %\n",
      "Risk_F ->  3  outliers represent:  1.49 %\n",
      "Score ->  0  outliers represent:  0.0 %\n",
      "Inherent_Risk ->  3  outliers represent:  1.49 %\n",
      "CONTROL_RISK ->  3  outliers represent:  1.49 %\n",
      "Detection_Risk ->  0  outliers represent:  0.0 %\n",
      "TOTAL outliers represent:  13.43 %\n"
     ]
    }
   ],
   "source": [
    "outliers = get_all_outliers_indexes(X_train, distance=3, print_percentages=True) "
   ],
   "metadata": {
    "collapsed": false,
    "ExecuteTime": {
     "end_time": "2023-09-18T06:13:34.939032Z",
     "start_time": "2023-09-18T06:13:34.934569Z"
    }
   },
   "id": "aab3d3150d15adc3"
  },
  {
   "cell_type": "code",
   "execution_count": 47,
   "outputs": [
    {
     "data": {
      "text/plain": "(201, 24)"
     },
     "execution_count": 47,
     "metadata": {},
     "output_type": "execute_result"
    }
   ],
   "source": [
    "X_train_orig = pd.DataFrame.copy(X_train) \n",
    "X_train.drop(outliers, inplace=True)\n",
    "X_train_orig.shape"
   ],
   "metadata": {
    "collapsed": false,
    "ExecuteTime": {
     "end_time": "2023-09-18T06:13:37.419320Z",
     "start_time": "2023-09-18T06:13:37.409538Z"
    }
   },
   "id": "630aa962e6aa4559"
  },
  {
   "cell_type": "code",
   "execution_count": 48,
   "outputs": [],
   "source": [
    "y_train_orig = pd.DataFrame.copy(y_train)\n",
    "y_train.drop(outliers, inplace=True)"
   ],
   "metadata": {
    "collapsed": false,
    "ExecuteTime": {
     "end_time": "2023-09-18T06:13:39.421446Z",
     "start_time": "2023-09-18T06:13:39.416904Z"
    }
   },
   "id": "6dcf4e054ae3f388"
  },
  {
   "cell_type": "code",
   "execution_count": 49,
   "outputs": [
    {
     "data": {
      "text/plain": "Sector_score      0.417491\nPARA_A            2.597745\nScore_A           0.768223\nRisk_A            2.599840\nPARA_B            3.233920\nScore_B           1.022523\nRisk_B            3.240013\nTOTAL             3.021627\nnumbers           3.620951\nScore_B.1         3.620951\nRisk_C            3.620951\nMoney_Value       4.602615\nScore_MV          1.639362\nRisk_D            4.612171\nDistrict_Loss     4.373481\nPROB              0.000000\nRiSk_E            4.373481\nHistory           4.720434\nProb              4.720434\nRisk_F            4.720434\nScore             1.145680\nInherent_Risk     3.068655\nCONTROL_RISK      2.974319\nDetection_Risk    0.000000\ndtype: float64"
     },
     "execution_count": 49,
     "metadata": {},
     "output_type": "execute_result"
    }
   ],
   "source": [
    "X_train.skew()"
   ],
   "metadata": {
    "collapsed": false,
    "ExecuteTime": {
     "end_time": "2023-09-18T06:13:40.431485Z",
     "start_time": "2023-09-18T06:13:40.419946Z"
    }
   },
   "id": "f4d3b08a27a817c4"
  },
  {
   "cell_type": "code",
   "execution_count": 50,
   "outputs": [],
   "source": [
    "from scipy import stats"
   ],
   "metadata": {
    "collapsed": false,
    "ExecuteTime": {
     "end_time": "2023-09-18T06:14:41.455785Z",
     "start_time": "2023-09-18T06:14:41.427742Z"
    }
   },
   "id": "deb3dec418817f6e"
  },
  {
   "cell_type": "code",
   "execution_count": 51,
   "outputs": [
    {
     "data": {
      "text/plain": "Sector_score      0.417491\nPARA_A            2.597745\nScore_A           0.768223\nRisk_A            2.599840\nPARA_B            3.233920\nScore_B           1.022523\nRisk_B            3.240013\nTOTAL             3.021627\nnumbers           3.620951\nScore_B.1         3.620951\nRisk_C            3.620951\nMoney_Value       4.602615\nScore_MV          1.639362\nRisk_D            4.612171\nDistrict_Loss     4.373481\nPROB              0.000000\nRiSk_E            4.373481\nHistory           4.720434\nProb              4.720434\nRisk_F            4.720434\nScore             1.145680\nInherent_Risk     3.068655\nCONTROL_RISK      2.974319\nDetection_Risk    0.000000\ndtype: float64"
     },
     "execution_count": 51,
     "metadata": {},
     "output_type": "execute_result"
    }
   ],
   "source": [
    "transformed_data = pd.DataFrame.copy(X_train)\n",
    "transformed_data.skew()"
   ],
   "metadata": {
    "collapsed": false,
    "ExecuteTime": {
     "end_time": "2023-09-18T06:14:42.087877Z",
     "start_time": "2023-09-18T06:14:42.074037Z"
    }
   },
   "id": "4bb1f1b6a4a701d4"
  },
  {
   "cell_type": "code",
   "execution_count": 65,
   "outputs": [
    {
     "name": "stdout",
     "output_type": "stream",
     "text": [
      "Score_B.1 -102.61484339017224\n",
      "Score_B.1 : from  3.621  to  3.621\n",
      "Risk_C -33.65537573173564\n",
      "Risk_C : from  3.621  to  3.621\n",
      "Score_MV -17.30160548619554\n",
      "Score_MV : from  1.639  to  1.499\n",
      "District_Loss -42.57812859589022\n",
      "District_Loss : from  4.373  to  4.373\n",
      "RiSk_E -86.54497109103097\n",
      "RiSk_E : from  4.373  to  4.373\n",
      "History -35.861276222368566\n",
      "History : from  4.72  to  4.72\n",
      "Prob -161.2522405652697\n",
      "Prob : from  4.72  to  4.72\n",
      "Risk_F -73.87576301714434\n",
      "Risk_F : from  4.72  to  4.72\n",
      "CONTROL_RISK -46.152407513829175\n",
      "CONTROL_RISK : from  2.974  to  2.974\n"
     ]
    }
   ],
   "source": [
    "lambdas = {}\n",
    "transformed_data = pd.DataFrame.copy(X_train).drop(columns=\"numbers\")\n",
    "transformed_data.skew()\n",
    "for col in transformed_data.columns:\n",
    "    if np.abs(transformed_data[col].skew()) > 1.5:\n",
    "        transformed_var, lmd = stats.boxcox(transformed_data[col] + 1)\n",
    "        if np.abs(lmd) > 5:\n",
    "            print(col, lmd)\n",
    "            lmd = 5 if lmd > 0 else -5\n",
    "            transformed_var = stats.boxcox(transformed_data[col] + 1, lmbda=lmd)\n",
    "            print(col, \": from \", X_train[col].skew().round(3),\" to \", pd.DataFrame(transformed_var).skew()[0].round(3))\n",
    "        transformed_data[col] = transformed_var\n",
    "        lambdas[col] = lmd"
   ],
   "metadata": {
    "collapsed": false,
    "ExecuteTime": {
     "end_time": "2023-09-18T06:22:04.538155Z",
     "start_time": "2023-09-18T06:22:04.488909Z"
    }
   },
   "id": "9c3fdc1b8488b2f0"
  },
  {
   "cell_type": "code",
   "execution_count": 62,
   "outputs": [
    {
     "data": {
      "text/plain": "0      0.199974\n1      0.199974\n2      0.199983\n3      0.199974\n4      0.199974\n         ...   \n194    0.199974\n196    0.199974\n197    0.199974\n199    0.199974\n200    0.199974\nName: numbers, Length: 174, dtype: float64"
     },
     "execution_count": 62,
     "metadata": {},
     "output_type": "execute_result"
    }
   ],
   "source": [
    "transformed_data[\"numbers\"]"
   ],
   "metadata": {
    "collapsed": false,
    "ExecuteTime": {
     "end_time": "2023-09-18T06:20:30.023328Z",
     "start_time": "2023-09-18T06:20:30.013968Z"
    }
   },
   "id": "edf43c3bcaa3bdda"
  },
  {
   "cell_type": "code",
   "execution_count": 63,
   "outputs": [
    {
     "data": {
      "text/plain": "       Sector_score      PARA_A     Score_A      Risk_A       PARA_B  \\\ncount    201.000000  201.000000  201.000000  201.000000   201.000000   \nmean      22.800746    2.459257    0.344279    1.354836    15.636261   \nstd       25.441598    5.736470    0.173435    3.475666    91.161579   \nmin        1.850000    0.000000    0.200000    0.000000     0.000000   \n25%        2.370000    0.240000    0.200000    0.048000     0.000000   \n50%        3.890000    0.800000    0.200000    0.160000     0.460000   \n75%       55.570000    2.420000    0.600000    1.452000     4.160000   \nmax       59.850000   57.030000    0.600000   34.218000  1264.630000   \n\n          Score_B      Risk_B        TOTAL     numbers   Score_B.1  ...  \\\ncount  201.000000  201.000000   201.000000  201.000000  201.000000  ...   \nmean     0.321393    9.250396    18.075866    5.054726    0.220896  ...   \nstd      0.174327   54.715229    92.190871    0.185715    0.067537  ...   \nmin      0.200000    0.000000     0.000000    5.000000    0.200000  ...   \n25%      0.200000    0.000000     0.490000    5.000000    0.200000  ...   \n50%      0.200000    0.092000     1.270000    5.000000    0.200000  ...   \n75%      0.600000    2.040000     7.170000    5.000000    0.200000  ...   \nmax      0.600000  758.778000  1268.910000    6.500000    0.600000  ...   \n\n       District_Loss        PROB      RiSk_E     History        Prob  \\\ncount     201.000000  201.000000  201.000000  201.000000  201.000000   \nmean        2.417910    0.206965    0.497512    0.099502    0.216915   \nstd         1.159516    0.046382    0.245038    0.458312    0.065669   \nmin         2.000000    0.200000    0.400000    0.000000    0.200000   \n25%         2.000000    0.200000    0.400000    0.000000    0.200000   \n50%         2.000000    0.200000    0.400000    0.000000    0.200000   \n75%         2.000000    0.200000    0.400000    0.000000    0.200000   \nmax         6.000000    0.600000    1.200000    5.000000    0.600000   \n\n           Risk_F       Score  Inherent_Risk  CONTROL_RISK  Detection_Risk  \ncount  201.000000  201.000000     201.000000    201.000000           201.0  \nmean     0.048756    2.709453      22.795359      0.546269             0.5  \nstd      0.256536    0.860209      83.600051      0.376694             0.0  \nmin      0.000000    2.000000       1.400000      0.400000             0.5  \n25%      0.000000    2.000000       1.562000      0.400000             0.5  \n50%      0.000000    2.400000       2.240000      0.400000             0.5  \n75%      0.000000    3.200000      12.590000      0.400000             0.5  \nmax      3.000000    5.200000     801.262000      3.400000             0.5  \n\n[8 rows x 24 columns]",
      "text/html": "<div>\n<style scoped>\n    .dataframe tbody tr th:only-of-type {\n        vertical-align: middle;\n    }\n\n    .dataframe tbody tr th {\n        vertical-align: top;\n    }\n\n    .dataframe thead th {\n        text-align: right;\n    }\n</style>\n<table border=\"1\" class=\"dataframe\">\n  <thead>\n    <tr style=\"text-align: right;\">\n      <th></th>\n      <th>Sector_score</th>\n      <th>PARA_A</th>\n      <th>Score_A</th>\n      <th>Risk_A</th>\n      <th>PARA_B</th>\n      <th>Score_B</th>\n      <th>Risk_B</th>\n      <th>TOTAL</th>\n      <th>numbers</th>\n      <th>Score_B.1</th>\n      <th>...</th>\n      <th>District_Loss</th>\n      <th>PROB</th>\n      <th>RiSk_E</th>\n      <th>History</th>\n      <th>Prob</th>\n      <th>Risk_F</th>\n      <th>Score</th>\n      <th>Inherent_Risk</th>\n      <th>CONTROL_RISK</th>\n      <th>Detection_Risk</th>\n    </tr>\n  </thead>\n  <tbody>\n    <tr>\n      <th>count</th>\n      <td>201.000000</td>\n      <td>201.000000</td>\n      <td>201.000000</td>\n      <td>201.000000</td>\n      <td>201.000000</td>\n      <td>201.000000</td>\n      <td>201.000000</td>\n      <td>201.000000</td>\n      <td>201.000000</td>\n      <td>201.000000</td>\n      <td>...</td>\n      <td>201.000000</td>\n      <td>201.000000</td>\n      <td>201.000000</td>\n      <td>201.000000</td>\n      <td>201.000000</td>\n      <td>201.000000</td>\n      <td>201.000000</td>\n      <td>201.000000</td>\n      <td>201.000000</td>\n      <td>201.0</td>\n    </tr>\n    <tr>\n      <th>mean</th>\n      <td>22.800746</td>\n      <td>2.459257</td>\n      <td>0.344279</td>\n      <td>1.354836</td>\n      <td>15.636261</td>\n      <td>0.321393</td>\n      <td>9.250396</td>\n      <td>18.075866</td>\n      <td>5.054726</td>\n      <td>0.220896</td>\n      <td>...</td>\n      <td>2.417910</td>\n      <td>0.206965</td>\n      <td>0.497512</td>\n      <td>0.099502</td>\n      <td>0.216915</td>\n      <td>0.048756</td>\n      <td>2.709453</td>\n      <td>22.795359</td>\n      <td>0.546269</td>\n      <td>0.5</td>\n    </tr>\n    <tr>\n      <th>std</th>\n      <td>25.441598</td>\n      <td>5.736470</td>\n      <td>0.173435</td>\n      <td>3.475666</td>\n      <td>91.161579</td>\n      <td>0.174327</td>\n      <td>54.715229</td>\n      <td>92.190871</td>\n      <td>0.185715</td>\n      <td>0.067537</td>\n      <td>...</td>\n      <td>1.159516</td>\n      <td>0.046382</td>\n      <td>0.245038</td>\n      <td>0.458312</td>\n      <td>0.065669</td>\n      <td>0.256536</td>\n      <td>0.860209</td>\n      <td>83.600051</td>\n      <td>0.376694</td>\n      <td>0.0</td>\n    </tr>\n    <tr>\n      <th>min</th>\n      <td>1.850000</td>\n      <td>0.000000</td>\n      <td>0.200000</td>\n      <td>0.000000</td>\n      <td>0.000000</td>\n      <td>0.200000</td>\n      <td>0.000000</td>\n      <td>0.000000</td>\n      <td>5.000000</td>\n      <td>0.200000</td>\n      <td>...</td>\n      <td>2.000000</td>\n      <td>0.200000</td>\n      <td>0.400000</td>\n      <td>0.000000</td>\n      <td>0.200000</td>\n      <td>0.000000</td>\n      <td>2.000000</td>\n      <td>1.400000</td>\n      <td>0.400000</td>\n      <td>0.5</td>\n    </tr>\n    <tr>\n      <th>25%</th>\n      <td>2.370000</td>\n      <td>0.240000</td>\n      <td>0.200000</td>\n      <td>0.048000</td>\n      <td>0.000000</td>\n      <td>0.200000</td>\n      <td>0.000000</td>\n      <td>0.490000</td>\n      <td>5.000000</td>\n      <td>0.200000</td>\n      <td>...</td>\n      <td>2.000000</td>\n      <td>0.200000</td>\n      <td>0.400000</td>\n      <td>0.000000</td>\n      <td>0.200000</td>\n      <td>0.000000</td>\n      <td>2.000000</td>\n      <td>1.562000</td>\n      <td>0.400000</td>\n      <td>0.5</td>\n    </tr>\n    <tr>\n      <th>50%</th>\n      <td>3.890000</td>\n      <td>0.800000</td>\n      <td>0.200000</td>\n      <td>0.160000</td>\n      <td>0.460000</td>\n      <td>0.200000</td>\n      <td>0.092000</td>\n      <td>1.270000</td>\n      <td>5.000000</td>\n      <td>0.200000</td>\n      <td>...</td>\n      <td>2.000000</td>\n      <td>0.200000</td>\n      <td>0.400000</td>\n      <td>0.000000</td>\n      <td>0.200000</td>\n      <td>0.000000</td>\n      <td>2.400000</td>\n      <td>2.240000</td>\n      <td>0.400000</td>\n      <td>0.5</td>\n    </tr>\n    <tr>\n      <th>75%</th>\n      <td>55.570000</td>\n      <td>2.420000</td>\n      <td>0.600000</td>\n      <td>1.452000</td>\n      <td>4.160000</td>\n      <td>0.600000</td>\n      <td>2.040000</td>\n      <td>7.170000</td>\n      <td>5.000000</td>\n      <td>0.200000</td>\n      <td>...</td>\n      <td>2.000000</td>\n      <td>0.200000</td>\n      <td>0.400000</td>\n      <td>0.000000</td>\n      <td>0.200000</td>\n      <td>0.000000</td>\n      <td>3.200000</td>\n      <td>12.590000</td>\n      <td>0.400000</td>\n      <td>0.5</td>\n    </tr>\n    <tr>\n      <th>max</th>\n      <td>59.850000</td>\n      <td>57.030000</td>\n      <td>0.600000</td>\n      <td>34.218000</td>\n      <td>1264.630000</td>\n      <td>0.600000</td>\n      <td>758.778000</td>\n      <td>1268.910000</td>\n      <td>6.500000</td>\n      <td>0.600000</td>\n      <td>...</td>\n      <td>6.000000</td>\n      <td>0.600000</td>\n      <td>1.200000</td>\n      <td>5.000000</td>\n      <td>0.600000</td>\n      <td>3.000000</td>\n      <td>5.200000</td>\n      <td>801.262000</td>\n      <td>3.400000</td>\n      <td>0.5</td>\n    </tr>\n  </tbody>\n</table>\n<p>8 rows × 24 columns</p>\n</div>"
     },
     "execution_count": 63,
     "metadata": {},
     "output_type": "execute_result"
    }
   ],
   "source": [
    "X_train_orig.describe()"
   ],
   "metadata": {
    "collapsed": false,
    "ExecuteTime": {
     "end_time": "2023-09-18T06:20:55.520241Z",
     "start_time": "2023-09-18T06:20:55.492401Z"
    }
   },
   "id": "5a776f8d5457c9b1"
  },
  {
   "cell_type": "code",
   "execution_count": 36,
   "outputs": [],
   "source": [
    "from sklearn.metrics import (mean_squared_error,r2_score)\n",
    "\n",
    "def get_model_metrics(actual, predicted):\n",
    "    print(\"RMSE: %0.2f\"%(mean_squared_error(actual, predicted)))\n",
    "    print(\"r2_score:  %0.2f\"%r2_score(actual, predicted))"
   ],
   "metadata": {
    "collapsed": false,
    "ExecuteTime": {
     "end_time": "2023-09-18T06:11:32.433567Z",
     "start_time": "2023-09-18T06:11:32.429294Z"
    }
   },
   "id": "47b241b2f77f5d8f"
  },
  {
   "cell_type": "code",
   "execution_count": 37,
   "outputs": [],
   "source": [
    "from sklearn.linear_model import LinearRegression\n"
   ],
   "metadata": {
    "collapsed": false,
    "ExecuteTime": {
     "end_time": "2023-09-18T06:11:33.002629Z",
     "start_time": "2023-09-18T06:11:32.998713Z"
    }
   },
   "id": "77659db45c9d952"
  },
  {
   "cell_type": "code",
   "execution_count": 125,
   "outputs": [
    {
     "name": "stdout",
     "output_type": "stream",
     "text": [
      "(201, 24)\n",
      "Training:\n",
      "RMSE: 71.52\n",
      "r2_score:  0.98\n",
      "Testing:\n",
      "RMSE: 229.21\n",
      "r2_score:  0.60\n"
     ]
    }
   ],
   "source": [
    "# BASE MODEL\n",
    "base_model = LinearRegression()\n",
    "print(X_train_orig.shape)\n",
    "base_model.fit(X_train_orig, y_train_orig)\n",
    "print(\"Training:\")\n",
    "predicted = base_model.predict(X_train_orig)\n",
    "get_model_metrics(predicted, y_train_orig)\n",
    "print(\"Testing:\")\n",
    "predicted = base_model.predict(X_test)\n",
    "get_model_metrics(predicted, y_test)"
   ],
   "metadata": {
    "collapsed": false,
    "ExecuteTime": {
     "end_time": "2023-09-18T06:53:48.510841Z",
     "start_time": "2023-09-18T06:53:48.502154Z"
    }
   },
   "id": "94655692f25279cf"
  },
  {
   "cell_type": "code",
   "execution_count": 98,
   "outputs": [],
   "source": [
    "from sklearn import preprocessing\n",
    "# data['Refractive_index_scale'] = preprocessing.scale(data.Refractive_index)\n",
    "\n",
    "def transform_input_1(data):\n",
    "    transformed = pd.DataFrame.copy(data).drop(columns=\"numbers\")\n",
    "    for col in data.columns:\n",
    "        if col in lambdas.keys():\n",
    "            transformed[col] = preprocessing.scale(transformed[col])\n",
    "            transformed_var = stats.boxcox(transformed[col] + 1, lmbda=lambdas[col])\n",
    "            transformed[col] = transformed_var\n",
    "    return transformed"
   ],
   "metadata": {
    "collapsed": false,
    "ExecuteTime": {
     "end_time": "2023-09-18T06:44:38.060924Z",
     "start_time": "2023-09-18T06:44:38.035260Z"
    }
   },
   "id": "b2b7d2c2dbc917ba"
  },
  {
   "cell_type": "code",
   "execution_count": 99,
   "outputs": [],
   "source": [
    "trans_x_test = transform_input_1(X_test)"
   ],
   "metadata": {
    "collapsed": false,
    "ExecuteTime": {
     "end_time": "2023-09-18T06:44:39.204811Z",
     "start_time": "2023-09-18T06:44:39.169926Z"
    }
   },
   "id": "4c12bd4bda55a5dd"
  },
  {
   "cell_type": "code",
   "execution_count": 101,
   "outputs": [
    {
     "data": {
      "text/plain": "Sector_score       0.850694\nPARA_A             1.261253\nScore_A            0.445792\nRisk_A             0.907237\nPARA_B             1.811757\nScore_B            1.050085\nRisk_B             1.779677\nTOTAL              1.579351\nScore_B.1          2.725775\nRisk_C             2.725783\nMoney_Value        2.819963\nScore_MV           1.461245\nRisk_D             2.441618\nDistrict_Loss      1.538503\nPROB              10.049876\nRiSk_E             1.461246\nHistory            3.442967\nProb               3.442959\nRisk_F             3.443083\nScore              1.155053\nInherent_Risk      1.907402\nCONTROL_RISK       1.126506\nDetection_Risk     0.000000\ndtype: float64"
     },
     "execution_count": 101,
     "metadata": {},
     "output_type": "execute_result"
    }
   ],
   "source": [
    "trans_x_test = transform_input_1(X_test)\n",
    "\n",
    "trans_x_test.skew()"
   ],
   "metadata": {
    "collapsed": false,
    "ExecuteTime": {
     "end_time": "2023-09-18T06:45:07.537759Z",
     "start_time": "2023-09-18T06:45:07.517047Z"
    }
   },
   "id": "8ea46118f0dbf2f5"
  },
  {
   "cell_type": "code",
   "execution_count": 96,
   "outputs": [],
   "source": [
    "no_outliers = get_all_outliers_indexes(X_test) \n",
    "no_x = X_test.drop(no_outliers)\n",
    "no_y = y_test.drop(no_outliers)"
   ],
   "metadata": {
    "collapsed": false,
    "ExecuteTime": {
     "end_time": "2023-09-18T06:38:58.050644Z",
     "start_time": "2023-09-18T06:38:58.019922Z"
    }
   },
   "id": "5fe209b0c948e966"
  },
  {
   "cell_type": "code",
   "execution_count": 131,
   "outputs": [],
   "source": [
    "mean=X_train.mean()\n",
    "std=X_train.std()"
   ],
   "metadata": {
    "collapsed": false,
    "ExecuteTime": {
     "end_time": "2023-09-18T06:56:12.203006Z",
     "start_time": "2023-09-18T06:56:12.189046Z"
    }
   },
   "id": "ec7fed8d9ff247b5"
  },
  {
   "cell_type": "code",
   "execution_count": 140,
   "outputs": [
    {
     "data": {
      "text/plain": "0.3275862068965517"
     },
     "execution_count": 140,
     "metadata": {},
     "output_type": "execute_result"
    }
   ],
   "source": [
    "mean[\"Score_A\"]"
   ],
   "metadata": {
    "collapsed": false,
    "ExecuteTime": {
     "end_time": "2023-09-18T06:59:59.098986Z",
     "start_time": "2023-09-18T06:59:59.088755Z"
    }
   },
   "id": "e3f8c3035b370f21"
  },
  {
   "cell_type": "code",
   "execution_count": 141,
   "outputs": [],
   "source": [
    "from sklearn import preprocessing\n",
    "# data['Refractive_index_scale'] = preprocessing.scale(data.Refractive_index)\n",
    "\n",
    "def transform_input_2(data):\n",
    "    transformed = pd.DataFrame.copy(data)\n",
    "    for col in data.columns:\n",
    "        if col in lambdas.keys():\n",
    "            transformed[col] = (transformed[col] - mean[col]) / std[col]\n",
    "            print(transformed[col].std())\n",
    "    return transformed"
   ],
   "metadata": {
    "collapsed": false,
    "ExecuteTime": {
     "end_time": "2023-09-18T07:00:06.560807Z",
     "start_time": "2023-09-18T07:00:06.544504Z"
    }
   },
   "id": "8cf56fa67da73086"
  },
  {
   "cell_type": "code",
   "execution_count": 173,
   "outputs": [],
   "source": [
    "def transform_input_3(data):\n",
    "    transformed = pd.DataFrame.copy(data)\n",
    "    for cola in data.columns:\n",
    "        transformed[cola] = transformed[cola] + 0.1\n",
    "    return transformed"
   ],
   "metadata": {
    "collapsed": false,
    "ExecuteTime": {
     "end_time": "2023-09-18T07:12:28.712214Z",
     "start_time": "2023-09-18T07:12:28.693618Z"
    }
   },
   "id": "885ad8223933851f"
  },
  {
   "cell_type": "code",
   "execution_count": null,
   "outputs": [],
   "source": [
    "transformed_data.skew()\n",
    "lambdas = {}\n",
    "transformed_data = pd.DataFrame.copy(X_train).drop(columns=\"numbers\")\n",
    "transformed_data.skew()\n",
    "for col in transformed_data.columns:\n",
    "    if np.abs(transformed_data[col].skew()) > 1.5:\n",
    "        transformed_var, lmd = stats.boxcox(transformed_data[col] + 1)\n",
    "        if np.abs(lmd) > 5:\n",
    "            print(col, lmd)\n",
    "            lmd = 5 if lmd > 0 else -5\n",
    "            transformed_var = stats.boxcox(transformed_data[col] + 1, lmbda=lmd)\n",
    "            print(col, \": from \", X_train[col].skew().round(3), \" to \",\n",
    "                  pd.DataFrame(transformed_var).skew()[0].round(3))\n",
    "        transformed_data[col] = transformed_var\n",
    "        lambdas[col] = lmd"
   ],
   "metadata": {
    "collapsed": false
   },
   "id": "2810acaaf1658ee3"
  },
  {
   "cell_type": "code",
   "execution_count": 208,
   "outputs": [
    {
     "data": {
      "text/plain": "((94, 24), (94,))"
     },
     "execution_count": 208,
     "metadata": {},
     "output_type": "execute_result"
    }
   ],
   "source": [
    "no_X_test = X_test.drop(get_all_outliers_indexes(X_test, distance=4))\n",
    "no_y_test = y_test.drop(get_all_outliers_indexes(X_test, distance=4))\n",
    "no_X_test.shape, no_y_test.shape"
   ],
   "metadata": {
    "collapsed": false,
    "ExecuteTime": {
     "end_time": "2023-09-18T08:05:26.533872Z",
     "start_time": "2023-09-18T08:05:26.510572Z"
    }
   },
   "id": "e63570feabdb8c12"
  },
  {
   "cell_type": "code",
   "execution_count": 209,
   "outputs": [
    {
     "name": "stdout",
     "output_type": "stream",
     "text": [
      "Training:\n",
      "RMSE: 3.82\n",
      "r2_score:  0.85\n",
      "Testing:\n",
      "RMSE: 1211.64\n",
      "r2_score:  -4.42\n"
     ]
    }
   ],
   "source": [
    "# BOX COX MODEL\n",
    "bc_model = LinearRegression()\n",
    "trans_x_train = transform_input_1(X_train)\n",
    "\n",
    "trans_x_test = transform_input_1(no_X_test)\n",
    "\n",
    "bc_model.fit(trans_x_train, y_train)\n",
    "print(\"Training:\")\n",
    "predicted = bc_model.predict(trans_x_train)\n",
    "get_model_metrics(predicted, y_train)\n",
    "\n",
    "print(\"Testing:\")\n",
    "predicted = bc_model.predict(trans_x_test)\n",
    "get_model_metrics(predicted, no_y_test)    "
   ],
   "metadata": {
    "collapsed": false,
    "ExecuteTime": {
     "end_time": "2023-09-18T08:05:26.893491Z",
     "start_time": "2023-09-18T08:05:26.872176Z"
    }
   },
   "id": "c6583ef58b345fc5"
  },
  {
   "cell_type": "code",
   "execution_count": 202,
   "outputs": [
    {
     "data": {
      "text/plain": "0     -1.411932\n1      1.461606\n2     -1.865689\n3      0.227934\n4      0.177937\n         ...   \n194    0.013633\n196   -0.051823\n197   -0.443774\n199    0.780426\n200    0.640824\nName: Audit_Risk, Length: 174, dtype: float64"
     },
     "execution_count": 202,
     "metadata": {},
     "output_type": "execute_result"
    }
   ],
   "source": [
    "y_train - predicted"
   ],
   "metadata": {
    "collapsed": false,
    "ExecuteTime": {
     "end_time": "2023-09-18T08:04:29.577861Z",
     "start_time": "2023-09-18T08:04:29.555918Z"
    }
   },
   "id": "48b9cfa2bf72f469"
  },
  {
   "cell_type": "code",
   "execution_count": 144,
   "outputs": [
    {
     "data": {
      "text/plain": "array([-7.43716752e-01, -6.99869595e+01, -3.68857078e+02, -4.38171959e+01,\n       -1.11966740e+02, -1.97557436e+00, -3.65484674e+01, -1.21238989e+02,\n       -7.33424103e+01, -3.21189866e+02, -9.12448676e+00, -1.88910598e+02,\n       -1.71135240e+01, -2.90129501e+02, -7.26403155e+00, -6.38266853e+02,\n       -3.41019300e+01, -4.73938383e+01, -1.46126326e+02,  2.37749195e+01,\n       -3.41246904e+02, -4.73514792e+01,  3.35057401e+02, -2.34678275e+02,\n       -4.34804785e+02,  1.96326592e+01, -2.27204620e+01, -7.56953098e+01,\n       -1.21422494e+03, -4.49870144e+02, -5.52571805e+01, -6.75191672e+02,\n       -3.43427418e+00, -6.14719115e+02, -8.91034252e+01, -2.27147824e+03,\n        2.66435823e+02,  1.74350222e+01, -1.28648590e+02,  5.35563939e+00,\n       -9.26110091e+01,  3.90638861e+02, -1.50137352e+02, -7.38756705e+02,\n       -6.12460579e+00, -2.31377398e+02, -9.71234132e+02, -1.09446668e+02,\n       -6.22439739e+01, -1.03402171e+02, -3.63328246e+00, -8.75194895e+01,\n        3.70567758e+00, -1.53235509e+01,  1.18999499e+03,  1.39833629e+01,\n        2.25037680e+01, -1.19850947e+02, -1.73311272e+02, -2.08867540e+02,\n        6.83965707e+02, -1.87801331e+03, -9.17397695e+01,  6.63135524e+01,\n        3.82065171e+02,  1.17792672e+02, -5.48582342e+02, -1.96478192e+02,\n       -5.59011061e+02, -8.20775105e+01, -2.96840151e+02, -6.93082901e+01,\n       -1.59277131e+02, -6.13111541e+00, -1.38379910e+02,  2.67536951e+02,\n       -1.87451881e+02, -1.74203505e+02,  9.21297378e+01,  3.37575497e+02,\n       -3.49710703e+02, -2.00760981e+02, -1.72694973e+02, -6.08846126e+02,\n       -1.47626648e+02, -7.51181401e+01, -1.06361948e+02, -3.63328246e+00,\n       -3.63328246e+00, -6.26962677e+00,  2.33917738e+01, -1.69165275e+02,\n       -5.74871806e+02, -7.22519576e+03, -2.19445157e+02, -1.01812161e+02,\n       -1.32635189e+02, -7.05448754e+01, -1.42444556e+02, -6.12460579e+00,\n       -3.63328246e+00])"
     },
     "execution_count": 144,
     "metadata": {},
     "output_type": "execute_result"
    }
   ],
   "source": [
    "predicted"
   ],
   "metadata": {
    "collapsed": false,
    "ExecuteTime": {
     "end_time": "2023-09-18T07:02:18.464375Z",
     "start_time": "2023-09-18T07:02:18.457042Z"
    }
   },
   "id": "90c3c7416c8dae05"
  },
  {
   "cell_type": "code",
   "execution_count": 145,
   "outputs": [
    {
     "data": {
      "text/plain": "200    0.2892\n201    0.3364\n202    3.8508\n203    0.3044\n204    0.3188\n        ...  \n296    0.3184\n297    0.4036\n298    0.3720\n299    0.2800\n300    0.2800\nName: Audit_Risk, Length: 101, dtype: float64"
     },
     "execution_count": 145,
     "metadata": {},
     "output_type": "execute_result"
    }
   ],
   "source": [
    "y_test"
   ],
   "metadata": {
    "collapsed": false,
    "ExecuteTime": {
     "end_time": "2023-09-18T07:02:27.238396Z",
     "start_time": "2023-09-18T07:02:27.211307Z"
    }
   },
   "id": "cbe94e039495a1f5"
  },
  {
   "cell_type": "code",
   "execution_count": 175,
   "outputs": [],
   "source": [
    "from sklearn.cross_decomposition import PLSRegression\n",
    "\n",
    "pls = PLSRegression(n_components=len(X_test.columns))\n",
    "pls.fit(X_train, y_train)\n",
    "X_train_pls = pd.DataFrame(pls.transform(X_train))"
   ],
   "metadata": {
    "collapsed": false,
    "ExecuteTime": {
     "end_time": "2023-09-18T07:13:41.748149Z",
     "start_time": "2023-09-18T07:13:41.701554Z"
    }
   },
   "id": "52b29bfbd78178e5"
  },
  {
   "cell_type": "code",
   "execution_count": 176,
   "outputs": [],
   "source": [
    "y_predict = pls.predict(X_test)"
   ],
   "metadata": {
    "collapsed": false,
    "ExecuteTime": {
     "end_time": "2023-09-18T07:13:56.344387Z",
     "start_time": "2023-09-18T07:13:56.320713Z"
    }
   },
   "id": "4fc3d184f5541d94"
  },
  {
   "cell_type": "code",
   "execution_count": 177,
   "outputs": [
    {
     "name": "stdout",
     "output_type": "stream",
     "text": [
      "RMSE: 103261929533008684366534495174656.00\n",
      "r2_score:  -0.03\n"
     ]
    }
   ],
   "source": [
    "get_model_metrics(y_predict, y_test)"
   ],
   "metadata": {
    "collapsed": false,
    "ExecuteTime": {
     "end_time": "2023-09-18T07:14:27.905340Z",
     "start_time": "2023-09-18T07:14:27.853571Z"
    }
   },
   "id": "8a47a5780e0f4b4b"
  },
  {
   "cell_type": "code",
   "execution_count": 215,
   "outputs": [
    {
     "name": "stderr",
     "output_type": "stream",
     "text": [
      "/var/folders/51/l057c8xx2md597vhk47n57rm0000gn/T/ipykernel_9720/3192242342.py:1: FutureWarning: The frame.append method is deprecated and will be removed from pandas in a future version. Use pandas.concat instead.\n",
      "  full = train.append(test)\n"
     ]
    }
   ],
   "source": [
    "full = train.append(test)"
   ],
   "metadata": {
    "collapsed": false,
    "ExecuteTime": {
     "end_time": "2023-09-18T08:06:55.319914Z",
     "start_time": "2023-09-18T08:06:55.310086Z"
    }
   },
   "id": "2aaa573203fec39b"
  },
  {
   "cell_type": "code",
   "execution_count": 216,
   "outputs": [
    {
     "data": {
      "text/plain": "     Sector_score  PARA_A  Score_A  Risk_A  PARA_B  Score_B  Risk_B  TOTAL  \\\n0            3.89    1.99      0.4   0.796   10.24      0.6   6.144  12.23   \n1            2.37    1.86      0.4   0.744    4.51      0.6   2.706   6.37   \n2           55.57    0.70      0.2   0.140    0.79      0.2   0.158   1.49   \n3           55.57    0.00      0.2   0.000    0.00      0.2   0.000   0.00   \n4           21.61    0.29      0.2   0.058    0.33      0.2   0.066   0.62   \n..            ...     ...      ...     ...     ...      ...     ...    ...   \n296          2.72    0.96      0.2   0.192    0.00      0.2   0.000   0.96   \n297          1.85    0.60      0.2   0.120    1.08      0.4   0.432   1.68   \n298         55.57    1.07      0.4   0.428    0.16      0.2   0.032   1.23   \n299          1.99    0.00      0.2   0.000    0.00      0.2   0.000   0.00   \n300         55.57    0.00      0.2   0.000    0.00      0.2   0.000   0.00   \n\n     numbers  Score_B.1  ...  PROB  RiSk_E  History  Prob  Risk_F  Score  \\\n0        5.0        0.2  ...   0.2     0.4        0   0.2     0.0    3.8   \n1        5.0        0.2  ...   0.2     0.4        0   0.2     0.0    3.6   \n2        5.5        0.4  ...   0.2     0.4        0   0.2     0.0    2.4   \n3        5.0        0.2  ...   0.2     0.4        0   0.2     0.0    2.0   \n4        5.0        0.2  ...   0.2     0.4        0   0.2     0.0    2.0   \n..       ...        ...  ...   ...     ...      ...   ...     ...    ...   \n296      5.0        0.2  ...   0.2     0.4        0   0.2     0.0    2.0   \n297      5.0        0.2  ...   0.2     0.4        0   0.2     0.0    2.6   \n298      5.0        0.2  ...   0.2     0.4        0   0.2     0.0    2.2   \n299      5.0        0.2  ...   0.2     0.4        0   0.2     0.0    2.0   \n300      5.0        0.2  ...   0.2     0.4        0   0.2     0.0    2.0   \n\n     Inherent_Risk  CONTROL_RISK  Detection_Risk  Audit_Risk  \n0           20.808           0.4             0.5      4.1616  \n1            7.758           0.4             0.5      1.5516  \n2            3.280           0.4             0.5      0.6560  \n3            1.404           0.4             0.5      0.2808  \n4            1.524           0.4             0.5      0.3048  \n..             ...           ...             ...         ...  \n296          1.592           0.4             0.5      0.3184  \n297          2.018           0.4             0.5      0.4036  \n298          1.860           0.4             0.5      0.3720  \n299          1.400           0.4             0.5      0.2800  \n300          1.400           0.4             0.5      0.2800  \n\n[302 rows x 25 columns]",
      "text/html": "<div>\n<style scoped>\n    .dataframe tbody tr th:only-of-type {\n        vertical-align: middle;\n    }\n\n    .dataframe tbody tr th {\n        vertical-align: top;\n    }\n\n    .dataframe thead th {\n        text-align: right;\n    }\n</style>\n<table border=\"1\" class=\"dataframe\">\n  <thead>\n    <tr style=\"text-align: right;\">\n      <th></th>\n      <th>Sector_score</th>\n      <th>PARA_A</th>\n      <th>Score_A</th>\n      <th>Risk_A</th>\n      <th>PARA_B</th>\n      <th>Score_B</th>\n      <th>Risk_B</th>\n      <th>TOTAL</th>\n      <th>numbers</th>\n      <th>Score_B.1</th>\n      <th>...</th>\n      <th>PROB</th>\n      <th>RiSk_E</th>\n      <th>History</th>\n      <th>Prob</th>\n      <th>Risk_F</th>\n      <th>Score</th>\n      <th>Inherent_Risk</th>\n      <th>CONTROL_RISK</th>\n      <th>Detection_Risk</th>\n      <th>Audit_Risk</th>\n    </tr>\n  </thead>\n  <tbody>\n    <tr>\n      <th>0</th>\n      <td>3.89</td>\n      <td>1.99</td>\n      <td>0.4</td>\n      <td>0.796</td>\n      <td>10.24</td>\n      <td>0.6</td>\n      <td>6.144</td>\n      <td>12.23</td>\n      <td>5.0</td>\n      <td>0.2</td>\n      <td>...</td>\n      <td>0.2</td>\n      <td>0.4</td>\n      <td>0</td>\n      <td>0.2</td>\n      <td>0.0</td>\n      <td>3.8</td>\n      <td>20.808</td>\n      <td>0.4</td>\n      <td>0.5</td>\n      <td>4.1616</td>\n    </tr>\n    <tr>\n      <th>1</th>\n      <td>2.37</td>\n      <td>1.86</td>\n      <td>0.4</td>\n      <td>0.744</td>\n      <td>4.51</td>\n      <td>0.6</td>\n      <td>2.706</td>\n      <td>6.37</td>\n      <td>5.0</td>\n      <td>0.2</td>\n      <td>...</td>\n      <td>0.2</td>\n      <td>0.4</td>\n      <td>0</td>\n      <td>0.2</td>\n      <td>0.0</td>\n      <td>3.6</td>\n      <td>7.758</td>\n      <td>0.4</td>\n      <td>0.5</td>\n      <td>1.5516</td>\n    </tr>\n    <tr>\n      <th>2</th>\n      <td>55.57</td>\n      <td>0.70</td>\n      <td>0.2</td>\n      <td>0.140</td>\n      <td>0.79</td>\n      <td>0.2</td>\n      <td>0.158</td>\n      <td>1.49</td>\n      <td>5.5</td>\n      <td>0.4</td>\n      <td>...</td>\n      <td>0.2</td>\n      <td>0.4</td>\n      <td>0</td>\n      <td>0.2</td>\n      <td>0.0</td>\n      <td>2.4</td>\n      <td>3.280</td>\n      <td>0.4</td>\n      <td>0.5</td>\n      <td>0.6560</td>\n    </tr>\n    <tr>\n      <th>3</th>\n      <td>55.57</td>\n      <td>0.00</td>\n      <td>0.2</td>\n      <td>0.000</td>\n      <td>0.00</td>\n      <td>0.2</td>\n      <td>0.000</td>\n      <td>0.00</td>\n      <td>5.0</td>\n      <td>0.2</td>\n      <td>...</td>\n      <td>0.2</td>\n      <td>0.4</td>\n      <td>0</td>\n      <td>0.2</td>\n      <td>0.0</td>\n      <td>2.0</td>\n      <td>1.404</td>\n      <td>0.4</td>\n      <td>0.5</td>\n      <td>0.2808</td>\n    </tr>\n    <tr>\n      <th>4</th>\n      <td>21.61</td>\n      <td>0.29</td>\n      <td>0.2</td>\n      <td>0.058</td>\n      <td>0.33</td>\n      <td>0.2</td>\n      <td>0.066</td>\n      <td>0.62</td>\n      <td>5.0</td>\n      <td>0.2</td>\n      <td>...</td>\n      <td>0.2</td>\n      <td>0.4</td>\n      <td>0</td>\n      <td>0.2</td>\n      <td>0.0</td>\n      <td>2.0</td>\n      <td>1.524</td>\n      <td>0.4</td>\n      <td>0.5</td>\n      <td>0.3048</td>\n    </tr>\n    <tr>\n      <th>...</th>\n      <td>...</td>\n      <td>...</td>\n      <td>...</td>\n      <td>...</td>\n      <td>...</td>\n      <td>...</td>\n      <td>...</td>\n      <td>...</td>\n      <td>...</td>\n      <td>...</td>\n      <td>...</td>\n      <td>...</td>\n      <td>...</td>\n      <td>...</td>\n      <td>...</td>\n      <td>...</td>\n      <td>...</td>\n      <td>...</td>\n      <td>...</td>\n      <td>...</td>\n      <td>...</td>\n    </tr>\n    <tr>\n      <th>296</th>\n      <td>2.72</td>\n      <td>0.96</td>\n      <td>0.2</td>\n      <td>0.192</td>\n      <td>0.00</td>\n      <td>0.2</td>\n      <td>0.000</td>\n      <td>0.96</td>\n      <td>5.0</td>\n      <td>0.2</td>\n      <td>...</td>\n      <td>0.2</td>\n      <td>0.4</td>\n      <td>0</td>\n      <td>0.2</td>\n      <td>0.0</td>\n      <td>2.0</td>\n      <td>1.592</td>\n      <td>0.4</td>\n      <td>0.5</td>\n      <td>0.3184</td>\n    </tr>\n    <tr>\n      <th>297</th>\n      <td>1.85</td>\n      <td>0.60</td>\n      <td>0.2</td>\n      <td>0.120</td>\n      <td>1.08</td>\n      <td>0.4</td>\n      <td>0.432</td>\n      <td>1.68</td>\n      <td>5.0</td>\n      <td>0.2</td>\n      <td>...</td>\n      <td>0.2</td>\n      <td>0.4</td>\n      <td>0</td>\n      <td>0.2</td>\n      <td>0.0</td>\n      <td>2.6</td>\n      <td>2.018</td>\n      <td>0.4</td>\n      <td>0.5</td>\n      <td>0.4036</td>\n    </tr>\n    <tr>\n      <th>298</th>\n      <td>55.57</td>\n      <td>1.07</td>\n      <td>0.4</td>\n      <td>0.428</td>\n      <td>0.16</td>\n      <td>0.2</td>\n      <td>0.032</td>\n      <td>1.23</td>\n      <td>5.0</td>\n      <td>0.2</td>\n      <td>...</td>\n      <td>0.2</td>\n      <td>0.4</td>\n      <td>0</td>\n      <td>0.2</td>\n      <td>0.0</td>\n      <td>2.2</td>\n      <td>1.860</td>\n      <td>0.4</td>\n      <td>0.5</td>\n      <td>0.3720</td>\n    </tr>\n    <tr>\n      <th>299</th>\n      <td>1.99</td>\n      <td>0.00</td>\n      <td>0.2</td>\n      <td>0.000</td>\n      <td>0.00</td>\n      <td>0.2</td>\n      <td>0.000</td>\n      <td>0.00</td>\n      <td>5.0</td>\n      <td>0.2</td>\n      <td>...</td>\n      <td>0.2</td>\n      <td>0.4</td>\n      <td>0</td>\n      <td>0.2</td>\n      <td>0.0</td>\n      <td>2.0</td>\n      <td>1.400</td>\n      <td>0.4</td>\n      <td>0.5</td>\n      <td>0.2800</td>\n    </tr>\n    <tr>\n      <th>300</th>\n      <td>55.57</td>\n      <td>0.00</td>\n      <td>0.2</td>\n      <td>0.000</td>\n      <td>0.00</td>\n      <td>0.2</td>\n      <td>0.000</td>\n      <td>0.00</td>\n      <td>5.0</td>\n      <td>0.2</td>\n      <td>...</td>\n      <td>0.2</td>\n      <td>0.4</td>\n      <td>0</td>\n      <td>0.2</td>\n      <td>0.0</td>\n      <td>2.0</td>\n      <td>1.400</td>\n      <td>0.4</td>\n      <td>0.5</td>\n      <td>0.2800</td>\n    </tr>\n  </tbody>\n</table>\n<p>302 rows × 25 columns</p>\n</div>"
     },
     "execution_count": 216,
     "metadata": {},
     "output_type": "execute_result"
    }
   ],
   "source": [
    "full"
   ],
   "metadata": {
    "collapsed": false,
    "ExecuteTime": {
     "end_time": "2023-09-18T08:07:07.069148Z",
     "start_time": "2023-09-18T08:07:07.041381Z"
    }
   },
   "id": "a6d2b7cced4c1c8a"
  },
  {
   "cell_type": "code",
   "execution_count": 284,
   "outputs": [],
   "source": [
    "full_clean = full.drop(get_all_outliers_indexes(full.drop(columns=\"Audit_Risk\"), distance=3))"
   ],
   "metadata": {
    "collapsed": false,
    "ExecuteTime": {
     "end_time": "2023-09-18T08:27:26.010246Z",
     "start_time": "2023-09-18T08:27:25.990294Z"
    }
   },
   "id": "c724952ba9f354df"
  },
  {
   "cell_type": "code",
   "execution_count": 285,
   "outputs": [],
   "source": [
    "from sklearn.model_selection import train_test_split\n",
    "\n",
    "X_train, X_test, y_train, y_test = train_test_split(full.drop(columns=\"Audit_Risk\"), full[\"Audit_Risk\"],\n",
    "                                                    test_size=0.1, random_state=0)"
   ],
   "metadata": {
    "collapsed": false,
    "ExecuteTime": {
     "end_time": "2023-09-18T08:27:26.490040Z",
     "start_time": "2023-09-18T08:27:26.472469Z"
    }
   },
   "id": "ec700c3ffd67eaf9"
  },
  {
   "cell_type": "code",
   "execution_count": 286,
   "outputs": [
    {
     "name": "stdout",
     "output_type": "stream",
     "text": [
      "(201, 24)\n",
      "Training:\n",
      "RMSE: 90.84\n",
      "r2_score:  0.98\n",
      "Testing:\n",
      "RMSE: 38.60\n",
      "r2_score:  0.57\n"
     ]
    }
   ],
   "source": [
    "# BASE MODEL\n",
    "base_model = LinearRegression()\n",
    "print(X_train_orig.shape)\n",
    "base_model.fit(X_train, y_train)\n",
    "print(\"Training:\")\n",
    "predicted = base_model.predict(X_train)\n",
    "get_model_metrics(predicted, y_train)\n",
    "print(\"Testing:\")\n",
    "predicted = base_model.predict(X_test)\n",
    "get_model_metrics(predicted, y_test)"
   ],
   "metadata": {
    "collapsed": false,
    "ExecuteTime": {
     "end_time": "2023-09-18T08:27:26.848285Z",
     "start_time": "2023-09-18T08:27:26.831822Z"
    }
   },
   "id": "bcd54d78bebc9d42"
  },
  {
   "cell_type": "code",
   "execution_count": 287,
   "outputs": [
    {
     "name": "stdout",
     "output_type": "stream",
     "text": [
      "numbers -79.39696426260203\n",
      "numbers : from  7.237  to  3.556\n",
      "Score_B.1 -51.71287155422162\n",
      "Score_B.1 : from  3.365  to  2.858\n",
      "Risk_C -16.717017631483323\n",
      "Risk_C : from  4.069  to  2.698\n",
      "District_Loss -8.516906197376233\n",
      "District_Loss : from  2.206  to  1.884\n",
      "PROB -361.26869017998325\n",
      "PROB : from  9.68  to  8.461\n",
      "RiSk_E -14.921448887310929\n",
      "RiSk_E : from  2.084  to  1.788\n",
      "History -15.232586012636943\n",
      "History : from  6.149  to  3.28\n",
      "Prob -69.75857554807607\n",
      "Prob : from  4.033  to  3.468\n",
      "Risk_F -25.25941542497374\n",
      "Risk_F : from  7.002  to  3.334\n",
      "CONTROL_RISK -9.61466651545462\n",
      "CONTROL_RISK : from  3.79  to  1.447\n"
     ]
    }
   ],
   "source": [
    "lambdas = {}\n",
    "transformed_data = pd.DataFrame.copy(X_train)\n",
    "transformed_data.skew()\n",
    "for col in transformed_data.columns:\n",
    "    if np.abs(transformed_data[col].skew()) > 1.5:\n",
    "        transformed_var, lmd = stats.boxcox(transformed_data[col] + 1)\n",
    "        if np.abs(lmd) > 5:\n",
    "            print(col, lmd)\n",
    "            lmd = 5 if lmd > 0 else -5\n",
    "            transformed_var = stats.boxcox(transformed_data[col] + 1, lmbda=lmd)\n",
    "            print(col, \": from \", X_train[col].skew().round(3),\" to \", pd.DataFrame(transformed_var).skew()[0].round(3))\n",
    "        transformed_data[col] = transformed_var\n",
    "        lambdas[col] = lmd"
   ],
   "metadata": {
    "collapsed": false,
    "ExecuteTime": {
     "end_time": "2023-09-18T08:27:27.364903Z",
     "start_time": "2023-09-18T08:27:27.343127Z"
    }
   },
   "id": "128d29e1b2e8cce4"
  },
  {
   "cell_type": "code",
   "execution_count": 288,
   "outputs": [],
   "source": [
    "def transform_input_1(data):\n",
    "    transformed = pd.DataFrame.copy(data)\n",
    "    for col in data.columns:\n",
    "        if col in lambdas.keys():\n",
    "            transformed_var = stats.boxcox(transformed[col] + 1, lmbda=lambdas[col])\n",
    "            transformed[col] = transformed_var\n",
    "    return transformed"
   ],
   "metadata": {
    "collapsed": false,
    "ExecuteTime": {
     "end_time": "2023-09-18T08:27:27.980933Z",
     "start_time": "2023-09-18T08:27:27.969783Z"
    }
   },
   "id": "b318551af5ebe679"
  },
  {
   "cell_type": "code",
   "execution_count": 314,
   "outputs": [],
   "source": [
    "x_test_2 = X_test[y_test < 3]\n",
    "y_test_2 = y_test[y_test < 3]\n",
    "\n",
    "# y_test.drop(out.index)"
   ],
   "metadata": {
    "collapsed": false,
    "ExecuteTime": {
     "end_time": "2023-09-18T08:35:38.106652Z",
     "start_time": "2023-09-18T08:35:38.093323Z"
    }
   },
   "id": "3cc54054370061d4"
  },
  {
   "cell_type": "code",
   "execution_count": 315,
   "outputs": [
    {
     "name": "stdout",
     "output_type": "stream",
     "text": [
      "Training:\n",
      "RMSE: 1503.95\n",
      "r2_score:  0.60\n",
      "Testing:\n",
      "RMSE: 210620822300906.50\n",
      "r2_score:  -1152026287713177.00\n"
     ]
    }
   ],
   "source": [
    "# BOX COX MODEL\n",
    "bc_model = LinearRegression()\n",
    "trans_x_train = transform_input_1(X_train)\n",
    "\n",
    "trans_x_test = transform_input_1(x_test_2)\n",
    "\n",
    "bc_model.fit(trans_x_train, y_train)\n",
    "print(\"Training:\")\n",
    "predicted = bc_model.predict(trans_x_train)\n",
    "get_model_metrics(y_train, predicted)\n",
    "\n",
    "print(\"Testing:\")\n",
    "predicted = bc_model.predict(x_test_2)\n",
    "get_model_metrics(y_test_2, predicted)   "
   ],
   "metadata": {
    "collapsed": false,
    "ExecuteTime": {
     "end_time": "2023-09-18T08:35:38.426432Z",
     "start_time": "2023-09-18T08:35:38.410869Z"
    }
   },
   "id": "ef72e414066360a5"
  },
  {
   "cell_type": "code",
   "execution_count": 291,
   "outputs": [
    {
     "data": {
      "text/plain": "count    271.000000\nmean      10.357866\nstd       61.661521\nmin        0.280000\n25%        0.314600\n50%        0.549200\n75%        2.913200\nmax      961.514400\nName: Audit_Risk, dtype: float64"
     },
     "execution_count": 291,
     "metadata": {},
     "output_type": "execute_result"
    }
   ],
   "source": [
    "y_train.describe()"
   ],
   "metadata": {
    "collapsed": false,
    "ExecuteTime": {
     "end_time": "2023-09-18T08:28:10.509824Z",
     "start_time": "2023-09-18T08:28:10.501025Z"
    }
   },
   "id": "72cd32fa2f58dfab"
  },
  {
   "cell_type": "code",
   "execution_count": 295,
   "outputs": [
    {
     "data": {
      "text/plain": "271"
     },
     "execution_count": 295,
     "metadata": {},
     "output_type": "execute_result"
    }
   ],
   "source": [
    "np.sum(y_train > 0)"
   ],
   "metadata": {
    "collapsed": false,
    "ExecuteTime": {
     "end_time": "2023-09-18T08:29:00.715746Z",
     "start_time": "2023-09-18T08:29:00.696402Z"
    }
   },
   "id": "262f26e3e4ae07fe"
  },
  {
   "cell_type": "code",
   "execution_count": null,
   "outputs": [],
   "source": [],
   "metadata": {
    "collapsed": false
   },
   "id": "7777f99508a26e84"
  }
 ],
 "metadata": {
  "kernelspec": {
   "display_name": "Python 3",
   "language": "python",
   "name": "python3"
  },
  "language_info": {
   "codemirror_mode": {
    "name": "ipython",
    "version": 2
   },
   "file_extension": ".py",
   "mimetype": "text/x-python",
   "name": "python",
   "nbconvert_exporter": "python",
   "pygments_lexer": "ipython2",
   "version": "2.7.6"
  }
 },
 "nbformat": 4,
 "nbformat_minor": 5
}
